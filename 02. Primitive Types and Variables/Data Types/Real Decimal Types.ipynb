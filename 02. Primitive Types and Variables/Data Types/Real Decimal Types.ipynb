{
 "cells": [
  {
   "cell_type": "markdown",
   "metadata": {},
   "source": [
    "# 2. Primative Types and Variables"
   ]
  },
  {
   "cell_type": "markdown",
   "metadata": {},
   "source": [
    "## Real Types with Decimal Precision\n",
    "#### *In **decimal** floating-point arithmetic numbers are represented via the decimal numeral system rather than the binary one.* \n",
    "\n",
    "#### *Thus, the `decimal` floating point-arithmetic type in C# **does not lose accuracy** when storing and processing floating-point numbers.*\n",
    "![you fucked up](../_img/CSharp_Real_Decimal_Types.jpg)\n",
    "\n",
    "---"
   ]
  },
  {
   "cell_type": "markdown",
   "metadata": {},
   "source": [
    "### `decimal` :\n",
    "A **128-bit decimal** type.  \n",
    "\n",
    "The real numbers of type `decimal` are extremely convenient for *financial calculations* – calculation of *revenues*, *duties*, *taxes*, *interests*, *payments*, etc. \n",
    "  \n",
    "It provides precision up to **28 digits**.  \n",
    "  \n",
    "For instance, if the number $0.12345678901234567890123456789$ is stored as type `decimal` it will be *rounded*:\n",
    "\n",
    "\n"
   ]
  },
  {
   "cell_type": "code",
   "execution_count": null,
   "metadata": {
    "dotnet_interactive": {
     "language": "csharp"
    }
   },
   "outputs": [
    {
     "data": {
      "text/html": [
       "<div class=\"dni-plaintext\">0.1234567890123456789012345678</div>"
      ]
     },
     "metadata": {},
     "output_type": "display_data"
    }
   ],
   "source": [
    "// decimal literals end with an 'm' modifier\n",
    "0.1234567890123456789012345678m"
   ]
  },
  {
   "cell_type": "code",
   "execution_count": null,
   "metadata": {
    "dotnet_interactive": {
     "language": "csharp"
    }
   },
   "outputs": [
    {
     "data": {
      "text/html": [
       "<div class=\"dni-plaintext\">-79228162514264337593543950335</div>"
      ]
     },
     "metadata": {},
     "output_type": "display_data"
    }
   ],
   "source": [
    "// Min Value\n",
    "decimal.MinValue"
   ]
  },
  {
   "cell_type": "code",
   "execution_count": null,
   "metadata": {
    "dotnet_interactive": {
     "language": "csharp"
    }
   },
   "outputs": [
    {
     "data": {
      "text/html": [
       "<div class=\"dni-plaintext\">79228162514264337593543950335</div>"
      ]
     },
     "metadata": {},
     "output_type": "display_data"
    }
   ],
   "source": [
    "// Max Value\n",
    "decimal.MaxValue"
   ]
  },
  {
   "cell_type": "code",
   "execution_count": null,
   "metadata": {
    "dotnet_interactive": {
     "language": "csharp"
    }
   },
   "outputs": [
    {
     "name": "stdout",
     "output_type": "stream",
     "text": [
      "0\r\n"
     ]
    }
   ],
   "source": [
    "// Default Value\n",
    "decimal Default_decimal_Value = 0m;\n",
    "\n",
    "Console.WriteLine(  \n",
    "    Default_decimal_Value\n",
    ");"
   ]
  },
  {
   "cell_type": "markdown",
   "metadata": {},
   "source": [
    "As *all calculations with data of type* `decimal` *are done completely by software, rather than directly at a low microprocessor level*, the calculations of this type are from **several tens to hundreds of times slower** than the same calculations with `double`, so use this type only when it is really necessary."
   ]
  }
 ],
 "metadata": {
  "kernelspec": {
   "display_name": ".NET (C#)",
   "language": "C#",
   "name": ".net-csharp"
  },
  "language_info": {
   "file_extension": ".cs",
   "mimetype": "text/x-csharp",
   "name": "C#",
   "pygments_lexer": "csharp",
   "version": "9.0"
  },
  "orig_nbformat": 4
 },
 "nbformat": 4,
 "nbformat_minor": 2
}
