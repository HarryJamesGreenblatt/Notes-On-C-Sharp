{
 "cells": [
  {
   "cell_type": "markdown",
   "metadata": {},
   "source": [
    "# 2. Primative Types and Variables"
   ]
  },
  {
   "cell_type": "markdown",
   "metadata": {},
   "source": [
    "## Exercises\n",
    "\n",
    "---\n",
    "---"
   ]
  },
  {
   "cell_type": "markdown",
   "metadata": {},
   "source": [
    "##### $1)\\,\\,$*Declare several **variables*** by selecting for each one of them the most appropriate of the types `sbyte`, `byte`, `short`, `ushort`, `int`, `uint`, `long` and `ulong` in order to assign them the following values: \n",
    "$$\\text{a) } 52,130$$\n",
    "$$\\text{b) } -115$$\n",
    "$$\\text{c) } 4825932$$\n",
    "$$\\text{d) } 97$$\n",
    "$$\\text{e) } -10000$$\n",
    "$$\\text{f) } 20000$$\n",
    "$$\\text{g) } 224$$\n",
    "$$\\text{h) } 970,700,000$$\n",
    "$$\\text{i) } 112$$\n",
    "$$\\text{j) } -44$$\n",
    "$$\\text{k) } -1,000,000$$\n",
    "$$\\text{l) } 1990$$"
   ]
  },
  {
   "cell_type": "markdown",
   "metadata": {},
   "source": [
    ">$Recall from\\,\\,\\,\\,\\,\\,$ [Data Types Overview](/_Data_Types_Overview.ipynb):  \n",
    ">  \n",
    ">The table below represents the above mentioned *data types*, their *range* and their *default values*:\n",
    ">  \n",
    ">|Data Type|Default Value|Minimum Value|Maximum Value|\n",
    ">|---------|-------------|-------------|-------------|\n",
    ">|`sbyte`|0|-128|127|\n",
    ">|`byte`|0|0|255|\n",
    ">|`short`|0|-32768|32767|\n",
    ">|`ushort`|0|0|65535|\n",
    ">|`int`|0|-2147483648|2147483647|\n",
    ">|`uint`|`0u`|0|4294967295|\n",
    ">|`long`|`0L`|-9223372036854775808|9223372036854775807|\n",
    ">|`ulong`|`0u`|0|18446744073709551615|\n",
    "\n",
    "<br>  \n",
    "\n",
    "> $\\text{Consequently}$,\n",
    "<br>\n",
    "  \n",
    "\n",
    "$\\begin{equation}\n",
    "\t\\begin{split}\n",
    "\t\\text{\\bf{a}) } 52,130 & \\longrightarrow \\text{\\bf{ushort }} (0 \\ldots 65535)\\\\\n",
    "\t\\text{\\bf{b}) } -115   & \\longrightarrow \\text{\\bf{sbyte }} (-128 \\ldots 127)\\\\\n",
    "\t\\text{\\bf{c}) } 4825932 & \\longrightarrow \\text{\\bf{int }} (-2147483648 \\ldots 2147483647)\\\\\n",
    "\t\\text{\\bf{d}) } 97   & \\longrightarrow \\text{\\bf{byte }} (0 \\ldots 255)\\\\\n",
    "\t\\text{\\bf{e}) } -10000   & \\longrightarrow \\text{\\bf{short }} (-32768 \\ldots 32767)\\\\\n",
    "\t\\text{\\bf{f}) } 20000   & \\longrightarrow \\text{\\bf{ushort }} (0 \\ldots 65535)\\\\\n",
    "\t\\text{\\bf{g}) } 224   & \\longrightarrow \\text{\\bf{byte }} (0 \\ldots 255)\\\\\n",
    "\t\\text{\\bf{h}) } 970,700,000   & \\longrightarrow \\text{\\bf{int }} (-2147483648 \\ldots 2147483647)\\\\\n",
    "\t\\text{\\bf{i}) } 112   & \\longrightarrow \\text{\\bf{byte }} (0 \\ldots 255)\\\\\n",
    "\t\\text{\\bf{j}) } -44   & \\longrightarrow \\text{\\bf{sbyte }} (-128 \\ldots 127)\\\\\n",
    "\t\\text{\\bf{k}) } -1,000,000   & \\longrightarrow \\text{\\bf{int }} (-2147483648 \\ldots 2147483647)\\\\\n",
    "\t\\text{\\bf{l}) } 1990   & \\longrightarrow \\text{\\bf{ushort }} (0 \\ldots 65535)\\\\\n",
    "\t\\end{split}\n",
    "\t\\tag{a - l}\n",
    "\\end{equation}$\n",
    "> $\\text{As Such}$,   \n",
    "> The *most appropriate **variable** declarations* are as follows:"
   ]
  },
  {
   "cell_type": "code",
   "execution_count": null,
   "metadata": {
    "dotnet_interactive": {
     "language": "csharp"
    },
    "vscode": {
     "languageId": "dotnet-interactive.csharp"
    }
   },
   "outputs": [],
   "source": [
    "ushort a  =  52130;\n",
    "sbyte  b  =  -115;\n",
    "int    c  =  4825932;\n",
    "byte   d  =  97;\n",
    "short  e  =  -10000;\n",
    "ushort f  =  20000;\n",
    "byte   g  =  224;\n",
    "int    h  =  970_700_000;\n",
    "byte   i  =  112;\n",
    "sbyte  j  =  -44;\n",
    "int    k  =  -1000000;\n",
    "ushort l  =  1990;"
   ]
  },
  {
   "cell_type": "markdown",
   "metadata": {},
   "source": [
    "--- "
   ]
  },
  {
   "cell_type": "markdown",
   "metadata": {},
   "source": [
    "##### $2)\\,\\,$ Which of the following values should be assigned to variables of type `float`, `double` and `decimal`:\n",
    "$$\\text{a) } 5$$\n",
    "$$\\text{b) } -5.01$$\n",
    "$$\\text{c) } 34.567839023$$\n",
    "$$\\text{d) } 12.345$$\n",
    "$$\\text{e) } 8923.1234857$$\n",
    "$$\\text{f) } 3456.091124875956542151256683467$$\n"
   ]
  },
  {
   "cell_type": "markdown",
   "metadata": {},
   "source": [
    ">$Recall from\\,\\,\\,\\,\\,\\,$ [Data Types Overview](/_Data_Types_Overview.ipynb):  \n",
    ">  \n",
    ">The table below represents the above mentioned *data types*, their *range* and their *default values*:\n",
    ">  \n",
    ">|Data Type|Default Value|Minimum Value|Maximum Value|\n",
    ">|---------|-------------|-------------|-------------|\n",
    ">|`float`|`0.0f`|$\\pm1.5\\times10^{-45}$|$\\pm3.4\\times10^{38}$|\n",
    ">|`double`|`0.0d`|$\\pm5.0\\times10^{-324}$|$\\pm1.7\\times10^{308}$|\n",
    ">|`decimal`|`0.0m`|$\\pm1.0\\times10^{-28}$|$\\pm7.9\\times10^{28}$|\n",
    "\n",
    "<br>  \n",
    "\n",
    "> $\\text{Consequently}$,\n",
    "<br>\n",
    "  \n",
    "$\\begin{equation}\n",
    "\t\\begin{split}\n",
    "\t\\text{\\bf{a}) } 5 & \\longrightarrow \\text{\\bf{float }} (\\text{Up to 7 Decimal Places})\\\\\n",
    "\t\\text{\\bf{b}) } 5.01 & \\longrightarrow \\text{\\bf{float }} (\\text{Up to 7 Decimal Places})\\\\\n",
    "\t\\text{\\bf{c}) } 34.567839023 & \\longrightarrow \\text{\\bf{double }} (\\text{Up to 16 Decimal Places})\\\\\n",
    "\t\\text{\\bf{d}) } 12.345 & \\longrightarrow \\text{\\bf{float }} (\\text{Up to 7 Decimal Places})\\\\\n",
    "\t\\text{\\bf{e}) } 8923.1234857 & \\longrightarrow \\text{\\bf{double }} (\\text{Up to 16 Decimal Places})\\\\\n",
    "\t\\text{\\bf{f}) } 3456.091124875956542151256683467 & \\longrightarrow \\text{\\bf{decimal }} (\\text{Up to 28 Decimal Places})\\\\\n",
    "\t\\end{split}\n",
    "\t\\tag{a - e}\n",
    "\\end{equation}$\n",
    "> $\\text{As Such}$,   \n",
    "> The *most appropriate **variable** assignments* are as follows:"
   ]
  },
  {
   "cell_type": "code",
   "execution_count": null,
   "metadata": {
    "dotnet_interactive": {
     "language": "csharp"
    },
    "vscode": {
     "languageId": "dotnet-interactive.csharp"
    }
   },
   "outputs": [],
   "source": [
    "float   a  =  5f;  \n",
    "float   b  =  5.01f;\n",
    "double  c  =  34.567839023d;\n",
    "float   d  =  12.345f;\n",
    "double  e  =  8923.1234857d;\n",
    "decimal f  =  3456.091124875956542151256683467m;"
   ]
  },
  {
   "cell_type": "markdown",
   "metadata": {},
   "source": [
    "---"
   ]
  },
  {
   "cell_type": "markdown",
   "metadata": {},
   "source": [
    "##### $3)\\,\\,$ Write a **program** which correctly *compares two **real** numbers* with accuracy of at least $0.000001$."
   ]
  },
  {
   "cell_type": "markdown",
   "metadata": {},
   "source": [
    ">Two floating-point variables are considered equal if their difference is less than some predefined precision (e.g. $0.000001$)\n",
    "<br>  \n",
    "\n",
    "> $\\text{As Such}$,   \n",
    "> One possible *implmenetation* of the desired **program** is as follows:"
   ]
  },
  {
   "cell_type": "code",
   "execution_count": null,
   "metadata": {
    "dotnet_interactive": {
     "language": "csharp"
    },
    "vscode": {
     "languageId": "dotnet-interactive.csharp"
    }
   },
   "outputs": [],
   "source": [
    "bool equals = Math.Abs(a - b) < 0.000_001;"
   ]
  },
  {
   "cell_type": "markdown",
   "metadata": {
    "dotnet_interactive": {
     "language": "csharp"
    }
   },
   "source": [
    ">###### *for some* $a,b\\in \\mathbb{R}$ \n",
    "\n",
    "---"
   ]
  },
  {
   "cell_type": "markdown",
   "metadata": {},
   "source": [
    "##### $4)\\,\\,$ *Initialize* a variable of type `int` with a value of $256$ in $hexadecimal$ format   "
   ]
  },
  {
   "cell_type": "markdown",
   "metadata": {},
   "source": [
    "> Observe that $256_{10}$ = $\\bf{100_{16}}$:"
   ]
  },
  {
   "cell_type": "code",
   "execution_count": null,
   "metadata": {
    "dotnet_interactive": {
     "language": "csharp"
    },
    "vscode": {
     "languageId": "dotnet-interactive.csharp"
    }
   },
   "outputs": [
    {
     "data": {
      "text/plain": [
       "100"
      ]
     },
     "metadata": {},
     "output_type": "display_data"
    }
   ],
   "source": [
    "Convert.ToString(\n",
    "    int.Parse(\"256\"),\n",
    "    16\n",
    ")"
   ]
  },
  {
   "cell_type": "markdown",
   "metadata": {},
   "source": [
    "> $\\text{As Such}$,   \n",
    "> The *initialization* of the variable should be done as follows:"
   ]
  },
  {
   "cell_type": "code",
   "execution_count": null,
   "metadata": {
    "dotnet_interactive": {
     "language": "csharp"
    },
    "vscode": {
     "languageId": "dotnet-interactive.csharp"
    }
   },
   "outputs": [
    {
     "data": {
      "text/html": [
       "<div class=\"dni-plaintext\">256</div>"
      ]
     },
     "metadata": {},
     "output_type": "display_data"
    }
   ],
   "source": [
    "int twoFiftySix_in_hex = 0x000100;\n",
    "\n",
    "twoFiftySix_in_hex"
   ]
  },
  {
   "cell_type": "markdown",
   "metadata": {},
   "source": [
    "---"
   ]
  },
  {
   "cell_type": "markdown",
   "metadata": {},
   "source": [
    "##### $5)\\,\\,$ *Declare a **variable*** of type `char` and assign to it the value of the character which has *Unicode code `72`*"
   ]
  },
  {
   "cell_type": "markdown",
   "metadata": {},
   "source": [
    ">$Recall from\\,\\,\\,\\,\\,\\,$ [Data Types Overview](/_Data_Types_Overview.ipynb):  \n",
    ">  \n",
    ">The table below represents the above mentioned *data types*, their *range* and their *default values*:\n",
    ">  \n",
    ">|Data Type|Default Value|Minimum Value|Maximum Value|\n",
    ">|---------|-------------|-------------|-------------|\n",
    ">|`char`|`'\\u0000'`|`'\\u0000'`|`'\\uffff'`|"
   ]
  },
  {
   "cell_type": "markdown",
   "metadata": {},
   "source": [
    ">$Additionally$,  \n",
    "> Observe that $72_{10}$ = $\\bf{48_{16}}$:"
   ]
  },
  {
   "cell_type": "code",
   "execution_count": null,
   "metadata": {
    "dotnet_interactive": {
     "language": "csharp"
    },
    "vscode": {
     "languageId": "dotnet-interactive.csharp"
    }
   },
   "outputs": [
    {
     "data": {
      "text/plain": [
       "48"
      ]
     },
     "metadata": {},
     "output_type": "display_data"
    }
   ],
   "source": [
    "Convert.ToString(\n",
    "    int.Parse(\"72\"),\n",
    "    16\n",
    ")"
   ]
  },
  {
   "cell_type": "markdown",
   "metadata": {},
   "source": [
    "> $\\text{As Such}$,   \n",
    "> The ***variable*** should be *declared* as follows:"
   ]
  },
  {
   "cell_type": "code",
   "execution_count": null,
   "metadata": {
    "dotnet_interactive": {
     "language": "csharp"
    },
    "vscode": {
     "languageId": "dotnet-interactive.csharp"
    }
   },
   "outputs": [
    {
     "data": {
      "text/html": [
       "<div class=\"dni-plaintext\">H</div>"
      ]
     },
     "metadata": {},
     "output_type": "display_data"
    }
   ],
   "source": [
    "char seventyTwo_in_Unicode = '\\u0048';\n",
    "\n",
    "seventyTwo_in_Unicode"
   ]
  },
  {
   "cell_type": "markdown",
   "metadata": {},
   "source": [
    "---"
   ]
  },
  {
   "cell_type": "markdown",
   "metadata": {},
   "source": [
    "##### $6)\\,\\,$ *Declare a **variable*** `isMale` of type `bool` and assign a value to it *depending on your gender*."
   ]
  },
  {
   "cell_type": "code",
   "execution_count": null,
   "metadata": {
    "dotnet_interactive": {
     "language": "csharp"
    },
    "vscode": {
     "languageId": "dotnet-interactive.csharp"
    }
   },
   "outputs": [],
   "source": [
    "// ...i think i'm a male\n",
    "bool isMale = true;"
   ]
  },
  {
   "cell_type": "markdown",
   "metadata": {},
   "source": [
    "---"
   ]
  },
  {
   "cell_type": "markdown",
   "metadata": {},
   "source": [
    "##### $7)\\,\\,$ *Declare **two variables*** of type `string` with values `\"Hello\"` and `\"World\"`.\n",
    "##### $\\,\\,\\,\\,\\,\\,\\,$ *Declare a **variable*** of type `object`.\n",
    "##### $\\,\\,\\,\\,\\,\\,\\,$ Assign the value obtained of *concatenation of the two string variables*.\n",
    "##### $\\,\\,\\,\\,\\,\\,\\,$ *Print* the ***variable*** of type `object`."
   ]
  },
  {
   "cell_type": "code",
   "execution_count": null,
   "metadata": {
    "dotnet_interactive": {
     "language": "csharp"
    },
    "vscode": {
     "languageId": "dotnet-interactive.csharp"
    }
   },
   "outputs": [
    {
     "data": {
      "text/plain": [
       "Hello World"
      ]
     },
     "metadata": {},
     "output_type": "display_data"
    }
   ],
   "source": [
    "// two string type variables\n",
    "string  hello_ = \"Hello \", \n",
    "        world = \"World\";\n",
    "\n",
    "// object type variable\n",
    "object hello_world = hello_ + world;\n",
    "\n",
    "\n",
    "hello_world"
   ]
  },
  {
   "cell_type": "markdown",
   "metadata": {},
   "source": [
    "---"
   ]
  },
  {
   "cell_type": "markdown",
   "metadata": {},
   "source": [
    "##### $8)\\,\\,$ *Declare **two** **variables*** of type `string` and give them values `\"Hello\"` and `\"World\"`.  \n",
    "##### $\\,\\,\\,\\,\\,\\,\\,$  Assign the value obtained by the *concatenation of the two variables* of type `string` to a ***variable*** of type `object`.   \n",
    "##### $\\,\\,\\,\\,\\,\\,\\,$  *Declare a **forth** **variable*** of type `string` and *initialize* it with the value of the variable of type `object` (you should use type casting)..\n"
   ]
  },
  {
   "cell_type": "code",
   "execution_count": null,
   "metadata": {
    "dotnet_interactive": {
     "language": "csharp"
    },
    "vscode": {
     "languageId": "dotnet-interactive.csharp"
    }
   },
   "outputs": [
    {
     "data": {
      "text/html": [
       "<span><a href=\"https://docs.microsoft.com/dotnet/api/system.string?view=net-5.0\">System.String</a></span>"
      ]
     },
     "metadata": {},
     "output_type": "display_data"
    }
   ],
   "source": [
    "// two string type variables\n",
    "string  hello_ = \"Hello \", \n",
    "        world = \"World\";\n",
    "\n",
    "// object type variable\n",
    "object hello_world = hello_ + world;\n",
    "\n",
    "\n",
    "// casting the object to a string\n",
    "string objectToString = (string) hello_world;\n",
    "\n",
    "\n",
    "objectToString.GetType()"
   ]
  },
  {
   "cell_type": "markdown",
   "metadata": {},
   "source": [
    "---"
   ]
  },
  {
   "cell_type": "markdown",
   "metadata": {},
   "source": [
    "##### $9)\\,\\,$ *Declare two **variables*** of type `string` and assign them a value `The \"use\" of quotations causes difficulties`.  \n",
    "    \n",
    "##### $\\,\\,\\,\\,\\,\\,\\,$ In one of the ***variables*** *use quoted string*, and in the other *do not use it*.  \n"
   ]
  },
  {
   "cell_type": "code",
   "execution_count": null,
   "metadata": {
    "dotnet_interactive": {
     "language": "csharp"
    },
    "vscode": {
     "languageId": "dotnet-interactive.csharp"
    }
   },
   "outputs": [],
   "source": [
    "public string  with_Quotes    = @\"The \"\"use\"\" of quotations causes difficulties.\",\n",
    "               without_Quotes = \"The use of quotations causes difficulties.\";"
   ]
  },
  {
   "cell_type": "code",
   "execution_count": null,
   "metadata": {
    "dotnet_interactive": {
     "language": "csharp"
    },
    "vscode": {
     "languageId": "dotnet-interactive.csharp"
    }
   },
   "outputs": [
    {
     "data": {
      "text/plain": [
       "The \"use\" of quotations causes difficulties."
      ]
     },
     "metadata": {},
     "output_type": "display_data"
    }
   ],
   "source": [
    "with_Quotes"
   ]
  },
  {
   "cell_type": "code",
   "execution_count": null,
   "metadata": {
    "dotnet_interactive": {
     "language": "csharp"
    },
    "vscode": {
     "languageId": "dotnet-interactive.csharp"
    }
   },
   "outputs": [
    {
     "data": {
      "text/plain": [
       "The use of quotations causes difficulties."
      ]
     },
     "metadata": {},
     "output_type": "display_data"
    }
   ],
   "source": [
    "without_Quotes"
   ]
  },
  {
   "cell_type": "markdown",
   "metadata": {},
   "source": [
    "---"
   ]
  },
  {
   "cell_type": "markdown",
   "metadata": {},
   "source": [
    "##### $10)\\,\\,$ Write a *program* to **print** a *figure in the shape of a heart* by the character `o`."
   ]
  },
  {
   "cell_type": "code",
   "execution_count": null,
   "metadata": {
    "dotnet_interactive": {
     "language": "csharp"
    },
    "vscode": {
     "languageId": "dotnet-interactive.csharp"
    }
   },
   "outputs": [
    {
     "name": "stdout",
     "output_type": "stream",
     "text": [
      "\r\n",
      "  ooo    ooo\r\n",
      "ooooooooooo\r\n",
      "  ooooooooo\r\n",
      "      ooooo\r\n",
      "           o\r\n"
     ]
    }
   ],
   "source": [
    "Console.WriteLine(@\"\n",
    "  ooo    ooo\n",
    "ooooooooooo\n",
    "  ooooooooo\n",
    "      ooooo\n",
    "           o\");"
   ]
  },
  {
   "cell_type": "markdown",
   "metadata": {},
   "source": [
    "---"
   ]
  },
  {
   "cell_type": "markdown",
   "metadata": {},
   "source": [
    "##### $11)\\,\\,$ Write a *program* to **print** a *figure in the shape of an isosceles triangle* by the character $^\\copyright$."
   ]
  },
  {
   "cell_type": "markdown",
   "metadata": {},
   "source": [
    ">$Recall from\\,\\,\\,\\,\\,\\,$ [Data Types Overview](/_Data_Types_Overview.ipynb):  \n",
    ">  \n",
    ">The table below represents the above mentioned *data types*, their *range* and their *default values*:\n",
    ">  \n",
    ">|Data Type|Default Value|Minimum Value|Maximum Value|\n",
    ">|---------|-------------|-------------|-------------|\n",
    ">|`char`|`'\\u0000'`|`'\\u0000'`|`'\\uffff'`|"
   ]
  },
  {
   "cell_type": "markdown",
   "metadata": {},
   "source": [
    ">$Additionally$,  \n",
    "> As can be verified [here at this random site on the internet](https://www.compart.com/en/unicode/U+00A9),  \n",
    "> the *Unicode number* for the $\\copyright$ character is `\\u00a9`:"
   ]
  },
  {
   "cell_type": "code",
   "execution_count": null,
   "metadata": {
    "dotnet_interactive": {
     "language": "csharp"
    },
    "vscode": {
     "languageId": "dotnet-interactive.csharp"
    }
   },
   "outputs": [
    {
     "data": {
      "text/html": [
       "<div class=\"dni-plaintext\">&#169;</div>"
      ]
     },
     "metadata": {},
     "output_type": "display_data"
    }
   ],
   "source": [
    "'\\u00a9'"
   ]
  },
  {
   "cell_type": "markdown",
   "metadata": {},
   "source": [
    "> $\\text{As Such}$,   \n",
    "> The *one possible implementation of the **program*** may possibly be as follows:"
   ]
  },
  {
   "cell_type": "code",
   "execution_count": null,
   "metadata": {
    "dotnet_interactive": {
     "language": "csharp"
    },
    "vscode": {
     "languageId": "dotnet-interactive.csharp"
    }
   },
   "outputs": [
    {
     "name": "stdout",
     "output_type": "stream",
     "text": [
      "\r\n",
      "©\r\n",
      "©©\r\n",
      "©©©\r\n",
      "©©©©\r\n",
      "\r\n"
     ]
    }
   ],
   "source": [
    "char _ = '\\u00a9';\n",
    "\n",
    "Console.WriteLine($@\"\n",
    "{_}\n",
    "{_}{_}\n",
    "{_}{_}{_}\n",
    "{_}{_}{_}{_}\n",
    "\");"
   ]
  },
  {
   "cell_type": "markdown",
   "metadata": {},
   "source": [
    "---"
   ]
  },
  {
   "cell_type": "markdown",
   "metadata": {},
   "source": [
    "##### $12)\\,\\,$ A company dealing with marketing wants to *keep a data record of its employees*.   \n",
    "##### $\\,\\,\\,\\,\\,\\,\\,$ Each record should have the following *characteristics*:\n",
    "$$\\text{first name}$$\n",
    "$$\\text{last name}$$\n",
    "$$\\text{age}$$\n",
    "$$\\text{gender (‘m’ or ‘f’)}$$\n",
    "$$\\text{unique employee number (27560000 to 27569999)}$$\n",
    "   \n",
    "##### $\\,\\,\\,\\,\\,\\,\\,$ *Declare appropriate **variables*** needed to maintain the information for an employee by using the *appropriate data types* and *attribute names*.."
   ]
  },
  {
   "cell_type": "markdown",
   "metadata": {},
   "source": [
    ">$Recall from\\,\\,\\,\\,\\,\\,$ [Data Types Overview](/_Data_Types_Overview.ipynb):  \n",
    ">  \n",
    ">The table below represents the above mentioned *data types*, their *range* and their *default values*:\n",
    ">  \n",
    ">|Data Type|Default Value|Minimum Value|Maximum Value|\n",
    ">|---------|-------------|-------------|-------------|\n",
    ">|`byte`|0|0|255|\n",
    ">|`int`|0|-2147483648|2147483647|\n",
    ">|`string`|`null`|-|-| Value|Maximum Value|"
   ]
  },
  {
   "cell_type": "markdown",
   "metadata": {},
   "source": [
    "> $\\text{As Such}$,   \n",
    "> The ***variables*** should be *declared* as follows:"
   ]
  },
  {
   "cell_type": "code",
   "execution_count": null,
   "metadata": {
    "dotnet_interactive": {
     "language": "csharp"
    },
    "vscode": {
     "languageId": "dotnet-interactive.csharp"
    }
   },
   "outputs": [],
   "source": [
    "int     unique_employee_number;\n",
    "string  first_name,\n",
    "        last_name,\n",
    "        gender;\n",
    "byte    age;"
   ]
  },
  {
   "cell_type": "markdown",
   "metadata": {},
   "source": [
    "---"
   ]
  },
  {
   "cell_type": "markdown",
   "metadata": {},
   "source": [
    "##### $13)\\,\\,$ *Declare **two variables*** of type `int`.   \n",
    "##### $\\,\\,\\,\\,\\,\\,\\,$ Assign to them values $5$ and $10$ respectively.   \n",
    "##### $\\,\\,\\,\\,\\,\\,\\,$ *Exchange (swap) their values* and **print** them.  "
   ]
  },
  {
   "cell_type": "code",
   "execution_count": null,
   "metadata": {
    "dotnet_interactive": {
     "language": "csharp"
    },
    "vscode": {
     "languageId": "dotnet-interactive.csharp"
    }
   },
   "outputs": [
    {
     "name": "stdout",
     "output_type": "stream",
     "text": [
      "five is now (10)\n",
      "ten is now (5)\r\n"
     ]
    }
   ],
   "source": [
    "int five = 5, ten  = 10, temp;\n",
    "\n",
    "temp = five;\n",
    "five = ten;\n",
    "ten = temp;\n",
    "\n",
    "Console.WriteLine(\n",
    "    $\"five is now ({five})\\nten is now ({ten})\"\n",
    ");"
   ]
  },
  {
   "cell_type": "markdown",
   "metadata": {},
   "source": [
    "---"
   ]
  }
 ],
 "metadata": {
  "kernelspec": {
   "display_name": ".NET (C#)",
   "language": "C#",
   "name": ".net-csharp"
  },
  "language_info": {
   "file_extension": ".cs",
   "mimetype": "text/x-csharp",
   "name": "C#",
   "pygments_lexer": "csharp",
   "version": "9.0"
  },
  "orig_nbformat": 4
 },
 "nbformat": 4,
 "nbformat_minor": 2
}
