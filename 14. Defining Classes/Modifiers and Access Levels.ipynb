{
 "cells": [
  {
   "attachments": {},
   "cell_type": "markdown",
   "metadata": {
    "dotnet_interactive": {
     "language": "csharp"
    },
    "polyglot_notebook": {
     "kernelName": "csharp"
    }
   },
   "source": [
    "# 14. Defining Classes"
   ]
  },
  {
   "attachments": {},
   "cell_type": "markdown",
   "metadata": {
    "dotnet_interactive": {
     "language": "csharp"
    },
    "polyglot_notebook": {
     "kernelName": "csharp"
    }
   },
   "source": [
    "## Modifiers and Access Levels\n",
    "---"
   ]
  },
  {
   "attachments": {},
   "cell_type": "markdown",
   "metadata": {
    "dotnet_interactive": {
     "language": "csharp"
    },
    "polyglot_notebook": {
     "kernelName": "csharp"
    }
   },
   "source": [
    "In $C\\#$ there are **four access modifiers**: \n",
    "1. `public` \n",
    "2. `private` \n",
    "3. `protected`\n",
    "4. `internal`    "
   ]
  },
  {
   "attachments": {},
   "cell_type": "markdown",
   "metadata": {
    "dotnet_interactive": {
     "language": "csharp"
    },
    "polyglot_notebook": {
     "kernelName": "csharp"
    }
   },
   "source": [
    "<br>"
   ]
  },
  {
   "attachments": {},
   "cell_type": "markdown",
   "metadata": {
    "dotnet_interactive": {
     "language": "csharp"
    },
    "polyglot_notebook": {
     "kernelName": "csharp"
    }
   },
   "source": [
    "The **access modifiers** can be used with the following `class` elements: \n",
    "- `class` declaration\n",
    "- fields\n",
    "- properties\n",
    "- methods"
   ]
  },
  {
   "attachments": {},
   "cell_type": "markdown",
   "metadata": {
    "dotnet_interactive": {
     "language": "csharp"
    },
    "polyglot_notebook": {
     "kernelName": "csharp"
    }
   },
   "source": [
    "<br>"
   ]
  },
  {
   "attachments": {},
   "cell_type": "markdown",
   "metadata": {
    "dotnet_interactive": {
     "language": "csharp"
    },
    "polyglot_notebook": {
     "kernelName": "csharp"
    }
   },
   "source": [
    "Based on these **access modifiers**, we may optionally designate the **scope** (**visibility**) available for other elements of the `class` by placing the modifier in front of the `class` keyword during Declaration, as follows:"
   ]
  },
  {
   "attachments": {},
   "cell_type": "markdown",
   "metadata": {
    "dotnet_interactive": {
     "language": "csharp"
    },
    "polyglot_notebook": {
     "kernelName": "csharp"
    }
   },
   "source": [
    "```c#\n",
    "[ access_modifier ] class className\n",
    "```"
   ]
  },
  {
   "attachments": {},
   "cell_type": "markdown",
   "metadata": {
    "dotnet_interactive": {
     "language": "csharp"
    },
    "polyglot_notebook": {
     "kernelName": "csharp"
    }
   },
   "source": [
    "<br>"
   ]
  },
  {
   "attachments": {},
   "cell_type": "markdown",
   "metadata": {
    "dotnet_interactive": {
     "language": "csharp"
    },
    "polyglot_notebook": {
     "kernelName": "csharp"
    }
   },
   "source": [
    "### Access Level `public`"
   ]
  },
  {
   "attachments": {},
   "cell_type": "markdown",
   "metadata": {
    "dotnet_interactive": {
     "language": "csharp"
    },
    "polyglot_notebook": {
     "kernelName": "csharp"
    }
   },
   "source": [
    "If we declare a class **access modifier** as `public`, we can **reach it from every class and from every namespace**, regardless of where it exists.    \n",
    "    \n",
    "It means that every other class can create objects from this type and has access to the methods and the fields of the `public` class."
   ]
  },
  {
   "attachments": {},
   "cell_type": "markdown",
   "metadata": {
    "dotnet_interactive": {
     "language": "csharp"
    },
    "polyglot_notebook": {
     "kernelName": "csharp"
    }
   },
   "source": [
    "<br>"
   ]
  },
  {
   "attachments": {},
   "cell_type": "markdown",
   "metadata": {
    "dotnet_interactive": {
     "language": "csharp"
    },
    "polyglot_notebook": {
     "kernelName": "csharp"
    }
   },
   "source": [
    "Say, for example, we declared the following `Person` `class` whose $fields$, $properties$, $constructor$, and $method$ are all of a `public` **access level**:"
   ]
  },
  {
   "cell_type": "code",
   "execution_count": 1,
   "metadata": {
    "dotnet_interactive": {
     "language": "csharp"
    },
    "polyglot_notebook": {
     "kernelName": "csharp"
    },
    "vscode": {
     "languageId": "polyglot-notebook"
    }
   },
   "outputs": [],
   "source": [
    "// Class Declaration\n",
    "public class Person\n",
    "{\n",
    "\n",
    "    // Field Declarations -----------------------------------------\n",
    "    public string name,\n",
    "                  objective = \"be nimble, be quick.\";\n",
    "    //-------------------------------------------------------------\n",
    "\n",
    "\n",
    "    // Property Definitions ---------------------------------------\n",
    "    public string Name\n",
    "    {\n",
    "        get { return this.name; }\n",
    "        set { this.name = value; }\n",
    "    }\n",
    "    //-------------------------------------------------------------\n",
    "    public string Objective\n",
    "    {\n",
    "        get { return this.objective; }\n",
    "        set { this.objective = value; }\n",
    "    }\n",
    "    //-------------------------------------------------------------\n",
    "\n",
    "\n",
    "    // Constructor ------------------------------------------------\n",
    "    public Person( string name )\n",
    "    {\n",
    "        this.Name = name;\n",
    "    }\n",
    "    //-------------------------------------------------------------\n",
    "\n",
    "\n",
    "    // Method -----------------------------------------------------\n",
    "    public void JumpOverACandleStick()\n",
    "    {\n",
    "        Console.WriteLine(\n",
    "            $\"{ this.Name }, { this.Objective } { this.Name } \"\n",
    "            +\n",
    "            \"jumped over a candle stick.\"\n",
    "        );\n",
    "    }\n",
    "    //-------------------------------------------------------------\n",
    "\n",
    "}"
   ]
  },
  {
   "attachments": {},
   "cell_type": "markdown",
   "metadata": {
    "dotnet_interactive": {
     "language": "csharp"
    },
    "polyglot_notebook": {
     "kernelName": "csharp"
    }
   },
   "source": [
    "<br>"
   ]
  },
  {
   "attachments": {},
   "cell_type": "markdown",
   "metadata": {
    "dotnet_interactive": {
     "language": "csharp"
    },
    "polyglot_notebook": {
     "kernelName": "csharp"
    }
   },
   "source": [
    "When a $method$, $constructor$, or a $field$ of a class is declared with a `public` **access level**, it can be used from other classes, independently from the fact if another class is declared in the same namespace, assembly, or outside of it:"
   ]
  },
  {
   "cell_type": "code",
   "execution_count": 2,
   "metadata": {
    "dotnet_interactive": {
     "language": "csharp"
    },
    "polyglot_notebook": {
     "kernelName": "csharp"
    },
    "vscode": {
     "languageId": "polyglot-notebook"
    }
   },
   "outputs": [],
   "source": [
    "public class CandleStick\n",
    "{\n",
    "\n",
    "    public void GetJumpedOver( Person jack )\n",
    "    {\n",
    "        jack.JumpOverACandleStick();\n",
    "    }\n",
    "    \n",
    "}"
   ]
  },
  {
   "attachments": {},
   "cell_type": "markdown",
   "metadata": {
    "dotnet_interactive": {
     "language": "csharp"
    },
    "polyglot_notebook": {
     "kernelName": "csharp"
    }
   },
   "source": [
    "<br>"
   ]
  },
  {
   "cell_type": "code",
   "execution_count": 3,
   "metadata": {
    "dotnet_interactive": {
     "language": "csharp"
    },
    "polyglot_notebook": {
     "kernelName": "csharp"
    },
    "vscode": {
     "languageId": "polyglot-notebook"
    }
   },
   "outputs": [
    {
     "name": "stdout",
     "output_type": "stream",
     "text": [
      "Jack, be nimble, be quick. Jack jumped over a candle stick.\r\n"
     ]
    }
   ],
   "source": [
    "new CandleStick().GetJumpedOver( new Person( \"Jack\" ) );"
   ]
  },
  {
   "attachments": {},
   "cell_type": "markdown",
   "metadata": {
    "dotnet_interactive": {
     "language": "csharp"
    },
    "polyglot_notebook": {
     "kernelName": "csharp"
    }
   },
   "source": [
    "<br>"
   ]
  },
  {
   "attachments": {},
   "cell_type": "markdown",
   "metadata": {
    "dotnet_interactive": {
     "language": "csharp"
    },
    "polyglot_notebook": {
     "kernelName": "csharp"
    }
   },
   "source": [
    "### Access Level `internal`"
   ]
  },
  {
   "attachments": {},
   "cell_type": "markdown",
   "metadata": {
    "dotnet_interactive": {
     "language": "csharp"
    },
    "polyglot_notebook": {
     "kernelName": "csharp"
    }
   },
   "source": [
    "If we declare a class with an `internal` **access modifier**, it will be **accessible only from the same namespace**.    \n",
    "   \n",
    "This means that only the classes from the same assembly can create objects from this type class, or to have access to the methods and fields of the class."
   ]
  },
  {
   "attachments": {},
   "cell_type": "markdown",
   "metadata": {
    "dotnet_interactive": {
     "language": "csharp"
    },
    "polyglot_notebook": {
     "kernelName": "csharp"
    }
   },
   "source": [
    "<br>"
   ]
  },
  {
   "attachments": {},
   "cell_type": "markdown",
   "metadata": {
    "dotnet_interactive": {
     "language": "csharp"
    },
    "polyglot_notebook": {
     "kernelName": "csharp"
    }
   },
   "source": [
    "`internal` is the **default access level** when no **access modifier** is specified in the declaration of the class:"
   ]
  },
  {
   "cell_type": "code",
   "execution_count": 38,
   "metadata": {
    "dotnet_interactive": {
     "language": "csharp"
    },
    "polyglot_notebook": {
     "kernelName": "csharp"
    },
    "vscode": {
     "languageId": "polyglot-notebook"
    }
   },
   "outputs": [],
   "source": [
    "// Will be internal by default,  \n",
    "// since no other modifier has been provided\n",
    "class Humpty \n",
    "{\n",
    "\n",
    "    // Field Declarations -----------------------------------------\n",
    "    internal string name;\n",
    "    //-------------------------------------------------------------\n",
    "\n",
    "\n",
    "    // Property Definitions ---------------------------------------\n",
    "    internal string Name\n",
    "    {\n",
    "        get { return this.name; }\n",
    "        set { this.name = value; }\n",
    "    }\n",
    "    //-------------------------------------------------------------\n",
    "\n",
    "\n",
    "    // Constructor ------------------------------------------------\n",
    "    internal Humpty( string name )\n",
    "    {\n",
    "        this.Name = name;\n",
    "    }\n",
    "    //-------------------------------------------------------------\n",
    "\n",
    "\n",
    "    // Method -----------------------------------------------------\n",
    "    internal string SitOnAWall()\n",
    "    {\n",
    "        return  $\"Humpty { this.Name } sat on a wall....\\n\";\n",
    "    }\n",
    "    //-------------------------------------------------------------\n",
    "\n",
    "}\n"
   ]
  },
  {
   "attachments": {},
   "cell_type": "markdown",
   "metadata": {
    "dotnet_interactive": {
     "language": "csharp"
    },
    "polyglot_notebook": {
     "kernelName": "csharp"
    }
   },
   "source": [
    "<br>"
   ]
  },
  {
   "attachments": {},
   "cell_type": "markdown",
   "metadata": {
    "dotnet_interactive": {
     "language": "csharp"
    },
    "polyglot_notebook": {
     "kernelName": "csharp"
    }
   },
   "source": [
    "When a member of some class is declared with an `internal` **access level** , then this element from the class can be accessed from every class in the same assembly (i.e. in the same project scope), but not from classes outside it."
   ]
  },
  {
   "cell_type": "code",
   "execution_count": 40,
   "metadata": {
    "dotnet_interactive": {
     "language": "csharp"
    },
    "polyglot_notebook": {
     "kernelName": "csharp"
    },
    "vscode": {
     "languageId": "polyglot-notebook"
    }
   },
   "outputs": [],
   "source": [
    "class Wall\n",
    "{\n",
    "\n",
    "    internal void CauseGreatFall( Humpty dumpty )\n",
    "    { \n",
    "        Console.WriteLine(\n",
    "            $\"{dumpty.SitOnAWall()}\"\n",
    "            +\n",
    "            $\"Humpty { dumpty.Name } had a great fall :)\"\n",
    "        );\n",
    "    }\n",
    "\n",
    "}"
   ]
  },
  {
   "attachments": {},
   "cell_type": "markdown",
   "metadata": {
    "dotnet_interactive": {
     "language": "csharp"
    },
    "polyglot_notebook": {
     "kernelName": "csharp"
    }
   },
   "source": [
    "<br>"
   ]
  },
  {
   "cell_type": "code",
   "execution_count": 41,
   "metadata": {
    "dotnet_interactive": {
     "language": "csharp"
    },
    "polyglot_notebook": {
     "kernelName": "csharp"
    },
    "vscode": {
     "languageId": "polyglot-notebook"
    }
   },
   "outputs": [
    {
     "name": "stdout",
     "output_type": "stream",
     "text": [
      "Humpty Dumpty sat on a wall....\n",
      "Humpty Dumpty had a great fall :)\r\n"
     ]
    }
   ],
   "source": [
    "new Wall().CauseGreatFall( new Humpty( \"Dumpty\" ) );"
   ]
  },
  {
   "attachments": {},
   "cell_type": "markdown",
   "metadata": {
    "dotnet_interactive": {
     "language": "csharp"
    },
    "polyglot_notebook": {
     "kernelName": "csharp"
    }
   },
   "source": [
    "<br>"
   ]
  },
  {
   "attachments": {},
   "cell_type": "markdown",
   "metadata": {
    "dotnet_interactive": {
     "language": "csharp"
    },
    "polyglot_notebook": {
     "kernelName": "csharp"
    }
   },
   "source": [
    "<br>"
   ]
  },
  {
   "attachments": {},
   "cell_type": "markdown",
   "metadata": {
    "dotnet_interactive": {
     "language": "csharp"
    },
    "polyglot_notebook": {
     "kernelName": "csharp"
    }
   },
   "source": [
    "### Access Level `private`"
   ]
  },
  {
   "attachments": {},
   "cell_type": "markdown",
   "metadata": {
    "dotnet_interactive": {
     "language": "csharp"
    },
    "polyglot_notebook": {
     "kernelName": "csharp"
    }
   },
   "source": [
    "The `private` access level is one which defines the **most restrictive level of visibility** of the class and its elements.    \n",
    "   \n",
    "The private modifier is used to indicate, that the element, to which is issued, cannot be accessed from any other class (except the class, in which it is defined), even if this class exists in the same namespace. This is the default access level, i.e. it is used when there is no access level modifier in front of the respective element of a class (this is true only for elements inside a class)."
   ]
  }
 ],
 "metadata": {
  "kernelspec": {
   "display_name": ".NET (C#)",
   "language": "C#",
   "name": ".net-csharp"
  },
  "polyglot_notebook": {
   "kernelInfo": {
    "defaultKernelName": "csharp",
    "items": [
     {
      "aliases": [],
      "name": "csharp"
     }
    ]
   }
  }
 },
 "nbformat": 4,
 "nbformat_minor": 2
}
