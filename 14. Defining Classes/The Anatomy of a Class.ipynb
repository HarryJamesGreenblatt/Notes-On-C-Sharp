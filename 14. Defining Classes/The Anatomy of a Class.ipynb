{
 "cells": [
  {
   "attachments": {},
   "cell_type": "markdown",
   "metadata": {
    "dotnet_interactive": {
     "language": "csharp"
    },
    "polyglot_notebook": {
     "kernelName": "csharp"
    }
   },
   "source": [
    "# 12. Defining Classes"
   ]
  },
  {
   "attachments": {},
   "cell_type": "markdown",
   "metadata": {
    "dotnet_interactive": {
     "language": "csharp"
    },
    "polyglot_notebook": {
     "kernelName": "csharp"
    }
   },
   "source": [
    "## The Anatomy of a Class\n",
    "---"
   ]
  },
  {
   "attachments": {},
   "cell_type": "markdown",
   "metadata": {
    "dotnet_interactive": {
     "language": "csharp"
    },
    "polyglot_notebook": {
     "kernelName": "csharp"
    }
   },
   "source": [
    "$Recall\\,\\,from \\quad$ <a href=\"../11. Creating and Using Objects/The Anatomies of Objects and Classes.ipynb\">Creating and Using Objects | The Anatomies of Objects and Classes</a>\n",
    "  \n",
    "### What's the Difference Between an Object and a Class?"
   ]
  },
  {
   "attachments": {},
   "cell_type": "markdown",
   "metadata": {
    "dotnet_interactive": {
     "language": "csharp"
    },
    "polyglot_notebook": {
     "kernelName": "csharp"
    }
   },
   "source": [
    "|Object|Class|\n",
    "|---|---|\n",
    "|In OOP, a **class** is called a **definition** (**specification**) of a given type of *object* from the real-world. The **class** represents a **pattern**, which describes the different *states* and *behavior* of the certain *objects* (the *copies*), which are created from this **class** (**pattern**).|**Object** is a **copy** created from the *definition* (*specification*) of a given *class*, also called an **instance**. When one **object** is created by the description of one class, we say the **object** is from *type* *class*.|"
   ]
  }
 ],
 "metadata": {
  "kernelspec": {
   "display_name": ".NET (C#)",
   "language": "C#",
   "name": ".net-csharp"
  },
  "polyglot_notebook": {
   "kernelInfo": {
    "defaultKernelName": "csharp",
    "items": [
     {
      "aliases": [
       "c#",
       "C#"
      ],
      "languageName": "C#",
      "name": "csharp"
     },
     {
      "aliases": [
       "frontend"
      ],
      "languageName": null,
      "name": "vscode"
     }
    ]
   }
  }
 },
 "nbformat": 4,
 "nbformat_minor": 2
}
