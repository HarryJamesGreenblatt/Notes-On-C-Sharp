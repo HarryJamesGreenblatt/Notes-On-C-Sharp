{
 "cells": [
  {
   "attachments": {},
   "cell_type": "markdown",
   "metadata": {
    "dotnet_interactive": {
     "language": "csharp"
    },
    "polyglot_notebook": {
     "kernelName": "csharp"
    }
   },
   "source": [
    "# 14. Defining Classes"
   ]
  },
  {
   "attachments": {},
   "cell_type": "markdown",
   "metadata": {
    "dotnet_interactive": {
     "language": "csharp"
    },
    "polyglot_notebook": {
     "kernelName": "csharp"
    }
   },
   "source": [
    "## Generics\n",
    "---"
   ]
  },
  {
   "attachments": {},
   "cell_type": "markdown",
   "metadata": {
    "dotnet_interactive": {
     "language": "csharp"
    },
    "polyglot_notebook": {
     "kernelName": "csharp"
    }
   },
   "source": [
    "If a method needs additional information to operate properly, this information is passed to the method using parameters.    \n",
    "   \n",
    "During the execution of the program, when calling this particular method, we pass arguments to the method, which are assigned to its parameters and then used in the method’s body.   \n",
    "\n",
    "Like with methods, when we know that the functionality (actions) encapsulated into a `class` can be applied not only to objects of one, but to **many** (**heterogeneous**) **types**, and even in the scenario that these **types should not be known at the time of declaring the class**, we can use a functionality of $C\\#$ called **generics**.\n",
    "   \n",
    "**Generics** allows us to declare parameters of a given class by **indicating an unknown type** that the class will eventually use. Then, when we instantiate our **generic** class, we **replace the unknown type with a specific one**. \n",
    "   \n",
    "Accordingly, the newly created object will **only work with objects of this type** that we have assigned at its initialization. The specific type can be **any data type** that the compiler recognizes, including `class`, `struct`, `enum`, or another **generic** class."
   ]
  },
  {
   "attachments": {},
   "cell_type": "markdown",
   "metadata": {
    "dotnet_interactive": {
     "language": "csharp"
    },
    "polyglot_notebook": {
     "kernelName": "csharp"
    }
   },
   "source": [
    "<br>"
   ]
  },
  {
   "attachments": {},
   "cell_type": "markdown",
   "metadata": {
    "dotnet_interactive": {
     "language": "csharp"
    },
    "polyglot_notebook": {
     "kernelName": "csharp"
    }
   },
   "source": [
    "### Why Use Generics?"
   ]
  },
  {
   "attachments": {},
   "cell_type": "markdown",
   "metadata": {
    "dotnet_interactive": {
     "language": "csharp"
    },
    "polyglot_notebook": {
     "kernelName": "csharp"
    }
   },
   "source": [
    "To illustrate an applicable use case for **generics**, suppose we have declared the following class representing a **Dog**:"
   ]
  },
  {
   "cell_type": "code",
   "execution_count": 1,
   "metadata": {
    "dotnet_interactive": {
     "language": "csharp"
    },
    "polyglot_notebook": {
     "kernelName": "csharp"
    },
    "vscode": {
     "languageId": "polyglot-notebook"
    }
   },
   "outputs": [],
   "source": [
    "public class Dog\n",
    "{\n",
    "    public override string ToString()\n",
    "    {\n",
    "        return \"WOOF!\";\n",
    "    }\n",
    "}"
   ]
  },
  {
   "attachments": {},
   "cell_type": "markdown",
   "metadata": {
    "dotnet_interactive": {
     "language": "csharp"
    },
    "polyglot_notebook": {
     "kernelName": "csharp"
    }
   },
   "source": [
    "<br>"
   ]
  },
  {
   "attachments": {},
   "cell_type": "markdown",
   "metadata": {
    "dotnet_interactive": {
     "language": "csharp"
    },
    "polyglot_notebook": {
     "kernelName": "csharp"
    }
   },
   "source": [
    "So let's say we set out to define a class that represents a **shelter for homeless animals**, containing a specific number of free kennels which determine the capacity of animals that can find refuge in the shelter. Let's also say that one important caveat to  class that we want to create is that it needs to **only accommodate animals of the same kind**, in our case, `Dog`s only."
   ]
  },
  {
   "cell_type": "code",
   "execution_count": 2,
   "metadata": {
    "dotnet_interactive": {
     "language": "csharp"
    },
    "polyglot_notebook": {
     "kernelName": "csharp"
    },
    "vscode": {
     "languageId": "polyglot-notebook"
    }
   },
   "outputs": [],
   "source": [
    "public class AnimalShelter\n",
    "{\n",
    "\n",
    "    // FIELD DEFINITIONS ---------------------------------------------------------------------\n",
    "    private const int DEFAULT_CAPACITY = 20;\n",
    "    private int placesOccupied;\n",
    "    public Dog[] kennels;\n",
    "    //----------------------------------------------------------------------------------------\n",
    "\n",
    "\n",
    "    // CONSTRUCTORS --------------------------------------------------------------------------\n",
    "    // The first constructor is parameterless, \n",
    "    // but uses constructor chaining to pass the DEFAULT_CAPACITY as an argument\n",
    "    public AnimalShelter() : this( DEFAULT_CAPACITY )\n",
    "    {\n",
    "    }\n",
    "\n",
    "    // Another constructor initializes the Dog Array \n",
    "    // to reflect a capacity which is defined by the numberOfPlaces argument\n",
    "    public AnimalShelter( int numberOfPlaces )\n",
    "    {\n",
    "        this.kennels = new Dog[ numberOfPlaces ];\n",
    "        this.placesOccupied = 0;\n",
    "    }\n",
    "    //----------------------------------------------------------------------------------------\n",
    "\n",
    "\n",
    "    // METHODS -------------------------------------------------------------------------------\n",
    "    // Add a New Dog to the Dog Array, provided that there is still enough space  \n",
    "    public void Shelter( Dog newDog )\n",
    "    {\n",
    "\n",
    "        if ( this.placesOccupied <= this.kennels.Length)\n",
    "            this.kennels[ this.placesOccupied++ ] = newDog;\n",
    "            \n",
    "    }\n",
    "\n",
    "    // Remove a Dog from the Dog Array and returns that removed Dog, \n",
    "    // provided that the given Dog Array Index is valid \n",
    "    public Dog Release( int dogIndex )\n",
    "    {\n",
    "\n",
    "        if ( dogIndex < 0 || dogIndex >= this.placesOccupied )\n",
    "        {\n",
    "            throw new ArgumentOutOfRangeException(\n",
    "                $\"Index {dogIndex} is an invalid selection.\"\n",
    "            );  \n",
    "        }\n",
    "\n",
    "\n",
    "        Dog releasedDog = this.kennels[ dogIndex ];\n",
    "\n",
    "\n",
    "        for( int currentIndex = dogIndex; currentIndex < this.placesOccupied - 1; currentIndex++ )\n",
    "        {\n",
    "            this.kennels[ currentIndex ] = this.kennels[ currentIndex + 1 ];\n",
    "        }\n",
    "\n",
    "\n",
    "        this.kennels[ (this.placesOccupied--) - 1 ] = null;\n",
    "\n",
    "\n",
    "        return releasedDog;\n",
    "\n",
    "    }\n",
    "    //----------------------------------------------------------------------------------------\n",
    "\n",
    "}"
   ]
  },
  {
   "attachments": {},
   "cell_type": "markdown",
   "metadata": {
    "dotnet_interactive": {
     "language": "csharp"
    },
    "polyglot_notebook": {
     "kernelName": "csharp"
    }
   },
   "source": [
    "<br>"
   ]
  },
  {
   "attachments": {},
   "cell_type": "markdown",
   "metadata": {
    "dotnet_interactive": {
     "language": "csharp"
    },
    "polyglot_notebook": {
     "kernelName": "csharp"
    }
   },
   "source": [
    "Below, let's instantiate a Shelter, specifically for `Dog`s, with enough kennel space to fit up to 5:  "
   ]
  },
  {
   "cell_type": "code",
   "execution_count": 3,
   "metadata": {
    "dotnet_interactive": {
     "language": "csharp"
    },
    "polyglot_notebook": {
     "kernelName": "csharp"
    },
    "vscode": {
     "languageId": "polyglot-notebook"
    }
   },
   "outputs": [],
   "source": [
    "AnimalShelter dogShelter = new AnimalShelter(5);"
   ]
  },
  {
   "attachments": {},
   "cell_type": "markdown",
   "metadata": {
    "dotnet_interactive": {
     "language": "csharp"
    },
    "polyglot_notebook": {
     "kernelName": "csharp"
    }
   },
   "source": [
    "<br>"
   ]
  },
  {
   "attachments": {},
   "cell_type": "markdown",
   "metadata": {
    "dotnet_interactive": {
     "language": "csharp"
    },
    "polyglot_notebook": {
     "kernelName": "csharp"
    }
   },
   "source": [
    "Now, let's add enough new `Dog`s to our `dogShelter` to fill every kennel except the last:"
   ]
  },
  {
   "cell_type": "code",
   "execution_count": 4,
   "metadata": {
    "dotnet_interactive": {
     "language": "csharp"
    },
    "polyglot_notebook": {
     "kernelName": "csharp"
    },
    "vscode": {
     "languageId": "polyglot-notebook"
    }
   },
   "outputs": [],
   "source": [
    "for( int kennelIndex = 0; kennelIndex < dogShelter.kennels.Length - 1; kennelIndex++ )\n",
    "    dogShelter.Shelter( new Dog() );"
   ]
  },
  {
   "attachments": {},
   "cell_type": "markdown",
   "metadata": {
    "dotnet_interactive": {
     "language": "csharp"
    },
    "polyglot_notebook": {
     "kernelName": "csharp"
    }
   },
   "source": [
    "<img src=\"_img/InitDogKennel.png\" style=\"width: 600px; display: block; margin: auto\"></img>"
   ]
  },
  {
   "cell_type": "code",
   "execution_count": 5,
   "metadata": {
    "dotnet_interactive": {
     "language": "csharp"
    },
    "polyglot_notebook": {
     "kernelName": "csharp"
    },
    "vscode": {
     "languageId": "polyglot-notebook"
    }
   },
   "outputs": [
    {
     "name": "stdout",
     "output_type": "stream",
     "text": [
      "WOOF!\n",
      "WOOF!\n",
      "WOOF!\n",
      "WOOF!\n",
      "<null>\n"
     ]
    }
   ],
   "source": [
    "foreach( Dog kennel in dogShelter.kennels )\n",
    "{\n",
    "    Console.WriteLine(  (kennel != null) ? kennel : \"<null>\" );\n",
    "}"
   ]
  },
  {
   "attachments": {},
   "cell_type": "markdown",
   "metadata": {
    "dotnet_interactive": {
     "language": "csharp"
    },
    "polyglot_notebook": {
     "kernelName": "csharp"
    }
   },
   "source": [
    "<br>"
   ]
  },
  {
   "attachments": {},
   "cell_type": "markdown",
   "metadata": {
    "dotnet_interactive": {
     "language": "csharp"
    },
    "polyglot_notebook": {
     "kernelName": "csharp"
    }
   },
   "source": [
    "Now suppose we wanted to Release the `Dog` in the 2nd kennel:"
   ]
  },
  {
   "attachments": {},
   "cell_type": "markdown",
   "metadata": {
    "dotnet_interactive": {
     "language": "csharp"
    },
    "polyglot_notebook": {
     "kernelName": "csharp"
    }
   },
   "source": [
    "<img src=\"_img/DogKennelRelease1.png\" style=\"width: 600px; display: block; margin: auto\"></img>"
   ]
  },
  {
   "cell_type": "code",
   "execution_count": 6,
   "metadata": {
    "dotnet_interactive": {
     "language": "csharp"
    },
    "polyglot_notebook": {
     "kernelName": "csharp"
    },
    "vscode": {
     "languageId": "polyglot-notebook"
    }
   },
   "outputs": [],
   "source": [
    "Dog releasedAnimal = dogShelter.Release( 1 );"
   ]
  },
  {
   "attachments": {},
   "cell_type": "markdown",
   "metadata": {
    "dotnet_interactive": {
     "language": "csharp"
    },
    "polyglot_notebook": {
     "kernelName": "csharp"
    }
   },
   "source": [
    "<img src=\"_img/DogKennelRelease2.jpg\" style=\"width: 600px; display: block; margin: auto\"></img>"
   ]
  },
  {
   "attachments": {},
   "cell_type": "markdown",
   "metadata": {
    "dotnet_interactive": {
     "language": "csharp"
    },
    "polyglot_notebook": {
     "kernelName": "csharp"
    }
   },
   "source": [
    "$$\\Huge{\\Downarrow \\Downarrow}$$"
   ]
  },
  {
   "attachments": {},
   "cell_type": "markdown",
   "metadata": {
    "dotnet_interactive": {
     "language": "csharp"
    },
    "polyglot_notebook": {
     "kernelName": "csharp"
    }
   },
   "source": [
    "$$\\Huge{\\Downarrow \\Downarrow}$$"
   ]
  },
  {
   "attachments": {},
   "cell_type": "markdown",
   "metadata": {
    "dotnet_interactive": {
     "language": "csharp"
    },
    "polyglot_notebook": {
     "kernelName": "csharp"
    }
   },
   "source": [
    "<img src=\"_img/DogKennelRelease3.jpg\" style=\"width: 600px; display: block; margin: auto\"></img>"
   ]
  },
  {
   "cell_type": "code",
   "execution_count": 7,
   "metadata": {
    "dotnet_interactive": {
     "language": "csharp"
    },
    "polyglot_notebook": {
     "kernelName": "csharp"
    },
    "vscode": {
     "languageId": "polyglot-notebook"
    }
   },
   "outputs": [
    {
     "name": "stdout",
     "output_type": "stream",
     "text": [
      "WOOF!\n",
      "WOOF!\n",
      "WOOF!\n",
      "<null>\n",
      "<null>\n"
     ]
    }
   ],
   "source": [
    "foreach( Dog kennel in dogShelter.kennels )\n",
    "{\n",
    "    Console.WriteLine(  (kennel != null) ? kennel : \"<null>\" );\n",
    "}"
   ]
  },
  {
   "cell_type": "code",
   "execution_count": 8,
   "metadata": {
    "dotnet_interactive": {
     "language": "csharp"
    },
    "polyglot_notebook": {
     "kernelName": "csharp"
    },
    "vscode": {
     "languageId": "polyglot-notebook"
    }
   },
   "outputs": [
    {
     "data": {
      "text/html": [
       "<div class=\"dni-plaintext\"><pre>WOOF!</pre></div><style>\r\n",
       ".dni-code-hint {\r\n",
       "    font-style: italic;\r\n",
       "    overflow: hidden;\r\n",
       "    white-space: nowrap;\r\n",
       "}\r\n",
       ".dni-treeview {\r\n",
       "    white-space: nowrap;\r\n",
       "}\r\n",
       ".dni-treeview td {\r\n",
       "    vertical-align: top;\r\n",
       "    text-align: start;\r\n",
       "}\r\n",
       "details.dni-treeview {\r\n",
       "    padding-left: 1em;\r\n",
       "}\r\n",
       "table td {\r\n",
       "    text-align: start;\r\n",
       "}\r\n",
       "table tr { \r\n",
       "    vertical-align: top; \r\n",
       "    margin: 0em 0px;\r\n",
       "}\r\n",
       "table tr td pre \r\n",
       "{ \r\n",
       "    vertical-align: top !important; \r\n",
       "    margin: 0em 0px !important;\r\n",
       "} \r\n",
       "table th {\r\n",
       "    text-align: start;\r\n",
       "}\r\n",
       "</style>"
      ]
     },
     "metadata": {},
     "output_type": "display_data"
    }
   ],
   "source": [
    "releasedAnimal"
   ]
  },
  {
   "attachments": {},
   "cell_type": "markdown",
   "metadata": {
    "dotnet_interactive": {
     "language": "csharp"
    },
    "polyglot_notebook": {
     "kernelName": "csharp"
    }
   },
   "source": [
    "<br>"
   ]
  },
  {
   "attachments": {},
   "cell_type": "markdown",
   "metadata": {
    "dotnet_interactive": {
     "language": "csharp"
    },
    "polyglot_notebook": {
     "kernelName": "csharp"
    }
   },
   "source": [
    "So, while the process above has worked fairly well so far, what would happen if we instead wanted to use our `AnimalShelter` to store instances of the following `Cat` `class`:"
   ]
  },
  {
   "cell_type": "code",
   "execution_count": 9,
   "metadata": {
    "dotnet_interactive": {
     "language": "csharp"
    },
    "polyglot_notebook": {
     "kernelName": "csharp"
    },
    "vscode": {
     "languageId": "polyglot-notebook"
    }
   },
   "outputs": [],
   "source": [
    "public class Cat\n",
    "{\n",
    "    public override string ToString()\n",
    "    {\n",
    "        return \"MEOW!\";\n",
    "    }\n",
    "}"
   ]
  },
  {
   "attachments": {},
   "cell_type": "markdown",
   "metadata": {
    "dotnet_interactive": {
     "language": "csharp"
    },
    "polyglot_notebook": {
     "kernelName": "csharp"
    }
   },
   "source": [
    "<br>"
   ]
  },
  {
   "attachments": {},
   "cell_type": "markdown",
   "metadata": {
    "dotnet_interactive": {
     "language": "csharp"
    },
    "polyglot_notebook": {
     "kernelName": "csharp"
    }
   },
   "source": [
    "Consequently, if we want to create an `AnimalShelter` for `Cat`s, we will **not be able to reuse the class that we already created**, although the operations of adding and removing animals from the shelter will be identical.    \n",
    "   \n",
    "Therefore, we have to literally copy the `AnimalShelter` class, and change only the type of the objects which are handled.   \n",
    "\n",
    "Otherwise, we would run into the following error:"
   ]
  },
  {
   "cell_type": "code",
   "execution_count": 10,
   "metadata": {
    "dotnet_interactive": {
     "language": "csharp"
    },
    "polyglot_notebook": {
     "kernelName": "csharp"
    },
    "vscode": {
     "languageId": "polyglot-notebook"
    }
   },
   "outputs": [
    {
     "ename": "Error",
     "evalue": "(3,21): error CS1503: Argument 1: cannot convert from 'Cat' to 'Dog'",
     "output_type": "error",
     "traceback": [
      "(3,21): error CS1503: Argument 1: cannot convert from 'Cat' to 'Dog'"
     ]
    }
   ],
   "source": [
    "AnimalShelter catShelter = new AnimalShelter(5);\n",
    "\n",
    "catShelter.Shelter( new Cat() )"
   ]
  },
  {
   "attachments": {},
   "cell_type": "markdown",
   "metadata": {
    "dotnet_interactive": {
     "language": "csharp"
    },
    "polyglot_notebook": {
     "kernelName": "csharp"
    }
   },
   "source": [
    "<br>"
   ]
  },
  {
   "attachments": {},
   "cell_type": "markdown",
   "metadata": {
    "dotnet_interactive": {
     "language": "csharp"
    },
    "polyglot_notebook": {
     "kernelName": "csharp"
    }
   },
   "source": [
    "As such, we can see that this solution of the problem is **not sufficiently comprehensive** as it does not provide a single class that describes our shelter for **any kind of animal** (i.e. for all objects) of the same type."
   ]
  },
  {
   "attachments": {},
   "cell_type": "markdown",
   "metadata": {
    "dotnet_interactive": {
     "language": "csharp"
    },
    "polyglot_notebook": {
     "kernelName": "csharp"
    }
   },
   "source": [
    "<br>"
   ]
  },
  {
   "attachments": {},
   "cell_type": "markdown",
   "metadata": {
    "dotnet_interactive": {
     "language": "csharp"
    },
    "polyglot_notebook": {
     "kernelName": "csharp"
    }
   },
   "source": [
    "<br>"
   ]
  },
  {
   "attachments": {},
   "cell_type": "markdown",
   "metadata": {
    "dotnet_interactive": {
     "language": "csharp"
    },
    "polyglot_notebook": {
     "kernelName": "csharp"
    }
   },
   "source": [
    "### Declaration of Generic Classes"
   ]
  },
  {
   "attachments": {},
   "cell_type": "markdown",
   "metadata": {
    "dotnet_interactive": {
     "language": "csharp"
    },
    "polyglot_notebook": {
     "kernelName": "csharp"
    }
   },
   "source": [
    "Formally, the parameterizing of a class is done by adding `<T>` to the declaration of the class, after its name, where `T` is the **substitute** (**parameter**) of the **type** which will be used later:"
   ]
  },
  {
   "attachments": {},
   "cell_type": "markdown",
   "metadata": {
    "dotnet_interactive": {
     "language": "csharp"
    },
    "polyglot_notebook": {
     "kernelName": "csharp"
    }
   },
   "source": [
    "```c#\n",
    "[access_modifers] class ClassName <T>\n",
    "{\n",
    "    // class implementation goes here...\n",
    "}\n",
    "```"
   ]
  },
  {
   "attachments": {},
   "cell_type": "markdown",
   "metadata": {
    "dotnet_interactive": {
     "language": "csharp"
    },
    "polyglot_notebook": {
     "kernelName": "csharp"
    }
   },
   "source": [
    "It should be noted that the characters `<` and `>`, which surround the **substitution** `T`, are an obligatory."
   ]
  },
  {
   "attachments": {},
   "cell_type": "markdown",
   "metadata": {
    "dotnet_interactive": {
     "language": "csharp"
    },
    "polyglot_notebook": {
     "kernelName": "csharp"
    }
   },
   "source": [
    "<br>"
   ]
  },
  {
   "attachments": {},
   "cell_type": "markdown",
   "metadata": {
    "dotnet_interactive": {
     "language": "csharp"
    },
    "polyglot_notebook": {
     "kernelName": "csharp"
    }
   },
   "source": [
    "A particular class may have **more than one substitute** (to be parameterized by **more than one type**), depending on its needs.   \n",
    "    \n",
    "If the class needs several different unknown types, these types should be listed by a comma between the characters `<` and `>` in the declaration of the class, as each of the **substitutes** used must be **different identifier** (e.g. a **different letter**) – in the definition they are indicated as `T`, `U`, … , `N`."
   ]
  },
  {
   "attachments": {},
   "cell_type": "markdown",
   "metadata": {
    "dotnet_interactive": {
     "language": "csharp"
    },
    "polyglot_notebook": {
     "kernelName": "csharp"
    }
   },
   "source": [
    "```c#\n",
    "[access_modifers] class ClassName <T [, U, ... , N]>\n",
    "{\n",
    "    // class implementation goes here...\n",
    "}\n",
    "```"
   ]
  },
  {
   "attachments": {},
   "cell_type": "markdown",
   "metadata": {
    "dotnet_interactive": {
     "language": "csharp"
    },
    "polyglot_notebook": {
     "kernelName": "csharp"
    }
   },
   "source": [
    "<br>"
   ]
  },
  {
   "attachments": {},
   "cell_type": "markdown",
   "metadata": {
    "dotnet_interactive": {
     "language": "csharp"
    },
    "polyglot_notebook": {
     "kernelName": "csharp"
    }
   },
   "source": [
    "<br>"
   ]
  },
  {
   "attachments": {},
   "cell_type": "markdown",
   "metadata": {
    "dotnet_interactive": {
     "language": "csharp"
    },
    "polyglot_notebook": {
     "kernelName": "csharp"
    }
   },
   "source": [
    "### Specifying Generic Classes"
   ]
  },
  {
   "attachments": {},
   "cell_type": "markdown",
   "metadata": {
    "dotnet_interactive": {
     "language": "csharp"
    },
    "polyglot_notebook": {
     "kernelName": "csharp"
    }
   },
   "source": [
    "The instantiation of **generic** classes should be done as generilzed below:"
   ]
  },
  {
   "attachments": {},
   "cell_type": "markdown",
   "metadata": {
    "dotnet_interactive": {
     "language": "csharp"
    },
    "polyglot_notebook": {
     "kernelName": "csharp"
    }
   },
   "source": [
    "```c#\n",
    "ClassName <Type> varliableName = new ClassName <Type> ();\n",
    "```"
   ]
  },
  {
   "attachments": {},
   "cell_type": "markdown",
   "metadata": {
    "dotnet_interactive": {
     "language": "csharp"
    },
    "polyglot_notebook": {
     "kernelName": "csharp"
    }
   },
   "source": [
    "Following the above generalization, if we want to create two shelters, one for `Dog` types and one for `Cat` typess, we should do so as follows:"
   ]
  },
  {
   "attachments": {},
   "cell_type": "markdown",
   "metadata": {
    "dotnet_interactive": {
     "language": "csharp"
    },
    "polyglot_notebook": {
     "kernelName": "csharp"
    }
   },
   "source": [
    "```c#\n",
    "AnimalShelter <Dog> dogShelter = new AnimalShelter <Dog> ();\n",
    "AnimalShelter <Cat> catShelter = new AnimalShelter <Cat> ();\n",
    "```"
   ]
  },
  {
   "attachments": {},
   "cell_type": "markdown",
   "metadata": {
    "dotnet_interactive": {
     "language": "csharp"
    },
    "polyglot_notebook": {
     "kernelName": "csharp"
    }
   },
   "source": [
    "<br>"
   ]
  },
  {
   "attachments": {},
   "cell_type": "markdown",
   "metadata": {
    "dotnet_interactive": {
     "language": "csharp"
    },
    "polyglot_notebook": {
     "kernelName": "csharp"
    }
   },
   "source": [
    "#### Using Unknown Types When Declaring Fields"
   ]
  },
  {
   "attachments": {},
   "cell_type": "markdown",
   "metadata": {
    "dotnet_interactive": {
     "language": "csharp"
    },
    "polyglot_notebook": {
     "kernelName": "csharp"
    }
   },
   "source": [
    "Once used during the class declaration, the **substitute parameters** are used to indicate the **unknown types** that are visible in the whole body of the class, therefore they can be used to **declare the class's fields** as having the **same substitute type**, as demonstrated below:"
   ]
  },
  {
   "attachments": {},
   "cell_type": "markdown",
   "metadata": {
    "dotnet_interactive": {
     "language": "csharp"
    },
    "polyglot_notebook": {
     "kernelName": "csharp"
    }
   },
   "source": [
    "```c#\n",
    "[access_modifers] T fieldName;\n",
    "```"
   ]
  },
  {
   "attachments": {},
   "cell_type": "markdown",
   "metadata": {
    "dotnet_interactive": {
     "language": "csharp"
    },
    "polyglot_notebook": {
     "kernelName": "csharp"
    }
   },
   "source": [
    "<br>"
   ]
  },
  {
   "attachments": {},
   "cell_type": "markdown",
   "metadata": {
    "dotnet_interactive": {
     "language": "csharp"
    },
    "polyglot_notebook": {
     "kernelName": "csharp"
    }
   },
   "source": [
    "#### Using Unknown Types When Declaring Methods"
   ]
  },
  {
   "attachments": {},
   "cell_type": "markdown",
   "metadata": {
    "dotnet_interactive": {
     "language": "csharp"
    },
    "polyglot_notebook": {
     "kernelName": "csharp"
    }
   },
   "source": [
    "Similarly we may use **substitute parameters** in the declaration of **methods**, namely:"
   ]
  },
  {
   "attachments": {},
   "cell_type": "markdown",
   "metadata": {
    "dotnet_interactive": {
     "language": "csharp"
    },
    "polyglot_notebook": {
     "kernelName": "csharp"
    }
   },
   "source": [
    "- As a **parameter** in the **list of parameters** of the method:\n",
    "  - `returnType MethodName( T parameterName )`   "
   ]
  },
  {
   "attachments": {},
   "cell_type": "markdown",
   "metadata": {
    "dotnet_interactive": {
     "language": "csharp"
    },
    "polyglot_notebook": {
     "kernelName": "csharp"
    }
   },
   "source": [
    "- As a **result** of the method's implementation:\n",
    "  - `T MethodName( [parameters] )`"
   ]
  },
  {
   "attachments": {},
   "cell_type": "markdown",
   "metadata": {
    "dotnet_interactive": {
     "language": "csharp"
    },
    "polyglot_notebook": {
     "kernelName": "csharp"
    }
   },
   "source": [
    "When the **type of method’s parameters cannot be specified**, we can **parameterize** (**typify**) the method.   \n",
    "    \n",
    "Accordingly, the indication of a specific type will happen during the **invocation** of the method, replacing the unknown type with a specific one, as we did in the classes.    \n",
    "\n",
    "**Typifying** of a method is done, when *after the name* and *before the opening bracket* of the method, we add `<K>`, where `K` is the **replacement of the type** that will be used later:"
   ]
  },
  {
   "attachments": {},
   "cell_type": "markdown",
   "metadata": {
    "dotnet_interactive": {
     "language": "csharp"
    },
    "polyglot_notebook": {
     "kernelName": "csharp"
    }
   },
   "source": [
    "```c#\n",
    "returnType MethodName <K> ( [parameters] )\n",
    "```"
   ]
  },
  {
   "attachments": {},
   "cell_type": "markdown",
   "metadata": {
    "dotnet_interactive": {
     "language": "csharp"
    },
    "polyglot_notebook": {
     "kernelName": "csharp"
    }
   },
   "source": [
    "Accordingly, we can use **unknown type**, `K`, for: \n",
    "- parameters in the parameter’s list of method\n",
    "- the **return value**, \n",
    "- **declare variables of type substitute** `K` in the body of the method."
   ]
  },
  {
   "attachments": {},
   "cell_type": "markdown",
   "metadata": {
    "dotnet_interactive": {
     "language": "csharp"
    },
    "polyglot_notebook": {
     "kernelName": "csharp"
    }
   },
   "source": [
    "<br>"
   ]
  },
  {
   "attachments": {},
   "cell_type": "markdown",
   "metadata": {
    "dotnet_interactive": {
     "language": "csharp"
    },
    "polyglot_notebook": {
     "kernelName": "csharp"
    }
   },
   "source": [
    "##### Typifying of a Generic Method - Example"
   ]
  },
  {
   "attachments": {},
   "cell_type": "markdown",
   "metadata": {
    "dotnet_interactive": {
     "language": "csharp"
    },
    "polyglot_notebook": {
     "kernelName": "csharp"
    }
   },
   "source": [
    "For example, consider a method that **swaps the values of two variables**:"
   ]
  },
  {
   "cell_type": "code",
   "execution_count": 11,
   "metadata": {
    "dotnet_interactive": {
     "language": "csharp"
    },
    "polyglot_notebook": {
     "kernelName": "csharp"
    },
    "vscode": {
     "languageId": "polyglot-notebook"
    }
   },
   "outputs": [],
   "source": [
    "public void Swap<K>(ref K a, ref K b)\n",
    "{\n",
    "    K oldA = a;\n",
    "    a = b;\n",
    "    b = oldA;\n",
    "}"
   ]
  },
  {
   "attachments": {},
   "cell_type": "markdown",
   "metadata": {
    "dotnet_interactive": {
     "language": "csharp"
    },
    "polyglot_notebook": {
     "kernelName": "csharp"
    }
   },
   "source": [
    "<br>"
   ]
  },
  {
   "attachments": {},
   "cell_type": "markdown",
   "metadata": {
    "dotnet_interactive": {
     "language": "csharp"
    },
    "polyglot_notebook": {
     "kernelName": "csharp"
    }
   },
   "source": [
    "This is a method that **works without regard of the types** given to it as arguments.   \n",
    "For that reason,we define it as a **generic**."
   ]
  },
  {
   "cell_type": "code",
   "execution_count": 12,
   "metadata": {
    "dotnet_interactive": {
     "language": "csharp"
    },
    "polyglot_notebook": {
     "kernelName": "csharp"
    },
    "vscode": {
     "languageId": "polyglot-notebook"
    }
   },
   "outputs": [
    {
     "name": "stdout",
     "output_type": "stream",
     "text": [
      "After the Swap, five = 10 and ten = 5\r\n"
     ]
    }
   ],
   "source": [
    "public int five = 5,\n",
    "           ten  = 10;\n",
    "\n",
    "\n",
    "Swap<int>( ref five, ref ten );\n",
    "\n",
    "\n",
    "Console.WriteLine( $\"After the Swap, five = {five} and ten = {ten}\")"
   ]
  },
  {
   "cell_type": "code",
   "execution_count": 13,
   "metadata": {
    "dotnet_interactive": {
     "language": "csharp"
    },
    "polyglot_notebook": {
     "kernelName": "csharp"
    },
    "vscode": {
     "languageId": "polyglot-notebook"
    }
   },
   "outputs": [
    {
     "name": "stdout",
     "output_type": "stream",
     "text": [
      "After the Swap, 1st_Word = Second Word and 2nd_Word = First Word\r\n"
     ]
    }
   ],
   "source": [
    "public string firstWord  = \"First Word\",\n",
    "              secondWord = \"Second Word\"; \n",
    "\n",
    "\n",
    "Swap<string>( ref firstWord, ref secondWord );\n",
    "\n",
    "\n",
    "Console.WriteLine( \n",
    "    $\"After the Swap, 1st_Word = {firstWord} and 2nd_Word = {secondWord}\"\n",
    ")"
   ]
  },
  {
   "attachments": {},
   "cell_type": "markdown",
   "metadata": {
    "dotnet_interactive": {
     "language": "csharp"
    },
    "polyglot_notebook": {
     "kernelName": "csharp"
    }
   },
   "source": [
    "<br>"
   ]
  },
  {
   "attachments": {},
   "cell_type": "markdown",
   "metadata": {
    "dotnet_interactive": {
     "language": "csharp"
    },
    "polyglot_notebook": {
     "kernelName": "csharp"
    }
   },
   "source": [
    "we can also **omit the explicit declaration of a specific type**, because the compiler will detect it automatically, recognizing the type of the given parameters."
   ]
  },
  {
   "cell_type": "code",
   "execution_count": 14,
   "metadata": {
    "dotnet_interactive": {
     "language": "csharp"
    },
    "polyglot_notebook": {
     "kernelName": "csharp"
    },
    "vscode": {
     "languageId": "polyglot-notebook"
    }
   },
   "outputs": [
    {
     "name": "stdout",
     "output_type": "stream",
     "text": [
      "After the Swap, five = 5 and ten = 10\r\n"
     ]
    }
   ],
   "source": [
    "Swap( ref five, ref ten );\n",
    "\n",
    "Console.WriteLine( $\"After the Swap, five = {five} and ten = {ten}\")"
   ]
  },
  {
   "cell_type": "code",
   "execution_count": 15,
   "metadata": {
    "dotnet_interactive": {
     "language": "csharp"
    },
    "polyglot_notebook": {
     "kernelName": "csharp"
    },
    "vscode": {
     "languageId": "polyglot-notebook"
    }
   },
   "outputs": [
    {
     "name": "stdout",
     "output_type": "stream",
     "text": [
      "After the Swap, 1st_Word = First Word and 2nd_Word = Second Word\r\n"
     ]
    }
   ],
   "source": [
    "Swap( ref firstWord, ref secondWord );\n",
    "\n",
    "Console.WriteLine( \n",
    "    $\"After the Swap, 1st_Word = {firstWord} and 2nd_Word = {secondWord}\"\n",
    ")"
   ]
  },
  {
   "attachments": {},
   "cell_type": "markdown",
   "metadata": {
    "dotnet_interactive": {
     "language": "csharp"
    },
    "polyglot_notebook": {
     "kernelName": "csharp"
    }
   },
   "source": [
    "<br>"
   ]
  },
  {
   "attachments": {},
   "cell_type": "markdown",
   "metadata": {
    "dotnet_interactive": {
     "language": "csharp"
    },
    "polyglot_notebook": {
     "kernelName": "csharp"
    }
   },
   "source": [
    "<br>"
   ]
  },
  {
   "attachments": {},
   "cell_type": "markdown",
   "metadata": {
    "dotnet_interactive": {
     "language": "csharp"
    },
    "polyglot_notebook": {
     "kernelName": "csharp"
    }
   },
   "source": [
    "### Putting It All Together - A Generic `AnimalShelter` Class "
   ]
  },
  {
   "attachments": {},
   "cell_type": "markdown",
   "metadata": {
    "dotnet_interactive": {
     "language": "csharp"
    },
    "polyglot_notebook": {
     "kernelName": "csharp"
    }
   },
   "source": [
    "We are now ready to redesign our `AnimalShelter` class to support `Cat` types, in addition to `Dog` types:"
   ]
  },
  {
   "cell_type": "code",
   "execution_count": 16,
   "metadata": {
    "dotnet_interactive": {
     "language": "csharp"
    },
    "polyglot_notebook": {
     "kernelName": "csharp"
    },
    "vscode": {
     "languageId": "polyglot-notebook"
    }
   },
   "outputs": [],
   "source": [
    "public class AnimalShelter <T>\n",
    "{\n",
    "\n",
    "    // FIELD DEFINITIONS ---------------------------------------------------------------------\n",
    "    private const int DEFAULT_CAPACITY = 20;\n",
    "    private int placesOccupied;\n",
    "    public T[] kennels;\n",
    "    //----------------------------------------------------------------------------------------\n",
    "\n",
    "\n",
    "    // CONSTRUCTORS --------------------------------------------------------------------------\n",
    "    // The first constructor is parameterless, \n",
    "    // but uses constructor chaining to pass the DEFAULT_CAPACITY as an argument\n",
    "    public AnimalShelter() : this( DEFAULT_CAPACITY )\n",
    "    {\n",
    "    }\n",
    "\n",
    "    // Another constructor initializes the Animal Array \n",
    "    // to reflect a capacity which is defined by the numberOfPlaces argument\n",
    "    public AnimalShelter( int numberOfPlaces )\n",
    "    {\n",
    "        this.kennels = new T[ numberOfPlaces ];\n",
    "        this.placesOccupied = 0;\n",
    "    }\n",
    "    //----------------------------------------------------------------------------------------\n",
    "\n",
    "\n",
    "    // METHODS -------------------------------------------------------------------------------\n",
    "    // Add a New Animal to the Animal Array, provided that there is still enough space  \n",
    "    public void Shelter( T newAnimal )\n",
    "    {\n",
    "\n",
    "        if ( this.placesOccupied <= this.kennels.Length)\n",
    "            this.kennels[ this.placesOccupied++ ] = newAnimal;\n",
    "            \n",
    "    }\n",
    "\n",
    "    // Remove a Dog from the Animal Array and returns that removed Dog, \n",
    "    // provided that the given Animal Array Index is valid \n",
    "    public T Release( int animalIndex )\n",
    "    {\n",
    "\n",
    "        if ( animalIndex < 0 || animalIndex >= this.placesOccupied )\n",
    "        {\n",
    "            throw new ArgumentOutOfRangeException(\n",
    "                $\"Index {animalIndex} is an invalid selection.\"\n",
    "            );  \n",
    "        }\n",
    "\n",
    "\n",
    "        T releasedAnimal = this.kennels[ animalIndex ];\n",
    "\n",
    "\n",
    "        for( int currentIndex = animalIndex; currentIndex < this.placesOccupied - 1; currentIndex++ )\n",
    "        {\n",
    "            this.kennels[ currentIndex ] = this.kennels[ currentIndex + 1 ];\n",
    "        }\n",
    "\n",
    "\n",
    "       // The line below will cause an error \n",
    "       // since we are trying to use the default value for a reference type, \n",
    "       // but we are not sure whether this type is a reference type or a primitive:\n",
    "       \n",
    "            // this.kennels[ (this.placesOccupied--) - 1 ] = null;\n",
    "\n",
    "        // As such, to avoid this issue\n",
    "        // we should replace 'null' with the default(T) construct:\n",
    "        this.kennels[ (this.placesOccupied--) - 1 ] = default(T);\n",
    "\n",
    "\n",
    "        return releasedAnimal;\n",
    "\n",
    "    }\n",
    "    //----------------------------------------------------------------------------------------\n",
    "\n",
    "}"
   ]
  },
  {
   "attachments": {},
   "cell_type": "markdown",
   "metadata": {
    "dotnet_interactive": {
     "language": "csharp"
    },
    "polyglot_notebook": {
     "kernelName": "csharp"
    }
   },
   "source": [
    "<br>"
   ]
  },
  {
   "attachments": {},
   "cell_type": "markdown",
   "metadata": {
    "dotnet_interactive": {
     "language": "csharp"
    },
    "polyglot_notebook": {
     "kernelName": "csharp"
    }
   },
   "source": [
    "Below, let's instantiate a Shelter, specifically for `Cat`s, with enough kennel space to fit up to 5:  "
   ]
  },
  {
   "cell_type": "code",
   "execution_count": 17,
   "metadata": {
    "dotnet_interactive": {
     "language": "csharp"
    },
    "polyglot_notebook": {
     "kernelName": "csharp"
    },
    "vscode": {
     "languageId": "polyglot-notebook"
    }
   },
   "outputs": [],
   "source": [
    "AnimalShelter <Cat> catShelter = new AnimalShelter <Cat> (5);"
   ]
  },
  {
   "attachments": {},
   "cell_type": "markdown",
   "metadata": {
    "dotnet_interactive": {
     "language": "csharp"
    },
    "polyglot_notebook": {
     "kernelName": "csharp"
    }
   },
   "source": [
    "<br>"
   ]
  },
  {
   "attachments": {},
   "cell_type": "markdown",
   "metadata": {
    "dotnet_interactive": {
     "language": "csharp"
    },
    "polyglot_notebook": {
     "kernelName": "csharp"
    }
   },
   "source": [
    "Now, let's add enough new `Cats`s to our `catShelter` to fill every kennel except the last:"
   ]
  },
  {
   "cell_type": "code",
   "execution_count": 18,
   "metadata": {
    "dotnet_interactive": {
     "language": "csharp"
    },
    "polyglot_notebook": {
     "kernelName": "csharp"
    },
    "vscode": {
     "languageId": "polyglot-notebook"
    }
   },
   "outputs": [],
   "source": [
    "for( int kennelIndex = 0; kennelIndex < catShelter.kennels.Length - 1; kennelIndex++ )\n",
    "    catShelter.Shelter( new Cat() );"
   ]
  },
  {
   "cell_type": "code",
   "execution_count": 19,
   "metadata": {
    "dotnet_interactive": {
     "language": "csharp"
    },
    "polyglot_notebook": {
     "kernelName": "csharp"
    },
    "vscode": {
     "languageId": "polyglot-notebook"
    }
   },
   "outputs": [
    {
     "name": "stdout",
     "output_type": "stream",
     "text": [
      "MEOW!\n",
      "MEOW!\n",
      "MEOW!\n",
      "MEOW!\n",
      "<null>\n"
     ]
    }
   ],
   "source": [
    "foreach( Cat kennel in catShelter.kennels )\n",
    "{\n",
    "    Console.WriteLine(  (kennel != null) ? kennel : \"<null>\" );\n",
    "}"
   ]
  },
  {
   "attachments": {},
   "cell_type": "markdown",
   "metadata": {
    "dotnet_interactive": {
     "language": "csharp"
    },
    "polyglot_notebook": {
     "kernelName": "csharp"
    }
   },
   "source": [
    "<br>"
   ]
  },
  {
   "attachments": {},
   "cell_type": "markdown",
   "metadata": {
    "dotnet_interactive": {
     "language": "csharp"
    },
    "polyglot_notebook": {
     "kernelName": "csharp"
    }
   },
   "source": [
    "Now suppose we wanted to Release the `Cat` in the 2nd kennel:"
   ]
  },
  {
   "cell_type": "code",
   "execution_count": 20,
   "metadata": {
    "dotnet_interactive": {
     "language": "csharp"
    },
    "polyglot_notebook": {
     "kernelName": "csharp"
    },
    "vscode": {
     "languageId": "polyglot-notebook"
    }
   },
   "outputs": [],
   "source": [
    "Cat releasedAnimal = catShelter.Release( 1 );"
   ]
  },
  {
   "cell_type": "code",
   "execution_count": 21,
   "metadata": {
    "dotnet_interactive": {
     "language": "csharp"
    },
    "polyglot_notebook": {
     "kernelName": "csharp"
    },
    "vscode": {
     "languageId": "polyglot-notebook"
    }
   },
   "outputs": [
    {
     "name": "stdout",
     "output_type": "stream",
     "text": [
      "MEOW!\n",
      "MEOW!\n",
      "MEOW!\n",
      "<null>\n",
      "<null>\n"
     ]
    }
   ],
   "source": [
    "foreach( Cat kennel in catShelter.kennels )\n",
    "{\n",
    "    Console.WriteLine(  (kennel != null) ? kennel : \"<null>\" );\n",
    "}"
   ]
  },
  {
   "attachments": {},
   "cell_type": "markdown",
   "metadata": {
    "dotnet_interactive": {
     "language": "csharp"
    },
    "polyglot_notebook": {
     "kernelName": "csharp"
    }
   },
   "source": [
    "<br>"
   ]
  },
  {
   "attachments": {},
   "cell_type": "markdown",
   "metadata": {
    "dotnet_interactive": {
     "language": "csharp"
    },
    "polyglot_notebook": {
     "kernelName": "csharp"
    }
   },
   "source": [
    "As demonstrated above, we have now adapted the `AnimalShelter` class to accept animal objects of **any type**."
   ]
  }
 ],
 "metadata": {
  "kernelspec": {
   "display_name": ".NET (C#)",
   "language": "C#",
   "name": ".net-csharp"
  },
  "polyglot_notebook": {
   "kernelInfo": {
    "defaultKernelName": "csharp",
    "items": [
     {
      "aliases": [],
      "name": "csharp"
     }
    ]
   }
  }
 },
 "nbformat": 4,
 "nbformat_minor": 2
}
