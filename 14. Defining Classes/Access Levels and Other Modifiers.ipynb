{
 "cells": [
  {
   "attachments": {},
   "cell_type": "markdown",
   "metadata": {
    "dotnet_interactive": {
     "language": "csharp"
    },
    "polyglot_notebook": {
     "kernelName": "csharp"
    }
   },
   "source": [
    "# 14. Defining Classes"
   ]
  },
  {
   "attachments": {},
   "cell_type": "markdown",
   "metadata": {
    "dotnet_interactive": {
     "language": "csharp"
    },
    "polyglot_notebook": {
     "kernelName": "csharp"
    }
   },
   "source": [
    "## Access Levels and Other Modifiers\n",
    "---"
   ]
  },
  {
   "attachments": {},
   "cell_type": "markdown",
   "metadata": {
    "dotnet_interactive": {
     "language": "csharp"
    },
    "polyglot_notebook": {
     "kernelName": "csharp"
    }
   },
   "source": [
    "### Access Levels"
   ]
  },
  {
   "attachments": {},
   "cell_type": "markdown",
   "metadata": {
    "dotnet_interactive": {
     "language": "csharp"
    },
    "polyglot_notebook": {
     "kernelName": "csharp"
    }
   },
   "source": [
    "In $C\\#$ there are **four access-level modifiers**: \n",
    "1. `public` \n",
    "2. `internal`    \n",
    "3. `protected`\n",
    "4. `private` "
   ]
  },
  {
   "attachments": {},
   "cell_type": "markdown",
   "metadata": {
    "dotnet_interactive": {
     "language": "csharp"
    },
    "polyglot_notebook": {
     "kernelName": "csharp"
    }
   },
   "source": [
    "<br>"
   ]
  },
  {
   "attachments": {},
   "cell_type": "markdown",
   "metadata": {
    "dotnet_interactive": {
     "language": "csharp"
    },
    "polyglot_notebook": {
     "kernelName": "csharp"
    }
   },
   "source": [
    "The **access-level modifiers** can be used with the following `class` elements: \n",
    "- declaration\n",
    "- fields\n",
    "- properties\n",
    "- methods"
   ]
  },
  {
   "attachments": {},
   "cell_type": "markdown",
   "metadata": {
    "dotnet_interactive": {
     "language": "csharp"
    },
    "polyglot_notebook": {
     "kernelName": "csharp"
    }
   },
   "source": [
    "<br>"
   ]
  },
  {
   "attachments": {},
   "cell_type": "markdown",
   "metadata": {
    "dotnet_interactive": {
     "language": "csharp"
    },
    "polyglot_notebook": {
     "kernelName": "csharp"
    }
   },
   "source": [
    "Based on these **access modifiers**, we may optionally designate the **scope** (**visibility**) available for other elements of the `class` by placing the modifier in front of the `class` keyword during Declaration, as follows:"
   ]
  },
  {
   "attachments": {},
   "cell_type": "markdown",
   "metadata": {
    "dotnet_interactive": {
     "language": "csharp"
    },
    "polyglot_notebook": {
     "kernelName": "csharp"
    }
   },
   "source": [
    "```c#\n",
    "[access_modifiers] class className\n",
    "```"
   ]
  },
  {
   "attachments": {},
   "cell_type": "markdown",
   "metadata": {
    "dotnet_interactive": {
     "language": "csharp"
    },
    "polyglot_notebook": {
     "kernelName": "csharp"
    }
   },
   "source": [
    "<br>"
   ]
  },
  {
   "attachments": {},
   "cell_type": "markdown",
   "metadata": {
    "dotnet_interactive": {
     "language": "csharp"
    },
    "polyglot_notebook": {
     "kernelName": "csharp"
    }
   },
   "source": [
    "#### The `public` Access Level"
   ]
  },
  {
   "attachments": {},
   "cell_type": "markdown",
   "metadata": {
    "dotnet_interactive": {
     "language": "csharp"
    },
    "polyglot_notebook": {
     "kernelName": "csharp"
    }
   },
   "source": [
    "If we declare a class **access modifier** as `public`, we can **reach it from every class and from every namespace**, regardless of where it exists.    \n",
    "    \n",
    "It means that every other class can create objects from this type and has access to the methods and the fields of the `public` class."
   ]
  },
  {
   "attachments": {},
   "cell_type": "markdown",
   "metadata": {
    "dotnet_interactive": {
     "language": "csharp"
    },
    "polyglot_notebook": {
     "kernelName": "csharp"
    }
   },
   "source": [
    "<br>"
   ]
  },
  {
   "attachments": {},
   "cell_type": "markdown",
   "metadata": {
    "dotnet_interactive": {
     "language": "csharp"
    },
    "polyglot_notebook": {
     "kernelName": "csharp"
    }
   },
   "source": [
    "Say, for example, we declared the following `Person` `class` whose $fields$, $properties$, $constructor$, and $method$ are all of a `public` **access level**:"
   ]
  },
  {
   "cell_type": "code",
   "execution_count": 1,
   "metadata": {
    "dotnet_interactive": {
     "language": "csharp"
    },
    "polyglot_notebook": {
     "kernelName": "csharp"
    },
    "vscode": {
     "languageId": "polyglot-notebook"
    }
   },
   "outputs": [],
   "source": [
    "// Class Declaration\n",
    "public class Person\n",
    "{\n",
    "\n",
    "    // Field Declarations -----------------------------------------\n",
    "    public string name,\n",
    "                  objective = \"be nimble, be quick.\";\n",
    "    //-------------------------------------------------------------\n",
    "\n",
    "\n",
    "    // Property Definitions ---------------------------------------\n",
    "    public string Name\n",
    "    {\n",
    "        get { return this.name; }\n",
    "        set { this.name = value; }\n",
    "    }\n",
    "    //-------------------------------------------------------------\n",
    "    public string Objective\n",
    "    {\n",
    "        get { return this.objective; }\n",
    "        set { this.objective = value; }\n",
    "    }\n",
    "    //-------------------------------------------------------------\n",
    "\n",
    "\n",
    "    // Constructor ------------------------------------------------\n",
    "    public Person( string name )\n",
    "    {\n",
    "        this.Name = name;\n",
    "    }\n",
    "    //-------------------------------------------------------------\n",
    "\n",
    "\n",
    "    // Method -----------------------------------------------------\n",
    "    public void JumpOverACandleStick()\n",
    "    {\n",
    "        Console.WriteLine(\n",
    "            $\"{ this.Name }, { this.Objective } { this.Name } \"\n",
    "            +\n",
    "            \"jumped over a candle stick.\"\n",
    "        );\n",
    "    }\n",
    "    //-------------------------------------------------------------\n",
    "\n",
    "}"
   ]
  },
  {
   "attachments": {},
   "cell_type": "markdown",
   "metadata": {
    "dotnet_interactive": {
     "language": "csharp"
    },
    "polyglot_notebook": {
     "kernelName": "csharp"
    }
   },
   "source": [
    "<br>"
   ]
  },
  {
   "attachments": {},
   "cell_type": "markdown",
   "metadata": {
    "dotnet_interactive": {
     "language": "csharp"
    },
    "polyglot_notebook": {
     "kernelName": "csharp"
    }
   },
   "source": [
    "When a $method$, $constructor$, or a $field$ of a class is declared with a `public` **access level**, it can be used from other classes, independently from the fact if another class is declared in the same namespace, assembly, or outside of it:"
   ]
  },
  {
   "cell_type": "code",
   "execution_count": 2,
   "metadata": {
    "dotnet_interactive": {
     "language": "csharp"
    },
    "polyglot_notebook": {
     "kernelName": "csharp"
    },
    "vscode": {
     "languageId": "polyglot-notebook"
    }
   },
   "outputs": [],
   "source": [
    "public class CandleStick\n",
    "{\n",
    "\n",
    "    public void GetJumpedOver( Person jack )\n",
    "    {\n",
    "        jack.JumpOverACandleStick();\n",
    "    }\n",
    "    \n",
    "}"
   ]
  },
  {
   "attachments": {},
   "cell_type": "markdown",
   "metadata": {
    "dotnet_interactive": {
     "language": "csharp"
    },
    "polyglot_notebook": {
     "kernelName": "csharp"
    }
   },
   "source": [
    "<br>"
   ]
  },
  {
   "cell_type": "code",
   "execution_count": 3,
   "metadata": {
    "dotnet_interactive": {
     "language": "csharp"
    },
    "polyglot_notebook": {
     "kernelName": "csharp"
    },
    "vscode": {
     "languageId": "polyglot-notebook"
    }
   },
   "outputs": [
    {
     "name": "stdout",
     "output_type": "stream",
     "text": [
      "Jack, be nimble, be quick. Jack jumped over a candle stick.\r\n"
     ]
    }
   ],
   "source": [
    "new CandleStick().GetJumpedOver( new Person( \"Jack\" ) );"
   ]
  },
  {
   "attachments": {},
   "cell_type": "markdown",
   "metadata": {
    "dotnet_interactive": {
     "language": "csharp"
    },
    "polyglot_notebook": {
     "kernelName": "csharp"
    }
   },
   "source": [
    "<br>"
   ]
  },
  {
   "attachments": {},
   "cell_type": "markdown",
   "metadata": {
    "dotnet_interactive": {
     "language": "csharp"
    },
    "polyglot_notebook": {
     "kernelName": "csharp"
    }
   },
   "source": [
    "#### The `internal` Access Level"
   ]
  },
  {
   "attachments": {},
   "cell_type": "markdown",
   "metadata": {
    "dotnet_interactive": {
     "language": "csharp"
    },
    "polyglot_notebook": {
     "kernelName": "csharp"
    }
   },
   "source": [
    "If we declare a class with an `internal` **access modifier**, it will be **accessible only from the same namespace**.    \n",
    "   \n",
    "This means that only the classes from the same assembly can create objects from this type class, or to have access to the methods and fields of the class."
   ]
  },
  {
   "attachments": {},
   "cell_type": "markdown",
   "metadata": {
    "dotnet_interactive": {
     "language": "csharp"
    },
    "polyglot_notebook": {
     "kernelName": "csharp"
    }
   },
   "source": [
    "<br>"
   ]
  },
  {
   "attachments": {},
   "cell_type": "markdown",
   "metadata": {
    "dotnet_interactive": {
     "language": "csharp"
    },
    "polyglot_notebook": {
     "kernelName": "csharp"
    }
   },
   "source": [
    "Say, for example, we declared the following `Humpty` `class` whose $fields$, $properties$, $constructor$, and $method$ are all of a `internal` **access level**:"
   ]
  },
  {
   "cell_type": "code",
   "execution_count": 4,
   "metadata": {
    "dotnet_interactive": {
     "language": "csharp"
    },
    "polyglot_notebook": {
     "kernelName": "csharp"
    },
    "vscode": {
     "languageId": "polyglot-notebook"
    }
   },
   "outputs": [],
   "source": [
    "// Class Declaration\n",
    "internal class Humpty \n",
    "{\n",
    "\n",
    "    // Field Declarations -----------------------------------------\n",
    "    internal string name;\n",
    "    //-------------------------------------------------------------\n",
    "\n",
    "\n",
    "    // Property Definitions ---------------------------------------\n",
    "    internal string Name\n",
    "    {\n",
    "        get { return this.name; }\n",
    "        set { this.name = value; }\n",
    "    }\n",
    "    //-------------------------------------------------------------\n",
    "\n",
    "\n",
    "    // Constructor ------------------------------------------------\n",
    "    internal Humpty( string name )\n",
    "    {\n",
    "        this.Name = name;\n",
    "    }\n",
    "    //-------------------------------------------------------------\n",
    "\n",
    "\n",
    "    // Method -----------------------------------------------------\n",
    "    internal string SitOnAWall()\n",
    "    {\n",
    "        return  $\"Humpty { this.Name } sat on a wall....\\n\";\n",
    "    }\n",
    "    //-------------------------------------------------------------\n",
    "\n",
    "}"
   ]
  },
  {
   "attachments": {},
   "cell_type": "markdown",
   "metadata": {
    "dotnet_interactive": {
     "language": "csharp"
    },
    "polyglot_notebook": {
     "kernelName": "csharp"
    }
   },
   "source": [
    "<br>"
   ]
  },
  {
   "attachments": {},
   "cell_type": "markdown",
   "metadata": {
    "dotnet_interactive": {
     "language": "csharp"
    },
    "polyglot_notebook": {
     "kernelName": "csharp"
    }
   },
   "source": [
    "When a member of some class is declared with an `internal` **access level** , then this element from the class can be accessed from every class in the same assembly (i.e. in the same project scope), but not from classes outside it."
   ]
  },
  {
   "cell_type": "code",
   "execution_count": 5,
   "metadata": {
    "dotnet_interactive": {
     "language": "csharp"
    },
    "polyglot_notebook": {
     "kernelName": "csharp"
    },
    "vscode": {
     "languageId": "polyglot-notebook"
    }
   },
   "outputs": [],
   "source": [
    "internal class Wall\n",
    "{\n",
    "\n",
    "    internal void CauseGreatFall( Humpty dumpty )\n",
    "    { \n",
    "        Console.WriteLine(\n",
    "            $\"{dumpty.SitOnAWall()}\"\n",
    "            +\n",
    "            $\"Humpty { dumpty.Name } had a great fall :)\"\n",
    "        );\n",
    "    }\n",
    "\n",
    "}"
   ]
  },
  {
   "attachments": {},
   "cell_type": "markdown",
   "metadata": {
    "dotnet_interactive": {
     "language": "csharp"
    },
    "polyglot_notebook": {
     "kernelName": "csharp"
    }
   },
   "source": [
    "<br>"
   ]
  },
  {
   "cell_type": "code",
   "execution_count": 6,
   "metadata": {
    "dotnet_interactive": {
     "language": "csharp"
    },
    "polyglot_notebook": {
     "kernelName": "csharp"
    },
    "vscode": {
     "languageId": "polyglot-notebook"
    }
   },
   "outputs": [
    {
     "name": "stdout",
     "output_type": "stream",
     "text": [
      "Humpty Dumpty sat on a wall....\n",
      "Humpty Dumpty had a great fall :)\r\n"
     ]
    }
   ],
   "source": [
    "new Wall().CauseGreatFall( new Humpty( \"Dumpty\" ) );"
   ]
  },
  {
   "attachments": {},
   "cell_type": "markdown",
   "metadata": {
    "dotnet_interactive": {
     "language": "csharp"
    },
    "polyglot_notebook": {
     "kernelName": "csharp"
    }
   },
   "source": [
    "<br>"
   ]
  },
  {
   "attachments": {},
   "cell_type": "markdown",
   "metadata": {
    "dotnet_interactive": {
     "language": "csharp"
    },
    "polyglot_notebook": {
     "kernelName": "csharp"
    }
   },
   "source": [
    "#### The `protected` Access Level"
   ]
  },
  {
   "attachments": {},
   "cell_type": "markdown",
   "metadata": {
    "dotnet_interactive": {
     "language": "csharp"
    },
    "polyglot_notebook": {
     "kernelName": "csharp"
    }
   },
   "source": [
    "The `protected` keyword is used for the members of a class, rather than the class itself."
   ]
  },
  {
   "attachments": {},
   "cell_type": "markdown",
   "metadata": {
    "dotnet_interactive": {
     "language": "csharp"
    },
    "polyglot_notebook": {
     "kernelName": "csharp"
    }
   },
   "source": [
    "If a member of the class uses the `protected` accessibility level, then anything inside of the class can use it, as well as any derived class. It’s a little broader than `private`, but still more restrictive than `public`."
   ]
  },
  {
   "attachments": {},
   "cell_type": "markdown",
   "metadata": {
    "dotnet_interactive": {
     "language": "csharp"
    },
    "polyglot_notebook": {
     "kernelName": "csharp"
    }
   },
   "source": [
    "<br>"
   ]
  },
  {
   "attachments": {},
   "cell_type": "markdown",
   "metadata": {
    "dotnet_interactive": {
     "language": "csharp"
    },
    "polyglot_notebook": {
     "kernelName": "csharp"
    }
   },
   "source": [
    "Let's suppose we have declared the following `Polygon` `class`: "
   ]
  },
  {
   "cell_type": "code",
   "execution_count": 7,
   "metadata": {
    "dotnet_interactive": {
     "language": "csharp"
    },
    "polyglot_notebook": {
     "kernelName": "csharp"
    },
    "vscode": {
     "languageId": "polyglot-notebook"
    }
   },
   "outputs": [],
   "source": [
    "public class Polygon\n",
    "{\n",
    "    \n",
    "    // Initialized Field Definition \n",
    "    protected int numberOfSides = 3;\n",
    "\n",
    "\n",
    "    // Property Definition\n",
    "    protected int NumberOfSides \n",
    "    { \n",
    "        get{ return this.numberOfSides; }\n",
    "        set{ this.numberOfSides = value; }\n",
    "    }\n",
    "\n",
    "\n",
    "    // Default Constructor\n",
    "    public Polygon( )\n",
    "    {\n",
    "    }\n",
    "\n",
    "\n",
    "    // Constructor\n",
    "    public Polygon( int numberOfSides )\n",
    "    {\n",
    "        this.numberOfSides = numberOfSides;\n",
    "    }\n",
    "\n",
    "}"
   ]
  },
  {
   "attachments": {},
   "cell_type": "markdown",
   "metadata": {
    "dotnet_interactive": {
     "language": "csharp"
    },
    "polyglot_notebook": {
     "kernelName": "csharp"
    }
   },
   "source": [
    "<br>"
   ]
  },
  {
   "attachments": {},
   "cell_type": "markdown",
   "metadata": {
    "dotnet_interactive": {
     "language": "csharp"
    },
    "polyglot_notebook": {
     "kernelName": "csharp"
    }
   },
   "source": [
    "A `protected` member of a base class is accessible in a derived class only if the access occurs through the derived class type:"
   ]
  },
  {
   "cell_type": "code",
   "execution_count": 8,
   "metadata": {
    "dotnet_interactive": {
     "language": "csharp"
    },
    "polyglot_notebook": {
     "kernelName": "csharp"
    },
    "vscode": {
     "languageId": "polyglot-notebook"
    }
   },
   "outputs": [
    {
     "ename": "Error",
     "evalue": "(28,42): error CS1540: Cannot access protected member 'Polygon.NumberOfSides' via a qualifier of type 'Polygon'; the qualifier must be of type 'Rectangle' (or derived from it)",
     "output_type": "error",
     "traceback": [
      "(28,42): error CS1540: Cannot access protected member 'Polygon.NumberOfSides' via a qualifier of type 'Polygon'; the qualifier must be of type 'Rectangle' (or derived from it)"
     ]
    }
   ],
   "source": [
    "// This Rectangle class is inherited from the Polygon Base class  \n",
    "public class Rectangle : Polygon\n",
    "{\n",
    "    public Rectangle()\n",
    "    {\n",
    "        // Overload of the NumberOfSides Property \n",
    "        // which was inherited from the base class\n",
    "        this.NumberOfSides = 4;\n",
    "    }\n",
    "\n",
    "    public void RectangleVsTriangle()\n",
    "    {\n",
    "\n",
    "        Rectangle rectangle =  new Rectangle();\n",
    "        Polygon   triangle  =  new Polygon(3);\n",
    "\n",
    "\n",
    "        // This works fine since Rectangle is derived from Polygon\n",
    "        Console.WriteLine(\n",
    "            $\"A Rectangle has: { rectangle.NumberOfSides } sides\"\n",
    "        );\n",
    "\n",
    "\n",
    "        // This results in an error since, while inside the Rectangle class,\n",
    "        // the NumberOfSides Property can only be accessed by\n",
    "        // class members which are derived from Rectangle\n",
    "        Console.WriteLine(\n",
    "            $\"A Triangle has: { triangle.NumberOfSides } sides\"\n",
    "        );\n",
    "\n",
    "    } \n",
    "} "
   ]
  },
  {
   "attachments": {},
   "cell_type": "markdown",
   "metadata": {
    "dotnet_interactive": {
     "language": "csharp"
    },
    "polyglot_notebook": {
     "kernelName": "csharp"
    }
   },
   "source": [
    "<br>"
   ]
  },
  {
   "attachments": {},
   "cell_type": "markdown",
   "metadata": {
    "dotnet_interactive": {
     "language": "csharp"
    },
    "polyglot_notebook": {
     "kernelName": "csharp"
    }
   },
   "source": [
    "#### The `private` Access Level"
   ]
  },
  {
   "attachments": {},
   "cell_type": "markdown",
   "metadata": {
    "dotnet_interactive": {
     "language": "csharp"
    },
    "polyglot_notebook": {
     "kernelName": "csharp"
    }
   },
   "source": [
    "The `private` access level is one which defines the **most restrictive level of visibility** of the class and its elements.    \n",
    "   \n",
    "The `private` modifier is used to indicate, that the element, to which is issued, **cannot be accessed from any other class** (except the class, in which it is defined), even if this class exists in the same namespace. \n",
    "   \n",
    "**This is the default access level**, i.e. it is used when there is no access level modifier in front of the respective element of a class (this is true only for elements inside a class)."
   ]
  },
  {
   "attachments": {},
   "cell_type": "markdown",
   "metadata": {
    "dotnet_interactive": {
     "language": "csharp"
    },
    "polyglot_notebook": {
     "kernelName": "csharp"
    }
   },
   "source": [
    "<br>"
   ]
  },
  {
   "attachments": {},
   "cell_type": "markdown",
   "metadata": {
    "dotnet_interactive": {
     "language": "csharp"
    },
    "polyglot_notebook": {
     "kernelName": "csharp"
    }
   },
   "source": [
    "Let's say we decalare the following class implementation a Secret Message whose $fields$, $properties$, $constructor$, and $method$ are all of a `private` **access level**::"
   ]
  },
  {
   "cell_type": "code",
   "execution_count": 9,
   "metadata": {
    "dotnet_interactive": {
     "language": "csharp"
    },
    "polyglot_notebook": {
     "kernelName": "csharp"
    },
    "vscode": {
     "languageId": "polyglot-notebook"
    }
   },
   "outputs": [],
   "source": [
    "// Class Declaration\n",
    "private class Secret\n",
    "{\n",
    "\n",
    "    // Field Declarations -----------------------------------------\n",
    "    private string message;\n",
    "    //-------------------------------------------------------------\n",
    "\n",
    "\n",
    "    // Property Definitions ---------------------------------------\n",
    "    private string Message\n",
    "    {\n",
    "        get { return this.message; }\n",
    "        set { this.message = value; }\n",
    "    }\n",
    "    //-------------------------------------------------------------\n",
    "\n",
    "\n",
    "    // Constructor ------------------------------------------------\n",
    "    private Secret( string message )\n",
    "    {\n",
    "        this.Message = message;\n",
    "    }\n",
    "    //-------------------------------------------------------------\n",
    "\n",
    "\n",
    "    // Method -----------------------------------------------------\n",
    "    private string SpillTheBeans()\n",
    "    {\n",
    "        return  this.Message;\n",
    "    }\n",
    "    //-------------------------------------------------------------\n",
    "    \n",
    "}"
   ]
  },
  {
   "attachments": {},
   "cell_type": "markdown",
   "metadata": {
    "dotnet_interactive": {
     "language": "csharp"
    },
    "polyglot_notebook": {
     "kernelName": "csharp"
    }
   },
   "source": [
    "<br>"
   ]
  },
  {
   "attachments": {},
   "cell_type": "markdown",
   "metadata": {
    "dotnet_interactive": {
     "language": "csharp"
    },
    "polyglot_notebook": {
     "kernelName": "csharp"
    }
   },
   "source": [
    "The elements of the class which are declared `private` (or without any access modifier, because `private` is the **default one**), **cannot be accessed outside of the class in which they are declared**, even if those external classes provide `public` visibility:"
   ]
  },
  {
   "cell_type": "code",
   "execution_count": 10,
   "metadata": {
    "dotnet_interactive": {
     "language": "csharp"
    },
    "polyglot_notebook": {
     "kernelName": "csharp"
    },
    "vscode": {
     "languageId": "polyglot-notebook"
    }
   },
   "outputs": [
    {
     "ename": "Error",
     "evalue": "(4,19): error CS0051: Inconsistent accessibility: parameter type 'Secret' is less accessible than method 'TattleTale.TellSecret(Secret)'\r\n(6,31): error CS0122: 'Secret.SpillTheBeans()' is inaccessible due to its protection level",
     "output_type": "error",
     "traceback": [
      "(4,19): error CS0051: Inconsistent accessibility: parameter type 'Secret' is less accessible than method 'TattleTale.TellSecret(Secret)'\r\n",
      "(6,31): error CS0122: 'Secret.SpillTheBeans()' is inaccessible due to its protection level"
     ]
    }
   ],
   "source": [
    "public class TattleTale\n",
    "{\n",
    "\n",
    "    public string TellSecret( Secret whoShotKennedy )\n",
    "    {\n",
    "        return whoShotKennedy.SpillTheBeans();\n",
    "    }\n",
    "\n",
    "}"
   ]
  },
  {
   "attachments": {},
   "cell_type": "markdown",
   "metadata": {
    "dotnet_interactive": {
     "language": "csharp"
    },
    "polyglot_notebook": {
     "kernelName": "csharp"
    }
   },
   "source": [
    "<br>"
   ]
  },
  {
   "attachments": {},
   "cell_type": "markdown",
   "metadata": {
    "dotnet_interactive": {
     "language": "csharp"
    },
    "polyglot_notebook": {
     "kernelName": "csharp"
    }
   },
   "source": [
    "<br>"
   ]
  },
  {
   "attachments": {},
   "cell_type": "markdown",
   "metadata": {
    "dotnet_interactive": {
     "language": "csharp"
    },
    "polyglot_notebook": {
     "kernelName": "csharp"
    }
   },
   "source": [
    "### The `sealed` Modifier"
   ]
  },
  {
   "attachments": {},
   "cell_type": "markdown",
   "metadata": {
    "dotnet_interactive": {
     "language": "csharp"
    },
    "polyglot_notebook": {
     "kernelName": "csharp"
    }
   },
   "source": [
    "There may come a time where you want to **prevent a class from being inherited**. This might happen if you want to ensure that no one derives anything from a specific class.   \n",
    "   \n",
    "You can use the `sealed` keyword to make it so nothing can inherit from a specific class by adding it to your class definition right after specifying the optional access level and before the `class` keyword, as shown below:"
   ]
  },
  {
   "cell_type": "code",
   "execution_count": 11,
   "metadata": {
    "dotnet_interactive": {
     "language": "csharp"
    },
    "polyglot_notebook": {
     "kernelName": "csharp"
    },
    "vscode": {
     "languageId": "polyglot-notebook"
    }
   },
   "outputs": [],
   "source": [
    "public sealed class Bird\n",
    "{\n",
    "    // Automatic Property Definition\n",
    "    public int WingSpan { get; set; }\n",
    "\n",
    "    // Default Constructor\n",
    "    public Bird()\n",
    "    {\n",
    "    }\n",
    "}"
   ]
  },
  {
   "cell_type": "code",
   "execution_count": 12,
   "metadata": {
    "dotnet_interactive": {
     "language": "csharp"
    },
    "polyglot_notebook": {
     "kernelName": "csharp"
    },
    "vscode": {
     "languageId": "polyglot-notebook"
    }
   },
   "outputs": [
    {
     "ename": "Error",
     "evalue": "(1,23): error CS0509: 'Parrot': cannot derive from sealed type 'Bird'",
     "output_type": "error",
     "traceback": [
      "(1,23): error CS0509: 'Parrot': cannot derive from sealed type 'Bird'"
     ]
    }
   ],
   "source": [
    "public class Parrot : Bird\n",
    "{\n",
    "    void FeedMePlease()\n",
    "    {\n",
    "        Console.WriteLine(\"Polly wants a cracker!\");\n",
    "    }\n",
    "}"
   ]
  }
 ],
 "metadata": {
  "kernelspec": {
   "display_name": ".NET (C#)",
   "language": "C#",
   "name": ".net-csharp"
  },
  "polyglot_notebook": {
   "kernelInfo": {
    "defaultKernelName": "csharp",
    "items": [
     {
      "aliases": [],
      "name": "csharp"
     }
    ]
   }
  }
 },
 "nbformat": 4,
 "nbformat_minor": 2
}
