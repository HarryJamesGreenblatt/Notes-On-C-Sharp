{
 "cells": [
  {
   "attachments": {},
   "cell_type": "markdown",
   "metadata": {
    "dotnet_interactive": {
     "language": "csharp"
    },
    "polyglot_notebook": {
     "kernelName": "csharp"
    }
   },
   "source": [
    "# 15. Text Files"
   ]
  },
  {
   "attachments": {},
   "cell_type": "markdown",
   "metadata": {
    "dotnet_interactive": {
     "language": "csharp"
    },
    "polyglot_notebook": {
     "kernelName": "csharp"
    }
   },
   "source": [
    "## `StreamReader` and `StreamWriter`\n",
    "---"
   ]
  },
  {
   "attachments": {},
   "cell_type": "markdown",
   "metadata": {
    "dotnet_interactive": {
     "language": "csharp"
    },
    "polyglot_notebook": {
     "kernelName": "csharp"
    }
   },
   "source": [
    "The `StreamReader` and `StreamWriter` clasees are derived from the `System.IO` namespace:"
   ]
  },
  {
   "cell_type": "code",
   "execution_count": 1,
   "metadata": {
    "dotnet_interactive": {
     "language": "csharp"
    },
    "polyglot_notebook": {
     "kernelName": "csharp"
    },
    "vscode": {
     "languageId": "polyglot-notebook"
    }
   },
   "outputs": [],
   "source": [
    "using System.IO;"
   ]
  },
  {
   "attachments": {},
   "cell_type": "markdown",
   "metadata": {
    "dotnet_interactive": {
     "language": "csharp"
    },
    "polyglot_notebook": {
     "kernelName": "csharp"
    }
   },
   "source": [
    "<br>"
   ]
  },
  {
   "cell_type": "markdown",
   "metadata": {
    "dotnet_interactive": {
     "language": "csharp"
    },
    "polyglot_notebook": {
     "kernelName": "csharp"
    }
   },
   "source": [
    "<br>"
   ]
  },
  {
   "attachments": {},
   "cell_type": "markdown",
   "metadata": {
    "dotnet_interactive": {
     "language": "csharp"
    },
    "polyglot_notebook": {
     "kernelName": "csharp"
    }
   },
   "source": [
    "### `StreamReader` Class for Reading a Text File"
   ]
  },
  {
   "attachments": {},
   "cell_type": "markdown",
   "metadata": {
    "dotnet_interactive": {
     "language": "csharp"
    },
    "polyglot_notebook": {
     "kernelName": "csharp"
    }
   },
   "source": [
    "While $C\\#$ provides several ways to read files, not all are easy and intuitive to use. This is why we will use the `System.IO.StreamReader` class, which provides the easiest way to read a text file, as it resembles reading from the console."
   ]
  },
  {
   "attachments": {},
   "cell_type": "markdown",
   "metadata": {
    "dotnet_interactive": {
     "language": "csharp"
    },
    "polyglot_notebook": {
     "kernelName": "csharp"
    }
   },
   "source": [
    "<br>"
   ]
  },
  {
   "attachments": {},
   "cell_type": "markdown",
   "metadata": {
    "dotnet_interactive": {
     "language": "csharp"
    },
    "polyglot_notebook": {
     "kernelName": "csharp"
    }
   },
   "source": [
    "#### Identifying a Text File for Reading"
   ]
  },
  {
   "attachments": {},
   "cell_type": "markdown",
   "metadata": {
    "dotnet_interactive": {
     "language": "csharp"
    },
    "polyglot_notebook": {
     "kernelName": "csharp"
    }
   },
   "source": [
    "Let's say we have the following file, `Fish.txt`, residing in some `ExampleText` directory, which we would like to read:"
   ]
  },
  {
   "attachments": {},
   "cell_type": "markdown",
   "metadata": {
    "dotnet_interactive": {
     "language": "csharp"
    },
    "polyglot_notebook": {
     "kernelName": "csharp"
    }
   },
   "source": [
    "```\n",
    "One Fish\n",
    "Two Fish\n",
    "Red Fish\n",
    "Blue Fish\n",
    "```"
   ]
  },
  {
   "attachments": {},
   "cell_type": "markdown",
   "metadata": {
    "dotnet_interactive": {
     "language": "csharp"
    },
    "polyglot_notebook": {
     "kernelName": "csharp"
    }
   },
   "source": [
    "<br>"
   ]
  },
  {
   "attachments": {},
   "cell_type": "markdown",
   "metadata": {
    "dotnet_interactive": {
     "language": "csharp"
    },
    "polyglot_notebook": {
     "kernelName": "csharp"
    }
   },
   "source": [
    "#### Full V.S. Relative Paths"
   ]
  },
  {
   "attachments": {},
   "cell_type": "markdown",
   "metadata": {
    "dotnet_interactive": {
     "language": "csharp"
    },
    "polyglot_notebook": {
     "kernelName": "csharp"
    }
   },
   "source": [
    "When searching for the file, we can use either: \n",
    "- a **full path** (e.g. `C:\\PathToDirectory\\ExampleText\\Fish.txt`) \n",
    "- a **relative path** to the directory from which the application was started (e.g. `ExampleText\\Fish.txt`)."
   ]
  },
  {
   "attachments": {},
   "cell_type": "markdown",
   "metadata": {
    "dotnet_interactive": {
     "language": "csharp"
    },
    "polyglot_notebook": {
     "kernelName": "csharp"
    }
   },
   "source": [
    "When specifying a path, do not forget to apply **escaping of slashes**.    \n",
    "In $C\\#$, you can do this in two ways:"
   ]
  },
  {
   "cell_type": "code",
   "execution_count": 2,
   "metadata": {
    "dotnet_interactive": {
     "language": "csharp"
    },
    "polyglot_notebook": {
     "kernelName": "csharp"
    },
    "vscode": {
     "languageId": "polyglot-notebook"
    }
   },
   "outputs": [],
   "source": [
    "// By escaping the Slashes\n",
    "string fullPathEscapedSlashes = \"C:\\\\PathToDirectory\\\\ExampleText\\\\Fish.txt\";"
   ]
  },
  {
   "cell_type": "code",
   "execution_count": 3,
   "metadata": {
    "dotnet_interactive": {
     "language": "csharp"
    },
    "polyglot_notebook": {
     "kernelName": "csharp"
    },
    "vscode": {
     "languageId": "polyglot-notebook"
    }
   },
   "outputs": [],
   "source": [
    "// By using a Verbatim string\n",
    "string fullPathVerbatim = @\"C:\\PathToDirectory\\ExampleText\\Fish.txt\";"
   ]
  },
  {
   "attachments": {},
   "cell_type": "markdown",
   "metadata": {
    "dotnet_interactive": {
     "language": "csharp"
    },
    "polyglot_notebook": {
     "kernelName": "csharp"
    }
   },
   "source": [
    "Although the use of relative paths is more difficult because you have to take into account the directory structure of your project which may change during the life of the project, it is **highly recommended avoiding full paths**."
   ]
  },
  {
   "attachments": {},
   "cell_type": "markdown",
   "metadata": {
    "dotnet_interactive": {
     "language": "csharp"
    },
    "polyglot_notebook": {
     "kernelName": "csharp"
    }
   },
   "source": [
    "Using the full path to a file is bad practice because it makes your application dependent on the environment and also nontransferable. If you transfer it to another computer, you will need to correct paths to the files. However, if you use a relative path to the current directory (e.g. `ExampleText\\Fish.txt`), your program will be easily portable."
   ]
  },
  {
   "attachments": {},
   "cell_type": "markdown",
   "metadata": {
    "dotnet_interactive": {
     "language": "csharp"
    },
    "polyglot_notebook": {
     "kernelName": "csharp"
    }
   },
   "source": [
    "<br>"
   ]
  },
  {
   "attachments": {},
   "cell_type": "markdown",
   "metadata": {
    "dotnet_interactive": {
     "language": "csharp"
    },
    "polyglot_notebook": {
     "kernelName": "csharp"
    }
   },
   "source": [
    "#### Reading a Text File Line by Line and Manually Closing the File"
   ]
  },
  {
   "cell_type": "code",
   "execution_count": 4,
   "metadata": {
    "dotnet_interactive": {
     "language": "csharp"
    },
    "polyglot_notebook": {
     "kernelName": "csharp"
    },
    "vscode": {
     "languageId": "polyglot-notebook"
    }
   },
   "outputs": [
    {
     "name": "stdout",
     "output_type": "stream",
     "text": [
      "Line 1: One Fish\n",
      "Line 2: Two Fish\n",
      "Line 3: Red Fish\n",
      "Line 4: Blue Fish\n"
     ]
    }
   ],
   "source": [
    "// First, we open a stream to the input file \n",
    "// by creating in instance of the StreadReader class \n",
    "// which reads from our desired input source\n",
    "StreamReader reader = new StreamReader( @\"ExampleText\\Fish.txt\" );\n",
    "\n",
    "\n",
    "// We then initialize a variable which will account for \n",
    "// each concurrent line number \n",
    "int lineNumber = 1;\n",
    "\n",
    "\n",
    "// We may now read in the first line of the input\n",
    "string currentLine = reader.ReadLine();\n",
    "\n",
    "\n",
    "// From here, \n",
    "// Iterating While the current line still has valid data to be read:\n",
    "while( currentLine != null )\n",
    "{\n",
    "\n",
    "    // Print the current line number, along with the line itself,\n",
    "    // taking care to simultaneously increment the line number afterwards\n",
    "    Console.WriteLine( $\"Line {lineNumber++}: {currentLine}\" );\n",
    "\n",
    "\n",
    "    // Clobber the old line with the next concurrent line\n",
    "    currentLine = reader.ReadLine();\n",
    "\n",
    "}\n",
    "\n",
    "\n",
    "// After all that,\n",
    "// The file has been successfully read.\n",
    "// Close the file stream to avoid resource conflicts\n",
    "reader.Close();"
   ]
  },
  {
   "attachments": {},
   "cell_type": "markdown",
   "metadata": {
    "dotnet_interactive": {
     "language": "csharp"
    },
    "polyglot_notebook": {
     "kernelName": "csharp"
    }
   },
   "source": [
    "<br>"
   ]
  },
  {
   "attachments": {},
   "cell_type": "markdown",
   "metadata": {
    "dotnet_interactive": {
     "language": "csharp"
    },
    "polyglot_notebook": {
     "kernelName": "csharp"
    }
   },
   "source": [
    "#### Reading a Text File Line by Line and Automatically Closing the File"
   ]
  },
  {
   "attachments": {},
   "cell_type": "markdown",
   "metadata": {
    "dotnet_interactive": {
     "language": "csharp"
    },
    "polyglot_notebook": {
     "kernelName": "csharp"
    }
   },
   "source": [
    "Very often, novice programmers forget to call the `Close()` method, thus blocking the file they use. This causes resource leakage and can lead to very unpleasant effects like program hanging, program misbehavior and strange errors."
   ]
  },
  {
   "attachments": {},
   "cell_type": "markdown",
   "metadata": {
    "dotnet_interactive": {
     "language": "csharp"
    },
    "polyglot_notebook": {
     "kernelName": "csharp"
    }
   },
   "source": [
    "To avoid this issue, it is advisable to **bypass the file closing requirement** with the `using` keyword, as generalized below:"
   ]
  },
  {
   "attachments": {},
   "cell_type": "markdown",
   "metadata": {
    "dotnet_interactive": {
     "language": "csharp"
    },
    "polyglot_notebook": {
     "kernelName": "csharp"
    }
   },
   "source": [
    "```c#\n",
    "using ( streamObjectName )\n",
    "{\n",
    "    // read the stream object and do something with it\n",
    "}\n",
    "```"
   ]
  },
  {
   "attachments": {},
   "cell_type": "markdown",
   "metadata": {
    "dotnet_interactive": {
     "language": "csharp"
    },
    "polyglot_notebook": {
     "kernelName": "csharp"
    }
   },
   "source": [
    "Below, we'll see how implementing the `using()` construct simplifies the process by **automatically closing the file**:"
   ]
  },
  {
   "cell_type": "code",
   "execution_count": 5,
   "metadata": {
    "dotnet_interactive": {
     "language": "csharp"
    },
    "polyglot_notebook": {
     "kernelName": "csharp"
    },
    "vscode": {
     "languageId": "polyglot-notebook"
    }
   },
   "outputs": [],
   "source": [
    "public void ReadThenClose( string filePath )\n",
    "{\n",
    "\n",
    "    // First, we open a stream to the input file \n",
    "    // by creating in instance of the StreadReader class \n",
    "    // which reads from our desired input source\n",
    "    StreamReader reader = new StreamReader( filePath );\n",
    "\n",
    "\n",
    "    // Invoke the using construct to ensure \n",
    "    // that the file stream will be closed after processing the data\n",
    "    using ( reader )\n",
    "    {\n",
    "\n",
    "        // We then initialize a variable which will account for \n",
    "        // each concurrent line number \n",
    "        int lineNumber = 1;\n",
    "\n",
    "\n",
    "        // We may now read in the first line of the input\n",
    "        string currentLine = reader.ReadLine();\n",
    "\n",
    "\n",
    "        // From here, \n",
    "        // Iterating While the current line still has valid data to be read:\n",
    "        while( currentLine != null )\n",
    "        {\n",
    "\n",
    "            // Print the current line number, along with the line itself,\n",
    "            // taking care to simultaneously increment the line number afterwards\n",
    "            Console.WriteLine( $\"Line {lineNumber++}: {currentLine}\" );\n",
    "\n",
    "\n",
    "            // Clobber the old line with the next concurrent line\n",
    "            currentLine = reader.ReadLine();\n",
    "\n",
    "        }\n",
    "\n",
    "\n",
    "        // After all that,\n",
    "        // The file has been successfully read\n",
    "\n",
    "    }\n",
    "\n",
    "    // Here, we can be sure that\n",
    "    // The file stream has been closed automatically\n",
    "\n",
    "}"
   ]
  },
  {
   "cell_type": "code",
   "execution_count": 6,
   "metadata": {
    "dotnet_interactive": {
     "language": "csharp"
    },
    "polyglot_notebook": {
     "kernelName": "csharp"
    },
    "vscode": {
     "languageId": "polyglot-notebook"
    }
   },
   "outputs": [
    {
     "name": "stdout",
     "output_type": "stream",
     "text": [
      "Line 1: One Fish\n",
      "Line 2: Two Fish\n",
      "Line 3: Red Fish\n",
      "Line 4: Blue Fish\n"
     ]
    }
   ],
   "source": [
    "ReadThenClose( @\"ExampleText\\Fish.txt\" )"
   ]
  },
  {
   "attachments": {},
   "cell_type": "markdown",
   "metadata": {
    "dotnet_interactive": {
     "language": "csharp"
    },
    "polyglot_notebook": {
     "kernelName": "csharp"
    }
   },
   "source": [
    "<br>"
   ]
  },
  {
   "cell_type": "markdown",
   "metadata": {
    "dotnet_interactive": {
     "language": "csharp"
    },
    "polyglot_notebook": {
     "kernelName": "csharp"
    }
   },
   "source": [
    "<br>"
   ]
  },
  {
   "attachments": {},
   "cell_type": "markdown",
   "metadata": {
    "dotnet_interactive": {
     "language": "csharp"
    },
    "polyglot_notebook": {
     "kernelName": "csharp"
    }
   },
   "source": [
    "### Character Encodings"
   ]
  },
  {
   "attachments": {},
   "cell_type": "markdown",
   "metadata": {
    "dotnet_interactive": {
     "language": "csharp"
    },
    "polyglot_notebook": {
     "kernelName": "csharp"
    }
   },
   "source": [
    "In memory, everything is **stored in binary form**.    \n",
    "   \n",
    "This means that it is necessary for text files to be represented digitally, so that they can be stored in memory, as well as on the hard disk. This process is called **encoding** files, or more correctly encoding the characters stored in text files."
   ]
  },
  {
   "attachments": {},
   "cell_type": "markdown",
   "metadata": {
    "dotnet_interactive": {
     "language": "csharp"
    },
    "polyglot_notebook": {
     "kernelName": "csharp"
    }
   },
   "source": [
    "The **encoding process** consists of **replacing the text characters** (*letters*, *digits*, *punctuation*, etc.) with **specific sequences of binary values**. You can imagine this as a large table in which each character corresponds to a certain **value** (**sequence of bytes**)."
   ]
  },
  {
   "attachments": {},
   "cell_type": "markdown",
   "metadata": {
    "dotnet_interactive": {
     "language": "csharp"
    },
    "polyglot_notebook": {
     "kernelName": "csharp"
    }
   },
   "source": [
    "#### The Unicode Standard"
   ]
  },
  {
   "attachments": {},
   "cell_type": "markdown",
   "metadata": {
    "dotnet_interactive": {
     "language": "csharp"
    },
    "polyglot_notebook": {
     "kernelName": "csharp"
    }
   },
   "source": [
    "The **Unicode Standard** assigns a **code point** (a number) to each character in every supported script. A **Unicode Transformation Format** (**UTF**) is a way to encode that code point."
   ]
  },
  {
   "attachments": {},
   "cell_type": "markdown",
   "metadata": {
    "dotnet_interactive": {
     "language": "csharp"
    },
    "polyglot_notebook": {
     "kernelName": "csharp"
    }
   },
   "source": [
    "All character encoding classes in .NET inherit from the `System.Text.Encoding` class, which is an abstract class that defines the functionality common to all character encodings, as illustrated below:"
   ]
  },
  {
   "attachments": {},
   "cell_type": "markdown",
   "metadata": {
    "dotnet_interactive": {
     "language": "csharp"
    },
    "polyglot_notebook": {
     "kernelName": "csharp"
    }
   },
   "source": [
    "- **UTF-8**, which represents each code point as a sequence of **one to four bytes**"
   ]
  },
  {
   "cell_type": "code",
   "execution_count": 7,
   "metadata": {
    "dotnet_interactive": {
     "language": "csharp"
    },
    "polyglot_notebook": {
     "kernelName": "csharp"
    },
    "vscode": {
     "languageId": "polyglot-notebook"
    }
   },
   "outputs": [
    {
     "data": {
      "text/html": [
       "<table><thead><tr><th>Preamble</th><th>BodyName</th><th>EncodingName</th><th>HeaderName</th><th>WebName</th><th>WindowsCodePage</th><th>IsBrowserDisplay</th><th>IsBrowserSave</th><th>IsMailNewsDisplay</th><th>IsMailNewsSave</th><th>IsSingleByte</th><th>EncoderFallback</th><th>DecoderFallback</th><th>IsReadOnly</th><th>CodePage</th></tr></thead><tbody><tr><td><div class=\"dni-plaintext\"><pre>System.Text.UTF8Encoding+UTF8EncodingSealed</pre></div></td><td><div class=\"dni-plaintext\"><pre>utf-8</pre></div></td><td><div class=\"dni-plaintext\"><pre>Unicode (UTF-8)</pre></div></td><td><div class=\"dni-plaintext\"><pre>utf-8</pre></div></td><td><div class=\"dni-plaintext\"><pre>utf-8</pre></div></td><td><div class=\"dni-plaintext\"><pre>1200</pre></div></td><td><div class=\"dni-plaintext\"><pre>True</pre></div></td><td><div class=\"dni-plaintext\"><pre>True</pre></div></td><td><div class=\"dni-plaintext\"><pre>True</pre></div></td><td><div class=\"dni-plaintext\"><pre>True</pre></div></td><td><div class=\"dni-plaintext\"><pre>False</pre></div></td><td><div class=\"dni-plaintext\"><pre>EncoderReplacementFallback\r\n",
       "      DefaultString: �\r\n",
       "      MaxCharCount: 1</pre></div></td><td><div class=\"dni-plaintext\"><pre>DecoderReplacementFallback\r\n",
       "      DefaultString: �\r\n",
       "      MaxCharCount: 1</pre></div></td><td><div class=\"dni-plaintext\"><pre>True</pre></div></td><td><div class=\"dni-plaintext\"><pre>65001</pre></div></td></tr></tbody></table><style>\r\n",
       ".dni-code-hint {\r\n",
       "    font-style: italic;\r\n",
       "    overflow: hidden;\r\n",
       "    white-space: nowrap;\r\n",
       "}\r\n",
       ".dni-treeview {\r\n",
       "    white-space: nowrap;\r\n",
       "}\r\n",
       ".dni-treeview td {\r\n",
       "    vertical-align: top;\r\n",
       "    text-align: start;\r\n",
       "}\r\n",
       "details.dni-treeview {\r\n",
       "    padding-left: 1em;\r\n",
       "}\r\n",
       "table td {\r\n",
       "    text-align: start;\r\n",
       "}\r\n",
       "table tr { \r\n",
       "    vertical-align: top; \r\n",
       "    margin: 0em 0px;\r\n",
       "}\r\n",
       "table tr td pre \r\n",
       "{ \r\n",
       "    vertical-align: top !important; \r\n",
       "    margin: 0em 0px !important;\r\n",
       "} \r\n",
       "table th {\r\n",
       "    text-align: start;\r\n",
       "}\r\n",
       "</style>"
      ]
     },
     "metadata": {},
     "output_type": "display_data"
    }
   ],
   "source": [
    "Encoding.GetEncoding(\"UTF-8\")"
   ]
  },
  {
   "attachments": {},
   "cell_type": "markdown",
   "metadata": {
    "dotnet_interactive": {
     "language": "csharp"
    },
    "polyglot_notebook": {
     "kernelName": "csharp"
    }
   },
   "source": [
    "<br>"
   ]
  },
  {
   "attachments": {},
   "cell_type": "markdown",
   "metadata": {
    "dotnet_interactive": {
     "language": "csharp"
    },
    "polyglot_notebook": {
     "kernelName": "csharp"
    }
   },
   "source": [
    "- **UTF-16**, which represents each code point as a sequence of **one to two 16-bit integers**"
   ]
  },
  {
   "cell_type": "code",
   "execution_count": 8,
   "metadata": {
    "dotnet_interactive": {
     "language": "csharp"
    },
    "polyglot_notebook": {
     "kernelName": "csharp"
    },
    "vscode": {
     "languageId": "polyglot-notebook"
    }
   },
   "outputs": [
    {
     "data": {
      "text/html": [
       "<table><thead><tr><th>Preamble</th><th>BodyName</th><th>EncodingName</th><th>HeaderName</th><th>WebName</th><th>WindowsCodePage</th><th>IsBrowserDisplay</th><th>IsBrowserSave</th><th>IsMailNewsDisplay</th><th>IsMailNewsSave</th><th>IsSingleByte</th><th>EncoderFallback</th><th>DecoderFallback</th><th>IsReadOnly</th><th>CodePage</th></tr></thead><tbody><tr><td><div class=\"dni-plaintext\"><pre>System.Text.UnicodeEncoding</pre></div></td><td><div class=\"dni-plaintext\"><pre>utf-16</pre></div></td><td><div class=\"dni-plaintext\"><pre>Unicode</pre></div></td><td><div class=\"dni-plaintext\"><pre>utf-16</pre></div></td><td><div class=\"dni-plaintext\"><pre>utf-16</pre></div></td><td><div class=\"dni-plaintext\"><pre>1200</pre></div></td><td><div class=\"dni-plaintext\"><pre>False</pre></div></td><td><div class=\"dni-plaintext\"><pre>True</pre></div></td><td><div class=\"dni-plaintext\"><pre>False</pre></div></td><td><div class=\"dni-plaintext\"><pre>False</pre></div></td><td><div class=\"dni-plaintext\"><pre>False</pre></div></td><td><div class=\"dni-plaintext\"><pre>EncoderReplacementFallback\r\n",
       "      DefaultString: �\r\n",
       "      MaxCharCount: 1</pre></div></td><td><div class=\"dni-plaintext\"><pre>DecoderReplacementFallback\r\n",
       "      DefaultString: �\r\n",
       "      MaxCharCount: 1</pre></div></td><td><div class=\"dni-plaintext\"><pre>True</pre></div></td><td><div class=\"dni-plaintext\"><pre>1200</pre></div></td></tr></tbody></table><style>\r\n",
       ".dni-code-hint {\r\n",
       "    font-style: italic;\r\n",
       "    overflow: hidden;\r\n",
       "    white-space: nowrap;\r\n",
       "}\r\n",
       ".dni-treeview {\r\n",
       "    white-space: nowrap;\r\n",
       "}\r\n",
       ".dni-treeview td {\r\n",
       "    vertical-align: top;\r\n",
       "    text-align: start;\r\n",
       "}\r\n",
       "details.dni-treeview {\r\n",
       "    padding-left: 1em;\r\n",
       "}\r\n",
       "table td {\r\n",
       "    text-align: start;\r\n",
       "}\r\n",
       "table tr { \r\n",
       "    vertical-align: top; \r\n",
       "    margin: 0em 0px;\r\n",
       "}\r\n",
       "table tr td pre \r\n",
       "{ \r\n",
       "    vertical-align: top !important; \r\n",
       "    margin: 0em 0px !important;\r\n",
       "} \r\n",
       "table th {\r\n",
       "    text-align: start;\r\n",
       "}\r\n",
       "</style>"
      ]
     },
     "metadata": {},
     "output_type": "display_data"
    }
   ],
   "source": [
    "Encoding.GetEncoding(\"UTF-16\")"
   ]
  },
  {
   "attachments": {},
   "cell_type": "markdown",
   "metadata": {
    "dotnet_interactive": {
     "language": "csharp"
    },
    "polyglot_notebook": {
     "kernelName": "csharp"
    }
   },
   "source": [
    "<br>"
   ]
  },
  {
   "attachments": {},
   "cell_type": "markdown",
   "metadata": {
    "dotnet_interactive": {
     "language": "csharp"
    },
    "polyglot_notebook": {
     "kernelName": "csharp"
    }
   },
   "source": [
    "- **UTF-32**, which represents each code point as a **32-bit integer**."
   ]
  },
  {
   "cell_type": "code",
   "execution_count": 9,
   "metadata": {
    "dotnet_interactive": {
     "language": "csharp"
    },
    "polyglot_notebook": {
     "kernelName": "csharp"
    },
    "vscode": {
     "languageId": "polyglot-notebook"
    }
   },
   "outputs": [
    {
     "data": {
      "text/html": [
       "<table><thead><tr><th>Preamble</th><th>BodyName</th><th>EncodingName</th><th>HeaderName</th><th>WebName</th><th>WindowsCodePage</th><th>IsBrowserDisplay</th><th>IsBrowserSave</th><th>IsMailNewsDisplay</th><th>IsMailNewsSave</th><th>IsSingleByte</th><th>EncoderFallback</th><th>DecoderFallback</th><th>IsReadOnly</th><th>CodePage</th></tr></thead><tbody><tr><td><div class=\"dni-plaintext\"><pre>System.Text.UTF32Encoding</pre></div></td><td><div class=\"dni-plaintext\"><pre>utf-32</pre></div></td><td><div class=\"dni-plaintext\"><pre>Unicode (UTF-32)</pre></div></td><td><div class=\"dni-plaintext\"><pre>utf-32</pre></div></td><td><div class=\"dni-plaintext\"><pre>utf-32</pre></div></td><td><div class=\"dni-plaintext\"><pre>1200</pre></div></td><td><div class=\"dni-plaintext\"><pre>False</pre></div></td><td><div class=\"dni-plaintext\"><pre>False</pre></div></td><td><div class=\"dni-plaintext\"><pre>False</pre></div></td><td><div class=\"dni-plaintext\"><pre>False</pre></div></td><td><div class=\"dni-plaintext\"><pre>False</pre></div></td><td><div class=\"dni-plaintext\"><pre>EncoderReplacementFallback\r\n",
       "      DefaultString: �\r\n",
       "      MaxCharCount: 1</pre></div></td><td><div class=\"dni-plaintext\"><pre>DecoderReplacementFallback\r\n",
       "      DefaultString: �\r\n",
       "      MaxCharCount: 1</pre></div></td><td><div class=\"dni-plaintext\"><pre>True</pre></div></td><td><div class=\"dni-plaintext\"><pre>12000</pre></div></td></tr></tbody></table><style>\r\n",
       ".dni-code-hint {\r\n",
       "    font-style: italic;\r\n",
       "    overflow: hidden;\r\n",
       "    white-space: nowrap;\r\n",
       "}\r\n",
       ".dni-treeview {\r\n",
       "    white-space: nowrap;\r\n",
       "}\r\n",
       ".dni-treeview td {\r\n",
       "    vertical-align: top;\r\n",
       "    text-align: start;\r\n",
       "}\r\n",
       "details.dni-treeview {\r\n",
       "    padding-left: 1em;\r\n",
       "}\r\n",
       "table td {\r\n",
       "    text-align: start;\r\n",
       "}\r\n",
       "table tr { \r\n",
       "    vertical-align: top; \r\n",
       "    margin: 0em 0px;\r\n",
       "}\r\n",
       "table tr td pre \r\n",
       "{ \r\n",
       "    vertical-align: top !important; \r\n",
       "    margin: 0em 0px !important;\r\n",
       "} \r\n",
       "table th {\r\n",
       "    text-align: start;\r\n",
       "}\r\n",
       "</style>"
      ]
     },
     "metadata": {},
     "output_type": "display_data"
    }
   ],
   "source": [
    "Encoding.GetEncoding(\"UTF-32\")"
   ]
  },
  {
   "attachments": {},
   "cell_type": "markdown",
   "metadata": {
    "dotnet_interactive": {
     "language": "csharp"
    },
    "polyglot_notebook": {
     "kernelName": "csharp"
    }
   },
   "source": [
    "<br>"
   ]
  },
  {
   "attachments": {},
   "cell_type": "markdown",
   "metadata": {
    "dotnet_interactive": {
     "language": "csharp"
    },
    "polyglot_notebook": {
     "kernelName": "csharp"
    }
   },
   "source": [
    "Using this convention, we may optionally specify the character encoding of any given **Stream Object** as generalized below: "
   ]
  },
  {
   "attachments": {},
   "cell_type": "markdown",
   "metadata": {
    "dotnet_interactive": {
     "language": "csharp"
    },
    "polyglot_notebook": {
     "kernelName": "csharp"
    }
   },
   "source": [
    "```c#\n",
    "StreamReader readerName = new StreamReader(\n",
    "    @\"PathTo\\SomeFile.txt\",\n",
    "    [Encoding.GetEncoding(\"SomeEncoding\")]\n",
    ");\n",
    "```"
   ]
  },
  {
   "attachments": {},
   "cell_type": "markdown",
   "metadata": {
    "dotnet_interactive": {
     "language": "csharp"
    },
    "polyglot_notebook": {
     "kernelName": "csharp"
    }
   },
   "source": [
    "<br>"
   ]
  },
  {
   "cell_type": "markdown",
   "metadata": {
    "dotnet_interactive": {
     "language": "csharp"
    },
    "polyglot_notebook": {
     "kernelName": "csharp"
    }
   },
   "source": [
    "<br>"
   ]
  },
  {
   "attachments": {},
   "cell_type": "markdown",
   "metadata": {
    "dotnet_interactive": {
     "language": "csharp"
    },
    "polyglot_notebook": {
     "kernelName": "csharp"
    }
   },
   "source": [
    "### `StreamWriter` Class for Writing to a Text File"
   ]
  },
  {
   "attachments": {},
   "cell_type": "markdown",
   "metadata": {
    "dotnet_interactive": {
     "language": "csharp"
    },
    "polyglot_notebook": {
     "kernelName": "csharp"
    }
   },
   "source": [
    "The `StreamWriter` class is part of the `System.IO` namespace and is used exclusively for working with text data.   \n",
    "   \n",
    "It resembles the `StreamReader` class, but instead of methods for reading, it offers similar methods for **writing to a text file**. Unlike other streams, *before* writing data to the desired destination, `StreamWriter` turns it into bytes. `StreamWriter` also enables us to set a preferred **character encoding** at the time it is created, but also features an additional optional **boolean** parameter which indicates whether to **Overwrite** or **Append to a file** if it is found to already exist. "
   ]
  },
  {
   "attachments": {},
   "cell_type": "markdown",
   "metadata": {
    "dotnet_interactive": {
     "language": "csharp"
    },
    "polyglot_notebook": {
     "kernelName": "csharp"
    }
   },
   "source": [
    "<br>"
   ]
  },
  {
   "attachments": {},
   "cell_type": "markdown",
   "metadata": {
    "dotnet_interactive": {
     "language": "csharp"
    },
    "polyglot_notebook": {
     "kernelName": "csharp"
    }
   },
   "source": [
    "We can create an instance of the class as generalized below:"
   ]
  },
  {
   "attachments": {},
   "cell_type": "markdown",
   "metadata": {
    "dotnet_interactive": {
     "language": "csharp"
    },
    "polyglot_notebook": {
     "kernelName": "csharp"
    }
   },
   "source": [
    "```c#\n",
    "StreamWriter writerName = new StreamWriter(\n",
    "    @\"PathTo\\SomeFile.txt\",\n",
    "    [ [Encoding:] Encoding.GetEncoding(\"SomeEncoding\") ],\n",
    "    [ [Append:] TrueOrFalse ]   \n",
    ");\n",
    "```"
   ]
  },
  {
   "attachments": {},
   "cell_type": "markdown",
   "metadata": {
    "dotnet_interactive": {
     "language": "csharp"
    },
    "polyglot_notebook": {
     "kernelName": "csharp"
    }
   },
   "source": [
    "<br>"
   ]
  },
  {
   "attachments": {},
   "cell_type": "markdown",
   "metadata": {
    "dotnet_interactive": {
     "language": "csharp"
    },
    "polyglot_notebook": {
     "kernelName": "csharp"
    }
   },
   "source": [
    "#### Writing to a New Text File Line by Line and Manually Closing the File"
   ]
  },
  {
   "attachments": {},
   "cell_type": "markdown",
   "metadata": {
    "dotnet_interactive": {
     "language": "csharp"
    },
    "polyglot_notebook": {
     "kernelName": "csharp"
    }
   },
   "source": [
    "Let's suppose we wanted to write a file named `OneThruTwenty.txt` which **counts every number from 1 to 20** on a new line. We may implement that as follows:"
   ]
  },
  {
   "cell_type": "code",
   "execution_count": 10,
   "metadata": {
    "dotnet_interactive": {
     "language": "csharp"
    },
    "polyglot_notebook": {
     "kernelName": "csharp"
    },
    "vscode": {
     "languageId": "polyglot-notebook"
    }
   },
   "outputs": [],
   "source": [
    "// First, we open a stream to the output file \n",
    "// by creating in instance of the StreamWriter class \n",
    "// which will target the specified file, should it be found to exist,\n",
    "// or create it, should it not be found to exist \n",
    "StreamWriter writer = new StreamWriter( \n",
    "    @\"ExampleText\\OneThruTwenty.txt\"\n",
    ");\n",
    "\n",
    "\n",
    "// From here, \n",
    "// Iterating For every concurrent integer from 1 to 20:\n",
    "for( int concurrentInteger = 1; concurrentInteger <= 20; concurrentInteger++ )\n",
    "{\n",
    "\n",
    "    // Write the concurrent integer to a new line in the text file\n",
    "    writer.WriteLine( concurrentInteger );\n",
    "\n",
    "}\n",
    "\n",
    "\n",
    "// After all that,\n",
    "// The file has been successfully read.\n",
    "// Close the file stream to avoid resource conflicts\n",
    "writer.Close();"
   ]
  },
  {
   "attachments": {},
   "cell_type": "markdown",
   "metadata": {
    "dotnet_interactive": {
     "language": "csharp"
    },
    "polyglot_notebook": {
     "kernelName": "csharp"
    }
   },
   "source": [
    "<br>"
   ]
  },
  {
   "attachments": {},
   "cell_type": "markdown",
   "metadata": {
    "dotnet_interactive": {
     "language": "csharp"
    },
    "polyglot_notebook": {
     "kernelName": "csharp"
    }
   },
   "source": [
    "After the writing operations are concluded, we may deploy our `ReadThenClose()` method which utilizes `StreamReader` to verify that `OneThruTwenty.txt` was successfully written to:"
   ]
  },
  {
   "cell_type": "code",
   "execution_count": 11,
   "metadata": {
    "dotnet_interactive": {
     "language": "csharp"
    },
    "polyglot_notebook": {
     "kernelName": "csharp"
    },
    "vscode": {
     "languageId": "polyglot-notebook"
    }
   },
   "outputs": [
    {
     "name": "stdout",
     "output_type": "stream",
     "text": [
      "Line 1: 1\n",
      "Line 2: 2\n",
      "Line 3: 3\n",
      "Line 4: 4\n",
      "Line 5: 5\n",
      "Line 6: 6\n",
      "Line 7: 7\n",
      "Line 8: 8\n",
      "Line 9: 9\n",
      "Line 10: 10\n",
      "Line 11: 11\n",
      "Line 12: 12\n",
      "Line 13: 13\n",
      "Line 14: 14\n",
      "Line 15: 15\n",
      "Line 16: 16\n",
      "Line 17: 17\n",
      "Line 18: 18\n",
      "Line 19: 19\n",
      "Line 20: 20\n"
     ]
    }
   ],
   "source": [
    "ReadThenClose( @\"ExampleText\\OneThruTwenty.txt\" );"
   ]
  },
  {
   "attachments": {},
   "cell_type": "markdown",
   "metadata": {
    "dotnet_interactive": {
     "language": "csharp"
    },
    "polyglot_notebook": {
     "kernelName": "csharp"
    }
   },
   "source": [
    "<br>"
   ]
  },
  {
   "attachments": {},
   "cell_type": "markdown",
   "metadata": {
    "dotnet_interactive": {
     "language": "csharp"
    },
    "polyglot_notebook": {
     "kernelName": "csharp"
    }
   },
   "source": [
    "#### Appending Lines to an Existing Text File and Automatically Closing the File"
   ]
  },
  {
   "attachments": {},
   "cell_type": "markdown",
   "metadata": {
    "dotnet_interactive": {
     "language": "csharp"
    },
    "polyglot_notebook": {
     "kernelName": "csharp"
    }
   },
   "source": [
    "Now, suppose that, rather than creating a new file, we wanted to **add a new line to an existing text file**, without overwiting the other lines of text present."
   ]
  },
  {
   "attachments": {},
   "cell_type": "markdown",
   "metadata": {
    "dotnet_interactive": {
     "language": "csharp"
    },
    "polyglot_notebook": {
     "kernelName": "csharp"
    }
   },
   "source": [
    "For example, say we wanted to add the following lines to the `Fish.txt` file:"
   ]
  },
  {
   "cell_type": "code",
   "execution_count": 12,
   "metadata": {
    "dotnet_interactive": {
     "language": "csharp"
    },
    "polyglot_notebook": {
     "kernelName": "csharp"
    },
    "vscode": {
     "languageId": "polyglot-notebook"
    }
   },
   "outputs": [],
   "source": [
    "public string[] linesToAppend = \n",
    "{\n",
    "    \"False Fish\",\n",
    "    \"True Fish\",\n",
    "    \"Me Fish\",\n",
    "    \"You Fish\"\n",
    "}; "
   ]
  },
  {
   "attachments": {},
   "cell_type": "markdown",
   "metadata": {
    "dotnet_interactive": {
     "language": "csharp"
    },
    "polyglot_notebook": {
     "kernelName": "csharp"
    }
   },
   "source": [
    "<br>"
   ]
  },
  {
   "attachments": {},
   "cell_type": "markdown",
   "metadata": {
    "dotnet_interactive": {
     "language": "csharp"
    },
    "polyglot_notebook": {
     "kernelName": "csharp"
    }
   },
   "source": [
    "We may implement our desired objective, while simultaneously ensuring to close the file automatically, as follows:"
   ]
  },
  {
   "cell_type": "code",
   "execution_count": 13,
   "metadata": {
    "dotnet_interactive": {
     "language": "csharp"
    },
    "polyglot_notebook": {
     "kernelName": "csharp"
    },
    "vscode": {
     "languageId": "polyglot-notebook"
    }
   },
   "outputs": [],
   "source": [
    "// This time, we will also specify the optional 'append' parameter\n",
    "// to indicate that we choose not to overwrite the exisitng data \n",
    "StreamWriter writer = new StreamWriter( \n",
    "    @\"ExampleText\\Fish.txt\",\n",
    "    append: true\n",
    ");\n",
    "\n",
    "\n",
    "// Invoke the using construct to ensure \n",
    "// that the file stream will be closed after processing the data\n",
    "using( writer )\n",
    "{\n",
    "\n",
    "    // From here, \n",
    "    // Iterating For Each current line in the array of lines to append:\n",
    "    foreach( string concurrentLine in linesToAppend )\n",
    "    {\n",
    "\n",
    "        // Write the concurrent line to a new line in the text file\n",
    "        writer.WriteLine( concurrentLine );\n",
    "\n",
    "    }\n",
    "\n",
    "}\n",
    "\n",
    "// Here, we can be sure that\n",
    "// The file stream has been closed automatically"
   ]
  },
  {
   "attachments": {},
   "cell_type": "markdown",
   "metadata": {
    "dotnet_interactive": {
     "language": "csharp"
    },
    "polyglot_notebook": {
     "kernelName": "csharp"
    }
   },
   "source": [
    "<br>"
   ]
  },
  {
   "attachments": {},
   "cell_type": "markdown",
   "metadata": {
    "dotnet_interactive": {
     "language": "csharp"
    },
    "polyglot_notebook": {
     "kernelName": "csharp"
    }
   },
   "source": [
    "After the writing operations are concluded, we may deploy our `ReadThenClose()` method which utilizes `StreamReader` to verify that `Fish.txt` was successfully appended:"
   ]
  },
  {
   "cell_type": "code",
   "execution_count": 14,
   "metadata": {
    "dotnet_interactive": {
     "language": "csharp"
    },
    "polyglot_notebook": {
     "kernelName": "csharp"
    },
    "vscode": {
     "languageId": "polyglot-notebook"
    }
   },
   "outputs": [
    {
     "name": "stdout",
     "output_type": "stream",
     "text": [
      "Line 1: One Fish\n",
      "Line 2: Two Fish\n",
      "Line 3: Red Fish\n",
      "Line 4: Blue Fish\n",
      "Line 5: False Fish\n",
      "Line 6: True Fish\n",
      "Line 7: Me Fish\n",
      "Line 8: You Fish\n"
     ]
    }
   ],
   "source": [
    "ReadThenClose( @\"ExampleText\\Fish.txt\" );"
   ]
  }
 ],
 "metadata": {
  "kernelspec": {
   "display_name": ".NET (C#)",
   "language": "C#",
   "name": ".net-csharp"
  },
  "polyglot_notebook": {
   "kernelInfo": {
    "defaultKernelName": "csharp",
    "items": [
     {
      "aliases": [],
      "name": "csharp"
     }
    ]
   }
  }
 },
 "nbformat": 4,
 "nbformat_minor": 2
}
