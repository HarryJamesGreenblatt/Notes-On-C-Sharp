{
 "cells": [
  {
   "attachments": {},
   "cell_type": "markdown",
   "metadata": {
    "dotnet_interactive": {
     "language": "csharp"
    },
    "polyglot_notebook": {
     "kernelName": "csharp"
    }
   },
   "source": [
    "# 15. Text Files"
   ]
  },
  {
   "attachments": {},
   "cell_type": "markdown",
   "metadata": {
    "dotnet_interactive": {
     "language": "csharp"
    },
    "polyglot_notebook": {
     "kernelName": "csharp"
    }
   },
   "source": [
    "## Working with Files and Directories\n",
    "### The `FileInfo` Class\n",
    "---"
   ]
  },
  {
   "attachments": {},
   "cell_type": "markdown",
   "metadata": {
    "dotnet_interactive": {
     "language": "csharp"
    },
    "polyglot_notebook": {
     "kernelName": "csharp"
    }
   },
   "source": [
    "The [FileInfo](https://learn.microsoft.com/en-us/dotnet/api/system.io.fileinfo?view=net-7.0) class provides the same functionality as a static `File` class. You have more control on how you do read/write operations on a file by writing code manually for reading or writing bytes from a file. "
   ]
  },
  {
   "attachments": {},
   "cell_type": "markdown",
   "metadata": {
    "dotnet_interactive": {
     "language": "csharp"
    },
    "polyglot_notebook": {
     "kernelName": "csharp"
    }
   },
   "source": [
    "<br>"
   ]
  },
  {
   "attachments": {},
   "cell_type": "markdown",
   "metadata": {
    "dotnet_interactive": {
     "language": "csharp"
    },
    "polyglot_notebook": {
     "kernelName": "csharp"
    }
   },
   "source": [
    "### Class Definition"
   ]
  },
  {
   "attachments": {},
   "cell_type": "markdown",
   "metadata": {
    "dotnet_interactive": {
     "language": "csharp"
    },
    "polyglot_notebook": {
     "kernelName": "csharp"
    }
   },
   "source": [
    "#### Fields"
   ]
  },
  {
   "attachments": {},
   "cell_type": "markdown",
   "metadata": {
    "dotnet_interactive": {
     "language": "csharp"
    },
    "polyglot_notebook": {
     "kernelName": "csharp"
    }
   },
   "source": [
    "<table class=\"nameValue table table-sm table-stacked-mobile\" aria-label=\"Table 3\">\n",
    "        \t<tbody><tr data-moniker=\" dotnet-uwp-10.0 netcore-1.0 netcore-1.1 netstandard-1.3 netstandard-1.4 netstandard-1.6 net-5.0 net-6.0 net-7.0 netcore-2.0 netcore-2.1 netcore-2.2 netcore-3.0 netcore-3.1 netframework-1.1 netframework-2.0 netframework-3.0 netframework-3.5 netframework-4.0 netframework-4.5 netframework-4.5.1 netframework-4.5.2 netframework-4.6 netframework-4.6.1 netframework-4.6.2 netframework-4.7 netframework-4.7.1 netframework-4.7.2 netframework-4.8 netframework-4.8.1 netstandard-2.0 netstandard-2.1 xamarinandroid-7.1 xamarinios-10.8 xamarinmac-3.0 \">\n",
    "\t<td class=\"is-one-third-width-tablet\">\n",
    "\t\t<span class=\"break-text\">\n",
    "\t\t\t  <a class=\"xref\" href=\"https://learn.microsoft.com/en-us/dotnet/api/system.io.filesysteminfo.fullpath?view=net-7.0\" data-linktype=\"relative-path\">Full<wbr>Path</a>\n",
    "\t\t</span>\n",
    "\t</td>\n",
    "\t<td class=\"summary\">\n",
    "\t\t  <p>Represents the fully qualified path of the directory or file.</p>\n",
    "\t\t(Inherited from   <a class=\"xref\" href=\"https://learn.microsoft.com/en-us/dotnet/api/system.io.filesysteminfo?view=net-7.0\" data-linktype=\"relative-path\">FileSystemInfo</a>)\n",
    "\t</td>\n",
    "        \t</tr>\n",
    "        \t<tr data-moniker=\" dotnet-uwp-10.0 netcore-1.0 netcore-1.1 netstandard-1.3 netstandard-1.4 netstandard-1.6 net-5.0 net-6.0 net-7.0 netcore-2.0 netcore-2.1 netcore-2.2 netcore-3.0 netcore-3.1 netframework-1.1 netframework-2.0 netframework-3.0 netframework-3.5 netframework-4.0 netframework-4.5 netframework-4.5.1 netframework-4.5.2 netframework-4.6 netframework-4.6.1 netframework-4.6.2 netframework-4.7 netframework-4.7.1 netframework-4.7.2 netframework-4.8 netframework-4.8.1 netstandard-2.0 netstandard-2.1 xamarinandroid-7.1 xamarinios-10.8 xamarinmac-3.0 \">\n",
    "\t<td class=\"is-one-third-width-tablet\">\n",
    "\t\t<span class=\"break-text\">\n",
    "\t\t\t  <a class=\"xref\" href=\"https://learn.microsoft.com/en-us/dotnet/api/system.io.filesysteminfo.originalpath?view=net-7.0\" data-linktype=\"relative-path\">Original<wbr>Path</a>\n",
    "\t\t</span>\n",
    "\t</td>\n",
    "\t<td class=\"summary\">\n",
    "\t\t  <p>The path originally specified by the user, whether relative or absolute.</p>\n",
    "\t\t(Inherited from   <a class=\"xref\" href=\"https://learn.microsoft.com/en-us/dotnet/api/system.io.filesysteminfo?view=net-7.0\" data-linktype=\"relative-path\">FileSystemInfo</a>)\n",
    "\t</td>\n",
    "        \t</tr>\n",
    "\t</tbody></table>"
   ]
  },
  {
   "attachments": {},
   "cell_type": "markdown",
   "metadata": {
    "dotnet_interactive": {
     "language": "csharp"
    },
    "polyglot_notebook": {
     "kernelName": "csharp"
    }
   },
   "source": [
    "<br>"
   ]
  },
  {
   "attachments": {},
   "cell_type": "markdown",
   "metadata": {
    "dotnet_interactive": {
     "language": "csharp"
    },
    "polyglot_notebook": {
     "kernelName": "csharp"
    }
   },
   "source": [
    "#### Properties"
   ]
  },
  {
   "attachments": {},
   "cell_type": "markdown",
   "metadata": {
    "dotnet_interactive": {
     "language": "csharp"
    },
    "polyglot_notebook": {
     "kernelName": "csharp"
    }
   },
   "source": [
    "<table class=\"nameValue table table-sm table-stacked-mobile\" aria-label=\"Table 4\">\n",
    "        \t<tbody><tr data-moniker=\" dotnet-uwp-10.0 netcore-1.0 netcore-1.1 netstandard-1.3 netstandard-1.4 netstandard-1.6 net-5.0 net-6.0 net-7.0 netcore-2.0 netcore-2.1 netcore-2.2 netcore-3.0 netcore-3.1 netframework-1.1 netframework-2.0 netframework-3.0 netframework-3.5 netframework-4.0 netframework-4.5 netframework-4.5.1 netframework-4.5.2 netframework-4.6 netframework-4.6.1 netframework-4.6.2 netframework-4.7 netframework-4.7.1 netframework-4.7.2 netframework-4.8 netframework-4.8.1 netstandard-2.0 netstandard-2.1 xamarinandroid-7.1 xamarinios-10.8 xamarinmac-3.0 \">\n",
    "\t<td class=\"is-one-third-width-tablet\">\n",
    "\t\t<span class=\"break-text\">\n",
    "\t\t\t  <a class=\"xref\" href=\"https://learn.microsoft.com/en-us/dotnet/api/system.io.filesysteminfo.attributes?view=net-7.0#system-io-filesysteminfo-attributes\" data-linktype=\"relative-path\">Attributes</a>\n",
    "\t\t</span>\n",
    "\t</td>\n",
    "\t<td class=\"summary\">\n",
    "\t\t  <p>Gets or sets the attributes for the current file or directory.</p>\n",
    "\t\t(Inherited from   <a class=\"xref\" href=\"https://learn.microsoft.com/en-us/dotnet/api/system.io.filesysteminfo?view=net-7.0\" data-linktype=\"relative-path\">FileSystemInfo</a>)\n",
    "\t</td>\n",
    "        \t</tr>\n",
    "        \t<tr data-moniker=\" dotnet-uwp-10.0 netcore-1.0 netcore-1.1 netstandard-1.3 netstandard-1.4 netstandard-1.6 net-5.0 net-6.0 net-7.0 netcore-2.0 netcore-2.1 netcore-2.2 netcore-3.0 netcore-3.1 netframework-1.1 netframework-2.0 netframework-3.0 netframework-3.5 netframework-4.0 netframework-4.5 netframework-4.5.1 netframework-4.5.2 netframework-4.6 netframework-4.6.1 netframework-4.6.2 netframework-4.7 netframework-4.7.1 netframework-4.7.2 netframework-4.8 netframework-4.8.1 netstandard-2.0 netstandard-2.1 xamarinandroid-7.1 xamarinios-10.8 xamarinmac-3.0 \">\n",
    "\t<td class=\"is-one-third-width-tablet\">\n",
    "\t\t<span class=\"break-text\">\n",
    "\t\t\t  <a class=\"xref\" href=\"https://learn.microsoft.com/en-us/dotnet/api/system.io.filesysteminfo.creationtime?view=net-7.0#system-io-filesysteminfo-creationtime\" data-linktype=\"relative-path\">Creation<wbr>Time</a>\n",
    "\t\t</span>\n",
    "\t</td>\n",
    "\t<td class=\"summary\">\n",
    "\t\t  <p>Gets or sets the creation time of the current file or directory.</p>\n",
    "\t\t(Inherited from   <a class=\"xref\" href=\"https://learn.microsoft.com/en-us/dotnet/api/system.io.filesysteminfo?view=net-7.0\" data-linktype=\"relative-path\">FileSystemInfo</a>)\n",
    "\t</td>\n",
    "        \t</tr>\n",
    "        \t<tr data-moniker=\" dotnet-uwp-10.0 netcore-1.0 netcore-1.1 netstandard-1.3 netstandard-1.4 netstandard-1.6 net-5.0 net-6.0 net-7.0 netcore-2.0 netcore-2.1 netcore-2.2 netcore-3.0 netcore-3.1 netframework-1.1 netframework-2.0 netframework-3.0 netframework-3.5 netframework-4.0 netframework-4.5 netframework-4.5.1 netframework-4.5.2 netframework-4.6 netframework-4.6.1 netframework-4.6.2 netframework-4.7 netframework-4.7.1 netframework-4.7.2 netframework-4.8 netframework-4.8.1 netstandard-2.0 netstandard-2.1 xamarinandroid-7.1 xamarinios-10.8 xamarinmac-3.0 \">\n",
    "\t<td class=\"is-one-third-width-tablet\">\n",
    "\t\t<span class=\"break-text\">\n",
    "\t\t\t  <a class=\"xref\" href=\"https://learn.microsoft.com/en-us/dotnet/api/system.io.filesysteminfo.creationtimeutc?view=net-7.0#system-io-filesysteminfo-creationtimeutc\" data-linktype=\"relative-path\">Creation<wbr>Time<wbr>Utc</a>\n",
    "\t\t</span>\n",
    "\t</td>\n",
    "\t<td class=\"summary\">\n",
    "\t\t  <p>Gets or sets the creation time, in coordinated universal time (UTC), of the current file or directory.</p>\n",
    "\t\t(Inherited from   <a class=\"xref\" href=\"https://learn.microsoft.com/en-us/dotnet/api/system.io.filesysteminfo?view=net-7.0\" data-linktype=\"relative-path\">FileSystemInfo</a>)\n",
    "\t</td>\n",
    "        \t</tr>\n",
    "        \t<tr>\n",
    "\t  <td class=\"is-one-third-width-tablet\">\n",
    "\t<span class=\"break-text\">\n",
    "\t\t<a class=\"xref\" href=\"https://learn.microsoft.com/en-us/dotnet/api/system.io.fileinfo.directory?view=net-7.0#system-io-fileinfo-directory\" data-linktype=\"relative-path\">Directory</a>\n",
    "\t</span>\n",
    "</td>\n",
    "\t<td class=\"summary\"> \n",
    "\t\t<p>Gets an instance of the parent directory.</p>\n",
    "\t</td>\n",
    "        \t</tr>\n",
    "        \t<tr>\n",
    "\t  <td class=\"is-one-third-width-tablet\">\n",
    "\t<span class=\"break-text\">\n",
    "\t\t<a class=\"xref\" href=\"https://learn.microsoft.com/en-us/dotnet/api/system.io.fileinfo.directoryname?view=net-7.0#system-io-fileinfo-directoryname\" data-linktype=\"relative-path\">Directory<wbr>Name</a>\n",
    "\t</span>\n",
    "</td>\n",
    "\t<td class=\"summary\"> \n",
    "\t\t<p>Gets a string representing the directory's full path.</p>\n",
    "\t</td>\n",
    "        \t</tr>\n",
    "        \t<tr>\n",
    "\t  <td class=\"is-one-third-width-tablet\">\n",
    "\t<span class=\"break-text\">\n",
    "\t\t<a class=\"xref\" href=\"https://learn.microsoft.com/en-us/dotnet/api/system.io.fileinfo.exists?view=net-7.0#system-io-fileinfo-exists\" data-linktype=\"relative-path\">Exists</a>\n",
    "\t</span>\n",
    "</td>\n",
    "\t<td class=\"summary\"> \n",
    "\t\t<p>Gets a value indicating whether a file exists.</p>\n",
    "\t</td>\n",
    "        \t</tr>\n",
    "        \t<tr data-moniker=\" dotnet-uwp-10.0 netcore-1.0 netcore-1.1 netstandard-1.3 netstandard-1.4 netstandard-1.6 net-5.0 net-6.0 net-7.0 netcore-2.0 netcore-2.1 netcore-2.2 netcore-3.0 netcore-3.1 netframework-1.1 netframework-2.0 netframework-3.0 netframework-3.5 netframework-4.0 netframework-4.5 netframework-4.5.1 netframework-4.5.2 netframework-4.6 netframework-4.6.1 netframework-4.6.2 netframework-4.7 netframework-4.7.1 netframework-4.7.2 netframework-4.8 netframework-4.8.1 netstandard-2.0 netstandard-2.1 xamarinandroid-7.1 xamarinios-10.8 xamarinmac-3.0 \">\n",
    "\t<td class=\"is-one-third-width-tablet\">\n",
    "\t\t<span class=\"break-text\">\n",
    "\t\t\t  <a class=\"xref\" href=\"https://learn.microsoft.com/en-us/dotnet/api/system.io.filesysteminfo.extension?view=net-7.0#system-io-filesysteminfo-extension\" data-linktype=\"relative-path\">Extension</a>\n",
    "\t\t</span>\n",
    "\t</td>\n",
    "\t<td class=\"summary\">\n",
    "\t\t  <p>Gets the extension part of the file name, including the leading dot <code data-dev-comment-type=\"c\">.</code> even if it is the entire file name, or an empty string if no extension is present.</p>\n",
    "\t\t(Inherited from   <a class=\"xref\" href=\"https://learn.microsoft.com/en-us/dotnet/api/system.io.filesysteminfo?view=net-7.0\" data-linktype=\"relative-path\">FileSystemInfo</a>)\n",
    "\t</td>\n",
    "        \t</tr>\n",
    "        \t<tr data-moniker=\" dotnet-uwp-10.0 netcore-1.0 netcore-1.1 netstandard-1.3 netstandard-1.4 netstandard-1.6 net-5.0 net-6.0 net-7.0 netcore-2.0 netcore-2.1 netcore-2.2 netcore-3.0 netcore-3.1 netframework-1.1 netframework-2.0 netframework-3.0 netframework-3.5 netframework-4.0 netframework-4.5 netframework-4.5.1 netframework-4.5.2 netframework-4.6 netframework-4.6.1 netframework-4.6.2 netframework-4.7 netframework-4.7.1 netframework-4.7.2 netframework-4.8 netframework-4.8.1 netstandard-2.0 netstandard-2.1 xamarinandroid-7.1 xamarinios-10.8 xamarinmac-3.0 \">\n",
    "\t<td class=\"is-one-third-width-tablet\">\n",
    "\t\t<span class=\"break-text\">\n",
    "\t\t\t  <a class=\"xref\" href=\"https://learn.microsoft.com/en-us/dotnet/api/system.io.filesysteminfo.fullname?view=net-7.0#system-io-filesysteminfo-fullname\" data-linktype=\"relative-path\">Full<wbr>Name</a>\n",
    "\t\t</span>\n",
    "\t</td>\n",
    "\t<td class=\"summary\">\n",
    "\t\t  <p>Gets the full path of the directory or file.</p>\n",
    "\t\t(Inherited from   <a class=\"xref\" href=\"https://learn.microsoft.com/en-us/dotnet/api/system.io.filesysteminfo?view=net-7.0\" data-linktype=\"relative-path\">FileSystemInfo</a>)\n",
    "\t</td>\n",
    "        \t</tr>\n",
    "        \t<tr data-moniker=\" dotnet-uwp-10.0 net-5.0 net-6.0 net-7.0 netcore-1.0 netcore-1.1 netcore-2.0 netcore-2.1 netcore-2.2 netcore-3.0 netcore-3.1 netframework-2.0 netframework-3.0 netframework-3.5 netframework-4.0 netframework-4.5 netframework-4.5.1 netframework-4.5.2 netframework-4.6 netframework-4.6.1 netframework-4.6.2 netframework-4.7 netframework-4.7.1 netframework-4.7.2 netframework-4.8 netframework-4.8.1 netstandard-1.3 netstandard-1.4 netstandard-1.6 netstandard-2.0 netstandard-2.1 xamarinandroid-7.1 xamarinios-10.8 xamarinmac-3.0 \">\n",
    "\t  <td class=\"is-one-third-width-tablet\">\n",
    "\t<span class=\"break-text\">\n",
    "\t\t<a class=\"xref\" href=\"https://learn.microsoft.com/en-us/dotnet/api/system.io.fileinfo.isreadonly?view=net-7.0#system-io-fileinfo-isreadonly\" data-linktype=\"relative-path\">Is<wbr>Read<wbr>Only</a>\n",
    "\t</span>\n",
    "</td>\n",
    "\t<td class=\"summary\"> \n",
    "\t\t<p>Gets or sets a value that determines if the current file is read only.</p>\n",
    "\t</td>\n",
    "        \t</tr>\n",
    "        \t<tr data-moniker=\" dotnet-uwp-10.0 netcore-1.0 netcore-1.1 netstandard-1.3 netstandard-1.4 netstandard-1.6 net-5.0 net-6.0 net-7.0 netcore-2.0 netcore-2.1 netcore-2.2 netcore-3.0 netcore-3.1 netframework-1.1 netframework-2.0 netframework-3.0 netframework-3.5 netframework-4.0 netframework-4.5 netframework-4.5.1 netframework-4.5.2 netframework-4.6 netframework-4.6.1 netframework-4.6.2 netframework-4.7 netframework-4.7.1 netframework-4.7.2 netframework-4.8 netframework-4.8.1 netstandard-2.0 netstandard-2.1 xamarinandroid-7.1 xamarinios-10.8 xamarinmac-3.0 \">\n",
    "\t<td class=\"is-one-third-width-tablet\">\n",
    "\t\t<span class=\"break-text\">\n",
    "\t\t\t  <a class=\"xref\" href=\"https://learn.microsoft.com/en-us/dotnet/api/system.io.filesysteminfo.lastaccesstime?view=net-7.0#system-io-filesysteminfo-lastaccesstime\" data-linktype=\"relative-path\">Last<wbr>Access<wbr>Time</a>\n",
    "\t\t</span>\n",
    "\t</td>\n",
    "\t<td class=\"summary\">\n",
    "\t\t  <p>Gets or sets the time the current file or directory was last accessed.</p>\n",
    "\t\t(Inherited from   <a class=\"xref\" href=\"https://learn.microsoft.com/en-us/dotnet/api/system.io.filesysteminfo?view=net-7.0\" data-linktype=\"relative-path\">FileSystemInfo</a>)\n",
    "\t</td>\n",
    "        \t</tr>\n",
    "        \t<tr data-moniker=\" dotnet-uwp-10.0 netcore-1.0 netcore-1.1 netstandard-1.3 netstandard-1.4 netstandard-1.6 net-5.0 net-6.0 net-7.0 netcore-2.0 netcore-2.1 netcore-2.2 netcore-3.0 netcore-3.1 netframework-1.1 netframework-2.0 netframework-3.0 netframework-3.5 netframework-4.0 netframework-4.5 netframework-4.5.1 netframework-4.5.2 netframework-4.6 netframework-4.6.1 netframework-4.6.2 netframework-4.7 netframework-4.7.1 netframework-4.7.2 netframework-4.8 netframework-4.8.1 netstandard-2.0 netstandard-2.1 xamarinandroid-7.1 xamarinios-10.8 xamarinmac-3.0 \">\n",
    "\t<td class=\"is-one-third-width-tablet\">\n",
    "\t\t<span class=\"break-text\">\n",
    "\t\t\t  <a class=\"xref\" href=\"https://learn.microsoft.com/en-us/dotnet/api/system.io.filesysteminfo.lastaccesstimeutc?view=net-7.0#system-io-filesysteminfo-lastaccesstimeutc\" data-linktype=\"relative-path\">Last<wbr>Access<wbr>Time<wbr>Utc</a>\n",
    "\t\t</span>\n",
    "\t</td>\n",
    "\t<td class=\"summary\">\n",
    "\t\t  <p>Gets or sets the time, in coordinated universal time (UTC), that the current file or directory was last accessed.</p>\n",
    "\t\t(Inherited from   <a class=\"xref\" href=\"https://learn.microsoft.com/en-us/dotnet/api/system.io.filesysteminfo?view=net-7.0\" data-linktype=\"relative-path\">FileSystemInfo</a>)\n",
    "\t</td>\n",
    "        \t</tr>\n",
    "        \t<tr data-moniker=\" dotnet-uwp-10.0 netcore-1.0 netcore-1.1 netstandard-1.3 netstandard-1.4 netstandard-1.6 net-5.0 net-6.0 net-7.0 netcore-2.0 netcore-2.1 netcore-2.2 netcore-3.0 netcore-3.1 netframework-1.1 netframework-2.0 netframework-3.0 netframework-3.5 netframework-4.0 netframework-4.5 netframework-4.5.1 netframework-4.5.2 netframework-4.6 netframework-4.6.1 netframework-4.6.2 netframework-4.7 netframework-4.7.1 netframework-4.7.2 netframework-4.8 netframework-4.8.1 netstandard-2.0 netstandard-2.1 xamarinandroid-7.1 xamarinios-10.8 xamarinmac-3.0 \">\n",
    "\t<td class=\"is-one-third-width-tablet\">\n",
    "\t\t<span class=\"break-text\">\n",
    "\t\t\t  <a class=\"xref\" href=\"https://learn.microsoft.com/en-us/dotnet/api/system.io.filesysteminfo.lastwritetime?view=net-7.0#system-io-filesysteminfo-lastwritetime\" data-linktype=\"relative-path\">Last<wbr>Write<wbr>Time</a>\n",
    "\t\t</span>\n",
    "\t</td>\n",
    "\t<td class=\"summary\">\n",
    "\t\t  <p>Gets or sets the time when the current file or directory was last written to.</p>\n",
    "\t\t(Inherited from   <a class=\"xref\" href=\"https://learn.microsoft.com/en-us/dotnet/api/system.io.filesysteminfo?view=net-7.0\" data-linktype=\"relative-path\">FileSystemInfo</a>)\n",
    "\t</td>\n",
    "        \t</tr>\n",
    "        \t<tr data-moniker=\" dotnet-uwp-10.0 netcore-1.0 netcore-1.1 netstandard-1.3 netstandard-1.4 netstandard-1.6 net-5.0 net-6.0 net-7.0 netcore-2.0 netcore-2.1 netcore-2.2 netcore-3.0 netcore-3.1 netframework-1.1 netframework-2.0 netframework-3.0 netframework-3.5 netframework-4.0 netframework-4.5 netframework-4.5.1 netframework-4.5.2 netframework-4.6 netframework-4.6.1 netframework-4.6.2 netframework-4.7 netframework-4.7.1 netframework-4.7.2 netframework-4.8 netframework-4.8.1 netstandard-2.0 netstandard-2.1 xamarinandroid-7.1 xamarinios-10.8 xamarinmac-3.0 \">\n",
    "\t<td class=\"is-one-third-width-tablet\">\n",
    "\t\t<span class=\"break-text\">\n",
    "\t\t\t  <a class=\"xref\" href=\"https://learn.microsoft.com/en-us/dotnet/api/system.io.filesysteminfo.lastwritetimeutc?view=net-7.0#system-io-filesysteminfo-lastwritetimeutc\" data-linktype=\"relative-path\">Last<wbr>Write<wbr>Time<wbr>Utc</a>\n",
    "\t\t</span>\n",
    "\t</td>\n",
    "\t<td class=\"summary\">\n",
    "\t\t  <p>Gets or sets the time, in coordinated universal time (UTC), when the current file or directory was last written to.</p>\n",
    "\t\t(Inherited from   <a class=\"xref\" href=\"https://learn.microsoft.com/en-us/dotnet/api/system.io.filesysteminfo?view=net-7.0\" data-linktype=\"relative-path\">FileSystemInfo</a>)\n",
    "\t</td>\n",
    "        \t</tr>\n",
    "        \t<tr>\n",
    "\t  <td class=\"is-one-third-width-tablet\">\n",
    "\t<span class=\"break-text\">\n",
    "\t\t<a class=\"xref\" href=\"https://learn.microsoft.com/en-us/dotnet/api/system.io.fileinfo.length?view=net-7.0#system-io-fileinfo-length\" data-linktype=\"relative-path\">Length</a>\n",
    "\t</span>\n",
    "</td>\n",
    "\t<td class=\"summary\"> \n",
    "\t\t<p>Gets the size, in bytes, of the current file.</p>\n",
    "\t</td>\n",
    "        \t</tr>\n",
    "        \t<tr data-moniker=\" dotnet-uwp-10.0 netcore-1.0 netcore-1.1 netstandard-1.3 netstandard-1.4 netstandard-1.6 net-5.0 net-6.0 net-7.0 netcore-2.0 netcore-2.1 netcore-2.2 netcore-3.0 netcore-3.1 netframework-1.1 netframework-2.0 netframework-3.0 netframework-3.5 netframework-4.0 netframework-4.5 netframework-4.5.1 netframework-4.5.2 netframework-4.6 netframework-4.6.1 netframework-4.6.2 netframework-4.7 netframework-4.7.1 netframework-4.7.2 netframework-4.8 netframework-4.8.1 netstandard-2.0 netstandard-2.1 xamarinandroid-7.1 xamarinios-10.8 xamarinmac-3.0 \">\n",
    "\t<td class=\"is-one-third-width-tablet\">\n",
    "\t\t<span class=\"break-text\">\n",
    "\t\t\t  <a class=\"xref\" href=\"https://learn.microsoft.com/en-us/dotnet/api/system.io.filesysteminfo.linktarget?view=net-7.0#system-io-filesysteminfo-linktarget\" data-linktype=\"relative-path\">Link<wbr>Target</a>\n",
    "\t\t</span>\n",
    "\t</td>\n",
    "\t<td class=\"summary\">\n",
    "\t\t  <p>Gets the target path of the link located in <a class=\"no-loc\" href=\"https://learn.microsoft.com/en-us/dotnet/api/system.io.filesysteminfo.fullname?view=net-7.0#system-io-filesysteminfo-fullname\" data-linktype=\"relative-path\">FullName</a>, or <code data-dev-comment-type=\"langword\">null</code> if this <a class=\"no-loc\" href=\"https://learn.microsoft.com/en-us/dotnet/api/system.io.filesysteminfo?view=net-7.0\" data-linktype=\"relative-path\">FileSystemInfo</a> instance doesn't represent a link.</p\n",
    "\t\t(Inherited from   <a class=\"xref\" href=\"https://learn.microsoft.com/en-us/dotnet/api/system.io.filesysteminfo?view=net-7.0\" data-linktype=\"relative-path\">FileSystemInfo</a>)\n",
    "\t</td>\n",
    "        \t</tr>\n",
    "        \t<tr>\n",
    "\t  <td class=\"is-one-third-width-tablet\">\n",
    "\t<span class=\"break-text\">\n",
    "\t\t<a class=\"xref\" href=\"https://learn.microsoft.com/en-us/dotnet/api/system.io.fileinfo.name?view=net-7.0#system-io-fileinfo-name\" data-linktype=\"relative-path\">Name</a>\n",
    "\t</span>\n",
    "</td>\n",
    "\t<td class=\"summary\"> \n",
    "\t\t<p>Gets the name of the file.</p>\n",
    "\t</td>\n",
    "        \t</tr>\n",
    "        \t<tr data-moniker=\" dotnet-uwp-10.0 netcore-1.0 netcore-1.1 netstandard-1.3 netstandard-1.4 netstandard-1.6 net-5.0 net-6.0 net-7.0 netcore-2.0 netcore-2.1 netcore-2.2 netcore-3.0 netcore-3.1 netframework-1.1 netframework-2.0 netframework-3.0 netframework-3.5 netframework-4.0 netframework-4.5 netframework-4.5.1 netframework-4.5.2 netframework-4.6 netframework-4.6.1 netframework-4.6.2 netframework-4.7 netframework-4.7.1 netframework-4.7.2 netframework-4.8 netframework-4.8.1 netstandard-2.0 netstandard-2.1 xamarinandroid-7.1 xamarinios-10.8 xamarinmac-3.0 \">\n",
    "\t<td class=\"is-one-third-width-tablet\">\n",
    "\t\t<span class=\"break-text\">\n",
    "\t\t\t  <a class=\"xref\" href=\"https://learn.microsoft.com/en-us/dotnet/api/system.io.filesysteminfo.unixfilemode?view=net-7.0#system-io-filesysteminfo-unixfilemode\" data-linktype=\"relative-path\">Unix<wbr>File<wbr>Mode</a>\n",
    "\t\t</span>\n",
    "\t</td>\n",
    "\t<td class=\"summary\">\n",
    "\t\t  <p>Gets or sets the Unix file mode for the current file or directory.</p\n",
    "\t\t(Inherited from   <a class=\"xref\" href=\"https://learn.microsoft.com/en-us/dotnet/api/system.io.filesysteminfo?view=net-7.0\" data-linktype=\"relative-path\">FileSystemInfo</a>)\n",
    "\t</td>\n",
    "        \t</tr>\n",
    "\t</tbody></table>"
   ]
  },
  {
   "attachments": {},
   "cell_type": "markdown",
   "metadata": {
    "dotnet_interactive": {
     "language": "csharp"
    },
    "polyglot_notebook": {
     "kernelName": "csharp"
    }
   },
   "source": [
    "<br>"
   ]
  },
  {
   "attachments": {},
   "cell_type": "markdown",
   "metadata": {
    "dotnet_interactive": {
     "language": "csharp"
    },
    "polyglot_notebook": {
     "kernelName": "csharp"
    }
   },
   "source": [
    "#### Constructor"
   ]
  },
  {
   "attachments": {},
   "cell_type": "markdown",
   "metadata": {
    "dotnet_interactive": {
     "language": "csharp"
    },
    "polyglot_notebook": {
     "kernelName": "csharp"
    }
   },
   "source": [
    "<table class=\"nameValue table table-sm table-stacked-mobile\" aria-label=\"Table 2\">\n",
    "        \t<tbody><tr>\n",
    "\t  <td class=\"is-one-third-width-tablet\">\n",
    "\t<span class=\"break-text\">\n",
    "\t\t<a class=\"xref\" href=\"https://learn.microsoft.com/en-us/dotnet/api/system.io.fileinfo.-ctor?view=net-7.0#system-io-fileinfo-ctor(system-string)\" data-linktype=\"relative-path\">File<wbr>Info(String)</a>\n",
    "\t</span>\n",
    "</td>\n",
    "\t<td class=\"summary\"> \n",
    "\t\t<p>Initializes a new instance of the <a class=\"no-loc\" href=\"https://learn.microsoft.com/en-us/dotnet/api/system.io.fileinfo?view=net-7.0\" data-linktype=\"relative-path\">FileInfo</a> class, which acts as a wrapper for a file path.</p>\n",
    "\t</td>\n",
    "        \t</tr>\n",
    "\t</tbody></table>"
   ]
  },
  {
   "attachments": {},
   "cell_type": "markdown",
   "metadata": {
    "dotnet_interactive": {
     "language": "csharp"
    },
    "polyglot_notebook": {
     "kernelName": "csharp"
    }
   },
   "source": [
    "<br>"
   ]
  },
  {
   "attachments": {},
   "cell_type": "markdown",
   "metadata": {
    "dotnet_interactive": {
     "language": "csharp"
    },
    "polyglot_notebook": {
     "kernelName": "csharp"
    }
   },
   "source": [
    "#### Methods"
   ]
  },
  {
   "cell_type": "markdown",
   "metadata": {
    "dotnet_interactive": {
     "language": "csharp"
    },
    "polyglot_notebook": {
     "kernelName": "csharp"
    }
   },
   "source": [
    "<table class=\"nameValue table table-sm table-stacked-mobile\" aria-label=\"Table 5\">\n",
    "        \t<tbody><tr>\n",
    "\t  <td class=\"is-one-third-width-tablet\">\n",
    "\t<span class=\"break-text\">\n",
    "\t\t<a class=\"xref\" href=\"https://learn.microsoft.com/en-us/dotnet/api/system.io.fileinfo.appendtext?view=net-7.0#system-io-fileinfo-appendtext\" data-linktype=\"relative-path\">Append<wbr>Text()</a>\n",
    "\t</span>\n",
    "</td>\n",
    "\t<td class=\"summary\"> \n",
    "\t\t<p>Creates a <a class=\"no-loc\" href=\"https://learn.microsoft.com/en-us/dotnet/api/system.io.streamwriter?view=net-7.0\" data-linktype=\"relative-path\">StreamWriter</a> that appends text to the file represented by this instance of the <a class=\"no-loc\" href=\"https://learn.microsoft.com/en-us/dotnet/api/system.io.fileinfo?view=net-7.0\" data-linktype=\"relative-path\">FileInfo</a>.</p>\n",
    "\t</td>\n",
    "        \t</tr>\n",
    "        \t<tr>\n",
    "\t  <td class=\"is-one-third-width-tablet\">\n",
    "\t<span class=\"break-text\">\n",
    "\t\t<a class=\"xref\" href=\"https://learn.microsoft.com/en-us/dotnet/api/system.io.fileinfo.copyto?view=net-7.0#system-io-fileinfo-copyto(system-string)\" data-linktype=\"relative-path\">Copy<wbr>To(String)</a>\n",
    "\t</span>\n",
    "</td>\n",
    "\t<td class=\"summary\"> \n",
    "\t\t<p>Copies an existing file to a new file, disallowing the overwriting of an existing file.</p>\n",
    "\t</td>\n",
    "        \t</tr>\n",
    "        \t<tr>\n",
    "\t  <td class=\"is-one-third-width-tablet\">\n",
    "\t<span class=\"break-text\">\n",
    "\t\t<a class=\"xref\" href=\"https://learn.microsoft.com/en-us/dotnet/api/system.io.fileinfo.copyto?view=net-7.0#system-io-fileinfo-copyto(system-string-system-boolean)\" data-linktype=\"relative-path\">Copy<wbr>To(String, Boolean)</a>\n",
    "\t</span>\n",
    "</td>\n",
    "\t<td class=\"summary\"> \n",
    "\t\t<p>Copies an existing file to a new file, allowing the overwriting of an existing file.</p>\n",
    "\t</td>\n",
    "        \t</tr>\n",
    "        \t<tr>\n",
    "\t  <td class=\"is-one-third-width-tablet\">\n",
    "\t<span class=\"break-text\">\n",
    "\t\t<a class=\"xref\" href=\"https://learn.microsoft.com/en-us/dotnet/api/system.io.fileinfo.create?view=net-7.0#system-io-fileinfo-create\" data-linktype=\"relative-path\">Create()</a>\n",
    "\t</span>\n",
    "</td>\n",
    "\t<td class=\"summary\"> \n",
    "\t\t<p>Creates a file.</p>\n",
    "\t</td>\n",
    "        \t</tr>\n",
    "        \t<tr data-moniker=\" dotnet-uwp-10.0 netcore-1.0 netcore-1.1 netstandard-1.3 netstandard-1.4 netstandard-1.6 net-5.0 net-6.0 net-7.0 netcore-2.0 netcore-2.1 netcore-2.2 netcore-3.0 netcore-3.1 netframework-1.1 netframework-2.0 netframework-3.0 netframework-3.5 netframework-4.0 netframework-4.5 netframework-4.5.1 netframework-4.5.2 netframework-4.6 netframework-4.6.1 netframework-4.6.2 netframework-4.7 netframework-4.7.1 netframework-4.7.2 netframework-4.8 netframework-4.8.1 netstandard-2.0 netstandard-2.1 xamarinandroid-7.1 xamarinios-10.8 xamarinmac-3.0 \">\n",
    "\t<td class=\"is-one-third-width-tablet\">\n",
    "\t\t<span class=\"break-text\">\n",
    "\t\t\t  <a class=\"xref\" href=\"https://learn.microsoft.com/en-us/dotnet/api/system.io.filesysteminfo.createassymboliclink?view=net-7.0#system-io-filesysteminfo-createassymboliclink(system-string)\" data-linktype=\"relative-path\">Create<wbr>AsSymbolic<wbr>Link(String)</a>\n",
    "\t\t</span>\n",
    "\t</td>\n",
    "\t<td class=\"summary\">\n",
    "\t\t  <p>Creates a symbolic link located in <a class=\"no-loc\" href=\"https://learn.microsoft.com/en-us/dotnet/api/system.io.filesysteminfo.fullname?view=net-7.0#system-io-filesysteminfo-fullname\" data-linktype=\"relative-path\">FullName</a> that points to the specified <code data-dev-comment-type=\"paramref\">pathToTarget</code>.</p>\n",
    "\t\t(Inherited from   <a class=\"xref\" href=\"https://learn.microsoft.com/en-us/dotnet/api/system.io.filesysteminfo?view=net-7.0\" data-linktype=\"relative-path\">FileSystemInfo</a>)\n",
    "\t</td>\n",
    "        \t</tr>\n",
    "        \t<tr data-moniker=\" net-5.0 net-6.0 net-7.0 netcore-2.0 netcore-2.1 netcore-2.2 netcore-3.0 netcore-3.1 netframework-1.1 netframework-2.0 netframework-3.0 netframework-3.5 netframework-4.0 netframework-4.5 netframework-4.5.1 netframework-4.5.2 netframework-4.6 netframework-4.6.1 netframework-4.6.2 netframework-4.7 netframework-4.7.1 netframework-4.7.2 netframework-4.8 netframework-4.8.1 netstandard-2.0 netstandard-2.1 xamarinandroid-7.1 xamarinios-10.8 xamarinmac-3.0 \">\n",
    "\t<td class=\"is-one-third-width-tablet\">\n",
    "\t\t<span class=\"break-text\">\n",
    "\t\t\t  <a class=\"xref\" href=\"https://learn.microsoft.com/en-us/dotnet/api/system.marshalbyrefobject.createobjref?view=net-7.0#system-marshalbyrefobject-createobjref(system-type)\" data-linktype=\"relative-path\">Create<wbr>Obj<wbr>Ref(Type)</a>\n",
    "\t\t</span>\n",
    "\t</td>\n",
    "\t<td class=\"summary\">\n",
    "\t\t  <p>Creates an object that contains all the relevant information required to generate a proxy used to communicate with a remote object.</p>\n",
    "\t\t(Inherited from   <a class=\"xref\" href=\"https://learn.microsoft.com/en-us/dotnet/api/system.marshalbyrefobject?view=net-7.0\" data-linktype=\"relative-path\">MarshalByRefObject</a>)\n",
    "\t</td>\n",
    "        \t</tr>\n",
    "        \t<tr>\n",
    "\t  <td class=\"is-one-third-width-tablet\">\n",
    "\t<span class=\"break-text\">\n",
    "\t\t<a class=\"xref\" href=\"https://learn.microsoft.com/en-us/dotnet/api/system.io.fileinfo.createtext?view=net-7.0#system-io-fileinfo-createtext\" data-linktype=\"relative-path\">Create<wbr>Text()</a>\n",
    "\t</span>\n",
    "</td>\n",
    "\t<td class=\"summary\"> \n",
    "\t\t<p>Creates a <a class=\"no-loc\" href=\"https://learn.microsoft.com/en-us/dotnet/api/system.io.streamwriter?view=net-7.0\" data-linktype=\"relative-path\">StreamWriter</a> that writes a new text file.</p>\n",
    "\t</td>\n",
    "        \t</tr>\n",
    "        \t<tr data-moniker=\" net-5.0 net-6.0 net-7.0 netcore-2.0 netcore-2.1 netcore-2.2 netcore-3.0 netcore-3.1 netframework-2.0 netframework-3.0 netframework-3.5 netframework-4.0 netframework-4.5 netframework-4.5.1 netframework-4.5.2 netframework-4.6 netframework-4.6.1 netframework-4.6.2 netframework-4.7 netframework-4.7.1 netframework-4.7.2 netframework-4.8 netframework-4.8.1 netstandard-2.0 netstandard-2.1 xamarinandroid-7.1 xamarinios-10.8 xamarinmac-3.0 \">\n",
    "\t  <td class=\"is-one-third-width-tablet\">\n",
    "\t<span class=\"break-text\">\n",
    "\t\t<a class=\"xref\" href=\"https://learn.microsoft.com/en-us/dotnet/api/system.io.fileinfo.decrypt?view=net-7.0#system-io-fileinfo-decrypt\" data-linktype=\"relative-path\">Decrypt()</a>\n",
    "\t</span>\n",
    "</td>\n",
    "\t<td class=\"summary\"> \n",
    "\t\t<p>Decrypts a file that was encrypted by the current account using the <a class=\"no-loc\" href=\"https://learn.microsoft.com/en-us/dotnet/api/system.io.fileinfo.encrypt?view=net-7.0#system-io-fileinfo-encrypt\" data-linktype=\"relative-path\">Encrypt()</a> method.</p>\n",
    "\t</td>\n",
    "        \t</tr>\n",
    "        \t<tr>\n",
    "\t  <td class=\"is-one-third-width-tablet\">\n",
    "\t<span class=\"break-text\">\n",
    "\t\t<a class=\"xref\" href=\"https://learn.microsoft.com/en-us/dotnet/api/system.io.fileinfo.delete?view=net-7.0#system-io-fileinfo-delete\" data-linktype=\"relative-path\">Delete()</a>\n",
    "\t</span>\n",
    "</td>\n",
    "\t<td class=\"summary\"> \n",
    "\t\t<p>Permanently deletes a file.</p>\n",
    "\t</td>\n",
    "        \t</tr>\n",
    "        \t<tr data-moniker=\" net-5.0 net-6.0 net-7.0 netcore-2.0 netcore-2.1 netcore-2.2 netcore-3.0 netcore-3.1 netframework-2.0 netframework-3.0 netframework-3.5 netframework-4.0 netframework-4.5 netframework-4.5.1 netframework-4.5.2 netframework-4.6 netframework-4.6.1 netframework-4.6.2 netframework-4.7 netframework-4.7.1 netframework-4.7.2 netframework-4.8 netframework-4.8.1 netstandard-2.0 netstandard-2.1 xamarinandroid-7.1 xamarinios-10.8 xamarinmac-3.0 \">\n",
    "\t  <td class=\"is-one-third-width-tablet\">\n",
    "\t<span class=\"break-text\">\n",
    "\t\t<a class=\"xref\" href=\"https://learn.microsoft.com/en-us/dotnet/api/system.io.fileinfo.encrypt?view=net-7.0#system-io-fileinfo-encrypt\" data-linktype=\"relative-path\">Encrypt()</a>\n",
    "\t</span>\n",
    "</td>\n",
    "\t<td class=\"summary\"> \n",
    "\t\t<p>Encrypts a file so that only the account used to encrypt the file can decrypt it.</p>\n",
    "\t</td>\n",
    "        \t</tr>\n",
    "        \t<tr data-moniker=\" dotnet-uwp-10.0 netcore-1.0 netcore-1.1 netstandard-1.3 netstandard-1.4 netstandard-1.6 net-5.0 net-6.0 net-7.0 netcore-2.0 netcore-2.1 netcore-2.2 netcore-3.0 netcore-3.1 netframework-1.1 netframework-2.0 netframework-3.0 netframework-3.5 netframework-4.0 netframework-4.5 netframework-4.5.1 netframework-4.5.2 netframework-4.6 netframework-4.6.1 netframework-4.6.2 netframework-4.7 netframework-4.7.1 netframework-4.7.2 netframework-4.8 netframework-4.8.1 netstandard-2.0 netstandard-2.1 xamarinandroid-7.1 xamarinios-10.8 xamarinmac-3.0 \">\n",
    "\t<td class=\"is-one-third-width-tablet\">\n",
    "\t\t<span class=\"break-text\">\n",
    "\t\t\t  <a class=\"xref\" href=\"https://learn.microsoft.com/en-us/dotnet/api/system.object.equals?view=net-7.0#system-object-equals(system-object)\" data-linktype=\"relative-path\">Equals(Object)</a>\n",
    "\t\t</span>\n",
    "\t</td>\n",
    "\t<td class=\"summary\">\n",
    "\t\t  <p>Determines whether the specified object is equal to the current object.</p>\n",
    "\t\t(Inherited from   <a class=\"xref\" href=\"https://learn.microsoft.com/en-us/dotnet/api/system.object?view=net-7.0\" data-linktype=\"relative-path\">Object</a>)\n",
    "\t</td>\n",
    "        \t</tr>\n",
    "        \t<tr data-moniker=\" netframework-2.0 netframework-3.0 netframework-3.5 netframework-4.0 netframework-4.5 netframework-4.5.1 netframework-4.5.2 netframework-4.6 netframework-4.6.1 netframework-4.6.2 netframework-4.7 netframework-4.7.1 netframework-4.7.2 netframework-4.8 netframework-4.8.1 xamarinandroid-7.1 xamarinios-10.8 xamarinmac-3.0 \">\n",
    "\t  <td class=\"is-one-third-width-tablet\">\n",
    "\t<span class=\"break-text\">\n",
    "\t\t<a class=\"xref\" href=\"https://learn.microsoft.com/en-us/dotnet/api/system.io.fileinfo.getaccesscontrol?view=net-7.0#system-io-fileinfo-getaccesscontrol\" data-linktype=\"relative-path\">Get<wbr>Access<wbr>Control()</a>\n",
    "\t</span>\n",
    "</td>\n",
    "\t<td class=\"summary\"> \n",
    "\t\t<p>Gets a <a class=\"no-loc\" href=\"https://learn.microsoft.com/en-us/dotnet/api/system.security.accesscontrol.filesecurity?view=net-7.0\" data-linktype=\"relative-path\">FileSecurity</a> object that encapsulates the access control list (ACL) entries for the file described by the current <a class=\"no-loc\" href=\"https://learn.microsoft.com/en-us/dotnet/api/system.io.fileinfo?view=net-7.0\" data-linktype=\"relative-path\">FileInfo</a> object.</p>\n",
    "\t</td>\n",
    "        \t</tr>\n",
    "        \t<tr data-moniker=\" netframework-2.0 netframework-3.0 netframework-3.5 netframework-4.0 netframework-4.5 netframework-4.5.1 netframework-4.5.2 netframework-4.6 netframework-4.6.1 netframework-4.6.2 netframework-4.7 netframework-4.7.1 netframework-4.7.2 netframework-4.8 netframework-4.8.1 xamarinandroid-7.1 xamarinios-10.8 xamarinmac-3.0 \">\n",
    "\t  <td class=\"is-one-third-width-tablet\">\n",
    "\t<span class=\"break-text\">\n",
    "\t\t<a class=\"xref\" href=\"https://learn.microsoft.com/en-us/dotnet/api/system.io.fileinfo.getaccesscontrol?view=net-7.0#system-io-fileinfo-getaccesscontrol(system-security-accesscontrol-accesscontrolsections)\" data-linktype=\"relative-path\">Get<wbr>Access<wbr>Control(Access<wbr>Control<wbr>Sections)</a>\n",
    "\t</span>\n",
    "</td>\n",
    "\t<td class=\"summary\"> \n",
    "\t\t<p>Gets a <a class=\"no-loc\" href=\"https://learn.microsoft.com/en-us/dotnet/api/system.security.accesscontrol.filesecurity?view=net-7.0\" data-linktype=\"relative-path\">FileSecurity</a> object that encapsulates the specified type of access control list (ACL) entries for the file described by the current <a class=\"no-loc\" href=\"https://learn.microsoft.com/en-us/dotnet/api/system.io.fileinfo?view=net-7.0\" data-linktype=\"relative-path\">FileInfo</a> object.</p>\n",
    "\t</td>\n",
    "        \t</tr>\n",
    "        \t<tr data-moniker=\" dotnet-uwp-10.0 netcore-1.0 netcore-1.1 netstandard-1.3 netstandard-1.4 netstandard-1.6 net-5.0 net-6.0 net-7.0 netcore-2.0 netcore-2.1 netcore-2.2 netcore-3.0 netcore-3.1 netframework-1.1 netframework-2.0 netframework-3.0 netframework-3.5 netframework-4.0 netframework-4.5 netframework-4.5.1 netframework-4.5.2 netframework-4.6 netframework-4.6.1 netframework-4.6.2 netframework-4.7 netframework-4.7.1 netframework-4.7.2 netframework-4.8 netframework-4.8.1 netstandard-2.0 netstandard-2.1 xamarinandroid-7.1 xamarinios-10.8 xamarinmac-3.0 \">\n",
    "\t<td class=\"is-one-third-width-tablet\">\n",
    "\t\t<span class=\"break-text\">\n",
    "\t\t\t  <a class=\"xref\" href=\"https://learn.microsoft.com/en-us/dotnet/api/system.object.gethashcode?view=net-7.0#system-object-gethashcode\" data-linktype=\"relative-path\">Get<wbr>Hash<wbr>Code()</a>\n",
    "\t\t</span>\n",
    "\t</td>\n",
    "\t<td class=\"summary\">\n",
    "\t\t  <p>Serves as the default hash function.</p>\n",
    "\t\t(Inherited from   <a class=\"xref\" href=\"https://learn.microsoft.com/en-us/dotnet/api/system.object?view=net-7.0\" data-linktype=\"relative-path\">Object</a>)\n",
    "\t</td>\n",
    "        \t</tr>\n",
    "        \t<tr data-moniker=\" net-5.0 net-6.0 net-7.0 netcore-2.0 netcore-2.1 netcore-2.2 netcore-3.0 netcore-3.1 netframework-1.1 netframework-2.0 netframework-3.0 netframework-3.5 netframework-4.0 netframework-4.5 netframework-4.5.1 netframework-4.5.2 netframework-4.6 netframework-4.6.1 netframework-4.6.2 netframework-4.7 netframework-4.7.1 netframework-4.7.2 netframework-4.8 netframework-4.8.1 netstandard-2.0 netstandard-2.1 xamarinandroid-7.1 xamarinios-10.8 xamarinmac-3.0 \">\n",
    "\t<td class=\"is-one-third-width-tablet\">\n",
    "\t\t<span class=\"break-text\">\n",
    "\t\t\t  <a class=\"xref\" href=\"https://learn.microsoft.com/en-us/dotnet/api/system.marshalbyrefobject.getlifetimeservice?view=net-7.0#system-marshalbyrefobject-getlifetimeservice\" data-linktype=\"relative-path\">Get<wbr>Lifetime<wbr>Service()</a>\n",
    "\t\t</span>\n",
    "\t</td>\n",
    "\t<td class=\"summary\">\n",
    "\t\t  \t<div data-moniker=\" net-5.0 net-6.0 net-7.0 \">\n",
    "\t\t<strong>Obsolete. </strong>\n",
    "\t</div>\n",
    "<p>Retrieves the current lifetime service object that controls the lifetime policy for this instance.</p>\n",
    "\t\t(Inherited from   <a class=\"xref\" href=\"https://learn.microsoft.com/en-us/dotnet/api/system.marshalbyrefobject?view=net-7.0\" data-linktype=\"relative-path\">MarshalByRefObject</a>)\n",
    "\t</td>\n",
    "        \t</tr>\n",
    "        \t<tr data-moniker=\" dotnet-uwp-10.0 netcore-1.0 netcore-1.1 netstandard-1.3 netstandard-1.4 netstandard-1.6 net-5.0 net-6.0 net-7.0 netcore-2.0 netcore-2.1 netcore-2.2 netcore-3.0 netcore-3.1 netframework-1.1 netframework-2.0 netframework-3.0 netframework-3.5 netframework-4.0 netframework-4.5 netframework-4.5.1 netframework-4.5.2 netframework-4.6 netframework-4.6.1 netframework-4.6.2 netframework-4.7 netframework-4.7.1 netframework-4.7.2 netframework-4.8 netframework-4.8.1 netstandard-2.0 netstandard-2.1 xamarinandroid-7.1 xamarinios-10.8 xamarinmac-3.0 \">\n",
    "\t<td class=\"is-one-third-width-tablet\">\n",
    "\t\t<span class=\"break-text\">\n",
    "\t\t\t  <a class=\"xref\" href=\"https://learn.microsoft.com/en-us/dotnet/api/system.io.filesysteminfo.getobjectdata?view=net-7.0#system-io-filesysteminfo-getobjectdata(system-runtime-serialization-serializationinfo-system-runtime-serialization-streamingcontext)\" data-linktype=\"relative-path\">Get<wbr>Object<wbr>Data(Serialization<wbr>Info, Streaming<wbr>Context)</a>\n",
    "\t\t</span>\n",
    "\t</td>\n",
    "\t<td class=\"summary\">\n",
    "\t\t  <p>Sets the <a class=\"no-loc\" href=\"https://learn.microsoft.com/en-us/dotnet/api/system.runtime.serialization.serializationinfo?view=net-7.0\" data-linktype=\"relative-path\">SerializationInfo</a> object with the file name and additional exception information.</p>\n",
    "\t\t(Inherited from   <a class=\"xref\" href=\"https://learn.microsoft.com/en-us/dotnet/api/system.io.filesysteminfo?view=net-7.0\" data-linktype=\"relative-path\">FileSystemInfo</a>)\n",
    "\t</td>\n",
    "        \t</tr>\n",
    "        \t<tr data-moniker=\" dotnet-uwp-10.0 netcore-1.0 netcore-1.1 netstandard-1.3 netstandard-1.4 netstandard-1.6 net-5.0 net-6.0 net-7.0 netcore-2.0 netcore-2.1 netcore-2.2 netcore-3.0 netcore-3.1 netframework-1.1 netframework-2.0 netframework-3.0 netframework-3.5 netframework-4.0 netframework-4.5 netframework-4.5.1 netframework-4.5.2 netframework-4.6 netframework-4.6.1 netframework-4.6.2 netframework-4.7 netframework-4.7.1 netframework-4.7.2 netframework-4.8 netframework-4.8.1 netstandard-2.0 netstandard-2.1 xamarinandroid-7.1 xamarinios-10.8 xamarinmac-3.0 \">\n",
    "\t<td class=\"is-one-third-width-tablet\">\n",
    "\t\t<span class=\"break-text\">\n",
    "\t\t\t  <a class=\"xref\" href=\"https://learn.microsoft.com/en-us/dotnet/api/system.object.gettype?view=net-7.0#system-object-gettype\" data-linktype=\"relative-path\">Get<wbr>Type()</a>\n",
    "\t\t</span>\n",
    "\t</td>\n",
    "\t<td class=\"summary\">\n",
    "\t\t  <p>Gets the <a class=\"no-loc\" href=\"https://learn.microsoft.com/en-us/dotnet/api/system.type?view=net-7.0\" data-linktype=\"relative-path\">Type</a> of the current instance.</p>\n",
    "\t\t(Inherited from   <a class=\"xref\" href=\"https://learn.microsoft.com/en-us/dotnet/api/system.object?view=net-7.0\" data-linktype=\"relative-path\">Object</a>)\n",
    "\t</td>\n",
    "        \t</tr>\n",
    "        \t<tr data-moniker=\" net-5.0 net-6.0 net-7.0 netcore-2.0 netcore-2.1 netcore-2.2 netcore-3.0 netcore-3.1 netframework-1.1 netframework-2.0 netframework-3.0 netframework-3.5 netframework-4.0 netframework-4.5 netframework-4.5.1 netframework-4.5.2 netframework-4.6 netframework-4.6.1 netframework-4.6.2 netframework-4.7 netframework-4.7.1 netframework-4.7.2 netframework-4.8 netframework-4.8.1 netstandard-2.0 netstandard-2.1 xamarinandroid-7.1 xamarinios-10.8 xamarinmac-3.0 \">\n",
    "\t<td class=\"is-one-third-width-tablet\">\n",
    "\t\t<span class=\"break-text\">\n",
    "\t\t\t  <a class=\"xref\" href=\"https://learn.microsoft.com/en-us/dotnet/api/system.marshalbyrefobject.initializelifetimeservice?view=net-7.0#system-marshalbyrefobject-initializelifetimeservice\" data-linktype=\"relative-path\">Initialize<wbr>Lifetime<wbr>Service()</a>\n",
    "\t\t</span>\n",
    "\t</td>\n",
    "\t<td class=\"summary\">\n",
    "\t\t  \t<div data-moniker=\" net-5.0 net-6.0 net-7.0 \">\n",
    "\t\t<strong>Obsolete. </strong>\n",
    "\t</div>\n",
    "<p>Obtains a lifetime service object to control the lifetime policy for this instance.</p>\n",
    "\t\t(Inherited from   <a class=\"xref\" href=\"https://learn.microsoft.com/en-us/dotnet/api/system.marshalbyrefobject?view=net-7.0\" data-linktype=\"relative-path\">MarshalByRefObject</a>)\n",
    "\t</td>\n",
    "        \t</tr>\n",
    "        \t<tr data-moniker=\" dotnet-uwp-10.0 netcore-1.0 netcore-1.1 netstandard-1.3 netstandard-1.4 netstandard-1.6 net-5.0 net-6.0 net-7.0 netcore-2.0 netcore-2.1 netcore-2.2 netcore-3.0 netcore-3.1 netframework-1.1 netframework-2.0 netframework-3.0 netframework-3.5 netframework-4.0 netframework-4.5 netframework-4.5.1 netframework-4.5.2 netframework-4.6 netframework-4.6.1 netframework-4.6.2 netframework-4.7 netframework-4.7.1 netframework-4.7.2 netframework-4.8 netframework-4.8.1 netstandard-2.0 netstandard-2.1 xamarinandroid-7.1 xamarinios-10.8 xamarinmac-3.0 \">\n",
    "\t<td class=\"is-one-third-width-tablet\">\n",
    "\t\t<span class=\"break-text\">\n",
    "\t\t\t  <a class=\"xref\" href=\"https://learn.microsoft.com/en-us/dotnet/api/system.object.memberwiseclone?view=net-7.0#system-object-memberwiseclone\" data-linktype=\"relative-path\">Memberwise<wbr>Clone()</a>\n",
    "\t\t</span>\n",
    "\t</td>\n",
    "\t<td class=\"summary\">\n",
    "\t\t  <p>Creates a shallow copy of the current <a class=\"no-loc\" href=\"https://learn.microsoft.com/en-us/dotnet/api/system.object?view=net-7.0\" data-linktype=\"relative-path\">Object</a>.</p>\n",
    "\t\t(Inherited from   <a class=\"xref\" href=\"https://learn.microsoft.com/en-us/dotnet/api/system.object?view=net-7.0\" data-linktype=\"relative-path\">Object</a>)\n",
    "\t</td>\n",
    "        \t</tr>\n",
    "        \t<tr data-moniker=\" net-5.0 net-6.0 net-7.0 netcore-2.0 netcore-2.1 netcore-2.2 netcore-3.0 netcore-3.1 netframework-1.1 netframework-2.0 netframework-3.0 netframework-3.5 netframework-4.0 netframework-4.5 netframework-4.5.1 netframework-4.5.2 netframework-4.6 netframework-4.6.1 netframework-4.6.2 netframework-4.7 netframework-4.7.1 netframework-4.7.2 netframework-4.8 netframework-4.8.1 netstandard-2.0 netstandard-2.1 xamarinandroid-7.1 xamarinios-10.8 xamarinmac-3.0 \">\n",
    "\t<td class=\"is-one-third-width-tablet\">\n",
    "\t\t<span class=\"break-text\">\n",
    "\t\t\t  <a class=\"xref\" href=\"https://learn.microsoft.com/en-us/dotnet/api/system.marshalbyrefobject.memberwiseclone?view=net-7.0#system-marshalbyrefobject-memberwiseclone(system-boolean)\" data-linktype=\"relative-path\">Memberwise<wbr>Clone(Boolean)</a>\n",
    "\t\t</span>\n",
    "\t</td>\n",
    "\t<td class=\"summary\">\n",
    "\t\t  <p>Creates a shallow copy of the current <a class=\"no-loc\" href=\"https://learn.microsoft.com/en-us/dotnet/api/system.marshalbyrefobject?view=net-7.0\" data-linktype=\"relative-path\">MarshalByRefObject</a> object.</p>\n",
    "\t\t(Inherited from   <a class=\"xref\" href=\"https://learn.microsoft.com/en-us/dotnet/api/system.marshalbyrefobject?view=net-7.0\" data-linktype=\"relative-path\">MarshalByRefObject</a>)\n",
    "\t</td>\n",
    "        \t</tr>\n",
    "        \t<tr>\n",
    "\t  <td class=\"is-one-third-width-tablet\">\n",
    "\t<span class=\"break-text\">\n",
    "\t\t<a class=\"xref\" href=\"https://learn.microsoft.com/en-us/dotnet/api/system.io.fileinfo.moveto?view=net-7.0#system-io-fileinfo-moveto(system-string)\" data-linktype=\"relative-path\">Move<wbr>To(String)</a>\n",
    "\t</span>\n",
    "</td>\n",
    "\t<td class=\"summary\"> \n",
    "\t\t<p>Moves a specified file to a new location, providing the option to specify a new file name.</p>\n",
    "\t</td>\n",
    "        \t</tr>\n",
    "        \t<tr data-moniker=\" net-5.0 net-6.0 net-7.0 netcore-3.0 netcore-3.1 \">\n",
    "\t  <td class=\"is-one-third-width-tablet\">\n",
    "\t<span class=\"break-text\">\n",
    "\t\t<a class=\"xref\" href=\"https://learn.microsoft.com/en-us/dotnet/api/system.io.fileinfo.moveto?view=net-7.0#system-io-fileinfo-moveto(system-string-system-boolean)\" data-linktype=\"relative-path\">Move<wbr>To(String, Boolean)</a>\n",
    "\t</span>\n",
    "</td>\n",
    "\t<td class=\"summary\"> \n",
    "\t\t<p>Moves a specified file to a new location, providing the options to specify a new file name and to overwrite the destination file if it already exists.</p>\n",
    "\t</td>\n",
    "        \t</tr>\n",
    "        \t<tr>\n",
    "\t  <td class=\"is-one-third-width-tablet\">\n",
    "\t<span class=\"break-text\">\n",
    "\t\t<a class=\"xref\" href=\"https://learn.microsoft.com/en-us/dotnet/api/system.io.fileinfo.open?view=net-7.0#system-io-fileinfo-open(system-io-filemode)\" data-linktype=\"relative-path\">Open(File<wbr>Mode)</a>\n",
    "\t</span>\n",
    "</td>\n",
    "\t<td class=\"summary\"> \n",
    "\t\t<p>Opens a file in the specified mode.</p>\n",
    "\t</td>\n",
    "        \t</tr>\n",
    "        \t<tr>\n",
    "\t  <td class=\"is-one-third-width-tablet\">\n",
    "\t<span class=\"break-text\">\n",
    "\t\t<a class=\"xref\" href=\"https://learn.microsoft.com/en-us/dotnet/api/system.io.fileinfo.open?view=net-7.0#system-io-fileinfo-open(system-io-filemode-system-io-fileaccess)\" data-linktype=\"relative-path\">Open(File<wbr>Mode, File<wbr>Access)</a>\n",
    "\t</span>\n",
    "</td>\n",
    "\t<td class=\"summary\"> \n",
    "\t\t<p>Opens a file in the specified mode with read, write, or read/write access.</p>\n",
    "\t</td>\n",
    "        \t</tr>\n",
    "        \t<tr>\n",
    "\t  <td class=\"is-one-third-width-tablet\">\n",
    "\t<span class=\"break-text\">\n",
    "\t\t<a class=\"xref\" href=\"https://learn.microsoft.com/en-us/dotnet/api/system.io.fileinfo.open?view=net-7.0#system-io-fileinfo-open(system-io-filemode-system-io-fileaccess-system-io-fileshare)\" data-linktype=\"relative-path\">Open(File<wbr>Mode, File<wbr>Access, File<wbr>Share)</a>\n",
    "\t</span>\n",
    "</td>\n",
    "\t<td class=\"summary\"> \n",
    "\t\t<p>Opens a file in the specified mode with read, write, or read/write access and the specified sharing option.</p>\n",
    "\t</td>\n",
    "        \t</tr>\n",
    "        \t<tr data-moniker=\" net-6.0 net-7.0 \">\n",
    "\t  <td class=\"is-one-third-width-tablet\">\n",
    "\t<span class=\"break-text\">\n",
    "\t\t<a class=\"xref\" href=\"https://learn.microsoft.com/en-us/dotnet/api/system.io.fileinfo.open?view=net-7.0#system-io-fileinfo-open(system-io-filestreamoptions)\" data-linktype=\"relative-path\">Open(File<wbr>Stream<wbr>Options)</a>\n",
    "\t</span>\n",
    "</td>\n",
    "\t<td class=\"summary\"> \n",
    "\t\t<p>Initializes a new instance of the <a class=\"no-loc\" href=\"https://learn.microsoft.com/en-us/dotnet/api/system.io.filestream?view=net-7.0\" data-linktype=\"relative-path\">FileStream</a> class with the specified creation mode, read/write and sharing permission, the access other FileStreams can have to the same file, the buffer size, additional file options and the allocation size.</p>\n",
    "\t</td>\n",
    "        \t</tr>\n",
    "        \t<tr>\n",
    "\t  <td class=\"is-one-third-width-tablet\">\n",
    "\t<span class=\"break-text\">\n",
    "\t\t<a class=\"xref\" href=\"https://learn.microsoft.com/en-us/dotnet/api/system.io.fileinfo.openread?view=net-7.0#system-io-fileinfo-openread\" data-linktype=\"relative-path\">Open<wbr>Read()</a>\n",
    "\t</span>\n",
    "</td>\n",
    "\t<td class=\"summary\"> \n",
    "\t\t<p>Creates a read-only <a class=\"no-loc\" href=\"https://learn.microsoft.com/en-us/dotnet/api/system.io.filestream?view=net-7.0\" data-linktype=\"relative-path\">FileStream</a>.</p>\n",
    "\t</td>\n",
    "        \t</tr>\n",
    "        \t<tr>\n",
    "\t  <td class=\"is-one-third-width-tablet\">\n",
    "\t<span class=\"break-text\">\n",
    "\t\t<a class=\"xref\" href=\"https://learn.microsoft.com/en-us/dotnet/api/system.io.fileinfo.opentext?view=net-7.0#system-io-fileinfo-opentext\" data-linktype=\"relative-path\">Open<wbr>Text()</a>\n",
    "\t</span>\n",
    "</td>\n",
    "\t<td class=\"summary\"> \n",
    "\t\t<p>Creates a <a class=\"no-loc\" href=\"https://learn.microsoft.com/en-us/dotnet/api/system.io.streamreader?view=net-7.0\" data-linktype=\"relative-path\">StreamReader</a> with UTF8 encoding that reads from an existing text file.</p>\n",
    "\t</td>\n",
    "        \t</tr>\n",
    "        \t<tr>\n",
    "\t  <td class=\"is-one-third-width-tablet\">\n",
    "\t<span class=\"break-text\">\n",
    "\t\t<a class=\"xref\" href=\"https://learn.microsoft.com/en-us/dotnet/api/system.io.fileinfo.openwrite?view=net-7.0#system-io-fileinfo-openwrite\" data-linktype=\"relative-path\">Open<wbr>Write()</a>\n",
    "\t</span>\n",
    "</td>\n",
    "\t<td class=\"summary\"> \n",
    "\t\t<p>Creates a write-only <a class=\"no-loc\" href=\"https://learn.microsoft.com/en-us/dotnet/api/system.io.filestream?view=net-7.0\" data-linktype=\"relative-path\">FileStream</a>.</p>\n",
    "\t</td>\n",
    "        \t</tr>\n",
    "        \t<tr data-moniker=\" dotnet-uwp-10.0 netcore-1.0 netcore-1.1 netstandard-1.3 netstandard-1.4 netstandard-1.6 net-5.0 net-6.0 net-7.0 netcore-2.0 netcore-2.1 netcore-2.2 netcore-3.0 netcore-3.1 netframework-1.1 netframework-2.0 netframework-3.0 netframework-3.5 netframework-4.0 netframework-4.5 netframework-4.5.1 netframework-4.5.2 netframework-4.6 netframework-4.6.1 netframework-4.6.2 netframework-4.7 netframework-4.7.1 netframework-4.7.2 netframework-4.8 netframework-4.8.1 netstandard-2.0 netstandard-2.1 xamarinandroid-7.1 xamarinios-10.8 xamarinmac-3.0 \">\n",
    "\t<td class=\"is-one-third-width-tablet\">\n",
    "\t\t<span class=\"break-text\">\n",
    "\t\t\t  <a class=\"xref\" href=\"https://learn.microsoft.com/en-us/dotnet/api/system.io.filesysteminfo.refresh?view=net-7.0#system-io-filesysteminfo-refresh\" data-linktype=\"relative-path\">Refresh()</a>\n",
    "\t\t</span>\n",
    "\t</td>\n",
    "\t<td class=\"summary\">\n",
    "\t\t  <p>Refreshes the state of the object.</p>\n",
    "\t\t(Inherited from   <a class=\"xref\" href=\"https://learn.microsoft.com/en-us/dotnet/api/system.io.filesysteminfo?view=net-7.0\" data-linktype=\"relative-path\">FileSystemInfo</a>)\n",
    "\t</td>\n",
    "        \t</tr>\n",
    "        \t<tr data-moniker=\" net-5.0 net-6.0 net-7.0 netcore-2.0 netcore-2.1 netcore-2.2 netcore-3.0 netcore-3.1 netframework-2.0 netframework-3.0 netframework-3.5 netframework-4.0 netframework-4.5 netframework-4.5.1 netframework-4.5.2 netframework-4.6 netframework-4.6.1 netframework-4.6.2 netframework-4.7 netframework-4.7.1 netframework-4.7.2 netframework-4.8 netframework-4.8.1 netstandard-2.0 netstandard-2.1 xamarinandroid-7.1 xamarinios-10.8 xamarinmac-3.0 \">\n",
    "\t  <td class=\"is-one-third-width-tablet\">\n",
    "\t<span class=\"break-text\">\n",
    "\t\t<a class=\"xref\" href=\"https://learn.microsoft.com/en-us/dotnet/api/system.io.fileinfo.replace?view=net-7.0#system-io-fileinfo-replace(system-string-system-string)\" data-linktype=\"relative-path\">Replace(String, String)</a>\n",
    "\t</span>\n",
    "</td>\n",
    "\t<td class=\"summary\"> \n",
    "\t\t<p>Replaces the contents of a specified file with the file described by the current <a class=\"no-loc\" href=\"https://learn.microsoft.com/en-us/dotnet/api/system.io.fileinfo?view=net-7.0\" data-linktype=\"relative-path\">FileInfo</a> object, deleting the original file, and creating a backup of the replaced file.</p>\n",
    "\t</td>\n",
    "        \t</tr>\n",
    "        \t<tr data-moniker=\" net-5.0 net-6.0 net-7.0 netcore-2.0 netcore-2.1 netcore-2.2 netcore-3.0 netcore-3.1 netframework-2.0 netframework-3.0 netframework-3.5 netframework-4.0 netframework-4.5 netframework-4.5.1 netframework-4.5.2 netframework-4.6 netframework-4.6.1 netframework-4.6.2 netframework-4.7 netframework-4.7.1 netframework-4.7.2 netframework-4.8 netframework-4.8.1 netstandard-2.0 netstandard-2.1 xamarinandroid-7.1 xamarinios-10.8 xamarinmac-3.0 \">\n",
    "\t  <td class=\"is-one-third-width-tablet\">\n",
    "\t<span class=\"break-text\">\n",
    "\t\t<a class=\"xref\" href=\"https://learn.microsoft.com/en-us/dotnet/api/system.io.fileinfo.replace?view=net-7.0#system-io-fileinfo-replace(system-string-system-string-system-boolean)\" data-linktype=\"relative-path\">Replace(String, String, Boolean)</a>\n",
    "\t</span>\n",
    "</td>\n",
    "\t<td class=\"summary\"> \n",
    "\t\t<p>Replaces the contents of a specified file with the file described by the current <a class=\"no-loc\" href=\"https://learn.microsoft.com/en-us/dotnet/api/system.io.fileinfo?view=net-7.0\" data-linktype=\"relative-path\">FileInfo</a> object, deleting the original file, and creating a backup of the replaced file.  Also specifies whether to ignore merge errors.</p>\n",
    "\t</td>\n",
    "        \t</tr>\n",
    "        \t<tr data-moniker=\" dotnet-uwp-10.0 netcore-1.0 netcore-1.1 netstandard-1.3 netstandard-1.4 netstandard-1.6 net-5.0 net-6.0 net-7.0 netcore-2.0 netcore-2.1 netcore-2.2 netcore-3.0 netcore-3.1 netframework-1.1 netframework-2.0 netframework-3.0 netframework-3.5 netframework-4.0 netframework-4.5 netframework-4.5.1 netframework-4.5.2 netframework-4.6 netframework-4.6.1 netframework-4.6.2 netframework-4.7 netframework-4.7.1 netframework-4.7.2 netframework-4.8 netframework-4.8.1 netstandard-2.0 netstandard-2.1 xamarinandroid-7.1 xamarinios-10.8 xamarinmac-3.0 \">\n",
    "\t<td class=\"is-one-third-width-tablet\">\n",
    "\t\t<span class=\"break-text\">\n",
    "\t\t\t  <a class=\"xref\" href=\"https://learn.microsoft.com/en-us/dotnet/api/system.io.filesysteminfo.resolvelinktarget?view=net-7.0#system-io-filesysteminfo-resolvelinktarget(system-boolean)\" data-linktype=\"relative-path\">Resolve<wbr>Link<wbr>Target(Boolean)</a>\n",
    "\t\t</span>\n",
    "\t</td>\n",
    "\t<td class=\"summary\">\n",
    "\t\t  <p>Gets the target of the specified link.</p>\n",
    "\t\t(Inherited from   <a class=\"xref\" href=\"https://learn.microsoft.com/en-us/dotnet/api/system.io.filesysteminfo?view=net-7.0\" data-linktype=\"relative-path\">FileSystemInfo</a>)\n",
    "\t</td>\n",
    "        \t</tr>\n",
    "        \t<tr data-moniker=\" netframework-2.0 netframework-3.0 netframework-3.5 netframework-4.0 netframework-4.5 netframework-4.5.1 netframework-4.5.2 netframework-4.6 netframework-4.6.1 netframework-4.6.2 netframework-4.7 netframework-4.7.1 netframework-4.7.2 netframework-4.8 netframework-4.8.1 xamarinandroid-7.1 xamarinios-10.8 xamarinmac-3.0 \">\n",
    "\t  <td class=\"is-one-third-width-tablet\">\n",
    "\t<span class=\"break-text\">\n",
    "\t\t<a class=\"xref\" href=\"https://learn.microsoft.com/en-us/dotnet/api/system.io.fileinfo.setaccesscontrol?view=net-7.0#system-io-fileinfo-setaccesscontrol(system-security-accesscontrol-filesecurity)\" data-linktype=\"relative-path\">Set<wbr>Access<wbr>Control(File<wbr>Security)</a>\n",
    "\t</span>\n",
    "</td>\n",
    "\t<td class=\"summary\"> \n",
    "\t\t<p>Applies access control list (ACL) entries described by a <a class=\"no-loc\" href=\"https://learn.microsoft.com/en-us/dotnet/api/system.security.accesscontrol.filesecurity?view=net-7.0\" data-linktype=\"relative-path\">FileSecurity</a> object to the file described by the current <a class=\"no-loc\" href=\"https://learn.microsoft.com/en-us/dotnet/api/system.io.fileinfo?view=net-7.0\" data-linktype=\"relative-path\">FileInfo</a> object.</p>\n",
    "\t</td>\n",
    "        \t</tr>\n",
    "        \t<tr data-moniker=\" dotnet-uwp-10.0 net-5.0 net-6.0 netcore-1.0 netcore-1.1 netcore-2.0 netcore-2.1 netcore-2.2 netcore-3.0 netcore-3.1 netframework-1.1 netframework-2.0 netframework-3.0 netframework-3.5 netframework-4.0 netframework-4.5 netframework-4.5.1 netframework-4.5.2 netframework-4.6 netframework-4.6.1 netframework-4.6.2 netframework-4.7 netframework-4.7.1 netframework-4.7.2 netframework-4.8 netframework-4.8.1 netstandard-1.3 netstandard-1.4 netstandard-1.6 netstandard-2.0 netstandard-2.1 xamarinandroid-7.1 xamarinios-10.8 xamarinmac-3.0 \">\n",
    "\t  <td class=\"is-one-third-width-tablet\">\n",
    "\t<span class=\"break-text\">\n",
    "\t\t<a class=\"xref\" href=\"https://learn.microsoft.com/en-us/dotnet/api/system.io.fileinfo.tostring?view=net-7.0#system-io-fileinfo-tostring\" data-linktype=\"relative-path\">To<wbr>String()</a>\n",
    "\t</span>\n",
    "</td>\n",
    "\t<td class=\"summary\"> \n",
    "\t\t<p>Returns the path as a string. Use the <a class=\"no-loc\" href=\"https://learn.microsoft.com/en-us/dotnet/api/system.io.fileinfo.name?view=net-7.0#system-io-fileinfo-name\" data-linktype=\"relative-path\">Name</a> property for the full path.</p>\n",
    "\t</td>\n",
    "        \t</tr>\n",
    "        \t<tr data-moniker=\" net-7.0 \">\n",
    "\t<td class=\"is-one-third-width-tablet\">\n",
    "\t\t<span class=\"break-text\">\n",
    "\t\t\t  <a class=\"xref\" href=\"https://learn.microsoft.com/en-us/dotnet/api/system.io.filesysteminfo.tostring?view=net-7.0#system-io-filesysteminfo-tostring\" data-linktype=\"relative-path\">To<wbr>String()</a>\n",
    "\t\t</span>\n",
    "\t</td>\n",
    "\t<td class=\"summary\">\n",
    "\t\t  <p>Returns the original path. Use the <a class=\"no-loc\" href=\"https://learn.microsoft.com/en-us/dotnet/api/system.io.filesysteminfo.fullname?view=net-7.0#system-io-filesysteminfo-fullname\" data-linktype=\"relative-path\">FullName</a> or <a class=\"no-loc\" href=\"https://learn.microsoft.com/en-us/dotnet/api/system.io.filesysteminfo.name?view=net-7.0#system-io-filesysteminfo-name\" data-linktype=\"relative-path\">Name</a> properties for the full path or file/directory name.</p>\n",
    "\t\t(Inherited from   <a class=\"xref\" href=\"https://learn.microsoft.com/en-us/dotnet/api/system.io.filesysteminfo?view=net-7.0\" data-linktype=\"relative-path\">FileSystemInfo</a>)\n",
    "\t</td>\n",
    "        \t</tr>\n",
    "\t</tbody></table>"
   ]
  },
  {
   "attachments": {},
   "cell_type": "markdown",
   "metadata": {
    "dotnet_interactive": {
     "language": "csharp"
    },
    "polyglot_notebook": {
     "kernelName": "csharp"
    }
   },
   "source": [
    "<br>"
   ]
  }
 ],
 "metadata": {
  "kernelspec": {
   "display_name": ".NET (C#)",
   "language": "C#",
   "name": ".net-csharp"
  },
  "polyglot_notebook": {
   "kernelInfo": {
    "defaultKernelName": "csharp",
    "items": [
     {
      "aliases": [
       "c#",
       "C#"
      ],
      "languageName": "C#",
      "name": "csharp"
     },
     {
      "aliases": [
       "frontend"
      ],
      "name": "vscode"
     },
     {
      "aliases": [],
      "name": ".NET"
     },
     {
      "aliases": [
       "f#",
       "F#"
      ],
      "languageName": "F#",
      "name": "fsharp"
     },
     {
      "aliases": [],
      "languageName": "HTML",
      "name": "html"
     },
     {
      "aliases": [],
      "languageName": "KQL",
      "name": "kql"
     },
     {
      "aliases": [],
      "languageName": "Mermaid",
      "name": "mermaid"
     },
     {
      "aliases": [
       "powershell"
      ],
      "languageName": "PowerShell",
      "name": "pwsh"
     },
     {
      "aliases": [],
      "languageName": "SQL",
      "name": "sql"
     },
     {
      "aliases": [],
      "name": "value"
     }
    ]
   }
  }
 },
 "nbformat": 4,
 "nbformat_minor": 2
}
