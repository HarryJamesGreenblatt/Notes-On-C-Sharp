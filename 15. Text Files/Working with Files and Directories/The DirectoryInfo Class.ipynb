{
 "cells": [
  {
   "attachments": {},
   "cell_type": "markdown",
   "metadata": {
    "dotnet_interactive": {
     "language": "csharp"
    },
    "polyglot_notebook": {
     "kernelName": "csharp"
    }
   },
   "source": [
    "# 15. Text Files"
   ]
  },
  {
   "attachments": {},
   "cell_type": "markdown",
   "metadata": {
    "dotnet_interactive": {
     "language": "csharp"
    },
    "polyglot_notebook": {
     "kernelName": "csharp"
    }
   },
   "source": [
    "## Working with Files and Directories\n",
    "### The `DirectoryInfo` Class\n",
    "---"
   ]
  },
  {
   "attachments": {},
   "cell_type": "markdown",
   "metadata": {
    "dotnet_interactive": {
     "language": "csharp"
    },
    "polyglot_notebook": {
     "kernelName": "csharp"
    }
   },
   "source": [
    "The [DirectoryInfo](http://msdn.microsoft.com/en-us/library/system.io.directoryinfo(v=vs.110).aspx) class provides the same functionality as a static `Directory` class. `DirectoryInfo` provides properties and instance methods for creating, moving, deleting and accessing subdirectories."
   ]
  },
  {
   "attachments": {},
   "cell_type": "markdown",
   "metadata": {
    "dotnet_interactive": {
     "language": "csharp"
    },
    "polyglot_notebook": {
     "kernelName": "csharp"
    }
   },
   "source": [
    "<br>"
   ]
  },
  {
   "attachments": {},
   "cell_type": "markdown",
   "metadata": {
    "dotnet_interactive": {
     "language": "csharp"
    },
    "polyglot_notebook": {
     "kernelName": "csharp"
    }
   },
   "source": [
    "### Class Definition"
   ]
  },
  {
   "attachments": {},
   "cell_type": "markdown",
   "metadata": {
    "dotnet_interactive": {
     "language": "csharp"
    },
    "polyglot_notebook": {
     "kernelName": "csharp"
    }
   },
   "source": [
    "#### Fields"
   ]
  },
  {
   "cell_type": "markdown",
   "metadata": {
    "dotnet_interactive": {
     "language": "csharp"
    },
    "polyglot_notebook": {
     "kernelName": "csharp"
    }
   },
   "source": [
    "<table class=\"nameValue table table-sm table-stacked-mobile\" aria-label=\"Table 2\">\n",
    "        \t<tbody><tr data-moniker=\" dotnet-uwp-10.0 netcore-1.0 netcore-1.1 netstandard-1.3 netstandard-1.4 netstandard-1.6 net-5.0 net-6.0 net-7.0 netcore-2.0 netcore-2.1 netcore-2.2 netcore-3.0 netcore-3.1 netframework-1.1 netframework-2.0 netframework-3.0 netframework-3.5 netframework-4.0 netframework-4.5 netframework-4.5.1 netframework-4.5.2 netframework-4.6 netframework-4.6.1 netframework-4.6.2 netframework-4.7 netframework-4.7.1 netframework-4.7.2 netframework-4.8 netframework-4.8.1 netstandard-2.0 netstandard-2.1 xamarinandroid-7.1 xamarinios-10.8 xamarinmac-3.0 \">\n",
    "\t<td class=\"is-one-third-width-tablet\">\n",
    "\t\t<span class=\"break-text\">\n",
    "\t\t\t  <a class=\"xref\" href=\"https://learn.microsoft.com/en-us/dotnet/api/system.io.filesysteminfo.fullpath?view=net-7.0\" data-linktype=\"relative-path\">Full<wbr>Path</a>\n",
    "\t\t</span>\n",
    "\t</td>\n",
    "\t<td class=\"summary\">\n",
    "\t\t  <p>Represents the fully qualified path of the directory or file.</p>\n",
    "\t\t(Inherited from   <a class=\"xref\" href=\"https://learn.microsoft.com/en-us/dotnet/api/system.io.filesysteminfo?view=net-7.0\" data-linktype=\"relative-path\">FileSystemInfo</a>)\n",
    "\t</td>\n",
    "        \t</tr>\n",
    "        \t<tr data-moniker=\" dotnet-uwp-10.0 netcore-1.0 netcore-1.1 netstandard-1.3 netstandard-1.4 netstandard-1.6 net-5.0 net-6.0 net-7.0 netcore-2.0 netcore-2.1 netcore-2.2 netcore-3.0 netcore-3.1 netframework-1.1 netframework-2.0 netframework-3.0 netframework-3.5 netframework-4.0 netframework-4.5 netframework-4.5.1 netframework-4.5.2 netframework-4.6 netframework-4.6.1 netframework-4.6.2 netframework-4.7 netframework-4.7.1 netframework-4.7.2 netframework-4.8 netframework-4.8.1 netstandard-2.0 netstandard-2.1 xamarinandroid-7.1 xamarinios-10.8 xamarinmac-3.0 \">\n",
    "\t<td class=\"is-one-third-width-tablet\">\n",
    "\t\t<span class=\"break-text\">\n",
    "\t\t\t  <a class=\"xref\" href=\"https://learn.microsoft.com/en-us/dotnet/api/system.io.filesysteminfo.originalpath?view=net-7.0\" data-linktype=\"relative-path\">Original<wbr>Path</a>\n",
    "\t\t</span>\n",
    "\t</td>\n",
    "\t<td class=\"summary\">\n",
    "\t\t  <p>The path originally specified by the user, whether relative or absolute.</p>\n",
    "\t\t(Inherited from   <a class=\"xref\" href=\"https://learn.microsoft.com/en-us/dotnet/api/system.io.filesysteminfo?view=net-7.0\" data-linktype=\"relative-path\">FileSystemInfo</a>)\n",
    "\t</td>\n",
    "        \t</tr>\n",
    "\t</tbody></table>"
   ]
  },
  {
   "attachments": {},
   "cell_type": "markdown",
   "metadata": {
    "dotnet_interactive": {
     "language": "csharp"
    },
    "polyglot_notebook": {
     "kernelName": "csharp"
    }
   },
   "source": [
    "<br>"
   ]
  },
  {
   "attachments": {},
   "cell_type": "markdown",
   "metadata": {
    "dotnet_interactive": {
     "language": "csharp"
    },
    "polyglot_notebook": {
     "kernelName": "csharp"
    }
   },
   "source": [
    "#### Properties"
   ]
  },
  {
   "cell_type": "markdown",
   "metadata": {
    "dotnet_interactive": {
     "language": "csharp"
    },
    "polyglot_notebook": {
     "kernelName": "csharp"
    }
   },
   "source": [
    "<table class=\"nameValue table table-sm table-stacked-mobile\" aria-label=\"Table 3\">\n",
    "        \t<tbody><tr data-moniker=\" dotnet-uwp-10.0 netcore-1.0 netcore-1.1 netstandard-1.3 netstandard-1.4 netstandard-1.6 net-5.0 net-6.0 net-7.0 netcore-2.0 netcore-2.1 netcore-2.2 netcore-3.0 netcore-3.1 netframework-1.1 netframework-2.0 netframework-3.0 netframework-3.5 netframework-4.0 netframework-4.5 netframework-4.5.1 netframework-4.5.2 netframework-4.6 netframework-4.6.1 netframework-4.6.2 netframework-4.7 netframework-4.7.1 netframework-4.7.2 netframework-4.8 netframework-4.8.1 netstandard-2.0 netstandard-2.1 xamarinandroid-7.1 xamarinios-10.8 xamarinmac-3.0 \">\n",
    "\t<td class=\"is-one-third-width-tablet\">\n",
    "\t\t<span class=\"break-text\">\n",
    "\t\t\t  <a class=\"xref\" href=\"https://learn.microsoft.com/en-us/dotnet/api/system.io.filesysteminfo.attributes?view=net-7.0#system-io-filesysteminfo-attributes\" data-linktype=\"relative-path\">Attributes</a>\n",
    "\t\t</span>\n",
    "\t</td>\n",
    "\t<td class=\"summary\">\n",
    "\t\t  <p>Gets or sets the attributes for the current file or directory.</p>\n",
    "\t\t(Inherited from   <a class=\"xref\" href=\"https://learn.microsoft.com/en-us/dotnet/api/system.io.filesysteminfo?view=net-7.0\" data-linktype=\"relative-path\">FileSystemInfo</a>)\n",
    "\t</td>\n",
    "        \t</tr>\n",
    "        \t<tr data-moniker=\" dotnet-uwp-10.0 netcore-1.0 netcore-1.1 netstandard-1.3 netstandard-1.4 netstandard-1.6 net-5.0 net-6.0 net-7.0 netcore-2.0 netcore-2.1 netcore-2.2 netcore-3.0 netcore-3.1 netframework-1.1 netframework-2.0 netframework-3.0 netframework-3.5 netframework-4.0 netframework-4.5 netframework-4.5.1 netframework-4.5.2 netframework-4.6 netframework-4.6.1 netframework-4.6.2 netframework-4.7 netframework-4.7.1 netframework-4.7.2 netframework-4.8 netframework-4.8.1 netstandard-2.0 netstandard-2.1 xamarinandroid-7.1 xamarinios-10.8 xamarinmac-3.0 \">\n",
    "\t<td class=\"is-one-third-width-tablet\">\n",
    "\t\t<span class=\"break-text\">\n",
    "\t\t\t  <a class=\"xref\" href=\"https://learn.microsoft.com/en-us/dotnet/api/system.io.filesysteminfo.creationtime?view=net-7.0#system-io-filesysteminfo-creationtime\" data-linktype=\"relative-path\">Creation<wbr>Time</a>\n",
    "\t\t</span>\n",
    "\t</td>\n",
    "\t<td class=\"summary\">\n",
    "\t\t  <p>Gets or sets the creation time of the current file or directory.</p>\n",
    "\t\t(Inherited from   <a class=\"xref\" href=\"https://learn.microsoft.com/en-us/dotnet/api/system.io.filesysteminfo?view=net-7.0\" data-linktype=\"relative-path\">FileSystemInfo</a>)\n",
    "\t</td>\n",
    "        \t</tr>\n",
    "        \t<tr data-moniker=\" dotnet-uwp-10.0 netcore-1.0 netcore-1.1 netstandard-1.3 netstandard-1.4 netstandard-1.6 net-5.0 net-6.0 net-7.0 netcore-2.0 netcore-2.1 netcore-2.2 netcore-3.0 netcore-3.1 netframework-1.1 netframework-2.0 netframework-3.0 netframework-3.5 netframework-4.0 netframework-4.5 netframework-4.5.1 netframework-4.5.2 netframework-4.6 netframework-4.6.1 netframework-4.6.2 netframework-4.7 netframework-4.7.1 netframework-4.7.2 netframework-4.8 netframework-4.8.1 netstandard-2.0 netstandard-2.1 xamarinandroid-7.1 xamarinios-10.8 xamarinmac-3.0 \">\n",
    "\t<td class=\"is-one-third-width-tablet\">\n",
    "\t\t<span class=\"break-text\">\n",
    "\t\t\t  <a class=\"xref\" href=\"https://learn.microsoft.com/en-us/dotnet/api/system.io.filesysteminfo.creationtimeutc?view=net-7.0#system-io-filesysteminfo-creationtimeutc\" data-linktype=\"relative-path\">Creation<wbr>Time<wbr>Utc</a>\n",
    "\t\t</span>\n",
    "\t</td>\n",
    "\t<td class=\"summary\">\n",
    "\t\t  <p>Gets or sets the creation time, in coordinated universal time (UTC), of the current file or directory.</p>\n",
    "\t\t(Inherited from   <a class=\"xref\" href=\"https://learn.microsoft.com/en-us/dotnet/api/system.io.filesysteminfo?view=net-7.0\" data-linktype=\"relative-path\">FileSystemInfo</a>)\n",
    "\t</td>\n",
    "        \t</tr>\n",
    "        \t<tr>\n",
    "\t  <td class=\"is-one-third-width-tablet\">\n",
    "\t<span class=\"break-text\">\n",
    "\t\t<a class=\"xref\" href=\"https://learn.microsoft.com/en-us/dotnet/api/system.io.directoryinfo.exists?view=net-7.0#system-io-directoryinfo-exists\" data-linktype=\"relative-path\">Exists</a>\n",
    "\t</span>\n",
    "</td>\n",
    "\t<td class=\"summary\"> \n",
    "\t\t<p>Gets a value indicating whether the directory exists.</p>\n",
    "\t</td>\n",
    "        \t</tr>\n",
    "        \t<tr data-moniker=\" dotnet-uwp-10.0 netcore-1.0 netcore-1.1 netstandard-1.3 netstandard-1.4 netstandard-1.6 net-5.0 net-6.0 net-7.0 netcore-2.0 netcore-2.1 netcore-2.2 netcore-3.0 netcore-3.1 netframework-1.1 netframework-2.0 netframework-3.0 netframework-3.5 netframework-4.0 netframework-4.5 netframework-4.5.1 netframework-4.5.2 netframework-4.6 netframework-4.6.1 netframework-4.6.2 netframework-4.7 netframework-4.7.1 netframework-4.7.2 netframework-4.8 netframework-4.8.1 netstandard-2.0 netstandard-2.1 xamarinandroid-7.1 xamarinios-10.8 xamarinmac-3.0 \">\n",
    "\t<td class=\"is-one-third-width-tablet\">\n",
    "\t\t<span class=\"break-text\">\n",
    "\t\t\t  <a class=\"xref\" href=\"https://learn.microsoft.com/en-us/dotnet/api/system.io.filesysteminfo.extension?view=net-7.0#system-io-filesysteminfo-extension\" data-linktype=\"relative-path\">Extension</a>\n",
    "\t\t</span>\n",
    "\t</td>\n",
    "\t<td class=\"summary\">\n",
    "\t\t  <p>Gets the extension part of the file name, including the leading dot <code data-dev-comment-type=\"c\">.</code> even if it is the entire file name, or an empty string if no extension is present.</p>\n",
    "\t\t(Inherited from   <a class=\"xref\" href=\"https://learn.microsoft.com/en-us/dotnet/api/system.io.filesysteminfo?view=net-7.0\" data-linktype=\"relative-path\">FileSystemInfo</a>)\n",
    "\t</td>\n",
    "        \t</tr>\n",
    "        \t<tr data-moniker=\" netframework-4.7 netframework-4.7.1 netframework-4.7.2 netframework-4.8 netframework-4.8.1 \">\n",
    "\t  <td class=\"is-one-third-width-tablet\">\n",
    "\t<span class=\"break-text\">\n",
    "\t\t<a class=\"xref\" href=\"https://learn.microsoft.com/en-us/dotnet/api/system.io.directoryinfo.fullname?view=net-7.0#system-io-directoryinfo-fullname\" data-linktype=\"relative-path\">Full<wbr>Name</a>\n",
    "\t</span>\n",
    "</td>\n",
    "\t<td class=\"summary\"> \n",
    "\t\t<p>Gets the full path of the directory.</p>\n",
    "\t</td>\n",
    "        \t</tr>\n",
    "        \t<tr data-moniker=\" dotnet-uwp-10.0 netcore-1.0 netcore-1.1 netstandard-1.3 netstandard-1.4 netstandard-1.6 net-5.0 net-6.0 net-7.0 netcore-2.0 netcore-2.1 netcore-2.2 netcore-3.0 netcore-3.1 netframework-1.1 netframework-2.0 netframework-3.0 netframework-3.5 netframework-4.0 netframework-4.5 netframework-4.5.1 netframework-4.5.2 netframework-4.6 netframework-4.6.1 netframework-4.6.2 netstandard-2.0 netstandard-2.1 xamarinandroid-7.1 xamarinios-10.8 xamarinmac-3.0 \">\n",
    "\t<td class=\"is-one-third-width-tablet\">\n",
    "\t\t<span class=\"break-text\">\n",
    "\t\t\t  <a class=\"xref\" href=\"https://learn.microsoft.com/en-us/dotnet/api/system.io.filesysteminfo.fullname?view=net-7.0#system-io-filesysteminfo-fullname\" data-linktype=\"relative-path\">Full<wbr>Name</a>\n",
    "\t\t</span>\n",
    "\t</td>\n",
    "\t<td class=\"summary\">\n",
    "\t\t  <p>Gets the full path of the directory or file.</p>\n",
    "\t\t(Inherited from   <a class=\"xref\" href=\"https://learn.microsoft.com/en-us/dotnet/api/system.io.filesysteminfo?view=net-7.0\" data-linktype=\"relative-path\">FileSystemInfo</a>)\n",
    "\t</td>\n",
    "        \t</tr>\n",
    "        \t<tr data-moniker=\" dotnet-uwp-10.0 netcore-1.0 netcore-1.1 netstandard-1.3 netstandard-1.4 netstandard-1.6 net-5.0 net-6.0 net-7.0 netcore-2.0 netcore-2.1 netcore-2.2 netcore-3.0 netcore-3.1 netframework-1.1 netframework-2.0 netframework-3.0 netframework-3.5 netframework-4.0 netframework-4.5 netframework-4.5.1 netframework-4.5.2 netframework-4.6 netframework-4.6.1 netframework-4.6.2 netframework-4.7 netframework-4.7.1 netframework-4.7.2 netframework-4.8 netframework-4.8.1 netstandard-2.0 netstandard-2.1 xamarinandroid-7.1 xamarinios-10.8 xamarinmac-3.0 \">\n",
    "\t<td class=\"is-one-third-width-tablet\">\n",
    "\t\t<span class=\"break-text\">\n",
    "\t\t\t  <a class=\"xref\" href=\"https://learn.microsoft.com/en-us/dotnet/api/system.io.filesysteminfo.lastaccesstime?view=net-7.0#system-io-filesysteminfo-lastaccesstime\" data-linktype=\"relative-path\">Last<wbr>Access<wbr>Time</a>\n",
    "\t\t</span>\n",
    "\t</td>\n",
    "\t<td class=\"summary\">\n",
    "\t\t  <p>Gets or sets the time the current file or directory was last accessed.</p>\n",
    "\t\t(Inherited from   <a class=\"xref\" href=\"https://learn.microsoft.com/en-us/dotnet/api/system.io.filesysteminfo?view=net-7.0\" data-linktype=\"relative-path\">FileSystemInfo</a>)\n",
    "\t</td>\n",
    "        \t</tr>\n",
    "        \t<tr data-moniker=\" dotnet-uwp-10.0 netcore-1.0 netcore-1.1 netstandard-1.3 netstandard-1.4 netstandard-1.6 net-5.0 net-6.0 net-7.0 netcore-2.0 netcore-2.1 netcore-2.2 netcore-3.0 netcore-3.1 netframework-1.1 netframework-2.0 netframework-3.0 netframework-3.5 netframework-4.0 netframework-4.5 netframework-4.5.1 netframework-4.5.2 netframework-4.6 netframework-4.6.1 netframework-4.6.2 netframework-4.7 netframework-4.7.1 netframework-4.7.2 netframework-4.8 netframework-4.8.1 netstandard-2.0 netstandard-2.1 xamarinandroid-7.1 xamarinios-10.8 xamarinmac-3.0 \">\n",
    "\t<td class=\"is-one-third-width-tablet\">\n",
    "\t\t<span class=\"break-text\">\n",
    "\t\t\t  <a class=\"xref\" href=\"https://learn.microsoft.com/en-us/dotnet/api/system.io.filesysteminfo.lastaccesstimeutc?view=net-7.0#system-io-filesysteminfo-lastaccesstimeutc\" data-linktype=\"relative-path\">Last<wbr>Access<wbr>Time<wbr>Utc</a>\n",
    "\t\t</span>\n",
    "\t</td>\n",
    "\t<td class=\"summary\">\n",
    "\t\t  <p>Gets or sets the time, in coordinated universal time (UTC), that the current file or directory was last accessed.</p>\n",
    "\t\t(Inherited from   <a class=\"xref\" href=\"https://learn.microsoft.com/en-us/dotnet/api/system.io.filesysteminfo?view=net-7.0\" data-linktype=\"relative-path\">FileSystemInfo</a>)\n",
    "\t</td>\n",
    "        \t</tr>\n",
    "        \t<tr data-moniker=\" dotnet-uwp-10.0 netcore-1.0 netcore-1.1 netstandard-1.3 netstandard-1.4 netstandard-1.6 net-5.0 net-6.0 net-7.0 netcore-2.0 netcore-2.1 netcore-2.2 netcore-3.0 netcore-3.1 netframework-1.1 netframework-2.0 netframework-3.0 netframework-3.5 netframework-4.0 netframework-4.5 netframework-4.5.1 netframework-4.5.2 netframework-4.6 netframework-4.6.1 netframework-4.6.2 netframework-4.7 netframework-4.7.1 netframework-4.7.2 netframework-4.8 netframework-4.8.1 netstandard-2.0 netstandard-2.1 xamarinandroid-7.1 xamarinios-10.8 xamarinmac-3.0 \">\n",
    "\t<td class=\"is-one-third-width-tablet\">\n",
    "\t\t<span class=\"break-text\">\n",
    "\t\t\t  <a class=\"xref\" href=\"https://learn.microsoft.com/en-us/dotnet/api/system.io.filesysteminfo.lastwritetime?view=net-7.0#system-io-filesysteminfo-lastwritetime\" data-linktype=\"relative-path\">Last<wbr>Write<wbr>Time</a>\n",
    "\t\t</span>\n",
    "\t</td>\n",
    "\t<td class=\"summary\">\n",
    "\t\t  <p>Gets or sets the time when the current file or directory was last written to.</p>\n",
    "\t\t(Inherited from   <a class=\"xref\" href=\"https://learn.microsoft.com/en-us/dotnet/api/system.io.filesysteminfo?view=net-7.0\" data-linktype=\"relative-path\">FileSystemInfo</a>)\n",
    "\t</td>\n",
    "        \t</tr>\n",
    "        \t<tr data-moniker=\" dotnet-uwp-10.0 netcore-1.0 netcore-1.1 netstandard-1.3 netstandard-1.4 netstandard-1.6 net-5.0 net-6.0 net-7.0 netcore-2.0 netcore-2.1 netcore-2.2 netcore-3.0 netcore-3.1 netframework-1.1 netframework-2.0 netframework-3.0 netframework-3.5 netframework-4.0 netframework-4.5 netframework-4.5.1 netframework-4.5.2 netframework-4.6 netframework-4.6.1 netframework-4.6.2 netframework-4.7 netframework-4.7.1 netframework-4.7.2 netframework-4.8 netframework-4.8.1 netstandard-2.0 netstandard-2.1 xamarinandroid-7.1 xamarinios-10.8 xamarinmac-3.0 \">\n",
    "\t<td class=\"is-one-third-width-tablet\">\n",
    "\t\t<span class=\"break-text\">\n",
    "\t\t\t  <a class=\"xref\" href=\"https://learn.microsoft.com/en-us/dotnet/api/system.io.filesysteminfo.lastwritetimeutc?view=net-7.0#system-io-filesysteminfo-lastwritetimeutc\" data-linktype=\"relative-path\">Last<wbr>Write<wbr>Time<wbr>Utc</a>\n",
    "\t\t</span>\n",
    "\t</td>\n",
    "\t<td class=\"summary\">\n",
    "\t\t  <p>Gets or sets the time, in coordinated universal time (UTC), when the current file or directory was last written to.</p>\n",
    "\t\t(Inherited from   <a class=\"xref\" href=\"https://learn.microsoft.com/en-us/dotnet/api/system.io.filesysteminfo?view=net-7.0\" data-linktype=\"relative-path\">FileSystemInfo</a>)\n",
    "\t</td>\n",
    "        \t</tr>\n",
    "        \t<tr data-moniker=\" dotnet-uwp-10.0 netcore-1.0 netcore-1.1 netstandard-1.3 netstandard-1.4 netstandard-1.6 net-5.0 net-6.0 net-7.0 netcore-2.0 netcore-2.1 netcore-2.2 netcore-3.0 netcore-3.1 netframework-1.1 netframework-2.0 netframework-3.0 netframework-3.5 netframework-4.0 netframework-4.5 netframework-4.5.1 netframework-4.5.2 netframework-4.6 netframework-4.6.1 netframework-4.6.2 netframework-4.7 netframework-4.7.1 netframework-4.7.2 netframework-4.8 netframework-4.8.1 netstandard-2.0 netstandard-2.1 xamarinandroid-7.1 xamarinios-10.8 xamarinmac-3.0 \">\n",
    "\t<td class=\"is-one-third-width-tablet\">\n",
    "\t\t<span class=\"break-text\">\n",
    "\t\t\t  <a class=\"xref\" href=\"https://learn.microsoft.com/en-us/dotnet/api/system.io.filesysteminfo.linktarget?view=net-7.0#system-io-filesysteminfo-linktarget\" data-linktype=\"relative-path\">Link<wbr>Target</a>\n",
    "\t\t</span>\n",
    "\t</td>\n",
    "\t<td class=\"summary\">\n",
    "\t\t  <p>Gets the target path of the link located in <a class=\"no-loc\" href=\"https://learn.microsoft.com/en-us/dotnet/api/system.io.filesysteminfo.fullname?view=net-7.0#system-io-filesysteminfo-fullname\" data-linktype=\"relative-path\">FullName</a>, or <code data-dev-comment-type=\"langword\">null</code> if this <a class=\"no-loc\" href=\"https://learn.microsoft.com/en-us/dotnet/api/system.io.filesysteminfo?view=net-7.0\" data-linktype=\"relative-path\">FileSystemInfo</a> instance doesn't represent a link.</p>\n",
    "\t\t(Inherited from   <a class=\"xref\" href=\"https://learn.microsoft.com/en-us/dotnet/api/system.io.filesysteminfo?view=net-7.0\" data-linktype=\"relative-path\">FileSystemInfo</a>)\n",
    "\t</td>\n",
    "        \t</tr>\n",
    "        \t<tr>\n",
    "\t  <td class=\"is-one-third-width-tablet\">\n",
    "\t<span class=\"break-text\">\n",
    "\t\t<a class=\"xref\" href=\"https://learn.microsoft.com/en-us/dotnet/api/system.io.directoryinfo.name?view=net-7.0#system-io-directoryinfo-name\" data-linktype=\"relative-path\">Name</a>\n",
    "\t</span>\n",
    "</td>\n",
    "\t<td class=\"summary\"> \n",
    "\t\t<p>Gets the name of this <a class=\"no-loc\" href=\"https://learn.microsoft.com/en-us/dotnet/api/system.io.directoryinfo?view=net-7.0\" data-linktype=\"relative-path\">DirectoryInfo</a> instance.</p>\n",
    "\t</td>\n",
    "        \t</tr>\n",
    "        \t<tr>\n",
    "\t  <td class=\"is-one-third-width-tablet\">\n",
    "\t<span class=\"break-text\">\n",
    "\t\t<a class=\"xref\" href=\"https://learn.microsoft.com/en-us/dotnet/api/system.io.directoryinfo.parent?view=net-7.0#system-io-directoryinfo-parent\" data-linktype=\"relative-path\">Parent</a>\n",
    "\t</span>\n",
    "</td>\n",
    "\t<td class=\"summary\"> \n",
    "\t\t<p>Gets the parent directory of a specified subdirectory.</p>\n",
    "\t</td>\n",
    "        \t</tr>\n",
    "        \t<tr>\n",
    "\t  <td class=\"is-one-third-width-tablet\">\n",
    "\t<span class=\"break-text\">\n",
    "\t\t<a class=\"xref\" href=\"https://learn.microsoft.com/en-us/dotnet/api/system.io.directoryinfo.root?view=net-7.0#system-io-directoryinfo-root\" data-linktype=\"relative-path\">Root</a>\n",
    "\t</span>\n",
    "</td>\n",
    "\t<td class=\"summary\"> \n",
    "\t\t<p>Gets the root portion of the directory.</p>\n",
    "\t</td>\n",
    "        \t</tr>\n",
    "        \t<tr data-moniker=\" dotnet-uwp-10.0 netcore-1.0 netcore-1.1 netstandard-1.3 netstandard-1.4 netstandard-1.6 net-5.0 net-6.0 net-7.0 netcore-2.0 netcore-2.1 netcore-2.2 netcore-3.0 netcore-3.1 netframework-1.1 netframework-2.0 netframework-3.0 netframework-3.5 netframework-4.0 netframework-4.5 netframework-4.5.1 netframework-4.5.2 netframework-4.6 netframework-4.6.1 netframework-4.6.2 netframework-4.7 netframework-4.7.1 netframework-4.7.2 netframework-4.8 netframework-4.8.1 netstandard-2.0 netstandard-2.1 xamarinandroid-7.1 xamarinios-10.8 xamarinmac-3.0 \">\n",
    "\t<td class=\"is-one-third-width-tablet\">\n",
    "\t\t<span class=\"break-text\">\n",
    "\t\t\t  <a class=\"xref\" href=\"https://learn.microsoft.com/en-us/dotnet/api/system.io.filesysteminfo.unixfilemode?view=net-7.0#system-io-filesysteminfo-unixfilemode\" data-linktype=\"relative-path\">Unix<wbr>File<wbr>Mode</a>\n",
    "\t\t</span>\n",
    "\t</td>\n",
    "\t<td class=\"summary\">\n",
    "\t\t  <p>Gets or sets the Unix file mode for the current file or directory.</p>\n",
    "\t\t(Inherited from   <a class=\"xref\" href=\"https://learn.microsoft.com/en-us/dotnet/api/system.io.filesysteminfo?view=net-7.0\" data-linktype=\"relative-path\">FileSystemInfo</a>)\n",
    "\t</td>\n",
    "        \t</tr>\n",
    "\t</tbody></table>"
   ]
  },
  {
   "attachments": {},
   "cell_type": "markdown",
   "metadata": {
    "dotnet_interactive": {
     "language": "csharp"
    },
    "polyglot_notebook": {
     "kernelName": "csharp"
    }
   },
   "source": [
    "<br>"
   ]
  },
  {
   "cell_type": "markdown",
   "metadata": {
    "dotnet_interactive": {
     "language": "csharp"
    },
    "polyglot_notebook": {
     "kernelName": "csharp"
    }
   },
   "source": [
    "#### Constructor"
   ]
  },
  {
   "attachments": {},
   "cell_type": "markdown",
   "metadata": {
    "dotnet_interactive": {
     "language": "csharp"
    },
    "polyglot_notebook": {
     "kernelName": "csharp"
    }
   },
   "source": [
    "<table class=\"nameValue table table-sm table-stacked-mobile\" aria-label=\"Table 1\">\n",
    "        \t<tbody><tr>\n",
    "\t  <td class=\"is-one-third-width-tablet\">\n",
    "\t<span class=\"break-text\">\n",
    "\t\t<a class=\"xref\" href=\"https://learn.microsoft.com/en-us/dotnet/api/system.io.directoryinfo.-ctor?view=net-7.0#system-io-directoryinfo-ctor(system-string)\" data-linktype=\"relative-path\">Directory<wbr>Info(String)</a>\n",
    "\t</span>\n",
    "</td>\n",
    "\t<td class=\"summary\"> \n",
    "\t\t<p>Initializes a new instance of the <a class=\"no-loc\" href=\"https://learn.microsoft.com/en-us/dotnet/api/system.io.directoryinfo?view=net-7.0\" data-linktype=\"relative-path\">DirectoryInfo</a> class on the specified path.</p>\n",
    "\t</td>\n",
    "        \t</tr>\n",
    "\t</tbody></table>"
   ]
  },
  {
   "attachments": {},
   "cell_type": "markdown",
   "metadata": {
    "dotnet_interactive": {
     "language": "csharp"
    },
    "polyglot_notebook": {
     "kernelName": "csharp"
    }
   },
   "source": [
    "<br>"
   ]
  },
  {
   "attachments": {},
   "cell_type": "markdown",
   "metadata": {
    "dotnet_interactive": {
     "language": "csharp"
    },
    "polyglot_notebook": {
     "kernelName": "csharp"
    }
   },
   "source": [
    "#### Methods"
   ]
  },
  {
   "cell_type": "markdown",
   "metadata": {
    "dotnet_interactive": {
     "language": "csharp"
    },
    "polyglot_notebook": {
     "kernelName": "csharp"
    }
   },
   "source": [
    "<table class=\"nameValue table table-sm table-stacked-mobile\" aria-label=\"Table 4\">\n",
    "        \t<tbody><tr>\n",
    "\t  <td class=\"is-one-third-width-tablet\">\n",
    "\t<span class=\"break-text\">\n",
    "\t\t<a class=\"xref\" href=\"https://learn.microsoft.com/en-us/dotnet/api/system.io.directoryinfo.create?view=net-7.0#system-io-directoryinfo-create\" data-linktype=\"relative-path\">Create()</a>\n",
    "\t</span>\n",
    "</td>\n",
    "\t<td class=\"summary\"> \n",
    "\t\t<p>Creates a directory.</p>\n",
    "\t</td>\n",
    "        \t</tr>\n",
    "        \t<tr data-moniker=\" netframework-2.0 netframework-3.0 netframework-3.5 netframework-4.0 netframework-4.5 netframework-4.5.1 netframework-4.5.2 netframework-4.6 netframework-4.6.1 netframework-4.6.2 netframework-4.7 netframework-4.7.1 netframework-4.7.2 netframework-4.8 netframework-4.8.1 xamarinandroid-7.1 xamarinios-10.8 xamarinmac-3.0 \">\n",
    "\t  <td class=\"is-one-third-width-tablet\">\n",
    "\t<span class=\"break-text\">\n",
    "\t\t<a class=\"xref\" href=\"https://learn.microsoft.com/en-us/dotnet/api/system.io.directoryinfo.create?view=net-7.0#system-io-directoryinfo-create(system-security-accesscontrol-directorysecurity)\" data-linktype=\"relative-path\">Create(Directory<wbr>Security)</a>\n",
    "\t</span>\n",
    "</td>\n",
    "\t<td class=\"summary\"> \n",
    "\t\t<p>Creates a directory using a <a class=\"no-loc\" href=\"https://learn.microsoft.com/en-us/dotnet/api/system.security.accesscontrol.directorysecurity?view=net-7.0\" data-linktype=\"relative-path\">DirectorySecurity</a> object.</p>\n",
    "\t</td>\n",
    "        \t</tr>\n",
    "        \t<tr data-moniker=\" dotnet-uwp-10.0 netcore-1.0 netcore-1.1 netstandard-1.3 netstandard-1.4 netstandard-1.6 net-5.0 net-6.0 net-7.0 netcore-2.0 netcore-2.1 netcore-2.2 netcore-3.0 netcore-3.1 netframework-1.1 netframework-2.0 netframework-3.0 netframework-3.5 netframework-4.0 netframework-4.5 netframework-4.5.1 netframework-4.5.2 netframework-4.6 netframework-4.6.1 netframework-4.6.2 netframework-4.7 netframework-4.7.1 netframework-4.7.2 netframework-4.8 netframework-4.8.1 netstandard-2.0 netstandard-2.1 xamarinandroid-7.1 xamarinios-10.8 xamarinmac-3.0 \">\n",
    "\t<td class=\"is-one-third-width-tablet\">\n",
    "\t\t<span class=\"break-text\">\n",
    "\t\t\t  <a class=\"xref\" href=\"https://learn.microsoft.com/en-us/dotnet/api/system.io.filesysteminfo.createassymboliclink?view=net-7.0#system-io-filesysteminfo-createassymboliclink(system-string)\" data-linktype=\"relative-path\">Create<wbr>AsSymbolic<wbr>Link(String)</a>\n",
    "\t\t</span>\n",
    "\t</td>\n",
    "\t<td class=\"summary\">\n",
    "\t\t  <p>Creates a symbolic link located in <a class=\"no-loc\" href=\"https://learn.microsoft.com/en-us/dotnet/api/system.io.filesysteminfo.fullname?view=net-7.0#system-io-filesysteminfo-fullname\" data-linktype=\"relative-path\">FullName</a> that points to the specified <code data-dev-comment-type=\"paramref\">pathToTarget</code>.</p>\n",
    "\t\t(Inherited from   <a class=\"xref\" href=\"https://learn.microsoft.com/en-us/dotnet/api/system.io.filesysteminfo?view=net-7.0\" data-linktype=\"relative-path\">FileSystemInfo</a>)\n",
    "\t</td>\n",
    "        \t</tr>\n",
    "        \t<tr data-moniker=\" net-5.0 net-6.0 net-7.0 netcore-2.0 netcore-2.1 netcore-2.2 netcore-3.0 netcore-3.1 netframework-1.1 netframework-2.0 netframework-3.0 netframework-3.5 netframework-4.0 netframework-4.5 netframework-4.5.1 netframework-4.5.2 netframework-4.6 netframework-4.6.1 netframework-4.6.2 netframework-4.7 netframework-4.7.1 netframework-4.7.2 netframework-4.8 netframework-4.8.1 netstandard-2.0 netstandard-2.1 xamarinandroid-7.1 xamarinios-10.8 xamarinmac-3.0 \">\n",
    "\t<td class=\"is-one-third-width-tablet\">\n",
    "\t\t<span class=\"break-text\">\n",
    "\t\t\t  <a class=\"xref\" href=\"https://learn.microsoft.com/en-us/dotnet/api/system.marshalbyrefobject.createobjref?view=net-7.0#system-marshalbyrefobject-createobjref(system-type)\" data-linktype=\"relative-path\">Create<wbr>Obj<wbr>Ref(Type)</a>\n",
    "\t\t</span>\n",
    "\t</td>\n",
    "\t<td class=\"summary\">\n",
    "\t\t  <p>Creates an object that contains all the relevant information required to generate a proxy used to communicate with a remote object.</p>\n",
    "\t\t(Inherited from   <a class=\"xref\" href=\"https://learn.microsoft.com/en-us/dotnet/api/system.marshalbyrefobject?view=net-7.0\" data-linktype=\"relative-path\">MarshalByRefObject</a>)\n",
    "\t</td>\n",
    "        \t</tr>\n",
    "        \t<tr>\n",
    "\t  <td class=\"is-one-third-width-tablet\">\n",
    "\t<span class=\"break-text\">\n",
    "\t\t<a class=\"xref\" href=\"https://learn.microsoft.com/en-us/dotnet/api/system.io.directoryinfo.createsubdirectory?view=net-7.0#system-io-directoryinfo-createsubdirectory(system-string)\" data-linktype=\"relative-path\">Create<wbr>Subdirectory(String)</a>\n",
    "\t</span>\n",
    "</td>\n",
    "\t<td class=\"summary\"> \n",
    "\t\t<p>Creates a subdirectory or subdirectories on the specified path. The specified path can be relative to this instance of the <a class=\"no-loc\" href=\"https://learn.microsoft.com/en-us/dotnet/api/system.io.directoryinfo?view=net-7.0\" data-linktype=\"relative-path\">DirectoryInfo</a> class.</p>\n",
    "\t</td>\n",
    "        \t</tr>\n",
    "        \t<tr data-moniker=\" netframework-2.0 netframework-3.0 netframework-3.5 netframework-4.0 netframework-4.5 netframework-4.5.1 netframework-4.5.2 netframework-4.6 netframework-4.6.1 netframework-4.6.2 netframework-4.7 netframework-4.7.1 netframework-4.7.2 netframework-4.8 netframework-4.8.1 xamarinandroid-7.1 xamarinios-10.8 xamarinmac-3.0 \">\n",
    "\t  <td class=\"is-one-third-width-tablet\">\n",
    "\t<span class=\"break-text\">\n",
    "\t\t<a class=\"xref\" href=\"https://learn.microsoft.com/en-us/dotnet/api/system.io.directoryinfo.createsubdirectory?view=net-7.0#system-io-directoryinfo-createsubdirectory(system-string-system-security-accesscontrol-directorysecurity)\" data-linktype=\"relative-path\">Create<wbr>Subdirectory(String, Directory<wbr>Security)</a>\n",
    "\t</span>\n",
    "</td>\n",
    "\t<td class=\"summary\"> \n",
    "\t\t<p>Creates a subdirectory or subdirectories on the specified path with the specified security. The specified path can be relative to this instance of the <a class=\"no-loc\" href=\"https://learn.microsoft.com/en-us/dotnet/api/system.io.directoryinfo?view=net-7.0\" data-linktype=\"relative-path\">DirectoryInfo</a> class.</p>\n",
    "\t</td>\n",
    "        \t</tr>\n",
    "        \t<tr>\n",
    "\t  <td class=\"is-one-third-width-tablet\">\n",
    "\t<span class=\"break-text\">\n",
    "\t\t<a class=\"xref\" href=\"https://learn.microsoft.com/en-us/dotnet/api/system.io.directoryinfo.delete?view=net-7.0#system-io-directoryinfo-delete\" data-linktype=\"relative-path\">Delete()</a>\n",
    "\t</span>\n",
    "</td>\n",
    "\t<td class=\"summary\"> \n",
    "\t\t<p>Deletes this <a class=\"no-loc\" href=\"https://learn.microsoft.com/en-us/dotnet/api/system.io.directoryinfo?view=net-7.0\" data-linktype=\"relative-path\">DirectoryInfo</a> if it is empty.</p>\n",
    "\t</td>\n",
    "        \t</tr>\n",
    "        \t<tr>\n",
    "\t  <td class=\"is-one-third-width-tablet\">\n",
    "\t<span class=\"break-text\">\n",
    "\t\t<a class=\"xref\" href=\"https://learn.microsoft.com/en-us/dotnet/api/system.io.directoryinfo.delete?view=net-7.0#system-io-directoryinfo-delete(system-boolean)\" data-linktype=\"relative-path\">Delete(Boolean)</a>\n",
    "\t</span>\n",
    "</td>\n",
    "\t<td class=\"summary\"> \n",
    "\t\t<p>Deletes this instance of a <a class=\"no-loc\" href=\"https://learn.microsoft.com/en-us/dotnet/api/system.io.directoryinfo?view=net-7.0\" data-linktype=\"relative-path\">DirectoryInfo</a>, specifying whether to delete subdirectories and files.</p>\n",
    "\t</td>\n",
    "        \t</tr>\n",
    "        \t<tr data-moniker=\" dotnet-uwp-10.0 net-5.0 net-6.0 net-7.0 netcore-1.0 netcore-1.1 netcore-2.0 netcore-2.1 netcore-2.2 netcore-3.0 netcore-3.1 netframework-4.0 netframework-4.5 netframework-4.5.1 netframework-4.5.2 netframework-4.6 netframework-4.6.1 netframework-4.6.2 netframework-4.7 netframework-4.7.1 netframework-4.7.2 netframework-4.8 netframework-4.8.1 netstandard-1.3 netstandard-1.4 netstandard-1.6 netstandard-2.0 netstandard-2.1 xamarinandroid-7.1 xamarinios-10.8 xamarinmac-3.0 \">\n",
    "\t  <td class=\"is-one-third-width-tablet\">\n",
    "\t<span class=\"break-text\">\n",
    "\t\t<a class=\"xref\" href=\"https://learn.microsoft.com/en-us/dotnet/api/system.io.directoryinfo.enumeratedirectories?view=net-7.0#system-io-directoryinfo-enumeratedirectories\" data-linktype=\"relative-path\">Enumerate<wbr>Directories()</a>\n",
    "\t</span>\n",
    "</td>\n",
    "\t<td class=\"summary\"> \n",
    "\t\t<p>Returns an enumerable collection of directory information in the current directory.</p>\n",
    "\t</td>\n",
    "        \t</tr>\n",
    "        \t<tr data-moniker=\" dotnet-uwp-10.0 net-5.0 net-6.0 net-7.0 netcore-1.0 netcore-1.1 netcore-2.0 netcore-2.1 netcore-2.2 netcore-3.0 netcore-3.1 netframework-4.0 netframework-4.5 netframework-4.5.1 netframework-4.5.2 netframework-4.6 netframework-4.6.1 netframework-4.6.2 netframework-4.7 netframework-4.7.1 netframework-4.7.2 netframework-4.8 netframework-4.8.1 netstandard-1.3 netstandard-1.4 netstandard-1.6 netstandard-2.0 netstandard-2.1 xamarinandroid-7.1 xamarinios-10.8 xamarinmac-3.0 \">\n",
    "\t  <td class=\"is-one-third-width-tablet\">\n",
    "\t<span class=\"break-text\">\n",
    "\t\t<a class=\"xref\" href=\"https://learn.microsoft.com/en-us/dotnet/api/system.io.directoryinfo.enumeratedirectories?view=net-7.0#system-io-directoryinfo-enumeratedirectories(system-string)\" data-linktype=\"relative-path\">Enumerate<wbr>Directories(String)</a>\n",
    "\t</span>\n",
    "</td>\n",
    "\t<td class=\"summary\"> \n",
    "\t\t<p>Returns an enumerable collection of directory information that matches a specified search pattern.</p>\n",
    "\t</td>\n",
    "        \t</tr>\n",
    "        \t<tr data-moniker=\" net-5.0 net-6.0 net-7.0 netcore-2.1 netcore-2.2 netcore-3.0 netcore-3.1 netstandard-2.1 \">\n",
    "\t  <td class=\"is-one-third-width-tablet\">\n",
    "\t<span class=\"break-text\">\n",
    "\t\t<a class=\"xref\" href=\"https://learn.microsoft.com/en-us/dotnet/api/system.io.directoryinfo.enumeratedirectories?view=net-7.0#system-io-directoryinfo-enumeratedirectories(system-string-system-io-enumerationoptions)\" data-linktype=\"relative-path\">Enumerate<wbr>Directories(String, Enumeration<wbr>Options)</a>\n",
    "\t</span>\n",
    "</td>\n",
    "\t<td class=\"summary\"> \n",
    "\t\t<p>Returns an enumerable collection of directory information that matches the specified search pattern and enumeration options.</p>\n",
    "\t</td>\n",
    "        \t</tr>\n",
    "        \t<tr data-moniker=\" dotnet-uwp-10.0 net-5.0 net-6.0 net-7.0 netcore-1.0 netcore-1.1 netcore-2.0 netcore-2.1 netcore-2.2 netcore-3.0 netcore-3.1 netframework-4.0 netframework-4.5 netframework-4.5.1 netframework-4.5.2 netframework-4.6 netframework-4.6.1 netframework-4.6.2 netframework-4.7 netframework-4.7.1 netframework-4.7.2 netframework-4.8 netframework-4.8.1 netstandard-1.3 netstandard-1.4 netstandard-1.6 netstandard-2.0 netstandard-2.1 xamarinandroid-7.1 xamarinios-10.8 xamarinmac-3.0 \">\n",
    "\t  <td class=\"is-one-third-width-tablet\">\n",
    "\t<span class=\"break-text\">\n",
    "\t\t<a class=\"xref\" href=\"https://learn.microsoft.com/en-us/dotnet/api/system.io.directoryinfo.enumeratedirectories?view=net-7.0#system-io-directoryinfo-enumeratedirectories(system-string-system-io-searchoption)\" data-linktype=\"relative-path\">Enumerate<wbr>Directories(String, Search<wbr>Option)</a>\n",
    "\t</span>\n",
    "</td>\n",
    "\t<td class=\"summary\"> \n",
    "\t\t<p>Returns an enumerable collection of directory information that matches a specified search pattern and search subdirectory option.</p>\n",
    "\t</td>\n",
    "        \t</tr>\n",
    "        \t<tr data-moniker=\" dotnet-uwp-10.0 net-5.0 net-6.0 net-7.0 netcore-1.0 netcore-1.1 netcore-2.0 netcore-2.1 netcore-2.2 netcore-3.0 netcore-3.1 netframework-4.0 netframework-4.5 netframework-4.5.1 netframework-4.5.2 netframework-4.6 netframework-4.6.1 netframework-4.6.2 netframework-4.7 netframework-4.7.1 netframework-4.7.2 netframework-4.8 netframework-4.8.1 netstandard-1.3 netstandard-1.4 netstandard-1.6 netstandard-2.0 netstandard-2.1 xamarinandroid-7.1 xamarinios-10.8 xamarinmac-3.0 \">\n",
    "\t  <td class=\"is-one-third-width-tablet\">\n",
    "\t<span class=\"break-text\">\n",
    "\t\t<a class=\"xref\" href=\"https://learn.microsoft.com/en-us/dotnet/api/system.io.directoryinfo.enumeratefiles?view=net-7.0#system-io-directoryinfo-enumeratefiles\" data-linktype=\"relative-path\">Enumerate<wbr>Files()</a>\n",
    "\t</span>\n",
    "</td>\n",
    "\t<td class=\"summary\"> \n",
    "\t\t<p>Returns an enumerable collection of file information in the current directory.</p>\n",
    "\t</td>\n",
    "        \t</tr>\n",
    "        \t<tr data-moniker=\" dotnet-uwp-10.0 net-5.0 net-6.0 net-7.0 netcore-1.0 netcore-1.1 netcore-2.0 netcore-2.1 netcore-2.2 netcore-3.0 netcore-3.1 netframework-4.0 netframework-4.5 netframework-4.5.1 netframework-4.5.2 netframework-4.6 netframework-4.6.1 netframework-4.6.2 netframework-4.7 netframework-4.7.1 netframework-4.7.2 netframework-4.8 netframework-4.8.1 netstandard-1.3 netstandard-1.4 netstandard-1.6 netstandard-2.0 netstandard-2.1 xamarinandroid-7.1 xamarinios-10.8 xamarinmac-3.0 \">\n",
    "\t  <td class=\"is-one-third-width-tablet\">\n",
    "\t<span class=\"break-text\">\n",
    "\t\t<a class=\"xref\" href=\"https://learn.microsoft.com/en-us/dotnet/api/system.io.directoryinfo.enumeratefiles?view=net-7.0#system-io-directoryinfo-enumeratefiles(system-string)\" data-linktype=\"relative-path\">Enumerate<wbr>Files(String)</a>\n",
    "\t</span>\n",
    "</td>\n",
    "\t<td class=\"summary\"> \n",
    "\t\t<p>Returns an enumerable collection of file information that matches a search pattern.</p>\n",
    "\t</td>\n",
    "        \t</tr>\n",
    "        \t<tr data-moniker=\" net-5.0 net-6.0 net-7.0 netcore-2.1 netcore-2.2 netcore-3.0 netcore-3.1 netstandard-2.1 \">\n",
    "\t  <td class=\"is-one-third-width-tablet\">\n",
    "\t<span class=\"break-text\">\n",
    "\t\t<a class=\"xref\" href=\"https://learn.microsoft.com/en-us/dotnet/api/system.io.directoryinfo.enumeratefiles?view=net-7.0#system-io-directoryinfo-enumeratefiles(system-string-system-io-enumerationoptions)\" data-linktype=\"relative-path\">Enumerate<wbr>Files(String, Enumeration<wbr>Options)</a>\n",
    "\t</span>\n",
    "</td>\n",
    "\t<td class=\"summary\"> \n",
    "\t\t<p>Returns an enumerable collection of file information that matches the specified search pattern and enumeration options.</p>\n",
    "\t</td>\n",
    "        \t</tr>\n",
    "        \t<tr data-moniker=\" dotnet-uwp-10.0 net-5.0 net-6.0 net-7.0 netcore-1.0 netcore-1.1 netcore-2.0 netcore-2.1 netcore-2.2 netcore-3.0 netcore-3.1 netframework-4.0 netframework-4.5 netframework-4.5.1 netframework-4.5.2 netframework-4.6 netframework-4.6.1 netframework-4.6.2 netframework-4.7 netframework-4.7.1 netframework-4.7.2 netframework-4.8 netframework-4.8.1 netstandard-1.3 netstandard-1.4 netstandard-1.6 netstandard-2.0 netstandard-2.1 xamarinandroid-7.1 xamarinios-10.8 xamarinmac-3.0 \">\n",
    "\t  <td class=\"is-one-third-width-tablet\">\n",
    "\t<span class=\"break-text\">\n",
    "\t\t<a class=\"xref\" href=\"https://learn.microsoft.com/en-us/dotnet/api/system.io.directoryinfo.enumeratefiles?view=net-7.0#system-io-directoryinfo-enumeratefiles(system-string-system-io-searchoption)\" data-linktype=\"relative-path\">Enumerate<wbr>Files(String, Search<wbr>Option)</a>\n",
    "\t</span>\n",
    "</td>\n",
    "\t<td class=\"summary\"> \n",
    "\t\t<p>Returns an enumerable collection of file information that matches a specified search pattern and search subdirectory option.</p>\n",
    "\t</td>\n",
    "        \t</tr>\n",
    "        \t<tr data-moniker=\" dotnet-uwp-10.0 net-5.0 net-6.0 net-7.0 netcore-1.0 netcore-1.1 netcore-2.0 netcore-2.1 netcore-2.2 netcore-3.0 netcore-3.1 netframework-4.0 netframework-4.5 netframework-4.5.1 netframework-4.5.2 netframework-4.6 netframework-4.6.1 netframework-4.6.2 netframework-4.7 netframework-4.7.1 netframework-4.7.2 netframework-4.8 netframework-4.8.1 netstandard-1.3 netstandard-1.4 netstandard-1.6 netstandard-2.0 netstandard-2.1 xamarinandroid-7.1 xamarinios-10.8 xamarinmac-3.0 \">\n",
    "\t  <td class=\"is-one-third-width-tablet\">\n",
    "\t<span class=\"break-text\">\n",
    "\t\t<a class=\"xref\" href=\"https://learn.microsoft.com/en-us/dotnet/api/system.io.directoryinfo.enumeratefilesysteminfos?view=net-7.0#system-io-directoryinfo-enumeratefilesysteminfos\" data-linktype=\"relative-path\">Enumerate<wbr>File<wbr>System<wbr>Infos()</a>\n",
    "\t</span>\n",
    "</td>\n",
    "\t<td class=\"summary\"> \n",
    "\t\t<p>Returns an enumerable collection of file system information in the current directory.</p>\n",
    "\t</td>\n",
    "        \t</tr>\n",
    "        \t<tr data-moniker=\" dotnet-uwp-10.0 net-5.0 net-6.0 net-7.0 netcore-1.0 netcore-1.1 netcore-2.0 netcore-2.1 netcore-2.2 netcore-3.0 netcore-3.1 netframework-4.0 netframework-4.5 netframework-4.5.1 netframework-4.5.2 netframework-4.6 netframework-4.6.1 netframework-4.6.2 netframework-4.7 netframework-4.7.1 netframework-4.7.2 netframework-4.8 netframework-4.8.1 netstandard-1.3 netstandard-1.4 netstandard-1.6 netstandard-2.0 netstandard-2.1 xamarinandroid-7.1 xamarinios-10.8 xamarinmac-3.0 \">\n",
    "\t  <td class=\"is-one-third-width-tablet\">\n",
    "\t<span class=\"break-text\">\n",
    "\t\t<a class=\"xref\" href=\"https://learn.microsoft.com/en-us/dotnet/api/system.io.directoryinfo.enumeratefilesysteminfos?view=net-7.0#system-io-directoryinfo-enumeratefilesysteminfos(system-string)\" data-linktype=\"relative-path\">Enumerate<wbr>File<wbr>System<wbr>Infos(String)</a>\n",
    "\t</span>\n",
    "</td>\n",
    "\t<td class=\"summary\"> \n",
    "\t\t<p>Returns an enumerable collection of file system information that matches a specified search pattern.</p>\n",
    "\t</td>\n",
    "        \t</tr>\n",
    "        \t<tr data-moniker=\" net-5.0 net-6.0 net-7.0 netcore-2.1 netcore-2.2 netcore-3.0 netcore-3.1 netstandard-2.1 \">\n",
    "\t  <td class=\"is-one-third-width-tablet\">\n",
    "\t<span class=\"break-text\">\n",
    "\t\t<a class=\"xref\" href=\"https://learn.microsoft.com/en-us/dotnet/api/system.io.directoryinfo.enumeratefilesysteminfos?view=net-7.0#system-io-directoryinfo-enumeratefilesysteminfos(system-string-system-io-enumerationoptions)\" data-linktype=\"relative-path\">Enumerate<wbr>File<wbr>System<wbr>Infos(String, Enumeration<wbr>Options)</a>\n",
    "\t</span>\n",
    "</td>\n",
    "\t<td class=\"summary\"> \n",
    "\t\t<p>Returns an enumerable collection of file system information that matches the specified search pattern and enumeration options.</p>\n",
    "\t</td>\n",
    "        \t</tr>\n",
    "        \t<tr data-moniker=\" dotnet-uwp-10.0 net-5.0 net-6.0 net-7.0 netcore-1.0 netcore-1.1 netcore-2.0 netcore-2.1 netcore-2.2 netcore-3.0 netcore-3.1 netframework-4.0 netframework-4.5 netframework-4.5.1 netframework-4.5.2 netframework-4.6 netframework-4.6.1 netframework-4.6.2 netframework-4.7 netframework-4.7.1 netframework-4.7.2 netframework-4.8 netframework-4.8.1 netstandard-1.3 netstandard-1.4 netstandard-1.6 netstandard-2.0 netstandard-2.1 xamarinandroid-7.1 xamarinios-10.8 xamarinmac-3.0 \">\n",
    "\t  <td class=\"is-one-third-width-tablet\">\n",
    "\t<span class=\"break-text\">\n",
    "\t\t<a class=\"xref\" href=\"https://learn.microsoft.com/en-us/dotnet/api/system.io.directoryinfo.enumeratefilesysteminfos?view=net-7.0#system-io-directoryinfo-enumeratefilesysteminfos(system-string-system-io-searchoption)\" data-linktype=\"relative-path\">Enumerate<wbr>File<wbr>System<wbr>Infos(String, Search<wbr>Option)</a>\n",
    "\t</span>\n",
    "</td>\n",
    "\t<td class=\"summary\"> \n",
    "\t\t<p>Returns an enumerable collection of file system information that matches a specified search pattern and search subdirectory option.</p>\n",
    "\t</td>\n",
    "        \t</tr>\n",
    "        \t<tr data-moniker=\" dotnet-uwp-10.0 netcore-1.0 netcore-1.1 netstandard-1.3 netstandard-1.4 netstandard-1.6 net-5.0 net-6.0 net-7.0 netcore-2.0 netcore-2.1 netcore-2.2 netcore-3.0 netcore-3.1 netframework-1.1 netframework-2.0 netframework-3.0 netframework-3.5 netframework-4.0 netframework-4.5 netframework-4.5.1 netframework-4.5.2 netframework-4.6 netframework-4.6.1 netframework-4.6.2 netframework-4.7 netframework-4.7.1 netframework-4.7.2 netframework-4.8 netframework-4.8.1 netstandard-2.0 netstandard-2.1 xamarinandroid-7.1 xamarinios-10.8 xamarinmac-3.0 \">\n",
    "\t<td class=\"is-one-third-width-tablet\">\n",
    "\t\t<span class=\"break-text\">\n",
    "\t\t\t  <a class=\"xref\" href=\"https://learn.microsoft.com/en-us/dotnet/api/system.object.equals?view=net-7.0#system-object-equals(system-object)\" data-linktype=\"relative-path\">Equals(Object)</a>\n",
    "\t\t</span>\n",
    "\t</td>\n",
    "\t<td class=\"summary\">\n",
    "\t\t  <p>Determines whether the specified object is equal to the current object.</p>\n",
    "\t\t(Inherited from   <a class=\"xref\" href=\"https://learn.microsoft.com/en-us/dotnet/api/system.object?view=net-7.0\" data-linktype=\"relative-path\">Object</a>)\n",
    "\t</td>\n",
    "        \t</tr>\n",
    "        \t<tr data-moniker=\" netframework-2.0 netframework-3.0 netframework-3.5 netframework-4.0 netframework-4.5 netframework-4.5.1 netframework-4.5.2 netframework-4.6 netframework-4.6.1 netframework-4.6.2 netframework-4.7 netframework-4.7.1 netframework-4.7.2 netframework-4.8 netframework-4.8.1 xamarinandroid-7.1 xamarinios-10.8 xamarinmac-3.0 \">\n",
    "\t  <td class=\"is-one-third-width-tablet\">\n",
    "\t<span class=\"break-text\">\n",
    "\t\t<a class=\"xref\" href=\"https://learn.microsoft.com/en-us/dotnet/api/system.io.directoryinfo.getaccesscontrol?view=net-7.0#system-io-directoryinfo-getaccesscontrol\" data-linktype=\"relative-path\">Get<wbr>Access<wbr>Control()</a>\n",
    "\t</span>\n",
    "</td>\n",
    "\t<td class=\"summary\"> \n",
    "\t\t<p>Gets a <a class=\"no-loc\" href=\"https://learn.microsoft.com/en-us/dotnet/api/system.security.accesscontrol.directorysecurity?view=net-7.0\" data-linktype=\"relative-path\">DirectorySecurity</a> object that encapsulates the access control list (ACL) entries for the directory described by the current <a class=\"no-loc\" href=\"https://learn.microsoft.com/en-us/dotnet/api/system.io.directoryinfo?view=net-7.0\" data-linktype=\"relative-path\">DirectoryInfo</a> object.</p>\n",
    "\t</td>\n",
    "        \t</tr>\n",
    "        \t<tr data-moniker=\" netframework-2.0 netframework-3.0 netframework-3.5 netframework-4.0 netframework-4.5 netframework-4.5.1 netframework-4.5.2 netframework-4.6 netframework-4.6.1 netframework-4.6.2 netframework-4.7 netframework-4.7.1 netframework-4.7.2 netframework-4.8 netframework-4.8.1 xamarinandroid-7.1 xamarinios-10.8 xamarinmac-3.0 \">\n",
    "\t  <td class=\"is-one-third-width-tablet\">\n",
    "\t<span class=\"break-text\">\n",
    "\t\t<a class=\"xref\" href=\"https://learn.microsoft.com/en-us/dotnet/api/system.io.directoryinfo.getaccesscontrol?view=net-7.0#system-io-directoryinfo-getaccesscontrol(system-security-accesscontrol-accesscontrolsections)\" data-linktype=\"relative-path\">Get<wbr>Access<wbr>Control(Access<wbr>Control<wbr>Sections)</a>\n",
    "\t</span>\n",
    "</td>\n",
    "\t<td class=\"summary\"> \n",
    "\t\t<p>Gets a <a class=\"no-loc\" href=\"https://learn.microsoft.com/en-us/dotnet/api/system.security.accesscontrol.directorysecurity?view=net-7.0\" data-linktype=\"relative-path\">DirectorySecurity</a> object that encapsulates the specified type of access control list (ACL) entries for the directory described by the current <a class=\"no-loc\" href=\"https://learn.microsoft.com/en-us/dotnet/api/system.io.directoryinfo?view=net-7.0\" data-linktype=\"relative-path\">DirectoryInfo</a> object.</p>\n",
    "\t</td>\n",
    "        \t</tr>\n",
    "        \t<tr>\n",
    "\t  <td class=\"is-one-third-width-tablet\">\n",
    "\t<span class=\"break-text\">\n",
    "\t\t<a class=\"xref\" href=\"https://learn.microsoft.com/en-us/dotnet/api/system.io.directoryinfo.getdirectories?view=net-7.0#system-io-directoryinfo-getdirectories\" data-linktype=\"relative-path\">Get<wbr>Directories()</a>\n",
    "\t</span>\n",
    "</td>\n",
    "\t<td class=\"summary\"> \n",
    "\t\t<p>Returns the subdirectories of the current directory.</p>\n",
    "\t</td>\n",
    "        \t</tr>\n",
    "        \t<tr>\n",
    "\t  <td class=\"is-one-third-width-tablet\">\n",
    "\t<span class=\"break-text\">\n",
    "\t\t<a class=\"xref\" href=\"https://learn.microsoft.com/en-us/dotnet/api/system.io.directoryinfo.getdirectories?view=net-7.0#system-io-directoryinfo-getdirectories(system-string)\" data-linktype=\"relative-path\">Get<wbr>Directories(String)</a>\n",
    "\t</span>\n",
    "</td>\n",
    "\t<td class=\"summary\"> \n",
    "\t\t<p>Returns an array of directories in the current <a class=\"no-loc\" href=\"https://learn.microsoft.com/en-us/dotnet/api/system.io.directoryinfo?view=net-7.0\" data-linktype=\"relative-path\">DirectoryInfo</a> matching the given search criteria.</p>\n",
    "\t</td>\n",
    "        \t</tr>\n",
    "        \t<tr data-moniker=\" net-5.0 net-6.0 net-7.0 netcore-2.1 netcore-2.2 netcore-3.0 netcore-3.1 netstandard-2.1 \">\n",
    "\t  <td class=\"is-one-third-width-tablet\">\n",
    "\t<span class=\"break-text\">\n",
    "\t\t<a class=\"xref\" href=\"https://learn.microsoft.com/en-us/dotnet/api/system.io.directoryinfo.getdirectories?view=net-7.0#system-io-directoryinfo-getdirectories(system-string-system-io-enumerationoptions)\" data-linktype=\"relative-path\">Get<wbr>Directories(String, Enumeration<wbr>Options)</a>\n",
    "\t</span>\n",
    "</td>\n",
    "\t<td class=\"summary\"> \n",
    "\t\t<p>Returns an array of directories in the current <a class=\"no-loc\" href=\"https://learn.microsoft.com/en-us/dotnet/api/system.io.directoryinfo?view=net-7.0\" data-linktype=\"relative-path\">DirectoryInfo</a> matching the specified search pattern and enumeration options.</p>\n",
    "\t</td>\n",
    "        \t</tr>\n",
    "        \t<tr data-moniker=\" dotnet-uwp-10.0 net-5.0 net-6.0 net-7.0 netcore-1.0 netcore-1.1 netcore-2.0 netcore-2.1 netcore-2.2 netcore-3.0 netcore-3.1 netframework-2.0 netframework-3.0 netframework-3.5 netframework-4.0 netframework-4.5 netframework-4.5.1 netframework-4.5.2 netframework-4.6 netframework-4.6.1 netframework-4.6.2 netframework-4.7 netframework-4.7.1 netframework-4.7.2 netframework-4.8 netframework-4.8.1 netstandard-1.3 netstandard-1.4 netstandard-1.6 netstandard-2.0 netstandard-2.1 xamarinandroid-7.1 xamarinios-10.8 xamarinmac-3.0 \">\n",
    "\t  <td class=\"is-one-third-width-tablet\">\n",
    "\t<span class=\"break-text\">\n",
    "\t\t<a class=\"xref\" href=\"https://learn.microsoft.com/en-us/dotnet/api/system.io.directoryinfo.getdirectories?view=net-7.0#system-io-directoryinfo-getdirectories(system-string-system-io-searchoption)\" data-linktype=\"relative-path\">Get<wbr>Directories(String, Search<wbr>Option)</a>\n",
    "\t</span>\n",
    "</td>\n",
    "\t<td class=\"summary\"> \n",
    "\t\t<p>Returns an array of directories in the current <a class=\"no-loc\" href=\"https://learn.microsoft.com/en-us/dotnet/api/system.io.directoryinfo?view=net-7.0\" data-linktype=\"relative-path\">DirectoryInfo</a> matching the given search criteria and using a value to determine whether to search subdirectories.</p>\n",
    "\t</td>\n",
    "        \t</tr>\n",
    "        \t<tr>\n",
    "\t  <td class=\"is-one-third-width-tablet\">\n",
    "\t<span class=\"break-text\">\n",
    "\t\t<a class=\"xref\" href=\"https://learn.microsoft.com/en-us/dotnet/api/system.io.directoryinfo.getfiles?view=net-7.0#system-io-directoryinfo-getfiles\" data-linktype=\"relative-path\">Get<wbr>Files()</a>\n",
    "\t</span>\n",
    "</td>\n",
    "\t<td class=\"summary\"> \n",
    "\t\t<p>Returns a file list from the current directory.</p>\n",
    "\t</td>\n",
    "        \t</tr>\n",
    "        \t<tr>\n",
    "\t  <td class=\"is-one-third-width-tablet\">\n",
    "\t<span class=\"break-text\">\n",
    "\t\t<a class=\"xref\" href=\"https://learn.microsoft.com/en-us/dotnet/api/system.io.directoryinfo.getfiles?view=net-7.0#system-io-directoryinfo-getfiles(system-string)\" data-linktype=\"relative-path\">Get<wbr>Files(String)</a>\n",
    "\t</span>\n",
    "</td>\n",
    "\t<td class=\"summary\"> \n",
    "\t\t<p>Returns a file list from the current directory matching the given search pattern.</p>\n",
    "\t</td>\n",
    "        \t</tr>\n",
    "        \t<tr data-moniker=\" net-5.0 net-6.0 net-7.0 netcore-2.1 netcore-2.2 netcore-3.0 netcore-3.1 netstandard-2.1 \">\n",
    "\t  <td class=\"is-one-third-width-tablet\">\n",
    "\t<span class=\"break-text\">\n",
    "\t\t<a class=\"xref\" href=\"https://learn.microsoft.com/en-us/dotnet/api/system.io.directoryinfo.getfiles?view=net-7.0#system-io-directoryinfo-getfiles(system-string-system-io-enumerationoptions)\" data-linktype=\"relative-path\">Get<wbr>Files(String, Enumeration<wbr>Options)</a>\n",
    "\t</span>\n",
    "</td>\n",
    "\t<td class=\"summary\"> \n",
    "\t\t<p>Returns a file list from the current directory matching the specified search pattern and enumeration options.</p>\n",
    "\t</td>\n",
    "        \t</tr>\n",
    "        \t<tr data-moniker=\" dotnet-uwp-10.0 net-5.0 net-6.0 net-7.0 netcore-1.0 netcore-1.1 netcore-2.0 netcore-2.1 netcore-2.2 netcore-3.0 netcore-3.1 netframework-2.0 netframework-3.0 netframework-3.5 netframework-4.0 netframework-4.5 netframework-4.5.1 netframework-4.5.2 netframework-4.6 netframework-4.6.1 netframework-4.6.2 netframework-4.7 netframework-4.7.1 netframework-4.7.2 netframework-4.8 netframework-4.8.1 netstandard-1.3 netstandard-1.4 netstandard-1.6 netstandard-2.0 netstandard-2.1 xamarinandroid-7.1 xamarinios-10.8 xamarinmac-3.0 \">\n",
    "\t  <td class=\"is-one-third-width-tablet\">\n",
    "\t<span class=\"break-text\">\n",
    "\t\t<a class=\"xref\" href=\"https://learn.microsoft.com/en-us/dotnet/api/system.io.directoryinfo.getfiles?view=net-7.0#system-io-directoryinfo-getfiles(system-string-system-io-searchoption)\" data-linktype=\"relative-path\">Get<wbr>Files(String, Search<wbr>Option)</a>\n",
    "\t</span>\n",
    "</td>\n",
    "\t<td class=\"summary\"> \n",
    "\t\t<p>Returns a file list from the current directory matching the given search pattern and using a value to determine whether to search subdirectories.</p>\n",
    "\t</td>\n",
    "        \t</tr>\n",
    "        \t<tr>\n",
    "\t  <td class=\"is-one-third-width-tablet\">\n",
    "\t<span class=\"break-text\">\n",
    "\t\t<a class=\"xref\" href=\"https://learn.microsoft.com/en-us/dotnet/api/system.io.directoryinfo.getfilesysteminfos?view=net-7.0#system-io-directoryinfo-getfilesysteminfos\" data-linktype=\"relative-path\">Get<wbr>File<wbr>System<wbr>Infos()</a>\n",
    "\t</span>\n",
    "</td>\n",
    "\t<td class=\"summary\"> \n",
    "\t\t<p>Returns an array of strongly typed <a class=\"no-loc\" href=\"https://learn.microsoft.com/en-us/dotnet/api/system.io.filesysteminfo?view=net-7.0\" data-linktype=\"relative-path\">FileSystemInfo</a> entries representing all the files and subdirectories in a directory.</p>\n",
    "\t</td>\n",
    "        \t</tr>\n",
    "        \t<tr>\n",
    "\t  <td class=\"is-one-third-width-tablet\">\n",
    "\t<span class=\"break-text\">\n",
    "\t\t<a class=\"xref\" href=\"https://learn.microsoft.com/en-us/dotnet/api/system.io.directoryinfo.getfilesysteminfos?view=net-7.0#system-io-directoryinfo-getfilesysteminfos(system-string)\" data-linktype=\"relative-path\">Get<wbr>File<wbr>System<wbr>Infos(String)</a>\n",
    "\t</span>\n",
    "</td>\n",
    "\t<td class=\"summary\"> \n",
    "\t\t<p>Retrieves an array of strongly typed <a class=\"no-loc\" href=\"https://learn.microsoft.com/en-us/dotnet/api/system.io.filesysteminfo?view=net-7.0\" data-linktype=\"relative-path\">FileSystemInfo</a> objects representing the files and subdirectories that match the specified search criteria.</p>\n",
    "\t</td>\n",
    "        \t</tr>\n",
    "        \t<tr data-moniker=\" net-5.0 net-6.0 net-7.0 netcore-2.1 netcore-2.2 netcore-3.0 netcore-3.1 netstandard-2.1 \">\n",
    "\t  <td class=\"is-one-third-width-tablet\">\n",
    "\t<span class=\"break-text\">\n",
    "\t\t<a class=\"xref\" href=\"https://learn.microsoft.com/en-us/dotnet/api/system.io.directoryinfo.getfilesysteminfos?view=net-7.0#system-io-directoryinfo-getfilesysteminfos(system-string-system-io-enumerationoptions)\" data-linktype=\"relative-path\">Get<wbr>File<wbr>System<wbr>Infos(String, Enumeration<wbr>Options)</a>\n",
    "\t</span>\n",
    "</td>\n",
    "\t<td class=\"summary\"> \n",
    "\t\t<p>Retrieves an array of strongly typed <a class=\"no-loc\" href=\"https://learn.microsoft.com/en-us/dotnet/api/system.io.filesysteminfo?view=net-7.0\" data-linktype=\"relative-path\">FileSystemInfo</a> objects representing the files and subdirectories that match the specified search pattern and enumeration options.</p>\n",
    "\t</td>\n",
    "        \t</tr>\n",
    "        \t<tr data-moniker=\" dotnet-uwp-10.0 net-5.0 net-6.0 net-7.0 netcore-1.0 netcore-1.1 netcore-2.0 netcore-2.1 netcore-2.2 netcore-3.0 netcore-3.1 netframework-4.0 netframework-4.5 netframework-4.5.1 netframework-4.5.2 netframework-4.6 netframework-4.6.1 netframework-4.6.2 netframework-4.7 netframework-4.7.1 netframework-4.7.2 netframework-4.8 netframework-4.8.1 netstandard-1.3 netstandard-1.4 netstandard-1.6 netstandard-2.0 netstandard-2.1 xamarinandroid-7.1 xamarinios-10.8 xamarinmac-3.0 \">\n",
    "\t  <td class=\"is-one-third-width-tablet\">\n",
    "\t<span class=\"break-text\">\n",
    "\t\t<a class=\"xref\" href=\"https://learn.microsoft.com/en-us/dotnet/api/system.io.directoryinfo.getfilesysteminfos?view=net-7.0#system-io-directoryinfo-getfilesysteminfos(system-string-system-io-searchoption)\" data-linktype=\"relative-path\">Get<wbr>File<wbr>System<wbr>Infos(String, Search<wbr>Option)</a>\n",
    "\t</span>\n",
    "</td>\n",
    "\t<td class=\"summary\"> \n",
    "\t\t<p>Retrieves an array of <a class=\"no-loc\" href=\"https://learn.microsoft.com/en-us/dotnet/api/system.io.filesysteminfo?view=net-7.0\" data-linktype=\"relative-path\">FileSystemInfo</a> objects that represent the files and subdirectories matching the specified search criteria.</p>\n",
    "\t</td>\n",
    "        \t</tr>\n",
    "        \t<tr data-moniker=\" dotnet-uwp-10.0 netcore-1.0 netcore-1.1 netstandard-1.3 netstandard-1.4 netstandard-1.6 net-5.0 net-6.0 net-7.0 netcore-2.0 netcore-2.1 netcore-2.2 netcore-3.0 netcore-3.1 netframework-1.1 netframework-2.0 netframework-3.0 netframework-3.5 netframework-4.0 netframework-4.5 netframework-4.5.1 netframework-4.5.2 netframework-4.6 netframework-4.6.1 netframework-4.6.2 netframework-4.7 netframework-4.7.1 netframework-4.7.2 netframework-4.8 netframework-4.8.1 netstandard-2.0 netstandard-2.1 xamarinandroid-7.1 xamarinios-10.8 xamarinmac-3.0 \">\n",
    "\t<td class=\"is-one-third-width-tablet\">\n",
    "\t\t<span class=\"break-text\">\n",
    "\t\t\t  <a class=\"xref\" href=\"https://learn.microsoft.com/en-us/dotnet/api/system.object.gethashcode?view=net-7.0#system-object-gethashcode\" data-linktype=\"relative-path\">Get<wbr>Hash<wbr>Code()</a>\n",
    "\t\t</span>\n",
    "\t</td>\n",
    "\t<td class=\"summary\">\n",
    "\t\t  <p>Serves as the default hash function.</p>\n",
    "\t\t(Inherited from   <a class=\"xref\" href=\"https://learn.microsoft.com/en-us/dotnet/api/system.object?view=net-7.0\" data-linktype=\"relative-path\">Object</a>)\n",
    "\t</td>\n",
    "        \t</tr>\n",
    "        \t<tr data-moniker=\" net-5.0 net-6.0 net-7.0 netcore-2.0 netcore-2.1 netcore-2.2 netcore-3.0 netcore-3.1 netframework-1.1 netframework-2.0 netframework-3.0 netframework-3.5 netframework-4.0 netframework-4.5 netframework-4.5.1 netframework-4.5.2 netframework-4.6 netframework-4.6.1 netframework-4.6.2 netframework-4.7 netframework-4.7.1 netframework-4.7.2 netframework-4.8 netframework-4.8.1 netstandard-2.0 netstandard-2.1 xamarinandroid-7.1 xamarinios-10.8 xamarinmac-3.0 \">\n",
    "\t<td class=\"is-one-third-width-tablet\">\n",
    "\t\t<span class=\"break-text\">\n",
    "\t\t\t  <a class=\"xref\" href=\"https://learn.microsoft.com/en-us/dotnet/api/system.marshalbyrefobject.getlifetimeservice?view=net-7.0#system-marshalbyrefobject-getlifetimeservice\" data-linktype=\"relative-path\">Get<wbr>Lifetime<wbr>Service()</a>\n",
    "\t\t</span>\n",
    "\t</td>\n",
    "\t<td class=\"summary\">\n",
    "\t\t  \t<div data-moniker=\" net-5.0 net-6.0 net-7.0 \">\n",
    "\t\t<strong>Obsolete. </strong>\n",
    "\t</div>\n",
    "<p>Retrieves the current lifetime service object that controls the lifetime policy for this instance.</p>\n",
    "\t\t(Inherited from   <a class=\"xref\" href=\"https://learn.microsoft.com/en-us/dotnet/api/system.marshalbyrefobject?view=net-7.0\" data-linktype=\"relative-path\">MarshalByRefObject</a>)\n",
    "\t</td>\n",
    "        \t</tr>\n",
    "        \t<tr data-moniker=\" dotnet-uwp-10.0 netcore-1.0 netcore-1.1 netstandard-1.3 netstandard-1.4 netstandard-1.6 net-5.0 net-6.0 net-7.0 netcore-2.0 netcore-2.1 netcore-2.2 netcore-3.0 netcore-3.1 netframework-1.1 netframework-2.0 netframework-3.0 netframework-3.5 netframework-4.0 netframework-4.5 netframework-4.5.1 netframework-4.5.2 netframework-4.6 netframework-4.6.1 netframework-4.6.2 netframework-4.7 netframework-4.7.1 netframework-4.7.2 netframework-4.8 netframework-4.8.1 netstandard-2.0 netstandard-2.1 xamarinandroid-7.1 xamarinios-10.8 xamarinmac-3.0 \">\n",
    "\t<td class=\"is-one-third-width-tablet\">\n",
    "\t\t<span class=\"break-text\">\n",
    "\t\t\t  <a class=\"xref\" href=\"https://learn.microsoft.com/en-us/dotnet/api/system.io.filesysteminfo.getobjectdata?view=net-7.0#system-io-filesysteminfo-getobjectdata(system-runtime-serialization-serializationinfo-system-runtime-serialization-streamingcontext)\" data-linktype=\"relative-path\">Get<wbr>Object<wbr>Data(Serialization<wbr>Info, Streaming<wbr>Context)</a>\n",
    "\t\t</span>\n",
    "\t</td>\n",
    "\t<td class=\"summary\">\n",
    "\t\t  <p>Sets the <a class=\"no-loc\" href=\"https://learn.microsoft.com/en-us/dotnet/api/system.runtime.serialization.serializationinfo?view=net-7.0\" data-linktype=\"relative-path\">SerializationInfo</a> object with the file name and additional exception information.</p>\n",
    "\t\t(Inherited from   <a class=\"xref\" href=\"https://learn.microsoft.com/en-us/dotnet/api/system.io.filesysteminfo?view=net-7.0\" data-linktype=\"relative-path\">FileSystemInfo</a>)\n",
    "\t</td>\n",
    "        \t</tr>\n",
    "        \t<tr data-moniker=\" dotnet-uwp-10.0 netcore-1.0 netcore-1.1 netstandard-1.3 netstandard-1.4 netstandard-1.6 net-5.0 net-6.0 net-7.0 netcore-2.0 netcore-2.1 netcore-2.2 netcore-3.0 netcore-3.1 netframework-1.1 netframework-2.0 netframework-3.0 netframework-3.5 netframework-4.0 netframework-4.5 netframework-4.5.1 netframework-4.5.2 netframework-4.6 netframework-4.6.1 netframework-4.6.2 netframework-4.7 netframework-4.7.1 netframework-4.7.2 netframework-4.8 netframework-4.8.1 netstandard-2.0 netstandard-2.1 xamarinandroid-7.1 xamarinios-10.8 xamarinmac-3.0 \">\n",
    "\t<td class=\"is-one-third-width-tablet\">\n",
    "\t\t<span class=\"break-text\">\n",
    "\t\t\t  <a class=\"xref\" href=\"https://learn.microsoft.com/en-us/dotnet/api/system.object.gettype?view=net-7.0#system-object-gettype\" data-linktype=\"relative-path\">Get<wbr>Type()</a>\n",
    "\t\t</span>\n",
    "\t</td>\n",
    "\t<td class=\"summary\">\n",
    "\t\t  <p>Gets the <a class=\"no-loc\" href=\"https://learn.microsoft.com/en-us/dotnet/api/system.type?view=net-7.0\" data-linktype=\"relative-path\">Type</a> of the current instance.</p>\n",
    "\t\t(Inherited from   <a class=\"xref\" href=\"https://learn.microsoft.com/en-us/dotnet/api/system.object?view=net-7.0\" data-linktype=\"relative-path\">Object</a>)\n",
    "\t</td>\n",
    "        \t</tr>\n",
    "        \t<tr data-moniker=\" net-5.0 net-6.0 net-7.0 netcore-2.0 netcore-2.1 netcore-2.2 netcore-3.0 netcore-3.1 netframework-1.1 netframework-2.0 netframework-3.0 netframework-3.5 netframework-4.0 netframework-4.5 netframework-4.5.1 netframework-4.5.2 netframework-4.6 netframework-4.6.1 netframework-4.6.2 netframework-4.7 netframework-4.7.1 netframework-4.7.2 netframework-4.8 netframework-4.8.1 netstandard-2.0 netstandard-2.1 xamarinandroid-7.1 xamarinios-10.8 xamarinmac-3.0 \">\n",
    "\t<td class=\"is-one-third-width-tablet\">\n",
    "\t\t<span class=\"break-text\">\n",
    "\t\t\t  <a class=\"xref\" href=\"https://learn.microsoft.com/en-us/dotnet/api/system.marshalbyrefobject.initializelifetimeservice?view=net-7.0#system-marshalbyrefobject-initializelifetimeservice\" data-linktype=\"relative-path\">Initialize<wbr>Lifetime<wbr>Service()</a>\n",
    "\t\t</span>\n",
    "\t</td>\n",
    "\t<td class=\"summary\">\n",
    "\t\t  \t<div data-moniker=\" net-5.0 net-6.0 net-7.0 \">\n",
    "\t\t<strong>Obsolete. </strong>\n",
    "\t</div>\n",
    "<p>Obtains a lifetime service object to control the lifetime policy for this instance.</p>\n",
    "\t\t(Inherited from   <a class=\"xref\" href=\"https://learn.microsoft.com/en-us/dotnet/api/system.marshalbyrefobject?view=net-7.0\" data-linktype=\"relative-path\">MarshalByRefObject</a>)\n",
    "\t</td>\n",
    "        \t</tr>\n",
    "        \t<tr data-moniker=\" dotnet-uwp-10.0 netcore-1.0 netcore-1.1 netstandard-1.3 netstandard-1.4 netstandard-1.6 net-5.0 net-6.0 net-7.0 netcore-2.0 netcore-2.1 netcore-2.2 netcore-3.0 netcore-3.1 netframework-1.1 netframework-2.0 netframework-3.0 netframework-3.5 netframework-4.0 netframework-4.5 netframework-4.5.1 netframework-4.5.2 netframework-4.6 netframework-4.6.1 netframework-4.6.2 netframework-4.7 netframework-4.7.1 netframework-4.7.2 netframework-4.8 netframework-4.8.1 netstandard-2.0 netstandard-2.1 xamarinandroid-7.1 xamarinios-10.8 xamarinmac-3.0 \">\n",
    "\t<td class=\"is-one-third-width-tablet\">\n",
    "\t\t<span class=\"break-text\">\n",
    "\t\t\t  <a class=\"xref\" href=\"https://learn.microsoft.com/en-us/dotnet/api/system.object.memberwiseclone?view=net-7.0#system-object-memberwiseclone\" data-linktype=\"relative-path\">Memberwise<wbr>Clone()</a>\n",
    "\t\t</span>\n",
    "\t</td>\n",
    "\t<td class=\"summary\">\n",
    "\t\t  <p>Creates a shallow copy of the current <a class=\"no-loc\" href=\"https://learn.microsoft.com/en-us/dotnet/api/system.object?view=net-7.0\" data-linktype=\"relative-path\">Object</a>.</p>\n",
    "\t\t(Inherited from   <a class=\"xref\" href=\"https://learn.microsoft.com/en-us/dotnet/api/system.object?view=net-7.0\" data-linktype=\"relative-path\">Object</a>)\n",
    "\t</td>\n",
    "        \t</tr>\n",
    "        \t<tr data-moniker=\" net-5.0 net-6.0 net-7.0 netcore-2.0 netcore-2.1 netcore-2.2 netcore-3.0 netcore-3.1 netframework-1.1 netframework-2.0 netframework-3.0 netframework-3.5 netframework-4.0 netframework-4.5 netframework-4.5.1 netframework-4.5.2 netframework-4.6 netframework-4.6.1 netframework-4.6.2 netframework-4.7 netframework-4.7.1 netframework-4.7.2 netframework-4.8 netframework-4.8.1 netstandard-2.0 netstandard-2.1 xamarinandroid-7.1 xamarinios-10.8 xamarinmac-3.0 \">\n",
    "\t<td class=\"is-one-third-width-tablet\">\n",
    "\t\t<span class=\"break-text\">\n",
    "\t\t\t  <a class=\"xref\" href=\"https://learn.microsoft.com/en-us/dotnet/api/system.marshalbyrefobject.memberwiseclone?view=net-7.0#system-marshalbyrefobject-memberwiseclone(system-boolean)\" data-linktype=\"relative-path\">Memberwise<wbr>Clone(Boolean)</a>\n",
    "\t\t</span>\n",
    "\t</td>\n",
    "\t<td class=\"summary\">\n",
    "\t\t  <p>Creates a shallow copy of the current <a class=\"no-loc\" href=\"https://learn.microsoft.com/en-us/dotnet/api/system.marshalbyrefobject?view=net-7.0\" data-linktype=\"relative-path\">MarshalByRefObject</a> object.</p>\n",
    "\t\t(Inherited from   <a class=\"xref\" href=\"https://learn.microsoft.com/en-us/dotnet/api/system.marshalbyrefobject?view=net-7.0\" data-linktype=\"relative-path\">MarshalByRefObject</a>)\n",
    "\t</td>\n",
    "        \t</tr>\n",
    "        \t<tr>\n",
    "\t  <td class=\"is-one-third-width-tablet\">\n",
    "\t<span class=\"break-text\">\n",
    "\t\t<a class=\"xref\" href=\"https://learn.microsoft.com/en-us/dotnet/api/system.io.directoryinfo.moveto?view=net-7.0#system-io-directoryinfo-moveto(system-string)\" data-linktype=\"relative-path\">Move<wbr>To(String)</a>\n",
    "\t</span>\n",
    "</td>\n",
    "\t<td class=\"summary\"> \n",
    "\t\t<p>Moves a <a class=\"no-loc\" href=\"https://learn.microsoft.com/en-us/dotnet/api/system.io.directoryinfo?view=net-7.0\" data-linktype=\"relative-path\">DirectoryInfo</a> instance and its contents to a new path.</p>\n",
    "\t</td>\n",
    "        \t</tr>\n",
    "        \t<tr data-moniker=\" dotnet-uwp-10.0 netcore-1.0 netcore-1.1 netstandard-1.3 netstandard-1.4 netstandard-1.6 net-5.0 net-6.0 net-7.0 netcore-2.0 netcore-2.1 netcore-2.2 netcore-3.0 netcore-3.1 netframework-1.1 netframework-2.0 netframework-3.0 netframework-3.5 netframework-4.0 netframework-4.5 netframework-4.5.1 netframework-4.5.2 netframework-4.6 netframework-4.6.1 netframework-4.6.2 netframework-4.7 netframework-4.7.1 netframework-4.7.2 netframework-4.8 netframework-4.8.1 netstandard-2.0 netstandard-2.1 xamarinandroid-7.1 xamarinios-10.8 xamarinmac-3.0 \">\n",
    "\t<td class=\"is-one-third-width-tablet\">\n",
    "\t\t<span class=\"break-text\">\n",
    "\t\t\t  <a class=\"xref\" href=\"https://learn.microsoft.com/en-us/dotnet/api/system.io.filesysteminfo.refresh?view=net-7.0#system-io-filesysteminfo-refresh\" data-linktype=\"relative-path\">Refresh()</a>\n",
    "\t\t</span>\n",
    "\t</td>\n",
    "\t<td class=\"summary\">\n",
    "\t\t  <p>Refreshes the state of the object.</p>\n",
    "\t\t(Inherited from   <a class=\"xref\" href=\"https://learn.microsoft.com/en-us/dotnet/api/system.io.filesysteminfo?view=net-7.0\" data-linktype=\"relative-path\">FileSystemInfo</a>)\n",
    "\t</td>\n",
    "        \t</tr>\n",
    "        \t<tr data-moniker=\" dotnet-uwp-10.0 netcore-1.0 netcore-1.1 netstandard-1.3 netstandard-1.4 netstandard-1.6 net-5.0 net-6.0 net-7.0 netcore-2.0 netcore-2.1 netcore-2.2 netcore-3.0 netcore-3.1 netframework-1.1 netframework-2.0 netframework-3.0 netframework-3.5 netframework-4.0 netframework-4.5 netframework-4.5.1 netframework-4.5.2 netframework-4.6 netframework-4.6.1 netframework-4.6.2 netframework-4.7 netframework-4.7.1 netframework-4.7.2 netframework-4.8 netframework-4.8.1 netstandard-2.0 netstandard-2.1 xamarinandroid-7.1 xamarinios-10.8 xamarinmac-3.0 \">\n",
    "\t<td class=\"is-one-third-width-tablet\">\n",
    "\t\t<span class=\"break-text\">\n",
    "\t\t\t  <a class=\"xref\" href=\"https://learn.microsoft.com/en-us/dotnet/api/system.io.filesysteminfo.resolvelinktarget?view=net-7.0#system-io-filesysteminfo-resolvelinktarget(system-boolean)\" data-linktype=\"relative-path\">Resolve<wbr>Link<wbr>Target(Boolean)</a>\n",
    "\t\t</span>\n",
    "\t</td>\n",
    "\t<td class=\"summary\">\n",
    "\t\t  <p>Gets the target of the specified link.</p>\n",
    "\t\t(Inherited from   <a class=\"xref\" href=\"https://learn.microsoft.com/en-us/dotnet/api/system.io.filesysteminfo?view=net-7.0\" data-linktype=\"relative-path\">FileSystemInfo</a>)\n",
    "\t</td>\n",
    "        \t</tr>\n",
    "        \t<tr data-moniker=\" netframework-2.0 netframework-3.0 netframework-3.5 netframework-4.0 netframework-4.5 netframework-4.5.1 netframework-4.5.2 netframework-4.6 netframework-4.6.1 netframework-4.6.2 netframework-4.7 netframework-4.7.1 netframework-4.7.2 netframework-4.8 netframework-4.8.1 xamarinandroid-7.1 xamarinios-10.8 xamarinmac-3.0 \">\n",
    "\t  <td class=\"is-one-third-width-tablet\">\n",
    "\t<span class=\"break-text\">\n",
    "\t\t<a class=\"xref\" href=\"https://learn.microsoft.com/en-us/dotnet/api/system.io.directoryinfo.setaccesscontrol?view=net-7.0#system-io-directoryinfo-setaccesscontrol(system-security-accesscontrol-directorysecurity)\" data-linktype=\"relative-path\">Set<wbr>Access<wbr>Control(Directory<wbr>Security)</a>\n",
    "\t</span>\n",
    "</td>\n",
    "\t<td class=\"summary\"> \n",
    "\t\t<p>Applies access control list (ACL) entries described by a <a class=\"no-loc\" href=\"https://learn.microsoft.com/en-us/dotnet/api/system.security.accesscontrol.directorysecurity?view=net-7.0\" data-linktype=\"relative-path\">DirectorySecurity</a> object to the directory described by the current <a class=\"no-loc\" href=\"https://learn.microsoft.com/en-us/dotnet/api/system.io.directoryinfo?view=net-7.0\" data-linktype=\"relative-path\">DirectoryInfo</a> object.</p>\n",
    "\t</td>\n",
    "        \t</tr>\n",
    "        \t<tr>\n",
    "\t  <td class=\"is-one-third-width-tablet\">\n",
    "\t<span class=\"break-text\">\n",
    "\t\t<a class=\"xref\" href=\"https://learn.microsoft.com/en-us/dotnet/api/system.io.directoryinfo.tostring?view=net-7.0#system-io-directoryinfo-tostring\" data-linktype=\"relative-path\">To<wbr>String()</a>\n",
    "\t</span>\n",
    "</td>\n",
    "\t<td class=\"summary\"> \n",
    "\t\t<p>Returns the original path that was passed to the <a class=\"no-loc\" href=\"https://learn.microsoft.com/en-us/dotnet/api/system.io.directoryinfo?view=net-7.0\" data-linktype=\"relative-path\">DirectoryInfo</a> constructor. Use the <a class=\"no-loc\" href=\"https://learn.microsoft.com/en-us/dotnet/api/system.io.directoryinfo.fullname?view=net-7.0#system-io-directoryinfo-fullname\" data-linktype=\"relative-path\">FullName</a> or <a class=\"no-loc\" href=\"https://learn.microsoft.com/en-us/dotnet/api/system.io.directoryinfo.name?view=net-7.0#system-io-directoryinfo-name\" data-linktype=\"relative-path\">Name</a> properties for the full path or file/directory name instead of this method.</p>\n",
    "\t</td>\n",
    "        \t</tr>\n",
    "\t</tbody></table>"
   ]
  }
 ],
 "metadata": {
  "kernelspec": {
   "display_name": ".NET (C#)",
   "language": "C#",
   "name": ".net-csharp"
  },
  "polyglot_notebook": {
   "kernelInfo": {
    "defaultKernelName": "csharp",
    "items": [
     {
      "aliases": [
       "c#",
       "C#"
      ],
      "languageName": "C#",
      "name": "csharp"
     },
     {
      "aliases": [
       "frontend"
      ],
      "name": "vscode"
     },
     {
      "aliases": [],
      "name": ".NET"
     },
     {
      "aliases": [
       "f#",
       "F#"
      ],
      "languageName": "F#",
      "name": "fsharp"
     },
     {
      "aliases": [],
      "languageName": "HTML",
      "name": "html"
     },
     {
      "aliases": [],
      "languageName": "KQL",
      "name": "kql"
     },
     {
      "aliases": [],
      "languageName": "Mermaid",
      "name": "mermaid"
     },
     {
      "aliases": [
       "powershell"
      ],
      "languageName": "PowerShell",
      "name": "pwsh"
     },
     {
      "aliases": [],
      "languageName": "SQL",
      "name": "sql"
     },
     {
      "aliases": [],
      "name": "value"
     }
    ]
   }
  }
 },
 "nbformat": 4,
 "nbformat_minor": 2
}
