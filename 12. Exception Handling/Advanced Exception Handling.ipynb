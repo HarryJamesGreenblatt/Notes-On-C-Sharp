{
 "cells": [
  {
   "attachments": {},
   "cell_type": "markdown",
   "metadata": {
    "dotnet_interactive": {
     "language": "csharp"
    },
    "polyglot_notebook": {
     "kernelName": "csharp"
    }
   },
   "source": [
    "# 12. Exception Handling"
   ]
  },
  {
   "attachments": {},
   "cell_type": "markdown",
   "metadata": {
    "dotnet_interactive": {
     "language": "csharp"
    },
    "polyglot_notebook": {
     "kernelName": "csharp"
    }
   },
   "source": [
    "## Advanced Exception Handling\n",
    "---"
   ]
  },
  {
   "attachments": {},
   "cell_type": "markdown",
   "metadata": {
    "dotnet_interactive": {
     "language": "csharp"
    },
    "polyglot_notebook": {
     "kernelName": "csharp"
    }
   },
   "source": [
    "### Nested `Exception`s"
   ]
  },
  {
   "attachments": {},
   "cell_type": "markdown",
   "metadata": {
    "dotnet_interactive": {
     "language": "csharp"
    },
    "polyglot_notebook": {
     "kernelName": "csharp"
    }
   },
   "source": [
    "  \n",
    "Every `Exception` could have a **nested exception**, also sometimes called an **inner exception**, **wrapped exception**, or **internal exception**.   \n",
    "   \n",
    "The ability to wrap an exception with another exception is very useful in some cases and allows exceptions to be linked in the so called **exception chain**."
   ]
  },
  {
   "attachments": {},
   "cell_type": "markdown",
   "metadata": {
    "dotnet_interactive": {
     "language": "csharp"
    },
    "polyglot_notebook": {
     "kernelName": "csharp"
    }
   },
   "source": [
    "<br>"
   ]
  },
  {
   "cell_type": "code",
   "execution_count": 1,
   "metadata": {
    "dotnet_interactive": {
     "language": "csharp"
    },
    "polyglot_notebook": {
     "kernelName": "csharp"
    },
    "vscode": {
     "languageId": "polyglot-notebook"
    }
   },
   "outputs": [],
   "source": [
    "// provides the TextReader and StreamReader clasees\n",
    "using System.IO;"
   ]
  },
  {
   "attachments": {},
   "cell_type": "markdown",
   "metadata": {
    "dotnet_interactive": {
     "language": "csharp"
    },
    "polyglot_notebook": {
     "kernelName": "csharp"
    }
   },
   "source": [
    "<br>"
   ]
  },
  {
   "attachments": {},
   "cell_type": "markdown",
   "metadata": {
    "dotnet_interactive": {
     "language": "csharp"
    },
    "polyglot_notebook": {
     "kernelName": "csharp"
    }
   },
   "source": [
    "Let's suppose we have a **software component** (let’s call it **Component** **A**):   "
   ]
  },
  {
   "cell_type": "code",
   "execution_count": 2,
   "metadata": {
    "dotnet_interactive": {
     "language": "csharp"
    },
    "polyglot_notebook": {
     "kernelName": "csharp"
    },
    "vscode": {
     "languageId": "polyglot-notebook"
    }
   },
   "outputs": [],
   "source": [
    "public void ComponentA( string badFileName )\n",
    "{ \n",
    "\n",
    "    // Code that potentially results in an Exception \n",
    "\n",
    "    TextReader reader = new StreamReader( badFileName ); \n",
    "    string line = reader.ReadLine(); \n",
    "    Console.WriteLine(line); \n",
    "    reader.Close();\n",
    "\n",
    "}"
   ]
  },
  {
   "attachments": {},
   "cell_type": "markdown",
   "metadata": {
    "dotnet_interactive": {
     "language": "csharp"
    },
    "polyglot_notebook": {
     "kernelName": "csharp"
    }
   },
   "source": [
    "<br>"
   ]
  },
  {
   "attachments": {},
   "cell_type": "markdown",
   "metadata": {
    "dotnet_interactive": {
     "language": "csharp"
    },
    "polyglot_notebook": {
     "kernelName": "csharp"
    }
   },
   "source": [
    "This **Component A**, above,  is then internally used by another **component** (called **Component** **B**). "
   ]
  },
  {
   "cell_type": "code",
   "execution_count": 3,
   "metadata": {
    "dotnet_interactive": {
     "language": "csharp"
    },
    "polyglot_notebook": {
     "kernelName": "csharp"
    },
    "vscode": {
     "languageId": "polyglot-notebook"
    }
   },
   "outputs": [],
   "source": [
    "public void ComponentB( )\n",
    "{ \n",
    "\n",
    "    // A Bad File Name, with which we intend to test\n",
    "    // how our program will respond to unexpected inputs:\n",
    "    string badFileName = \"1 will definately%20cause an Exception.pdffff\";\n",
    "\n",
    "\n",
    "    // Add code within the try block that potentially results in an Exception \n",
    "    try \n",
    "    {\n",
    "        ComponentA( badFileName );\n",
    "    }\n",
    "\n",
    "\n",
    "    // Implement our own handler for the  FileNotFoundException\n",
    "    // which prints out a meessage explaining the issue\n",
    "    catch( Exception e )\n",
    "    {\n",
    "        Console.WriteLine( \n",
    "            $\"Oh SNAP! Here's what went wrong in Component B:\\n{ e }\" \n",
    "        );\n",
    "    }\n",
    "    \n",
    "}"
   ]
  },
  {
   "attachments": {},
   "cell_type": "markdown",
   "metadata": {
    "dotnet_interactive": {
     "language": "csharp"
    },
    "polyglot_notebook": {
     "kernelName": "csharp"
    }
   },
   "source": [
    "<br>"
   ]
  },
  {
   "attachments": {},
   "cell_type": "markdown",
   "metadata": {
    "dotnet_interactive": {
     "language": "csharp"
    },
    "polyglot_notebook": {
     "kernelName": "csharp"
    }
   },
   "source": [
    "When **B** throws a **B** **exception** (an **exception** defined in **B**),   \n",
    "**A** will have to *propagate the error*, since it will interfere with any subsequent handler operations.   "
   ]
  },
  {
   "cell_type": "code",
   "execution_count": 4,
   "metadata": {
    "dotnet_interactive": {
     "language": "csharp"
    },
    "polyglot_notebook": {
     "kernelName": "csharp"
    },
    "vscode": {
     "languageId": "polyglot-notebook"
    }
   },
   "outputs": [
    {
     "name": "stdout",
     "output_type": "stream",
     "text": [
      "Oh SNAP! Here's what went wrong in Component B:\n",
      "System.IO.FileNotFoundException: Could not find file 'c:\\Users\\harry\\Dev\\projects\\Notes On C-Sharp\\12. Exception Handling\\1 will definately%20cause an Exception.pdffff'.\r\n",
      "File name: 'c:\\Users\\harry\\Dev\\projects\\Notes On C-Sharp\\12. Exception Handling\\1 will definately%20cause an Exception.pdffff'\r\n",
      "   at Microsoft.Win32.SafeHandles.SafeFileHandle.CreateFile(String fullPath, FileMode mode, FileAccess access, FileShare share, FileOptions options)\r\n",
      "   at Microsoft.Win32.SafeHandles.SafeFileHandle.Open(String fullPath, FileMode mode, FileAccess access, FileShare share, FileOptions options, Int64 preallocationSize, Nullable`1 unixCreateMode)\r\n",
      "   at System.IO.Strategies.OSFileStreamStrategy..ctor(String path, FileMode mode, FileAccess access, FileShare share, FileOptions options, Int64 preallocationSize, Nullable`1 unixCreateMode)\r\n",
      "   at System.IO.Strategies.FileStreamHelpers.ChooseStrategyCore(String path, FileMode mode, FileAccess access, FileShare share, FileOptions options, Int64 preallocationSize, Nullable`1 unixCreateMode)\r\n",
      "   at System.IO.StreamReader.ValidateArgsAndOpenPath(String path, Encoding encoding, Int32 bufferSize)\r\n",
      "   at System.IO.StreamReader..ctor(String path)\r\n",
      "   at Submission#3.ComponentA(String badFileName)\r\n",
      "   at Submission#4.ComponentB()\r\n"
     ]
    }
   ],
   "source": [
    "ComponentB();"
   ]
  },
  {
   "attachments": {},
   "cell_type": "markdown",
   "metadata": {
    "dotnet_interactive": {
     "language": "csharp"
    },
    "polyglot_notebook": {
     "kernelName": "csharp"
    }
   },
   "source": [
    "Because **B** cannot simply throw an **A**-**exception**,    \n",
    "it must throw an **B**-**exception** *containing* the **A**-**exception** as a **nested** **exception**."
   ]
  },
  {
   "attachments": {},
   "cell_type": "markdown",
   "metadata": {
    "dotnet_interactive": {
     "language": "csharp"
    },
    "polyglot_notebook": {
     "kernelName": "csharp"
    }
   },
   "source": [
    "<br>"
   ]
  },
  {
   "attachments": {},
   "cell_type": "markdown",
   "metadata": {
    "dotnet_interactive": {
     "language": "csharp"
    },
    "polyglot_notebook": {
     "kernelName": "csharp"
    }
   },
   "source": [
    "### Which Exceptions to Handle and Which Not?"
   ]
  },
  {
   "attachments": {},
   "cell_type": "markdown",
   "metadata": {
    "dotnet_interactive": {
     "language": "csharp"
    },
    "polyglot_notebook": {
     "kernelName": "csharp"
    }
   },
   "source": [
    "There is *one universal rule* regarding **exception handling**:"
   ]
  },
  {
   "attachments": {},
   "cell_type": "markdown",
   "metadata": {
    "dotnet_interactive": {
     "language": "csharp"
    },
    "polyglot_notebook": {
     "kernelName": "csharp"
    }
   },
   "source": [
    "> A method should only handle exceptions which it *expects* and which it *knows how to process*.<br>All the other exceptions must be left to the calling method."
   ]
  },
  {
   "attachments": {},
   "cell_type": "markdown",
   "metadata": {
    "dotnet_interactive": {
     "language": "csharp"
    },
    "polyglot_notebook": {
     "kernelName": "csharp"
    }
   },
   "source": [
    "If we follow this rule and eventually we reach the `Main()` method (or the starting method of the respective thread of execution), if the exception is not yet caught, then the $CLR$ itself will display the error."
   ]
  },
  {
   "attachments": {},
   "cell_type": "markdown",
   "metadata": {
    "dotnet_interactive": {
     "language": "csharp"
    },
    "polyglot_notebook": {
     "kernelName": "csharp"
    }
   },
   "source": [
    "A method is considered as *competent to handle an* **exception** if it *expects* this **exception**, and it has the information *why the* **exception** *has been thrown* and *what to do* in this situation.    \n",
    "   \n",
    "If we have a method that must *read a text file* and return its contents as a string, that method might catch `FileNotFoundException` and return an empty string in this case.   \n",
    "   \n",
    "Still, this same method will hardly be able to correctly handle `OutOfMemoryException`.   \n",
    "   \n",
    "What should the method do in case of insufficient memory? Return an empty string? Throw some other exception? Do something completely different? \n",
    "   \n",
    "So apparently the method is not competent to handle such exception and thus the best way is to pass the exception up to the calling method so it could (hopefully) be handled at some other level by a method competent to do it. \n",
    "   \n",
    "Using this simple philosophy allows exception handling to be done in a structured and systematic way."
   ]
  },
  {
   "attachments": {},
   "cell_type": "markdown",
   "metadata": {
    "dotnet_interactive": {
     "language": "csharp"
    },
    "polyglot_notebook": {
     "kernelName": "csharp"
    }
   },
   "source": [
    "<br>"
   ]
  },
  {
   "attachments": {},
   "cell_type": "markdown",
   "metadata": {
    "dotnet_interactive": {
     "language": "csharp"
    },
    "polyglot_notebook": {
     "kernelName": "csharp"
    }
   },
   "source": [
    "### The `try`-`finally` Construct"
   ]
  },
  {
   "attachments": {},
   "cell_type": "markdown",
   "metadata": {
    "dotnet_interactive": {
     "language": "csharp"
    },
    "polyglot_notebook": {
     "kernelName": "csharp"
    }
   },
   "source": [
    "Every `try` **block** could contain a subsequent `finally` **block**. \n",
    "   \n",
    "The code within the `finally` **block** is *always executed*, no matter how the program flow leaves the `try` **block**.    \n",
    "   \n",
    "This guarantees that the `finally` **block** will be executed even if an exception is thrown or a return statement is executed within the `try` **block**."
   ]
  },
  {
   "attachments": {},
   "cell_type": "markdown",
   "metadata": {
    "dotnet_interactive": {
     "language": "csharp"
    },
    "polyglot_notebook": {
     "kernelName": "csharp"
    }
   },
   "source": [
    "<br>"
   ]
  },
  {
   "attachments": {},
   "cell_type": "markdown",
   "metadata": {
    "dotnet_interactive": {
     "language": "csharp"
    },
    "polyglot_notebook": {
     "kernelName": "csharp"
    }
   },
   "source": [
    "The basic form of the `finally` **block** is given as follows:\n",
    "```c#\n",
    "try\n",
    "{\n",
    "    // Some code that could potentially cause an exception\n",
    "}\n",
    "\n",
    "finally\n",
    "{\n",
    "    // Some code that will execute no matter if an exception occurs or not.\n",
    "}\n",
    "```"
   ]
  },
  {
   "attachments": {},
   "cell_type": "markdown",
   "metadata": {
    "dotnet_interactive": {
     "language": "csharp"
    },
    "polyglot_notebook": {
     "kernelName": "csharp"
    }
   },
   "source": [
    "<br>"
   ]
  },
  {
   "attachments": {},
   "cell_type": "markdown",
   "metadata": {
    "dotnet_interactive": {
     "language": "csharp"
    },
    "polyglot_notebook": {
     "kernelName": "csharp"
    }
   },
   "source": [
    "Every `try` **block** may have zero or more `catch` **block**s and at most one `finally` **block**.    \n",
    "It is possible to have multiple `catch` **block**s and a `finally` **block** in the same `try`-`catch`-`finally` construct:"
   ]
  },
  {
   "attachments": {},
   "cell_type": "markdown",
   "metadata": {
    "dotnet_interactive": {
     "language": "csharp"
    },
    "polyglot_notebook": {
     "kernelName": "csharp"
    }
   },
   "source": [
    "```c#\n",
    "try\n",
    "{\n",
    "    // Some code that could potentially cause an exception\n",
    "}\n",
    "\n",
    "catch ( Exception someException ) \n",
    "{\n",
    "    // Some code handling some exception\n",
    "}\n",
    "\n",
    "catch ( Exception someOtherException ) \n",
    "{\n",
    "    // Some code handling some other exception\n",
    "}\n",
    "\n",
    "finally\n",
    "{\n",
    "    // Some code that will execute no matter if an exception occurs or not.\n",
    "}\n",
    "```"
   ]
  },
  {
   "attachments": {},
   "cell_type": "markdown",
   "metadata": {
    "dotnet_interactive": {
     "language": "csharp"
    },
    "polyglot_notebook": {
     "kernelName": "csharp"
    }
   },
   "source": [
    "<br>"
   ]
  },
  {
   "attachments": {},
   "cell_type": "markdown",
   "metadata": {
    "dotnet_interactive": {
     "language": "csharp"
    },
    "polyglot_notebook": {
     "kernelName": "csharp"
    }
   },
   "source": [
    "#### When Should We Use `try`-`finally`?"
   ]
  },
  {
   "attachments": {},
   "cell_type": "markdown",
   "metadata": {
    "dotnet_interactive": {
     "language": "csharp"
    },
    "polyglot_notebook": {
     "kernelName": "csharp"
    }
   },
   "source": [
    "There's many cases when we have to work with $external\\,resources$ for our programs.      \n",
    "Examples for $external\\,resources$ include: \n",
    "- *files*\n",
    "- *network connections*\n",
    "- *graphical elements*\n",
    "- *pipes* and *streams to or from different hardware devices*\n",
    "  - *printers*\n",
    "  - *card readers*   \n",
    " \n",
    "When we deal with such $external\\,resource$, it is critically important to **free up the resources** as early as possible when the resource is no longer needed.   \n",
    "\n",
    "For example, when we *open a file to read its contents* (let’s say to load a JPG image), we must **close the file** right after we have read the contents.    \n",
    "   \n",
    "If we leave the file open, the operating system will prevent other users and applications to make certain operations on the file. Perhaps you faced such a situation when you could not delete some directory or a file because it is being used by a running process.   \n",
    "                      \n",
    "The `finally` **block** is priceless when we need to **free an external resource** or **make any other cleanup**.    \n",
    "   \n",
    "The `finally` **block** guarantees that the **cleanup operations** will not be accidentally skipped because of an unexpected exception or because of execution of `return`, `continue` or `break` statements.    "
   ]
  },
  {
   "attachments": {},
   "cell_type": "markdown",
   "metadata": {
    "dotnet_interactive": {
     "language": "csharp"
    },
    "polyglot_notebook": {
     "kernelName": "csharp"
    }
   },
   "source": [
    "<br>"
   ]
  },
  {
   "attachments": {},
   "cell_type": "markdown",
   "metadata": {
    "dotnet_interactive": {
     "language": "csharp"
    },
    "polyglot_notebook": {
     "kernelName": "csharp"
    }
   },
   "source": [
    "#####  Resource Cleanup – Defining the Problem"
   ]
  },
  {
   "attachments": {},
   "cell_type": "markdown",
   "metadata": {
    "dotnet_interactive": {
     "language": "csharp"
    },
    "polyglot_notebook": {
     "kernelName": "csharp"
    }
   },
   "source": [
    "Because proper **resource management** is an important concept in programming, we will look at it in some more details."
   ]
  },
  {
   "attachments": {},
   "cell_type": "markdown",
   "metadata": {
    "dotnet_interactive": {
     "language": "csharp"
    },
    "polyglot_notebook": {
     "kernelName": "csharp"
    }
   },
   "source": [
    "In the above example, when we wanted to **read a file**, we exectuted the following code *to create an instance of the* `StreamReader()` *class*, which enable us to will *store the data taken in from the reader*, and then subsequently *close the data stream*."
   ]
  },
  {
   "attachments": {},
   "cell_type": "markdown",
   "metadata": {
    "dotnet_interactive": {
     "language": "csharp"
    },
    "polyglot_notebook": {
     "kernelName": "csharp"
    }
   },
   "source": [
    "Recall that we implemented the example above as follows:"
   ]
  },
  {
   "attachments": {},
   "cell_type": "markdown",
   "metadata": {
    "dotnet_interactive": {
     "language": "csharp"
    },
    "polyglot_notebook": {
     "kernelName": "csharp"
    }
   },
   "source": [
    "```c#\n",
    "public void ComponentA( string badFileName )\n",
    "{ \n",
    "\n",
    "    // Code that potentially results in an Exception \n",
    "\n",
    "    TextReader reader = new StreamReader( badFileName ); \n",
    "    string line = reader.ReadLine(); \n",
    "    Console.WriteLine(line); \n",
    "    reader.Close();\n",
    "\n",
    "}\n",
    "```"
   ]
  },
  {
   "attachments": {},
   "cell_type": "markdown",
   "metadata": {
    "dotnet_interactive": {
     "language": "csharp"
    },
    "polyglot_notebook": {
     "kernelName": "csharp"
    }
   },
   "source": [
    "So **what is the problem with this code?**,   \n",
    "Well, what the code is supposed to *do* is: \n",
    "1. *Open* up a file reader\n",
    "2. *Read* the data\n",
    "3. *Close* the reader before the method returns. "
   ]
  },
  {
   "attachments": {},
   "cell_type": "markdown",
   "metadata": {
    "dotnet_interactive": {
     "language": "csharp"
    },
    "polyglot_notebook": {
     "kernelName": "csharp"
    }
   },
   "source": [
    "The issue is that, potentially, the method could finish in one of several ways: \n",
    "- An exception could be thrown when the reader is initialized (say if the file is missing).\n",
    "- During reading the file, an exception could arise (imagine a file on a remote network device which goes offline during file reading)."
   ]
  },
  {
   "attachments": {},
   "cell_type": "markdown",
   "metadata": {
    "dotnet_interactive": {
     "language": "csharp"
    },
    "polyglot_notebook": {
     "kernelName": "csharp"
    }
   },
   "source": [
    "<br>"
   ]
  },
  {
   "attachments": {},
   "cell_type": "markdown",
   "metadata": {
    "dotnet_interactive": {
     "language": "csharp"
    },
    "polyglot_notebook": {
     "kernelName": "csharp"
    }
   },
   "source": [
    "#####  Resource Cleanup – Solving the Problem"
   ]
  },
  {
   "attachments": {},
   "cell_type": "markdown",
   "metadata": {
    "dotnet_interactive": {
     "language": "csharp"
    },
    "polyglot_notebook": {
     "kernelName": "csharp"
    }
   },
   "source": [
    "So now that we are aware of the inherent flaw of the plain old $Open \\Rrightarrow Read \\Rrightarrow Close$ approach,   \n",
    "how can we go about solving the problem?  "
   ]
  },
  {
   "attachments": {},
   "cell_type": "markdown",
   "metadata": {
    "dotnet_interactive": {
     "language": "csharp"
    },
    "polyglot_notebook": {
     "kernelName": "csharp"
    }
   },
   "source": [
    "This is actually a conerstone use case for the `try`-`finally` constuct:"
   ]
  },
  {
   "cell_type": "code",
   "execution_count": 5,
   "metadata": {
    "dotnet_interactive": {
     "language": "csharp"
    },
    "polyglot_notebook": {
     "kernelName": "csharp"
    },
    "vscode": {
     "languageId": "polyglot-notebook"
    }
   },
   "outputs": [],
   "source": [
    "void ProperlyErrorHandled( string potentiallyBadFilename )\n",
    "{\n",
    "    \n",
    "    // If an Exception happens here,  \n",
    "    // the file will never be opened to begin with\n",
    "    TextReader reader =  new StreamReader( potentiallyBadFilename );\n",
    "\n",
    "\n",
    "    // Execute code that will potentially throw an Exeption\n",
    "    try\n",
    "    {\n",
    "        string line = reader.ReadLine();\n",
    "        Console.WriteLine( line );\n",
    "    }\n",
    "\n",
    "\n",
    "    // This will close the file no matter if the code\n",
    "    // in the try block throws an Exception or not\n",
    "    finally\n",
    "    {\n",
    "        reader.Close();\n",
    "    }\n",
    "\n",
    "}"
   ]
  },
  {
   "attachments": {},
   "cell_type": "markdown",
   "metadata": {
    "dotnet_interactive": {
     "language": "csharp"
    },
    "polyglot_notebook": {
     "kernelName": "csharp"
    }
   },
   "source": [
    "This code is cleaner, shorter and clearer, and is known as a **dispose pattern**.    \n",
    "However, note that this way, any resulting Exception will go up to the method calling `ProperlyErrorHandled(…)`."
   ]
  },
  {
   "attachments": {},
   "cell_type": "markdown",
   "metadata": {
    "dotnet_interactive": {
     "language": "csharp"
    },
    "polyglot_notebook": {
     "kernelName": "csharp"
    }
   },
   "source": [
    "<br>"
   ]
  },
  {
   "attachments": {},
   "cell_type": "markdown",
   "metadata": {
    "dotnet_interactive": {
     "language": "csharp"
    },
    "polyglot_notebook": {
     "kernelName": "csharp"
    }
   },
   "source": [
    "##### Cleaning Up Multiple Resources"
   ]
  },
  {
   "attachments": {},
   "cell_type": "markdown",
   "metadata": {
    "dotnet_interactive": {
     "language": "csharp"
    },
    "polyglot_notebook": {
     "kernelName": "csharp"
    }
   },
   "source": [
    "Sometimes we need to **free more than one resource**.    \n",
    "It can be a good practice to free the resources in the *reverse order* that they were allocated in:"
   ]
  },
  {
   "attachments": {},
   "cell_type": "markdown",
   "metadata": {
    "dotnet_interactive": {
     "language": "csharp"
    },
    "polyglot_notebook": {
     "kernelName": "csharp"
    }
   },
   "source": [
    "```c#\n",
    "void ProperlyErrorHandledAndNested( someType potentiallyBadData )\n",
    "{\n",
    "    \n",
    "    // If an Exception happens here,  \n",
    "    // Resource 2 will never get allocated to begin with\n",
    "    Resource r1 =  new Resource();\n",
    "    \n",
    "    // Execute code that will potentially throw an Exeption\n",
    "    try\n",
    "    {\n",
    "        Resource r2 = new Resource2();\n",
    "\n",
    "        try\n",
    "        {\n",
    "            // use r1 and r2\n",
    "        }\n",
    "\n",
    "        // This will clean up Resource 2 no matter if the code\n",
    "        // in the try block throws an Exception or not\n",
    "        finally\n",
    "        {\n",
    "            r2.Release();\n",
    "        }\n",
    "\n",
    "    }\n",
    "\n",
    "    // This will clean up Resource 1 no matter if the code\n",
    "    // in the try block throws an Exception or not\n",
    "    finally\n",
    "    {\n",
    "        r1.Release();\n",
    "    }\n",
    "\n",
    "}\n",
    "```"
   ]
  },
  {
   "attachments": {},
   "cell_type": "markdown",
   "metadata": {
    "dotnet_interactive": {
     "language": "csharp"
    },
    "polyglot_notebook": {
     "kernelName": "csharp"
    }
   },
   "source": [
    "<br>"
   ]
  },
  {
   "attachments": {},
   "cell_type": "markdown",
   "metadata": {
    "dotnet_interactive": {
     "language": "csharp"
    },
    "polyglot_notebook": {
     "kernelName": "csharp"
    }
   },
   "source": [
    "Another option is to *declare all of the resources in advance*,  \n",
    "and then make the cleanup in a single `finally` **block** with respective `null` checks:"
   ]
  },
  {
   "attachments": {},
   "cell_type": "markdown",
   "metadata": {
    "dotnet_interactive": {
     "language": "csharp"
    },
    "polyglot_notebook": {
     "kernelName": "csharp"
    }
   },
   "source": [
    "```c#\n",
    "void AnotherProperlyErrorHandledAndNested( someType potentiallyBadData )\n",
    "{\n",
    "    \n",
    "    // Declare both Resources in advance and initialize them as null values \n",
    "    Resource r1 = null; \n",
    "    Resource r2 = null; \n",
    "    \n",
    "    // Execute code that will potentially throw an Exeption\n",
    "    try \n",
    "    {\n",
    "        // Allocate the memory for both Resources\n",
    "        Resource r1 = new Resource1(); \n",
    "        Resource r2 = new Resource2();\n",
    "\n",
    "        // Use both r1 and r2\n",
    "    } \n",
    "    \n",
    "    // This will clean up the Resources no matter if the code\n",
    "    // in the try block throws an Exception or not,\n",
    "    finally \n",
    "    {\n",
    "        if (r1 != null) \n",
    "            r1.Release();\n",
    "\n",
    "        if (r2 != null) \n",
    "            r2.Release();\n",
    "    }\n",
    "}\n",
    "```"
   ]
  },
  {
   "attachments": {},
   "cell_type": "markdown",
   "metadata": {
    "dotnet_interactive": {
     "language": "csharp"
    },
    "polyglot_notebook": {
     "kernelName": "csharp"
    }
   },
   "source": [
    "<br>"
   ]
  },
  {
   "attachments": {},
   "cell_type": "markdown",
   "metadata": {
    "dotnet_interactive": {
     "language": "csharp"
    },
    "polyglot_notebook": {
     "kernelName": "csharp"
    }
   },
   "source": [
    "### The `IDisposable` and the `using` Statement"
   ]
  },
  {
   "attachments": {},
   "cell_type": "markdown",
   "metadata": {
    "dotnet_interactive": {
     "language": "csharp"
    },
    "polyglot_notebook": {
     "kernelName": "csharp"
    }
   },
   "source": [
    "There are other programming contructs which *shorten* and *simnplify* the above mentioned techniques for **releasing resources** in $C\\#$."
   ]
  },
  {
   "attachments": {},
   "cell_type": "markdown",
   "metadata": {
    "dotnet_interactive": {
     "language": "csharp"
    },
    "polyglot_notebook": {
     "kernelName": "csharp"
    }
   },
   "source": [
    "#### `IDisposable`"
   ]
  },
  {
   "attachments": {},
   "cell_type": "markdown",
   "metadata": {
    "dotnet_interactive": {
     "language": "csharp"
    },
    "polyglot_notebook": {
     "kernelName": "csharp"
    }
   },
   "source": [
    "The main use of `IDisposable` **interface** is to **release resources**.   \n",
    "In $.NET$, examples of such resources are *window handles*, *files*, *streams*, and others."
   ]
  },
  {
   "attachments": {},
   "cell_type": "markdown",
   "metadata": {
    "dotnet_interactive": {
     "language": "csharp"
    },
    "polyglot_notebook": {
     "kernelName": "csharp"
    }
   },
   "source": [
    "One important method of the `IDisposable` interface is` Dispose()`.    \n",
    "The main thing we need to know about the method is that it **releases the resources of the class that implements it**.   "
   ]
  },
  {
   "attachments": {},
   "cell_type": "markdown",
   "metadata": {
    "dotnet_interactive": {
     "language": "csharp"
    },
    "polyglot_notebook": {
     "kernelName": "csharp"
    }
   },
   "source": [
    "```c#\n",
    "StreamReader reader = new StreamReader(fileName); \n",
    "try \n",
    "{\n",
    "// Use the reader here\n",
    "} \n",
    "\n",
    "finally \n",
    "{\n",
    "    if (reader != null) \n",
    "        reader.Dispose(); \n",
    "}\n",
    "```"
   ]
  },
  {
   "attachments": {},
   "cell_type": "markdown",
   "metadata": {
    "dotnet_interactive": {
     "language": "csharp"
    },
    "polyglot_notebook": {
     "kernelName": "csharp"
    }
   },
   "source": [
    "In cases when resources are *streams*, *readers* or *files*, **releasing resources** can be done using the `Dispose()` method from `IDisposable` **interface**, which calls their `Close()` method.     \n",
    "   \n",
    "This method **closes them** and **releases their resources**."
   ]
  },
  {
   "attachments": {},
   "cell_type": "markdown",
   "metadata": {
    "dotnet_interactive": {
     "language": "csharp"
    },
    "polyglot_notebook": {
     "kernelName": "csharp"
    }
   },
   "source": [
    "<br>"
   ]
  },
  {
   "attachments": {},
   "cell_type": "markdown",
   "metadata": {
    "dotnet_interactive": {
     "language": "csharp"
    },
    "polyglot_notebook": {
     "kernelName": "csharp"
    }
   },
   "source": [
    "#### The `using` Keyword"
   ]
  },
  {
   "attachments": {},
   "cell_type": "markdown",
   "metadata": {
    "dotnet_interactive": {
     "language": "csharp"
    },
    "polyglot_notebook": {
     "kernelName": "csharp"
    }
   },
   "source": [
    "The example above can be written in a shorter form with the help of the `using` keyword:"
   ]
  },
  {
   "attachments": {},
   "cell_type": "markdown",
   "metadata": {
    "dotnet_interactive": {
     "language": "csharp"
    },
    "polyglot_notebook": {
     "kernelName": "csharp"
    }
   },
   "source": [
    "```c#\n",
    "using ( StreamReader reader = new StreamReader( fileName ) )\n",
    "{\n",
    "    // Use the reader here\n",
    "}\n",
    "```"
   ]
  },
  {
   "attachments": {},
   "cell_type": "markdown",
   "metadata": {
    "dotnet_interactive": {
     "language": "csharp"
    },
    "polyglot_notebook": {
     "kernelName": "csharp"
    }
   },
   "source": [
    "The above simplified form of the **dispose pattern** is simple to write, simple to use, simple to read, and is guaranteed to correctly **release the allocated resources** specified in the brackets of the `using` statement.\n",
    "  \n",
    "Here, it is not necessary to have `try`-`finally`,    \n",
    "or to explicitly call any method in order to **release the resources**.\n",
    "     \n",
    "The compiler takes care to automatically put `try`-`finally` **block** and the used resources are released by calling the `Dispose()` method after leaving the `using` **block**.   "
   ]
  },
  {
   "attachments": {},
   "cell_type": "markdown",
   "metadata": {
    "dotnet_interactive": {
     "language": "csharp"
    },
    "polyglot_notebook": {
     "kernelName": "csharp"
    }
   },
   "source": [
    "<br>"
   ]
  },
  {
   "attachments": {},
   "cell_type": "markdown",
   "metadata": {
    "dotnet_interactive": {
     "language": "csharp"
    },
    "polyglot_notebook": {
     "kernelName": "csharp"
    }
   },
   "source": [
    "##### Nested `using` Statements"
   ]
  },
  {
   "attachments": {},
   "cell_type": "markdown",
   "metadata": {
    "dotnet_interactive": {
     "language": "csharp"
    },
    "polyglot_notebook": {
     "kernelName": "csharp"
    }
   },
   "source": [
    "`using` **statements** can be **nested** one within another:"
   ]
  },
  {
   "attachments": {},
   "cell_type": "markdown",
   "metadata": {
    "dotnet_interactive": {
     "language": "csharp"
    },
    "polyglot_notebook": {
     "kernelName": "csharp"
    }
   },
   "source": [
    "```\n",
    "using ( ResourceType r1 = ... )\n",
    "    using ( ResourceType r2 = ... )\n",
    "     ...\n",
    "        using ( ResourceType rN = ...   )\n",
    "            statements;\n",
    "```"
   ]
  },
  {
   "attachments": {},
   "cell_type": "markdown",
   "metadata": {
    "dotnet_interactive": {
     "language": "csharp"
    },
    "polyglot_notebook": {
     "kernelName": "csharp"
    }
   },
   "source": [
    "But the figure above merely illustrates the concept,    \n",
    "the actual $C\\#$ implementation is generalized as follows:"
   ]
  },
  {
   "attachments": {},
   "cell_type": "markdown",
   "metadata": {
    "dotnet_interactive": {
     "language": "csharp"
    },
    "polyglot_notebook": {
     "kernelName": "csharp"
    }
   },
   "source": [
    "```c#\n",
    "using ( ResourceType r1 = …, r2 = …, …, rN = …) \n",
    "{\n",
    "    // statements \n",
    "}\n",
    "```"
   ]
  },
  {
   "attachments": {},
   "cell_type": "markdown",
   "metadata": {
    "dotnet_interactive": {
     "language": "csharp"
    },
    "polyglot_notebook": {
     "kernelName": "csharp"
    }
   },
   "source": [
    "<br>"
   ]
  },
  {
   "attachments": {},
   "cell_type": "markdown",
   "metadata": {
    "dotnet_interactive": {
     "language": "csharp"
    },
    "polyglot_notebook": {
     "kernelName": "csharp"
    }
   },
   "source": [
    "It is important to mention that the `using` statement is not related to exception handling.   \n",
    "   \n",
    "Its only purpose is to **release the resources** no matter whether exceptions are thrown or not. It does not handle exception."
   ]
  },
  {
   "attachments": {},
   "cell_type": "markdown",
   "metadata": {
    "dotnet_interactive": {
     "language": "csharp"
    },
    "polyglot_notebook": {
     "kernelName": "csharp"
    }
   },
   "source": [
    "<br>"
   ]
  },
  {
   "attachments": {},
   "cell_type": "markdown",
   "metadata": {
    "dotnet_interactive": {
     "language": "csharp"
    },
    "polyglot_notebook": {
     "kernelName": "csharp"
    }
   },
   "source": [
    "##### When to Use the `using` Statement?"
   ]
  },
  {
   "attachments": {},
   "cell_type": "markdown",
   "metadata": {
    "dotnet_interactive": {
     "language": "csharp"
    },
    "polyglot_notebook": {
     "kernelName": "csharp"
    }
   },
   "source": [
    "There is a simple rule when to use `using` with $.NET$ classes:"
   ]
  },
  {
   "attachments": {},
   "cell_type": "markdown",
   "metadata": {
    "dotnet_interactive": {
     "language": "csharp"
    },
    "polyglot_notebook": {
     "kernelName": "csharp"
    }
   },
   "source": [
    "> Use the `using` **statement** with all classes that implement the `IDisposable` **interface**. "
   ]
  },
  {
   "attachments": {},
   "cell_type": "markdown",
   "metadata": {
    "dotnet_interactive": {
     "language": "csharp"
    },
    "polyglot_notebook": {
     "kernelName": "csharp"
    }
   },
   "source": [
    "When a class implements `IDisposable` **interface**, this means that the creator of this class expects it can be used with the `using` **statement**, and the class contains some expensive resource that should not be left unreleased.    \n",
    "   \n",
    "Implementing `IDisposable` also means that it should be released immediately after we finish using the class, and the easiest way to do this in $C\\#$ is with the  `using` **statement**."
   ]
  }
 ],
 "metadata": {
  "kernelspec": {
   "display_name": ".NET (C#)",
   "language": "C#",
   "name": ".net-csharp"
  },
  "polyglot_notebook": {
   "kernelInfo": {
    "defaultKernelName": "csharp",
    "items": [
     {
      "aliases": [
       "c#",
       "C#"
      ],
      "languageName": "C#",
      "name": "csharp"
     },
     {
      "aliases": [],
      "name": ".NET"
     },
     {
      "aliases": [
       "frontend"
      ],
      "name": "vscode"
     },
     {
      "aliases": [
       "f#",
       "F#"
      ],
      "languageName": "F#",
      "name": "fsharp"
     },
     {
      "aliases": [],
      "languageName": "HTML",
      "name": "html"
     },
     {
      "aliases": [
       "js"
      ],
      "languageName": "JavaScript",
      "name": "javascript"
     },
     {
      "aliases": [],
      "languageName": "KQL",
      "name": "kql"
     },
     {
      "aliases": [],
      "languageName": "Mermaid",
      "name": "mermaid"
     },
     {
      "aliases": [
       "powershell"
      ],
      "languageName": "PowerShell",
      "name": "pwsh"
     },
     {
      "aliases": [],
      "languageName": "SQL",
      "name": "sql"
     },
     {
      "aliases": [],
      "name": "value"
     },
     {
      "aliases": [],
      "name": "webview"
     }
    ]
   }
  }
 },
 "nbformat": 4,
 "nbformat_minor": 2
}
