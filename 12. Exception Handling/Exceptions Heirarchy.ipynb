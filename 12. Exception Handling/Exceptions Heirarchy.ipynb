{
 "cells": [
  {
   "attachments": {},
   "cell_type": "markdown",
   "metadata": {
    "dotnet_interactive": {
     "language": "csharp"
    },
    "polyglot_notebook": {
     "kernelName": "csharp"
    }
   },
   "source": [
    "# 12. Exception Handling"
   ]
  },
  {
   "attachments": {},
   "cell_type": "markdown",
   "metadata": {
    "dotnet_interactive": {
     "language": "csharp"
    },
    "polyglot_notebook": {
     "kernelName": "csharp"
    }
   },
   "source": [
    "## Exceptions Hierarchy\n",
    "---"
   ]
  },
  {
   "attachments": {},
   "cell_type": "markdown",
   "metadata": {
    "dotnet_interactive": {
     "language": "csharp"
    },
    "polyglot_notebook": {
     "kernelName": "csharp"
    }
   },
   "source": [
    "There are **two types of exceptions** in $.NET\\,\\,Framework$: \n",
    "1. `ApplicationException` - exceptions thrown by the *applications* we develop which are defined by application developers and are used by the application software. \n",
    "2. `SystemException` - exceptions thrown by the *runtime* which are defined in $.NET$ libraries and are used by the framework.  \n",
    "   \n",
    "Each of these is a **base class** within a **hierarchy of `Exception` classes**:"
   ]
  },
  {
   "attachments": {},
   "cell_type": "markdown",
   "metadata": {
    "dotnet_interactive": {
     "language": "csharp"
    },
    "polyglot_notebook": {
     "kernelName": "csharp"
    }
   },
   "source": [
    "<img src = \"_img/ExceptionHeirarchy.jpg\" style=\"display: block; margin: auto;\"/>"
   ]
  },
  {
   "attachments": {},
   "cell_type": "markdown",
   "metadata": {
    "dotnet_interactive": {
     "language": "csharp"
    },
    "polyglot_notebook": {
     "kernelName": "csharp"
    }
   },
   "source": [
    "<br>"
   ]
  },
  {
   "attachments": {},
   "cell_type": "markdown",
   "metadata": {
    "dotnet_interactive": {
     "language": "csharp"
    },
    "polyglot_notebook": {
     "kernelName": "csharp"
    }
   },
   "source": [
    "### The `Exception` Class"
   ]
  },
  {
   "attachments": {},
   "cell_type": "markdown",
   "metadata": {
    "dotnet_interactive": {
     "language": "csharp"
    },
    "polyglot_notebook": {
     "kernelName": "csharp"
    }
   },
   "source": [
    "In $.NET\\,\\,Framework$, `Exception` is the **base class for all exceptions**.    \n",
    "\n",
    "Several classes inherit directly from it, including `ApplicationException` and `SystemException`.    \n",
    "   \n",
    "These two classes are base classes for almost all exceptions that occur during the program execution.   \n",
    "   \n",
    "The `Exception` class contains a copy of the call-stack at the time the exception instance was created. The class also has a (usually) short message describing the error (filled in by the method throwing the exception). "
   ]
  },
  {
   "attachments": {},
   "cell_type": "markdown",
   "metadata": {
    "dotnet_interactive": {
     "language": "csharp"
    },
    "polyglot_notebook": {
     "kernelName": "csharp"
    }
   },
   "source": [
    "<br>"
   ]
  },
  {
   "attachments": {},
   "cell_type": "markdown",
   "metadata": {
    "dotnet_interactive": {
     "language": "csharp"
    },
    "polyglot_notebook": {
     "kernelName": "csharp"
    }
   },
   "source": [
    "#### Nested `Exception`s"
   ]
  },
  {
   "attachments": {},
   "cell_type": "markdown",
   "metadata": {
    "dotnet_interactive": {
     "language": "csharp"
    },
    "polyglot_notebook": {
     "kernelName": "csharp"
    }
   },
   "source": [
    "  \n",
    "Every `Exception` could have a **nested exception**, also sometimes called an **inner exception**, **wrapped exception**, or **internal exception**.   \n",
    "   \n",
    "The ability to wrap an exception with another exception is very useful in some cases and allows exceptions to be linked in the so called **exception chain**."
   ]
  },
  {
   "attachments": {},
   "cell_type": "markdown",
   "metadata": {
    "dotnet_interactive": {
     "language": "csharp"
    },
    "polyglot_notebook": {
     "kernelName": "csharp"
    }
   },
   "source": [
    "<br>"
   ]
  },
  {
   "cell_type": "code",
   "execution_count": 1,
   "metadata": {
    "dotnet_interactive": {
     "language": "csharp"
    },
    "polyglot_notebook": {
     "kernelName": "csharp"
    },
    "vscode": {
     "languageId": "polyglot-notebook"
    }
   },
   "outputs": [],
   "source": [
    "// provides the TextReader and StreamReader clasees\n",
    "using System.IO;"
   ]
  },
  {
   "attachments": {},
   "cell_type": "markdown",
   "metadata": {
    "dotnet_interactive": {
     "language": "csharp"
    },
    "polyglot_notebook": {
     "kernelName": "csharp"
    }
   },
   "source": [
    "<br>"
   ]
  },
  {
   "attachments": {},
   "cell_type": "markdown",
   "metadata": {
    "dotnet_interactive": {
     "language": "csharp"
    },
    "polyglot_notebook": {
     "kernelName": "csharp"
    }
   },
   "source": [
    "Let's suppose we have a **software component** (let’s call it **Component** **A**):   "
   ]
  },
  {
   "cell_type": "code",
   "execution_count": 2,
   "metadata": {
    "dotnet_interactive": {
     "language": "csharp"
    },
    "polyglot_notebook": {
     "kernelName": "csharp"
    },
    "vscode": {
     "languageId": "polyglot-notebook"
    }
   },
   "outputs": [],
   "source": [
    "public void ComponentA( string badFileName )\n",
    "{ \n",
    "\n",
    "    // Code that potentially results in an Exception \n",
    "\n",
    "    TextReader reader = new StreamReader( badFileName ); \n",
    "    string line = reader.ReadLine(); \n",
    "    Console.WriteLine(line); \n",
    "    reader.Close();\n",
    "\n",
    "}"
   ]
  },
  {
   "attachments": {},
   "cell_type": "markdown",
   "metadata": {
    "dotnet_interactive": {
     "language": "csharp"
    },
    "polyglot_notebook": {
     "kernelName": "csharp"
    }
   },
   "source": [
    "<br>"
   ]
  },
  {
   "attachments": {},
   "cell_type": "markdown",
   "metadata": {
    "dotnet_interactive": {
     "language": "csharp"
    },
    "polyglot_notebook": {
     "kernelName": "csharp"
    }
   },
   "source": [
    "This **Component A**, above,  is then internally used by another **component** (called **Component** **B**). "
   ]
  },
  {
   "cell_type": "code",
   "execution_count": 3,
   "metadata": {
    "dotnet_interactive": {
     "language": "csharp"
    },
    "polyglot_notebook": {
     "kernelName": "csharp"
    },
    "vscode": {
     "languageId": "polyglot-notebook"
    }
   },
   "outputs": [],
   "source": [
    "public void ComponentB( )\n",
    "{ \n",
    "\n",
    "    // A Bad File Name, with which we intend to test\n",
    "    // how our program will respond to unexpected inputs:\n",
    "    string badFileName = \"1 will definately%20cause an Exception.pdffff\";\n",
    "\n",
    "\n",
    "    // Add code within the try block that potentially results in an Exception \n",
    "    try \n",
    "    {\n",
    "        ComponentA( badFileName );\n",
    "    }\n",
    "\n",
    "\n",
    "    // Implement our own handler for the  FileNotFoundException\n",
    "    // which prints out a meessage explaining the issue and saves the \n",
    "    // Stack Trace  in a variable for later reference \n",
    "    catch( Exception e )\n",
    "    {\n",
    "        Console.WriteLine( \n",
    "            $\"Oh SNAP! Here's what went wrong in Component B:\\n{ e }\" \n",
    "        );\n",
    "    }\n",
    "    \n",
    "}"
   ]
  },
  {
   "attachments": {},
   "cell_type": "markdown",
   "metadata": {
    "dotnet_interactive": {
     "language": "csharp"
    },
    "polyglot_notebook": {
     "kernelName": "csharp"
    }
   },
   "source": [
    "<br>"
   ]
  },
  {
   "attachments": {},
   "cell_type": "markdown",
   "metadata": {
    "dotnet_interactive": {
     "language": "csharp"
    },
    "polyglot_notebook": {
     "kernelName": "csharp"
    }
   },
   "source": [
    "When **B** throws a **B** **exception** (an **exception** defined in **B**),   \n",
    "**A** will have to *propagate the error*, since it will interfere with any subsequent handler operations.   "
   ]
  },
  {
   "cell_type": "code",
   "execution_count": 4,
   "metadata": {
    "dotnet_interactive": {
     "language": "csharp"
    },
    "polyglot_notebook": {
     "kernelName": "csharp"
    },
    "vscode": {
     "languageId": "polyglot-notebook"
    }
   },
   "outputs": [
    {
     "name": "stdout",
     "output_type": "stream",
     "text": [
      "Oh SNAP! Here's what went wrong in Component B:\n",
      "System.IO.FileNotFoundException: Could not find file 'c:\\Users\\harry\\Dev\\projects\\Notes On C-Sharp\\12. Exception Handling\\1 will definately%20cause an Exception.pdffff'.\r\n",
      "File name: 'c:\\Users\\harry\\Dev\\projects\\Notes On C-Sharp\\12. Exception Handling\\1 will definately%20cause an Exception.pdffff'\r\n",
      "   at Microsoft.Win32.SafeHandles.SafeFileHandle.CreateFile(String fullPath, FileMode mode, FileAccess access, FileShare share, FileOptions options)\r\n",
      "   at Microsoft.Win32.SafeHandles.SafeFileHandle.Open(String fullPath, FileMode mode, FileAccess access, FileShare share, FileOptions options, Int64 preallocationSize, Nullable`1 unixCreateMode)\r\n",
      "   at System.IO.Strategies.OSFileStreamStrategy..ctor(String path, FileMode mode, FileAccess access, FileShare share, FileOptions options, Int64 preallocationSize, Nullable`1 unixCreateMode)\r\n",
      "   at System.IO.Strategies.FileStreamHelpers.ChooseStrategyCore(String path, FileMode mode, FileAccess access, FileShare share, FileOptions options, Int64 preallocationSize, Nullable`1 unixCreateMode)\r\n",
      "   at System.IO.StreamReader.ValidateArgsAndOpenPath(String path, Encoding encoding, Int32 bufferSize)\r\n",
      "   at System.IO.StreamReader..ctor(String path)\r\n",
      "   at Submission#3.ComponentA(String badFileName)\r\n",
      "   at Submission#4.ComponentB()\r\n"
     ]
    }
   ],
   "source": [
    "ComponentB();"
   ]
  },
  {
   "attachments": {},
   "cell_type": "markdown",
   "metadata": {
    "dotnet_interactive": {
     "language": "csharp"
    },
    "polyglot_notebook": {
     "kernelName": "csharp"
    }
   },
   "source": [
    "Because **B** cannot simply throw an **A**-**exception**,    \n",
    "it must throw an **B**-**exception** *containing* the **A**-**exception** as a **nested** **exception**."
   ]
  },
  {
   "attachments": {},
   "cell_type": "markdown",
   "metadata": {
    "dotnet_interactive": {
     "language": "csharp"
    },
    "polyglot_notebook": {
     "kernelName": "csharp"
    }
   },
   "source": [
    "<br>"
   ]
  },
  {
   "attachments": {},
   "cell_type": "markdown",
   "metadata": {
    "dotnet_interactive": {
     "language": "csharp"
    },
    "polyglot_notebook": {
     "kernelName": "csharp"
    }
   },
   "source": [
    "### Which Exceptions to Handle and Which Not?"
   ]
  },
  {
   "attachments": {},
   "cell_type": "markdown",
   "metadata": {
    "dotnet_interactive": {
     "language": "csharp"
    },
    "polyglot_notebook": {
     "kernelName": "csharp"
    }
   },
   "source": [
    "There is *one universal rule* regarding **exception handling**:"
   ]
  },
  {
   "attachments": {},
   "cell_type": "markdown",
   "metadata": {
    "dotnet_interactive": {
     "language": "csharp"
    },
    "polyglot_notebook": {
     "kernelName": "csharp"
    }
   },
   "source": [
    "> A method should only handle exceptions which it expects and which it knows how to process.<br>All the other exceptions must be left to the calling method."
   ]
  },
  {
   "attachments": {},
   "cell_type": "markdown",
   "metadata": {
    "dotnet_interactive": {
     "language": "csharp"
    },
    "polyglot_notebook": {
     "kernelName": "csharp"
    }
   },
   "source": [
    "If we follow this rule and eventually we reach the `Main()` method (or the starting method of the respective thread of execution), if the exception is not yet caught, then the $CLR$ itself will display the error."
   ]
  },
  {
   "attachments": {},
   "cell_type": "markdown",
   "metadata": {
    "dotnet_interactive": {
     "language": "csharp"
    },
    "polyglot_notebook": {
     "kernelName": "csharp"
    }
   },
   "source": [
    "A method is considered as *competent to handle an **exception*** if it *expects* this **exception**, and it has the information *why the **exception** has been thrown* and *what to do* in this situation.    \n",
    "   \n",
    "If we have a method that must *read a text file* and return its contents as a string, that method might catch `FileNotFoundException` and return an empty string in this case.   \n",
    "   \n",
    "Still, this same method will hardly be able to correctly handle `OutOfMemoryException`.   \n",
    "   \n",
    "What should the method do in case of insufficient memory? Return an empty string? Throw some other exception? Do something completely different? \n",
    "   \n",
    "So apparently the method is not competent to handle such exception and thus the best way is to pass the exception up to the calling method so it could (hopefully) be handled at some other level by a method competent to do it. \n",
    "   \n",
    "Using this simple philosophy allows exception handling to be done in a structured and systematic way."
   ]
  },
  {
   "attachments": {},
   "cell_type": "markdown",
   "metadata": {
    "dotnet_interactive": {
     "language": "csharp"
    },
    "polyglot_notebook": {
     "kernelName": "csharp"
    }
   },
   "source": [
    "<br>"
   ]
  },
  {
   "attachments": {},
   "cell_type": "markdown",
   "metadata": {
    "dotnet_interactive": {
     "language": "csharp"
    },
    "polyglot_notebook": {
     "kernelName": "csharp"
    }
   },
   "source": [
    "### The `try`-`finally` Construct"
   ]
  },
  {
   "attachments": {},
   "cell_type": "markdown",
   "metadata": {
    "dotnet_interactive": {
     "language": "csharp"
    },
    "polyglot_notebook": {
     "kernelName": "csharp"
    }
   },
   "source": [
    "Every `try` **block** could contain a subsequent `finally` **block**. \n",
    "   \n",
    "The code within the `finally` **block** is *always executed*, no matter how the program flow leaves the `try` **block**.    \n",
    "   \n",
    "This guarantees that the `finally` **block** will be executed even if an exception is thrown or a return statement is executed within the `try` **block**."
   ]
  },
  {
   "attachments": {},
   "cell_type": "markdown",
   "metadata": {
    "dotnet_interactive": {
     "language": "csharp"
    },
    "polyglot_notebook": {
     "kernelName": "csharp"
    }
   },
   "source": [
    "<br>"
   ]
  },
  {
   "attachments": {},
   "cell_type": "markdown",
   "metadata": {
    "dotnet_interactive": {
     "language": "csharp"
    },
    "polyglot_notebook": {
     "kernelName": "csharp"
    }
   },
   "source": [
    "The basic form of the `finally` **block** is given as follows:\n",
    "```c#\n",
    "try\n",
    "{\n",
    "    // Some code that could potentially cause an exception\n",
    "}\n",
    "\n",
    "finally\n",
    "{\n",
    "    // Some code that will execute no matter if an exception occurs or not.\n",
    "}\n",
    "```"
   ]
  },
  {
   "attachments": {},
   "cell_type": "markdown",
   "metadata": {
    "dotnet_interactive": {
     "language": "csharp"
    },
    "polyglot_notebook": {
     "kernelName": "csharp"
    }
   },
   "source": [
    "<br>"
   ]
  },
  {
   "attachments": {},
   "cell_type": "markdown",
   "metadata": {
    "dotnet_interactive": {
     "language": "csharp"
    },
    "polyglot_notebook": {
     "kernelName": "csharp"
    }
   },
   "source": [
    "Every `try` **block** may have zero or more `catch` **block**s and at most one `finally` **block**.    \n",
    "It is possible to have multiple `catch` **block**s and a `finally` **block** in the same `try`-`catch`-`finally` construct:"
   ]
  },
  {
   "attachments": {},
   "cell_type": "markdown",
   "metadata": {
    "dotnet_interactive": {
     "language": "csharp"
    },
    "polyglot_notebook": {
     "kernelName": "csharp"
    }
   },
   "source": [
    "```c#\n",
    "try\n",
    "{\n",
    "    // Some code that could potentially cause an exception\n",
    "}\n",
    "\n",
    "catch ( Exception someException ) \n",
    "{\n",
    "    // Some code handling some exception\n",
    "}\n",
    "\n",
    "catch ( Exception someOtherException ) \n",
    "{\n",
    "    // Some code handling some other exception\n",
    "}\n",
    "\n",
    "finally\n",
    "{\n",
    "    // Some code that will execute no matter if an exception occurs or not.\n",
    "}\n",
    "```"
   ]
  },
  {
   "attachments": {},
   "cell_type": "markdown",
   "metadata": {
    "dotnet_interactive": {
     "language": "csharp"
    },
    "polyglot_notebook": {
     "kernelName": "csharp"
    }
   },
   "source": [
    "<br>"
   ]
  },
  {
   "attachments": {},
   "cell_type": "markdown",
   "metadata": {
    "dotnet_interactive": {
     "language": "csharp"
    },
    "polyglot_notebook": {
     "kernelName": "csharp"
    }
   },
   "source": [
    "#### When Should We Use `try`-`finally`?"
   ]
  },
  {
   "attachments": {},
   "cell_type": "markdown",
   "metadata": {
    "dotnet_interactive": {
     "language": "csharp"
    },
    "polyglot_notebook": {
     "kernelName": "csharp"
    }
   },
   "source": [
    "There's many cases when we have to work with $external\\,resources$ for our programs.      \n",
    "Examples for $external\\,resources$ include: \n",
    "- *files*\n",
    "- *network connections*\n",
    "- *graphical elements*\n",
    "- *pipes* and *streams to or from different hardware devices*\n",
    "  - *printers*\n",
    "  - *card readers*   \n",
    " \n",
    "When we deal with such $external\\,resource$, it is critically important to **free up the resources** as early as possible when the resource is no longer needed.   \n",
    "\n",
    "For example, when we *open a file to read its contents* (let’s say to load a JPG image), we must **close the file** right after we have read the contents.    \n",
    "   \n",
    "If we leave the file open, the operating system will prevent other users and applications to make certain operations on the file. Perhaps you faced such a situation when you could not delete some directory or a file because it is being used by a running process.   \n",
    "                      \n",
    "The `finally` **block** is priceless when we need to **free an external resource** or **make any other cleanup**.    \n",
    "   \n",
    "The `finally` **block** guarantees that the **cleanup operations** will not be accidentally skipped because of an unexpected exception or because of execution of `return`, `continue` or `break` statements.    "
   ]
  },
  {
   "attachments": {},
   "cell_type": "markdown",
   "metadata": {
    "dotnet_interactive": {
     "language": "csharp"
    },
    "polyglot_notebook": {
     "kernelName": "csharp"
    }
   },
   "source": [
    "<br>"
   ]
  },
  {
   "attachments": {},
   "cell_type": "markdown",
   "metadata": {
    "dotnet_interactive": {
     "language": "csharp"
    },
    "polyglot_notebook": {
     "kernelName": "csharp"
    }
   },
   "source": [
    "#####  Resource Cleanup – Defining the Problem"
   ]
  },
  {
   "attachments": {},
   "cell_type": "markdown",
   "metadata": {
    "dotnet_interactive": {
     "language": "csharp"
    },
    "polyglot_notebook": {
     "kernelName": "csharp"
    }
   },
   "source": [
    "Because proper **resource management** is an important concept in programming, we will look at it in some more details."
   ]
  },
  {
   "attachments": {},
   "cell_type": "markdown",
   "metadata": {
    "dotnet_interactive": {
     "language": "csharp"
    },
    "polyglot_notebook": {
     "kernelName": "csharp"
    }
   },
   "source": [
    "In the above example, when we wanted to **read a file**, we exectuted the following code *to create an instance of the* `StreamReader()` *class*, which enable us to will *store the data taken in from the reader*, and then subsequently *close the data stream*."
   ]
  },
  {
   "attachments": {},
   "cell_type": "markdown",
   "metadata": {
    "dotnet_interactive": {
     "language": "csharp"
    },
    "polyglot_notebook": {
     "kernelName": "csharp"
    }
   },
   "source": [
    "Recall that we implemented the example above as follows:"
   ]
  },
  {
   "attachments": {},
   "cell_type": "markdown",
   "metadata": {
    "dotnet_interactive": {
     "language": "csharp"
    },
    "polyglot_notebook": {
     "kernelName": "csharp"
    }
   },
   "source": [
    "```c#\n",
    "public void ComponentA( string badFileName )\n",
    "{ \n",
    "\n",
    "    // Code that potentially results in an Exception \n",
    "\n",
    "    TextReader reader = new StreamReader( badFileName ); \n",
    "    string line = reader.ReadLine(); \n",
    "    Console.WriteLine(line); \n",
    "    reader.Close();\n",
    "\n",
    "}\n",
    "```"
   ]
  },
  {
   "attachments": {},
   "cell_type": "markdown",
   "metadata": {
    "dotnet_interactive": {
     "language": "csharp"
    },
    "polyglot_notebook": {
     "kernelName": "csharp"
    }
   },
   "source": [
    "So **what is the problem with this code?**,   \n",
    "Well, what the code is supposed to *do* is: \n",
    "1. *Open* up a file reader\n",
    "2. *Read* the data\n",
    "3. *Close* the reader before the method returns. "
   ]
  },
  {
   "attachments": {},
   "cell_type": "markdown",
   "metadata": {
    "dotnet_interactive": {
     "language": "csharp"
    },
    "polyglot_notebook": {
     "kernelName": "csharp"
    }
   },
   "source": [
    "The issue is that, potentially, the method could finish in one of several ways: \n",
    "- An exception could be thrown when the reader is initialized (say if the file is missing).\n",
    "- During reading the file, an exception could arise (imagine a file on a remote network device which goes offline during file reading)."
   ]
  },
  {
   "attachments": {},
   "cell_type": "markdown",
   "metadata": {
    "dotnet_interactive": {
     "language": "csharp"
    },
    "polyglot_notebook": {
     "kernelName": "csharp"
    }
   },
   "source": [
    "<br>"
   ]
  },
  {
   "attachments": {},
   "cell_type": "markdown",
   "metadata": {
    "dotnet_interactive": {
     "language": "csharp"
    },
    "polyglot_notebook": {
     "kernelName": "csharp"
    }
   },
   "source": [
    "#####  Resource Cleanup – Solving the Problem"
   ]
  },
  {
   "attachments": {},
   "cell_type": "markdown",
   "metadata": {
    "dotnet_interactive": {
     "language": "csharp"
    },
    "polyglot_notebook": {
     "kernelName": "csharp"
    }
   },
   "source": [
    "So now that we are aware of the inherent flaw of the plain old $Open \\Rrightarrow Read \\Rrightarrow Close$ approach,   \n",
    "how can we go about solving the problem?  "
   ]
  },
  {
   "attachments": {},
   "cell_type": "markdown",
   "metadata": {
    "dotnet_interactive": {
     "language": "csharp"
    },
    "polyglot_notebook": {
     "kernelName": "csharp"
    }
   },
   "source": [
    "This is actually a conerstone use case for the `try`-`finally` constuct:"
   ]
  },
  {
   "cell_type": "code",
   "execution_count": null,
   "metadata": {
    "dotnet_interactive": {
     "language": "csharp"
    },
    "polyglot_notebook": {
     "kernelName": "csharp"
    },
    "vscode": {
     "languageId": "polyglot-notebook"
    }
   },
   "outputs": [],
   "source": [
    "void ProperlyErrorHandled( string potentiallyBadFilename )\n",
    "{\n",
    "    \n",
    "    // Represents a reader that can read a sequential series of characters,\n",
    "    // initialized as a null value\n",
    "    TextReader reader = null;\n",
    "\n",
    "\n",
    "    // Execute code that will potentially throw an exeption\n",
    "    try\n",
    "    {\n",
    "        reader = new StreamReader( potentiallyBadFilename );\n",
    "        string line = reader.ReadLine();\n",
    "        Console.WriteLine( line );\n",
    "    }\n",
    "\n",
    "\n",
    "    // This will execute no matter if the code\n",
    "    // in the try block causes an exception or not\n",
    "    finally\n",
    "    {\n",
    "        if( reader != null )\n",
    "            reader.Close();\n",
    "    }\n",
    "}"
   ]
  }
 ],
 "metadata": {
  "kernelspec": {
   "display_name": ".NET (C#)",
   "language": "C#",
   "name": ".net-csharp"
  },
  "polyglot_notebook": {
   "kernelInfo": {
    "defaultKernelName": "csharp",
    "items": [
     {
      "aliases": [],
      "name": "csharp"
     }
    ]
   }
  }
 },
 "nbformat": 4,
 "nbformat_minor": 2
}
