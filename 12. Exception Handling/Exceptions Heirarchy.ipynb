{
 "cells": [
  {
   "attachments": {},
   "cell_type": "markdown",
   "metadata": {
    "dotnet_interactive": {
     "language": "csharp"
    },
    "polyglot_notebook": {
     "kernelName": "csharp"
    }
   },
   "source": [
    "# 12. Exception Handling"
   ]
  },
  {
   "attachments": {},
   "cell_type": "markdown",
   "metadata": {
    "dotnet_interactive": {
     "language": "csharp"
    },
    "polyglot_notebook": {
     "kernelName": "csharp"
    }
   },
   "source": [
    "## Exceptions Hierarchy\n",
    "---"
   ]
  },
  {
   "attachments": {},
   "cell_type": "markdown",
   "metadata": {
    "dotnet_interactive": {
     "language": "csharp"
    },
    "polyglot_notebook": {
     "kernelName": "csharp"
    }
   },
   "source": [
    "There are **two types of exceptions** in $.NET\\,\\,Framework$: \n",
    "1. `ApplicationException` - exceptions thrown by the *applications* we develop which are defined by application developers and are used by the application software. \n",
    "2. `SystemException` - exceptions thrown by the *runtime* which are defined in $.NET$ libraries and are used by the framework.  \n",
    "   \n",
    "Each of these is a **base class** within a **hierarchy of `Exception` classes**:"
   ]
  },
  {
   "attachments": {},
   "cell_type": "markdown",
   "metadata": {
    "dotnet_interactive": {
     "language": "csharp"
    },
    "polyglot_notebook": {
     "kernelName": "csharp"
    }
   },
   "source": [
    "<img src = \"_img/ExceptionHeirarchy.jpg\" style=\"display: block; margin: auto;\"/>"
   ]
  },
  {
   "attachments": {},
   "cell_type": "markdown",
   "metadata": {
    "dotnet_interactive": {
     "language": "csharp"
    },
    "polyglot_notebook": {
     "kernelName": "csharp"
    }
   },
   "source": [
    "<br>"
   ]
  },
  {
   "attachments": {},
   "cell_type": "markdown",
   "metadata": {
    "dotnet_interactive": {
     "language": "csharp"
    },
    "polyglot_notebook": {
     "kernelName": "csharp"
    }
   },
   "source": [
    "### The `Exception` Class"
   ]
  },
  {
   "attachments": {},
   "cell_type": "markdown",
   "metadata": {
    "dotnet_interactive": {
     "language": "csharp"
    },
    "polyglot_notebook": {
     "kernelName": "csharp"
    }
   },
   "source": [
    "In $.NET\\,\\,Framework$, `Exception` is the **base class for all exceptions**.    \n",
    "\n",
    "Several classes inherit directly from it, including `ApplicationException` and `SystemException`.    \n",
    "   \n",
    "These two classes are base classes for almost all exceptions that occur during the program execution.   \n",
    "   \n",
    "The `Exception` class contains a copy of the call-stack at the time the exception instance was created. The class also has a (usually) short message describing the error (filled in by the method throwing the exception). "
   ]
  },
  {
   "attachments": {},
   "cell_type": "markdown",
   "metadata": {
    "dotnet_interactive": {
     "language": "csharp"
    },
    "polyglot_notebook": {
     "kernelName": "csharp"
    }
   },
   "source": [
    "<br>"
   ]
  },
  {
   "attachments": {},
   "cell_type": "markdown",
   "metadata": {
    "dotnet_interactive": {
     "language": "csharp"
    },
    "polyglot_notebook": {
     "kernelName": "csharp"
    }
   },
   "source": [
    "#### Nested `Exception`s"
   ]
  },
  {
   "attachments": {},
   "cell_type": "markdown",
   "metadata": {
    "dotnet_interactive": {
     "language": "csharp"
    },
    "polyglot_notebook": {
     "kernelName": "csharp"
    }
   },
   "source": [
    "  \n",
    "Every `Exception` could have a **nested exception**, also sometimes called an **inner exception**, **wrapped exception**, or **internal exception**.   \n",
    "   \n",
    "The ability to wrap an exception with another exception is very useful in some cases and allows exceptions to be linked in the so called **exception chain**."
   ]
  },
  {
   "attachments": {},
   "cell_type": "markdown",
   "metadata": {
    "dotnet_interactive": {
     "language": "csharp"
    },
    "polyglot_notebook": {
     "kernelName": "csharp"
    }
   },
   "source": [
    "<br>"
   ]
  },
  {
   "cell_type": "code",
   "execution_count": 1,
   "metadata": {
    "dotnet_interactive": {
     "language": "csharp"
    },
    "polyglot_notebook": {
     "kernelName": "csharp"
    },
    "vscode": {
     "languageId": "polyglot-notebook"
    }
   },
   "outputs": [],
   "source": [
    "// provides the TextReader and StreamReader clasees\n",
    "using System.IO;"
   ]
  },
  {
   "attachments": {},
   "cell_type": "markdown",
   "metadata": {
    "dotnet_interactive": {
     "language": "csharp"
    },
    "polyglot_notebook": {
     "kernelName": "csharp"
    }
   },
   "source": [
    "<br>"
   ]
  },
  {
   "attachments": {},
   "cell_type": "markdown",
   "metadata": {
    "dotnet_interactive": {
     "language": "csharp"
    },
    "polyglot_notebook": {
     "kernelName": "csharp"
    }
   },
   "source": [
    "Let's suppose we have a **software component** (let’s call it **Component** **A**):   "
   ]
  },
  {
   "cell_type": "code",
   "execution_count": 2,
   "metadata": {
    "dotnet_interactive": {
     "language": "csharp"
    },
    "polyglot_notebook": {
     "kernelName": "csharp"
    },
    "vscode": {
     "languageId": "polyglot-notebook"
    }
   },
   "outputs": [],
   "source": [
    "public void ComponentA( string badFileName )\n",
    "{ \n",
    "\n",
    "    // Code that potentially results in an Exception \n",
    "\n",
    "    TextReader reader = new StreamReader( badFileName ); \n",
    "    string line = reader.ReadLine(); \n",
    "    Console.WriteLine(line); \n",
    "    reader.Close();\n",
    "\n",
    "}"
   ]
  },
  {
   "attachments": {},
   "cell_type": "markdown",
   "metadata": {
    "dotnet_interactive": {
     "language": "csharp"
    },
    "polyglot_notebook": {
     "kernelName": "csharp"
    }
   },
   "source": [
    "<br>"
   ]
  },
  {
   "attachments": {},
   "cell_type": "markdown",
   "metadata": {
    "dotnet_interactive": {
     "language": "csharp"
    },
    "polyglot_notebook": {
     "kernelName": "csharp"
    }
   },
   "source": [
    "This **Component A**, above,  is then internally used by another **component** (called **Component** **B**). "
   ]
  },
  {
   "cell_type": "code",
   "execution_count": 3,
   "metadata": {
    "dotnet_interactive": {
     "language": "csharp"
    },
    "polyglot_notebook": {
     "kernelName": "csharp"
    },
    "vscode": {
     "languageId": "polyglot-notebook"
    }
   },
   "outputs": [],
   "source": [
    "public void ComponentB( )\n",
    "{ \n",
    "\n",
    "    // A Bad File Name, with which we intend to test\n",
    "    // how our program will respond to unexpected inputs:\n",
    "    string badFileName = \"1 will definately%20cause an Exception.pdffff\";\n",
    "\n",
    "\n",
    "    // Add code within the try block that potentially results in an Exception \n",
    "    try \n",
    "    {\n",
    "        ComponentA( badFileName );\n",
    "    }\n",
    "\n",
    "\n",
    "    // Implement our own handler for the  FileNotFoundException\n",
    "    // which prints out a meessage explaining the issue and saves the \n",
    "    // Stack Trace  in a variable for later reference \n",
    "    catch( Exception e )\n",
    "    {\n",
    "        Console.WriteLine( \n",
    "            $\"Oh SNAP! Here's what went wrong in Component B:\\n{ e }\" \n",
    "        );\n",
    "    }\n",
    "    \n",
    "}"
   ]
  },
  {
   "attachments": {},
   "cell_type": "markdown",
   "metadata": {
    "dotnet_interactive": {
     "language": "csharp"
    },
    "polyglot_notebook": {
     "kernelName": "csharp"
    }
   },
   "source": [
    "<br>"
   ]
  },
  {
   "attachments": {},
   "cell_type": "markdown",
   "metadata": {
    "dotnet_interactive": {
     "language": "csharp"
    },
    "polyglot_notebook": {
     "kernelName": "csharp"
    }
   },
   "source": [
    "When **B** throws a **B** **exception** (an **exception** defined in **B**),   \n",
    "**A** will have to *propagate the error*, since it will interfere with any subsequent handler operations.   "
   ]
  },
  {
   "cell_type": "code",
   "execution_count": 4,
   "metadata": {
    "dotnet_interactive": {
     "language": "csharp"
    },
    "polyglot_notebook": {
     "kernelName": "csharp"
    },
    "vscode": {
     "languageId": "polyglot-notebook"
    }
   },
   "outputs": [
    {
     "name": "stdout",
     "output_type": "stream",
     "text": [
      "Oh SNAP! Here's what went wrong in Component B:\n",
      "System.IO.FileNotFoundException: Could not find file 'c:\\Users\\harry\\Dev\\projects\\Notes On C-Sharp\\12. Exception Handling\\1 will definately%20cause an Exception.pdffff'.\r\n",
      "File name: 'c:\\Users\\harry\\Dev\\projects\\Notes On C-Sharp\\12. Exception Handling\\1 will definately%20cause an Exception.pdffff'\r\n",
      "   at Microsoft.Win32.SafeHandles.SafeFileHandle.CreateFile(String fullPath, FileMode mode, FileAccess access, FileShare share, FileOptions options)\r\n",
      "   at Microsoft.Win32.SafeHandles.SafeFileHandle.Open(String fullPath, FileMode mode, FileAccess access, FileShare share, FileOptions options, Int64 preallocationSize, Nullable`1 unixCreateMode)\r\n",
      "   at System.IO.Strategies.OSFileStreamStrategy..ctor(String path, FileMode mode, FileAccess access, FileShare share, FileOptions options, Int64 preallocationSize, Nullable`1 unixCreateMode)\r\n",
      "   at System.IO.Strategies.FileStreamHelpers.ChooseStrategyCore(String path, FileMode mode, FileAccess access, FileShare share, FileOptions options, Int64 preallocationSize, Nullable`1 unixCreateMode)\r\n",
      "   at System.IO.StreamReader.ValidateArgsAndOpenPath(String path, Encoding encoding, Int32 bufferSize)\r\n",
      "   at System.IO.StreamReader..ctor(String path)\r\n",
      "   at Submission#3.ComponentA(String badFileName)\r\n",
      "   at Submission#4.ComponentB()\r\n"
     ]
    }
   ],
   "source": [
    "ComponentB();"
   ]
  },
  {
   "attachments": {},
   "cell_type": "markdown",
   "metadata": {
    "dotnet_interactive": {
     "language": "csharp"
    },
    "polyglot_notebook": {
     "kernelName": "csharp"
    }
   },
   "source": [
    "Because **B** cannot simply throw an **A**-**exception**,    \n",
    "it must throw an **B**-**exception** *containing* the **A**-**exception** as a **nested** **exception**."
   ]
  },
  {
   "attachments": {},
   "cell_type": "markdown",
   "metadata": {
    "dotnet_interactive": {
     "language": "csharp"
    },
    "polyglot_notebook": {
     "kernelName": "csharp"
    }
   },
   "source": [
    "<br>"
   ]
  },
  {
   "attachments": {},
   "cell_type": "markdown",
   "metadata": {
    "dotnet_interactive": {
     "language": "csharp"
    },
    "polyglot_notebook": {
     "kernelName": "csharp"
    }
   },
   "source": [
    "### Which Exceptions to Handle and Which Not?"
   ]
  },
  {
   "attachments": {},
   "cell_type": "markdown",
   "metadata": {
    "dotnet_interactive": {
     "language": "csharp"
    },
    "polyglot_notebook": {
     "kernelName": "csharp"
    }
   },
   "source": [
    "There is *one universal rule* regarding **exception handling**:"
   ]
  },
  {
   "attachments": {},
   "cell_type": "markdown",
   "metadata": {
    "dotnet_interactive": {
     "language": "csharp"
    },
    "polyglot_notebook": {
     "kernelName": "csharp"
    }
   },
   "source": [
    "> A method should only handle exceptions which it expects and which it knows how to process.<br>All the other exceptions must be left to the calling method."
   ]
  },
  {
   "attachments": {},
   "cell_type": "markdown",
   "metadata": {
    "dotnet_interactive": {
     "language": "csharp"
    },
    "polyglot_notebook": {
     "kernelName": "csharp"
    }
   },
   "source": [
    "If we follow this rule and eventually we reach the `Main()` method (or the starting method of the respective thread of execution), if the exception is not yet caught, then the $CLR$ itself will display the error."
   ]
  },
  {
   "attachments": {},
   "cell_type": "markdown",
   "metadata": {
    "dotnet_interactive": {
     "language": "csharp"
    },
    "polyglot_notebook": {
     "kernelName": "csharp"
    }
   },
   "source": [
    "A method is considered as *competent to handle an **exception*** if it *expects* this **exception**, and it has the information *why the **exception** has been thrown* and *what to do* in this situation.    \n",
    "   \n",
    "If we have a method that must *read a text file* and return its contents as a string, that method might catch `FileNotFoundException` and return an empty string in this case.   \n",
    "   \n",
    "Still, this same method will hardly be able to correctly handle `OutOfMemoryException`.   \n",
    "   \n",
    "What should the method do in case of insufficient memory? Return an empty string? Throw some other exception? Do something completely different? \n",
    "   \n",
    "So apparently the method is not competent to handle such exception and thus the best way is to pass the exception up to the calling method so it could (hopefully) be handled at some other level by a method competent to do it. \n",
    "   \n",
    "Using this simple philosophy allows exception handling to be done in a structured and systematic way."
   ]
  },
  {
   "attachments": {},
   "cell_type": "markdown",
   "metadata": {
    "dotnet_interactive": {
     "language": "csharp"
    },
    "polyglot_notebook": {
     "kernelName": "csharp"
    }
   },
   "source": [
    "<br>"
   ]
  },
  {
   "attachments": {},
   "cell_type": "markdown",
   "metadata": {
    "dotnet_interactive": {
     "language": "csharp"
    },
    "polyglot_notebook": {
     "kernelName": "csharp"
    }
   },
   "source": [
    "### The `try`-`finally` Construct"
   ]
  }
 ],
 "metadata": {
  "kernelspec": {
   "display_name": ".NET (C#)",
   "language": "C#",
   "name": ".net-csharp"
  },
  "polyglot_notebook": {
   "kernelInfo": {
    "defaultKernelName": "csharp",
    "items": [
     {
      "aliases": [],
      "name": "csharp"
     }
    ]
   }
  }
 },
 "nbformat": 4,
 "nbformat_minor": 2
}
