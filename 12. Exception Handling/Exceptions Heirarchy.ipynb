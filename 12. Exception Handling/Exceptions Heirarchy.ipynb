{
 "cells": [
  {
   "attachments": {},
   "cell_type": "markdown",
   "metadata": {},
   "source": [
    "# 12. Exception Handling"
   ]
  },
  {
   "attachments": {},
   "cell_type": "markdown",
   "metadata": {},
   "source": [
    "## Exceptions Hierarchy\n",
    "---"
   ]
  },
  {
   "attachments": {},
   "cell_type": "markdown",
   "metadata": {
    "dotnet_interactive": {
     "language": "csharp"
    },
    "polyglot_notebook": {
     "kernelName": "csharp"
    }
   },
   "source": [
    "There are **two types of exceptions** in $.NET\\,\\,Framework$: \n",
    "1. `ApplicationException` - exceptions thrown by the *applications* we develop which are defined by application developers and are used by the application software. \n",
    "2. `SystemException` - exceptions thrown by the *runtime* which are defined in $.NET$ libraries and are used by the framework.  \n",
    "   \n",
    "Each of these is a **base class** within a **hierarchy of `Exception` classes**:"
   ]
  },
  {
   "attachments": {},
   "cell_type": "markdown",
   "metadata": {
    "dotnet_interactive": {
     "language": "csharp"
    },
    "polyglot_notebook": {
     "kernelName": "csharp"
    }
   },
   "source": [
    "<img src = \"_img/ExceptionHeirarchy.jpg\" style=\"display: block; margin: auto;\"/>"
   ]
  },
  {
   "attachments": {},
   "cell_type": "markdown",
   "metadata": {
    "dotnet_interactive": {
     "language": "csharp"
    },
    "polyglot_notebook": {
     "kernelName": "csharp"
    }
   },
   "source": [
    "<br>"
   ]
  },
  {
   "attachments": {},
   "cell_type": "markdown",
   "metadata": {
    "dotnet_interactive": {
     "language": "csharp"
    },
    "polyglot_notebook": {
     "kernelName": "csharp"
    }
   },
   "source": [
    "### The `Exception` Class"
   ]
  },
  {
   "attachments": {},
   "cell_type": "markdown",
   "metadata": {
    "dotnet_interactive": {
     "language": "csharp"
    },
    "polyglot_notebook": {
     "kernelName": "csharp"
    }
   },
   "source": [
    "In $.NET\\,\\,Framework$, `Exception` is the **base class for all exceptions**.    \n",
    "\n",
    "Several classes inherit directly from it, including `ApplicationException` and `SystemException`.    \n",
    "   \n",
    "These two classes are base classes for almost all exceptions that occur during the program execution.   \n",
    "   \n",
    "The `Exception` class contains a copy of the call-stack at the time the exception instance was created. The class also has a (usually) short message describing the error (filled in by the method throwing the exception). \n",
    "   \n",
    "Every exception could have a **nested exception** also sometimes called an **inner exception**, **wrapped exception** or **internal exception**.   \n",
    "   \n",
    "The ability to wrap an exception with another exception is very useful in some cases and allows exceptions to be linked in the so called **exception chain**."
   ]
  }
 ],
 "metadata": {
  "kernelspec": {
   "display_name": ".NET (C#)",
   "language": "C#",
   "name": ".net-csharp"
  },
  "polyglot_notebook": {
   "kernelInfo": {
    "defaultKernelName": "csharp",
    "items": [
     {
      "aliases": [],
      "name": "csharp"
     },
     {
      "aliases": [],
      "languageName": null,
      "name": ".NET"
     },
     {
      "aliases": [
       "frontend"
      ],
      "languageName": null,
      "name": "vscode"
     }
    ]
   }
  }
 },
 "nbformat": 4,
 "nbformat_minor": 2
}
