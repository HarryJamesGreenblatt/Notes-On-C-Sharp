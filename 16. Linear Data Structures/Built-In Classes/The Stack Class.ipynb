{
 "cells": [
  {
   "attachments": {},
   "cell_type": "markdown",
   "metadata": {},
   "source": [
    "# 16. Linear Data Stuctures"
   ]
  },
  {
   "attachments": {},
   "cell_type": "markdown",
   "metadata": {
    "dotnet_interactive": {
     "language": "csharp"
    },
    "polyglot_notebook": {
     "kernelName": "csharp"
    }
   },
   "source": [
    "## Built-In Classes\n",
    "### The `Stack<T>` Class\n",
    "---"
   ]
  },
  {
   "attachments": {},
   "cell_type": "markdown",
   "metadata": {
    "dotnet_interactive": {
     "language": "csharp"
    },
    "polyglot_notebook": {
     "kernelName": "csharp"
    }
   },
   "source": [
    "Representing a variable size **last-in-first-out (LIFO)** collection of instances of the same specified type , the [`Stack<T>`](https://learn.microsoft.com/en-us/dotnet/api/system.collections.generic.stack-1?view=net-7.0) class is **implemented as an array**."
   ]
  },
  {
   "attachments": {},
   "cell_type": "markdown",
   "metadata": {
    "dotnet_interactive": {
     "language": "csharp"
    },
    "polyglot_notebook": {
     "kernelName": "csharp"
    }
   },
   "source": [
    "Stacks and queues are useful when you need temporary storage for information; that is, when you might want to discard an element after retrieving its value. Use `Queue<T>` if you need to access the information in the same order that it is stored in the collection. Use `Stack<T>` if you need to access the information in **reverse order**."
   ]
  },
  {
   "attachments": {},
   "cell_type": "markdown",
   "metadata": {
    "dotnet_interactive": {
     "language": "csharp"
    },
    "polyglot_notebook": {
     "kernelName": "csharp"
    }
   },
   "source": [
    "The capacity of a `Stack<T>` is the number of elements the `Stack<T>` can hold.    \n",
    "    \n",
    "As elements are added to a `Stack<T>`, the capacity is automatically increased as required by reallocating the internal array. "
   ]
  },
  {
   "attachments": {},
   "cell_type": "markdown",
   "metadata": {
    "dotnet_interactive": {
     "language": "csharp"
    },
    "polyglot_notebook": {
     "kernelName": "csharp"
    }
   },
   "source": [
    "<br>"
   ]
  },
  {
   "attachments": {},
   "cell_type": "markdown",
   "metadata": {
    "dotnet_interactive": {
     "language": "csharp"
    },
    "polyglot_notebook": {
     "kernelName": "csharp"
    }
   },
   "source": [
    "### Class Definition"
   ]
  },
  {
   "attachments": {},
   "cell_type": "markdown",
   "metadata": {
    "dotnet_interactive": {
     "language": "csharp"
    },
    "polyglot_notebook": {
     "kernelName": "csharp"
    }
   },
   "source": [
    "#### Properties"
   ]
  },
  {
   "attachments": {},
   "cell_type": "markdown",
   "metadata": {
    "dotnet_interactive": {
     "language": "csharp"
    },
    "polyglot_notebook": {
     "kernelName": "csharp"
    }
   },
   "source": [
    "<table class=\"nameValue table table-sm table-stacked-mobile\" aria-label=\"Table 2\">\n",
    "        \t<tbody><tr>\n",
    "\t  <td class=\"is-one-third-width-tablet\">\n",
    "\t<span class=\"break-text\">\n",
    "\t\t<a class=\"xref\" href=\"https://learn.microsoft.com/en-us/dotnet/api/system.collections.generic.stack-1.count?view=net-7.0#system-collections-generic-stack-1-count\" data-linktype=\"relative-path\">Count</a>\n",
    "\t</span>\n",
    "</td>\n",
    "\t<td class=\"summary\"> \n",
    "\t\t<p>Gets the number of elements contained in the <a class=\"no-loc\" href=\"https://learn.microsoft.com/en-us/dotnet/api/system.collections.generic.stack-1?view=net-7.0\" data-linktype=\"relative-path\">Stack&lt;T&gt;</a>.</p>\n",
    "\t</td>\n",
    "        \t</tr>\n",
    "\t</tbody></table>"
   ]
  },
  {
   "attachments": {},
   "cell_type": "markdown",
   "metadata": {
    "dotnet_interactive": {
     "language": "csharp"
    },
    "polyglot_notebook": {
     "kernelName": "csharp"
    }
   },
   "source": [
    "<br>"
   ]
  },
  {
   "attachments": {},
   "cell_type": "markdown",
   "metadata": {
    "dotnet_interactive": {
     "language": "csharp"
    },
    "polyglot_notebook": {
     "kernelName": "csharp"
    }
   },
   "source": [
    "#### Constructors"
   ]
  },
  {
   "attachments": {},
   "cell_type": "markdown",
   "metadata": {
    "dotnet_interactive": {
     "language": "csharp"
    },
    "polyglot_notebook": {
     "kernelName": "csharp"
    }
   },
   "source": [
    "<table class=\"nameValue table table-sm table-stacked-mobile\" aria-label=\"Table 1\">\n",
    "        \t<tbody><tr>\n",
    "\t  <td class=\"is-one-third-width-tablet\">\n",
    "\t<span class=\"break-text\">\n",
    "\t\t<a class=\"xref\" href=\"https://learn.microsoft.com/en-us/dotnet/api/system.collections.generic.stack-1.-ctor?view=net-7.0#system-collections-generic-stack-1-ctor\" data-linktype=\"relative-path\">Stack&lt;T&gt;()</a>\n",
    "\t</span>\n",
    "</td>\n",
    "\t<td class=\"summary\"> \n",
    "\t\t<p>Initializes a new instance of the <a class=\"no-loc\" href=\"https://learn.microsoft.com/en-us/dotnet/api/system.collections.generic.stack-1?view=net-7.0\" data-linktype=\"relative-path\">Stack&lt;T&gt;</a> class that is empty and has the default initial capacity.</p>\n",
    "\t</td>\n",
    "        \t</tr>\n",
    "        \t<tr>\n",
    "\t  <td class=\"is-one-third-width-tablet\">\n",
    "\t<span class=\"break-text\">\n",
    "\t\t<a class=\"xref\" href=\"https://learn.microsoft.com/en-us/dotnet/api/system.collections.generic.stack-1.-ctor?view=net-7.0#system-collections-generic-stack-1-ctor(system-collections-generic-ienumerable((-0)))\" data-linktype=\"relative-path\">Stack&lt;T&gt;(IEnumerable&lt;T&gt;)</a>\n",
    "\t</span>\n",
    "</td>\n",
    "\t<td class=\"summary\"> \n",
    "\t\t<p>Initializes a new instance of the <a class=\"no-loc\" href=\"https://learn.microsoft.com/en-us/dotnet/api/system.collections.generic.stack-1?view=net-7.0\" data-linktype=\"relative-path\">Stack&lt;T&gt;</a> class that contains elements copied from the specified collection and has sufficient capacity to accommodate the number of elements copied.</p>\n",
    "\t</td>\n",
    "        \t</tr>\n",
    "        \t<tr>\n",
    "\t  <td class=\"is-one-third-width-tablet\">\n",
    "\t<span class=\"break-text\">\n",
    "\t\t<a class=\"xref\" href=\"https://learn.microsoft.com/en-us/dotnet/api/system.collections.generic.stack-1.-ctor?view=net-7.0#system-collections-generic-stack-1-ctor(system-int32)\" data-linktype=\"relative-path\">Stack&lt;T&gt;(Int32)</a>\n",
    "\t</span>\n",
    "</td>\n",
    "\t<td class=\"summary\"> \n",
    "\t\t<p>Initializes a new instance of the <a class=\"no-loc\" href=\"https://learn.microsoft.com/en-us/dotnet/api/system.collections.generic.stack-1?view=net-7.0\" data-linktype=\"relative-path\">Stack&lt;T&gt;</a> class that is empty and has the specified initial capacity or the default initial capacity, whichever is greater.</p>\n",
    "\t</td>\n",
    "        \t</tr>\n",
    "\t</tbody></table>"
   ]
  },
  {
   "attachments": {},
   "cell_type": "markdown",
   "metadata": {
    "dotnet_interactive": {
     "language": "csharp"
    },
    "polyglot_notebook": {
     "kernelName": "csharp"
    }
   },
   "source": [
    "<br>"
   ]
  },
  {
   "attachments": {},
   "cell_type": "markdown",
   "metadata": {
    "dotnet_interactive": {
     "language": "csharp"
    },
    "polyglot_notebook": {
     "kernelName": "csharp"
    }
   },
   "source": [
    "#### Methods"
   ]
  },
  {
   "attachments": {},
   "cell_type": "markdown",
   "metadata": {
    "dotnet_interactive": {
     "language": "csharp"
    },
    "polyglot_notebook": {
     "kernelName": "csharp"
    }
   },
   "source": [
    "<table class=\"nameValue table table-sm table-stacked-mobile\" aria-label=\"Table 3\">\n",
    "        \t<tbody><tr>\n",
    "\t  <td class=\"is-one-third-width-tablet\">\n",
    "\t<span class=\"break-text\">\n",
    "\t\t<a class=\"xref\" href=\"https://learn.microsoft.com/en-us/dotnet/api/system.collections.generic.stack-1.clear?view=net-7.0#system-collections-generic-stack-1-clear\" data-linktype=\"relative-path\">Clear()</a>\n",
    "\t</span>\n",
    "</td>\n",
    "\t<td class=\"summary\"> \n",
    "\t\t<p>Removes all objects from the <a class=\"no-loc\" href=\"https://learn.microsoft.com/en-us/dotnet/api/system.collections.generic.stack-1?view=net-7.0\" data-linktype=\"relative-path\">Stack&lt;T&gt;</a>.</p>\n",
    "\t</td>\n",
    "        \t</tr>\n",
    "        \t<tr>\n",
    "\t  <td class=\"is-one-third-width-tablet\">\n",
    "\t<span class=\"break-text\">\n",
    "\t\t<a class=\"xref\" href=\"https://learn.microsoft.com/en-us/dotnet/api/system.collections.generic.stack-1.contains?view=net-7.0#system-collections-generic-stack-1-contains(-0)\" data-linktype=\"relative-path\">Contains(T)</a>\n",
    "\t</span>\n",
    "</td>\n",
    "\t<td class=\"summary\"> \n",
    "\t\t<p>Determines whether an element is in the <a class=\"no-loc\" href=\"https://learn.microsoft.com/en-us/dotnet/api/system.collections.generic.stack-1?view=net-7.0\" data-linktype=\"relative-path\">Stack&lt;T&gt;</a>.</p>\n",
    "\t</td>\n",
    "        \t</tr>\n",
    "        \t<tr>\n",
    "\t  <td class=\"is-one-third-width-tablet\">\n",
    "\t<span class=\"break-text\">\n",
    "\t\t<a class=\"xref\" href=\"https://learn.microsoft.com/en-us/dotnet/api/system.collections.generic.stack-1.copyto?view=net-7.0#system-collections-generic-stack-1-copyto(-0()-system-int32)\" data-linktype=\"relative-path\">Copy<wbr>To(T[], Int32)</a>\n",
    "\t</span>\n",
    "</td>\n",
    "\t<td class=\"summary\"> \n",
    "\t\t<p>Copies the <a class=\"no-loc\" href=\"https://learn.microsoft.com/en-us/dotnet/api/system.collections.generic.stack-1?view=net-7.0\" data-linktype=\"relative-path\">Stack&lt;T&gt;</a> to an existing one-dimensional <a class=\"no-loc\" href=\"https://learn.microsoft.com/en-us/dotnet/api/system.array?view=net-7.0\" data-linktype=\"relative-path\">Array</a>, starting at the specified array index.</p>\n",
    "\t</td>\n",
    "        \t</tr>\n",
    "        \t<tr data-moniker=\" net-6.0 net-7.0 \">\n",
    "\t  <td class=\"is-one-third-width-tablet\">\n",
    "\t<span class=\"break-text\">\n",
    "\t\t<a class=\"xref\" href=\"https://learn.microsoft.com/en-us/dotnet/api/system.collections.generic.stack-1.ensurecapacity?view=net-7.0#system-collections-generic-stack-1-ensurecapacity(system-int32)\" data-linktype=\"relative-path\">Ensure<wbr>Capacity(Int32)</a>\n",
    "\t</span>\n",
    "</td>\n",
    "\t<td class=\"summary\"> \n",
    "\t\t<p>Ensures that the capacity of this Stack is at least the specified <code data-dev-comment-type=\"paramref\">capacity</code>. If the current capacity is less than <code data-dev-comment-type=\"paramref\">capacity</code>, it is successively increased to twice the current capacity until it is at least the specified <code data-dev-comment-type=\"paramref\">capacity</code>.</p>\n",
    "\t</td>\n",
    "        \t</tr>\n",
    "        \t<tr>\n",
    "\t<td class=\"is-one-third-width-tablet\">\n",
    "\t\t<span class=\"break-text\">\n",
    "\t\t\t  <a class=\"xref\" href=\"https://learn.microsoft.com/en-us/dotnet/api/system.object.equals?view=net-7.0#system-object-equals(system-object)\" data-linktype=\"relative-path\">Equals(Object)</a>\n",
    "\t\t</span>\n",
    "\t</td>\n",
    "\t<td class=\"summary\">\n",
    "\t\t  <p>Determines whether the specified object is equal to the current object.</p>\n",
    "\t\t(Inherited from   <a class=\"xref\" href=\"https://learn.microsoft.com/en-us/dotnet/api/system.object?view=net-7.0\" data-linktype=\"relative-path\">Object</a>)\n",
    "\t</td>\n",
    "        \t</tr>\n",
    "        \t<tr>\n",
    "\t  <td class=\"is-one-third-width-tablet\">\n",
    "\t<span class=\"break-text\">\n",
    "\t\t<a class=\"xref\" href=\"https://learn.microsoft.com/en-us/dotnet/api/system.collections.generic.stack-1.getenumerator?view=net-7.0#system-collections-generic-stack-1-getenumerator\" data-linktype=\"relative-path\">Get<wbr>Enumerator()</a>\n",
    "\t</span>\n",
    "</td>\n",
    "\t<td class=\"summary\"> \n",
    "\t\t<p>Returns an enumerator for the <a class=\"no-loc\" href=\"https://learn.microsoft.com/en-us/dotnet/api/system.collections.generic.stack-1?view=net-7.0\" data-linktype=\"relative-path\">Stack&lt;T&gt;</a>.</p>\n",
    "\t</td>\n",
    "        \t</tr>\n",
    "        \t<tr>\n",
    "\t<td class=\"is-one-third-width-tablet\">\n",
    "\t\t<span class=\"break-text\">\n",
    "\t\t\t  <a class=\"xref\" href=\"https://learn.microsoft.com/en-us/dotnet/api/system.object.gethashcode?view=net-7.0#system-object-gethashcode\" data-linktype=\"relative-path\">Get<wbr>Hash<wbr>Code()</a>\n",
    "\t\t</span>\n",
    "\t</td>\n",
    "\t<td class=\"summary\">\n",
    "\t\t  <p>Serves as the default hash function.</p>\n",
    "\t\t(Inherited from   <a class=\"xref\" href=\"https://learn.microsoft.com/en-us/dotnet/api/system.object?view=net-7.0\" data-linktype=\"relative-path\">Object</a>)\n",
    "\t</td>\n",
    "        \t</tr>\n",
    "        \t<tr>\n",
    "\t<td class=\"is-one-third-width-tablet\">\n",
    "\t\t<span class=\"break-text\">\n",
    "\t\t\t  <a class=\"xref\" href=\"https://learn.microsoft.com/en-us/dotnet/api/system.object.gettype?view=net-7.0#system-object-gettype\" data-linktype=\"relative-path\">Get<wbr>Type()</a>\n",
    "\t\t</span>\n",
    "\t</td>\n",
    "\t<td class=\"summary\">\n",
    "\t\t  <p>Gets the <a class=\"no-loc\" href=\"https://learn.microsoft.com/en-us/dotnet/api/system.type?view=net-7.0\" data-linktype=\"relative-path\">Type</a> of the current instance.</p>\n",
    "\t\t(Inherited from   <a class=\"xref\" href=\"https://learn.microsoft.com/en-us/dotnet/api/system.object?view=net-7.0\" data-linktype=\"relative-path\">Object</a>)\n",
    "\t</td>\n",
    "        \t</tr>\n",
    "        \t<tr>\n",
    "\t<td class=\"is-one-third-width-tablet\">\n",
    "\t\t<span class=\"break-text\">\n",
    "\t\t\t  <a class=\"xref\" href=\"https://learn.microsoft.com/en-us/dotnet/api/system.object.memberwiseclone?view=net-7.0#system-object-memberwiseclone\" data-linktype=\"relative-path\">Memberwise<wbr>Clone()</a>\n",
    "\t\t</span>\n",
    "\t</td>\n",
    "\t<td class=\"summary\">\n",
    "\t\t  <p>Creates a shallow copy of the current <a class=\"no-loc\" href=\"https://learn.microsoft.com/en-us/dotnet/api/system.object?view=net-7.0\" data-linktype=\"relative-path\">Object</a>.</p>\n",
    "\t\t(Inherited from   <a class=\"xref\" href=\"https://learn.microsoft.com/en-us/dotnet/api/system.object?view=net-7.0\" data-linktype=\"relative-path\">Object</a>)\n",
    "\t</td>\n",
    "        \t</tr>\n",
    "        \t<tr>\n",
    "\t  <td class=\"is-one-third-width-tablet\">\n",
    "\t<span class=\"break-text\">\n",
    "\t\t<a class=\"xref\" href=\"https://learn.microsoft.com/en-us/dotnet/api/system.collections.generic.stack-1.peek?view=net-7.0#system-collections-generic-stack-1-peek\" data-linktype=\"relative-path\">Peek()</a>\n",
    "\t</span>\n",
    "</td>\n",
    "\t<td class=\"summary\"> \n",
    "\t\t<p>Returns the object at the top of the <a class=\"no-loc\" href=\"https://learn.microsoft.com/en-us/dotnet/api/system.collections.generic.stack-1?view=net-7.0\" data-linktype=\"relative-path\">Stack&lt;T&gt;</a> without removing it.</p>\n",
    "\t</td>\n",
    "        \t</tr>\n",
    "        \t<tr>\n",
    "\t  <td class=\"is-one-third-width-tablet\">\n",
    "\t<span class=\"break-text\">\n",
    "\t\t<a class=\"xref\" href=\"https://learn.microsoft.com/en-us/dotnet/api/system.collections.generic.stack-1.pop?view=net-7.0#system-collections-generic-stack-1-pop\" data-linktype=\"relative-path\">Pop()</a>\n",
    "\t</span>\n",
    "</td>\n",
    "\t<td class=\"summary\"> \n",
    "\t\t<p>Removes and returns the object at the top of the <a class=\"no-loc\" href=\"https://learn.microsoft.com/en-us/dotnet/api/system.collections.generic.stack-1?view=net-7.0\" data-linktype=\"relative-path\">Stack&lt;T&gt;</a>.</p>\n",
    "\t</td>\n",
    "        \t</tr>\n",
    "        \t<tr>\n",
    "\t  <td class=\"is-one-third-width-tablet\">\n",
    "\t<span class=\"break-text\">\n",
    "\t\t<a class=\"xref\" href=\"https://learn.microsoft.com/en-us/dotnet/api/system.collections.generic.stack-1.push?view=net-7.0#system-collections-generic-stack-1-push(-0)\" data-linktype=\"relative-path\">Push(T)</a>\n",
    "\t</span>\n",
    "</td>\n",
    "\t<td class=\"summary\"> \n",
    "\t\t<p>Inserts an object at the top of the <a class=\"no-loc\" href=\"https://learn.microsoft.com/en-us/dotnet/api/system.collections.generic.stack-1?view=net-7.0\" data-linktype=\"relative-path\">Stack&lt;T&gt;</a>.</p>\n",
    "\t</td>\n",
    "        \t</tr>\n",
    "        \t<tr>\n",
    "\t  <td class=\"is-one-third-width-tablet\">\n",
    "\t<span class=\"break-text\">\n",
    "\t\t<a class=\"xref\" href=\"https://learn.microsoft.com/en-us/dotnet/api/system.collections.generic.stack-1.toarray?view=net-7.0#system-collections-generic-stack-1-toarray\" data-linktype=\"relative-path\">To<wbr>Array()</a>\n",
    "\t</span>\n",
    "</td>\n",
    "\t<td class=\"summary\"> \n",
    "\t\t<p>Copies the <a class=\"no-loc\" href=\"https://learn.microsoft.com/en-us/dotnet/api/system.collections.generic.stack-1?view=net-7.0\" data-linktype=\"relative-path\">Stack&lt;T&gt;</a> to a new array.</p>\n",
    "\t</td>\n",
    "        \t</tr>\n",
    "        \t<tr>\n",
    "\t<td class=\"is-one-third-width-tablet\">\n",
    "\t\t<span class=\"break-text\">\n",
    "\t\t\t  <a class=\"xref\" href=\"https://learn.microsoft.com/en-us/dotnet/api/system.object.tostring?view=net-7.0#system-object-tostring\" data-linktype=\"relative-path\">To<wbr>String()</a>\n",
    "\t\t</span>\n",
    "\t</td>\n",
    "\t<td class=\"summary\">\n",
    "\t\t  <p>Returns a string that represents the current object.</p>\n",
    "\t\t(Inherited from   <a class=\"xref\" href=\"https://learn.microsoft.com/en-us/dotnet/api/system.object?view=net-7.0\" data-linktype=\"relative-path\">Object</a>)\n",
    "\t</td>\n",
    "        \t</tr>\n",
    "        \t<tr>\n",
    "\t  <td class=\"is-one-third-width-tablet\">\n",
    "\t<span class=\"break-text\">\n",
    "\t\t<a class=\"xref\" href=\"https://learn.microsoft.com/en-us/dotnet/api/system.collections.generic.stack-1.trimexcess?view=net-7.0#system-collections-generic-stack-1-trimexcess\" data-linktype=\"relative-path\">Trim<wbr>Excess()</a>\n",
    "\t</span>\n",
    "</td>\n",
    "\t<td class=\"summary\"> \n",
    "\t\t<p>Sets the capacity to the actual number of elements in the <a class=\"no-loc\" href=\"https://learn.microsoft.com/en-us/dotnet/api/system.collections.generic.stack-1?view=net-7.0\" data-linktype=\"relative-path\">Stack&lt;T&gt;</a>, if that number is less than 90 percent of current capacity.</p>\n",
    "\t</td>\n",
    "        \t</tr>\n",
    "        \t<tr data-moniker=\" net-5.0 net-6.0 net-7.0 netcore-2.0 netcore-2.1 netcore-2.2 netcore-3.0 netcore-3.1 netstandard-2.1 \">\n",
    "\t  <td class=\"is-one-third-width-tablet\">\n",
    "\t<span class=\"break-text\">\n",
    "\t\t<a class=\"xref\" href=\"https://learn.microsoft.com/en-us/dotnet/api/system.collections.generic.stack-1.trypeek?view=net-7.0#system-collections-generic-stack-1-trypeek(-0@)\" data-linktype=\"relative-path\">Try<wbr>Peek(T)</a>\n",
    "\t</span>\n",
    "</td>\n",
    "\t<td class=\"summary\"> \n",
    "\t\t<p>Returns a value that indicates whether there is an object at the top of the <a class=\"no-loc\" href=\"https://learn.microsoft.com/en-us/dotnet/api/system.collections.generic.stack-1?view=net-7.0\" data-linktype=\"relative-path\">Stack&lt;T&gt;</a>, and if one is present, copies it to the <code data-dev-comment-type=\"paramref\">result</code> parameter. The object is not removed from the <a class=\"no-loc\" href=\"https://learn.microsoft.com/en-us/dotnet/api/system.collections.generic.stack-1?view=net-7.0\" data-linktype=\"relative-path\">Stack&lt;T&gt;</a>.</p>\n",
    "\t</td>\n",
    "        \t</tr>\n",
    "        \t<tr data-moniker=\" net-5.0 net-6.0 net-7.0 netcore-2.0 netcore-2.1 netcore-2.2 netcore-3.0 netcore-3.1 netstandard-2.1 \">\n",
    "\t  <td class=\"is-one-third-width-tablet\">\n",
    "\t<span class=\"break-text\">\n",
    "\t\t<a class=\"xref\" href=\"https://learn.microsoft.com/en-us/dotnet/api/system.collections.generic.stack-1.trypop?view=net-7.0#system-collections-generic-stack-1-trypop(-0@)\" data-linktype=\"relative-path\">Try<wbr>Pop(T)</a>\n",
    "\t</span>\n",
    "</td>\n",
    "\t<td class=\"summary\"> \n",
    "\t\t<p>Returns a value that indicates whether there is an object at the top of the <a class=\"no-loc\" href=\"https://learn.microsoft.com/en-us/dotnet/api/system.collections.generic.stack-1?view=net-7.0\" data-linktype=\"relative-path\">Stack&lt;T&gt;</a>, and if one is present, copies it to the <code data-dev-comment-type=\"paramref\">result</code> parameter, and removes it from the <a class=\"no-loc\" href=\"https://learn.microsoft.com/en-us/dotnet/api/system.collections.generic.stack-1?view=net-7.0\" data-linktype=\"relative-path\">Stack&lt;T&gt;</a>.</p>\n",
    "\t</td>\n",
    "        \t</tr>\n",
    "\t</tbody></table>"
   ]
  },
  {
   "attachments": {},
   "cell_type": "markdown",
   "metadata": {
    "dotnet_interactive": {
     "language": "csharp"
    },
    "polyglot_notebook": {
     "kernelName": "csharp"
    }
   },
   "source": [
    "<br>"
   ]
  }
 ],
 "metadata": {
  "kernelspec": {
   "display_name": ".NET (C#)",
   "language": "C#",
   "name": ".net-csharp"
  },
  "polyglot_notebook": {
   "kernelInfo": {
    "defaultKernelName": "csharp",
    "items": [
     {
      "aliases": [],
      "name": "csharp"
     }
    ]
   }
  }
 },
 "nbformat": 4,
 "nbformat_minor": 2
}
