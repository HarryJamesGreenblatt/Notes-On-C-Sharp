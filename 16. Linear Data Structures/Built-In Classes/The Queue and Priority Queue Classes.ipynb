{
 "cells": [
  {
   "cell_type": "markdown",
   "metadata": {
    "dotnet_interactive": {
     "language": "csharp"
    },
    "polyglot_notebook": {
     "kernelName": "csharp"
    }
   },
   "source": [
    "# 16. Linear Data Stuctures"
   ]
  },
  {
   "attachments": {},
   "cell_type": "markdown",
   "metadata": {
    "dotnet_interactive": {
     "language": "csharp"
    },
    "polyglot_notebook": {
     "kernelName": "csharp"
    }
   },
   "source": [
    "## Built-In Classes\n",
    "### The `Queue<T>` and `PriorityQueue<TElement,TPriority>` Classes\n",
    "---"
   ]
  },
  {
   "attachments": {},
   "cell_type": "markdown",
   "metadata": {
    "dotnet_interactive": {
     "language": "csharp"
    },
    "polyglot_notebook": {
     "kernelName": "csharp"
    }
   },
   "source": [
    "The [`Queue<T>`](https://learn.microsoft.com/en-us/dotnet/api/system.collections.generic.queue-1?view=net-7.0) class represents a **first-in, first-out (FIFO)** collection of objects, which implements a generic queue as a **circular array**. \n",
    "   \n",
    "Objects stored in a `Queue<T>` are **inserted at one end** and **removed from the other**. \n",
    "   \n",
    "Queues and stacks are useful when you need temporary storage for information; that is, when you might want to discard an element after retrieving its value. \n",
    "   \n",
    "Use `Queue<T>` if you need to access the information **in the same order that it is stored in the collection**."
   ]
  },
  {
   "attachments": {},
   "cell_type": "markdown",
   "metadata": {
    "dotnet_interactive": {
     "language": "csharp"
    },
    "polyglot_notebook": {
     "kernelName": "csharp"
    }
   },
   "source": [
    "Conversely, the [`PriorityQueue<TElement,TPriority>`](https://learn.microsoft.com/en-us/dotnet/api/system.collections.generic.priorityqueue-2?view=net-7.0) implements an **array-backed, quaternary min-heap**.   \n",
    "   \n",
    "Each element is enqueued with an associated **priority** that **determines the dequeue order**. Elements with the **lowest priority are dequeued first**. Note that the type **does not guarantee first-in-first-out semantics** for elements of equal priority."
   ]
  },
  {
   "attachments": {},
   "cell_type": "markdown",
   "metadata": {
    "dotnet_interactive": {
     "language": "csharp"
    },
    "polyglot_notebook": {
     "kernelName": "csharp"
    }
   },
   "source": [
    "<br>"
   ]
  },
  {
   "attachments": {},
   "cell_type": "markdown",
   "metadata": {
    "dotnet_interactive": {
     "language": "csharp"
    },
    "polyglot_notebook": {
     "kernelName": "csharp"
    }
   },
   "source": [
    "### Class Definition"
   ]
  },
  {
   "cell_type": "markdown",
   "metadata": {
    "dotnet_interactive": {
     "language": "csharp"
    },
    "polyglot_notebook": {
     "kernelName": "csharp"
    }
   },
   "source": [
    "#### `Queue<T>`"
   ]
  },
  {
   "attachments": {},
   "cell_type": "markdown",
   "metadata": {
    "dotnet_interactive": {
     "language": "csharp"
    },
    "polyglot_notebook": {
     "kernelName": "csharp"
    }
   },
   "source": [
    "##### Properties"
   ]
  },
  {
   "attachments": {},
   "cell_type": "markdown",
   "metadata": {
    "dotnet_interactive": {
     "language": "csharp"
    },
    "polyglot_notebook": {
     "kernelName": "csharp"
    }
   },
   "source": [
    "<table class=\"nameValue table table-sm table-stacked-mobile\" aria-label=\"Table 2\">\n",
    "        \t<tbody><tr>\n",
    "\t  <td class=\"is-one-third-width-tablet\">\n",
    "\t<span class=\"break-text\">\n",
    "\t\t<a class=\"xref\" href=\"https://learn.microsoft.com/en-us/dotnet/api/system.collections.generic.queue-1.count?view=net-7.0#system-collections-generic-queue-1-count\" data-linktype=\"relative-path\">Count</a>\n",
    "\t</span>\n",
    "</td>\n",
    "\t<td class=\"summary\"> \n",
    "\t\t<p>Gets the number of elements contained in the <a class=\"no-loc\" href=\"https://learn.microsoft.com/en-us/dotnet/api/system.collections.generic.queue-1?view=net-7.0\" data-linktype=\"relative-path\">Queue&lt;T&gt;</a>.</p>\n",
    "\t</td>\n",
    "        \t</tr>\n",
    "\t</tbody></table>"
   ]
  },
  {
   "attachments": {},
   "cell_type": "markdown",
   "metadata": {
    "dotnet_interactive": {
     "language": "csharp"
    },
    "polyglot_notebook": {
     "kernelName": "csharp"
    }
   },
   "source": [
    "##### Constructors"
   ]
  },
  {
   "attachments": {},
   "cell_type": "markdown",
   "metadata": {
    "dotnet_interactive": {
     "language": "csharp"
    },
    "polyglot_notebook": {
     "kernelName": "csharp"
    }
   },
   "source": [
    "<table class=\"nameValue table table-sm table-stacked-mobile\" aria-label=\"Table 1\">\n",
    "        \t<tbody><tr>\n",
    "\t  <td class=\"is-one-third-width-tablet\">\n",
    "\t<span class=\"break-text\">\n",
    "\t\t<a class=\"xref\" href=\"https://learn.microsoft.com/en-us/dotnet/api/system.collections.generic.queue-1.-ctor?view=net-7.0#system-collections-generic-queue-1-ctor\" data-linktype=\"relative-path\">Queue&lt;T&gt;()</a>\n",
    "\t</span>\n",
    "</td>\n",
    "\t<td class=\"summary\"> \n",
    "\t\t<p>Initializes a new instance of the <a class=\"no-loc\" href=\"https://learn.microsoft.com/en-us/dotnet/api/system.collections.generic.queue-1?view=net-7.0\" data-linktype=\"relative-path\">Queue&lt;T&gt;</a> class that is empty and has the default initial capacity.</p>\n",
    "\t</td>\n",
    "        \t</tr>\n",
    "        \t<tr>\n",
    "\t  <td class=\"is-one-third-width-tablet\">\n",
    "\t<span class=\"break-text\">\n",
    "\t\t<a class=\"xref\" href=\"https://learn.microsoft.com/en-us/dotnet/api/system.collections.generic.queue-1.-ctor?view=net-7.0#system-collections-generic-queue-1-ctor(system-collections-generic-ienumerable((-0)))\" data-linktype=\"relative-path\">Queue&lt;T&gt;(IEnumerable&lt;T&gt;)</a>\n",
    "\t</span>\n",
    "</td>\n",
    "\t<td class=\"summary\"> \n",
    "\t\t<p>Initializes a new instance of the <a class=\"no-loc\" href=\"https://learn.microsoft.com/en-us/dotnet/api/system.collections.generic.queue-1?view=net-7.0\" data-linktype=\"relative-path\">Queue&lt;T&gt;</a> class that contains elements copied from the specified collection and has sufficient capacity to accommodate the number of elements copied.</p>\n",
    "\t</td>\n",
    "        \t</tr>\n",
    "        \t<tr>\n",
    "\t  <td class=\"is-one-third-width-tablet\">\n",
    "\t<span class=\"break-text\">\n",
    "\t\t<a class=\"xref\" href=\"https://learn.microsoft.com/en-us/dotnet/api/system.collections.generic.queue-1.-ctor?view=net-7.0#system-collections-generic-queue-1-ctor(system-int32)\" data-linktype=\"relative-path\">Queue&lt;T&gt;(Int32)</a>\n",
    "\t</span>\n",
    "</td>\n",
    "\t<td class=\"summary\"> \n",
    "\t\t<p>Initializes a new instance of the <a class=\"no-loc\" href=\"https://learn.microsoft.com/en-us/dotnet/api/system.collections.generic.queue-1?view=net-7.0\" data-linktype=\"relative-path\">Queue&lt;T&gt;</a> class that is empty and has the specified initial capacity.</p>\n",
    "\t</td>\n",
    "        \t</tr>\n",
    "\t</tbody></table>"
   ]
  },
  {
   "attachments": {},
   "cell_type": "markdown",
   "metadata": {
    "dotnet_interactive": {
     "language": "csharp"
    },
    "polyglot_notebook": {
     "kernelName": "csharp"
    }
   },
   "source": [
    "##### Methods"
   ]
  },
  {
   "attachments": {},
   "cell_type": "markdown",
   "metadata": {
    "dotnet_interactive": {
     "language": "csharp"
    },
    "polyglot_notebook": {
     "kernelName": "csharp"
    }
   },
   "source": [
    "<table class=\"nameValue table table-sm table-stacked-mobile\" aria-label=\"Table 3\">\n",
    "        \t<tbody><tr>\n",
    "\t  <td class=\"is-one-third-width-tablet\">\n",
    "\t<span class=\"break-text\">\n",
    "\t\t<a class=\"xref\" href=\"https://learn.microsoft.com/en-us/dotnet/api/system.collections.generic.queue-1.clear?view=net-7.0#system-collections-generic-queue-1-clear\" data-linktype=\"relative-path\">Clear()</a>\n",
    "\t</span>\n",
    "</td>\n",
    "\t<td class=\"summary\"> \n",
    "\t\t<p>Removes all objects from the <a class=\"no-loc\" href=\"https://learn.microsoft.com/en-us/dotnet/api/system.collections.generic.queue-1?view=net-7.0\" data-linktype=\"relative-path\">Queue&lt;T&gt;</a>.</p>\n",
    "\t</td>\n",
    "        \t</tr>\n",
    "        \t<tr>\n",
    "\t  <td class=\"is-one-third-width-tablet\">\n",
    "\t<span class=\"break-text\">\n",
    "\t\t<a class=\"xref\" href=\"https://learn.microsoft.com/en-us/dotnet/api/system.collections.generic.queue-1.contains?view=net-7.0#system-collections-generic-queue-1-contains(-0)\" data-linktype=\"relative-path\">Contains(T)</a>\n",
    "\t</span>\n",
    "</td>\n",
    "\t<td class=\"summary\"> \n",
    "\t\t<p>Determines whether an element is in the <a class=\"no-loc\" href=\"https://learn.microsoft.com/en-us/dotnet/api/system.collections.generic.queue-1?view=net-7.0\" data-linktype=\"relative-path\">Queue&lt;T&gt;</a>.</p>\n",
    "\t</td>\n",
    "        \t</tr>\n",
    "        \t<tr>\n",
    "\t  <td class=\"is-one-third-width-tablet\">\n",
    "\t<span class=\"break-text\">\n",
    "\t\t<a class=\"xref\" href=\"https://learn.microsoft.com/en-us/dotnet/api/system.collections.generic.queue-1.copyto?view=net-7.0#system-collections-generic-queue-1-copyto(-0()-system-int32)\" data-linktype=\"relative-path\">Copy<wbr>To(T[], Int32)</a>\n",
    "\t</span>\n",
    "</td>\n",
    "\t<td class=\"summary\"> \n",
    "\t\t<p>Copies the <a class=\"no-loc\" href=\"https://learn.microsoft.com/en-us/dotnet/api/system.collections.generic.queue-1?view=net-7.0\" data-linktype=\"relative-path\">Queue&lt;T&gt;</a> elements to an existing one-dimensional <a class=\"no-loc\" href=\"https://learn.microsoft.com/en-us/dotnet/api/system.array?view=net-7.0\" data-linktype=\"relative-path\">Array</a>, starting at the specified array index.</p>\n",
    "\t</td>\n",
    "        \t</tr>\n",
    "        \t<tr>\n",
    "\t  <td class=\"is-one-third-width-tablet\">\n",
    "\t<span class=\"break-text\">\n",
    "\t\t<a class=\"xref\" href=\"https://learn.microsoft.com/en-us/dotnet/api/system.collections.generic.queue-1.dequeue?view=net-7.0#system-collections-generic-queue-1-dequeue\" data-linktype=\"relative-path\">Dequeue()</a>\n",
    "\t</span>\n",
    "</td>\n",
    "\t<td class=\"summary\"> \n",
    "\t\t<p>Removes and returns the object at the beginning of the <a class=\"no-loc\" href=\"https://learn.microsoft.com/en-us/dotnet/api/system.collections.generic.queue-1?view=net-7.0\" data-linktype=\"relative-path\">Queue&lt;T&gt;</a>.</p>\n",
    "\t</td>\n",
    "        \t</tr>\n",
    "        \t<tr>\n",
    "\t  <td class=\"is-one-third-width-tablet\">\n",
    "\t<span class=\"break-text\">\n",
    "\t\t<a class=\"xref\" href=\"https://learn.microsoft.com/en-us/dotnet/api/system.collections.generic.queue-1.enqueue?view=net-7.0#system-collections-generic-queue-1-enqueue(-0)\" data-linktype=\"relative-path\">Enqueue(T)</a>\n",
    "\t</span>\n",
    "</td>\n",
    "\t<td class=\"summary\"> \n",
    "\t\t<p>Adds an object to the end of the <a class=\"no-loc\" href=\"https://learn.microsoft.com/en-us/dotnet/api/system.collections.generic.queue-1?view=net-7.0\" data-linktype=\"relative-path\">Queue&lt;T&gt;</a>.</p>\n",
    "\t</td>\n",
    "        \t</tr>\n",
    "        \t<tr data-moniker=\" net-6.0 net-7.0 \">\n",
    "\t  <td class=\"is-one-third-width-tablet\">\n",
    "\t<span class=\"break-text\">\n",
    "\t\t<a class=\"xref\" href=\"https://learn.microsoft.com/en-us/dotnet/api/system.collections.generic.queue-1.ensurecapacity?view=net-7.0#system-collections-generic-queue-1-ensurecapacity(system-int32)\" data-linktype=\"relative-path\">Ensure<wbr>Capacity(Int32)</a>\n",
    "\t</span>\n",
    "</td>\n",
    "\t<td class=\"summary\"> \n",
    "\t\t<p>Ensures that the capacity of this queue is at least the specified <code data-dev-comment-type=\"paramref\">capacity</code>. If the current capacity is less than <code data-dev-comment-type=\"paramref\">capacity</code>, it is successively increased to twice the current capacity until it is at least the specified <code data-dev-comment-type=\"paramref\">capacity</code>.</p>\n",
    "\t</td>\n",
    "        \t</tr>\n",
    "        \t<tr>\n",
    "\t<td class=\"is-one-third-width-tablet\">\n",
    "\t\t<span class=\"break-text\">\n",
    "\t\t\t  <a class=\"xref\" href=\"https://learn.microsoft.com/en-us/dotnet/api/system.object.equals?view=net-7.0#system-object-equals(system-object)\" data-linktype=\"relative-path\">Equals(Object)</a>\n",
    "\t\t</span>\n",
    "\t</td>\n",
    "\t<td class=\"summary\">\n",
    "\t\t  <p>Determines whether the specified object is equal to the current object.</p>\n",
    "\t\t(Inherited from   <a class=\"xref\" href=\"https://learn.microsoft.com/en-us/dotnet/api/system.object?view=net-7.0\" data-linktype=\"relative-path\">Object</a>)\n",
    "\t</td>\n",
    "        \t</tr>\n",
    "        \t<tr>\n",
    "\t  <td class=\"is-one-third-width-tablet\">\n",
    "\t<span class=\"break-text\">\n",
    "\t\t<a class=\"xref\" href=\"https://learn.microsoft.com/en-us/dotnet/api/system.collections.generic.queue-1.getenumerator?view=net-7.0#system-collections-generic-queue-1-getenumerator\" data-linktype=\"relative-path\">Get<wbr>Enumerator()</a>\n",
    "\t</span>\n",
    "</td>\n",
    "\t<td class=\"summary\"> \n",
    "\t\t<p>Returns an enumerator that iterates through the <a class=\"no-loc\" href=\"https://learn.microsoft.com/en-us/dotnet/api/system.collections.generic.queue-1?view=net-7.0\" data-linktype=\"relative-path\">Queue&lt;T&gt;</a>.</p>\n",
    "\t</td>\n",
    "        \t</tr>\n",
    "        \t<tr>\n",
    "\t<td class=\"is-one-third-width-tablet\">\n",
    "\t\t<span class=\"break-text\">\n",
    "\t\t\t  <a class=\"xref\" href=\"https://learn.microsoft.com/en-us/dotnet/api/system.object.gethashcode?view=net-7.0#system-object-gethashcode\" data-linktype=\"relative-path\">Get<wbr>Hash<wbr>Code()</a>\n",
    "\t\t</span>\n",
    "\t</td>\n",
    "\t<td class=\"summary\">\n",
    "\t\t  <p>Serves as the default hash function.</p>\n",
    "\t\t(Inherited from   <a class=\"xref\" href=\"https://learn.microsoft.com/en-us/dotnet/api/system.object?view=net-7.0\" data-linktype=\"relative-path\">Object</a>)\n",
    "\t</td>\n",
    "        \t</tr>\n",
    "        \t<tr>\n",
    "\t<td class=\"is-one-third-width-tablet\">\n",
    "\t\t<span class=\"break-text\">\n",
    "\t\t\t  <a class=\"xref\" href=\"https://learn.microsoft.com/en-us/dotnet/api/system.object.gettype?view=net-7.0#system-object-gettype\" data-linktype=\"relative-path\">Get<wbr>Type()</a>\n",
    "\t\t</span>\n",
    "\t</td>\n",
    "\t<td class=\"summary\">\n",
    "\t\t  <p>Gets the <a class=\"no-loc\" href=\"https://learn.microsoft.com/en-us/dotnet/api/system.type?view=net-7.0\" data-linktype=\"relative-path\">Type</a> of the current instance.</p>\n",
    "\t\t(Inherited from   <a class=\"xref\" href=\"https://learn.microsoft.com/en-us/dotnet/api/system.object?view=net-7.0\" data-linktype=\"relative-path\">Object</a>)\n",
    "\t</td>\n",
    "        \t</tr>\n",
    "        \t<tr>\n",
    "\t<td class=\"is-one-third-width-tablet\">\n",
    "\t\t<span class=\"break-text\">\n",
    "\t\t\t  <a class=\"xref\" href=\"https://learn.microsoft.com/en-us/dotnet/api/system.object.memberwiseclone?view=net-7.0#system-object-memberwiseclone\" data-linktype=\"relative-path\">Memberwise<wbr>Clone()</a>\n",
    "\t\t</span>\n",
    "\t</td>\n",
    "\t<td class=\"summary\">\n",
    "\t\t  <p>Creates a shallow copy of the current <a class=\"no-loc\" href=\"https://learn.microsoft.com/en-us/dotnet/api/system.object?view=net-7.0\" data-linktype=\"relative-path\">Object</a>.</p>\n",
    "\t\t(Inherited from   <a class=\"xref\" href=\"https://learn.microsoft.com/en-us/dotnet/api/system.object?view=net-7.0\" data-linktype=\"relative-path\">Object</a>)\n",
    "\t</td>\n",
    "        \t</tr>\n",
    "        \t<tr>\n",
    "\t  <td class=\"is-one-third-width-tablet\">\n",
    "\t<span class=\"break-text\">\n",
    "\t\t<a class=\"xref\" href=\"https://learn.microsoft.com/en-us/dotnet/api/system.collections.generic.queue-1.peek?view=net-7.0#system-collections-generic-queue-1-peek\" data-linktype=\"relative-path\">Peek()</a>\n",
    "\t</span>\n",
    "</td>\n",
    "\t<td class=\"summary\"> \n",
    "\t\t<p>Returns the object at the beginning of the <a class=\"no-loc\" href=\"https://learn.microsoft.com/en-us/dotnet/api/system.collections.generic.queue-1?view=net-7.0\" data-linktype=\"relative-path\">Queue&lt;T&gt;</a> without removing it.</p>\n",
    "\t</td>\n",
    "        \t</tr>\n",
    "        \t<tr>\n",
    "\t  <td class=\"is-one-third-width-tablet\">\n",
    "\t<span class=\"break-text\">\n",
    "\t\t<a class=\"xref\" href=\"https://learn.microsoft.com/en-us/dotnet/api/system.collections.generic.queue-1.toarray?view=net-7.0#system-collections-generic-queue-1-toarray\" data-linktype=\"relative-path\">To<wbr>Array()</a>\n",
    "\t</span>\n",
    "</td>\n",
    "\t<td class=\"summary\"> \n",
    "\t\t<p>Copies the <a class=\"no-loc\" href=\"https://learn.microsoft.com/en-us/dotnet/api/system.collections.generic.queue-1?view=net-7.0\" data-linktype=\"relative-path\">Queue&lt;T&gt;</a> elements to a new array.</p>\n",
    "\t</td>\n",
    "        \t</tr>\n",
    "        \t<tr>\n",
    "\t<td class=\"is-one-third-width-tablet\">\n",
    "\t\t<span class=\"break-text\">\n",
    "\t\t\t  <a class=\"xref\" href=\"https://learn.microsoft.com/en-us/dotnet/api/system.object.tostring?view=net-7.0#system-object-tostring\" data-linktype=\"relative-path\">To<wbr>String()</a>\n",
    "\t\t</span>\n",
    "\t</td>\n",
    "\t<td class=\"summary\">\n",
    "\t\t  <p>Returns a string that represents the current object.</p>\n",
    "\t\t(Inherited from   <a class=\"xref\" href=\"https://learn.microsoft.com/en-us/dotnet/api/system.object?view=net-7.0\" data-linktype=\"relative-path\">Object</a>)\n",
    "\t</td>\n",
    "        \t</tr>\n",
    "        \t<tr>\n",
    "\t  <td class=\"is-one-third-width-tablet\">\n",
    "\t<span class=\"break-text\">\n",
    "\t\t<a class=\"xref\" href=\"https://learn.microsoft.com/en-us/dotnet/api/system.collections.generic.queue-1.trimexcess?view=net-7.0#system-collections-generic-queue-1-trimexcess\" data-linktype=\"relative-path\">Trim<wbr>Excess()</a>\n",
    "\t</span>\n",
    "</td>\n",
    "\t<td class=\"summary\"> \n",
    "\t\t<p>Sets the capacity to the actual number of elements in the <a class=\"no-loc\" href=\"https://learn.microsoft.com/en-us/dotnet/api/system.collections.generic.queue-1?view=net-7.0\" data-linktype=\"relative-path\">Queue&lt;T&gt;</a>, if that number is less than 90 percent of current capacity.</p>\n",
    "\t</td>\n",
    "        \t</tr>\n",
    "        \t<tr data-moniker=\" net-5.0 net-6.0 net-7.0 netcore-2.0 netcore-2.1 netcore-2.2 netcore-3.0 netcore-3.1 netstandard-2.1 \">\n",
    "\t  <td class=\"is-one-third-width-tablet\">\n",
    "\t<span class=\"break-text\">\n",
    "\t\t<a class=\"xref\" href=\"https://learn.microsoft.com/en-us/dotnet/api/system.collections.generic.queue-1.trydequeue?view=net-7.0#system-collections-generic-queue-1-trydequeue(-0@)\" data-linktype=\"relative-path\">Try<wbr>Dequeue(T)</a>\n",
    "\t</span>\n",
    "</td>\n",
    "\t<td class=\"summary\"> \n",
    "\t\t<p>Removes the object at the beginning of the <a class=\"no-loc\" href=\"https://learn.microsoft.com/en-us/dotnet/api/system.collections.generic.queue-1?view=net-7.0\" data-linktype=\"relative-path\">Queue&lt;T&gt;</a>, and copies it to the <code data-dev-comment-type=\"paramref\">result</code> parameter.</p>\n",
    "\t</td>\n",
    "        \t</tr>\n",
    "        \t<tr data-moniker=\" net-5.0 net-6.0 net-7.0 netcore-2.0 netcore-2.1 netcore-2.2 netcore-3.0 netcore-3.1 netstandard-2.1 \">\n",
    "\t  <td class=\"is-one-third-width-tablet\">\n",
    "\t<span class=\"break-text\">\n",
    "\t\t<a class=\"xref\" href=\"https://learn.microsoft.com/en-us/dotnet/api/system.collections.generic.queue-1.trypeek?view=net-7.0#system-collections-generic-queue-1-trypeek(-0@)\" data-linktype=\"relative-path\">Try<wbr>Peek(T)</a>\n",
    "\t</span>\n",
    "</td>\n",
    "\t<td class=\"summary\"> \n",
    "\t\t<p>Returns a value that indicates whether there is an object at the beginning of the <a class=\"no-loc\" href=\"https://learn.microsoft.com/en-us/dotnet/api/system.collections.generic.queue-1?view=net-7.0\" data-linktype=\"relative-path\">Queue&lt;T&gt;</a>, and if one is present, copies it to the <code data-dev-comment-type=\"paramref\">result</code> parameter. The object is not removed from the <a class=\"no-loc\" href=\"https://learn.microsoft.com/en-us/dotnet/api/system.collections.generic.queue-1?view=net-7.0\" data-linktype=\"relative-path\">Queue&lt;T&gt;</a>.</p>\n",
    "\t</td>\n",
    "        \t</tr>\n",
    "\t</tbody></table>"
   ]
  },
  {
   "attachments": {},
   "cell_type": "markdown",
   "metadata": {
    "dotnet_interactive": {
     "language": "csharp"
    },
    "polyglot_notebook": {
     "kernelName": "csharp"
    }
   },
   "source": [
    "<br>"
   ]
  },
  {
   "attachments": {},
   "cell_type": "markdown",
   "metadata": {
    "dotnet_interactive": {
     "language": "csharp"
    },
    "polyglot_notebook": {
     "kernelName": "csharp"
    }
   },
   "source": [
    "#### `PriorityQueue<TElement,TPriority>`"
   ]
  },
  {
   "attachments": {},
   "cell_type": "markdown",
   "metadata": {
    "dotnet_interactive": {
     "language": "csharp"
    },
    "polyglot_notebook": {
     "kernelName": "csharp"
    }
   },
   "source": [
    "##### Properties"
   ]
  },
  {
   "attachments": {},
   "cell_type": "markdown",
   "metadata": {
    "dotnet_interactive": {
     "language": "csharp"
    },
    "polyglot_notebook": {
     "kernelName": "csharp"
    }
   },
   "source": [
    "<table class=\"nameValue table table-sm table-stacked-mobile\" aria-label=\"Table 2\">\n",
    "        \t<tbody><tr>\n",
    "\t  <td class=\"is-one-third-width-tablet\">\n",
    "\t<span class=\"break-text\">\n",
    "\t\t<a class=\"xref\" href=\"https://learn.microsoft.com/en-us/dotnet/api/system.collections.generic.priorityqueue-2.comparer?view=net-7.0#system-collections-generic-priorityqueue-2-comparer\" data-linktype=\"relative-path\">Comparer</a>\n",
    "\t</span>\n",
    "</td>\n",
    "\t<td class=\"summary\"> \n",
    "\t\t<p>Gets the priority comparer used by the PriorityQueue &lt;TElement,TPriority &gt;.</p>\n",
    "\t</td>\n",
    "        \t</tr>\n",
    "        \t<tr>\n",
    "\t  <td class=\"is-one-third-width-tablet\">\n",
    "\t<span class=\"break-text\">\n",
    "\t\t<a class=\"xref\" href=\"https://learn.microsoft.com/en-us/dotnet/api/system.collections.generic.priorityqueue-2.count?view=net-7.0#system-collections-generic-priorityqueue-2-count\" data-linktype=\"relative-path\">Count</a>\n",
    "\t</span>\n",
    "</td>\n",
    "\t<td class=\"summary\"> \n",
    "\t\t<p>Gets the number of elements contained in the <a class=\"no-loc\" href=\"https://learn.microsoft.com/en-us/dotnet/api/system.collections.generic.priorityqueue-2?view=net-7.0\" data-linktype=\"relative-path\">PriorityQueue&lt;TElement,TPriority&gt;</a>.</p>\n",
    "\t</td>\n",
    "        \t</tr>\n",
    "        \t<tr>\n",
    "\t  <td class=\"is-one-third-width-tablet\">\n",
    "\t<span class=\"break-text\">\n",
    "\t\t<a class=\"xref\" href=\"https://learn.microsoft.com/en-us/dotnet/api/system.collections.generic.priorityqueue-2.unordereditems?view=net-7.0#system-collections-generic-priorityqueue-2-unordereditems\" data-linktype=\"relative-path\">Unordered<wbr>Items</a>\n",
    "\t</span>\n",
    "</td>\n",
    "\t<td class=\"summary\"> \n",
    "\t\t<p>Gets a collection that enumerates the elements of the queue in an unordered manner.</p>\n",
    "\t</td>\n",
    "        \t</tr>\n",
    "\t</tbody></table>"
   ]
  },
  {
   "attachments": {},
   "cell_type": "markdown",
   "metadata": {
    "dotnet_interactive": {
     "language": "csharp"
    },
    "polyglot_notebook": {
     "kernelName": "csharp"
    }
   },
   "source": [
    "##### Constructors"
   ]
  },
  {
   "attachments": {},
   "cell_type": "markdown",
   "metadata": {
    "dotnet_interactive": {
     "language": "csharp"
    },
    "polyglot_notebook": {
     "kernelName": "csharp"
    }
   },
   "source": [
    "<table class=\"nameValue table table-sm table-stacked-mobile\" aria-label=\"Table 2\">\n",
    "        \t<tbody><tr>\n",
    "\t  <td class=\"is-one-third-width-tablet\">\n",
    "\t<span class=\"break-text\">\n",
    "\t\t<a class=\"xref\" href=\"https://learn.microsoft.com/en-us/dotnet/api/system.collections.generic.priorityqueue-2.comparer?view=net-7.0#system-collections-generic-priorityqueue-2-comparer\" data-linktype=\"relative-path\">Comparer</a>\n",
    "\t</span>\n",
    "</td>\n",
    "\t<td class=\"summary\"> \n",
    "\t\t<p>Gets the priority comparer used by the <a class=\"no-loc\" href=\"https://learn.microsoft.com/en-us/dotnet/api/system.collections.generic.priorityqueue-2?view=net-7.0\" data-linktype=\"relative-path\">PriorityQueue&lt;TElement,TPriority&gt;</a>.</p>\n",
    "\t</td>\n",
    "        \t</tr>\n",
    "        \t<tr>\n",
    "\t  <td class=\"is-one-third-width-tablet\">\n",
    "\t<span class=\"break-text\">\n",
    "\t\t<a class=\"xref\" href=\"https://learn.microsoft.com/en-us/dotnet/api/system.collections.generic.priorityqueue-2.count?view=net-7.0#system-collections-generic-priorityqueue-2-count\" data-linktype=\"relative-path\">Count</a>\n",
    "\t</span>\n",
    "</td>\n",
    "\t<td class=\"summary\"> \n",
    "\t\t<p>Gets the number of elements contained in the <a class=\"no-loc\" href=\"https://learn.microsoft.com/en-us/dotnet/api/system.collections.generic.priorityqueue-2?view=net-7.0\" data-linktype=\"relative-path\">PriorityQueue&lt;TElement,TPriority&gt;</a>.</p>\n",
    "\t</td>\n",
    "        \t</tr>\n",
    "        \t<tr>\n",
    "\t  <td class=\"is-one-third-width-tablet\">\n",
    "\t<span class=\"break-text\">\n",
    "\t\t<a class=\"xref\" href=\"https://learn.microsoft.com/en-us/dotnet/api/system.collections.generic.priorityqueue-2.unordereditems?view=net-7.0#system-collections-generic-priorityqueue-2-unordereditems\" data-linktype=\"relative-path\">Unordered<wbr>Items</a>\n",
    "\t</span>\n",
    "</td>\n",
    "\t<td class=\"summary\"> \n",
    "\t\t<p>Gets a collection that enumerates the elements of the queue in an unordered manner.</p>\n",
    "\t</td>\n",
    "        \t</tr>\n",
    "\t</tbody></table>"
   ]
  },
  {
   "attachments": {},
   "cell_type": "markdown",
   "metadata": {
    "dotnet_interactive": {
     "language": "csharp"
    },
    "polyglot_notebook": {
     "kernelName": "csharp"
    }
   },
   "source": [
    "##### Methods"
   ]
  },
  {
   "attachments": {},
   "cell_type": "markdown",
   "metadata": {
    "dotnet_interactive": {
     "language": "csharp"
    },
    "polyglot_notebook": {
     "kernelName": "csharp"
    }
   },
   "source": [
    "<table class=\"nameValue table table-sm table-stacked-mobile\" aria-label=\"Table 3\">\n",
    "        \t<tbody><tr>\n",
    "\t  <td class=\"is-one-third-width-tablet\">\n",
    "\t<span class=\"break-text\">\n",
    "\t\t<a class=\"xref\" href=\"https://learn.microsoft.com/en-us/dotnet/api/system.collections.generic.priorityqueue-2.clear?view=net-7.0#system-collections-generic-priorityqueue-2-clear\" data-linktype=\"relative-path\">Clear()</a>\n",
    "\t</span>\n",
    "</td>\n",
    "\t<td class=\"summary\"> \n",
    "\t\t<p>Removes all items from the <a class=\"no-loc\" href=\"https://learn.microsoft.com/en-us/dotnet/api/system.collections.generic.priorityqueue-2?view=net-7.0\" data-linktype=\"relative-path\">PriorityQueue&lt;TElement,TPriority&gt;</a>.</p>\n",
    "\t</td>\n",
    "        \t</tr>\n",
    "        \t<tr>\n",
    "\t  <td class=\"is-one-third-width-tablet\">\n",
    "\t<span class=\"break-text\">\n",
    "\t\t<a class=\"xref\" href=\"https://learn.microsoft.com/en-us/dotnet/api/system.collections.generic.priorityqueue-2.dequeue?view=net-7.0#system-collections-generic-priorityqueue-2-dequeue\" data-linktype=\"relative-path\">Dequeue()</a>\n",
    "\t</span>\n",
    "</td>\n",
    "\t<td class=\"summary\"> \n",
    "\t\t<p>Removes and returns the minimal element from the <a class=\"no-loc\" href=\"https://learn.microsoft.com/en-us/dotnet/api/system.collections.generic.priorityqueue-2?view=net-7.0\" data-linktype=\"relative-path\">PriorityQueue&lt;TElement,TPriority&gt;</a> - that is, the element with the lowest priority value.</p>\n",
    "\t</td>\n",
    "        \t</tr>\n",
    "        \t<tr>\n",
    "\t  <td class=\"is-one-third-width-tablet\">\n",
    "\t<span class=\"break-text\">\n",
    "\t\t<a class=\"xref\" href=\"https://learn.microsoft.com/en-us/dotnet/api/system.collections.generic.priorityqueue-2.enqueue?view=net-7.0#system-collections-generic-priorityqueue-2-enqueue(-0-1)\" data-linktype=\"relative-path\">Enqueue(TElement, TPriority)</a>\n",
    "\t</span>\n",
    "</td>\n",
    "\t<td class=\"summary\"> \n",
    "\t\t<p>Adds the specified element with associated priority to the <a class=\"no-loc\" href=\"https://learn.microsoft.com/en-us/dotnet/api/system.collections.generic.priorityqueue-2?view=net-7.0\" data-linktype=\"relative-path\">PriorityQueue&lt;TElement,TPriority&gt;</a>.</p>\n",
    "\t</td>\n",
    "        \t</tr>\n",
    "        \t<tr>\n",
    "\t  <td class=\"is-one-third-width-tablet\">\n",
    "\t<span class=\"break-text\">\n",
    "\t\t<a class=\"xref\" href=\"https://learn.microsoft.com/en-us/dotnet/api/system.collections.generic.priorityqueue-2.enqueuedequeue?view=net-7.0#system-collections-generic-priorityqueue-2-enqueuedequeue(-0-1)\" data-linktype=\"relative-path\">Enqueue<wbr>Dequeue(TElement, TPriority)</a>\n",
    "\t</span>\n",
    "</td>\n",
    "\t<td class=\"summary\"> \n",
    "\t\t<p>Adds the specified element with associated priority to the <a class=\"no-loc\" href=\"https://learn.microsoft.com/en-us/dotnet/api/system.collections.generic.priorityqueue-2?view=net-7.0\" data-linktype=\"relative-path\">PriorityQueue&lt;TElement,TPriority&gt;</a>, and immediately removes the minimal element, returning the result.</p>\n",
    "\t</td>\n",
    "        \t</tr>\n",
    "        \t<tr>\n",
    "\t  <td class=\"is-one-third-width-tablet\">\n",
    "\t<span class=\"break-text\">\n",
    "\t\t<a class=\"xref\" href=\"https://learn.microsoft.com/en-us/dotnet/api/system.collections.generic.priorityqueue-2.enqueuerange?view=net-7.0#system-collections-generic-priorityqueue-2-enqueuerange(system-collections-generic-ienumerable((-0))-1)\" data-linktype=\"relative-path\">Enqueue<wbr>Range(IEnumerable&lt;TElement&gt;, TPriority)</a>\n",
    "\t</span>\n",
    "</td>\n",
    "\t<td class=\"summary\"> \n",
    "\t\t<p>Enqueues a sequence of elements pairs to the <a class=\"no-loc\" href=\"https://learn.microsoft.com/en-us/dotnet/api/system.collections.generic.priorityqueue-2?view=net-7.0\" data-linktype=\"relative-path\">PriorityQueue&lt;TElement,TPriority&gt;</a>, all associated with the specified priority.</p>\n",
    "\t</td>\n",
    "        \t</tr>\n",
    "        \t<tr>\n",
    "\t  <td class=\"is-one-third-width-tablet\">\n",
    "\t<span class=\"break-text\">\n",
    "\t\t<a class=\"xref\" href=\"https://learn.microsoft.com/en-us/dotnet/api/system.collections.generic.priorityqueue-2.enqueuerange?view=net-7.0#system-collections-generic-priorityqueue-2-enqueuerange(system-collections-generic-ienumerable((system-valuetuple((-0-1)))))\" data-linktype=\"relative-path\">Enqueue<wbr>Range(IEnumerable&lt;Value<wbr>Tuple&lt;TElement,TPriority&gt;&gt;)</a>\n",
    "\t</span>\n",
    "</td>\n",
    "\t<td class=\"summary\"> \n",
    "\t\t<p>Enqueues a sequence of element-priority pairs to the <a class=\"no-loc\" href=\"https://learn.microsoft.com/en-us/dotnet/api/system.collections.generic.priorityqueue-2?view=net-7.0\" data-linktype=\"relative-path\">PriorityQueue&lt;TElement,TPriority&gt;</a>.</p>\n",
    "\t</td>\n",
    "        \t</tr>\n",
    "        \t<tr>\n",
    "\t  <td class=\"is-one-third-width-tablet\">\n",
    "\t<span class=\"break-text\">\n",
    "\t\t<a class=\"xref\" href=\"https://learn.microsoft.com/en-us/dotnet/api/system.collections.generic.priorityqueue-2.ensurecapacity?view=net-7.0#system-collections-generic-priorityqueue-2-ensurecapacity(system-int32)\" data-linktype=\"relative-path\">Ensure<wbr>Capacity(Int32)</a>\n",
    "\t</span>\n",
    "</td>\n",
    "\t<td class=\"summary\"> \n",
    "\t\t<p>Ensures that the <a class=\"no-loc\" href=\"https://learn.microsoft.com/en-us/dotnet/api/system.collections.generic.priorityqueue-2?view=net-7.0\" data-linktype=\"relative-path\">PriorityQueue&lt;TElement,TPriority&gt;</a> can hold up to <code data-dev-comment-type=\"paramref\">capacity</code> items without further expansion of its backing storage.</p>\n",
    "\t</td>\n",
    "        \t</tr>\n",
    "        \t<tr>\n",
    "\t<td class=\"is-one-third-width-tablet\">\n",
    "\t\t<span class=\"break-text\">\n",
    "\t\t\t  <a class=\"xref\" href=\"https://learn.microsoft.com/en-us/dotnet/api/system.object.equals?view=net-7.0#system-object-equals(system-object)\" data-linktype=\"relative-path\">Equals(Object)</a>\n",
    "\t\t</span>\n",
    "\t</td>\n",
    "\t<td class=\"summary\">\n",
    "\t\t  <p>Determines whether the specified object is equal to the current object.</p>\n",
    "\t\t(Inherited from   <a class=\"xref\" href=\"https://learn.microsoft.com/en-us/dotnet/api/system.object?view=net-7.0\" data-linktype=\"relative-path\">Object</a>)\n",
    "\t</td>\n",
    "        \t</tr>\n",
    "        \t<tr>\n",
    "\t<td class=\"is-one-third-width-tablet\">\n",
    "\t\t<span class=\"break-text\">\n",
    "\t\t\t  <a class=\"xref\" href=\"https://learn.microsoft.com/en-us/dotnet/api/system.object.gethashcode?view=net-7.0#system-object-gethashcode\" data-linktype=\"relative-path\">Get<wbr>Hash<wbr>Code()</a>\n",
    "\t\t</span>\n",
    "\t</td>\n",
    "\t<td class=\"summary\">\n",
    "\t\t  <p>Serves as the default hash function.</p>\n",
    "\t\t(Inherited from   <a class=\"xref\" href=\"https://learn.microsoft.com/en-us/dotnet/api/system.object?view=net-7.0\" data-linktype=\"relative-path\">Object</a>)\n",
    "\t</td>\n",
    "        \t</tr>\n",
    "        \t<tr>\n",
    "\t<td class=\"is-one-third-width-tablet\">\n",
    "\t\t<span class=\"break-text\">\n",
    "\t\t\t  <a class=\"xref\" href=\"https://learn.microsoft.com/en-us/dotnet/api/system.object.gettype?view=net-7.0#system-object-gettype\" data-linktype=\"relative-path\">Get<wbr>Type()</a>\n",
    "\t\t</span>\n",
    "\t</td>\n",
    "\t<td class=\"summary\">\n",
    "\t\t  <p>Gets the <a class=\"no-loc\" href=\"https://learn.microsoft.com/en-us/dotnet/api/system.type?view=net-7.0\" data-linktype=\"relative-path\">Type</a> of the current instance.</p>\n",
    "\t\t(Inherited from   <a class=\"xref\" href=\"https://learn.microsoft.com/en-us/dotnet/api/system.object?view=net-7.0\" data-linktype=\"relative-path\">Object</a>)\n",
    "\t</td>\n",
    "        \t</tr>\n",
    "        \t<tr>\n",
    "\t<td class=\"is-one-third-width-tablet\">\n",
    "\t\t<span class=\"break-text\">\n",
    "\t\t\t  <a class=\"xref\" href=\"https://learn.microsoft.com/en-us/dotnet/api/system.object.memberwiseclone?view=net-7.0#system-object-memberwiseclone\" data-linktype=\"relative-path\">Memberwise<wbr>Clone()</a>\n",
    "\t\t</span>\n",
    "\t</td>\n",
    "\t<td class=\"summary\">\n",
    "\t\t  <p>Creates a shallow copy of the current <a class=\"no-loc\" href=\"https://learn.microsoft.com/en-us/dotnet/api/system.object?view=net-7.0\" data-linktype=\"relative-path\">Object</a>.</p>\n",
    "\t\t(Inherited from   <a class=\"xref\" href=\"https://learn.microsoft.com/en-us/dotnet/api/system.object?view=net-7.0\" data-linktype=\"relative-path\">Object</a>)\n",
    "\t</td>\n",
    "        \t</tr>\n",
    "        \t<tr>\n",
    "\t  <td class=\"is-one-third-width-tablet\">\n",
    "\t<span class=\"break-text\">\n",
    "\t\t<a class=\"xref\" href=\"https://learn.microsoft.com/en-us/dotnet/api/system.collections.generic.priorityqueue-2.peek?view=net-7.0#system-collections-generic-priorityqueue-2-peek\" data-linktype=\"relative-path\">Peek()</a>\n",
    "\t</span>\n",
    "</td>\n",
    "\t<td class=\"summary\"> \n",
    "\t\t<p>Returns the minimal element from the <a class=\"no-loc\" href=\"https://learn.microsoft.com/en-us/dotnet/api/system.collections.generic.priorityqueue-2?view=net-7.0\" data-linktype=\"relative-path\">PriorityQueue&lt;TElement,TPriority&gt;</a> without removing it.</p>\n",
    "\t</td>\n",
    "        \t</tr>\n",
    "        \t<tr>\n",
    "\t<td class=\"is-one-third-width-tablet\">\n",
    "\t\t<span class=\"break-text\">\n",
    "\t\t\t  <a class=\"xref\" href=\"https://learn.microsoft.com/en-us/dotnet/api/system.object.tostring?view=net-7.0#system-object-tostring\" data-linktype=\"relative-path\">To<wbr>String()</a>\n",
    "\t\t</span>\n",
    "\t</td>\n",
    "\t<td class=\"summary\">\n",
    "\t\t  <p>Returns a string that represents the current object.</p>\n",
    "\t\t(Inherited from   <a class=\"xref\" href=\"https://learn.microsoft.com/en-us/dotnet/api/system.object?view=net-7.0\" data-linktype=\"relative-path\">Object</a>)\n",
    "\t</td>\n",
    "        \t</tr>\n",
    "        \t<tr>\n",
    "\t  <td class=\"is-one-third-width-tablet\">\n",
    "\t<span class=\"break-text\">\n",
    "\t\t<a class=\"xref\" href=\"https://learn.microsoft.com/en-us/dotnet/api/system.collections.generic.priorityqueue-2.trimexcess?view=net-7.0#system-collections-generic-priorityqueue-2-trimexcess\" data-linktype=\"relative-path\">Trim<wbr>Excess()</a>\n",
    "\t</span>\n",
    "</td>\n",
    "\t<td class=\"summary\"> \n",
    "\t\t<p>Sets the capacity to the actual number of items in the <a class=\"no-loc\" href=\"https://learn.microsoft.com/en-us/dotnet/api/system.collections.generic.priorityqueue-2?view=net-7.0\" data-linktype=\"relative-path\">PriorityQueue&lt;TElement,TPriority&gt;</a>, if that is less than 90 percent of current capacity.</p>\n",
    "\t</td>\n",
    "        \t</tr>\n",
    "        \t<tr>\n",
    "\t  <td class=\"is-one-third-width-tablet\">\n",
    "\t<span class=\"break-text\">\n",
    "\t\t<a class=\"xref\" href=\"https://learn.microsoft.com/en-us/dotnet/api/system.collections.generic.priorityqueue-2.trydequeue?view=net-7.0#system-collections-generic-priorityqueue-2-trydequeue(-0@-1@)\" data-linktype=\"relative-path\">Try<wbr>Dequeue(TElement, TPriority)</a>\n",
    "\t</span>\n",
    "</td>\n",
    "\t<td class=\"summary\"> \n",
    "\t\t<p>Removes the minimal element from the <a class=\"no-loc\" href=\"https://learn.microsoft.com/en-us/dotnet/api/system.collections.generic.priorityqueue-2?view=net-7.0\" data-linktype=\"relative-path\">PriorityQueue&lt;TElement,TPriority&gt;</a>, and copies it and its associated priority to the <code data-dev-comment-type=\"paramref\">element</code> and <code data-dev-comment-type=\"paramref\">priority</code> arguments.</p>\n",
    "\t</td>\n",
    "        \t</tr>\n",
    "        \t<tr>\n",
    "\t  <td class=\"is-one-third-width-tablet\">\n",
    "\t<span class=\"break-text\">\n",
    "\t\t<a class=\"xref\" href=\"https://learn.microsoft.com/en-us/dotnet/api/system.collections.generic.priorityqueue-2.trypeek?view=net-7.0#system-collections-generic-priorityqueue-2-trypeek(-0@-1@)\" data-linktype=\"relative-path\">Try<wbr>Peek(TElement, TPriority)</a>\n",
    "\t</span>\n",
    "</td>\n",
    "\t<td class=\"summary\"> \n",
    "\t\t<p>Returns a value that indicates whether there is a minimal element in the <a class=\"no-loc\" href=\"https://learn.microsoft.com/en-us/dotnet/api/system.collections.generic.priorityqueue-2?view=net-7.0\" data-linktype=\"relative-path\">PriorityQueue&lt;TElement,TPriority&gt;</a>, and if one is present, copies it and its associated priority to the <code data-dev-comment-type=\"paramref\">element</code> and <code data-dev-comment-type=\"paramref\">priority</code> arguments. The element is not removed from the <a class=\"no-loc\" href=\"https://learn.microsoft.com/en-us/dotnet/api/system.collections.generic.priorityqueue-2?view=net-7.0\" data-linktype=\"relative-path\">PriorityQueue&lt;TElement,TPriority&gt;</a>.</p>\n",
    "\t</td>\n",
    "        \t</tr>\n",
    "\t</tbody></table>"
   ]
  },
  {
   "attachments": {},
   "cell_type": "markdown",
   "metadata": {
    "dotnet_interactive": {
     "language": "csharp"
    },
    "polyglot_notebook": {
     "kernelName": "csharp"
    }
   },
   "source": [
    "<br>"
   ]
  },
  {
   "attachments": {},
   "cell_type": "markdown",
   "metadata": {
    "dotnet_interactive": {
     "language": "csharp"
    },
    "polyglot_notebook": {
     "kernelName": "csharp"
    }
   },
   "source": [
    "### Instantiation and Example Usage"
   ]
  },
  {
   "attachments": {},
   "cell_type": "markdown",
   "metadata": {
    "dotnet_interactive": {
     "language": "csharp"
    },
    "polyglot_notebook": {
     "kernelName": "csharp"
    }
   },
   "source": [
    "#### `Queue<T>`"
   ]
  }
 ],
 "metadata": {
  "kernelspec": {
   "display_name": ".NET (C#)",
   "language": "C#",
   "name": ".net-csharp"
  },
  "polyglot_notebook": {
   "kernelInfo": {
    "defaultKernelName": "csharp",
    "items": [
     {
      "aliases": [
       "c#",
       "C#"
      ],
      "languageName": "C#",
      "name": "csharp"
     },
     {
      "aliases": [
       "frontend"
      ],
      "languageName": null,
      "name": "vscode"
     }
    ]
   }
  }
 },
 "nbformat": 4,
 "nbformat_minor": 2
}
