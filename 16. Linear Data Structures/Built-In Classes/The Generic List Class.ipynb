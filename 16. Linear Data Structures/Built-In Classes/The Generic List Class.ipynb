{
 "cells": [
  {
   "attachments": {},
   "cell_type": "markdown",
   "metadata": {
    "dotnet_interactive": {
     "language": "csharp"
    },
    "polyglot_notebook": {
     "kernelName": "csharp"
    }
   },
   "source": [
    "# 16. Linear Data Stuctures"
   ]
  },
  {
   "attachments": {},
   "cell_type": "markdown",
   "metadata": {
    "dotnet_interactive": {
     "language": "csharp"
    },
    "polyglot_notebook": {
     "kernelName": "csharp"
    }
   },
   "source": [
    "## Built-In Classes\n",
    "### The `List<T>` Class\n",
    "---"
   ]
  },
  {
   "attachments": {},
   "cell_type": "markdown",
   "metadata": {
    "dotnet_interactive": {
     "language": "csharp"
    },
    "polyglot_notebook": {
     "kernelName": "csharp"
    }
   },
   "source": [
    "[`List<T>`](https://learn.microsoft.com/en-us/dotnet/api/system.collections.generic.list-1?view=net-7.0) is the **generic variant of** [ArrayList](./The%20ArrayList%20Class.ipynb).   \n",
    "    \n",
    "When we create an object of type `List<T>`, we indicate the type of the elements which will be hold in the list, i.e. we substitute the denoted by `<T>` **type** with some real data type (for example number or string)."
   ]
  },
  {
   "attachments": {},
   "cell_type": "markdown",
   "metadata": {
    "dotnet_interactive": {
     "language": "csharp"
    },
    "polyglot_notebook": {
     "kernelName": "csharp"
    }
   },
   "source": [
    "`List<T>` works like our custom [`ResizeableArray<T>`](../Custom%20Implementations/Static%20(Array-based)%20Lists.ipynb) class.   \n",
    "    \n",
    "It keeps its elements in the memory as an **array**, which is partially in use and partially free for new elements (blank). Thanks to the reserved blank elements in the array, the append operation almost always manages to add the new element without the need to resize the array. Sometimes, of course, the array has to be resized, but as each resize would double the size of the array, resizing happens so seldom that it can be ignored in comparison to the count of append operations."
   ]
  },
  {
   "attachments": {},
   "cell_type": "markdown",
   "metadata": {
    "dotnet_interactive": {
     "language": "csharp"
    },
    "polyglot_notebook": {
     "kernelName": "csharp"
    }
   },
   "source": [
    "There's both advantages and disadvantages to using this class: "
   ]
  },
  {
   "attachments": {},
   "cell_type": "markdown",
   "metadata": {
    "dotnet_interactive": {
     "language": "csharp"
    },
    "polyglot_notebook": {
     "kernelName": "csharp"
    }
   },
   "source": [
    "- The **search by index is very fast** – we can access with equal speed each of the elements, regardless of the count of elements.\n",
    "- The **search for an element by value** works with as many comparisons as the count of elements (in the worst case), i.e. it is **slow**.\n",
    "- **Inserting** and **removing elements** is a **slow** operation – when we add or remove elements, especially if they are not in the end of the array, we have to shift the rest of the elements and this is a slow operation.\n",
    "- When **adding a new element to the end**, sometimes we have to increase the capacity of the array, which is a slow operation, but it happens seldom and the average speed of insertion to List does not depend on the count of elements, i.e. it works very **fast**."
   ]
  },
  {
   "attachments": {},
   "cell_type": "markdown",
   "metadata": {
    "dotnet_interactive": {
     "language": "csharp"
    },
    "polyglot_notebook": {
     "kernelName": "csharp"
    }
   },
   "source": [
    "As such, use `List<T>` when you **don’t expect frequent insertion and deletion** of elements, but you expect to **add new elements at the end** of the list or to **access the elements by index**."
   ]
  },
  {
   "attachments": {},
   "cell_type": "markdown",
   "metadata": {
    "dotnet_interactive": {
     "language": "csharp"
    },
    "polyglot_notebook": {
     "kernelName": "csharp"
    }
   },
   "source": [
    "<br>"
   ]
  },
  {
   "attachments": {},
   "cell_type": "markdown",
   "metadata": {
    "dotnet_interactive": {
     "language": "csharp"
    },
    "polyglot_notebook": {
     "kernelName": "csharp"
    }
   },
   "source": [
    "### Class Definition"
   ]
  },
  {
   "attachments": {},
   "cell_type": "markdown",
   "metadata": {
    "dotnet_interactive": {
     "language": "csharp"
    },
    "polyglot_notebook": {
     "kernelName": "csharp"
    }
   },
   "source": [
    "#### Properties"
   ]
  },
  {
   "attachments": {},
   "cell_type": "markdown",
   "metadata": {
    "dotnet_interactive": {
     "language": "csharp"
    },
    "polyglot_notebook": {
     "kernelName": "csharp"
    }
   },
   "source": [
    "<table class=\"nameValue table table-sm table-stacked-mobile\" aria-label=\"Table 2\">\n",
    "        \t<tbody><tr>\n",
    "\t  <td class=\"is-one-third-width-tablet\">\n",
    "\t<span class=\"break-text\">\n",
    "\t\t<a class=\"xref\" href=\"https://learn.microsoft.com/en-us/dotnet/api/system.collections.generic.list-1.capacity?view=net-7.0#system-collections-generic-list-1-capacity\" data-linktype=\"relative-path\">Capacity</a>\n",
    "\t</span>\n",
    "</td>\n",
    "\t<td class=\"summary\"> \n",
    "\t\t<p>Gets or sets the total number of elements the internal data structure can hold without resizing.</p>\n",
    "\t</td>\n",
    "        \t</tr>\n",
    "        \t<tr>\n",
    "\t  <td class=\"is-one-third-width-tablet\">\n",
    "\t<span class=\"break-text\">\n",
    "\t\t<a class=\"xref\" href=\"https://learn.microsoft.com/en-us/dotnet/api/system.collections.generic.list-1.count?view=net-7.0#system-collections-generic-list-1-count\" data-linktype=\"relative-path\">Count</a>\n",
    "\t</span>\n",
    "</td>\n",
    "\t<td class=\"summary\"> \n",
    "\t\t<p>Gets the number of elements contained in the <a class=\"no-loc\" href=\"https://learn.microsoft.com/en-us/dotnet/api/system.collections.generic.list-1?view=net-7.0\" data-linktype=\"relative-path\">List&lt;T&gt;</a>.</p>\n",
    "\t</td>\n",
    "        \t</tr>\n",
    "        \t<tr>\n",
    "\t  <td class=\"is-one-third-width-tablet\">\n",
    "\t<span class=\"break-text\">\n",
    "\t\t<a class=\"xref\" href=\"https://learn.microsoft.com/en-us/dotnet/api/system.collections.generic.list-1.item?view=net-7.0#system-collections-generic-list-1-item(system-int32)\" data-linktype=\"relative-path\">Item[Int32]</a>\n",
    "\t</span>\n",
    "</td>\n",
    "\t<td class=\"summary\"> \n",
    "\t\t<p>Gets or sets the element at the specified index.</p>\n",
    "\t</td>\n",
    "        \t</tr>\n",
    "\t</tbody></table>"
   ]
  },
  {
   "attachments": {},
   "cell_type": "markdown",
   "metadata": {
    "dotnet_interactive": {
     "language": "csharp"
    },
    "polyglot_notebook": {
     "kernelName": "csharp"
    }
   },
   "source": [
    "<br>"
   ]
  },
  {
   "attachments": {},
   "cell_type": "markdown",
   "metadata": {
    "dotnet_interactive": {
     "language": "csharp"
    },
    "polyglot_notebook": {
     "kernelName": "csharp"
    }
   },
   "source": [
    "#### Constructors"
   ]
  },
  {
   "attachments": {},
   "cell_type": "markdown",
   "metadata": {
    "dotnet_interactive": {
     "language": "csharp"
    },
    "polyglot_notebook": {
     "kernelName": "csharp"
    }
   },
   "source": [
    "<table class=\"nameValue table table-sm table-stacked-mobile\" aria-label=\"Table 1\">\n",
    "        \t<tbody><tr>\n",
    "\t  <td class=\"is-one-third-width-tablet\">\n",
    "\t<span class=\"break-text\">\n",
    "\t\t<a class=\"xref\" href=\"https://learn.microsoft.com/en-us/dotnet/api/system.collections.generic.list-1.-ctor?view=net-7.0#system-collections-generic-list-1-ctor\" data-linktype=\"relative-path\">List&lt;T&gt;()</a>\n",
    "\t</span>\n",
    "</td>\n",
    "\t<td class=\"summary\"> \n",
    "\t\t<p>Initializes a new instance of the <a class=\"no-loc\" href=\"https://learn.microsoft.com/en-us/dotnet/api/system.collections.generic.list-1?view=net-7.0\" data-linktype=\"relative-path\">List&lt;T&gt;</a> class that is empty and has the default initial capacity.</p>\n",
    "\t</td>\n",
    "        \t</tr>\n",
    "        \t<tr>\n",
    "\t  <td class=\"is-one-third-width-tablet\">\n",
    "\t<span class=\"break-text\">\n",
    "\t\t<a class=\"xref\" href=\"https://learn.microsoft.com/en-us/dotnet/api/system.collections.generic.list-1.-ctor?view=net-7.0#system-collections-generic-list-1-ctor(system-collections-generic-ienumerable((-0)))\" data-linktype=\"relative-path\">List&lt;T&gt;(IEnumerable&lt;T&gt;)</a>\n",
    "\t</span>\n",
    "</td>\n",
    "\t<td class=\"summary\"> \n",
    "\t\t<p>Initializes a new instance of the <a class=\"no-loc\" href=\"https://learn.microsoft.com/en-us/dotnet/api/system.collections.generic.list-1?view=net-7.0\" data-linktype=\"relative-path\">List&lt;T&gt;</a> class that contains elements copied from the specified collection and has sufficient capacity to accommodate the number of elements copied.</p>\n",
    "\t</td>\n",
    "        \t</tr>\n",
    "        \t<tr>\n",
    "\t  <td class=\"is-one-third-width-tablet\">\n",
    "\t<span class=\"break-text\">\n",
    "\t\t<a class=\"xref\" href=\"https://learn.microsoft.com/en-us/dotnet/api/system.collections.generic.list-1.-ctor?view=net-7.0#system-collections-generic-list-1-ctor(system-int32)\" data-linktype=\"relative-path\">List&lt;T&gt;(Int32)</a>\n",
    "\t</span>\n",
    "</td>\n",
    "\t<td class=\"summary\"> \n",
    "\t\t<p>Initializes a new instance of the <a class=\"no-loc\" href=\"https://learn.microsoft.com/en-us/dotnet/api/system.collections.generic.list-1?view=net-7.0\" data-linktype=\"relative-path\">List&lt;T&gt;</a> class that is empty and has the specified initial capacity.</p>\n",
    "\t</td>\n",
    "        \t</tr>\n",
    "\t</tbody></table>"
   ]
  },
  {
   "attachments": {},
   "cell_type": "markdown",
   "metadata": {
    "dotnet_interactive": {
     "language": "csharp"
    },
    "polyglot_notebook": {
     "kernelName": "csharp"
    }
   },
   "source": [
    "<br>"
   ]
  },
  {
   "attachments": {},
   "cell_type": "markdown",
   "metadata": {
    "dotnet_interactive": {
     "language": "csharp"
    },
    "polyglot_notebook": {
     "kernelName": "csharp"
    }
   },
   "source": [
    "#### Methods"
   ]
  },
  {
   "attachments": {},
   "cell_type": "markdown",
   "metadata": {
    "dotnet_interactive": {
     "language": "csharp"
    },
    "polyglot_notebook": {
     "kernelName": "csharp"
    }
   },
   "source": [
    "<table class=\"nameValue table table-sm table-stacked-mobile\" aria-label=\"Table 3\">\n",
    "        \t<tbody><tr>\n",
    "\t  <td class=\"is-one-third-width-tablet\">\n",
    "\t<span class=\"break-text\">\n",
    "\t\t<a class=\"xref\" href=\"https://learn.microsoft.com/en-us/dotnet/api/system.collections.generic.list-1.add?view=net-7.0#system-collections-generic-list-1-add(-0)\" data-linktype=\"relative-path\">Add(T)</a>\n",
    "\t</span>\n",
    "</td>\n",
    "\t<td class=\"summary\"> \n",
    "\t\t<p>Adds an object to the end of the <a class=\"no-loc\" href=\"https://learn.microsoft.com/en-us/dotnet/api/system.collections.generic.list-1?view=net-7.0\" data-linktype=\"relative-path\">List&lt;T&gt;</a>.</p>\n",
    "\t</td>\n",
    "        \t</tr>\n",
    "        \t<tr>\n",
    "\t  <td class=\"is-one-third-width-tablet\">\n",
    "\t<span class=\"break-text\">\n",
    "\t\t<a class=\"xref\" href=\"https://learn.microsoft.com/en-us/dotnet/api/system.collections.generic.list-1.addrange?view=net-7.0#system-collections-generic-list-1-addrange(system-collections-generic-ienumerable((-0)))\" data-linktype=\"relative-path\">Add<wbr>Range(IEnumerable&lt;T&gt;)</a>\n",
    "\t</span>\n",
    "</td>\n",
    "\t<td class=\"summary\"> \n",
    "\t\t<p>Adds the elements of the specified collection to the end of the <a class=\"no-loc\" href=\"https://learn.microsoft.com/en-us/dotnet/api/system.collections.generic.list-1?view=net-7.0\" data-linktype=\"relative-path\">List&lt;T&gt;</a>.</p>\n",
    "\t</td>\n",
    "        \t</tr>\n",
    "        \t<tr data-moniker=\" dotnet-uwp-10.0 net-5.0 net-6.0 net-7.0 netcore-1.0 netcore-1.1 netcore-2.0 netcore-2.1 netcore-2.2 netcore-3.0 netcore-3.1 netframework-2.0 netframework-3.0 netframework-3.5 netframework-4.0 netframework-4.5 netframework-4.5.1 netframework-4.5.2 netframework-4.6 netframework-4.6.1 netframework-4.6.2 netframework-4.7 netframework-4.7.1 netframework-4.7.2 netframework-4.8 netframework-4.8.1 netstandard-1.3 netstandard-1.4 netstandard-1.6 netstandard-2.0 netstandard-2.1 xamarinandroid-7.1 xamarinios-10.8 xamarinmac-3.0 \">\n",
    "\t  <td class=\"is-one-third-width-tablet\">\n",
    "\t<span class=\"break-text\">\n",
    "\t\t<a class=\"xref\" href=\"https://learn.microsoft.com/en-us/dotnet/api/system.collections.generic.list-1.asreadonly?view=net-7.0#system-collections-generic-list-1-asreadonly\" data-linktype=\"relative-path\">As<wbr>Read<wbr>Only()</a>\n",
    "\t</span>\n",
    "</td>\n",
    "\t<td class=\"summary\"> \n",
    "\t\t<p>Returns a read-only <a class=\"no-loc\" href=\"https://learn.microsoft.com/en-us/dotnet/api/system.collections.objectmodel.readonlycollection-1?view=net-7.0\" data-linktype=\"relative-path\">ReadOnlyCollection&lt;T&gt;</a> wrapper for the current collection.</p>\n",
    "\t</td>\n",
    "        \t</tr>\n",
    "        \t<tr>\n",
    "\t  <td class=\"is-one-third-width-tablet\">\n",
    "\t<span class=\"break-text\">\n",
    "\t\t<a class=\"xref\" href=\"https://learn.microsoft.com/en-us/dotnet/api/system.collections.generic.list-1.binarysearch?view=net-7.0#system-collections-generic-list-1-binarysearch(system-int32-system-int32-0-system-collections-generic-icomparer((-0)))\" data-linktype=\"relative-path\">Binary<wbr>Search(Int32, Int32, T, IComparer&lt;T&gt;)</a>\n",
    "\t</span>\n",
    "</td>\n",
    "\t<td class=\"summary\"> \n",
    "\t\t<p>Searches a range of elements in the sorted <a class=\"no-loc\" href=\"https://learn.microsoft.com/en-us/dotnet/api/system.collections.generic.list-1?view=net-7.0\" data-linktype=\"relative-path\">List&lt;T&gt;</a> for an element using the specified comparer and returns the zero-based index of the element.</p>\n",
    "\t</td>\n",
    "        \t</tr>\n",
    "        \t<tr>\n",
    "\t  <td class=\"is-one-third-width-tablet\">\n",
    "\t<span class=\"break-text\">\n",
    "\t\t<a class=\"xref\" href=\"https://learn.microsoft.com/en-us/dotnet/api/system.collections.generic.list-1.binarysearch?view=net-7.0#system-collections-generic-list-1-binarysearch(-0)\" data-linktype=\"relative-path\">Binary<wbr>Search(T)</a>\n",
    "\t</span>\n",
    "</td>\n",
    "\t<td class=\"summary\"> \n",
    "\t\t<p>Searches the entire sorted <a class=\"no-loc\" href=\"https://learn.microsoft.com/en-us/dotnet/api/system.collections.generic.list-1?view=net-7.0\" data-linktype=\"relative-path\">List&lt;T&gt;</a> for an element using the default comparer and returns the zero-based index of the element.</p>\n",
    "\t</td>\n",
    "        \t</tr>\n",
    "        \t<tr>\n",
    "\t  <td class=\"is-one-third-width-tablet\">\n",
    "\t<span class=\"break-text\">\n",
    "\t\t<a class=\"xref\" href=\"https://learn.microsoft.com/en-us/dotnet/api/system.collections.generic.list-1.binarysearch?view=net-7.0#system-collections-generic-list-1-binarysearch(-0-system-collections-generic-icomparer((-0)))\" data-linktype=\"relative-path\">Binary<wbr>Search(T, IComparer&lt;T&gt;)</a>\n",
    "\t</span>\n",
    "</td>\n",
    "\t<td class=\"summary\"> \n",
    "\t\t<p>Searches the entire sorted <a class=\"no-loc\" href=\"https://learn.microsoft.com/en-us/dotnet/api/system.collections.generic.list-1?view=net-7.0\" data-linktype=\"relative-path\">List&lt;T&gt;</a> for an element using the specified comparer and returns the zero-based index of the element.</p>\n",
    "\t</td>\n",
    "        \t</tr>\n",
    "        \t<tr>\n",
    "\t  <td class=\"is-one-third-width-tablet\">\n",
    "\t<span class=\"break-text\">\n",
    "\t\t<a class=\"xref\" href=\"https://learn.microsoft.com/en-us/dotnet/api/system.collections.generic.list-1.clear?view=net-7.0#system-collections-generic-list-1-clear\" data-linktype=\"relative-path\">Clear()</a>\n",
    "\t</span>\n",
    "</td>\n",
    "\t<td class=\"summary\"> \n",
    "\t\t<p>Removes all elements from the <a class=\"no-loc\" href=\"https://learn.microsoft.com/en-us/dotnet/api/system.collections.generic.list-1?view=net-7.0\" data-linktype=\"relative-path\">List&lt;T&gt;</a>.</p>\n",
    "\t</td>\n",
    "        \t</tr>\n",
    "        \t<tr>\n",
    "\t  <td class=\"is-one-third-width-tablet\">\n",
    "\t<span class=\"break-text\">\n",
    "\t\t<a class=\"xref\" href=\"https://learn.microsoft.com/en-us/dotnet/api/system.collections.generic.list-1.contains?view=net-7.0#system-collections-generic-list-1-contains(-0)\" data-linktype=\"relative-path\">Contains(T)</a>\n",
    "\t</span>\n",
    "</td>\n",
    "\t<td class=\"summary\"> \n",
    "\t\t<p>Determines whether an element is in the <a class=\"no-loc\" href=\"https://learn.microsoft.com/en-us/dotnet/api/system.collections.generic.list-1?view=net-7.0\" data-linktype=\"relative-path\">List&lt;T&gt;</a>.</p>\n",
    "\t</td>\n",
    "        \t</tr>\n",
    "        \t<tr data-moniker=\" net-5.0 net-6.0 net-7.0 netcore-2.0 netcore-2.1 netcore-2.2 netcore-3.0 netcore-3.1 netframework-2.0 netframework-3.0 netframework-3.5 netframework-4.0 netframework-4.5 netframework-4.5.1 netframework-4.5.2 netframework-4.6 netframework-4.6.1 netframework-4.6.2 netframework-4.7 netframework-4.7.1 netframework-4.7.2 netframework-4.8 netframework-4.8.1 netstandard-2.0 netstandard-2.1 xamarinandroid-7.1 xamarinios-10.8 xamarinmac-3.0 \">\n",
    "\t  <td class=\"is-one-third-width-tablet\">\n",
    "\t<span class=\"break-text\">\n",
    "\t\t<a class=\"xref\" href=\"https://learn.microsoft.com/en-us/dotnet/api/system.collections.generic.list-1.convertall?view=net-7.0#system-collections-generic-list-1-convertall-1(system-converter((-0-0)))\" data-linktype=\"relative-path\">Convert<wbr>All&lt;TOutput&gt;(Converter&lt;T,TOutput&gt;)</a>\n",
    "\t</span>\n",
    "</td>\n",
    "\t<td class=\"summary\"> \n",
    "\t\t<p>Converts the elements in the current <a class=\"no-loc\" href=\"https://learn.microsoft.com/en-us/dotnet/api/system.collections.generic.list-1?view=net-7.0\" data-linktype=\"relative-path\">List&lt;T&gt;</a> to another type, and returns a list containing the converted elements.</p>\n",
    "\t</td>\n",
    "        \t</tr>\n",
    "        \t<tr>\n",
    "\t  <td class=\"is-one-third-width-tablet\">\n",
    "\t<span class=\"break-text\">\n",
    "\t\t<a class=\"xref\" href=\"https://learn.microsoft.com/en-us/dotnet/api/system.collections.generic.list-1.copyto?view=net-7.0#system-collections-generic-list-1-copyto(system-int32-0()-system-int32-system-int32)\" data-linktype=\"relative-path\">Copy<wbr>To(Int32, T[], Int32, Int32)</a>\n",
    "\t</span>\n",
    "</td>\n",
    "\t<td class=\"summary\"> \n",
    "\t\t<p>Copies a range of elements from the <a class=\"no-loc\" href=\"https://learn.microsoft.com/en-us/dotnet/api/system.collections.generic.list-1?view=net-7.0\" data-linktype=\"relative-path\">List&lt;T&gt;</a> to a compatible one-dimensional array, starting at the specified index of the target array.</p>\n",
    "\t</td>\n",
    "        \t</tr>\n",
    "        \t<tr>\n",
    "\t  <td class=\"is-one-third-width-tablet\">\n",
    "\t<span class=\"break-text\">\n",
    "\t\t<a class=\"xref\" href=\"https://learn.microsoft.com/en-us/dotnet/api/system.collections.generic.list-1.copyto?view=net-7.0#system-collections-generic-list-1-copyto(-0())\" data-linktype=\"relative-path\">Copy<wbr>To(T[])</a>\n",
    "\t</span>\n",
    "</td>\n",
    "\t<td class=\"summary\"> \n",
    "\t\t<p>Copies the entire <a class=\"no-loc\" href=\"https://learn.microsoft.com/en-us/dotnet/api/system.collections.generic.list-1?view=net-7.0\" data-linktype=\"relative-path\">List&lt;T&gt;</a> to a compatible one-dimensional array, starting at the beginning of the target array.</p>\n",
    "\t</td>\n",
    "        \t</tr>\n",
    "        \t<tr>\n",
    "\t  <td class=\"is-one-third-width-tablet\">\n",
    "\t<span class=\"break-text\">\n",
    "\t\t<a class=\"xref\" href=\"https://learn.microsoft.com/en-us/dotnet/api/system.collections.generic.list-1.copyto?view=net-7.0#system-collections-generic-list-1-copyto(-0()-system-int32)\" data-linktype=\"relative-path\">Copy<wbr>To(T[], Int32)</a>\n",
    "\t</span>\n",
    "</td>\n",
    "\t<td class=\"summary\"> \n",
    "\t\t<p>Copies the entire <a class=\"no-loc\" href=\"https://learn.microsoft.com/en-us/dotnet/api/system.collections.generic.list-1?view=net-7.0\" data-linktype=\"relative-path\">List&lt;T&gt;</a> to a compatible one-dimensional array, starting at the specified index of the target array.</p>\n",
    "\t</td>\n",
    "        \t</tr>\n",
    "        \t<tr data-moniker=\" net-6.0 net-7.0 \">\n",
    "\t  <td class=\"is-one-third-width-tablet\">\n",
    "\t<span class=\"break-text\">\n",
    "\t\t<a class=\"xref\" href=\"https://learn.microsoft.com/en-us/dotnet/api/system.collections.generic.list-1.ensurecapacity?view=net-7.0#system-collections-generic-list-1-ensurecapacity(system-int32)\" data-linktype=\"relative-path\">Ensure<wbr>Capacity(Int32)</a>\n",
    "\t</span>\n",
    "</td>\n",
    "\t<td class=\"summary\"> \n",
    "\t\t<p>Ensures that the capacity of this list is at least the specified <code data-dev-comment-type=\"paramref\">capacity</code>. If the current capacity is less than <code data-dev-comment-type=\"paramref\">capacity</code>, it is successively increased to twice the current capacity until it is at least the specified <code data-dev-comment-type=\"paramref\">capacity</code>.</p>\n",
    "\t</td>\n",
    "        \t</tr>\n",
    "        \t<tr>\n",
    "\t<td class=\"is-one-third-width-tablet\">\n",
    "\t\t<span class=\"break-text\">\n",
    "\t\t\t  <a class=\"xref\" href=\"https://learn.microsoft.com/en-us/dotnet/api/system.object.equals?view=net-7.0#system-object-equals(system-object)\" data-linktype=\"relative-path\">Equals(Object)</a>\n",
    "\t\t</span>\n",
    "\t</td>\n",
    "\t<td class=\"summary\">\n",
    "\t\t  <p>Determines whether the specified object is equal to the current object.</p>\n",
    "\t\t(Inherited from   <a class=\"xref\" href=\"https://learn.microsoft.com/en-us/dotnet/api/system.object?view=net-7.0\" data-linktype=\"relative-path\">Object</a>)\n",
    "\t</td>\n",
    "        \t</tr>\n",
    "        \t<tr>\n",
    "\t  <td class=\"is-one-third-width-tablet\">\n",
    "\t<span class=\"break-text\">\n",
    "\t\t<a class=\"xref\" href=\"https://learn.microsoft.com/en-us/dotnet/api/system.collections.generic.list-1.exists?view=net-7.0#system-collections-generic-list-1-exists(system-predicate((-0)))\" data-linktype=\"relative-path\">Exists(Predicate&lt;T&gt;)</a>\n",
    "\t</span>\n",
    "</td>\n",
    "\t<td class=\"summary\"> \n",
    "\t\t<p>Determines whether the <a class=\"no-loc\" href=\"https://learn.microsoft.com/en-us/dotnet/api/system.collections.generic.list-1?view=net-7.0\" data-linktype=\"relative-path\">List&lt;T&gt;</a> contains elements that match the conditions defined by the specified predicate.</p>\n",
    "\t</td>\n",
    "        \t</tr>\n",
    "        \t<tr>\n",
    "\t  <td class=\"is-one-third-width-tablet\">\n",
    "\t<span class=\"break-text\">\n",
    "\t\t<a class=\"xref\" href=\"https://learn.microsoft.com/en-us/dotnet/api/system.collections.generic.list-1.find?view=net-7.0#system-collections-generic-list-1-find(system-predicate((-0)))\" data-linktype=\"relative-path\">Find(Predicate&lt;T&gt;)</a>\n",
    "\t</span>\n",
    "</td>\n",
    "\t<td class=\"summary\"> \n",
    "\t\t<p>Searches for an element that matches the conditions defined by the specified predicate, and returns the first occurrence within the entire <a class=\"no-loc\" href=\"https://learn.microsoft.com/en-us/dotnet/api/system.collections.generic.list-1?view=net-7.0\" data-linktype=\"relative-path\">List&lt;T&gt;</a>.</p>\n",
    "\t</td>\n",
    "        \t</tr>\n",
    "        \t<tr>\n",
    "\t  <td class=\"is-one-third-width-tablet\">\n",
    "\t<span class=\"break-text\">\n",
    "\t\t<a class=\"xref\" href=\"https://learn.microsoft.com/en-us/dotnet/api/system.collections.generic.list-1.findall?view=net-7.0#system-collections-generic-list-1-findall(system-predicate((-0)))\" data-linktype=\"relative-path\">Find<wbr>All(Predicate&lt;T&gt;)</a>\n",
    "\t</span>\n",
    "</td>\n",
    "\t<td class=\"summary\"> \n",
    "\t\t<p>Retrieves all the elements that match the conditions defined by the specified predicate.</p>\n",
    "\t</td>\n",
    "        \t</tr>\n",
    "        \t<tr>\n",
    "\t  <td class=\"is-one-third-width-tablet\">\n",
    "\t<span class=\"break-text\">\n",
    "\t\t<a class=\"xref\" href=\"https://learn.microsoft.com/en-us/dotnet/api/system.collections.generic.list-1.findindex?view=net-7.0#system-collections-generic-list-1-findindex(system-int32-system-int32-system-predicate((-0)))\" data-linktype=\"relative-path\">Find<wbr>Index(Int32, Int32, Predicate&lt;T&gt;)</a>\n",
    "\t</span>\n",
    "</td>\n",
    "\t<td class=\"summary\"> \n",
    "\t\t<p>Searches for an element that matches the conditions defined by the specified predicate, and returns the zero-based index of the first occurrence within the range of elements in the <a class=\"no-loc\" href=\"https://learn.microsoft.com/en-us/dotnet/api/system.collections.generic.list-1?view=net-7.0\" data-linktype=\"relative-path\">List&lt;T&gt;</a> that starts at the specified index and contains the specified number of elements.</p>\n",
    "\t</td>\n",
    "        \t</tr>\n",
    "        \t<tr>\n",
    "\t  <td class=\"is-one-third-width-tablet\">\n",
    "\t<span class=\"break-text\">\n",
    "\t\t<a class=\"xref\" href=\"https://learn.microsoft.com/en-us/dotnet/api/system.collections.generic.list-1.findindex?view=net-7.0#system-collections-generic-list-1-findindex(system-int32-system-predicate((-0)))\" data-linktype=\"relative-path\">Find<wbr>Index(Int32, Predicate&lt;T&gt;)</a>\n",
    "\t</span>\n",
    "</td>\n",
    "\t<td class=\"summary\"> \n",
    "\t\t<p>Searches for an element that matches the conditions defined by the specified predicate, and returns the zero-based index of the first occurrence within the range of elements in the <a class=\"no-loc\" href=\"https://learn.microsoft.com/en-us/dotnet/api/system.collections.generic.list-1?view=net-7.0\" data-linktype=\"relative-path\">List&lt;T&gt;</a> that extends from the specified index to the last element.</p>\n",
    "\t</td>\n",
    "        \t</tr>\n",
    "        \t<tr>\n",
    "\t  <td class=\"is-one-third-width-tablet\">\n",
    "\t<span class=\"break-text\">\n",
    "\t\t<a class=\"xref\" href=\"https://learn.microsoft.com/en-us/dotnet/api/system.collections.generic.list-1.findindex?view=net-7.0#system-collections-generic-list-1-findindex(system-predicate((-0)))\" data-linktype=\"relative-path\">Find<wbr>Index(Predicate&lt;T&gt;)</a>\n",
    "\t</span>\n",
    "</td>\n",
    "\t<td class=\"summary\"> \n",
    "\t\t<p>Searches for an element that matches the conditions defined by the specified predicate, and returns the zero-based index of the first occurrence within the entire <a class=\"no-loc\" href=\"https://learn.microsoft.com/en-us/dotnet/api/system.collections.generic.list-1?view=net-7.0\" data-linktype=\"relative-path\">List&lt;T&gt;</a>.</p>\n",
    "\t</td>\n",
    "        \t</tr>\n",
    "        \t<tr>\n",
    "\t  <td class=\"is-one-third-width-tablet\">\n",
    "\t<span class=\"break-text\">\n",
    "\t\t<a class=\"xref\" href=\"https://learn.microsoft.com/en-us/dotnet/api/system.collections.generic.list-1.findlast?view=net-7.0#system-collections-generic-list-1-findlast(system-predicate((-0)))\" data-linktype=\"relative-path\">Find<wbr>Last(Predicate&lt;T&gt;)</a>\n",
    "\t</span>\n",
    "</td>\n",
    "\t<td class=\"summary\"> \n",
    "\t\t<p>Searches for an element that matches the conditions defined by the specified predicate, and returns the last occurrence within the entire <a class=\"no-loc\" href=\"https://learn.microsoft.com/en-us/dotnet/api/system.collections.generic.list-1?view=net-7.0\" data-linktype=\"relative-path\">List&lt;T&gt;</a>.</p>\n",
    "\t</td>\n",
    "        \t</tr>\n",
    "        \t<tr>\n",
    "\t  <td class=\"is-one-third-width-tablet\">\n",
    "\t<span class=\"break-text\">\n",
    "\t\t<a class=\"xref\" href=\"https://learn.microsoft.com/en-us/dotnet/api/system.collections.generic.list-1.findlastindex?view=net-7.0#system-collections-generic-list-1-findlastindex(system-int32-system-int32-system-predicate((-0)))\" data-linktype=\"relative-path\">Find<wbr>Last<wbr>Index(Int32, Int32, Predicate&lt;T&gt;)</a>\n",
    "\t</span>\n",
    "</td>\n",
    "\t<td class=\"summary\"> \n",
    "\t\t<p>Searches for an element that matches the conditions defined by the specified predicate, and returns the zero-based index of the last occurrence within the range of elements in the <a class=\"no-loc\" href=\"https://learn.microsoft.com/en-us/dotnet/api/system.collections.generic.list-1?view=net-7.0\" data-linktype=\"relative-path\">List&lt;T&gt;</a> that contains the specified number of elements and ends at the specified index.</p>\n",
    "\t</td>\n",
    "        \t</tr>\n",
    "        \t<tr>\n",
    "\t  <td class=\"is-one-third-width-tablet\">\n",
    "\t<span class=\"break-text\">\n",
    "\t\t<a class=\"xref\" href=\"https://learn.microsoft.com/en-us/dotnet/api/system.collections.generic.list-1.findlastindex?view=net-7.0#system-collections-generic-list-1-findlastindex(system-int32-system-predicate((-0)))\" data-linktype=\"relative-path\">Find<wbr>Last<wbr>Index(Int32, Predicate&lt;T&gt;)</a>\n",
    "\t</span>\n",
    "</td>\n",
    "\t<td class=\"summary\"> \n",
    "\t\t<p>Searches for an element that matches the conditions defined by the specified predicate, and returns the zero-based index of the last occurrence within the range of elements in the <a class=\"no-loc\" href=\"https://learn.microsoft.com/en-us/dotnet/api/system.collections.generic.list-1?view=net-7.0\" data-linktype=\"relative-path\">List&lt;T&gt;</a> that extends from the first element to the specified index.</p>\n",
    "\t</td>\n",
    "        \t</tr>\n",
    "        \t<tr>\n",
    "\t  <td class=\"is-one-third-width-tablet\">\n",
    "\t<span class=\"break-text\">\n",
    "\t\t<a class=\"xref\" href=\"https://learn.microsoft.com/en-us/dotnet/api/system.collections.generic.list-1.findlastindex?view=net-7.0#system-collections-generic-list-1-findlastindex(system-predicate((-0)))\" data-linktype=\"relative-path\">Find<wbr>Last<wbr>Index(Predicate&lt;T&gt;)</a>\n",
    "\t</span>\n",
    "</td>\n",
    "\t<td class=\"summary\"> \n",
    "\t\t<p>Searches for an element that matches the conditions defined by the specified predicate, and returns the zero-based index of the last occurrence within the entire <a class=\"no-loc\" href=\"https://learn.microsoft.com/en-us/dotnet/api/system.collections.generic.list-1?view=net-7.0\" data-linktype=\"relative-path\">List&lt;T&gt;</a>.</p>\n",
    "\t</td>\n",
    "        \t</tr>\n",
    "        \t<tr data-moniker=\" dotnet-uwp-10.0 net-5.0 net-6.0 net-7.0 netcore-1.0 netcore-1.1 netcore-2.0 netcore-2.1 netcore-2.2 netcore-3.0 netcore-3.1 netframework-2.0 netframework-3.0 netframework-3.5 netframework-4.0 netframework-4.5 netframework-4.5.1 netframework-4.5.2 netframework-4.6 netframework-4.6.1 netframework-4.6.2 netframework-4.7 netframework-4.7.1 netframework-4.7.2 netframework-4.8 netframework-4.8.1 netstandard-1.3 netstandard-1.4 netstandard-1.6 netstandard-2.0 netstandard-2.1 xamarinandroid-7.1 xamarinios-10.8 xamarinmac-3.0 \">\n",
    "\t  <td class=\"is-one-third-width-tablet\">\n",
    "\t<span class=\"break-text\">\n",
    "\t\t<a class=\"xref\" href=\"https://learn.microsoft.com/en-us/dotnet/api/system.collections.generic.list-1.foreach?view=net-7.0#system-collections-generic-list-1-foreach(system-action((-0)))\" data-linktype=\"relative-path\">For<wbr>Each(Action&lt;T&gt;)</a>\n",
    "\t</span>\n",
    "</td>\n",
    "\t<td class=\"summary\"> \n",
    "\t\t<p>Performs the specified action on each element of the <a class=\"no-loc\" href=\"https://learn.microsoft.com/en-us/dotnet/api/system.collections.generic.list-1?view=net-7.0\" data-linktype=\"relative-path\">List&lt;T&gt;</a>.</p>\n",
    "\t</td>\n",
    "        \t</tr>\n",
    "        \t<tr>\n",
    "\t  <td class=\"is-one-third-width-tablet\">\n",
    "\t<span class=\"break-text\">\n",
    "\t\t<a class=\"xref\" href=\"https://learn.microsoft.com/en-us/dotnet/api/system.collections.generic.list-1.getenumerator?view=net-7.0#system-collections-generic-list-1-getenumerator\" data-linktype=\"relative-path\">Get<wbr>Enumerator()</a>\n",
    "\t</span>\n",
    "</td>\n",
    "\t<td class=\"summary\"> \n",
    "\t\t<p>Returns an enumerator that iterates through the <a class=\"no-loc\" href=\"https://learn.microsoft.com/en-us/dotnet/api/system.collections.generic.list-1?view=net-7.0\" data-linktype=\"relative-path\">List&lt;T&gt;</a>.</p>\n",
    "\t</td>\n",
    "        \t</tr>\n",
    "        \t<tr>\n",
    "\t<td class=\"is-one-third-width-tablet\">\n",
    "\t\t<span class=\"break-text\">\n",
    "\t\t\t  <a class=\"xref\" href=\"https://learn.microsoft.com/en-us/dotnet/api/system.object.gethashcode?view=net-7.0#system-object-gethashcode\" data-linktype=\"relative-path\">Get<wbr>Hash<wbr>Code()</a>\n",
    "\t\t</span>\n",
    "\t</td>\n",
    "\t<td class=\"summary\">\n",
    "\t\t  <p>Serves as the default hash function.</p>\n",
    "\t\t(Inherited from   <a class=\"xref\" href=\"https://learn.microsoft.com/en-us/dotnet/api/system.object?view=net-7.0\" data-linktype=\"relative-path\">Object</a>)\n",
    "\t</td>\n",
    "        \t</tr>\n",
    "        \t<tr>\n",
    "\t  <td class=\"is-one-third-width-tablet\">\n",
    "\t<span class=\"break-text\">\n",
    "\t\t<a class=\"xref\" href=\"https://learn.microsoft.com/en-us/dotnet/api/system.collections.generic.list-1.getrange?view=net-7.0#system-collections-generic-list-1-getrange(system-int32-system-int32)\" data-linktype=\"relative-path\">Get<wbr>Range(Int32, Int32)</a>\n",
    "\t</span>\n",
    "</td>\n",
    "\t<td class=\"summary\"> \n",
    "\t\t<p>Creates a shallow copy of a range of elements in the source <a class=\"no-loc\" href=\"https://learn.microsoft.com/en-us/dotnet/api/system.collections.generic.list-1?view=net-7.0\" data-linktype=\"relative-path\">List&lt;T&gt;</a>.</p>\n",
    "\t</td>\n",
    "        \t</tr>\n",
    "        \t<tr>\n",
    "\t<td class=\"is-one-third-width-tablet\">\n",
    "\t\t<span class=\"break-text\">\n",
    "\t\t\t  <a class=\"xref\" href=\"https://learn.microsoft.com/en-us/dotnet/api/system.object.gettype?view=net-7.0#system-object-gettype\" data-linktype=\"relative-path\">Get<wbr>Type()</a>\n",
    "\t\t</span>\n",
    "\t</td>\n",
    "\t<td class=\"summary\">\n",
    "\t\t  <p>Gets the <a class=\"no-loc\" href=\"https://learn.microsoft.com/en-us/dotnet/api/system.type?view=net-7.0\" data-linktype=\"relative-path\">Type</a> of the current instance.</p>\n",
    "\t\t(Inherited from   <a class=\"xref\" href=\"https://learn.microsoft.com/en-us/dotnet/api/system.object?view=net-7.0\" data-linktype=\"relative-path\">Object</a>)\n",
    "\t</td>\n",
    "        \t</tr>\n",
    "        \t<tr>\n",
    "\t  <td class=\"is-one-third-width-tablet\">\n",
    "\t<span class=\"break-text\">\n",
    "\t\t<a class=\"xref\" href=\"https://learn.microsoft.com/en-us/dotnet/api/system.collections.generic.list-1.indexof?view=net-7.0#system-collections-generic-list-1-indexof(-0)\" data-linktype=\"relative-path\">Index<wbr>Of(T)</a>\n",
    "\t</span>\n",
    "</td>\n",
    "\t<td class=\"summary\"> \n",
    "\t\t<p>Searches for the specified object and returns the zero-based index of the first occurrence within the entire <a class=\"no-loc\" href=\"https://learn.microsoft.com/en-us/dotnet/api/system.collections.generic.list-1?view=net-7.0\" data-linktype=\"relative-path\">List&lt;T&gt;</a>.</p>\n",
    "\t</td>\n",
    "        \t</tr>\n",
    "        \t<tr>\n",
    "\t  <td class=\"is-one-third-width-tablet\">\n",
    "\t<span class=\"break-text\">\n",
    "\t\t<a class=\"xref\" href=\"https://learn.microsoft.com/en-us/dotnet/api/system.collections.generic.list-1.indexof?view=net-7.0#system-collections-generic-list-1-indexof(-0-system-int32)\" data-linktype=\"relative-path\">Index<wbr>Of(T, Int32)</a>\n",
    "\t</span>\n",
    "</td>\n",
    "\t<td class=\"summary\"> \n",
    "\t\t<p>Searches for the specified object and returns the zero-based index of the first occurrence within the range of elements in the <a class=\"no-loc\" href=\"https://learn.microsoft.com/en-us/dotnet/api/system.collections.generic.list-1?view=net-7.0\" data-linktype=\"relative-path\">List&lt;T&gt;</a> that extends from the specified index to the last element.</p>\n",
    "\t</td>\n",
    "        \t</tr>\n",
    "        \t<tr>\n",
    "\t  <td class=\"is-one-third-width-tablet\">\n",
    "\t<span class=\"break-text\">\n",
    "\t\t<a class=\"xref\" href=\"https://learn.microsoft.com/en-us/dotnet/api/system.collections.generic.list-1.indexof?view=net-7.0#system-collections-generic-list-1-indexof(-0-system-int32-system-int32)\" data-linktype=\"relative-path\">Index<wbr>Of(T, Int32, Int32)</a>\n",
    "\t</span>\n",
    "</td>\n",
    "\t<td class=\"summary\"> \n",
    "\t\t<p>Searches for the specified object and returns the zero-based index of the first occurrence within the range of elements in the <a class=\"no-loc\" href=\"https://learn.microsoft.com/en-us/dotnet/api/system.collections.generic.list-1?view=net-7.0\" data-linktype=\"relative-path\">List&lt;T&gt;</a> that starts at the specified index and contains the specified number of elements.</p>\n",
    "\t</td>\n",
    "        \t</tr>\n",
    "        \t<tr>\n",
    "\t  <td class=\"is-one-third-width-tablet\">\n",
    "\t<span class=\"break-text\">\n",
    "\t\t<a class=\"xref\" href=\"https://learn.microsoft.com/en-us/dotnet/api/system.collections.generic.list-1.insert?view=net-7.0#system-collections-generic-list-1-insert(system-int32-0)\" data-linktype=\"relative-path\">Insert(Int32, T)</a>\n",
    "\t</span>\n",
    "</td>\n",
    "\t<td class=\"summary\"> \n",
    "\t\t<p>Inserts an element into the <a class=\"no-loc\" href=\"https://learn.microsoft.com/en-us/dotnet/api/system.collections.generic.list-1?view=net-7.0\" data-linktype=\"relative-path\">List&lt;T&gt;</a> at the specified index.</p>\n",
    "\t</td>\n",
    "        \t</tr>\n",
    "        \t<tr>\n",
    "\t  <td class=\"is-one-third-width-tablet\">\n",
    "\t<span class=\"break-text\">\n",
    "\t\t<a class=\"xref\" href=\"https://learn.microsoft.com/en-us/dotnet/api/system.collections.generic.list-1.insertrange?view=net-7.0#system-collections-generic-list-1-insertrange(system-int32-system-collections-generic-ienumerable((-0)))\" data-linktype=\"relative-path\">Insert<wbr>Range(Int32, IEnumerable&lt;T&gt;)</a>\n",
    "\t</span>\n",
    "</td>\n",
    "\t<td class=\"summary\"> \n",
    "\t\t<p>Inserts the elements of a collection into the <a class=\"no-loc\" href=\"https://learn.microsoft.com/en-us/dotnet/api/system.collections.generic.list-1?view=net-7.0\" data-linktype=\"relative-path\">List&lt;T&gt;</a> at the specified index.</p>\n",
    "\t</td>\n",
    "        \t</tr>\n",
    "        \t<tr>\n",
    "\t  <td class=\"is-one-third-width-tablet\">\n",
    "\t<span class=\"break-text\">\n",
    "\t\t<a class=\"xref\" href=\"https://learn.microsoft.com/en-us/dotnet/api/system.collections.generic.list-1.lastindexof?view=net-7.0#system-collections-generic-list-1-lastindexof(-0)\" data-linktype=\"relative-path\">Last<wbr>Index<wbr>Of(T)</a>\n",
    "\t</span>\n",
    "</td>\n",
    "\t<td class=\"summary\"> \n",
    "\t\t<p>Searches for the specified object and returns the zero-based index of the last occurrence within the entire <a class=\"no-loc\" href=\"https://learn.microsoft.com/en-us/dotnet/api/system.collections.generic.list-1?view=net-7.0\" data-linktype=\"relative-path\">List&lt;T&gt;</a>.</p>\n",
    "\t</td>\n",
    "        \t</tr>\n",
    "        \t<tr>\n",
    "\t  <td class=\"is-one-third-width-tablet\">\n",
    "\t<span class=\"break-text\">\n",
    "\t\t<a class=\"xref\" href=\"https://learn.microsoft.com/en-us/dotnet/api/system.collections.generic.list-1.lastindexof?view=net-7.0#system-collections-generic-list-1-lastindexof(-0-system-int32)\" data-linktype=\"relative-path\">Last<wbr>Index<wbr>Of(T, Int32)</a>\n",
    "\t</span>\n",
    "</td>\n",
    "\t<td class=\"summary\"> \n",
    "\t\t<p>Searches for the specified object and returns the zero-based index of the last occurrence within the range of elements in the <a class=\"no-loc\" href=\"https://learn.microsoft.com/en-us/dotnet/api/system.collections.generic.list-1?view=net-7.0\" data-linktype=\"relative-path\">List&lt;T&gt;</a> that extends from the first element to the specified index.</p>\n",
    "\t</td>\n",
    "        \t</tr>\n",
    "        \t<tr>\n",
    "\t  <td class=\"is-one-third-width-tablet\">\n",
    "\t<span class=\"break-text\">\n",
    "\t\t<a class=\"xref\" href=\"https://learn.microsoft.com/en-us/dotnet/api/system.collections.generic.list-1.lastindexof?view=net-7.0#system-collections-generic-list-1-lastindexof(-0-system-int32-system-int32)\" data-linktype=\"relative-path\">Last<wbr>Index<wbr>Of(T, Int32, Int32)</a>\n",
    "\t</span>\n",
    "</td>\n",
    "\t<td class=\"summary\"> \n",
    "\t\t<p>Searches for the specified object and returns the zero-based index of the last occurrence within the range of elements in the <a class=\"no-loc\" href=\"https://learn.microsoft.com/en-us/dotnet/api/system.collections.generic.list-1?view=net-7.0\" data-linktype=\"relative-path\">List&lt;T&gt;</a> that contains the specified number of elements and ends at the specified index.</p>\n",
    "\t</td>\n",
    "        \t</tr>\n",
    "        \t<tr>\n",
    "\t<td class=\"is-one-third-width-tablet\">\n",
    "\t\t<span class=\"break-text\">\n",
    "\t\t\t  <a class=\"xref\" href=\"https://learn.microsoft.com/en-us/dotnet/api/system.object.memberwiseclone?view=net-7.0#system-object-memberwiseclone\" data-linktype=\"relative-path\">Memberwise<wbr>Clone()</a>\n",
    "\t\t</span>\n",
    "\t</td>\n",
    "\t<td class=\"summary\">\n",
    "\t\t  <p>Creates a shallow copy of the current <a class=\"no-loc\" href=\"https://learn.microsoft.com/en-us/dotnet/api/system.object?view=net-7.0\" data-linktype=\"relative-path\">Object</a>.</p>\n",
    "\t\t(Inherited from   <a class=\"xref\" href=\"https://learn.microsoft.com/en-us/dotnet/api/system.object?view=net-7.0\" data-linktype=\"relative-path\">Object</a>)\n",
    "\t</td>\n",
    "        \t</tr>\n",
    "        \t<tr>\n",
    "\t  <td class=\"is-one-third-width-tablet\">\n",
    "\t<span class=\"break-text\">\n",
    "\t\t<a class=\"xref\" href=\"https://learn.microsoft.com/en-us/dotnet/api/system.collections.generic.list-1.remove?view=net-7.0#system-collections-generic-list-1-remove(-0)\" data-linktype=\"relative-path\">Remove(T)</a>\n",
    "\t</span>\n",
    "</td>\n",
    "\t<td class=\"summary\"> \n",
    "\t\t<p>Removes the first occurrence of a specific object from the <a class=\"no-loc\" href=\"https://learn.microsoft.com/en-us/dotnet/api/system.collections.generic.list-1?view=net-7.0\" data-linktype=\"relative-path\">List&lt;T&gt;</a>.</p>\n",
    "\t</td>\n",
    "        \t</tr>\n",
    "        \t<tr>\n",
    "\t  <td class=\"is-one-third-width-tablet\">\n",
    "\t<span class=\"break-text\">\n",
    "\t\t<a class=\"xref\" href=\"https://learn.microsoft.com/en-us/dotnet/api/system.collections.generic.list-1.removeall?view=net-7.0#system-collections-generic-list-1-removeall(system-predicate((-0)))\" data-linktype=\"relative-path\">Remove<wbr>All(Predicate&lt;T&gt;)</a>\n",
    "\t</span>\n",
    "</td>\n",
    "\t<td class=\"summary\"> \n",
    "\t\t<p>Removes all the elements that match the conditions defined by the specified predicate.</p>\n",
    "\t</td>\n",
    "        \t</tr>\n",
    "        \t<tr>\n",
    "\t  <td class=\"is-one-third-width-tablet\">\n",
    "\t<span class=\"break-text\">\n",
    "\t\t<a class=\"xref\" href=\"https://learn.microsoft.com/en-us/dotnet/api/system.collections.generic.list-1.removeat?view=net-7.0#system-collections-generic-list-1-removeat(system-int32)\" data-linktype=\"relative-path\">Remove<wbr>At(Int32)</a>\n",
    "\t</span>\n",
    "</td>\n",
    "\t<td class=\"summary\"> \n",
    "\t\t<p>Removes the element at the specified index of the <a class=\"no-loc\" href=\"https://learn.microsoft.com/en-us/dotnet/api/system.collections.generic.list-1?view=net-7.0\" data-linktype=\"relative-path\">List&lt;T&gt;</a>.</p>\n",
    "\t</td>\n",
    "        \t</tr>\n",
    "        \t<tr>\n",
    "\t  <td class=\"is-one-third-width-tablet\">\n",
    "\t<span class=\"break-text\">\n",
    "\t\t<a class=\"xref\" href=\"https://learn.microsoft.com/en-us/dotnet/api/system.collections.generic.list-1.removerange?view=net-7.0#system-collections-generic-list-1-removerange(system-int32-system-int32)\" data-linktype=\"relative-path\">Remove<wbr>Range(Int32, Int32)</a>\n",
    "\t</span>\n",
    "</td>\n",
    "\t<td class=\"summary\"> \n",
    "\t\t<p>Removes a range of elements from the <a class=\"no-loc\" href=\"https://learn.microsoft.com/en-us/dotnet/api/system.collections.generic.list-1?view=net-7.0\" data-linktype=\"relative-path\">List&lt;T&gt;</a>.</p>\n",
    "\t</td>\n",
    "        \t</tr>\n",
    "        \t<tr>\n",
    "\t  <td class=\"is-one-third-width-tablet\">\n",
    "\t<span class=\"break-text\">\n",
    "\t\t<a class=\"xref\" href=\"https://learn.microsoft.com/en-us/dotnet/api/system.collections.generic.list-1.reverse?view=net-7.0#system-collections-generic-list-1-reverse\" data-linktype=\"relative-path\">Reverse()</a>\n",
    "\t</span>\n",
    "</td>\n",
    "\t<td class=\"summary\"> \n",
    "\t\t<p>Reverses the order of the elements in the entire <a class=\"no-loc\" href=\"https://learn.microsoft.com/en-us/dotnet/api/system.collections.generic.list-1?view=net-7.0\" data-linktype=\"relative-path\">List&lt;T&gt;</a>.</p>\n",
    "\t</td>\n",
    "        \t</tr>\n",
    "        \t<tr>\n",
    "\t  <td class=\"is-one-third-width-tablet\">\n",
    "\t<span class=\"break-text\">\n",
    "\t\t<a class=\"xref\" href=\"https://learn.microsoft.com/en-us/dotnet/api/system.collections.generic.list-1.reverse?view=net-7.0#system-collections-generic-list-1-reverse(system-int32-system-int32)\" data-linktype=\"relative-path\">Reverse(Int32, Int32)</a>\n",
    "\t</span>\n",
    "</td>\n",
    "\t<td class=\"summary\"> \n",
    "\t\t<p>Reverses the order of the elements in the specified range.</p>\n",
    "\t</td>\n",
    "        \t</tr>\n",
    "        \t<tr>\n",
    "\t  <td class=\"is-one-third-width-tablet\">\n",
    "\t<span class=\"break-text\">\n",
    "\t\t<a class=\"xref\" href=\"https://learn.microsoft.com/en-us/dotnet/api/system.collections.generic.list-1.sort?view=net-7.0#system-collections-generic-list-1-sort\" data-linktype=\"relative-path\">Sort()</a>\n",
    "\t</span>\n",
    "</td>\n",
    "\t<td class=\"summary\"> \n",
    "\t\t<p>Sorts the elements in the entire <a class=\"no-loc\" href=\"https://learn.microsoft.com/en-us/dotnet/api/system.collections.generic.list-1?view=net-7.0\" data-linktype=\"relative-path\">List&lt;T&gt;</a> using the default comparer.</p>\n",
    "\t</td>\n",
    "        \t</tr>\n",
    "        \t<tr>\n",
    "\t  <td class=\"is-one-third-width-tablet\">\n",
    "\t<span class=\"break-text\">\n",
    "\t\t<a class=\"xref\" href=\"https://learn.microsoft.com/en-us/dotnet/api/system.collections.generic.list-1.sort?view=net-7.0#system-collections-generic-list-1-sort(system-comparison((-0)))\" data-linktype=\"relative-path\">Sort(Comparison&lt;T&gt;)</a>\n",
    "\t</span>\n",
    "</td>\n",
    "\t<td class=\"summary\"> \n",
    "\t\t<p>Sorts the elements in the entire <a class=\"no-loc\" href=\"https://learn.microsoft.com/en-us/dotnet/api/system.collections.generic.list-1?view=net-7.0\" data-linktype=\"relative-path\">List&lt;T&gt;</a> using the specified <a class=\"no-loc\" href=\"https://learn.microsoft.com/en-us/dotnet/api/system.comparison-1?view=net-7.0\" data-linktype=\"relative-path\">Comparison&lt;T&gt;</a>.</p>\n",
    "\t</td>\n",
    "        \t</tr>\n",
    "        \t<tr>\n",
    "\t  <td class=\"is-one-third-width-tablet\">\n",
    "\t<span class=\"break-text\">\n",
    "\t\t<a class=\"xref\" href=\"https://learn.microsoft.com/en-us/dotnet/api/system.collections.generic.list-1.sort?view=net-7.0#system-collections-generic-list-1-sort(system-collections-generic-icomparer((-0)))\" data-linktype=\"relative-path\">Sort(IComparer&lt;T&gt;)</a>\n",
    "\t</span>\n",
    "</td>\n",
    "\t<td class=\"summary\"> \n",
    "\t\t<p>Sorts the elements in the entire <a class=\"no-loc\" href=\"https://learn.microsoft.com/en-us/dotnet/api/system.collections.generic.list-1?view=net-7.0\" data-linktype=\"relative-path\">List&lt;T&gt;</a> using the specified comparer.</p>\n",
    "\t</td>\n",
    "        \t</tr>\n",
    "        \t<tr>\n",
    "\t  <td class=\"is-one-third-width-tablet\">\n",
    "\t<span class=\"break-text\">\n",
    "\t\t<a class=\"xref\" href=\"https://learn.microsoft.com/en-us/dotnet/api/system.collections.generic.list-1.sort?view=net-7.0#system-collections-generic-list-1-sort(system-int32-system-int32-system-collections-generic-icomparer((-0)))\" data-linktype=\"relative-path\">Sort(Int32, Int32, IComparer&lt;T&gt;)</a>\n",
    "\t</span>\n",
    "</td>\n",
    "\t<td class=\"summary\"> \n",
    "\t\t<p>Sorts the elements in a range of elements in <a class=\"no-loc\" href=\"https://learn.microsoft.com/en-us/dotnet/api/system.collections.generic.list-1?view=net-7.0\" data-linktype=\"relative-path\">List&lt;T&gt;</a> using the specified comparer.</p>\n",
    "\t</td>\n",
    "        \t</tr>\n",
    "        \t<tr>\n",
    "\t  <td class=\"is-one-third-width-tablet\">\n",
    "\t<span class=\"break-text\">\n",
    "\t\t<a class=\"xref\" href=\"https://learn.microsoft.com/en-us/dotnet/api/system.collections.generic.list-1.toarray?view=net-7.0#system-collections-generic-list-1-toarray\" data-linktype=\"relative-path\">To<wbr>Array()</a>\n",
    "\t</span>\n",
    "</td>\n",
    "\t<td class=\"summary\"> \n",
    "\t\t<p>Copies the elements of the <a class=\"no-loc\" href=\"https://learn.microsoft.com/en-us/dotnet/api/system.collections.generic.list-1?view=net-7.0\" data-linktype=\"relative-path\">List&lt;T&gt;</a> to a new array.</p>\n",
    "\t</td>\n",
    "        \t</tr>\n",
    "        \t<tr>\n",
    "\t<td class=\"is-one-third-width-tablet\">\n",
    "\t\t<span class=\"break-text\">\n",
    "\t\t\t  <a class=\"xref\" href=\"https://learn.microsoft.com/en-us/dotnet/api/system.object.tostring?view=net-7.0#system-object-tostring\" data-linktype=\"relative-path\">To<wbr>String()</a>\n",
    "\t\t</span>\n",
    "\t</td>\n",
    "\t<td class=\"summary\">\n",
    "\t\t  <p>Returns a string that represents the current object.</p>\n",
    "\t\t(Inherited from   <a class=\"xref\" href=\"https://learn.microsoft.com/en-us/dotnet/api/system.object?view=net-7.0\" data-linktype=\"relative-path\">Object</a>)\n",
    "\t</td>\n",
    "        \t</tr>\n",
    "        \t<tr>\n",
    "\t  <td class=\"is-one-third-width-tablet\">\n",
    "\t<span class=\"break-text\">\n",
    "\t\t<a class=\"xref\" href=\"https://learn.microsoft.com/en-us/dotnet/api/system.collections.generic.list-1.trimexcess?view=net-7.0#system-collections-generic-list-1-trimexcess\" data-linktype=\"relative-path\">Trim<wbr>Excess()</a>\n",
    "\t</span>\n",
    "</td>\n",
    "\t<td class=\"summary\"> \n",
    "\t\t<p>Sets the capacity to the actual number of elements in the <a class=\"no-loc\" href=\"https://learn.microsoft.com/en-us/dotnet/api/system.collections.generic.list-1?view=net-7.0\" data-linktype=\"relative-path\">List&lt;T&gt;</a>, if that number is less than a threshold value.</p>\n",
    "\t</td>\n",
    "        \t</tr>\n",
    "        \t<tr>\n",
    "\t  <td class=\"is-one-third-width-tablet\">\n",
    "\t<span class=\"break-text\">\n",
    "\t\t<a class=\"xref\" href=\"https://learn.microsoft.com/en-us/dotnet/api/system.collections.generic.list-1.trueforall?view=net-7.0#system-collections-generic-list-1-trueforall(system-predicate((-0)))\" data-linktype=\"relative-path\">True<wbr>For<wbr>All(Predicate&lt;T&gt;)</a>\n",
    "\t</span>\n",
    "</td>\n",
    "\t<td class=\"summary\"> \n",
    "\t\t<p>Determines whether every element in the <a class=\"no-loc\" href=\"https://learn.microsoft.com/en-us/dotnet/api/system.collections.generic.list-1?view=net-7.0\" data-linktype=\"relative-path\">List&lt;T&gt;</a> matches the conditions defined by the specified predicate.</p>\n",
    "\t</td>\n",
    "        \t</tr>\n",
    "\t</tbody></table>"
   ]
  },
  {
   "attachments": {},
   "cell_type": "markdown",
   "metadata": {
    "dotnet_interactive": {
     "language": "csharp"
    },
    "polyglot_notebook": {
     "kernelName": "csharp"
    }
   },
   "source": [
    "<br>"
   ]
  },
  {
   "attachments": {},
   "cell_type": "markdown",
   "metadata": {
    "dotnet_interactive": {
     "language": "csharp"
    },
    "polyglot_notebook": {
     "kernelName": "csharp"
    }
   },
   "source": [
    "### Instantiation and Example Usage"
   ]
  },
  {
   "attachments": {},
   "cell_type": "markdown",
   "metadata": {
    "dotnet_interactive": {
     "language": "csharp"
    },
    "polyglot_notebook": {
     "kernelName": "csharp"
    }
   },
   "source": [
    "Using one of the Constructors defined above, we can create a new `List<int>` instance to represent a strictly typed list of integer values:"
   ]
  },
  {
   "cell_type": "code",
   "execution_count": 1,
   "metadata": {
    "dotnet_interactive": {
     "language": "csharp"
    },
    "polyglot_notebook": {
     "kernelName": "csharp"
    },
    "vscode": {
     "languageId": "polyglot-notebook"
    }
   },
   "outputs": [],
   "source": [
    "List <int> strictlyTypedIntegerList = new List<int>();"
   ]
  },
  {
   "cell_type": "code",
   "execution_count": 2,
   "metadata": {
    "dotnet_interactive": {
     "language": "csharp"
    },
    "polyglot_notebook": {
     "kernelName": "csharp"
    },
    "vscode": {
     "languageId": "polyglot-notebook"
    }
   },
   "outputs": [
    {
     "data": {
      "text/html": [
       "<i>(empty)</i><style>\r\n",
       ".dni-code-hint {\r\n",
       "    font-style: italic;\r\n",
       "    overflow: hidden;\r\n",
       "    white-space: nowrap;\r\n",
       "}\r\n",
       ".dni-treeview {\r\n",
       "    white-space: nowrap;\r\n",
       "}\r\n",
       ".dni-treeview td {\r\n",
       "    vertical-align: top;\r\n",
       "    text-align: start;\r\n",
       "}\r\n",
       "details.dni-treeview {\r\n",
       "    padding-left: 1em;\r\n",
       "}\r\n",
       "table td {\r\n",
       "    text-align: start;\r\n",
       "}\r\n",
       "table tr { \r\n",
       "    vertical-align: top; \r\n",
       "    margin: 0em 0px;\r\n",
       "}\r\n",
       "table tr td pre \r\n",
       "{ \r\n",
       "    vertical-align: top !important; \r\n",
       "    margin: 0em 0px !important;\r\n",
       "} \r\n",
       "table th {\r\n",
       "    text-align: start;\r\n",
       "}\r\n",
       "</style>"
      ]
     },
     "metadata": {},
     "output_type": "display_data"
    }
   ],
   "source": [
    "strictlyTypedIntegerList"
   ]
  },
  {
   "cell_type": "code",
   "execution_count": 3,
   "metadata": {
    "dotnet_interactive": {
     "language": "csharp"
    },
    "polyglot_notebook": {
     "kernelName": "csharp"
    },
    "vscode": {
     "languageId": "polyglot-notebook"
    }
   },
   "outputs": [
    {
     "data": {
      "text/html": [
       "<div class=\"dni-plaintext\"><pre>0</pre></div><style>\r\n",
       ".dni-code-hint {\r\n",
       "    font-style: italic;\r\n",
       "    overflow: hidden;\r\n",
       "    white-space: nowrap;\r\n",
       "}\r\n",
       ".dni-treeview {\r\n",
       "    white-space: nowrap;\r\n",
       "}\r\n",
       ".dni-treeview td {\r\n",
       "    vertical-align: top;\r\n",
       "    text-align: start;\r\n",
       "}\r\n",
       "details.dni-treeview {\r\n",
       "    padding-left: 1em;\r\n",
       "}\r\n",
       "table td {\r\n",
       "    text-align: start;\r\n",
       "}\r\n",
       "table tr { \r\n",
       "    vertical-align: top; \r\n",
       "    margin: 0em 0px;\r\n",
       "}\r\n",
       "table tr td pre \r\n",
       "{ \r\n",
       "    vertical-align: top !important; \r\n",
       "    margin: 0em 0px !important;\r\n",
       "} \r\n",
       "table th {\r\n",
       "    text-align: start;\r\n",
       "}\r\n",
       "</style>"
      ]
     },
     "metadata": {},
     "output_type": "display_data"
    }
   ],
   "source": [
    "strictlyTypedIntegerList.Count"
   ]
  },
  {
   "cell_type": "code",
   "execution_count": 4,
   "metadata": {
    "dotnet_interactive": {
     "language": "csharp"
    },
    "polyglot_notebook": {
     "kernelName": "csharp"
    },
    "vscode": {
     "languageId": "polyglot-notebook"
    }
   },
   "outputs": [
    {
     "data": {
      "text/html": [
       "<div class=\"dni-plaintext\"><pre>0</pre></div><style>\r\n",
       ".dni-code-hint {\r\n",
       "    font-style: italic;\r\n",
       "    overflow: hidden;\r\n",
       "    white-space: nowrap;\r\n",
       "}\r\n",
       ".dni-treeview {\r\n",
       "    white-space: nowrap;\r\n",
       "}\r\n",
       ".dni-treeview td {\r\n",
       "    vertical-align: top;\r\n",
       "    text-align: start;\r\n",
       "}\r\n",
       "details.dni-treeview {\r\n",
       "    padding-left: 1em;\r\n",
       "}\r\n",
       "table td {\r\n",
       "    text-align: start;\r\n",
       "}\r\n",
       "table tr { \r\n",
       "    vertical-align: top; \r\n",
       "    margin: 0em 0px;\r\n",
       "}\r\n",
       "table tr td pre \r\n",
       "{ \r\n",
       "    vertical-align: top !important; \r\n",
       "    margin: 0em 0px !important;\r\n",
       "} \r\n",
       "table th {\r\n",
       "    text-align: start;\r\n",
       "}\r\n",
       "</style>"
      ]
     },
     "metadata": {},
     "output_type": "display_data"
    }
   ],
   "source": [
    "strictlyTypedIntegerList.Capacity"
   ]
  },
  {
   "attachments": {},
   "cell_type": "markdown",
   "metadata": {
    "dotnet_interactive": {
     "language": "csharp"
    },
    "polyglot_notebook": {
     "kernelName": "csharp"
    }
   },
   "source": [
    "<br>"
   ]
  },
  {
   "attachments": {},
   "cell_type": "markdown",
   "metadata": {
    "dotnet_interactive": {
     "language": "csharp"
    },
    "polyglot_notebook": {
     "kernelName": "csharp"
    }
   },
   "source": [
    "Let's now iteratively Add a consecutive sequence of integers to the end of our a `strictlyTypedIntegerList`:"
   ]
  },
  {
   "cell_type": "code",
   "execution_count": 5,
   "metadata": {
    "dotnet_interactive": {
     "language": "csharp"
    },
    "polyglot_notebook": {
     "kernelName": "csharp"
    },
    "vscode": {
     "languageId": "polyglot-notebook"
    }
   },
   "outputs": [],
   "source": [
    "foreach( int consecutiveInter in new int[]{ 1, 2, 3, 4, 5, 6, 7 } )\n",
    "{\n",
    "    strictlyTypedIntegerList.Add( consecutiveInter );\n",
    "}"
   ]
  },
  {
   "cell_type": "code",
   "execution_count": 6,
   "metadata": {
    "dotnet_interactive": {
     "language": "csharp"
    },
    "polyglot_notebook": {
     "kernelName": "csharp"
    },
    "vscode": {
     "languageId": "polyglot-notebook"
    }
   },
   "outputs": [
    {
     "data": {
      "text/html": [
       "<table><thead><tr><th><i>index</i></th><th>value</th></tr></thead><tbody><tr><td>0</td><td><div class=\"dni-plaintext\"><pre>1</pre></div></td></tr><tr><td>1</td><td><div class=\"dni-plaintext\"><pre>2</pre></div></td></tr><tr><td>2</td><td><div class=\"dni-plaintext\"><pre>3</pre></div></td></tr><tr><td>3</td><td><div class=\"dni-plaintext\"><pre>4</pre></div></td></tr><tr><td>4</td><td><div class=\"dni-plaintext\"><pre>5</pre></div></td></tr><tr><td>5</td><td><div class=\"dni-plaintext\"><pre>6</pre></div></td></tr><tr><td>6</td><td><div class=\"dni-plaintext\"><pre>7</pre></div></td></tr></tbody></table><style>\r\n",
       ".dni-code-hint {\r\n",
       "    font-style: italic;\r\n",
       "    overflow: hidden;\r\n",
       "    white-space: nowrap;\r\n",
       "}\r\n",
       ".dni-treeview {\r\n",
       "    white-space: nowrap;\r\n",
       "}\r\n",
       ".dni-treeview td {\r\n",
       "    vertical-align: top;\r\n",
       "    text-align: start;\r\n",
       "}\r\n",
       "details.dni-treeview {\r\n",
       "    padding-left: 1em;\r\n",
       "}\r\n",
       "table td {\r\n",
       "    text-align: start;\r\n",
       "}\r\n",
       "table tr { \r\n",
       "    vertical-align: top; \r\n",
       "    margin: 0em 0px;\r\n",
       "}\r\n",
       "table tr td pre \r\n",
       "{ \r\n",
       "    vertical-align: top !important; \r\n",
       "    margin: 0em 0px !important;\r\n",
       "} \r\n",
       "table th {\r\n",
       "    text-align: start;\r\n",
       "}\r\n",
       "</style>"
      ]
     },
     "metadata": {},
     "output_type": "display_data"
    }
   ],
   "source": [
    "strictlyTypedIntegerList"
   ]
  },
  {
   "cell_type": "code",
   "execution_count": 7,
   "metadata": {
    "dotnet_interactive": {
     "language": "csharp"
    },
    "polyglot_notebook": {
     "kernelName": "csharp"
    },
    "vscode": {
     "languageId": "polyglot-notebook"
    }
   },
   "outputs": [
    {
     "data": {
      "text/html": [
       "<div class=\"dni-plaintext\"><pre>7</pre></div><style>\r\n",
       ".dni-code-hint {\r\n",
       "    font-style: italic;\r\n",
       "    overflow: hidden;\r\n",
       "    white-space: nowrap;\r\n",
       "}\r\n",
       ".dni-treeview {\r\n",
       "    white-space: nowrap;\r\n",
       "}\r\n",
       ".dni-treeview td {\r\n",
       "    vertical-align: top;\r\n",
       "    text-align: start;\r\n",
       "}\r\n",
       "details.dni-treeview {\r\n",
       "    padding-left: 1em;\r\n",
       "}\r\n",
       "table td {\r\n",
       "    text-align: start;\r\n",
       "}\r\n",
       "table tr { \r\n",
       "    vertical-align: top; \r\n",
       "    margin: 0em 0px;\r\n",
       "}\r\n",
       "table tr td pre \r\n",
       "{ \r\n",
       "    vertical-align: top !important; \r\n",
       "    margin: 0em 0px !important;\r\n",
       "} \r\n",
       "table th {\r\n",
       "    text-align: start;\r\n",
       "}\r\n",
       "</style>"
      ]
     },
     "metadata": {},
     "output_type": "display_data"
    }
   ],
   "source": [
    "strictlyTypedIntegerList.Count"
   ]
  },
  {
   "cell_type": "code",
   "execution_count": 8,
   "metadata": {
    "dotnet_interactive": {
     "language": "csharp"
    },
    "polyglot_notebook": {
     "kernelName": "csharp"
    },
    "vscode": {
     "languageId": "polyglot-notebook"
    }
   },
   "outputs": [
    {
     "data": {
      "text/html": [
       "<div class=\"dni-plaintext\"><pre>8</pre></div><style>\r\n",
       ".dni-code-hint {\r\n",
       "    font-style: italic;\r\n",
       "    overflow: hidden;\r\n",
       "    white-space: nowrap;\r\n",
       "}\r\n",
       ".dni-treeview {\r\n",
       "    white-space: nowrap;\r\n",
       "}\r\n",
       ".dni-treeview td {\r\n",
       "    vertical-align: top;\r\n",
       "    text-align: start;\r\n",
       "}\r\n",
       "details.dni-treeview {\r\n",
       "    padding-left: 1em;\r\n",
       "}\r\n",
       "table td {\r\n",
       "    text-align: start;\r\n",
       "}\r\n",
       "table tr { \r\n",
       "    vertical-align: top; \r\n",
       "    margin: 0em 0px;\r\n",
       "}\r\n",
       "table tr td pre \r\n",
       "{ \r\n",
       "    vertical-align: top !important; \r\n",
       "    margin: 0em 0px !important;\r\n",
       "} \r\n",
       "table th {\r\n",
       "    text-align: start;\r\n",
       "}\r\n",
       "</style>"
      ]
     },
     "metadata": {},
     "output_type": "display_data"
    }
   ],
   "source": [
    "strictlyTypedIntegerList.Capacity"
   ]
  },
  {
   "attachments": {},
   "cell_type": "markdown",
   "metadata": {
    "dotnet_interactive": {
     "language": "csharp"
    },
    "polyglot_notebook": {
     "kernelName": "csharp"
    }
   },
   "source": [
    "<br>"
   ]
  },
  {
   "attachments": {},
   "cell_type": "markdown",
   "metadata": {
    "dotnet_interactive": {
     "language": "csharp"
    },
    "polyglot_notebook": {
     "kernelName": "csharp"
    }
   },
   "source": [
    "Observe that we may also Add a Range of homogeneous data, also known as a Collection, to the end of our `strictlyTypedIntegerList`, without using a loop:"
   ]
  },
  {
   "cell_type": "code",
   "execution_count": 9,
   "metadata": {
    "dotnet_interactive": {
     "language": "csharp"
    },
    "polyglot_notebook": {
     "kernelName": "csharp"
    },
    "vscode": {
     "languageId": "polyglot-notebook"
    }
   },
   "outputs": [],
   "source": [
    "strictlyTypedIntegerList.AddRange( new int[]{ 8, 9, 10, 11, 12 } )"
   ]
  },
  {
   "cell_type": "code",
   "execution_count": 10,
   "metadata": {
    "dotnet_interactive": {
     "language": "csharp"
    },
    "polyglot_notebook": {
     "kernelName": "csharp"
    },
    "vscode": {
     "languageId": "polyglot-notebook"
    }
   },
   "outputs": [
    {
     "data": {
      "text/html": [
       "<table><thead><tr><th><i>index</i></th><th>value</th></tr></thead><tbody><tr><td>0</td><td><div class=\"dni-plaintext\"><pre>1</pre></div></td></tr><tr><td>1</td><td><div class=\"dni-plaintext\"><pre>2</pre></div></td></tr><tr><td>2</td><td><div class=\"dni-plaintext\"><pre>3</pre></div></td></tr><tr><td>3</td><td><div class=\"dni-plaintext\"><pre>4</pre></div></td></tr><tr><td>4</td><td><div class=\"dni-plaintext\"><pre>5</pre></div></td></tr><tr><td>5</td><td><div class=\"dni-plaintext\"><pre>6</pre></div></td></tr><tr><td>6</td><td><div class=\"dni-plaintext\"><pre>7</pre></div></td></tr><tr><td>7</td><td><div class=\"dni-plaintext\"><pre>8</pre></div></td></tr><tr><td>8</td><td><div class=\"dni-plaintext\"><pre>9</pre></div></td></tr><tr><td>9</td><td><div class=\"dni-plaintext\"><pre>10</pre></div></td></tr><tr><td>10</td><td><div class=\"dni-plaintext\"><pre>11</pre></div></td></tr><tr><td>11</td><td><div class=\"dni-plaintext\"><pre>12</pre></div></td></tr></tbody></table><style>\r\n",
       ".dni-code-hint {\r\n",
       "    font-style: italic;\r\n",
       "    overflow: hidden;\r\n",
       "    white-space: nowrap;\r\n",
       "}\r\n",
       ".dni-treeview {\r\n",
       "    white-space: nowrap;\r\n",
       "}\r\n",
       ".dni-treeview td {\r\n",
       "    vertical-align: top;\r\n",
       "    text-align: start;\r\n",
       "}\r\n",
       "details.dni-treeview {\r\n",
       "    padding-left: 1em;\r\n",
       "}\r\n",
       "table td {\r\n",
       "    text-align: start;\r\n",
       "}\r\n",
       "table tr { \r\n",
       "    vertical-align: top; \r\n",
       "    margin: 0em 0px;\r\n",
       "}\r\n",
       "table tr td pre \r\n",
       "{ \r\n",
       "    vertical-align: top !important; \r\n",
       "    margin: 0em 0px !important;\r\n",
       "} \r\n",
       "table th {\r\n",
       "    text-align: start;\r\n",
       "}\r\n",
       "</style>"
      ]
     },
     "metadata": {},
     "output_type": "display_data"
    }
   ],
   "source": [
    "strictlyTypedIntegerList"
   ]
  },
  {
   "attachments": {},
   "cell_type": "markdown",
   "metadata": {
    "dotnet_interactive": {
     "language": "csharp"
    },
    "polyglot_notebook": {
     "kernelName": "csharp"
    }
   },
   "source": [
    "<br>"
   ]
  },
  {
   "attachments": {},
   "cell_type": "markdown",
   "metadata": {
    "dotnet_interactive": {
     "language": "csharp"
    },
    "polyglot_notebook": {
     "kernelName": "csharp"
    }
   },
   "source": [
    "We may also Insert, either individually, iteratively, or as a collection, at a specified Index:"
   ]
  },
  {
   "cell_type": "code",
   "execution_count": 11,
   "metadata": {
    "dotnet_interactive": {
     "language": "csharp"
    },
    "polyglot_notebook": {
     "kernelName": "csharp"
    },
    "vscode": {
     "languageId": "polyglot-notebook"
    }
   },
   "outputs": [],
   "source": [
    "strictlyTypedIntegerList.Insert( 1, 99 );"
   ]
  },
  {
   "cell_type": "code",
   "execution_count": 12,
   "metadata": {
    "dotnet_interactive": {
     "language": "csharp"
    },
    "polyglot_notebook": {
     "kernelName": "csharp"
    },
    "vscode": {
     "languageId": "polyglot-notebook"
    }
   },
   "outputs": [
    {
     "data": {
      "text/html": [
       "<table><thead><tr><th><i>index</i></th><th>value</th></tr></thead><tbody><tr><td>0</td><td><div class=\"dni-plaintext\"><pre>1</pre></div></td></tr><tr><td>1</td><td><div class=\"dni-plaintext\"><pre>99</pre></div></td></tr><tr><td>2</td><td><div class=\"dni-plaintext\"><pre>2</pre></div></td></tr><tr><td>3</td><td><div class=\"dni-plaintext\"><pre>3</pre></div></td></tr><tr><td>4</td><td><div class=\"dni-plaintext\"><pre>4</pre></div></td></tr><tr><td>5</td><td><div class=\"dni-plaintext\"><pre>5</pre></div></td></tr><tr><td>6</td><td><div class=\"dni-plaintext\"><pre>6</pre></div></td></tr><tr><td>7</td><td><div class=\"dni-plaintext\"><pre>7</pre></div></td></tr><tr><td>8</td><td><div class=\"dni-plaintext\"><pre>8</pre></div></td></tr><tr><td>9</td><td><div class=\"dni-plaintext\"><pre>9</pre></div></td></tr><tr><td>10</td><td><div class=\"dni-plaintext\"><pre>10</pre></div></td></tr><tr><td>11</td><td><div class=\"dni-plaintext\"><pre>11</pre></div></td></tr><tr><td>12</td><td><div class=\"dni-plaintext\"><pre>12</pre></div></td></tr></tbody></table><style>\r\n",
       ".dni-code-hint {\r\n",
       "    font-style: italic;\r\n",
       "    overflow: hidden;\r\n",
       "    white-space: nowrap;\r\n",
       "}\r\n",
       ".dni-treeview {\r\n",
       "    white-space: nowrap;\r\n",
       "}\r\n",
       ".dni-treeview td {\r\n",
       "    vertical-align: top;\r\n",
       "    text-align: start;\r\n",
       "}\r\n",
       "details.dni-treeview {\r\n",
       "    padding-left: 1em;\r\n",
       "}\r\n",
       "table td {\r\n",
       "    text-align: start;\r\n",
       "}\r\n",
       "table tr { \r\n",
       "    vertical-align: top; \r\n",
       "    margin: 0em 0px;\r\n",
       "}\r\n",
       "table tr td pre \r\n",
       "{ \r\n",
       "    vertical-align: top !important; \r\n",
       "    margin: 0em 0px !important;\r\n",
       "} \r\n",
       "table th {\r\n",
       "    text-align: start;\r\n",
       "}\r\n",
       "</style>"
      ]
     },
     "metadata": {},
     "output_type": "display_data"
    }
   ],
   "source": [
    "strictlyTypedIntegerList"
   ]
  },
  {
   "cell_type": "code",
   "execution_count": 13,
   "metadata": {
    "dotnet_interactive": {
     "language": "csharp"
    },
    "polyglot_notebook": {
     "kernelName": "csharp"
    },
    "vscode": {
     "languageId": "polyglot-notebook"
    }
   },
   "outputs": [],
   "source": [
    "strictlyTypedIntegerList.InsertRange( 5, new int[]{ 100, 101, 102 } );"
   ]
  },
  {
   "cell_type": "code",
   "execution_count": 14,
   "metadata": {
    "dotnet_interactive": {
     "language": "csharp"
    },
    "polyglot_notebook": {
     "kernelName": "csharp"
    },
    "vscode": {
     "languageId": "polyglot-notebook"
    }
   },
   "outputs": [
    {
     "data": {
      "text/html": [
       "<table><thead><tr><th><i>index</i></th><th>value</th></tr></thead><tbody><tr><td>0</td><td><div class=\"dni-plaintext\"><pre>1</pre></div></td></tr><tr><td>1</td><td><div class=\"dni-plaintext\"><pre>99</pre></div></td></tr><tr><td>2</td><td><div class=\"dni-plaintext\"><pre>2</pre></div></td></tr><tr><td>3</td><td><div class=\"dni-plaintext\"><pre>3</pre></div></td></tr><tr><td>4</td><td><div class=\"dni-plaintext\"><pre>4</pre></div></td></tr><tr><td>5</td><td><div class=\"dni-plaintext\"><pre>100</pre></div></td></tr><tr><td>6</td><td><div class=\"dni-plaintext\"><pre>101</pre></div></td></tr><tr><td>7</td><td><div class=\"dni-plaintext\"><pre>102</pre></div></td></tr><tr><td>8</td><td><div class=\"dni-plaintext\"><pre>5</pre></div></td></tr><tr><td>9</td><td><div class=\"dni-plaintext\"><pre>6</pre></div></td></tr><tr><td>10</td><td><div class=\"dni-plaintext\"><pre>7</pre></div></td></tr><tr><td>11</td><td><div class=\"dni-plaintext\"><pre>8</pre></div></td></tr><tr><td>12</td><td><div class=\"dni-plaintext\"><pre>9</pre></div></td></tr><tr><td>13</td><td><div class=\"dni-plaintext\"><pre>10</pre></div></td></tr><tr><td>14</td><td><div class=\"dni-plaintext\"><pre>11</pre></div></td></tr><tr><td>15</td><td><div class=\"dni-plaintext\"><pre>12</pre></div></td></tr></tbody></table><style>\r\n",
       ".dni-code-hint {\r\n",
       "    font-style: italic;\r\n",
       "    overflow: hidden;\r\n",
       "    white-space: nowrap;\r\n",
       "}\r\n",
       ".dni-treeview {\r\n",
       "    white-space: nowrap;\r\n",
       "}\r\n",
       ".dni-treeview td {\r\n",
       "    vertical-align: top;\r\n",
       "    text-align: start;\r\n",
       "}\r\n",
       "details.dni-treeview {\r\n",
       "    padding-left: 1em;\r\n",
       "}\r\n",
       "table td {\r\n",
       "    text-align: start;\r\n",
       "}\r\n",
       "table tr { \r\n",
       "    vertical-align: top; \r\n",
       "    margin: 0em 0px;\r\n",
       "}\r\n",
       "table tr td pre \r\n",
       "{ \r\n",
       "    vertical-align: top !important; \r\n",
       "    margin: 0em 0px !important;\r\n",
       "} \r\n",
       "table th {\r\n",
       "    text-align: start;\r\n",
       "}\r\n",
       "</style>"
      ]
     },
     "metadata": {},
     "output_type": "display_data"
    }
   ],
   "source": [
    "strictlyTypedIntegerList"
   ]
  },
  {
   "attachments": {},
   "cell_type": "markdown",
   "metadata": {
    "dotnet_interactive": {
     "language": "csharp"
    },
    "polyglot_notebook": {
     "kernelName": "csharp"
    }
   },
   "source": [
    "<br>"
   ]
  },
  {
   "attachments": {},
   "cell_type": "markdown",
   "metadata": {
    "dotnet_interactive": {
     "language": "csharp"
    },
    "polyglot_notebook": {
     "kernelName": "csharp"
    }
   },
   "source": [
    "We also have convenient processing methods which support in-place Sort and Reverse operations:"
   ]
  },
  {
   "cell_type": "code",
   "execution_count": 15,
   "metadata": {
    "dotnet_interactive": {
     "language": "csharp"
    },
    "polyglot_notebook": {
     "kernelName": "csharp"
    },
    "vscode": {
     "languageId": "polyglot-notebook"
    }
   },
   "outputs": [],
   "source": [
    "strictlyTypedIntegerList.Sort();"
   ]
  },
  {
   "cell_type": "code",
   "execution_count": 16,
   "metadata": {
    "dotnet_interactive": {
     "language": "csharp"
    },
    "polyglot_notebook": {
     "kernelName": "csharp"
    },
    "vscode": {
     "languageId": "polyglot-notebook"
    }
   },
   "outputs": [
    {
     "data": {
      "text/html": [
       "<table><thead><tr><th><i>index</i></th><th>value</th></tr></thead><tbody><tr><td>0</td><td><div class=\"dni-plaintext\"><pre>1</pre></div></td></tr><tr><td>1</td><td><div class=\"dni-plaintext\"><pre>2</pre></div></td></tr><tr><td>2</td><td><div class=\"dni-plaintext\"><pre>3</pre></div></td></tr><tr><td>3</td><td><div class=\"dni-plaintext\"><pre>4</pre></div></td></tr><tr><td>4</td><td><div class=\"dni-plaintext\"><pre>5</pre></div></td></tr><tr><td>5</td><td><div class=\"dni-plaintext\"><pre>6</pre></div></td></tr><tr><td>6</td><td><div class=\"dni-plaintext\"><pre>7</pre></div></td></tr><tr><td>7</td><td><div class=\"dni-plaintext\"><pre>8</pre></div></td></tr><tr><td>8</td><td><div class=\"dni-plaintext\"><pre>9</pre></div></td></tr><tr><td>9</td><td><div class=\"dni-plaintext\"><pre>10</pre></div></td></tr><tr><td>10</td><td><div class=\"dni-plaintext\"><pre>11</pre></div></td></tr><tr><td>11</td><td><div class=\"dni-plaintext\"><pre>12</pre></div></td></tr><tr><td>12</td><td><div class=\"dni-plaintext\"><pre>99</pre></div></td></tr><tr><td>13</td><td><div class=\"dni-plaintext\"><pre>100</pre></div></td></tr><tr><td>14</td><td><div class=\"dni-plaintext\"><pre>101</pre></div></td></tr><tr><td>15</td><td><div class=\"dni-plaintext\"><pre>102</pre></div></td></tr></tbody></table><style>\r\n",
       ".dni-code-hint {\r\n",
       "    font-style: italic;\r\n",
       "    overflow: hidden;\r\n",
       "    white-space: nowrap;\r\n",
       "}\r\n",
       ".dni-treeview {\r\n",
       "    white-space: nowrap;\r\n",
       "}\r\n",
       ".dni-treeview td {\r\n",
       "    vertical-align: top;\r\n",
       "    text-align: start;\r\n",
       "}\r\n",
       "details.dni-treeview {\r\n",
       "    padding-left: 1em;\r\n",
       "}\r\n",
       "table td {\r\n",
       "    text-align: start;\r\n",
       "}\r\n",
       "table tr { \r\n",
       "    vertical-align: top; \r\n",
       "    margin: 0em 0px;\r\n",
       "}\r\n",
       "table tr td pre \r\n",
       "{ \r\n",
       "    vertical-align: top !important; \r\n",
       "    margin: 0em 0px !important;\r\n",
       "} \r\n",
       "table th {\r\n",
       "    text-align: start;\r\n",
       "}\r\n",
       "</style>"
      ]
     },
     "metadata": {},
     "output_type": "display_data"
    }
   ],
   "source": [
    "strictlyTypedIntegerList\n"
   ]
  },
  {
   "cell_type": "code",
   "execution_count": 17,
   "metadata": {
    "dotnet_interactive": {
     "language": "csharp"
    },
    "polyglot_notebook": {
     "kernelName": "csharp"
    },
    "vscode": {
     "languageId": "polyglot-notebook"
    }
   },
   "outputs": [],
   "source": [
    "strictlyTypedIntegerList.Reverse();"
   ]
  },
  {
   "cell_type": "code",
   "execution_count": 18,
   "metadata": {
    "dotnet_interactive": {
     "language": "csharp"
    },
    "polyglot_notebook": {
     "kernelName": "csharp"
    },
    "vscode": {
     "languageId": "polyglot-notebook"
    }
   },
   "outputs": [
    {
     "data": {
      "text/html": [
       "<table><thead><tr><th><i>index</i></th><th>value</th></tr></thead><tbody><tr><td>0</td><td><div class=\"dni-plaintext\"><pre>102</pre></div></td></tr><tr><td>1</td><td><div class=\"dni-plaintext\"><pre>101</pre></div></td></tr><tr><td>2</td><td><div class=\"dni-plaintext\"><pre>100</pre></div></td></tr><tr><td>3</td><td><div class=\"dni-plaintext\"><pre>99</pre></div></td></tr><tr><td>4</td><td><div class=\"dni-plaintext\"><pre>12</pre></div></td></tr><tr><td>5</td><td><div class=\"dni-plaintext\"><pre>11</pre></div></td></tr><tr><td>6</td><td><div class=\"dni-plaintext\"><pre>10</pre></div></td></tr><tr><td>7</td><td><div class=\"dni-plaintext\"><pre>9</pre></div></td></tr><tr><td>8</td><td><div class=\"dni-plaintext\"><pre>8</pre></div></td></tr><tr><td>9</td><td><div class=\"dni-plaintext\"><pre>7</pre></div></td></tr><tr><td>10</td><td><div class=\"dni-plaintext\"><pre>6</pre></div></td></tr><tr><td>11</td><td><div class=\"dni-plaintext\"><pre>5</pre></div></td></tr><tr><td>12</td><td><div class=\"dni-plaintext\"><pre>4</pre></div></td></tr><tr><td>13</td><td><div class=\"dni-plaintext\"><pre>3</pre></div></td></tr><tr><td>14</td><td><div class=\"dni-plaintext\"><pre>2</pre></div></td></tr><tr><td>15</td><td><div class=\"dni-plaintext\"><pre>1</pre></div></td></tr></tbody></table><style>\r\n",
       ".dni-code-hint {\r\n",
       "    font-style: italic;\r\n",
       "    overflow: hidden;\r\n",
       "    white-space: nowrap;\r\n",
       "}\r\n",
       ".dni-treeview {\r\n",
       "    white-space: nowrap;\r\n",
       "}\r\n",
       ".dni-treeview td {\r\n",
       "    vertical-align: top;\r\n",
       "    text-align: start;\r\n",
       "}\r\n",
       "details.dni-treeview {\r\n",
       "    padding-left: 1em;\r\n",
       "}\r\n",
       "table td {\r\n",
       "    text-align: start;\r\n",
       "}\r\n",
       "table tr { \r\n",
       "    vertical-align: top; \r\n",
       "    margin: 0em 0px;\r\n",
       "}\r\n",
       "table tr td pre \r\n",
       "{ \r\n",
       "    vertical-align: top !important; \r\n",
       "    margin: 0em 0px !important;\r\n",
       "} \r\n",
       "table th {\r\n",
       "    text-align: start;\r\n",
       "}\r\n",
       "</style>"
      ]
     },
     "metadata": {},
     "output_type": "display_data"
    }
   ],
   "source": [
    "strictlyTypedIntegerList"
   ]
  },
  {
   "attachments": {},
   "cell_type": "markdown",
   "metadata": {
    "dotnet_interactive": {
     "language": "csharp"
    },
    "polyglot_notebook": {
     "kernelName": "csharp"
    }
   },
   "source": [
    "<br>"
   ]
  },
  {
   "attachments": {},
   "cell_type": "markdown",
   "metadata": {
    "dotnet_interactive": {
     "language": "csharp"
    },
    "polyglot_notebook": {
     "kernelName": "csharp"
    }
   },
   "source": [
    "Now our list is getting a little long. \n",
    "    \n",
    "Let's say we wanted to Remove All the even numbered values. \n",
    "    \n",
    "Using a defined boolean evaluation method, also known a **Predicate**, we can do just that:"
   ]
  },
  {
   "cell_type": "code",
   "execution_count": 19,
   "metadata": {
    "dotnet_interactive": {
     "language": "csharp"
    },
    "polyglot_notebook": {
     "kernelName": "csharp"
    },
    "vscode": {
     "languageId": "polyglot-notebook"
    }
   },
   "outputs": [],
   "source": [
    "static bool EvenPredicate( int element )\n",
    "{\n",
    "    return element % 2 == 0;\n",
    "}"
   ]
  },
  {
   "attachments": {},
   "cell_type": "markdown",
   "metadata": {
    "dotnet_interactive": {
     "language": "csharp"
    },
    "polyglot_notebook": {
     "kernelName": "csharp"
    }
   },
   "source": [
    "Observe that, below, once the elements matching the Predicate are removed, the number of elements successfully removed will be returned by the `RemoveAll` method."
   ]
  },
  {
   "cell_type": "code",
   "execution_count": 20,
   "metadata": {
    "dotnet_interactive": {
     "language": "csharp"
    },
    "polyglot_notebook": {
     "kernelName": "csharp"
    },
    "vscode": {
     "languageId": "polyglot-notebook"
    }
   },
   "outputs": [
    {
     "data": {
      "text/html": [
       "<div class=\"dni-plaintext\"><pre>8</pre></div><style>\r\n",
       ".dni-code-hint {\r\n",
       "    font-style: italic;\r\n",
       "    overflow: hidden;\r\n",
       "    white-space: nowrap;\r\n",
       "}\r\n",
       ".dni-treeview {\r\n",
       "    white-space: nowrap;\r\n",
       "}\r\n",
       ".dni-treeview td {\r\n",
       "    vertical-align: top;\r\n",
       "    text-align: start;\r\n",
       "}\r\n",
       "details.dni-treeview {\r\n",
       "    padding-left: 1em;\r\n",
       "}\r\n",
       "table td {\r\n",
       "    text-align: start;\r\n",
       "}\r\n",
       "table tr { \r\n",
       "    vertical-align: top; \r\n",
       "    margin: 0em 0px;\r\n",
       "}\r\n",
       "table tr td pre \r\n",
       "{ \r\n",
       "    vertical-align: top !important; \r\n",
       "    margin: 0em 0px !important;\r\n",
       "} \r\n",
       "table th {\r\n",
       "    text-align: start;\r\n",
       "}\r\n",
       "</style>"
      ]
     },
     "metadata": {},
     "output_type": "display_data"
    }
   ],
   "source": [
    "strictlyTypedIntegerList.RemoveAll( EvenPredicate )"
   ]
  },
  {
   "cell_type": "code",
   "execution_count": 21,
   "metadata": {
    "dotnet_interactive": {
     "language": "csharp"
    },
    "polyglot_notebook": {
     "kernelName": "csharp"
    },
    "vscode": {
     "languageId": "polyglot-notebook"
    }
   },
   "outputs": [
    {
     "data": {
      "text/html": [
       "<table><thead><tr><th><i>index</i></th><th>value</th></tr></thead><tbody><tr><td>0</td><td><div class=\"dni-plaintext\"><pre>101</pre></div></td></tr><tr><td>1</td><td><div class=\"dni-plaintext\"><pre>99</pre></div></td></tr><tr><td>2</td><td><div class=\"dni-plaintext\"><pre>11</pre></div></td></tr><tr><td>3</td><td><div class=\"dni-plaintext\"><pre>9</pre></div></td></tr><tr><td>4</td><td><div class=\"dni-plaintext\"><pre>7</pre></div></td></tr><tr><td>5</td><td><div class=\"dni-plaintext\"><pre>5</pre></div></td></tr><tr><td>6</td><td><div class=\"dni-plaintext\"><pre>3</pre></div></td></tr><tr><td>7</td><td><div class=\"dni-plaintext\"><pre>1</pre></div></td></tr></tbody></table><style>\r\n",
       ".dni-code-hint {\r\n",
       "    font-style: italic;\r\n",
       "    overflow: hidden;\r\n",
       "    white-space: nowrap;\r\n",
       "}\r\n",
       ".dni-treeview {\r\n",
       "    white-space: nowrap;\r\n",
       "}\r\n",
       ".dni-treeview td {\r\n",
       "    vertical-align: top;\r\n",
       "    text-align: start;\r\n",
       "}\r\n",
       "details.dni-treeview {\r\n",
       "    padding-left: 1em;\r\n",
       "}\r\n",
       "table td {\r\n",
       "    text-align: start;\r\n",
       "}\r\n",
       "table tr { \r\n",
       "    vertical-align: top; \r\n",
       "    margin: 0em 0px;\r\n",
       "}\r\n",
       "table tr td pre \r\n",
       "{ \r\n",
       "    vertical-align: top !important; \r\n",
       "    margin: 0em 0px !important;\r\n",
       "} \r\n",
       "table th {\r\n",
       "    text-align: start;\r\n",
       "}\r\n",
       "</style>"
      ]
     },
     "metadata": {},
     "output_type": "display_data"
    }
   ],
   "source": [
    "strictlyTypedIntegerList"
   ]
  },
  {
   "attachments": {},
   "cell_type": "markdown",
   "metadata": {
    "dotnet_interactive": {
     "language": "csharp"
    },
    "polyglot_notebook": {
     "kernelName": "csharp"
    }
   },
   "source": [
    "<br>"
   ]
  },
  {
   "attachments": {},
   "cell_type": "markdown",
   "metadata": {
    "dotnet_interactive": {
     "language": "csharp"
    },
    "polyglot_notebook": {
     "kernelName": "csharp"
    }
   },
   "source": [
    "Building off the use of Predicates, we may also retrieve elements within the collection which match a given Predicate, such as the following evaluation which determines if an element contains any `1`'s:"
   ]
  },
  {
   "cell_type": "code",
   "execution_count": 22,
   "metadata": {
    "dotnet_interactive": {
     "language": "csharp"
    },
    "polyglot_notebook": {
     "kernelName": "csharp"
    },
    "vscode": {
     "languageId": "polyglot-notebook"
    }
   },
   "outputs": [],
   "source": [
    "static bool ContainsAOnePredicate( int element )\n",
    "{\n",
    "    return element.ToString().Contains('1');\n",
    "}"
   ]
  },
  {
   "cell_type": "code",
   "execution_count": 23,
   "metadata": {
    "dotnet_interactive": {
     "language": "csharp"
    },
    "polyglot_notebook": {
     "kernelName": "csharp"
    },
    "vscode": {
     "languageId": "polyglot-notebook"
    }
   },
   "outputs": [
    {
     "data": {
      "text/html": [
       "<div class=\"dni-plaintext\"><pre>101</pre></div><style>\r\n",
       ".dni-code-hint {\r\n",
       "    font-style: italic;\r\n",
       "    overflow: hidden;\r\n",
       "    white-space: nowrap;\r\n",
       "}\r\n",
       ".dni-treeview {\r\n",
       "    white-space: nowrap;\r\n",
       "}\r\n",
       ".dni-treeview td {\r\n",
       "    vertical-align: top;\r\n",
       "    text-align: start;\r\n",
       "}\r\n",
       "details.dni-treeview {\r\n",
       "    padding-left: 1em;\r\n",
       "}\r\n",
       "table td {\r\n",
       "    text-align: start;\r\n",
       "}\r\n",
       "table tr { \r\n",
       "    vertical-align: top; \r\n",
       "    margin: 0em 0px;\r\n",
       "}\r\n",
       "table tr td pre \r\n",
       "{ \r\n",
       "    vertical-align: top !important; \r\n",
       "    margin: 0em 0px !important;\r\n",
       "} \r\n",
       "table th {\r\n",
       "    text-align: start;\r\n",
       "}\r\n",
       "</style>"
      ]
     },
     "metadata": {},
     "output_type": "display_data"
    }
   ],
   "source": [
    "// return the first occurence\n",
    "strictlyTypedIntegerList.Find( ContainsAOnePredicate )"
   ]
  },
  {
   "cell_type": "code",
   "execution_count": 24,
   "metadata": {
    "dotnet_interactive": {
     "language": "csharp"
    },
    "polyglot_notebook": {
     "kernelName": "csharp"
    },
    "vscode": {
     "languageId": "polyglot-notebook"
    }
   },
   "outputs": [
    {
     "data": {
      "text/html": [
       "<div class=\"dni-plaintext\"><pre>1</pre></div><style>\r\n",
       ".dni-code-hint {\r\n",
       "    font-style: italic;\r\n",
       "    overflow: hidden;\r\n",
       "    white-space: nowrap;\r\n",
       "}\r\n",
       ".dni-treeview {\r\n",
       "    white-space: nowrap;\r\n",
       "}\r\n",
       ".dni-treeview td {\r\n",
       "    vertical-align: top;\r\n",
       "    text-align: start;\r\n",
       "}\r\n",
       "details.dni-treeview {\r\n",
       "    padding-left: 1em;\r\n",
       "}\r\n",
       "table td {\r\n",
       "    text-align: start;\r\n",
       "}\r\n",
       "table tr { \r\n",
       "    vertical-align: top; \r\n",
       "    margin: 0em 0px;\r\n",
       "}\r\n",
       "table tr td pre \r\n",
       "{ \r\n",
       "    vertical-align: top !important; \r\n",
       "    margin: 0em 0px !important;\r\n",
       "} \r\n",
       "table th {\r\n",
       "    text-align: start;\r\n",
       "}\r\n",
       "</style>"
      ]
     },
     "metadata": {},
     "output_type": "display_data"
    }
   ],
   "source": [
    "// return the last occurence\n",
    "strictlyTypedIntegerList.FindLast( ContainsAOnePredicate )"
   ]
  },
  {
   "cell_type": "code",
   "execution_count": 25,
   "metadata": {
    "dotnet_interactive": {
     "language": "csharp"
    },
    "polyglot_notebook": {
     "kernelName": "csharp"
    },
    "vscode": {
     "languageId": "polyglot-notebook"
    }
   },
   "outputs": [
    {
     "data": {
      "text/html": [
       "<table><thead><tr><th><i>index</i></th><th>value</th></tr></thead><tbody><tr><td>0</td><td><div class=\"dni-plaintext\"><pre>101</pre></div></td></tr><tr><td>1</td><td><div class=\"dni-plaintext\"><pre>11</pre></div></td></tr><tr><td>2</td><td><div class=\"dni-plaintext\"><pre>1</pre></div></td></tr></tbody></table><style>\r\n",
       ".dni-code-hint {\r\n",
       "    font-style: italic;\r\n",
       "    overflow: hidden;\r\n",
       "    white-space: nowrap;\r\n",
       "}\r\n",
       ".dni-treeview {\r\n",
       "    white-space: nowrap;\r\n",
       "}\r\n",
       ".dni-treeview td {\r\n",
       "    vertical-align: top;\r\n",
       "    text-align: start;\r\n",
       "}\r\n",
       "details.dni-treeview {\r\n",
       "    padding-left: 1em;\r\n",
       "}\r\n",
       "table td {\r\n",
       "    text-align: start;\r\n",
       "}\r\n",
       "table tr { \r\n",
       "    vertical-align: top; \r\n",
       "    margin: 0em 0px;\r\n",
       "}\r\n",
       "table tr td pre \r\n",
       "{ \r\n",
       "    vertical-align: top !important; \r\n",
       "    margin: 0em 0px !important;\r\n",
       "} \r\n",
       "table th {\r\n",
       "    text-align: start;\r\n",
       "}\r\n",
       "</style>"
      ]
     },
     "metadata": {},
     "output_type": "display_data"
    }
   ],
   "source": [
    "// return all occurences\n",
    "strictlyTypedIntegerList.FindAll( ContainsAOnePredicate )"
   ]
  },
  {
   "attachments": {},
   "cell_type": "markdown",
   "metadata": {
    "dotnet_interactive": {
     "language": "csharp"
    },
    "polyglot_notebook": {
     "kernelName": "csharp"
    }
   },
   "source": [
    "<br>"
   ]
  },
  {
   "attachments": {},
   "cell_type": "markdown",
   "metadata": {
    "dotnet_interactive": {
     "language": "csharp"
    },
    "polyglot_notebook": {
     "kernelName": "csharp"
    }
   },
   "source": [
    "Another interesting feature of the `List<T>` class is the ability to perform a specified Action For Each element, which may take a predefined method as an argument, or an anonymous `delegate` method, without using a loop. \n",
    "   \n",
    "In either approach, however, the method must be `void`:"
   ]
  },
  {
   "cell_type": "code",
   "execution_count": 26,
   "metadata": {
    "dotnet_interactive": {
     "language": "csharp"
    },
    "polyglot_notebook": {
     "kernelName": "csharp"
    },
    "vscode": {
     "languageId": "polyglot-notebook"
    }
   },
   "outputs": [],
   "source": [
    "// use a predefined, void-returning method to double each element value\n",
    "\n",
    "static void DoubleTheElement( int element )\n",
    "{\n",
    "    Console.WriteLine( element * 2 );\n",
    "}"
   ]
  },
  {
   "cell_type": "code",
   "execution_count": 27,
   "metadata": {
    "dotnet_interactive": {
     "language": "csharp"
    },
    "polyglot_notebook": {
     "kernelName": "csharp"
    },
    "vscode": {
     "languageId": "polyglot-notebook"
    }
   },
   "outputs": [
    {
     "name": "stdout",
     "output_type": "stream",
     "text": [
      "202\n",
      "198\n",
      "22\n",
      "18\n",
      "14\n",
      "10\n",
      "6\n",
      "2\n"
     ]
    }
   ],
   "source": [
    "strictlyTypedIntegerList.ForEach( DoubleTheElement )"
   ]
  },
  {
   "cell_type": "code",
   "execution_count": 28,
   "metadata": {
    "dotnet_interactive": {
     "language": "csharp"
    },
    "polyglot_notebook": {
     "kernelName": "csharp"
    },
    "vscode": {
     "languageId": "polyglot-notebook"
    }
   },
   "outputs": [
    {
     "name": "stdout",
     "output_type": "stream",
     "text": [
      "202\n",
      "198\n",
      "22\n",
      "18\n",
      "14\n",
      "10\n",
      "6\n",
      "2\n"
     ]
    }
   ],
   "source": [
    "// Use an an annonymous action delegate to double each element value\n",
    "\n",
    "strictlyTypedIntegerList.ForEach\n",
    "(\n",
    "    delegate ( int element )\n",
    "    {\n",
    "        Console.WriteLine( element * 2 );\n",
    "    }\n",
    ")"
   ]
  }
 ],
 "metadata": {
  "kernelspec": {
   "display_name": ".NET (C#)",
   "language": "C#",
   "name": ".net-csharp"
  },
  "polyglot_notebook": {
   "kernelInfo": {
    "defaultKernelName": "csharp",
    "items": [
     {
      "aliases": [
       "c#",
       "C#"
      ],
      "languageName": "C#",
      "name": "csharp"
     },
     {
      "aliases": [
       "f#",
       "F#"
      ],
      "languageName": "F#",
      "name": "fsharp"
     },
     {
      "aliases": [
       "frontend"
      ],
      "languageName": null,
      "name": "vscode"
     },
     {
      "aliases": [],
      "languageName": "SQL",
      "name": "sql"
     }
    ]
   }
  }
 },
 "nbformat": 4,
 "nbformat_minor": 2
}
