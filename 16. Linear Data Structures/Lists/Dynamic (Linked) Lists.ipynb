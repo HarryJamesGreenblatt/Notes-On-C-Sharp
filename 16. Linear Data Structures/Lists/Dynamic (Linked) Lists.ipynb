{
 "cells": [
  {
   "attachments": {},
   "cell_type": "markdown",
   "metadata": {
    "dotnet_interactive": {
     "language": "csharp"
    },
    "polyglot_notebook": {
     "kernelName": "csharp"
    }
   },
   "source": [
    "# 16. Linear Data Stuctures"
   ]
  },
  {
   "attachments": {},
   "cell_type": "markdown",
   "metadata": {
    "dotnet_interactive": {
     "language": "csharp"
    },
    "polyglot_notebook": {
     "kernelName": "csharp"
    }
   },
   "source": [
    "## Lists\n",
    "### Linked Lists (Dynamic Implementation)\n",
    "---"
   ]
  },
  {
   "attachments": {},
   "cell_type": "markdown",
   "metadata": {
    "dotnet_interactive": {
     "language": "csharp"
    },
    "polyglot_notebook": {
     "kernelName": "csharp"
    }
   },
   "source": [
    "In comparison to other Linear Data Structures, the [Static List (Array-based)](../Lists/Static%20Lists%20(Array-based).ipynb) has a *serious disadvantage* – the operations for *inserting* and *removing* items from the inside of the array requires *rearrangement of the elements* (*shift operations*).   \n",
    "   \n",
    "When frequently inserting and removing items (especially a large number of items), this can lead to *low performance*.   "
   ]
  },
  {
   "attachments": {},
   "cell_type": "markdown",
   "metadata": {
    "dotnet_interactive": {
     "language": "csharp"
    },
    "polyglot_notebook": {
     "kernelName": "csharp"
    }
   },
   "source": [
    "In such cases, it is advisable to use another structure called **Linked Lists**,  \n",
    "a **dynamic**, rather than a static list implementation, in which each element along the linear structure **retains information about their neighboring element**."
   ]
  },
  {
   "attachments": {},
   "cell_type": "markdown",
   "metadata": {
    "dotnet_interactive": {
     "language": "csharp"
    },
    "polyglot_notebook": {
     "kernelName": "csharp"
    }
   },
   "source": [
    "<br>"
   ]
  },
  {
   "attachments": {},
   "cell_type": "markdown",
   "metadata": {
    "dotnet_interactive": {
     "language": "csharp"
    },
    "polyglot_notebook": {
     "kernelName": "csharp"
    }
   },
   "source": [
    "### The Dynamic (Linked) List"
   ]
  },
  {
   "attachments": {},
   "cell_type": "markdown",
   "metadata": {
    "dotnet_interactive": {
     "language": "csharp"
    },
    "polyglot_notebook": {
     "kernelName": "csharp"
    }
   },
   "source": [
    "#### Class Definition"
   ]
  },
  {
   "attachments": {},
   "cell_type": "markdown",
   "metadata": {
    "dotnet_interactive": {
     "language": "csharp"
    },
    "polyglot_notebook": {
     "kernelName": "csharp"
    }
   },
   "source": [
    "For this classic, **Dynamic implementation of the Linked List**, we will need to define a **nested class** following the pattern below: \n",
    "1. the main `DynamicList<T>` class $-$ will hold a sequence of elements as well as the **head** and the **tail** of the list\n",
    "2. the nested `ListNode` class $-$ will hold a single element of the list along with its next element"
   ]
  },
  {
   "attachments": {},
   "cell_type": "markdown",
   "metadata": {
    "dotnet_interactive": {
     "language": "csharp"
    },
    "polyglot_notebook": {
     "kernelName": "csharp"
    }
   },
   "source": [
    "Using [Generics](../14.%20Defining%20Classes/Generics.ipynb), we may define such a Dynamically Linked structure to be able to hold any type of data, as defined below:"
   ]
  },
  {
   "cell_type": "code",
   "execution_count": null,
   "metadata": {
    "dotnet_interactive": {
     "language": "csharp"
    },
    "polyglot_notebook": {
     "kernelName": "csharp"
    },
    "vscode": {
     "languageId": "polyglot-notebook"
    }
   },
   "outputs": [],
   "source": [
    "public class DynamicList<T>\n",
    "{\n",
    "\n",
    "    // NESTED ListNode CLASS ---------------------------------------------------\n",
    "    // Represents a single element within the list\n",
    "    // which provides a recursive ListNode reference to the next element\n",
    "    private class ListNode\n",
    "    {\n",
    "\n",
    "        // PROPERTY DEFINITIONS ------------------------------------------------\n",
    "        public T Element\n",
    "        { \n",
    "            get; \n",
    "            set; \n",
    "        }\n",
    "        //----------------------------------------------------------------------\n",
    "        public ListNode NextNode\n",
    "        { \n",
    "            get; \n",
    "            set; \n",
    "        }\n",
    "        //----------------------------------------------------------------------\n",
    "\n",
    "\n",
    "        // CONSTRUCTORS --------------------------------------------------------\n",
    "        public ListNode( T element )\n",
    "        {\n",
    "            this.Element = element;\n",
    "            NextNode = null;\n",
    "        }\n",
    "        //----------------------------------------------------------------------\n",
    "        public ListNode( T element, ListNode prevNode )\n",
    "        {\n",
    "            this.Element = element;\n",
    "            prevNode.NextNode = null;\n",
    "        }\n",
    "        //----------------------------------------------------------------------\n",
    "\n",
    "    }\n",
    "    //--------------------------------------------------------------------------\n",
    "\n",
    "\n",
    "    // FIELD DEFINITIONS -------------------------------------------------------\n",
    "    private ListNode head,\n",
    "                     tail;\n",
    "    private int      nodeCount;       \n",
    "    //--------------------------------------------------------------------------\n",
    "\n",
    "\n",
    "    // PROPERTY DEFINITIONS ----------------------------------------------------\n",
    "    public int NodeCount\n",
    "    {\n",
    "        // read only\n",
    "        get\n",
    "        {\n",
    "            return this.nodeCount;\n",
    "        }\n",
    "    }\n",
    "    //--------------------------------------------------------------------------\n",
    "    //-------------------------- I N D E X E R ---------------------------------\n",
    "    public T this[ int index ]\n",
    "    {\n",
    "\n",
    "        get\n",
    "        {\n",
    "\n",
    "            // Try to retrieve the given value at the specified index,\n",
    "            // proceeding cautiously in the event that the given index\n",
    "            // could possibly be out of the boundaries of the List\n",
    "            try\n",
    "            {\n",
    "\n",
    "                // Instantiate a Traversal Node at the head of the List\n",
    "                ListNode currentNode = this.head;\n",
    "                \n",
    "\n",
    "                // Iterating For every node position until the specified Index:\n",
    "                for( int i = 0; i < index; i++ )\n",
    "                {\n",
    "\n",
    "                    // Advance the Traversal Node to the Next Node\n",
    "                    currentNode = currentNode.NextNode;\n",
    "\n",
    "                }\n",
    "\n",
    "\n",
    "                // After all that,\n",
    "                // we have now arrived at our desired Node index,\n",
    "                // return the current node's element\n",
    "                return currentNode.Element;\n",
    "\n",
    "            }\n",
    "\n",
    "\n",
    "            // Should there be an error, \n",
    "            // it's sure to be that the specified index is out of range.\n",
    "            // so provide an appropriate exception which generates a \n",
    "            // message to the user, \n",
    "            // and return the given type's default equivalent to null\n",
    "            // in order to indicate that the operation has failed\n",
    "            catch ( IndexOutOfRangeException ioor )\n",
    "            {\n",
    "                Console.WriteLine(\n",
    "                    $\"Index: {index} is invalid\\n\\n\"\n",
    "                    +\n",
    "                    $\"Stack Trace: {ioor.StackTrace}\"\n",
    "                );\n",
    "\n",
    "                return default(T);\n",
    "            }\n",
    "\n",
    "        }\n",
    " \n",
    "\n",
    "        set\n",
    "        {\n",
    "\n",
    "            // Try to assign the given value at the specified index,\n",
    "            // proceeding cautiously in the event that the given index\n",
    "            // could possibly be out of the boundaries of the Array\n",
    "            try\n",
    "            {\n",
    "\n",
    "                // Instantiate a Traversal Node at the head of the List\n",
    "                ListNode currentNode = this.head;\n",
    "                \n",
    "\n",
    "                // Iterating For every node position until the specified Index:\n",
    "                for( int i = 0; i < index; i++ )\n",
    "                {\n",
    "\n",
    "                    // Advance the Traversal Node to the Next Node\n",
    "                    currentNode = currentNode.NextNode;\n",
    "\n",
    "                }\n",
    "\n",
    "\n",
    "                // After all that,\n",
    "                // we have now arrived at our desired Node index,\n",
    "                // assign the specified value to the current node's element\n",
    "                currentNode.Element = value;\n",
    "\n",
    "            }\n",
    "\n",
    "\n",
    "            // Should there be an error, \n",
    "            // it's sure to be that the specified index is out of range.\n",
    "            // so provide an appropriate exception which generates a \n",
    "            // message to the user\n",
    "            catch ( IndexOutOfRangeException ioor )\n",
    "            {\n",
    "                Console.WriteLine(\n",
    "                    $\"Index: {index} is invalid\\n\\n\"\n",
    "                    +\n",
    "                    $\"Stack Trace: {ioor.StackTrace}\"\n",
    "                );\n",
    "            }\n",
    "\n",
    "        }\n",
    "    }\n",
    "    //--------------------------------------------------------------------------\n",
    "\n",
    "\n",
    "    // CONSTRUCTOR -------------------------------------------------------------\n",
    "    public DynamicList()\n",
    "    {\n",
    "        this.head = null;\n",
    "        this.tail = null;\n",
    "        this.nodeCount = 0;\n",
    "    }\n",
    "    //--------------------------------------------------------------------------\n",
    "\n",
    "\n",
    "    // METHODS -----------------------------------------------------------------\n",
    "    // Add a new element at the end of the list\n",
    "    public void Add( T element )\n",
    "    {\n",
    "\n",
    "        // If the head of the list is empty:\n",
    "        if( this.head == null )\n",
    "        {\n",
    "\n",
    "            // Create a new List node holding the specified element's value \n",
    "            this.head = new ListNode( element );\n",
    "\n",
    "\n",
    "            // Since there's only one Node,\n",
    "            // point the tail Node's tail back to it's head\n",
    "            this.tail = this.head; \n",
    "\n",
    "        }\n",
    "\n",
    "\n",
    "        // Otherwise,\n",
    "        // The list is not empty:\n",
    "        else\n",
    "        {\n",
    "\n",
    "            // Append to the list a new Node \n",
    "            // holding the specified element's value,\n",
    "            // designating the current tail as the previous Node\n",
    "            ListNode newNode = new ListNode( element, this.tail );\n",
    "\n",
    "        }\n",
    "\n",
    "\n",
    "        // Increment the node count to reflect the new Node\n",
    "        this.nodeCount++;\n",
    "\n",
    "    }\n",
    "    //--------------------------------------------------------------------------\n",
    "}"
   ]
  }
 ],
 "metadata": {
  "kernelspec": {
   "display_name": ".NET (C#)",
   "language": "C#",
   "name": ".net-csharp"
  },
  "polyglot_notebook": {
   "kernelInfo": {
    "defaultKernelName": "csharp",
    "items": [
     {
      "aliases": [
       "c#",
       "C#"
      ],
      "languageName": "C#",
      "name": "csharp"
     },
     {
      "aliases": [
       "frontend"
      ],
      "name": "vscode"
     },
     {
      "aliases": [],
      "name": ".NET"
     },
     {
      "aliases": [
       "f#",
       "F#"
      ],
      "languageName": "F#",
      "name": "fsharp"
     },
     {
      "aliases": [],
      "languageName": "HTML",
      "name": "html"
     },
     {
      "aliases": [],
      "languageName": "KQL",
      "name": "kql"
     },
     {
      "aliases": [],
      "languageName": "Mermaid",
      "name": "mermaid"
     },
     {
      "aliases": [
       "powershell"
      ],
      "languageName": "PowerShell",
      "name": "pwsh"
     },
     {
      "aliases": [],
      "languageName": "SQL",
      "name": "sql"
     },
     {
      "aliases": [],
      "name": "value"
     }
    ]
   }
  }
 },
 "nbformat": 4,
 "nbformat_minor": 2
}
