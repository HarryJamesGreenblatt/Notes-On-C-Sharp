{
 "cells": [
  {
   "cell_type": "markdown",
   "metadata": {},
   "source": []
  },
  {
   "attachments": {},
   "cell_type": "markdown",
   "metadata": {
    "dotnet_interactive": {
     "language": "csharp"
    },
    "polyglot_notebook": {
     "kernelName": "csharp"
    }
   },
   "source": [
    "# 16. Linear Data Stuctures"
   ]
  },
  {
   "attachments": {},
   "cell_type": "markdown",
   "metadata": {
    "dotnet_interactive": {
     "language": "csharp"
    },
    "polyglot_notebook": {
     "kernelName": "csharp"
    }
   },
   "source": [
    "## Lists\n",
    "---"
   ]
  },
  {
   "attachments": {},
   "cell_type": "markdown",
   "metadata": {
    "dotnet_interactive": {
     "language": "csharp"
    },
    "polyglot_notebook": {
     "kernelName": "csharp"
    }
   },
   "source": [
    "### The \"List\" Abstract Data Structure "
   ]
  },
  {
   "attachments": {},
   "cell_type": "markdown",
   "metadata": {
    "dotnet_interactive": {
     "language": "csharp"
    },
    "polyglot_notebook": {
     "kernelName": "csharp"
    }
   },
   "source": [
    "#### What is an **Abstract Data Type** (**ADT**)"
   ]
  },
  {
   "attachments": {},
   "cell_type": "markdown",
   "metadata": {
    "dotnet_interactive": {
     "language": "csharp"
    },
    "polyglot_notebook": {
     "kernelName": "csharp"
    }
   },
   "source": [
    "In general, **abstract data types** (**ADT**) gives us a **definition** (**abstraction**) of the specific structure, i.e. **defines the allowed operations and properties**, without being interested in the specific implementation. This allows an **abstract data type** to have several different implementations and respectively different efficiency."
   ]
  },
  {
   "attachments": {},
   "cell_type": "markdown",
   "metadata": {
    "dotnet_interactive": {
     "language": "csharp"
    },
    "polyglot_notebook": {
     "kernelName": "csharp"
    }
   },
   "source": [
    "<br>"
   ]
  },
  {
   "attachments": {},
   "cell_type": "markdown",
   "metadata": {
    "dotnet_interactive": {
     "language": "csharp"
    },
    "polyglot_notebook": {
     "kernelName": "csharp"
    }
   },
   "source": [
    "#### Introducing the `System.Collections.IList` Interface"
   ]
  },
  {
   "attachments": {},
   "cell_type": "markdown",
   "metadata": {
    "dotnet_interactive": {
     "language": "csharp"
    },
    "polyglot_notebook": {
     "kernelName": "csharp"
    }
   },
   "source": [
    "Interfaces in C# construct a frame (contract) for their implementations – classes.    \n",
    "   \n",
    "This contract consists of **a set of methods and properties**, which\n",
    "each class must implement in order to implement the interface."
   ]
  },
  {
   "attachments": {},
   "cell_type": "markdown",
   "metadata": {
    "dotnet_interactive": {
     "language": "csharp"
    },
    "polyglot_notebook": {
     "kernelName": "csharp"
    }
   },
   "source": [
    "Each **ADT** defines some interface. Let’s consider the interface `System.Collections.IList`.     \n",
    "The **basic methods** which it defines are:"
   ]
  },
  {
   "attachments": {},
   "cell_type": "markdown",
   "metadata": {
    "dotnet_interactive": {
     "language": "csharp"
    },
    "polyglot_notebook": {
     "kernelName": "csharp"
    }
   },
   "source": [
    "- `int Add(object)` – adds element in the end of the list \n",
    "- `void Insert(int, object)` – adds element on a chosen position in the list\n",
    "- `void Clear()` – removes all elements in the list \n",
    "- `bool Contains(object)` – checks whether the list contains the element \n",
    "- `void Remove(object)` – removes the element from the list \n",
    "- `void RemoveAt(int)` – removes the element on a given position \n",
    "- `int IndexOf(object)` – returns the position of the element \n",
    "- `this[int]` – indexer, allows access to the elements on a set position"
   ]
  },
  {
   "attachments": {},
   "cell_type": "markdown",
   "metadata": {
    "dotnet_interactive": {
     "language": "csharp"
    },
    "polyglot_notebook": {
     "kernelName": "csharp"
    }
   },
   "source": [
    "<br>"
   ]
  },
  {
   "cell_type": "markdown",
   "metadata": {
    "dotnet_interactive": {
     "language": "csharp"
    },
    "polyglot_notebook": {
     "kernelName": "csharp"
    }
   },
   "source": [
    "<br>"
   ]
  },
  {
   "attachments": {},
   "cell_type": "markdown",
   "metadata": {
    "dotnet_interactive": {
     "language": "csharp"
    },
    "polyglot_notebook": {
     "kernelName": "csharp"
    }
   },
   "source": [
    "### Static Lists (An Array-Based Implementation)"
   ]
  },
  {
   "attachments": {},
   "cell_type": "markdown",
   "metadata": {
    "dotnet_interactive": {
     "language": "csharp"
    },
    "polyglot_notebook": {
     "kernelName": "csharp"
    }
   },
   "source": [
    "##### Lists v.s. Arrays"
   ]
  },
  {
   "attachments": {},
   "cell_type": "markdown",
   "metadata": {
    "dotnet_interactive": {
     "language": "csharp"
    },
    "polyglot_notebook": {
     "kernelName": "csharp"
    }
   },
   "source": [
    "Somewhat similarly to <a href=\"../07. Arrays/The Anatomy of an Array.ipynb\">Arrays</a>, we could imagine the **list** as an **ordered sequence (line) of elements**."
   ]
  },
  {
   "attachments": {},
   "cell_type": "markdown",
   "metadata": {
    "dotnet_interactive": {
     "language": "csharp"
    },
    "polyglot_notebook": {
     "kernelName": "csharp"
    }
   },
   "source": [
    "A List features a length property (count of elements), and though it's elements are arranged consecutively, their addresses in memory are, unlike Arrays, non-contiguous (they don't live right next to each other)."
   ]
  },
  {
   "attachments": {},
   "cell_type": "markdown",
   "metadata": {
    "dotnet_interactive": {
     "language": "csharp"
    },
    "polyglot_notebook": {
     "kernelName": "csharp"
    }
   },
   "source": [
    "Notwithsatnding, **Arrays perform many of the functions of the list ADT**, but there is an even more significant difference to consider – that Lists allow adding new elements, while **Arrays have fixed capacity**."
   ]
  },
  {
   "attachments": {},
   "cell_type": "markdown",
   "metadata": {
    "dotnet_interactive": {
     "language": "csharp"
    },
    "polyglot_notebook": {
     "kernelName": "csharp"
    }
   },
   "source": [
    "<br>"
   ]
  },
  {
   "attachments": {},
   "cell_type": "markdown",
   "metadata": {
    "dotnet_interactive": {
     "language": "csharp"
    },
    "polyglot_notebook": {
     "kernelName": "csharp"
    }
   },
   "source": [
    "##### The Resizable Array-based List"
   ]
  },
  {
   "attachments": {},
   "cell_type": "markdown",
   "metadata": {
    "dotnet_interactive": {
     "language": "csharp"
    },
    "polyglot_notebook": {
     "kernelName": "csharp"
    }
   },
   "source": [
    "Even so, there exists implementation techniques for an Array what make it possible to **automatically resize it's capacity** (in a similar fashion to the [StringBuilder](../13.%20Strings%20and%20Text%20Processing/Building%20Strings.ipynb) class).   \n",
    "\n",
    "Such a list may be reffered to as a **Static List implemented with an extensible Array**."
   ]
  },
  {
   "attachments": {},
   "cell_type": "markdown",
   "metadata": {
    "dotnet_interactive": {
     "language": "csharp"
    },
    "polyglot_notebook": {
     "kernelName": "csharp"
    }
   },
   "source": [
    "Using [Generics](../14.%20Defining%20Classes/Generics.ipynb), we may define such an Array-based structure able to hold any type of data, as demonstrated below:"
   ]
  },
  {
   "cell_type": "code",
   "execution_count": 1,
   "metadata": {
    "dotnet_interactive": {
     "language": "csharp"
    },
    "polyglot_notebook": {
     "kernelName": "csharp"
    },
    "vscode": {
     "languageId": "polyglot-notebook"
    }
   },
   "outputs": [],
   "source": [
    "public class ResizableArray<T>\n",
    "{\n",
    "\n",
    "    // Field Definitions --------------------------------------------------\n",
    "    private T[] array;\n",
    "    private int occupiedElements;\n",
    "    private const int DEFAULT_CAPACITY = 4;\n",
    "    //---------------------------------------------------------------------\n",
    "\n",
    "\n",
    "    // Property Definitions -----------------------------------------------\n",
    "    public int OccupiedElements\n",
    "    {\n",
    "        // Read Only\n",
    "        get\n",
    "        {\n",
    "            return this.occupiedElements;\n",
    "        }\n",
    "    }\n",
    "    //---------------------------------------------------------------------\n",
    "\n",
    "\n",
    "    // Constructor --------------------------------------------------------\n",
    "    public ResizableArray( int capacity = DEFAULT_CAPACITY )\n",
    "    {\n",
    "        this.array = new T[ capacity ];\n",
    "        this.occupiedElements = 0;\n",
    "    }\n",
    "    //---------------------------------------------------------------------\n",
    "\n",
    "\n",
    "    // Methods ------------------------------------------------------------\n",
    "    // Double the size of the array, should it be determined to be full\n",
    "    public void ResizeIfArrayIsFull()\n",
    "    {\n",
    "\n",
    "        // IF the count of occupied elements, \n",
    "        // once adusted for zero indexing, \n",
    "        // and then subsequently incremented,\n",
    "        // is found exceed the capacity of the array:\n",
    "        if( this.OccupiedElements + 1 > this.array.Length )\n",
    "        {\n",
    "\n",
    "            // Declare a new array with twice the capacity\n",
    "            T[] resizedArray = new T[ this.array.Length * 2 ];\n",
    "\n",
    "\n",
    "            // Copy the occupied Array elements into the resized array\n",
    "            Array.Copy(this.array, resizedArray, this.OccupiedElements); \n",
    "\n",
    "\n",
    "            // Point the Copy's object reference back to the orginal Array\n",
    "            this.array = resizedArray;\n",
    "\n",
    "        }\n",
    "\n",
    "    }\n",
    "    //---------------------------------------------------------------------\n",
    "    // Append a new element to the end of the array\n",
    "    public void Append( T elementToAppend )\n",
    "    {\n",
    "\n",
    "        // Double the size of the array, should it be determined to be full\n",
    "        ResizeIfArrayIsFull();\n",
    "\n",
    "\n",
    "        // Assign the given argument as the last element of the array,\n",
    "        // taking care to simultaneously increment \n",
    "        // the count of occupied elements\n",
    "        this.array[ this.occupiedElements++ ] = elementToAppend;\n",
    "\n",
    "    }\n",
    "    //---------------------------------------------------------------------\n",
    "    // Insert a new element in the array at the specified index\n",
    "    public void Insert( int indexToInsert, T elementToInsert )\n",
    "    {\n",
    "\n",
    "        // Try to insert the given element using the specified index,\n",
    "        // proceeding cautiously in the event that the given index\n",
    "        // could possibly be out of the boundaries contained by the Array\n",
    "        try\n",
    "        {\n",
    "\n",
    "            // Double the size of the array, \n",
    "            // should it be determined to be full\n",
    "            ResizeIfArrayIsFull();\n",
    "\n",
    "\n",
    "            // Shift the each of the elements after the specified index\n",
    "            // one position to the right in order to accomodate the space\n",
    "            // needed to insert the specified element\n",
    "            Array.Copy(\n",
    "                this.array, indexToInsert,\n",
    "                this.array, indexToInsert + 1,\n",
    "                this.occupiedElements - indexToInsert\n",
    "            );\n",
    "\n",
    "\n",
    "            // Clobber the element currently at the specified index\n",
    "            // with the specified element\n",
    "            this.array[ indexToInsert ] = elementToInsert;\n",
    "\n",
    "\n",
    "            // Increment the the count of occupied elements\n",
    "            this.occupiedElements++; \n",
    "\n",
    "        }\n",
    "\n",
    "\n",
    "        // Should there be an error, \n",
    "        // it's sure to be that the specified index is out of range\n",
    "        // so provide an appropriate exception which generates a \n",
    "        // message to the user\n",
    "        catch ( IndexOutOfRangeException ioor )\n",
    "        {\n",
    "            Console.WriteLine(\n",
    "                $\"Index: {indexToInsert} is invalid\\n\\n\"\n",
    "                +\n",
    "                $\"Stack Trace: {ioor.StackTrace}\"\n",
    "            );\n",
    "        }\n",
    "\n",
    "    }\n",
    "    //---------------------------------------------------------------------\n",
    "\n",
    "\n",
    "\n",
    "}"
   ]
  },
  {
   "attachments": {},
   "cell_type": "markdown",
   "metadata": {
    "dotnet_interactive": {
     "language": "csharp"
    },
    "polyglot_notebook": {
     "kernelName": "csharp"
    }
   },
   "source": [
    "<table style=\"margin-left: auto; margin-right: auto;\">\n",
    "    <tbody>\n",
    "        <tr>\n",
    "            <td>1</td>\n",
    "            <td>2</td>\n",
    "            <td>3</td>\n",
    "            <td style=\"background: blue; color: white;\">4</td>\n",
    "            <td style=\"background: red; color: white;\">5</td>\n",
    "            <td>6</td>\n",
    "            <td>7</td>\n",
    "        </tr>\n",
    "        <tr>\n",
    "            <td style=\"border: none;\">0</td>\n",
    "            <td style=\"border: none;\">1</td>\n",
    "            <td style=\"border: none;\">2</td>\n",
    "            <td style=\"font-weight: bold; border: none;\">3</td>\n",
    "            <td style=\"font-weight: bold; border: none\">4</td>\n",
    "            <td style=\"border: none\">5</td>\n",
    "            <td style=\"border: none\">6</td>\n",
    "        </tr>\n",
    "    </tbody>\n",
    "</table>"
   ]
  },
  {
   "attachments": {},
   "cell_type": "markdown",
   "metadata": {
    "dotnet_interactive": {
     "language": "csharp"
    },
    "polyglot_notebook": {
     "kernelName": "csharp"
    }
   },
   "source": [
    "$$\\Huge{\\downarrow}$$"
   ]
  },
  {
   "attachments": {},
   "cell_type": "markdown",
   "metadata": {
    "dotnet_interactive": {
     "language": "csharp"
    },
    "polyglot_notebook": {
     "kernelName": "csharp"
    }
   },
   "source": [
    "<table style=\"margin-left: auto; margin-right: auto;\">\n",
    "    <tbody>\n",
    "        <tr>\n",
    "            <td>1</td>\n",
    "            <td>2</td>\n",
    "            <td>3</td>\n",
    "            <td style=\"background: blue; color: white;\">4</td>\n",
    "            <td style=\"background: red; color: white;\">4</td>\n",
    "            <td style=\"background: red; color: white;\">5</td>\n",
    "            <td style=\"background: red; color: white;\">6</td>\n",
    "            <td style=\"background: red; color: white;\">7</td>\n",
    "            <td>0</td>\n",
    "            <td>0</td>\n",
    "            <td>0</td>\n",
    "            <td>0</td>\n",
    "            <td>0</td>\n",
    "            <td>0</td>\n",
    "        </tr>\n",
    "        <tr>\n",
    "            <td style=\"border: none;\">0</td>\n",
    "            <td style=\"border: none;\">1</td>\n",
    "            <td style=\"border: none;\">2</td>\n",
    "            <td style=\"font-weight: bold; border: none;\">3</td>\n",
    "            <td style=\"font-weight: bold; border: none\">4</td>\n",
    "            <td style=\"font-weight: bold; border: none\">5</td>\n",
    "            <td style=\"font-weight: bold; border: none\">6</td>\n",
    "            <td style=\"font-weight: bold; border: none\">7</td>\n",
    "            <td style=\"border: none\">8</td>\n",
    "            <td style=\"border: none\">9</td>\n",
    "            <td style=\"border: none\">10</td>\n",
    "            <td style=\"border: none\">11</td>\n",
    "            <td style=\"border: none\">12</td>\n",
    "            <td style=\"border: none\">13</td>\n",
    "        </tr>\n",
    "    </tbody>\n",
    "</table>"
   ]
  },
  {
   "cell_type": "markdown",
   "metadata": {
    "dotnet_interactive": {
     "language": "csharp"
    },
    "polyglot_notebook": {
     "kernelName": "csharp"
    }
   },
   "source": [
    "$$\\Huge{\\downarrow}$$"
   ]
  },
  {
   "attachments": {},
   "cell_type": "markdown",
   "metadata": {
    "dotnet_interactive": {
     "language": "csharp"
    },
    "polyglot_notebook": {
     "kernelName": "csharp"
    }
   },
   "source": [
    "<table style=\"margin-left: auto; margin-right: auto;\">\n",
    "    <tbody>\n",
    "        <tr>\n",
    "            <td>1</td>\n",
    "            <td>2</td>\n",
    "            <td>3</td>\n",
    "            <td style=\"background: green; color: white;\">&infin;</td>\n",
    "            <td style=\"background: red; color: white;\">4</td>\n",
    "            <td style=\"background: red; color: white;\">5</td>\n",
    "            <td style=\"background: red; color: white;\">6</td>\n",
    "            <td style=\"background: red; color: white;\">7</td>\n",
    "            <td>0</td>\n",
    "            <td>0</td>\n",
    "            <td>0</td>\n",
    "            <td>0</td>\n",
    "            <td>0</td>\n",
    "            <td>0</td>\n",
    "        </tr>\n",
    "        <tr>\n",
    "            <td style=\"border: none;\">0</td>\n",
    "            <td style=\"border: none;\">1</td>\n",
    "            <td style=\"border: none;\">2</td>\n",
    "            <td style=\"font-weight: bold; border: none; color: green\">3</td>\n",
    "            <td style=\"font-weight: bold; border: none;\">4</td>\n",
    "            <td style=\"font-weight: bold; border: none\">5</td>\n",
    "            <td style=\"font-weight: bold; border: none\">6</td>\n",
    "            <td style=\"font-weight: bold; border: none\">7</td>\n",
    "            <td style=\"border: none\">8</td>\n",
    "            <td style=\"border: none\">9</td>\n",
    "            <td style=\"border: none\">10</td>\n",
    "            <td style=\"border: none\">11</td>\n",
    "            <td style=\"border: none\">12</td>\n",
    "            <td style=\"border: none\">13</td>\n",
    "        </tr>\n",
    "    </tbody>\n",
    "</table>"
   ]
  }
 ],
 "metadata": {
  "kernelspec": {
   "display_name": ".NET (C#)",
   "language": "C#",
   "name": ".net-csharp"
  },
  "polyglot_notebook": {
   "kernelInfo": {
    "defaultKernelName": "csharp",
    "items": [
     {
      "aliases": [],
      "name": "csharp"
     }
    ]
   }
  }
 },
 "nbformat": 4,
 "nbformat_minor": 2
}
