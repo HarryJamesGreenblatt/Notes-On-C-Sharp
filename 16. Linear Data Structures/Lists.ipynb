{
 "cells": [
  {
   "cell_type": "markdown",
   "metadata": {},
   "source": []
  },
  {
   "attachments": {},
   "cell_type": "markdown",
   "metadata": {
    "dotnet_interactive": {
     "language": "csharp"
    },
    "polyglot_notebook": {
     "kernelName": "csharp"
    }
   },
   "source": [
    "# 16. Linear Data Stuctures"
   ]
  },
  {
   "attachments": {},
   "cell_type": "markdown",
   "metadata": {
    "dotnet_interactive": {
     "language": "csharp"
    },
    "polyglot_notebook": {
     "kernelName": "csharp"
    }
   },
   "source": [
    "## Lists\n",
    "---"
   ]
  },
  {
   "attachments": {},
   "cell_type": "markdown",
   "metadata": {
    "dotnet_interactive": {
     "language": "csharp"
    },
    "polyglot_notebook": {
     "kernelName": "csharp"
    }
   },
   "source": [
    "### The \"List\" Abstract Data Structure "
   ]
  },
  {
   "attachments": {},
   "cell_type": "markdown",
   "metadata": {
    "dotnet_interactive": {
     "language": "csharp"
    },
    "polyglot_notebook": {
     "kernelName": "csharp"
    }
   },
   "source": [
    "#### What is an **Abstract Data Type** (**ADT**)"
   ]
  },
  {
   "attachments": {},
   "cell_type": "markdown",
   "metadata": {
    "dotnet_interactive": {
     "language": "csharp"
    },
    "polyglot_notebook": {
     "kernelName": "csharp"
    }
   },
   "source": [
    "In general, **abstract data types** (**ADT**) gives us a **definition** (**abstraction**) of the specific structure, i.e. **defines the allowed operations and properties**, without being interested in the specific implementation. This allows an **abstract data type** to have several different implementations and respectively different efficiency."
   ]
  },
  {
   "attachments": {},
   "cell_type": "markdown",
   "metadata": {
    "dotnet_interactive": {
     "language": "csharp"
    },
    "polyglot_notebook": {
     "kernelName": "csharp"
    }
   },
   "source": [
    "<br>"
   ]
  },
  {
   "attachments": {},
   "cell_type": "markdown",
   "metadata": {
    "dotnet_interactive": {
     "language": "csharp"
    },
    "polyglot_notebook": {
     "kernelName": "csharp"
    }
   },
   "source": [
    "#### Introducing the `System.Collections.IList` Interface"
   ]
  },
  {
   "attachments": {},
   "cell_type": "markdown",
   "metadata": {
    "dotnet_interactive": {
     "language": "csharp"
    },
    "polyglot_notebook": {
     "kernelName": "csharp"
    }
   },
   "source": [
    "Interfaces in C# construct a frame (contract) for their implementations – classes.    \n",
    "   \n",
    "This contract consists of **a set of methods and properties**, which\n",
    "each class must implement in order to implement the interface."
   ]
  },
  {
   "attachments": {},
   "cell_type": "markdown",
   "metadata": {
    "dotnet_interactive": {
     "language": "csharp"
    },
    "polyglot_notebook": {
     "kernelName": "csharp"
    }
   },
   "source": [
    "Each **ADT** defines some interface. Let’s consider the interface `System.Collections.IList`.     \n",
    "The **basic methods** which it defines are:"
   ]
  },
  {
   "attachments": {},
   "cell_type": "markdown",
   "metadata": {
    "dotnet_interactive": {
     "language": "csharp"
    },
    "polyglot_notebook": {
     "kernelName": "csharp"
    }
   },
   "source": [
    "- `int Add(object)` – adds element in the end of the list \n",
    "- `void Insert(int, object)` – adds element on a chosen position in the list\n",
    "- `void Clear()` – removes all elements in the list \n",
    "- `bool Contains(object)` – checks whether the list contains the element \n",
    "- `void Remove(object)` – removes the element from the list \n",
    "- `void RemoveAt(int)` – removes the element on a given position \n",
    "- `int IndexOf(object)` – returns the position of the element \n",
    "- `this[int]` – indexer, allows access to the elements on a set position"
   ]
  },
  {
   "attachments": {},
   "cell_type": "markdown",
   "metadata": {
    "dotnet_interactive": {
     "language": "csharp"
    },
    "polyglot_notebook": {
     "kernelName": "csharp"
    }
   },
   "source": [
    "<br>"
   ]
  },
  {
   "cell_type": "markdown",
   "metadata": {
    "dotnet_interactive": {
     "language": "csharp"
    },
    "polyglot_notebook": {
     "kernelName": "csharp"
    }
   },
   "source": [
    "<br>"
   ]
  },
  {
   "attachments": {},
   "cell_type": "markdown",
   "metadata": {
    "dotnet_interactive": {
     "language": "csharp"
    },
    "polyglot_notebook": {
     "kernelName": "csharp"
    }
   },
   "source": [
    "### Static Lists (An Array-Based Implementation)"
   ]
  },
  {
   "attachments": {},
   "cell_type": "markdown",
   "metadata": {
    "dotnet_interactive": {
     "language": "csharp"
    },
    "polyglot_notebook": {
     "kernelName": "csharp"
    }
   },
   "source": [
    "##### Lists v.s. Arrays"
   ]
  },
  {
   "attachments": {},
   "cell_type": "markdown",
   "metadata": {
    "dotnet_interactive": {
     "language": "csharp"
    },
    "polyglot_notebook": {
     "kernelName": "csharp"
    }
   },
   "source": [
    "Somewhat similarly to <a href=\"../07. Arrays/The Anatomy of an Array.ipynb\">Arrays</a>, we could imagine the **list** as an **ordered sequence (line) of elements**."
   ]
  },
  {
   "attachments": {},
   "cell_type": "markdown",
   "metadata": {
    "dotnet_interactive": {
     "language": "csharp"
    },
    "polyglot_notebook": {
     "kernelName": "csharp"
    }
   },
   "source": [
    "A List features a length property (count of elements), and though it's elements are arranged consecutively, their addresses in memory are, unlike Arrays, non-contiguous (they don't live right next to each other)."
   ]
  },
  {
   "attachments": {},
   "cell_type": "markdown",
   "metadata": {
    "dotnet_interactive": {
     "language": "csharp"
    },
    "polyglot_notebook": {
     "kernelName": "csharp"
    }
   },
   "source": [
    "Notwithsatnding, **Arrays perform many of the functions of the list ADT**, but there is an even more significant difference to consider – that Lists allow adding new elements, while **Arrays have fixed capacity**."
   ]
  },
  {
   "attachments": {},
   "cell_type": "markdown",
   "metadata": {
    "dotnet_interactive": {
     "language": "csharp"
    },
    "polyglot_notebook": {
     "kernelName": "csharp"
    }
   },
   "source": [
    "<br>"
   ]
  },
  {
   "attachments": {},
   "cell_type": "markdown",
   "metadata": {
    "dotnet_interactive": {
     "language": "csharp"
    },
    "polyglot_notebook": {
     "kernelName": "csharp"
    }
   },
   "source": [
    "##### The Resizable Array-based List"
   ]
  },
  {
   "attachments": {},
   "cell_type": "markdown",
   "metadata": {
    "dotnet_interactive": {
     "language": "csharp"
    },
    "polyglot_notebook": {
     "kernelName": "csharp"
    }
   },
   "source": [
    "Even so, there exists implementation techniques for an Array what make it possible to **automatically resize it's capacity** (in a similar fashion to the [StringBuilder](../13.%20Strings%20and%20Text%20Processing/Building%20Strings.ipynb) class).   \n",
    "\n",
    "Such a list may be reffered to as a **Static List implemented with an extensible Array**."
   ]
  },
  {
   "attachments": {},
   "cell_type": "markdown",
   "metadata": {
    "dotnet_interactive": {
     "language": "csharp"
    },
    "polyglot_notebook": {
     "kernelName": "csharp"
    }
   },
   "source": [
    "Using [Generics](../14.%20Defining%20Classes/Generics.ipynb), we may define such an Array-based structure able to hold any type of data, as defined below:"
   ]
  },
  {
   "cell_type": "code",
   "execution_count": 1,
   "metadata": {
    "dotnet_interactive": {
     "language": "csharp"
    },
    "polyglot_notebook": {
     "kernelName": "csharp"
    },
    "vscode": {
     "languageId": "polyglot-notebook"
    }
   },
   "outputs": [],
   "source": [
    "public class ResizableArray<T>\n",
    "{\n",
    "\n",
    "    // FIELD DEFINITIONS --------------------------------------------------\n",
    "    private T[]       array;\n",
    "    private int       occupiedElements;\n",
    "    private const int DEFAULT_CAPACITY = 4;\n",
    "    //---------------------------------------------------------------------\n",
    "\n",
    "\n",
    "    // PROPERTY DEFINITIONS -----------------------------------------------\n",
    "    public int OccupiedElements\n",
    "    {\n",
    "        // Read Only\n",
    "        get { return this.occupiedElements; }\n",
    "    }\n",
    "    //---------------------------------------------------------------------\n",
    "    public T[] ArrayState\n",
    "    {\n",
    "        // Read Only\n",
    "        get { return this.array; }\n",
    "    }\n",
    "    //---------------------------------------------------------------------\n",
    "    //------------------------- I N D E X E R -----------------------------\n",
    "    public T this[ int index ]\n",
    "    {\n",
    "\n",
    "        get\n",
    "        {\n",
    "\n",
    "            // Try to assign the given value at the specified index,\n",
    "            // proceeding cautiously in the event that the given index\n",
    "            // could possibly be out of the boundaries of the Array\n",
    "            try\n",
    "            {\n",
    "                return this.array[ index ];\n",
    "            }\n",
    "\n",
    "\n",
    "            // Should there be an error, \n",
    "            // it's sure to be that the specified index is out of range.\n",
    "            // so provide an appropriate exception which generates a \n",
    "            // message to the user, \n",
    "            // and return the given type's default equivalent to null\n",
    "            // in order to indicate that the operation has failed\n",
    "            catch ( IndexOutOfRangeException ioor )\n",
    "            {\n",
    "                Console.WriteLine(\n",
    "                    $\"Index: {index} is invalid\\n\\n\"\n",
    "                    +\n",
    "                    $\"Stack Trace: {ioor.StackTrace}\"\n",
    "                );\n",
    "\n",
    "                return default(T);\n",
    "            }\n",
    "\n",
    "        }\n",
    " \n",
    "\n",
    "        set\n",
    "        {\n",
    "\n",
    "            // Try to assign the given value at the specified index,\n",
    "            // proceeding cautiously in the event that the given index\n",
    "            // could possibly be out of the boundaries of the Array\n",
    "            try\n",
    "            {\n",
    "                this.array[ index ] = value;\n",
    "            }\n",
    "\n",
    "\n",
    "            // Should there be an error, \n",
    "            // it's sure to be that the specified index is out of range.\n",
    "            // so provide an appropriate exception which generates a \n",
    "            // message to the user\n",
    "            catch ( IndexOutOfRangeException ioor )\n",
    "            {\n",
    "                Console.WriteLine(\n",
    "                    $\"Index: {index} is invalid\\n\\n\"\n",
    "                    +\n",
    "                    $\"Stack Trace: {ioor.StackTrace}\"\n",
    "                );\n",
    "            }\n",
    "\n",
    "        }\n",
    "    }\n",
    "    //---------------------------------------------------------------------\n",
    "\n",
    "\n",
    "    // CONSTRUCTOR --------------------------------------------------------\n",
    "    public ResizableArray( int capacity = DEFAULT_CAPACITY )\n",
    "    {\n",
    "        this.array = new T[ capacity ];\n",
    "        this.occupiedElements = 0;\n",
    "    }\n",
    "    //---------------------------------------------------------------------\n",
    "\n",
    "\n",
    "    // METHODS ------------------------------------------------------------\n",
    "    //---------------------- I N S E R T I O N ----------------------------\n",
    "    // Double the size of the array, should it be determined to be full\n",
    "    public void ResizeIfArrayIsFull()\n",
    "    {\n",
    "\n",
    "        // IF the count of occupied elements, \n",
    "        // once adusted for zero indexing, \n",
    "        // and then subsequently incremented,\n",
    "        // is found exceed the capacity of the array:\n",
    "        if( this.OccupiedElements + 1 > this.array.Length )\n",
    "        {\n",
    "\n",
    "            // Declare a new array with twice the capacity\n",
    "            T[] resizedArray = new T[ this.array.Length * 2 ];\n",
    "\n",
    "\n",
    "            // Copy the occupied Array elements into the resized array\n",
    "            Array.Copy(this.array, resizedArray, this.OccupiedElements); \n",
    "\n",
    "\n",
    "            // Point the Copy's object reference back to the orginal Array\n",
    "            this.array = resizedArray;\n",
    "\n",
    "        }\n",
    "\n",
    "    }\n",
    "    //---------------------------------------------------------------------\n",
    "    // Append a new element to the end of the array\n",
    "    public void Add( T elementToAdd )\n",
    "    {\n",
    "\n",
    "        // Double the size of the array, should it be determined to be full\n",
    "        ResizeIfArrayIsFull();\n",
    "\n",
    "\n",
    "        // Assign the given argument as the last element of the array,\n",
    "        // taking care to simultaneously increment \n",
    "        // the count of occupied elements\n",
    "        this.array[ this.occupiedElements++ ] = elementToAdd;\n",
    "\n",
    "    }\n",
    "    //---------------------------------------------------------------------\n",
    "    // Insert a new element in the array at the specified index\n",
    "    public void Insert( int indexToInsertAt, T elementToInsert )\n",
    "    {\n",
    "\n",
    "        // Try to insert the given element using the specified index,\n",
    "        // proceeding cautiously in the event that the given index\n",
    "        // could possibly be out of the boundaries contained by the Array\n",
    "        try\n",
    "        {\n",
    "\n",
    "            // Double the size of the array, \n",
    "            // should it be determined to be full\n",
    "            ResizeIfArrayIsFull();\n",
    "\n",
    "\n",
    "            // Shift the each of the elements after the specified index\n",
    "            // one position to the right in order to accomodate the space\n",
    "            // needed to insert the specified element\n",
    "            Array.Copy(\n",
    "                this.array, indexToInsertAt,\n",
    "                this.array, indexToInsertAt + 1,\n",
    "                this.occupiedElements - indexToInsertAt\n",
    "            );\n",
    "\n",
    "\n",
    "            // Clobber the element currently at the specified index\n",
    "            // with the specified element\n",
    "            this.array[ indexToInsertAt ] = elementToInsert;\n",
    "\n",
    "\n",
    "            // Increment the the count of occupied elements\n",
    "            this.occupiedElements++; \n",
    "\n",
    "        }\n",
    "\n",
    "\n",
    "        // Should there be an error, \n",
    "        // it's sure to be that the specified index is out of range.\n",
    "        // so provide an appropriate exception which generates a \n",
    "        // message to the user\n",
    "        catch ( IndexOutOfRangeException ioor )\n",
    "        {\n",
    "            Console.WriteLine(\n",
    "                $\"Index: {indexToInsertAt} is invalid\\n\\n\"\n",
    "                +\n",
    "                $\"Stack Trace: {ioor.StackTrace}\"\n",
    "            );\n",
    "        }\n",
    "\n",
    "    }\n",
    "    //---------------------------------------------------------------------\n",
    "    //------------------------ S E A R C H --------------------------------\n",
    "    // Return the Index of the first occurence of the specified element,\n",
    "    // or -1, should no such element be found to exist.\n",
    "    public int IndexOf( T element )\n",
    "    {\n",
    "\n",
    "        // Iterating For every occupied element index within the array\n",
    "        for( int index = 0; index < this.occupiedElements + 1; index++)\n",
    "        {\n",
    "\n",
    "            // IF the specified element is determined to\n",
    "            // point to the same object reference in the heap\n",
    "            // as does the element discovered at the current index: \n",
    "            if( object.Equals( element, this.array[ index ] ) )\n",
    "            {\n",
    "\n",
    "                // We have a match,\n",
    "                // return the index corresponding\n",
    "                // to the first match occurence\n",
    "                return index;\n",
    "\n",
    "            }\n",
    "\n",
    "        }\n",
    "\n",
    "\n",
    "        // After all that,\n",
    "        // if we haven't already returned anything,\n",
    "        // we can safely presume that no such element \n",
    "        // could be found in the array,\n",
    "        // so return -1 to indicate as such\n",
    "        return -1;\n",
    "\n",
    "    }\n",
    "    //---------------------------------------------------------------------\n",
    "    // Return a True or False value indicating whether a specified\n",
    "    // element can be determined to exist in the array\n",
    "    public bool Contains( T element )\n",
    "    {\n",
    "\n",
    "        // Search for the Index belonging to the first occurence \n",
    "        // of the specified element and return it if found,\n",
    "        // or else return -1, should no such element be found to exist.\n",
    "        // Then, return a True or False value corresponsive to that result\n",
    "        return ( IndexOf( element ) != 1 );\n",
    " \n",
    "    }\n",
    "    //---------------------------------------------------------------------\n",
    "    //------------------------- D E L E T I O N ---------------------------\n",
    "    // Remove and return the element at the specified index\n",
    "    public T RemoveAt( int indexToRemoveAt )\n",
    "    {\n",
    "\n",
    "        // Try to insert the given element using the specified index,\n",
    "        // proceeding cautiously in the event that the given index\n",
    "        // could possibly be out of the boundaries contained by the Array\n",
    "        try\n",
    "        {\n",
    "\n",
    "            // Retrieve the element to remove from the specified index\n",
    "            T elementToRemove = this.array[ indexToRemoveAt ];\n",
    "\n",
    "\n",
    "            // Shift the each of the elements before the specified index\n",
    "            // one position to the left in order to account for the gap \n",
    "            // left by the element that will be deleted\n",
    "            Array.Copy(\n",
    "                this.array, indexToRemoveAt + 1,\n",
    "                this.array, indexToRemoveAt,\n",
    "                this.occupiedElements - indexToRemoveAt - 1\n",
    "            );\n",
    "\n",
    "\n",
    "            // Assign the given type's default equivalent of a null value \n",
    "            // to the last array element,\n",
    "            // which now holds a duplicate value following the left shift,\n",
    "            // in order to account for the element's deletion,\n",
    "            // while simultaneously taking care to decrement the \n",
    "            // count of occupied elements accordingly \n",
    "            this.array[ (this.occupiedElements--) - 1 ] = default(T);\n",
    "\n",
    "\n",
    "            // return the deleted element\n",
    "            return elementToRemove;\n",
    "\n",
    "        }\n",
    "\n",
    "\n",
    "        // Should there be an error, \n",
    "        // it's sure to be that the specified index is out of range.\n",
    "        // so provide an appropriate exception which generates a \n",
    "        // message to the user, \n",
    "        // and return the given type's default equivalent to null\n",
    "        // in order to indicate that the operation has failed\n",
    "        catch ( IndexOutOfRangeException ioor )\n",
    "        {\n",
    "            Console.WriteLine(\n",
    "\n",
    "                (indexToRemoveAt == -1) ?\n",
    "                    $\"The element that you specified could not be found\\n\\n\"\n",
    "                    +\n",
    "                    $\"Stack Trace: {ioor.StackTrace}\" \n",
    "                    :\n",
    "                    $\"Index: {indexToRemoveAt} is invalid\\n\\n\"\n",
    "                    +\n",
    "                    $\"Stack Trace: {ioor.StackTrace}\"\n",
    "                    \n",
    "            );\n",
    "\n",
    "            return default(T);\n",
    "        }      \n",
    "    } \n",
    "    //---------------------------------------------------------------------\n",
    "    // Delete the specified element, \n",
    "    // and return the index at which is was found and deleted,\n",
    "    // or else return a -1 if no such element could be found  \n",
    "    public int Remove( T element )\n",
    "    {\n",
    "\n",
    "        // Observe the matching index at which the specified element\n",
    "        // was found, provided any such element could be found to exist,\n",
    "        // otherwise, assign a value of -1 to indicate as such\n",
    "        int deletedIndex = IndexOf( element );   \n",
    "\n",
    "\n",
    "        // If the specified element to be deleted\n",
    "        // can be found in the array:\n",
    "        if ( Contains( element ) )\n",
    "        {\n",
    "\n",
    "            // delete the element specified at the index to delete\n",
    "            RemoveAt( deletedIndex );\n",
    "\n",
    "        }\n",
    "\n",
    "\n",
    "        // return the matching index,\n",
    "        // or else a -1 to indicate no match could be found\n",
    "        return deletedIndex; \n",
    " \n",
    "    }\n",
    "    //---------------------------------------------------------------------\n",
    "    // Clear (delete) ALL of the array's elements \n",
    "    // and then reset it back to it's default capacity \n",
    "    public void Clear()\n",
    "    {\n",
    "\n",
    "        // Point the array's object reference \n",
    "        // to a newly allocated array sized to a default capacity\n",
    "        this.array = new T[ DEFAULT_CAPACITY ];\n",
    "\n",
    "\n",
    "        // Reset the count of occupied elements back to 0\n",
    "        this.occupiedElements = 0;\n",
    "\n",
    "    }\n",
    "    //---------------------------------------------------------------------\n",
    "\n",
    "}"
   ]
  },
  {
   "attachments": {},
   "cell_type": "markdown",
   "metadata": {
    "dotnet_interactive": {
     "language": "csharp"
    },
    "polyglot_notebook": {
     "kernelName": "csharp"
    }
   },
   "source": [
    "<br>"
   ]
  },
  {
   "attachments": {},
   "cell_type": "markdown",
   "metadata": {
    "dotnet_interactive": {
     "language": "csharp"
    },
    "polyglot_notebook": {
     "kernelName": "csharp"
    }
   },
   "source": [
    "So let's now demonstrate some of the `ResizableArray` features that we have defined above.  \n",
    "\n",
    "First we instantiate a new `ResizableArray` object, which will consist of `int` types for this implementation:"
   ]
  },
  {
   "cell_type": "code",
   "execution_count": 2,
   "metadata": {
    "dotnet_interactive": {
     "language": "csharp"
    },
    "polyglot_notebook": {
     "kernelName": "csharp"
    },
    "vscode": {
     "languageId": "polyglot-notebook"
    }
   },
   "outputs": [],
   "source": [
    "ResizableArray<int> resizableIntArray = new ResizableArray<int>();  "
   ]
  },
  {
   "cell_type": "code",
   "execution_count": 3,
   "metadata": {
    "dotnet_interactive": {
     "language": "csharp"
    },
    "polyglot_notebook": {
     "kernelName": "csharp"
    },
    "vscode": {
     "languageId": "polyglot-notebook"
    }
   },
   "outputs": [
    {
     "data": {
      "text/html": [
       "<table><thead><tr><th>OccupiedElements</th><th>ArrayState</th></tr></thead><tbody><tr><td><div class=\"dni-plaintext\"><pre>0</pre></div></td><td><div class=\"dni-plaintext\"><pre>[ 0, 0, 0, 0 ]</pre></div></td></tr></tbody></table><style>\r\n",
       ".dni-code-hint {\r\n",
       "    font-style: italic;\r\n",
       "    overflow: hidden;\r\n",
       "    white-space: nowrap;\r\n",
       "}\r\n",
       ".dni-treeview {\r\n",
       "    white-space: nowrap;\r\n",
       "}\r\n",
       ".dni-treeview td {\r\n",
       "    vertical-align: top;\r\n",
       "    text-align: start;\r\n",
       "}\r\n",
       "details.dni-treeview {\r\n",
       "    padding-left: 1em;\r\n",
       "}\r\n",
       "table td {\r\n",
       "    text-align: start;\r\n",
       "}\r\n",
       "table tr { \r\n",
       "    vertical-align: top; \r\n",
       "    margin: 0em 0px;\r\n",
       "}\r\n",
       "table tr td pre \r\n",
       "{ \r\n",
       "    vertical-align: top !important; \r\n",
       "    margin: 0em 0px !important;\r\n",
       "} \r\n",
       "table th {\r\n",
       "    text-align: start;\r\n",
       "}\r\n",
       "</style>"
      ]
     },
     "metadata": {},
     "output_type": "display_data"
    }
   ],
   "source": [
    "resizableIntArray"
   ]
  },
  {
   "attachments": {},
   "cell_type": "markdown",
   "metadata": {
    "dotnet_interactive": {
     "language": "csharp"
    },
    "polyglot_notebook": {
     "kernelName": "csharp"
    }
   },
   "source": [
    "<br>"
   ]
  },
  {
   "attachments": {},
   "cell_type": "markdown",
   "metadata": {
    "dotnet_interactive": {
     "language": "csharp"
    },
    "polyglot_notebook": {
     "kernelName": "csharp"
    }
   },
   "source": [
    "let's now populate our `resizableIntArray` instance with consecutive integers ranging from $1$ to $7$:"
   ]
  },
  {
   "cell_type": "code",
   "execution_count": 4,
   "metadata": {
    "dotnet_interactive": {
     "language": "csharp"
    },
    "polyglot_notebook": {
     "kernelName": "csharp"
    },
    "vscode": {
     "languageId": "polyglot-notebook"
    }
   },
   "outputs": [],
   "source": [
    "for( int consecutiveInteger = 1; consecutiveInteger <= 7; consecutiveInteger++ )\n",
    "{\n",
    "    resizableIntArray.Add( consecutiveInteger );\n",
    "}"
   ]
  },
  {
   "cell_type": "code",
   "execution_count": 5,
   "metadata": {
    "dotnet_interactive": {
     "language": "csharp"
    },
    "polyglot_notebook": {
     "kernelName": "csharp"
    },
    "vscode": {
     "languageId": "polyglot-notebook"
    }
   },
   "outputs": [
    {
     "data": {
      "text/html": [
       "<table><thead><tr><th>OccupiedElements</th><th>ArrayState</th></tr></thead><tbody><tr><td><div class=\"dni-plaintext\"><pre>7</pre></div></td><td><div class=\"dni-plaintext\"><pre>[ 1, 2, 3, 4, 5, 6, 7, 0 ]</pre></div></td></tr></tbody></table><style>\r\n",
       ".dni-code-hint {\r\n",
       "    font-style: italic;\r\n",
       "    overflow: hidden;\r\n",
       "    white-space: nowrap;\r\n",
       "}\r\n",
       ".dni-treeview {\r\n",
       "    white-space: nowrap;\r\n",
       "}\r\n",
       ".dni-treeview td {\r\n",
       "    vertical-align: top;\r\n",
       "    text-align: start;\r\n",
       "}\r\n",
       "details.dni-treeview {\r\n",
       "    padding-left: 1em;\r\n",
       "}\r\n",
       "table td {\r\n",
       "    text-align: start;\r\n",
       "}\r\n",
       "table tr { \r\n",
       "    vertical-align: top; \r\n",
       "    margin: 0em 0px;\r\n",
       "}\r\n",
       "table tr td pre \r\n",
       "{ \r\n",
       "    vertical-align: top !important; \r\n",
       "    margin: 0em 0px !important;\r\n",
       "} \r\n",
       "table th {\r\n",
       "    text-align: start;\r\n",
       "}\r\n",
       "</style>"
      ]
     },
     "metadata": {},
     "output_type": "display_data"
    }
   ],
   "source": [
    "resizableIntArray"
   ]
  },
  {
   "attachments": {},
   "cell_type": "markdown",
   "metadata": {
    "dotnet_interactive": {
     "language": "csharp"
    },
    "polyglot_notebook": {
     "kernelName": "csharp"
    }
   },
   "source": [
    "Observe that the `resizableIntArray` automatically resized itself to accomodate the full range of additional elements."
   ]
  },
  {
   "attachments": {},
   "cell_type": "markdown",
   "metadata": {
    "dotnet_interactive": {
     "language": "csharp"
    },
    "polyglot_notebook": {
     "kernelName": "csharp"
    }
   },
   "source": [
    "<br>"
   ]
  },
  {
   "attachments": {},
   "cell_type": "markdown",
   "metadata": {
    "dotnet_interactive": {
     "language": "csharp"
    },
    "polyglot_notebook": {
     "kernelName": "csharp"
    }
   },
   "source": [
    "Now that we have a fully populated our `resizableIntArray`, let's now insert the value $99$ at index 3:"
   ]
  },
  {
   "cell_type": "code",
   "execution_count": 6,
   "metadata": {
    "dotnet_interactive": {
     "language": "csharp"
    },
    "polyglot_notebook": {
     "kernelName": "csharp"
    },
    "vscode": {
     "languageId": "polyglot-notebook"
    }
   },
   "outputs": [],
   "source": [
    "resizableIntArray.Insert(3, 99);"
   ]
  },
  {
   "attachments": {},
   "cell_type": "markdown",
   "metadata": {
    "dotnet_interactive": {
     "language": "csharp"
    },
    "polyglot_notebook": {
     "kernelName": "csharp"
    }
   },
   "source": [
    "<p style=\"text-align: center;\">\n",
    "    Observe that the <span style=\"color: blue; font-weight:bold\">source index</span> is <span style=\"color: blue; font-weight:bold\">index 3</span> and the <span style=\"color: red; font-weight:bold\">desitation index</span> is <span style=\"color: red; font-weight:bold\">index 4</span> of the same array\n",
    "</p>"
   ]
  },
  {
   "attachments": {},
   "cell_type": "markdown",
   "metadata": {
    "dotnet_interactive": {
     "language": "csharp"
    },
    "polyglot_notebook": {
     "kernelName": "csharp"
    }
   },
   "source": [
    "<table style=\"margin-left: auto; margin-right: auto;\">\n",
    "    <tbody>\n",
    "        <tr>\n",
    "            <td style=\"border: 1px solid black\">1</td>\n",
    "            <td style=\"border: 1px solid black\">2</td>\n",
    "            <td style=\"border: 1px solid black\">3</td>\n",
    "            <td style=\"border: 1px solid black; background: blue; color: white;\">4</td>\n",
    "            <td style=\"border: 1px solid black; background: red; color: white;\">5</td>\n",
    "            <td style=\"border: 1px solid black\">6</td>\n",
    "            <td style=\"border: 1px solid black\">7</td>\n",
    "            <td style=\"border: 1px solid black\">0</td>\n",
    "        </tr>\n",
    "        <tr>\n",
    "            <td style=\"background: white; border: none;\">0</td>\n",
    "            <td style=\"background: white; border: none;\">1</td>\n",
    "            <td style=\"background: white; border: none;\">2</td>\n",
    "            <td style=\"background: white; font-weight: bold; border: none; color: blue\">3</td>\n",
    "            <td style=\"background: white; font-weight: bold; border: none; color: red\">4</td>\n",
    "            <td style=\"background: white; border: none\">5</td>\n",
    "            <td style=\"background: white; border: none\">6</td>\n",
    "            <td style=\"background: white; border: none\">7</td>\n",
    "        </tr>\n",
    "    </tbody>\n",
    "</table>"
   ]
  },
  {
   "attachments": {},
   "cell_type": "markdown",
   "metadata": {
    "dotnet_interactive": {
     "language": "csharp"
    },
    "polyglot_notebook": {
     "kernelName": "csharp"
    }
   },
   "source": [
    "$$\\Huge{\\downarrow}$$"
   ]
  },
  {
   "attachments": {},
   "cell_type": "markdown",
   "metadata": {
    "dotnet_interactive": {
     "language": "csharp"
    },
    "polyglot_notebook": {
     "kernelName": "csharp"
    }
   },
   "source": [
    "<p style=\"text-align: center;\">\n",
    "    To perform the insertion, we must first shift the <span style=\"color: blue; font-weight:bold\">element at the source index</span>, in addition to the  <span style=\"color: red; font-weight:bold\"> next 3 consecutive elements</span>, over <span style=\"font-weight: bold;\">one position to their immediate right<span>\n",
    "</p>"
   ]
  },
  {
   "attachments": {},
   "cell_type": "markdown",
   "metadata": {
    "dotnet_interactive": {
     "language": "csharp"
    },
    "polyglot_notebook": {
     "kernelName": "csharp"
    }
   },
   "source": [
    "<table style=\"margin-left: auto; margin-right: auto;\">\n",
    "    <tbody>\n",
    "        <tr>\n",
    "            <td style=\"border: 1px solid black\">1</td>\n",
    "            <td style=\"border: 1px solid black\">2</td>\n",
    "            <td style=\"border: 1px solid black\">3</td>\n",
    "            <td style=\"border: 1px solid black\">4</td>\n",
    "            <td style=\"border: 1px solid black; background: blue; color: white;\">4</td>\n",
    "            <td style=\"border: 1px solid black; background: red; color: white;\">5</td>\n",
    "            <td style=\"border: 1px solid black; background: red; color: white;\">6</td>\n",
    "            <td style=\"border: 1px solid black; background: red; color: white;\">7</td>\n",
    "        </tr>\n",
    "        <tr>\n",
    "            <td style=\"background: white; border: none;\">0</td>\n",
    "            <td style=\"background: white; border: none;\">1</td>\n",
    "            <td style=\"background: white; border: none;\">2</td>\n",
    "            <td style=\"background: white; border: none;\">3</td>\n",
    "            <td style=\"background: white; font-weight: bold; border: none;\">4</td>\n",
    "            <td style=\"background: white; font-weight: bold; border: none;\">5</td>\n",
    "            <td style=\"background: white; font-weight: bold; border: none;\">6</td>\n",
    "            <td style=\"background: white; font-weight: bold; border: none;\">7</td>\n",
    "        </tr>\n",
    "    </tbody>\n",
    "</table>"
   ]
  },
  {
   "cell_type": "markdown",
   "metadata": {
    "dotnet_interactive": {
     "language": "csharp"
    },
    "polyglot_notebook": {
     "kernelName": "csharp"
    }
   },
   "source": [
    "$$\\Huge{\\downarrow}$$"
   ]
  },
  {
   "attachments": {},
   "cell_type": "markdown",
   "metadata": {
    "dotnet_interactive": {
     "language": "csharp"
    },
    "polyglot_notebook": {
     "kernelName": "csharp"
    }
   },
   "source": [
    "<p style=\"text-align: center;\">\n",
    "    Finally, we <span style= \"font-weight: bold;\">clobber</span> the duplicate element remaining at the <span style=\"color: green; font-weight:bold\">specified index</span> with the <span style=\"color: green; font-weight:bold\">specified element value</span>\n",
    "</p>\n"
   ]
  },
  {
   "attachments": {},
   "cell_type": "markdown",
   "metadata": {
    "dotnet_interactive": {
     "language": "csharp"
    },
    "polyglot_notebook": {
     "kernelName": "csharp"
    }
   },
   "source": [
    "<table style=\"margin-left: auto; margin-right: auto;\">\n",
    "    <tbody>\n",
    "        <tr>\n",
    "            <td style=\"border: 1px solid black;\">1</td>\n",
    "            <td style=\"border: 1px solid black;\">2</td>\n",
    "            <td style=\"border: 1px solid black;\">3</td>\n",
    "            <td style=\"border: 1px solid black; background: green; color: white;\">99</td>\n",
    "            <td style=\"border: 1px solid black;\">4</td>\n",
    "            <td style=\"border: 1px solid black;\">5</td>\n",
    "            <td style=\"border: 1px solid black;\">6</td>\n",
    "            <td style=\"border: 1px solid black;\">7</td>\n",
    "        </tr>\n",
    "        <tr>\n",
    "            <td style=\"background: white; border: none;\">0</td>\n",
    "            <td style=\"background: white; border: none;\">1</td>\n",
    "            <td style=\"background: white; border: none;\">2</td>\n",
    "            <td style=\"background: white; font-weight: bold; border: none; color: green\">3</td>\n",
    "            <td style=\"background: white; border: none;\">4</td>\n",
    "            <td style=\"background: white; border: none;\">5</td>\n",
    "            <td style=\"background: white; border: none;\">6</td>\n",
    "            <td style=\"background: white; border: none;\">7</td>\n",
    "        </tr>\n",
    "    </tbody>\n",
    "</table>"
   ]
  },
  {
   "cell_type": "code",
   "execution_count": 7,
   "metadata": {
    "dotnet_interactive": {
     "language": "csharp"
    },
    "polyglot_notebook": {
     "kernelName": "csharp"
    },
    "vscode": {
     "languageId": "polyglot-notebook"
    }
   },
   "outputs": [
    {
     "data": {
      "text/html": [
       "<table><thead><tr><th>OccupiedElements</th><th>ArrayState</th></tr></thead><tbody><tr><td><div class=\"dni-plaintext\"><pre>8</pre></div></td><td><div class=\"dni-plaintext\"><pre>[ 1, 2, 3, 99, 4, 5, 6, 7 ]</pre></div></td></tr></tbody></table><style>\r\n",
       ".dni-code-hint {\r\n",
       "    font-style: italic;\r\n",
       "    overflow: hidden;\r\n",
       "    white-space: nowrap;\r\n",
       "}\r\n",
       ".dni-treeview {\r\n",
       "    white-space: nowrap;\r\n",
       "}\r\n",
       ".dni-treeview td {\r\n",
       "    vertical-align: top;\r\n",
       "    text-align: start;\r\n",
       "}\r\n",
       "details.dni-treeview {\r\n",
       "    padding-left: 1em;\r\n",
       "}\r\n",
       "table td {\r\n",
       "    text-align: start;\r\n",
       "}\r\n",
       "table tr { \r\n",
       "    vertical-align: top; \r\n",
       "    margin: 0em 0px;\r\n",
       "}\r\n",
       "table tr td pre \r\n",
       "{ \r\n",
       "    vertical-align: top !important; \r\n",
       "    margin: 0em 0px !important;\r\n",
       "} \r\n",
       "table th {\r\n",
       "    text-align: start;\r\n",
       "}\r\n",
       "</style>"
      ]
     },
     "metadata": {},
     "output_type": "display_data"
    }
   ],
   "source": [
    "resizableIntArray"
   ]
  },
  {
   "attachments": {},
   "cell_type": "markdown",
   "metadata": {
    "dotnet_interactive": {
     "language": "csharp"
    },
    "polyglot_notebook": {
     "kernelName": "csharp"
    }
   },
   "source": [
    "<br>"
   ]
  },
  {
   "attachments": {},
   "cell_type": "markdown",
   "metadata": {
    "dotnet_interactive": {
     "language": "csharp"
    },
    "polyglot_notebook": {
     "kernelName": "csharp"
    }
   },
   "source": [
    "We can now perform search operations to detect the value we just inserted:"
   ]
  },
  {
   "cell_type": "code",
   "execution_count": 8,
   "metadata": {
    "dotnet_interactive": {
     "language": "csharp"
    },
    "polyglot_notebook": {
     "kernelName": "csharp"
    },
    "vscode": {
     "languageId": "polyglot-notebook"
    }
   },
   "outputs": [
    {
     "data": {
      "text/html": [
       "<div class=\"dni-plaintext\"><pre>True</pre></div><style>\r\n",
       ".dni-code-hint {\r\n",
       "    font-style: italic;\r\n",
       "    overflow: hidden;\r\n",
       "    white-space: nowrap;\r\n",
       "}\r\n",
       ".dni-treeview {\r\n",
       "    white-space: nowrap;\r\n",
       "}\r\n",
       ".dni-treeview td {\r\n",
       "    vertical-align: top;\r\n",
       "    text-align: start;\r\n",
       "}\r\n",
       "details.dni-treeview {\r\n",
       "    padding-left: 1em;\r\n",
       "}\r\n",
       "table td {\r\n",
       "    text-align: start;\r\n",
       "}\r\n",
       "table tr { \r\n",
       "    vertical-align: top; \r\n",
       "    margin: 0em 0px;\r\n",
       "}\r\n",
       "table tr td pre \r\n",
       "{ \r\n",
       "    vertical-align: top !important; \r\n",
       "    margin: 0em 0px !important;\r\n",
       "} \r\n",
       "table th {\r\n",
       "    text-align: start;\r\n",
       "}\r\n",
       "</style>"
      ]
     },
     "metadata": {},
     "output_type": "display_data"
    }
   ],
   "source": [
    "// Does the array contain the value?\n",
    "resizableIntArray.Contains( 99 )"
   ]
  },
  {
   "cell_type": "code",
   "execution_count": 9,
   "metadata": {
    "dotnet_interactive": {
     "language": "csharp"
    },
    "polyglot_notebook": {
     "kernelName": "csharp"
    },
    "vscode": {
     "languageId": "polyglot-notebook"
    }
   },
   "outputs": [
    {
     "data": {
      "text/html": [
       "<div class=\"dni-plaintext\"><pre>3</pre></div><style>\r\n",
       ".dni-code-hint {\r\n",
       "    font-style: italic;\r\n",
       "    overflow: hidden;\r\n",
       "    white-space: nowrap;\r\n",
       "}\r\n",
       ".dni-treeview {\r\n",
       "    white-space: nowrap;\r\n",
       "}\r\n",
       ".dni-treeview td {\r\n",
       "    vertical-align: top;\r\n",
       "    text-align: start;\r\n",
       "}\r\n",
       "details.dni-treeview {\r\n",
       "    padding-left: 1em;\r\n",
       "}\r\n",
       "table td {\r\n",
       "    text-align: start;\r\n",
       "}\r\n",
       "table tr { \r\n",
       "    vertical-align: top; \r\n",
       "    margin: 0em 0px;\r\n",
       "}\r\n",
       "table tr td pre \r\n",
       "{ \r\n",
       "    vertical-align: top !important; \r\n",
       "    margin: 0em 0px !important;\r\n",
       "} \r\n",
       "table th {\r\n",
       "    text-align: start;\r\n",
       "}\r\n",
       "</style>"
      ]
     },
     "metadata": {},
     "output_type": "display_data"
    }
   ],
   "source": [
    "// At which Index is that value now located?\n",
    "resizableIntArray.IndexOf( 99 )"
   ]
  },
  {
   "attachments": {},
   "cell_type": "markdown",
   "metadata": {
    "dotnet_interactive": {
     "language": "csharp"
    },
    "polyglot_notebook": {
     "kernelName": "csharp"
    }
   },
   "source": [
    "<br>"
   ]
  },
  {
   "attachments": {},
   "cell_type": "markdown",
   "metadata": {
    "dotnet_interactive": {
     "language": "csharp"
    },
    "polyglot_notebook": {
     "kernelName": "csharp"
    }
   },
   "source": [
    "Let's now remove the value which we just inserted: "
   ]
  },
  {
   "cell_type": "code",
   "execution_count": 10,
   "metadata": {
    "dotnet_interactive": {
     "language": "csharp"
    },
    "polyglot_notebook": {
     "kernelName": "csharp"
    },
    "vscode": {
     "languageId": "polyglot-notebook"
    }
   },
   "outputs": [],
   "source": [
    "resizableIntArray.RemoveAt(3);"
   ]
  },
  {
   "attachments": {},
   "cell_type": "markdown",
   "metadata": {
    "dotnet_interactive": {
     "language": "csharp"
    },
    "polyglot_notebook": {
     "kernelName": "csharp"
    }
   },
   "source": [
    "<p style=\"text-align: center;\">\n",
    "    Observe that, in an opposite fashion from the <code>Add()</code> method,<br> the <span style=\"color: blue; font-weight:bold\">source index</span> is <span style=\"color: blue; font-weight:bold\">index 4</span> and the <span style=\"color: red; font-weight:bold\">desitation index</span> is <span style=\"color: red; font-weight:bold\">index 3</span> of the same array\n",
    "</p>"
   ]
  },
  {
   "attachments": {},
   "cell_type": "markdown",
   "metadata": {
    "dotnet_interactive": {
     "language": "csharp"
    },
    "polyglot_notebook": {
     "kernelName": "csharp"
    }
   },
   "source": [
    "<table style=\"margin-left: auto; margin-right: auto;\">\n",
    "    <tbody>\n",
    "        <tr>\n",
    "            <td style=\"border: 1px solid black;\">1</td>\n",
    "            <td style=\"border: 1px solid black;\">2</td>\n",
    "            <td style=\"border: 1px solid black;\">3</td>\n",
    "            <td style=\"border: 1px solid black; background: red; color: white;\">99</td>\n",
    "            <td style=\"border: 1px solid black; background: blue; color: white;\">4</td>\n",
    "            <td style=\"border: 1px solid black;\">5</td>\n",
    "            <td style=\"border: 1px solid black;\">6</td>\n",
    "            <td style=\"border: 1px solid black;\">7</td>\n",
    "        </tr>\n",
    "        <tr>\n",
    "            <td style=\"background: white; border: none;\">0</td>\n",
    "            <td style=\"background: white; border: none;\">1</td>\n",
    "            <td style=\"background: white; border: none;\">2</td>\n",
    "            <td style=\"background: white; font-weight: bold; border: none;\">3</td>\n",
    "            <td style=\"background: white; font-weight: bold; border: none;\">4</td>\n",
    "            <td style=\"background: white; border: none\">5</td>\n",
    "            <td style=\"background: white; border: none\">6</td>\n",
    "            <td style=\"background: white; border: none\">7</td>\n",
    "        </tr>\n",
    "    </tbody>\n",
    "</table>"
   ]
  },
  {
   "cell_type": "markdown",
   "metadata": {
    "dotnet_interactive": {
     "language": "csharp"
    },
    "polyglot_notebook": {
     "kernelName": "csharp"
    }
   },
   "source": [
    "$$\\Huge{\\downarrow}$$"
   ]
  },
  {
   "attachments": {},
   "cell_type": "markdown",
   "metadata": {
    "dotnet_interactive": {
     "language": "csharp"
    },
    "polyglot_notebook": {
     "kernelName": "csharp"
    }
   },
   "source": [
    "<p style=\"text-align: center;\">\n",
    "    Once again, in an opposite fashion from the <code>Add()</code> method, to perform the deletion, we must first shift the <span style=\"color: blue; font-weight:bold\">element at the source index</span>, in addition to the  <span style=\"color: red; font-weight:bold\"> next 3 consecutive elements</span>, over <span style=\"font-weight: bold;\">one position to their immediate left<span>\n",
    "</p>"
   ]
  },
  {
   "attachments": {},
   "cell_type": "markdown",
   "metadata": {
    "dotnet_interactive": {
     "language": "csharp"
    },
    "polyglot_notebook": {
     "kernelName": "csharp"
    }
   },
   "source": [
    "<table style=\"margin-left: auto; margin-right: auto;\">\n",
    "    <tbody>\n",
    "        <tr>\n",
    "            <td style=\"border: 1px solid black\">1</td>\n",
    "            <td style=\"border: 1px solid black\">2</td>\n",
    "            <td style=\"border: 1px solid black\">3</td>\n",
    "            <td style=\"border: 1px solid black; background: blue; color: white;\">4</td>\n",
    "            <td style=\"border: 1px solid black; background: red; color: white;\">5</td>\n",
    "            <td style=\"border: 1px solid black; background: red; color: white;\">6</td>\n",
    "            <td style=\"border: 1px solid black; background: red; color: white;\">7</td>\n",
    "            <td style=\"border: 1px solid black\">7</td>\n",
    "        </tr>\n",
    "        <tr>\n",
    "            <td style=\"background: white; border: none;\">0</td>\n",
    "            <td style=\"background: white; border: none;\">1</td>\n",
    "            <td style=\"background: white; border: none;\">2</td>\n",
    "            <td style=\"background: white; font-weight: bold; border: none;\">3</td>\n",
    "            <td style=\"background: white; font-weight: bold; border: none;\">4</td>\n",
    "            <td style=\"background: white; font-weight: bold; border: none;\">5</td>\n",
    "            <td style=\"background: white; font-weight: bold; border: none;\">6</td>\n",
    "            <td style=\"background: white; font-weight: bold; border: none;\">7</td>\n",
    "        </tr>\n",
    "    </tbody>\n",
    "</table>"
   ]
  },
  {
   "cell_type": "markdown",
   "metadata": {
    "dotnet_interactive": {
     "language": "csharp"
    },
    "polyglot_notebook": {
     "kernelName": "csharp"
    }
   },
   "source": [
    "$$\\Huge{\\downarrow}$$"
   ]
  },
  {
   "attachments": {},
   "cell_type": "markdown",
   "metadata": {
    "dotnet_interactive": {
     "language": "csharp"
    },
    "polyglot_notebook": {
     "kernelName": "csharp"
    }
   },
   "source": [
    "<p style=\"text-align: center\">\n",
    "    Observe that, following the left shift operation, the last element of the <code>resizableArray</code> now holds a <span style=\"font-weight: bold; color: goldenrod;\">duplicate element</span>\n",
    "</p>"
   ]
  },
  {
   "attachments": {},
   "cell_type": "markdown",
   "metadata": {
    "dotnet_interactive": {
     "language": "csharp"
    },
    "polyglot_notebook": {
     "kernelName": "csharp"
    }
   },
   "source": [
    "<table style=\"margin-left: auto; margin-right: auto;\">\n",
    "    <tbody>\n",
    "        <tr>\n",
    "            <td style=\"border: 1px solid black\">1</td>\n",
    "            <td style=\"border: 1px solid black\">2</td>\n",
    "            <td style=\"border: 1px solid black\">3</td>\n",
    "            <td style=\"border: 1px solid black\">4</td>\n",
    "            <td style=\"border: 1px solid black\">5</td>\n",
    "            <td style=\"border: 1px solid black\">6</td>\n",
    "            <td style=\"border: 1px solid black\">7</td>\n",
    "            <td style=\"border: 1px solid black; background: goldenrod; color: white;\">7</td>\n",
    "        </tr>\n",
    "        <tr>\n",
    "            <td style=\"background: white; border: none;\">0</td>\n",
    "            <td style=\"background: white; border: none;\">1</td>\n",
    "            <td style=\"background: white; border: none;\">2</td>\n",
    "            <td style=\"background: white; border: none;\">3</td>\n",
    "            <td style=\"background: white; border: none;\">4</td>\n",
    "            <td style=\"background: white; border: none;\">5</td>\n",
    "            <td style=\"background: white; border: none;\">6</td>\n",
    "            <td style=\"background: white; font-weight: bold; border: none; color: goldenrod\">7</td>\n",
    "        </tr>\n",
    "    </tbody>\n",
    "</table>"
   ]
  },
  {
   "cell_type": "markdown",
   "metadata": {
    "dotnet_interactive": {
     "language": "csharp"
    },
    "polyglot_notebook": {
     "kernelName": "csharp"
    }
   },
   "source": [
    "$$\\Huge{\\downarrow}$$"
   ]
  },
  {
   "attachments": {},
   "cell_type": "markdown",
   "metadata": {
    "dotnet_interactive": {
     "language": "csharp"
    },
    "polyglot_notebook": {
     "kernelName": "csharp"
    }
   },
   "source": [
    "<p style=\"text-align: center;\">\n",
    "    Finally, we <span style= \"font-weight: bold;\">clobber</span> the duplicate element remaining at the <span style=\"color: green; font-weight:bold\">specified index</span> with the <span style=\"color: green; font-weight:bold\">default empty value corresponding to the given array type</span>\n",
    "</p>\n"
   ]
  },
  {
   "attachments": {},
   "cell_type": "markdown",
   "metadata": {
    "dotnet_interactive": {
     "language": "csharp"
    },
    "polyglot_notebook": {
     "kernelName": "csharp"
    }
   },
   "source": [
    "<table style=\"margin-left: auto; margin-right: auto;\">\n",
    "    <tbody>\n",
    "        <tr>\n",
    "            <td style=\"border: 1px solid black\">1</td>\n",
    "            <td style=\"border: 1px solid black\">2</td>\n",
    "            <td style=\"border: 1px solid black\">3</td>\n",
    "            <td style=\"border: 1px solid black\">4</td>\n",
    "            <td style=\"border: 1px solid black\">5</td>\n",
    "            <td style=\"border: 1px solid black\">6</td>\n",
    "            <td style=\"border: 1px solid black\">7</td>\n",
    "            <td style=\"border: 1px solid black; background: green; color: white;\">0</td>\n",
    "        </tr>\n",
    "        <tr>\n",
    "            <td style=\"background: white; border: none;\">0</td>\n",
    "            <td style=\"background: white; border: none;\">1</td>\n",
    "            <td style=\"background: white; border: none;\">2</td>\n",
    "            <td style=\"background: white; border: none;\">3</td>\n",
    "            <td style=\"background: white; border: none;\">4</td>\n",
    "            <td style=\"background: white; border: none;\">5</td>\n",
    "            <td style=\"background: white; border: none;\">6</td>\n",
    "            <td style=\"background: white; font-weight: bold; border: none; color: green\">7</td>\n",
    "        </tr>\n",
    "    </tbody>\n",
    "</table>"
   ]
  },
  {
   "cell_type": "code",
   "execution_count": 11,
   "metadata": {
    "dotnet_interactive": {
     "language": "csharp"
    },
    "polyglot_notebook": {
     "kernelName": "csharp"
    },
    "vscode": {
     "languageId": "polyglot-notebook"
    }
   },
   "outputs": [
    {
     "data": {
      "text/html": [
       "<table><thead><tr><th>OccupiedElements</th><th>ArrayState</th></tr></thead><tbody><tr><td><div class=\"dni-plaintext\"><pre>7</pre></div></td><td><div class=\"dni-plaintext\"><pre>[ 1, 2, 3, 4, 5, 6, 7, 0 ]</pre></div></td></tr></tbody></table><style>\r\n",
       ".dni-code-hint {\r\n",
       "    font-style: italic;\r\n",
       "    overflow: hidden;\r\n",
       "    white-space: nowrap;\r\n",
       "}\r\n",
       ".dni-treeview {\r\n",
       "    white-space: nowrap;\r\n",
       "}\r\n",
       ".dni-treeview td {\r\n",
       "    vertical-align: top;\r\n",
       "    text-align: start;\r\n",
       "}\r\n",
       "details.dni-treeview {\r\n",
       "    padding-left: 1em;\r\n",
       "}\r\n",
       "table td {\r\n",
       "    text-align: start;\r\n",
       "}\r\n",
       "table tr { \r\n",
       "    vertical-align: top; \r\n",
       "    margin: 0em 0px;\r\n",
       "}\r\n",
       "table tr td pre \r\n",
       "{ \r\n",
       "    vertical-align: top !important; \r\n",
       "    margin: 0em 0px !important;\r\n",
       "} \r\n",
       "table th {\r\n",
       "    text-align: start;\r\n",
       "}\r\n",
       "</style>"
      ]
     },
     "metadata": {},
     "output_type": "display_data"
    }
   ],
   "source": [
    "resizableIntArray"
   ]
  },
  {
   "cell_type": "code",
   "execution_count": 12,
   "metadata": {
    "dotnet_interactive": {
     "language": "csharp"
    },
    "polyglot_notebook": {
     "kernelName": "csharp"
    },
    "vscode": {
     "languageId": "polyglot-notebook"
    }
   },
   "outputs": [],
   "source": [
    "resizableIntArray.Remove(6);"
   ]
  },
  {
   "cell_type": "code",
   "execution_count": 13,
   "metadata": {
    "dotnet_interactive": {
     "language": "csharp"
    },
    "polyglot_notebook": {
     "kernelName": "csharp"
    },
    "vscode": {
     "languageId": "polyglot-notebook"
    }
   },
   "outputs": [
    {
     "data": {
      "text/html": [
       "<table><thead><tr><th>OccupiedElements</th><th>ArrayState</th></tr></thead><tbody><tr><td><div class=\"dni-plaintext\"><pre>6</pre></div></td><td><div class=\"dni-plaintext\"><pre>[ 1, 2, 3, 4, 5, 7, 0, 0 ]</pre></div></td></tr></tbody></table><style>\r\n",
       ".dni-code-hint {\r\n",
       "    font-style: italic;\r\n",
       "    overflow: hidden;\r\n",
       "    white-space: nowrap;\r\n",
       "}\r\n",
       ".dni-treeview {\r\n",
       "    white-space: nowrap;\r\n",
       "}\r\n",
       ".dni-treeview td {\r\n",
       "    vertical-align: top;\r\n",
       "    text-align: start;\r\n",
       "}\r\n",
       "details.dni-treeview {\r\n",
       "    padding-left: 1em;\r\n",
       "}\r\n",
       "table td {\r\n",
       "    text-align: start;\r\n",
       "}\r\n",
       "table tr { \r\n",
       "    vertical-align: top; \r\n",
       "    margin: 0em 0px;\r\n",
       "}\r\n",
       "table tr td pre \r\n",
       "{ \r\n",
       "    vertical-align: top !important; \r\n",
       "    margin: 0em 0px !important;\r\n",
       "} \r\n",
       "table th {\r\n",
       "    text-align: start;\r\n",
       "}\r\n",
       "</style>"
      ]
     },
     "metadata": {},
     "output_type": "display_data"
    }
   ],
   "source": [
    "resizableIntArray\n"
   ]
  },
  {
   "attachments": {},
   "cell_type": "markdown",
   "metadata": {
    "dotnet_interactive": {
     "language": "csharp"
    },
    "polyglot_notebook": {
     "kernelName": "csharp"
    }
   },
   "source": [
    "<br>"
   ]
  },
  {
   "attachments": {},
   "cell_type": "markdown",
   "metadata": {
    "dotnet_interactive": {
     "language": "csharp"
    },
    "polyglot_notebook": {
     "kernelName": "csharp"
    }
   },
   "source": [
    "One last thing, let's clear the whole array and return it to it's default state:"
   ]
  },
  {
   "cell_type": "code",
   "execution_count": 14,
   "metadata": {
    "dotnet_interactive": {
     "language": "csharp"
    },
    "polyglot_notebook": {
     "kernelName": "csharp"
    },
    "vscode": {
     "languageId": "polyglot-notebook"
    }
   },
   "outputs": [],
   "source": [
    "resizableIntArray.Clear();"
   ]
  },
  {
   "cell_type": "code",
   "execution_count": 15,
   "metadata": {
    "dotnet_interactive": {
     "language": "csharp"
    },
    "polyglot_notebook": {
     "kernelName": "csharp"
    },
    "vscode": {
     "languageId": "polyglot-notebook"
    }
   },
   "outputs": [
    {
     "data": {
      "text/html": [
       "<table><thead><tr><th>OccupiedElements</th><th>ArrayState</th></tr></thead><tbody><tr><td><div class=\"dni-plaintext\"><pre>0</pre></div></td><td><div class=\"dni-plaintext\"><pre>[ 0, 0, 0, 0 ]</pre></div></td></tr></tbody></table><style>\r\n",
       ".dni-code-hint {\r\n",
       "    font-style: italic;\r\n",
       "    overflow: hidden;\r\n",
       "    white-space: nowrap;\r\n",
       "}\r\n",
       ".dni-treeview {\r\n",
       "    white-space: nowrap;\r\n",
       "}\r\n",
       ".dni-treeview td {\r\n",
       "    vertical-align: top;\r\n",
       "    text-align: start;\r\n",
       "}\r\n",
       "details.dni-treeview {\r\n",
       "    padding-left: 1em;\r\n",
       "}\r\n",
       "table td {\r\n",
       "    text-align: start;\r\n",
       "}\r\n",
       "table tr { \r\n",
       "    vertical-align: top; \r\n",
       "    margin: 0em 0px;\r\n",
       "}\r\n",
       "table tr td pre \r\n",
       "{ \r\n",
       "    vertical-align: top !important; \r\n",
       "    margin: 0em 0px !important;\r\n",
       "} \r\n",
       "table th {\r\n",
       "    text-align: start;\r\n",
       "}\r\n",
       "</style>"
      ]
     },
     "metadata": {},
     "output_type": "display_data"
    }
   ],
   "source": [
    "resizableIntArray"
   ]
  }
 ],
 "metadata": {
  "kernelspec": {
   "display_name": ".NET (C#)",
   "language": "C#",
   "name": ".net-csharp"
  },
  "polyglot_notebook": {
   "kernelInfo": {
    "defaultKernelName": "csharp",
    "items": [
     {
      "aliases": [],
      "name": "csharp"
     }
    ]
   }
  }
 },
 "nbformat": 4,
 "nbformat_minor": 2
}
