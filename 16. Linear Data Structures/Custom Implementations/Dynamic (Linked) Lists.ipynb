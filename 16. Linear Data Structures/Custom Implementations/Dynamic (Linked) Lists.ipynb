{
 "cells": [
  {
   "attachments": {},
   "cell_type": "markdown",
   "metadata": {},
   "source": [
    "# 16. Linear Data Stuctures"
   ]
  },
  {
   "attachments": {},
   "cell_type": "markdown",
   "metadata": {},
   "source": [
    "## Custom Implementations\n",
    "## Linked Lists (Dynamic Implementation)\n",
    "---"
   ]
  },
  {
   "attachments": {},
   "cell_type": "markdown",
   "metadata": {},
   "source": [
    "In comparison to other Linear Data Structures, the [Static List (Array-based)](../Custom%20Implementations/Static%20(Array-based)%20Lists.ipynb) has a *serious disadvantage* – the operations for *inserting* and *removing* items from the inside of the array requires *rearrangement of the elements* (*shift operations*).   \n",
    "   \n",
    "When frequently inserting and removing items (especially a large number of items), this can lead to *low performance*.   "
   ]
  },
  {
   "attachments": {},
   "cell_type": "markdown",
   "metadata": {},
   "source": [
    "In such cases, it is advisable to use another structure called **Linked Lists**, a **dynamic**, rather than a static list implementation, in which each element along the linear structure **retains information about their neighboring element**."
   ]
  },
  {
   "attachments": {},
   "cell_type": "markdown",
   "metadata": {},
   "source": [
    "<br>"
   ]
  },
  {
   "attachments": {},
   "cell_type": "markdown",
   "metadata": {},
   "source": [
    "### The Dynamic (Linked) List"
   ]
  },
  {
   "attachments": {},
   "cell_type": "markdown",
   "metadata": {},
   "source": [
    "#### Class Definition"
   ]
  },
  {
   "attachments": {},
   "cell_type": "markdown",
   "metadata": {},
   "source": [
    "For this classic, **Dynamic implementation of the Linked List**, we will need to define a **nested class** following the pattern below: \n",
    "1. the main `DynamicList<T>` class $-$ will hold a sequence of elements as well as the **head** and the **tail** of the list\n",
    "2. the nested `ListNode` class $-$ will hold a single element of the list along with its next element"
   ]
  },
  {
   "attachments": {},
   "cell_type": "markdown",
   "metadata": {},
   "source": [
    "Using <a href=\"../../14. Defining Classes/Generics.ipynb\">Generics</a>, we may define such a Dynamically Linked structure to be able to hold any type of data, as defined below:"
   ]
  },
  {
   "cell_type": "code",
   "execution_count": null,
   "metadata": {
    "dotnet_interactive": {
     "language": "csharp"
    },
    "polyglot_notebook": {
     "kernelName": "csharp"
    },
    "vscode": {
     "languageId": "polyglot-notebook"
    }
   },
   "outputs": [],
   "source": [
    "public class DynamicList<T>\n",
    "{\n",
    "\n",
    "    // NESTED ListNode CLASS ---------------------------------------------------\n",
    "    // Represents a single element within the list\n",
    "    // which provides a recursive ListNode reference to the next element\n",
    "    public class ListNode\n",
    "    {\n",
    "\n",
    "        // PROPERTY DEFINITIONS ------------------------------------------------\n",
    "        public T Element\n",
    "        { \n",
    "            get; \n",
    "            set; \n",
    "        }\n",
    "        //----------------------------------------------------------------------\n",
    "        public ListNode NextNode\n",
    "        { \n",
    "            get; \n",
    "            set; \n",
    "        }\n",
    "        //----------------------------------------------------------------------\n",
    "\n",
    "\n",
    "        // CONSTRUCTORS --------------------------------------------------------\n",
    "        public ListNode( T element )\n",
    "        {\n",
    "            this.Element = element;\n",
    "            NextNode = null;\n",
    "        }\n",
    "        //----------------------------------------------------------------------\n",
    "        public ListNode( T element, ListNode prevNode )\n",
    "        {\n",
    "            this.Element = element;\n",
    "            prevNode.NextNode = this;\n",
    "        }\n",
    "        //----------------------------------------------------------------------\n",
    "\n",
    "    }\n",
    "    //--------------------------------------------------------------------------\n",
    "\n",
    "\n",
    "    // FIELD DEFINITIONS -------------------------------------------------------\n",
    "    private ListNode head,\n",
    "                     tail;\n",
    "    private int      nodeCount;       \n",
    "    //--------------------------------------------------------------------------\n",
    "\n",
    "\n",
    "    // PROPERTY DEFINITIONS ----------------------------------------------------\n",
    "    public int NodeCount\n",
    "    {\n",
    "        // read only\n",
    "        get\n",
    "        {\n",
    "            return this.nodeCount;\n",
    "        }\n",
    "    }\n",
    "    //--------------------------------------------------------------------------\n",
    "    //-------------------------- I N D E X E R ---------------------------------\n",
    "    public T this[ int index ]\n",
    "    {\n",
    "\n",
    "        get\n",
    "        {\n",
    "\n",
    "            // Try to retrieve the given value at the specified index,\n",
    "            // proceeding cautiously in the event that the given index\n",
    "            // could possibly be out of the boundaries of the List\n",
    "            try\n",
    "            {\n",
    "\n",
    "                // Instantiate a Traversal Node at the head of the List\n",
    "                ListNode currentNode = this.head;\n",
    "                \n",
    "\n",
    "                // Iterating For every node position until the specified Index:\n",
    "                for( int i = 0; i < index; i++ )\n",
    "                {\n",
    "\n",
    "                    // Advance the Traversal Node to the Next Node\n",
    "                    currentNode = currentNode.NextNode;\n",
    "\n",
    "                }\n",
    "\n",
    "\n",
    "                // After all that,\n",
    "                // we have now arrived at our desired Node index,\n",
    "                // return the current node's element\n",
    "                return currentNode.Element;\n",
    "\n",
    "            }\n",
    "\n",
    "\n",
    "            // Should there be an error, \n",
    "            // it's sure to be that the specified index is out of range.\n",
    "            // which, in the case of a linked list, \n",
    "            // causes a NullReferenceException,\n",
    "            // so provide an appropriate exception which generates a \n",
    "            // message to the user, \n",
    "            // and return the given type's default equivalent to null\n",
    "            // in order to indicate that the operation has failed\n",
    "            catch ( NullReferenceException nre )\n",
    "            {\n",
    "                Console.WriteLine(\n",
    "                    $\"Index: {index} is invalid\\n\\n\"\n",
    "                    +\n",
    "                    $\"Stack Trace: {nre.StackTrace}\"\n",
    "                );\n",
    "\n",
    "                return default(T);\n",
    "            }\n",
    "\n",
    "        }\n",
    " \n",
    "\n",
    "        set\n",
    "        {\n",
    "\n",
    "            // Try to assign the given value at the specified index,\n",
    "            // proceeding cautiously in the event that the given index\n",
    "            // could possibly be out of the boundaries of the Array\n",
    "            try\n",
    "            {\n",
    "\n",
    "                // Instantiate a Traversal Node at the head of the List\n",
    "                ListNode currentNode = this.head;\n",
    "                \n",
    "\n",
    "                // Iterating For every node position until the specified Index:\n",
    "                for( int i = 0; i < index; i++ )\n",
    "                {\n",
    "\n",
    "                    // Advance the Traversal Node to the Next Node\n",
    "                    currentNode = currentNode.NextNode;\n",
    "\n",
    "                }\n",
    "\n",
    "\n",
    "                // After all that,\n",
    "                // we have now arrived at our desired Node index,\n",
    "                // assign the specified value to the current node's element\n",
    "                currentNode.Element = value;\n",
    "\n",
    "            }\n",
    "\n",
    "\n",
    "            // Should there be an error, \n",
    "            // it's sure to be that the specified index is out of range.\n",
    "            // which, in the case of a linked list, \n",
    "            // causes a NullReferenceException,\n",
    "            // so provide an appropriate exception which generates a \n",
    "            // message to the user\n",
    "            catch ( NullReferenceException nre )\n",
    "            {\n",
    "                Console.WriteLine(\n",
    "                    $\"Index: {index} is invalid\\n\\n\"\n",
    "                    +\n",
    "                    $\"Stack Trace: {nre.StackTrace}\"\n",
    "                );\n",
    "            }\n",
    "\n",
    "        }\n",
    "    }\n",
    "    //--------------------------------------------------------------------------\n",
    "\n",
    "\n",
    "    // CONSTRUCTOR -------------------------------------------------------------\n",
    "    public DynamicList()\n",
    "    {\n",
    "        this.head = null;\n",
    "        this.tail = null;\n",
    "        this.nodeCount = 0;\n",
    "    }\n",
    "    //--------------------------------------------------------------------------\n",
    "\n",
    "\n",
    "    // METHODS -----------------------------------------------------------------\n",
    "    //------------------------- I N S E R T I O N ------------------------------\n",
    "    // Remove the specified node from the list of nodes\n",
    "    private void InsertListNode( ListNode nodeToShift, ListNode prevNode, T element )\n",
    "    {\n",
    "        \n",
    "        // First, we create a new node holding the specified element value\n",
    "        ListNode newNode = new ListNode( element );\n",
    "\n",
    "\n",
    "        // If we detect that the specified previous node is empty:\n",
    "        if ( prevNode == null )\n",
    "        {\n",
    "\n",
    "            // then we must have the case where we are inserting at the head,\n",
    "            // so we first point the new node's next element to the head\n",
    "            newNode.NextNode = nodeToShift;\n",
    "\n",
    "\n",
    "            // We then shift the old head node over by one position  \n",
    "            nodeToShift = nodeToShift.NextNode;\n",
    "\n",
    "\n",
    "            // Lastly, we redesignate the new node as the new head\n",
    "            this.head = newNode;\n",
    "\n",
    "        }\n",
    "\n",
    "\n",
    "        // Additionally,\n",
    "        // If the node to be shifted is in fact the tail:\n",
    "        else if( object.ReferenceEquals( nodeToShift, this.tail ) ) \n",
    "        {\n",
    "\n",
    "            // Simply Add the new node to the end of list\n",
    "            Add( element );\n",
    "\n",
    "\n",
    "            // But we must be mindful to decrement the nodeCount\n",
    "            // to account for the additional incrementation\n",
    "            // which occurs during the Add() method\n",
    "            this.nodeCount--;\n",
    "\n",
    "        } \n",
    "\n",
    "\n",
    "        // Otherwise,\n",
    "        // the node to shift is some intermediate Node\n",
    "        // residing after the head, up to, but NOT including the tail:\n",
    "        else \n",
    "        {\n",
    "\n",
    "            // Point the new node's next element to the node to shift\n",
    "            newNode.NextNode = nodeToShift;\n",
    "\n",
    "\n",
    "            // Shift the specified node to shift over by one positon\n",
    "            nodeToShift = nodeToShift.NextNode;\n",
    "\n",
    "\n",
    "            // Point the previous node's next element to the new node\n",
    "            prevNode.NextNode = newNode;\n",
    "\n",
    "        }\n",
    "\n",
    "    }\n",
    "    //--------------------------------------------------------------------------\n",
    "    // Add a new node to the end of the list\n",
    "    public void Add( T element )\n",
    "    {\n",
    "\n",
    "        // If the head of the list is empty:\n",
    "        if( this.head == null )\n",
    "        {\n",
    "\n",
    "            // Create a new List node holding the specified element's value \n",
    "            this.head = new ListNode( element );\n",
    "\n",
    "\n",
    "            // Since there's only one Node,\n",
    "            // point the Node's tail back to it's head\n",
    "            this.tail = this.head; \n",
    "\n",
    "        }\n",
    "\n",
    "\n",
    "        // Otherwise,\n",
    "        // The list is not empty:\n",
    "        else\n",
    "        {\n",
    "\n",
    "            // Append to the list a new Node \n",
    "            // holding the specified element's value,\n",
    "            // designating the current tail as the previous Node\n",
    "            ListNode newNode = new ListNode( element, this.tail );\n",
    "\n",
    "\n",
    "            // Point the tail back to the new node\n",
    "            this.tail = newNode;\n",
    "\n",
    "        }\n",
    "\n",
    "\n",
    "        // Increment the node count to reflect the new Node\n",
    "        this.nodeCount++;\n",
    "\n",
    "    }\n",
    "    //--------------------------------------------------------------------------\n",
    "    // Insert a new element at the specified node index\n",
    "    public void InsertAt( int indexToInsertAt, T element )\n",
    "    {\n",
    "\n",
    "        // Try to remove the desired node using the specified index,\n",
    "        // proceeding cautiously in the event that the given index\n",
    "        // could possibly be out of the boundaries contained by the List\n",
    "        try\n",
    "        {\n",
    "            \n",
    "            // Initialize a counter to track the current index\n",
    "            // over the node traversal\n",
    "            int currentIndex = 0;\n",
    "\n",
    "\n",
    "            // Instantiate a Leading Traversal Node \n",
    "            // initially pointing to the head of the list\n",
    "            ListNode leadingNode = this.head;\n",
    "\n",
    "\n",
    "            // Set up Trailing Traversal Node \n",
    "            // which will follow behind the Leading Traversal node\n",
    "            ListNode trailingNode = null;\n",
    "\n",
    "\n",
    "            // Iterating While the current index is still less than\n",
    "            // the index to remove at:\n",
    "            while( currentIndex < indexToInsertAt )\n",
    "            {\n",
    "\n",
    "                // Point the trailing node at leading Node\n",
    "                trailingNode = leadingNode;\n",
    "\n",
    "\n",
    "                // Point the leading node to it's next node\n",
    "                leadingNode = leadingNode.NextNode;\n",
    "\n",
    "\n",
    "                // Increment the current index\n",
    "                currentIndex++;\n",
    "\n",
    "            }\n",
    "\n",
    "\n",
    "            // After all that,\n",
    "            // we have arrived at the desired node index\n",
    "\n",
    "\n",
    "            // Remove the discovered element from the list of nodes\n",
    "            InsertListNode( leadingNode, trailingNode, element );\n",
    "\n",
    "\n",
    "            // Increment the node count to reflect the new Node\n",
    "            this.nodeCount++;\n",
    "\n",
    "        }\n",
    "\n",
    "\n",
    "        // Should there be an error, \n",
    "        // it's sure to be that the specified index is out of range.\n",
    "        // so provide an appropriate exception which generates a \n",
    "        // message to the user, \n",
    "        // and return the given type's default equivalent to null\n",
    "        // in order to indicate that the operation has failed\n",
    "        catch ( NullReferenceException nre )\n",
    "        {\n",
    "            Console.WriteLine(\n",
    "                $\"Index: {indexToInsertAt} is invalid\\n\\n\"\n",
    "                +\n",
    "                $\"Stack Trace: {nre.StackTrace}\"       \n",
    "            );\n",
    "        }  \n",
    "    }\n",
    "    //--------------------------------------------------------------------------\n",
    "    //--------------------------- S E A R C H ----------------------------------\n",
    "    // Search for a given element in the list, returning it's index if found,\n",
    "    // or else -1 if not found\n",
    "    public int IndexOf( T element )\n",
    "    {\n",
    "\n",
    "        // Initialize a counter to track the index over the Node Traversal\n",
    "        int currentIndex = 0;\n",
    "\n",
    "\n",
    "        // Instantiate a Traversal Node at the head of the List\n",
    "        ListNode currentNode = this.head;\n",
    "\n",
    "\n",
    "        // Iterating While the Traversal Node is \n",
    "        // still within bounds of the list:\n",
    "        while( currentNode != null )\n",
    "        {\n",
    "\n",
    "            // If it is determined that the Traversal Node's element value\n",
    "            // is equivalent to the specified element value:\n",
    "            if( object.Equals( currentNode.Element, element ) )\n",
    "            {\n",
    "\n",
    "                // We have found our desired element,\n",
    "                // return the index at which it was found\n",
    "                return currentIndex;\n",
    "\n",
    "            }\n",
    "\n",
    "\n",
    "            // point the Traversal Node to it's next node\n",
    "            currentNode = currentNode.NextNode;\n",
    "\n",
    "\n",
    "            // Increment the current index\n",
    "            currentIndex++;\n",
    "\n",
    "        }\n",
    "\n",
    "\n",
    "        // After all that,\n",
    "        // we can now assume that the specified element value\n",
    "        // was not found in the list\n",
    "        // so we must return -1 to indicate as such\n",
    "        return -1;\n",
    "\n",
    "    }\n",
    "    //--------------------------------------------------------------------------\n",
    "    // Return a True or False concerning whether the specified element can be \n",
    "    // found to exist in the list\n",
    "    public bool Contains( T element )\n",
    "    {\n",
    "\n",
    "        // Search for the Index belonging to the first occurence \n",
    "        // of the specified element and return it if found,\n",
    "        // or else return -1, should no such element be found to exist.\n",
    "        // Then, return a True or False value corresponsive to that result\n",
    "        return ( IndexOf( element ) != 1 );\n",
    "\n",
    "    }  \n",
    "    //------------------------ D E L E T I O N ---------------------------------\n",
    "    // Remove the specified node from the list of nodes\n",
    "    private void RemoveListNode( ListNode targetNode, ListNode prevNode )\n",
    "    {\n",
    "        \n",
    "        // If, by decrementing the node count, \n",
    "        // we find that the node count is equal to 0:\n",
    "        if( (--this.nodeCount) == 0 )\n",
    "        {\n",
    "\n",
    "            // Then we know the list is empty,\n",
    "            // so we must remove the head and tail of the list accordingly\n",
    "            this.head = null; \n",
    "            this.tail = null;\n",
    "\n",
    "        }\n",
    "\n",
    "\n",
    "        // Conversely,\n",
    "        // should the node count be higher than zero,\n",
    "        // but we detect that the specified previous node is empty:\n",
    "        else if ( prevNode == null )\n",
    "        {\n",
    "\n",
    "            // Then we must have the case where the head node was removed,\n",
    "            // so we must update the head node accordingly\n",
    "            // with a reference to it's next node\n",
    "            this.head = targetNode.NextNode;\n",
    "\n",
    "        }\n",
    "\n",
    "\n",
    "        // Otherwise,\n",
    "        // the target node could be some intermediate Node\n",
    "        // residing in between the head and the tail:\n",
    "        else\n",
    "        {\n",
    "\n",
    "            // In that case, uncouple the target node by redirecting \n",
    "            // it's previous and next node pointers, respectively\n",
    "            prevNode.NextNode = targetNode.NextNode;\n",
    "\n",
    "        }\n",
    "\n",
    "\n",
    "        // Lastly,\n",
    "        // If it is the case that the target node is the tail:\n",
    "        if( object.ReferenceEquals(targetNode, this.tail) )\n",
    "        {\n",
    "\n",
    "            // Then we must designate the specified previous node\n",
    "            // as being the new tail of the list\n",
    "            this.tail = prevNode;\n",
    "\n",
    "        } \n",
    "\n",
    "    }\n",
    "    //--------------------------------------------------------------------------\n",
    "    // Remove the node and return the element at the specified index.\n",
    "    public T RemoveAt( int indexToRemoveAt )\n",
    "    {\n",
    "\n",
    "        // Try to remove the desired node using the specified index,\n",
    "        // proceeding cautiously in the event that the given index\n",
    "        // could possibly be out of the boundaries contained by the List\n",
    "        try\n",
    "        {\n",
    "            \n",
    "            // Initialize a counter to track the current index\n",
    "            // over the node traversal\n",
    "            int currentIndex = 0;\n",
    "\n",
    "\n",
    "            // Instantiate a Leading Traversal Node \n",
    "            // initially pointing to the head of the list\n",
    "            ListNode leadingNode = this.head;\n",
    "\n",
    "\n",
    "            // Set up Trailing Traversal Node \n",
    "            // which will follow behind the Leading Traversal node\n",
    "            ListNode trailingNode = null;\n",
    "\n",
    "\n",
    "            // Iterating While the current index is still less than\n",
    "            // the index to remove at:\n",
    "            while( currentIndex < indexToRemoveAt )\n",
    "            {\n",
    "\n",
    "                // Point the trailing node at leading Node\n",
    "                trailingNode = leadingNode;\n",
    "\n",
    "\n",
    "                // Point the leading node to it's next node\n",
    "                leadingNode = leadingNode.NextNode;\n",
    "\n",
    "\n",
    "                // Increment the current index\n",
    "                currentIndex++;\n",
    "\n",
    "            }\n",
    "\n",
    "\n",
    "            // After all that,\n",
    "            // we have discovered the node which we were searching for \n",
    "\n",
    "\n",
    "            // Remove the discovered element from the list of nodes\n",
    "            RemoveListNode( leadingNode, trailingNode );\n",
    "\n",
    "\n",
    "            // return the element of the node we just removed\n",
    "            return leadingNode.Element;\n",
    "\n",
    "        }\n",
    "\n",
    "\n",
    "        // Should there be an error, \n",
    "        // it's sure to be that the specified index is out of range.\n",
    "        // so provide an appropriate exception which generates a \n",
    "        // message to the user, \n",
    "        // and return the given type's default equivalent to null\n",
    "        // in order to indicate that the operation has failed\n",
    "        catch ( NullReferenceException nre )\n",
    "        {\n",
    "            Console.WriteLine(\n",
    "                $\"Index: {indexToRemoveAt} is invalid\\n\\n\"\n",
    "                +\n",
    "                $\"Stack Trace: {nre.StackTrace}\"       \n",
    "            );\n",
    "\n",
    "            return default(T);\n",
    "        }  \n",
    "    }\n",
    "    //--------------------------------------------------------------------------\n",
    "    // Remove the specified element and return it's index, \n",
    "    // or else -1 if no such element exists in the list\n",
    "    public int Remove( T element )\n",
    "    {\n",
    "\n",
    "        // Initialize a counter to track the current index\n",
    "        // over the node traversal\n",
    "        int currentIndex = 0;\n",
    "\n",
    "\n",
    "        // Instantiate a Leading Traversal Node \n",
    "        // initially pointing to the head of the list\n",
    "        ListNode leadingNode = this.head;\n",
    "\n",
    "\n",
    "        // Set up Trailing Traversal Node \n",
    "        // which will follow behind the Leading Traversal node\n",
    "        ListNode trailingNode = null;\n",
    "\n",
    "\n",
    "        // Iterating While the leading node is still within bounds of the list:\n",
    "        while( leadingNode != null )\n",
    "        {\n",
    "\n",
    "            // If we determine that the leading node's Element\n",
    "            // is equivalent to the specified element:\n",
    "            if( object.Equals( leadingNode.Element, element ) )\n",
    "            {\n",
    "\n",
    "                // break out of the loop\n",
    "                break;\n",
    "\n",
    "            }\n",
    "\n",
    "\n",
    "            // Point the trailing node at leading Node\n",
    "            trailingNode = leadingNode;\n",
    "\n",
    "\n",
    "            // Point the leading node to it's next node\n",
    "            leadingNode = leadingNode.NextNode;\n",
    "\n",
    "\n",
    "            // Increment the current index\n",
    "            currentIndex++;\n",
    "\n",
    "        }\n",
    "\n",
    "\n",
    "        // After all that,\n",
    "        // we have discovered the node which we were searching for\n",
    "        \n",
    "\n",
    "        // If it is still, at this point, \n",
    "        // not the case the the leading node \n",
    "        // is no longer within the bounds of the list\n",
    "        if( leadingNode != null )\n",
    "        {\n",
    "\n",
    "            // Remove the discovered element from the list of nodes\n",
    "            RemoveListNode( leadingNode, trailingNode );\n",
    "\n",
    "\n",
    "            // return the index of the node we just removed\n",
    "            return currentIndex;\n",
    "\n",
    "        }\n",
    "\n",
    "\n",
    "        // Oterwise,\n",
    "        // we may assume that the element was not found\n",
    "        else\n",
    "        {\n",
    "\n",
    "            // return -1 to indicate as such\n",
    "            return -1;\n",
    "\n",
    "        }\n",
    " \n",
    "    }\n",
    "    //--------------------------------------------------------------------------\n",
    "    // Delete the entire list, and reset the node count to 0\n",
    "    public void Clear()\n",
    "    {\n",
    "\n",
    "        // Disconnect the head of the List\n",
    "        this.head = null;\n",
    "\n",
    "\n",
    "        // Disconnect the tail of the List\n",
    "        this.tail = null;\n",
    "\n",
    "\n",
    "        // Reset the node count to 0\n",
    "        this.nodeCount = 0;\n",
    "\n",
    "    }\n",
    "    //--------------------------------------------------------------------------\n",
    "    //--------------------------- U T I L I T Y --------------------------------\n",
    "    // Print the current state of the the list\n",
    "    public void PrintList()\n",
    "    {\n",
    "\n",
    "        // Iterating For every node index up until \n",
    "        // the second to last element represented by the node count:\n",
    "        for( int nodeIndex = 0; nodeIndex < this.NodeCount - 1; nodeIndex++ ) \n",
    "        {\n",
    "\n",
    "            // Print the node element at the current node index,\n",
    "            // along with a left-facing arrow, \n",
    "            // in order to simulate the structure of the list\n",
    "            Console.Write( $\"{ this[ nodeIndex ] } -> \" );\n",
    "\n",
    "        }\n",
    "\n",
    "        // After all that,\n",
    "        // We've printed each node element except for the last\n",
    "        // so let's now print the last node element without an arrow\n",
    "        Console.Write( this[ NodeCount - 1 ] );\n",
    "        \n",
    "    }\n",
    "    //--------------------------------------------------------------------------\n",
    "\n",
    "}"
   ]
  },
  {
   "attachments": {},
   "cell_type": "markdown",
   "metadata": {},
   "source": [
    "<br>"
   ]
  },
  {
   "attachments": {},
   "cell_type": "markdown",
   "metadata": {},
   "source": [
    "#### Instantiation and Example Usage"
   ]
  },
  {
   "attachments": {},
   "cell_type": "markdown",
   "metadata": {},
   "source": [
    "So let's now demonstrate some of the `DynamicList` features that we have defined above.  \n",
    "\n",
    "First we instantiate a new `DynamicList` object, which will consist of `int` types for this implementation, and thereby refered to as our `linkedIntegerlist`:"
   ]
  },
  {
   "cell_type": "code",
   "execution_count": null,
   "metadata": {
    "dotnet_interactive": {
     "language": "csharp"
    },
    "polyglot_notebook": {
     "kernelName": "csharp"
    },
    "vscode": {
     "languageId": "polyglot-notebook"
    }
   },
   "outputs": [],
   "source": [
    "DynamicList <int> linkedIntegerList = new DynamicList <int> ();"
   ]
  },
  {
   "cell_type": "code",
   "execution_count": null,
   "metadata": {
    "dotnet_interactive": {
     "language": "csharp"
    },
    "polyglot_notebook": {
     "kernelName": "csharp"
    },
    "vscode": {
     "languageId": "polyglot-notebook"
    }
   },
   "outputs": [],
   "source": [
    "linkedIntegerList"
   ]
  },
  {
   "attachments": {},
   "cell_type": "markdown",
   "metadata": {},
   "source": [
    "<br>"
   ]
  },
  {
   "attachments": {},
   "cell_type": "markdown",
   "metadata": {},
   "source": [
    "let's now populate our `linkedIntegerList` instance with consecutive integers ranging from $1$ to $7$ by appending each to the end of the list:"
   ]
  },
  {
   "cell_type": "code",
   "execution_count": null,
   "metadata": {
    "dotnet_interactive": {
     "language": "csharp"
    },
    "polyglot_notebook": {
     "kernelName": "csharp"
    },
    "vscode": {
     "languageId": "polyglot-notebook"
    }
   },
   "outputs": [],
   "source": [
    "foreach( int consecutiveInteger in new int[]{ 1, 2, 3, 4, 5, 6, 7 } )\n",
    "{\n",
    "    linkedIntegerList.Add( consecutiveInteger );\n",
    "}"
   ]
  },
  {
   "cell_type": "code",
   "execution_count": null,
   "metadata": {
    "dotnet_interactive": {
     "language": "csharp"
    },
    "polyglot_notebook": {
     "kernelName": "csharp"
    },
    "vscode": {
     "languageId": "polyglot-notebook"
    }
   },
   "outputs": [],
   "source": [
    "linkedIntegerList"
   ]
  },
  {
   "cell_type": "code",
   "execution_count": null,
   "metadata": {
    "dotnet_interactive": {
     "language": "csharp"
    },
    "polyglot_notebook": {
     "kernelName": "csharp"
    },
    "vscode": {
     "languageId": "polyglot-notebook"
    }
   },
   "outputs": [],
   "source": [
    "linkedIntegerList.PrintList();"
   ]
  },
  {
   "attachments": {},
   "cell_type": "markdown",
   "metadata": {},
   "source": [
    "<br>"
   ]
  },
  {
   "attachments": {},
   "cell_type": "markdown",
   "metadata": {},
   "source": [
    "Now that we have a fully populated our `linkedIntegerList`, let's now insert the value $99$ at $index\\,3$:"
   ]
  },
  {
   "cell_type": "code",
   "execution_count": null,
   "metadata": {
    "dotnet_interactive": {
     "language": "csharp"
    },
    "polyglot_notebook": {
     "kernelName": "csharp"
    },
    "vscode": {
     "languageId": "polyglot-notebook"
    }
   },
   "outputs": [],
   "source": [
    "linkedIntegerList.InsertAt( 3, 99 );"
   ]
  },
  {
   "cell_type": "code",
   "execution_count": null,
   "metadata": {
    "dotnet_interactive": {
     "language": "csharp"
    },
    "polyglot_notebook": {
     "kernelName": "csharp"
    },
    "vscode": {
     "languageId": "polyglot-notebook"
    }
   },
   "outputs": [],
   "source": [
    "linkedIntegerList"
   ]
  },
  {
   "cell_type": "code",
   "execution_count": null,
   "metadata": {
    "dotnet_interactive": {
     "language": "csharp"
    },
    "polyglot_notebook": {
     "kernelName": "csharp"
    },
    "vscode": {
     "languageId": "polyglot-notebook"
    }
   },
   "outputs": [],
   "source": [
    "linkedIntegerList.PrintList();"
   ]
  },
  {
   "attachments": {},
   "cell_type": "markdown",
   "metadata": {},
   "source": [
    "<br>"
   ]
  },
  {
   "attachments": {},
   "cell_type": "markdown",
   "metadata": {},
   "source": [
    "Now, let's add that same value at the head of the list, which resides at $index\\,0$:"
   ]
  },
  {
   "cell_type": "code",
   "execution_count": null,
   "metadata": {
    "dotnet_interactive": {
     "language": "csharp"
    },
    "polyglot_notebook": {
     "kernelName": "csharp"
    },
    "vscode": {
     "languageId": "polyglot-notebook"
    }
   },
   "outputs": [],
   "source": [
    "linkedIntegerList.InsertAt( 0, 99 );"
   ]
  },
  {
   "cell_type": "code",
   "execution_count": null,
   "metadata": {
    "dotnet_interactive": {
     "language": "csharp"
    },
    "polyglot_notebook": {
     "kernelName": "csharp"
    },
    "vscode": {
     "languageId": "polyglot-notebook"
    }
   },
   "outputs": [],
   "source": [
    "linkedIntegerList"
   ]
  },
  {
   "cell_type": "code",
   "execution_count": null,
   "metadata": {
    "dotnet_interactive": {
     "language": "csharp"
    },
    "polyglot_notebook": {
     "kernelName": "csharp"
    },
    "vscode": {
     "languageId": "polyglot-notebook"
    }
   },
   "outputs": [],
   "source": [
    "linkedIntegerList.PrintList();"
   ]
  },
  {
   "attachments": {},
   "cell_type": "markdown",
   "metadata": {},
   "source": [
    "<br>"
   ]
  },
  {
   "attachments": {},
   "cell_type": "markdown",
   "metadata": {},
   "source": [
    "We can also add that same value at the tail of the list, residing at the $({NodeCount - 1)}^{th}\\,index$:"
   ]
  },
  {
   "cell_type": "code",
   "execution_count": null,
   "metadata": {
    "dotnet_interactive": {
     "language": "csharp"
    },
    "polyglot_notebook": {
     "kernelName": "csharp"
    },
    "vscode": {
     "languageId": "polyglot-notebook"
    }
   },
   "outputs": [],
   "source": [
    "linkedIntegerList.InsertAt( (linkedIntegerList.NodeCount - 1), 99 );"
   ]
  },
  {
   "cell_type": "code",
   "execution_count": null,
   "metadata": {
    "dotnet_interactive": {
     "language": "csharp"
    },
    "polyglot_notebook": {
     "kernelName": "csharp"
    },
    "vscode": {
     "languageId": "polyglot-notebook"
    }
   },
   "outputs": [],
   "source": [
    "linkedIntegerList"
   ]
  },
  {
   "cell_type": "code",
   "execution_count": null,
   "metadata": {
    "dotnet_interactive": {
     "language": "csharp"
    },
    "polyglot_notebook": {
     "kernelName": "csharp"
    },
    "vscode": {
     "languageId": "polyglot-notebook"
    }
   },
   "outputs": [],
   "source": [
    "linkedIntegerList.PrintList();"
   ]
  },
  {
   "attachments": {},
   "cell_type": "markdown",
   "metadata": {},
   "source": [
    "<br>"
   ]
  },
  {
   "attachments": {},
   "cell_type": "markdown",
   "metadata": {},
   "source": [
    "That sure is alot of duplicate values, let's go ahead and delete the first occurence of the stuff we just inserted by referencing it's element value.\n",
    "    \n",
    "Observe that, upon doing so, the index at which the occurence was deleted will be returned:"
   ]
  },
  {
   "cell_type": "code",
   "execution_count": null,
   "metadata": {
    "dotnet_interactive": {
     "language": "csharp"
    },
    "polyglot_notebook": {
     "kernelName": "csharp"
    },
    "vscode": {
     "languageId": "polyglot-notebook"
    }
   },
   "outputs": [],
   "source": [
    "linkedIntegerList.Remove( 99 )"
   ]
  },
  {
   "cell_type": "code",
   "execution_count": null,
   "metadata": {
    "dotnet_interactive": {
     "language": "csharp"
    },
    "polyglot_notebook": {
     "kernelName": "csharp"
    },
    "vscode": {
     "languageId": "polyglot-notebook"
    }
   },
   "outputs": [],
   "source": [
    "linkedIntegerList"
   ]
  },
  {
   "cell_type": "code",
   "execution_count": null,
   "metadata": {
    "dotnet_interactive": {
     "language": "csharp"
    },
    "polyglot_notebook": {
     "kernelName": "csharp"
    },
    "vscode": {
     "languageId": "polyglot-notebook"
    }
   },
   "outputs": [],
   "source": [
    "linkedIntegerList.PrintList();"
   ]
  },
  {
   "attachments": {},
   "cell_type": "markdown",
   "metadata": {},
   "source": [
    "<br>"
   ]
  },
  {
   "attachments": {},
   "cell_type": "markdown",
   "metadata": {},
   "source": [
    "Now let's delete the last occurrence of the stuff we just inserted by referencing it's node index.\n",
    "   \n",
    "Observe that, upon doing so, the node element value which was deleted at the specified index will be returned:"
   ]
  },
  {
   "cell_type": "code",
   "execution_count": null,
   "metadata": {
    "dotnet_interactive": {
     "language": "csharp"
    },
    "polyglot_notebook": {
     "kernelName": "csharp"
    },
    "vscode": {
     "languageId": "polyglot-notebook"
    }
   },
   "outputs": [],
   "source": [
    "linkedIntegerList.RemoveAt( linkedIntegerList.NodeCount - 1 )"
   ]
  },
  {
   "cell_type": "code",
   "execution_count": null,
   "metadata": {
    "dotnet_interactive": {
     "language": "csharp"
    },
    "polyglot_notebook": {
     "kernelName": "csharp"
    },
    "vscode": {
     "languageId": "polyglot-notebook"
    }
   },
   "outputs": [],
   "source": [
    "linkedIntegerList"
   ]
  },
  {
   "cell_type": "code",
   "execution_count": null,
   "metadata": {
    "dotnet_interactive": {
     "language": "csharp"
    },
    "polyglot_notebook": {
     "kernelName": "csharp"
    },
    "vscode": {
     "languageId": "polyglot-notebook"
    }
   },
   "outputs": [],
   "source": [
    "linkedIntegerList.PrintList();"
   ]
  },
  {
   "attachments": {},
   "cell_type": "markdown",
   "metadata": {},
   "source": [
    "<br>"
   ]
  },
  {
   "attachments": {},
   "cell_type": "markdown",
   "metadata": {},
   "source": [
    "Suppose our memory isn't so good, and we don't know if we got them all or not, so let's now search for any remaining stuff that we inserted:"
   ]
  },
  {
   "cell_type": "code",
   "execution_count": null,
   "metadata": {
    "dotnet_interactive": {
     "language": "csharp"
    },
    "polyglot_notebook": {
     "kernelName": "csharp"
    },
    "vscode": {
     "languageId": "polyglot-notebook"
    }
   },
   "outputs": [],
   "source": [
    "// Is there any more occurrences of the value 99 in the list?\n",
    "linkedIntegerList.Contains( 99 )"
   ]
  },
  {
   "cell_type": "code",
   "execution_count": null,
   "metadata": {
    "dotnet_interactive": {
     "language": "csharp"
    },
    "polyglot_notebook": {
     "kernelName": "csharp"
    },
    "vscode": {
     "languageId": "polyglot-notebook"
    }
   },
   "outputs": [],
   "source": [
    "// At which index of the list does the value 99 occur?\n",
    "linkedIntegerList.IndexOf( 99 )"
   ]
  },
  {
   "attachments": {},
   "cell_type": "markdown",
   "metadata": {},
   "source": [
    "<br>"
   ]
  },
  {
   "attachments": {},
   "cell_type": "markdown",
   "metadata": {},
   "source": [
    "Finally, let's delete the whole list and reset the node count back to 0:"
   ]
  },
  {
   "cell_type": "code",
   "execution_count": null,
   "metadata": {
    "dotnet_interactive": {
     "language": "csharp"
    },
    "polyglot_notebook": {
     "kernelName": "csharp"
    },
    "vscode": {
     "languageId": "polyglot-notebook"
    }
   },
   "outputs": [],
   "source": [
    "linkedIntegerList.Clear();"
   ]
  },
  {
   "cell_type": "code",
   "execution_count": null,
   "metadata": {
    "dotnet_interactive": {
     "language": "csharp"
    },
    "polyglot_notebook": {
     "kernelName": "csharp"
    },
    "vscode": {
     "languageId": "polyglot-notebook"
    }
   },
   "outputs": [],
   "source": [
    "linkedIntegerList"
   ]
  }
 ],
 "metadata": {
  "kernelspec": {
   "display_name": ".NET (C#)",
   "language": "C#",
   "name": ".net-csharp"
  },
  "language_info": {
   "file_extension": ".cs",
   "mimetype": "text/x-csharp",
   "name": "C#",
   "pygments_lexer": "csharp",
   "version": "8.0"
  },
  "polyglot_notebook": {
   "kernelInfo": {
    "defaultKernelName": "csharp",
    "items": [
     {
      "aliases": [],
      "name": "csharp"
     }
    ]
   }
  }
 },
 "nbformat": 4,
 "nbformat_minor": 2
}
