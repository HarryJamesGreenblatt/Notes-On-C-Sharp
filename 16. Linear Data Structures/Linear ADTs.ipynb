{
 "cells": [
  {
   "attachments": {},
   "cell_type": "markdown",
   "metadata": {
    "dotnet_interactive": {
     "language": "csharp"
    },
    "polyglot_notebook": {
     "kernelName": "csharp"
    }
   },
   "source": [
    "# 16. Linear Data Stuctures"
   ]
  },
  {
   "attachments": {},
   "cell_type": "markdown",
   "metadata": {
    "dotnet_interactive": {
     "language": "csharp"
    },
    "polyglot_notebook": {
     "kernelName": "csharp"
    }
   },
   "source": [
    "## Linear Abstract Data Types\n",
    "---"
   ]
  },
  {
   "attachments": {},
   "cell_type": "markdown",
   "metadata": {
    "dotnet_interactive": {
     "language": "csharp"
    },
    "polyglot_notebook": {
     "kernelName": "csharp"
    }
   },
   "source": [
    "### What is an **Abstract Data Type** (**ADT**)"
   ]
  },
  {
   "attachments": {},
   "cell_type": "markdown",
   "metadata": {
    "dotnet_interactive": {
     "language": "csharp"
    },
    "polyglot_notebook": {
     "kernelName": "csharp"
    }
   },
   "source": [
    "In general, **abstract data types** (**ADT**) gives us a **definition** (**abstraction**) of the specific structure, i.e. **defines the allowed operations and properties**, without being interested in the specific implementation. This allows an **abstract data type** to have several different implementations and respectively different efficiency."
   ]
  },
  {
   "attachments": {},
   "cell_type": "markdown",
   "metadata": {
    "dotnet_interactive": {
     "language": "csharp"
    },
    "polyglot_notebook": {
     "kernelName": "csharp"
    }
   },
   "source": [
    "<br>"
   ]
  },
  {
   "attachments": {},
   "cell_type": "markdown",
   "metadata": {
    "dotnet_interactive": {
     "language": "csharp"
    },
    "polyglot_notebook": {
     "kernelName": "csharp"
    }
   },
   "source": [
    "### The \"List\" ADT"
   ]
  },
  {
   "attachments": {},
   "cell_type": "markdown",
   "metadata": {
    "dotnet_interactive": {
     "language": "csharp"
    },
    "polyglot_notebook": {
     "kernelName": "csharp"
    }
   },
   "source": [
    "<table style=\"margin-left: auto; margin-right: auto;\">\n",
    "    <tr>\n",
    "        <th>\n",
    "            Static (Array-Based)\n",
    "        </th>\n",
    "        <th>\n",
    "            Dynamic (Linked)\n",
    "        </th>\n",
    "    </tr>\n",
    "    <tr>\n",
    "        <td  style=\"border: none;\"><img src=\"_img/ArrayBasedList.png\" style=\"width: 400px;\"></img></td>\n",
    "        <td style=\"border: none;\"><img src=\"_img/LinkedList.png\" style=\"width: 580px;\"></img></td>\n",
    "    </tr>\n",
    "</table>"
   ]
  },
  {
   "attachments": {},
   "cell_type": "markdown",
   "metadata": {
    "dotnet_interactive": {
     "language": "csharp"
    },
    "polyglot_notebook": {
     "kernelName": "csharp"
    }
   },
   "source": [
    "#### Introducing the `System.Collections.IList` Interface"
   ]
  },
  {
   "attachments": {},
   "cell_type": "markdown",
   "metadata": {
    "dotnet_interactive": {
     "language": "csharp"
    },
    "polyglot_notebook": {
     "kernelName": "csharp"
    }
   },
   "source": [
    "Interfaces in $C\\#$ construct a frame (contract) for their implementations – classes.    \n",
    "   \n",
    "This contract consists of **a set of methods and properties**, which\n",
    "each class must implement in order to implement the interface."
   ]
  },
  {
   "attachments": {},
   "cell_type": "markdown",
   "metadata": {
    "dotnet_interactive": {
     "language": "csharp"
    },
    "polyglot_notebook": {
     "kernelName": "csharp"
    }
   },
   "source": [
    "Each **ADT** defines some interface. Let’s consider the interface `System.Collections.IList`.     \n",
    "The **basic methods** which it defines are:"
   ]
  },
  {
   "attachments": {},
   "cell_type": "markdown",
   "metadata": {
    "dotnet_interactive": {
     "language": "csharp"
    },
    "polyglot_notebook": {
     "kernelName": "csharp"
    }
   },
   "source": [
    "- `int Add(object)` – adds element in the end of the list \n",
    "- `void Insert(int, object)` – adds element on a chosen position in the list\n",
    "- `void Clear()` – removes all elements in the list \n",
    "- `bool Contains(object)` – checks whether the list contains the element \n",
    "- `void Remove(object)` – removes the element from the list \n",
    "- `void RemoveAt(int)` – removes the element on a given position \n",
    "- `int IndexOf(object)` – returns the position of the element \n",
    "- `this[int]` – indexer, allows access to the elements on a set position"
   ]
  },
  {
   "attachments": {},
   "cell_type": "markdown",
   "metadata": {
    "dotnet_interactive": {
     "language": "csharp"
    },
    "polyglot_notebook": {
     "kernelName": "csharp"
    }
   },
   "source": [
    "<br>"
   ]
  },
  {
   "cell_type": "markdown",
   "metadata": {
    "dotnet_interactive": {
     "language": "csharp"
    },
    "polyglot_notebook": {
     "kernelName": "csharp"
    }
   },
   "source": [
    "<br>"
   ]
  },
  {
   "attachments": {},
   "cell_type": "markdown",
   "metadata": {
    "dotnet_interactive": {
     "language": "csharp"
    },
    "polyglot_notebook": {
     "kernelName": "csharp"
    }
   },
   "source": [
    "### The \"Stack\" ADT"
   ]
  },
  {
   "attachments": {},
   "cell_type": "markdown",
   "metadata": {
    "dotnet_interactive": {
     "language": "csharp"
    },
    "polyglot_notebook": {
     "kernelName": "csharp"
    }
   },
   "source": [
    "<table style=\"margin-left: auto; margin-right: auto;\">\n",
    "    <tr>\n",
    "        <th>\n",
    "            Static (Array-based)\n",
    "        </th>\n",
    "        <th>\n",
    "            Dynamic (Linked)\n",
    "        </th>\n",
    "    </tr>\n",
    "    <tr>\n",
    "        <td  style=\"border: none;\"><img src=\"_img/Stack.jpg\" style=\"width: 390px;\"></img></td>\n",
    "        <td style=\"border: none;\"><img src=\"_img/LinkedStack.png\" style=\"width: 500px;\"></img></td>\n",
    "    </tr>\n",
    "</table>"
   ]
  },
  {
   "attachments": {},
   "cell_type": "markdown",
   "metadata": {
    "dotnet_interactive": {
     "language": "csharp"
    },
    "polyglot_notebook": {
     "kernelName": "csharp"
    }
   },
   "source": [
    "In programming the **Stack** is a commonly used data structure used internally by the $.\\,NET$ **virtual machine (CLR)** for keeping the variables of the program and the parameters of the called methods (it is called the **program execution stack**)."
   ]
  },
  {
   "attachments": {},
   "cell_type": "markdown",
   "metadata": {
    "dotnet_interactive": {
     "language": "csharp"
    },
    "polyglot_notebook": {
     "kernelName": "csharp"
    }
   },
   "source": [
    "The **Stack** is a data structure which implements the behavior **\"last in – first out\" (LIFO)**, meaning that Stack elements can be added and removed only via the **top** of the stack.  \n",
    "\n",
    "As such, the **Stack ADT** provides **3 major operations**: \n",
    "- `Push(object)` - add an element at the top of the stack\n",
    "- `Pop()`  - take the last added element from the top of the stack\n",
    "- `peek()` - get the element form the top of the stack without removing it"
   ]
  },
  {
   "attachments": {},
   "cell_type": "markdown",
   "metadata": {
    "dotnet_interactive": {
     "language": "csharp"
    },
    "polyglot_notebook": {
     "kernelName": "csharp"
    }
   },
   "source": [
    "<br>"
   ]
  },
  {
   "cell_type": "markdown",
   "metadata": {
    "dotnet_interactive": {
     "language": "csharp"
    },
    "polyglot_notebook": {
     "kernelName": "csharp"
    }
   },
   "source": [
    "<br>"
   ]
  },
  {
   "attachments": {},
   "cell_type": "markdown",
   "metadata": {
    "dotnet_interactive": {
     "language": "csharp"
    },
    "polyglot_notebook": {
     "kernelName": "csharp"
    }
   },
   "source": [
    "### The \"Queue\" ADT"
   ]
  },
  {
   "attachments": {},
   "cell_type": "markdown",
   "metadata": {
    "dotnet_interactive": {
     "language": "csharp"
    },
    "polyglot_notebook": {
     "kernelName": "csharp"
    }
   },
   "source": [
    "<table style=\"margin-left: auto; margin-right: auto;\">\n",
    "    <tr>\n",
    "        <th>\n",
    "            Static (Array-based)\n",
    "        </th>\n",
    "        <th>\n",
    "            Dynamic (Linked)\n",
    "        </th>\n",
    "    </tr>\n",
    "    <tr>\n",
    "        <td  style=\"border: none;\"><img src=\"_img/Queue.jpg\" style=\"width: 440px;\"></img></td>\n",
    "        <td style=\"border: none;\"><img src=\"_img/LinkedQueue.png\" style=\"width: 450px;\"></img></td>\n",
    "    </tr>\n",
    "</table>"
   ]
  },
  {
   "attachments": {},
   "cell_type": "markdown",
   "metadata": {
    "dotnet_interactive": {
     "language": "csharp"
    },
    "polyglot_notebook": {
     "kernelName": "csharp"
    }
   },
   "source": [
    "The **Queue** is created to model real-world queues, for example a queue of waiting for printing documents, waiting processes to access a common resource, and others. In **Queues** we can **add elements only on the back** and **retrieve elements only at the front**."
   ]
  },
  {
   "attachments": {},
   "cell_type": "markdown",
   "metadata": {
    "dotnet_interactive": {
     "language": "csharp"
    },
    "polyglot_notebook": {
     "kernelName": "csharp"
    }
   },
   "source": [
    "The Queue structure implements the behavior **\"first in – first out\" (FIFO)**.   \n",
    "Elements **added** to the queue are **appended at the end** of the queue, and when elements are **extracted**, they are **taken from the beginning** of the queue (in the order they were added). \n",
    "   \n",
    "Thus the queue behaves like a **list with two ends** (head and tail)."
   ]
  },
  {
   "attachments": {},
   "cell_type": "markdown",
   "metadata": {
    "dotnet_interactive": {
     "language": "csharp"
    },
    "polyglot_notebook": {
     "kernelName": "csharp"
    }
   },
   "source": [
    "As such, the **Queue ADT** provides **3 major operations**: \n",
    "- `Enqueue(object)` - add an element at the top of the Queue\n",
    "- `Dequeue()`  - take the oldest added element from the start of the Queue\n",
    "- `Peek()` - retrieves the older element from the Queue without removing it"
   ]
  }
 ],
 "metadata": {
  "kernelspec": {
   "display_name": ".NET (C#)",
   "language": "C#",
   "name": ".net-csharp"
  },
  "polyglot_notebook": {
   "kernelInfo": {
    "defaultKernelName": "csharp",
    "items": [
     {
      "aliases": [
       "c#",
       "C#"
      ],
      "languageName": "C#",
      "name": "csharp"
     },
     {
      "aliases": [],
      "languageName": null,
      "name": ".NET"
     },
     {
      "aliases": [
       "f#",
       "F#"
      ],
      "languageName": "F#",
      "name": "fsharp"
     },
     {
      "aliases": [],
      "languageName": "HTML",
      "name": "html"
     },
     {
      "aliases": [],
      "languageName": "KQL",
      "name": "kql"
     },
     {
      "aliases": [],
      "languageName": "Mermaid",
      "name": "mermaid"
     },
     {
      "aliases": [
       "powershell"
      ],
      "languageName": "PowerShell",
      "name": "pwsh"
     },
     {
      "aliases": [],
      "languageName": "SQL",
      "name": "sql"
     },
     {
      "aliases": [],
      "languageName": null,
      "name": "value"
     },
     {
      "aliases": [
       "frontend"
      ],
      "languageName": null,
      "name": "vscode"
     },
     {
      "aliases": [
       "js"
      ],
      "languageName": "JavaScript",
      "name": "javascript"
     },
     {
      "aliases": [],
      "name": "webview"
     }
    ]
   }
  }
 },
 "nbformat": 4,
 "nbformat_minor": 2
}
