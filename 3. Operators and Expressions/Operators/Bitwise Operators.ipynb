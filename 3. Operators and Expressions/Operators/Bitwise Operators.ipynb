{
 "cells": [
  {
   "cell_type": "markdown",
   "metadata": {},
   "source": [
    "# 3. Operators and Expressions"
   ]
  },
  {
   "cell_type": "markdown",
   "metadata": {},
   "source": [
    "## Bitwise Operators\n",
    "\n",
    "---"
   ]
  },
  {
   "cell_type": "markdown",
   "metadata": {},
   "source": [
    "Just like the logical operators in C#, there are **bitwise operators**:   \n",
    "\n",
    "<center>\n",
    "\n",
    "|Operator|Action|\n",
    "|:---:|:---:|\n",
    "|`&`|AND|\n",
    "|`\\|`|OR|\n",
    "|`~`|negation|\n",
    "|`^`|eXcluding OR|\n",
    "\n",
    "</center>\n",
    "\n",
    "A **bitwise operator** is an operator that acts on the *binary representation* of numeric types.   \n",
    "  \n",
    "In computers all the data and particularly numerical data is\n",
    "represented as a series of *ones and zeros*.  \n",
    "   \n",
    "The *binary* numeral system is used for this purpose.   \n",
    "\n",
    "For example, number $55$ in the *binary* numeral system\n",
    "is represented as `00110111`."
   ]
  },
  {
   "cell_type": "code",
   "execution_count": null,
   "metadata": {
    "dotnet_interactive": {
     "language": "csharp"
    },
    "vscode": {
     "languageId": "dotnet-interactive.csharp"
    }
   },
   "outputs": [
    {
     "data": {
      "text/plain": [
       "110111"
      ]
     },
     "metadata": {},
     "output_type": "display_data"
    }
   ],
   "source": [
    "Convert.ToString(\n",
    "    int.Parse(\"55\"),\n",
    "    2\n",
    ")"
   ]
  },
  {
   "cell_type": "markdown",
   "metadata": {},
   "source": [
    "The *bitwise operators* performance on *binary digits* `0` and `1` is shown in the following table:\n",
    "\n",
    "|$x$     |$y$    |$~x$   |$x\\;\\&\\;y$  |$x\\;\\|\\;y$  |$x\\;^\\wedge{\\;y}$  |\n",
    "| :---:   | :---:  |:---:   | :---: | :---:   | :---:   |\n",
    "|1  |1 |`0`|`1`  |`1`  |`0`|\n",
    "|1  |0|`0`|`0` |`1`  |`1` |\n",
    "|0 |1 |`1` |`0` |`1`  |`1` |\n",
    "|0 |0|`1` |`0` |`0` |`0`|"
   ]
  },
  {
   "cell_type": "code",
   "execution_count": null,
   "metadata": {
    "dotnet_interactive": {
     "language": "csharp"
    },
    "vscode": {
     "languageId": "dotnet-interactive.csharp"
    }
   },
   "outputs": [
    {
     "name": "stdout",
     "output_type": "stream",
     "text": [
      "7\r\n",
      "1\r\n",
      "6\r\n",
      "4\r\n",
      "6\r\n",
      "12\r\n",
      "1\r\n"
     ]
    }
   ],
   "source": [
    "byte a = 3; // 0000 0011 = 3\n",
    "byte b = 5; // 0000 0101 = 5\n",
    "\n",
    "Console.WriteLine(a | b); // 0000 0111 = 7\n",
    "Console.WriteLine(a & b); // 0000 0001 = 1\n",
    "Console.WriteLine(a ^ b); // 0000 0110 = 6\n",
    "Console.WriteLine(~a & b); // 0000 0100 = 4\n",
    "Console.WriteLine(a << 1); // 0000 0110 = 6\n",
    "Console.WriteLine(a << 2); // 0000 1100 = 12\n",
    "Console.WriteLine(a >> 1); // 0000 0001 = 1\n"
   ]
  },
  {
   "cell_type": "markdown",
   "metadata": {},
   "source": [
    "<br>"
   ]
  },
  {
   "cell_type": "markdown",
   "metadata": {},
   "source": [
    "##### **Similarities to Logical Operators**"
   ]
  },
  {
   "cell_type": "markdown",
   "metadata": {},
   "source": [
    "**Bitwise operators** are very similar to the logical ones.   \n",
    "In fact, we can imagine that the logical and **bitwise operators** perform the *same thing*, but using *different data types*.  \n",
    "   \n",
    "Logical operators work with the values `true` and `false` (Boolean values), while **bitwise operators** work with numerical values\n",
    "and are applied **bitwise** over their *binary representation*, i.e., they work with the **bits** of the number (the digits `0` and `1` of which it consists). "
   ]
  },
  {
   "cell_type": "markdown",
   "metadata": {},
   "source": [
    "<br>"
   ]
  },
  {
   "cell_type": "markdown",
   "metadata": {},
   "source": [
    "##### **Differences from Logical Operators**"
   ]
  },
  {
   "cell_type": "markdown",
   "metadata": {},
   "source": [
    "There are two **bitwise operators** that have no analogue in\n",
    "logical operators.   \n",
    "  \n",
    "These are the *bit shift left* ( `<<` ) and *bit shift right* ( `>>` ).   \n",
    "Used on numerical values, they *move all the bits of the value to the left or right*."
   ]
  },
  {
   "cell_type": "code",
   "execution_count": null,
   "metadata": {
    "dotnet_interactive": {
     "language": "csharp"
    },
    "vscode": {
     "languageId": "dotnet-interactive.csharp"
    }
   },
   "outputs": [
    {
     "data": {
      "text/plain": [
       "11"
      ]
     },
     "metadata": {},
     "output_type": "display_data"
    }
   ],
   "source": [
    "// First, take the number 3, which is 00000011 in binary\n",
    "\n",
    "Convert.ToString(\n",
    "    int.Parse(\"3\"),\n",
    "    2\n",
    ")"
   ]
  },
  {
   "cell_type": "code",
   "execution_count": null,
   "metadata": {
    "dotnet_interactive": {
     "language": "csharp"
    },
    "vscode": {
     "languageId": "dotnet-interactive.csharp"
    }
   },
   "outputs": [
    {
     "data": {
      "text/html": [
       "<div class=\"dni-plaintext\">12</div>"
      ]
     },
     "metadata": {},
     "output_type": "display_data"
    }
   ],
   "source": [
    "// Additionally, by shifting the number 3 to the left by 2 positions \n",
    "// the resulting value is 12 in base 10\n",
    "\n",
    "3 << 2"
   ]
  },
  {
   "cell_type": "code",
   "execution_count": null,
   "metadata": {
    "dotnet_interactive": {
     "language": "csharp"
    },
    "vscode": {
     "languageId": "dotnet-interactive.csharp"
    }
   },
   "outputs": [
    {
     "data": {
      "text/plain": [
       "1100"
      ]
     },
     "metadata": {},
     "output_type": "display_data"
    }
   ],
   "source": [
    "// By converting 12 to binary, we see that it is inddeed the same as 3,\n",
    "// except that the bits simply moved 2 positions to the left\n",
    "\n",
    "Convert.ToString(\n",
    "    int.Parse(\"12\"),\n",
    "    2\n",
    ")"
   ]
  },
  {
   "cell_type": "markdown",
   "metadata": {
    "dotnet_interactive": {
     "language": "csharp"
    }
   },
   "source": [
    "The **bits** that *fall outside the number* are *lost* and *replaced with 0*."
   ]
  },
  {
   "cell_type": "code",
   "execution_count": null,
   "metadata": {
    "dotnet_interactive": {
     "language": "csharp"
    },
    "vscode": {
     "languageId": "dotnet-interactive.csharp"
    }
   },
   "outputs": [
    {
     "name": "stdout",
     "output_type": "stream",
     "text": [
      "Converting the number 6 we have:\t110 in binary\n",
      "\n",
      "Shifting 6, ( 00000110 ), 2 bits to the right, we have:\t1    in base 10,\n",
      "which converts to:\t00000001   in binary\r\n"
     ]
    }
   ],
   "source": [
    "Console.WriteLine(\n",
    "\n",
    "    \"Converting the number 6 we have:\\t\" + \n",
    "\n",
    "    Convert.ToString(\n",
    "        int.Parse(\"6\"),\n",
    "        2\n",
    "    ) + \" in binary\" +\n",
    "\n",
    "    \"\\n\\n\" +\n",
    "\n",
    "    \"Shifting 6, ( 00000110 ), 2 bits to the right, we have:\\t\" +\n",
    "    \n",
    "    $\"{6 >> 2}    in base 10,\\n\" +\n",
    "\n",
    "    \"which converts to:\\t\" +\n",
    "\n",
    "    \"00000001   in binary\"\n",
    "\n",
    ")"
   ]
  }
 ],
 "metadata": {
  "kernelspec": {
   "display_name": ".NET (C#)",
   "language": "C#",
   "name": ".net-csharp"
  },
  "language_info": {
   "file_extension": ".cs",
   "mimetype": "text/x-csharp",
   "name": "C#",
   "pygments_lexer": "csharp",
   "version": "9.0"
  },
  "orig_nbformat": 4
 },
 "nbformat": 4,
 "nbformat_minor": 2
}
