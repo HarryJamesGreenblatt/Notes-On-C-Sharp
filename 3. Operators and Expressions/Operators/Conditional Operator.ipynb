{
 "cells": [
  {
   "cell_type": "markdown",
   "metadata": {},
   "source": [
    "# 3. Operators and Expressions"
   ]
  },
  {
   "cell_type": "markdown",
   "metadata": {},
   "source": [
    "## Conditional Operator `?:`\n",
    "---"
   ]
  },
  {
   "cell_type": "markdown",
   "metadata": {},
   "source": [
    "The **conditional operator** `?:` uses the *Boolean value* of an expression to determine *which of two other expressions must be returned as a result*.   \n",
    "\n",
    "The operator works on **three operands** and that is why it is called\n",
    "**ternary** operator.   \n",
    "  \n",
    "The character `?` is placed *between the first and second operand*,   \n",
    "and `:` is placed *between the second and third operand*.  \n",
    "- The *first operand* (or expression) must be `bool` type, and the *next two operands* must be of the *same type*, such as numbers or strings."
   ]
  },
  {
   "cell_type": "markdown",
   "metadata": {},
   "source": [
    "The operator `?:` has the following syntax:\n",
    "   \n",
    "$$\\text{operand1 \\,?\\,\\, operand2 \\,:\\,\\, operand3}"
   ]
  },
  {
   "cell_type": "code",
   "execution_count": null,
   "metadata": {
    "dotnet_interactive": {
     "language": "csharp"
    },
    "vscode": {
     "languageId": "dotnet-interactive.csharp"
    }
   },
   "outputs": [
    {
     "data": {
      "text/plain": [
       "1 is less than or equal to 2"
      ]
     },
     "metadata": {},
     "output_type": "display_data"
    }
   ],
   "source": [
    "bool operand1 = (1 <= 2);\n",
    "\n",
    "string operand2 = \"1 is less than or equal to 2\";\n",
    "string operand3 = \"1 is not less than or equal to 2\";\n",
    "\n",
    "operand1 ? operand2 : operand3"
   ]
  }
 ],
 "metadata": {
  "kernelspec": {
   "display_name": ".NET (C#)",
   "language": "C#",
   "name": ".net-csharp"
  },
  "language_info": {
   "file_extension": ".cs",
   "mimetype": "text/x-csharp",
   "name": "C#",
   "pygments_lexer": "csharp",
   "version": "9.0"
  },
  "orig_nbformat": 4
 },
 "nbformat": 4,
 "nbformat_minor": 2
}
