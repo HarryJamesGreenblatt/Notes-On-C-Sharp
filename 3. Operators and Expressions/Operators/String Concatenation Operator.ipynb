{
 "cells": [
  {
   "cell_type": "markdown",
   "metadata": {},
   "source": [
    "# 3. Operators and Expressions"
   ]
  },
  {
   "cell_type": "markdown",
   "metadata": {},
   "source": [
    "## Operator for Concatenation of Strings\n",
    "\n",
    "---"
   ]
  },
  {
   "cell_type": "markdown",
   "metadata": {},
   "source": [
    "The operator `+` is used to **join strings**.  \n",
    "It **concatenates** (joins) two or more strings and *returns the result as a new* `string`.   \n",
    "\n",
    "If at least one of the arguments in the expression is of type `string`, and there are *other operands* of type different from `string`, they will be *automatically converted* to type `string`, which allows successful **string concatenation**."
   ]
  },
  {
   "cell_type": "code",
   "execution_count": null,
   "metadata": {
    "dotnet_interactive": {
     "language": "csharp"
    }
   },
   "outputs": [
    {
     "data": {
      "text/plain": [
       "Use the concat operator (+) to join an independent string with some additional independent string."
      ]
     },
     "metadata": {},
     "output_type": "display_data"
    }
   ],
   "source": [
    "string firstString  = \"an independent string\",\n",
    "       secondString = \"some additional independent string\";\n",
    "\n",
    "\n",
    "\"Use the concat operator (+) to join \" + \n",
    "firstString + \" with \" + secondString + \".\""
   ]
  }
 ],
 "metadata": {
  "kernelspec": {
   "display_name": ".NET (C#)",
   "language": "C#",
   "name": ".net-csharp"
  },
  "language_info": {
   "file_extension": ".cs",
   "mimetype": "text/x-csharp",
   "name": "C#",
   "pygments_lexer": "csharp",
   "version": "9.0"
  },
  "orig_nbformat": 4
 },
 "nbformat": 4,
 "nbformat_minor": 2
}
