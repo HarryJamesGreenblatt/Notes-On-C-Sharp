{
 "cells": [
  {
   "cell_type": "markdown",
   "metadata": {},
   "source": [
    "# 3. Operators and Expressions"
   ]
  },
  {
   "cell_type": "markdown",
   "metadata": {},
   "source": [
    "## Exercises\n",
    "---\n",
    "---"
   ]
  },
  {
   "cell_type": "markdown",
   "metadata": {},
   "source": [
    "#### $1$. Write an **expression** that checks whether an *integer* is *odd* or *even*."
   ]
  },
  {
   "cell_type": "markdown",
   "metadata": {},
   "source": [
    "> Observe that an **even integer** may be verified as such by using the following syntax:   \n",
    "> \n",
    "> ```c#\n",
    "> some_int_value % 2 == 0\n",
    "> ```\n",
    "> \n",
    "> should this value return `true`, then the value is **even**."
   ]
  },
  {
   "cell_type": "markdown",
   "metadata": {},
   "source": [
    "> $Consequently$,   \n",
    "> We may check the *evenness* or *oddness* of any random *integer* as follows:"
   ]
  },
  {
   "cell_type": "code",
   "execution_count": null,
   "metadata": {
    "dotnet_interactive": {
     "language": "csharp"
    }
   },
   "outputs": [
    {
     "name": "stdout",
     "output_type": "stream",
     "text": [
      "-890965167 is odd.\r\n"
     ]
    }
   ],
   "source": [
    "// Generate a random integer value\n",
    "\n",
    "Random rand = new Random();\n",
    "int random_integer = rand.Next(int.MinValue, int.MaxValue);\n",
    "\n",
    "\n",
    "// Assess whether the random value is odd or even\n",
    "\n",
    "bool   even          = random_integer % 2 == 0;\n",
    "string determination = even ? \"even\" : \"odd\";\n",
    "\n",
    "Console.WriteLine($\"{random_integer} is {determination}.\");"
   ]
  },
  {
   "cell_type": "markdown",
   "metadata": {},
   "source": [
    "---"
   ]
  },
  {
   "cell_type": "markdown",
   "metadata": {},
   "source": [
    "#### $2$. Write a **Boolean expression** that checks whether a given *integer* is *divisible* by *both 5 and 7*, without a remainder."
   ]
  },
  {
   "cell_type": "markdown",
   "metadata": {},
   "source": [
    "> Observe that an **integer which is divisible by both 5 and 7** may be verified as such by using the following syntax:   \n",
    "> \n",
    "> ```c#\n",
    "> (some_int_value % 5 == 0) && (some_int_value % 7 == 0)\n",
    "> ```\n",
    "> \n",
    "> Should this value return `true`, then the value is in fact **divisible by both 5 and 7**."
   ]
  },
  {
   "cell_type": "markdown",
   "metadata": {},
   "source": [
    "> $Consequently$,   \n",
    "> We may check the **divisibility by both five and 7** of any random *integer* as follows:"
   ]
  },
  {
   "cell_type": "code",
   "execution_count": null,
   "metadata": {
    "dotnet_interactive": {
     "language": "csharp"
    }
   },
   "outputs": [
    {
     "name": "stdout",
     "output_type": "stream",
     "text": [
      "719404056 is NOT divisible by both 5 and 7.\r\n"
     ]
    }
   ],
   "source": [
    "// Generate a random integer value\n",
    "\n",
    "Random rand = new Random();\n",
    "int random_integer = rand.Next(int.MinValue, int.MaxValue);\n",
    "\n",
    "\n",
    "// Assess whether the random value is divisible by both 5 and 7\n",
    "\n",
    "bool   divisibleByBothFiveAndSeven = (\n",
    "    (random_integer % 5 == 0) && (random_integer % 7 == 0)\n",
    ");\n",
    "\n",
    "string determination = divisibleByBothFiveAndSeven ? \"IS\" : \"is NOT\";\n",
    "\n",
    "Console.WriteLine(\n",
    "    $\"{random_integer} {determination} divisible by both 5 and 7.\"\n",
    ");"
   ]
  },
  {
   "cell_type": "markdown",
   "metadata": {},
   "source": [
    "---"
   ]
  },
  {
   "cell_type": "markdown",
   "metadata": {},
   "source": [
    "#### $3$. Write an **expression** that looks for a given *integer* **if** its *third digit (right to left)* is *7*."
   ]
  },
  {
   "cell_type": "markdown",
   "metadata": {},
   "source": [
    "> Observe that, since the `string` type is a *reference type*,   \n",
    ">  \n",
    "> if any `string` contains *at least 3 digits*, then it's *third digit (right to left)* may be evaluated using the following syntax:   \n",
    "> ```c#\n",
    "> some_string[ some_string.Length - 4 ];\n",
    "> ```"
   ]
  },
  {
   "cell_type": "markdown",
   "metadata": {},
   "source": [
    "> $Consequently$,   \n",
    "> We may determine the **third character index from the right** of any random *integer* as follows:"
   ]
  },
  {
   "cell_type": "code",
   "execution_count": null,
   "metadata": {
    "dotnet_interactive": {
     "language": "csharp"
    }
   },
   "outputs": [
    {
     "data": {
      "text/html": [
       "<div class=\"dni-plaintext\">v</div>"
      ]
     },
     "metadata": {},
     "output_type": "display_data"
    }
   ],
   "source": [
    "string anyStringWithAtLeast3Characters = \"Whatever\";\n",
    "\n",
    "int thirdIndexFromTheRight = anyStringWithAtLeast3Characters.Length - 3;\n",
    "\n",
    "// this should select the character 'v'\n",
    "anyStringWithAtLeast3Characters[ thirdIndexFromTheRight ]"
   ]
  },
  {
   "cell_type": "markdown",
   "metadata": {},
   "source": [
    "---"
   ]
  },
  {
   "cell_type": "markdown",
   "metadata": {},
   "source": [
    "#### $4$. Write an **expression** that checks whether the *third bit* in a given *integer* is $1$ or $0$."
   ]
  },
  {
   "cell_type": "markdown",
   "metadata": {},
   "source": [
    "> Let a `random_integer` represent a some *given integer value*.  \n",
    ">\n",
    "> Since it is required to *check the individual bits* of the *integer* value,  \n",
    "> it must first be converted to a `binary_representation`,  which may be accomplished using the following implementation:  \n",
    ">\n",
    "> ```c#\n",
    "> Convert.ToString(\n",
    ">     int.Parse{$\"{random_integer}\"}\n",
    ">     2\n",
    "> );\n",
    "> ```"
   ]
  },
  {
   "cell_type": "markdown",
   "metadata": {},
   "source": [
    "> $Additionally$,\n",
    ">   \n",
    "> due to the `binary_representation` having been *converted to a `string` type*,  \n",
    "> the *third bit* is accessible for verification via the following syntax:   \n",
    "> ```c#\n",
    "> binary_representation[ binary_representation.Length - 3 ]\n",
    "> ```\n",
    "> Where `binary_representation.Length - 3` represents the *third least significant bit*, as required. "
   ]
  },
  {
   "cell_type": "markdown",
   "metadata": {},
   "source": [
    "> $\\textit{As Such}$,   \n",
    "> The *third binary digit* of a given *integer* value can be determined as follows:\n"
   ]
  },
  {
   "cell_type": "code",
   "execution_count": null,
   "metadata": {
    "dotnet_interactive": {
     "language": "csharp"
    }
   },
   "outputs": [
    {
     "name": "stdout",
     "output_type": "stream",
     "text": [
      "The third binary digit of -1435753511::base10, 10101010011011000010001111011001::base2,  is 0.\r\n"
     ]
    }
   ],
   "source": [
    "// Generate a random integer value\n",
    "\n",
    "Random rand = new Random();\n",
    "int random_integer = rand.Next(int.MinValue, int.MaxValue);\n",
    "\n",
    "\n",
    "// Convert the given integer value to a string representation of it's binary value\n",
    "\n",
    "string binary_representation = Convert.ToString(\n",
    "    int.Parse($\"{random_integer}\"),\n",
    "    2\n",
    ");\n",
    "\n",
    "\n",
    "// Access the third digit of the string representing the binary value\n",
    "\n",
    "char third_digit = binary_representation[ binary_representation.Length - 3 ];\n",
    "\n",
    "\n",
    "// Report whether it was determined to be either 0 or 1\n",
    "\n",
    "if( third_digit == '1')\n",
    "    Console.WriteLine(\n",
    "        $\"The third binary digit of {random_integer}::base10, {binary_representation}::base2,  is 1.\"\n",
    "    );\n",
    "\n",
    "else  \n",
    "    Console.WriteLine(\n",
    "        $\"The third binary digit of {random_integer}::base10, {binary_representation}::base2,  is 0.\"\n",
    "    );"
   ]
  },
  {
   "cell_type": "markdown",
   "metadata": {},
   "source": [
    "---"
   ]
  },
  {
   "cell_type": "markdown",
   "metadata": {},
   "source": [
    "#### $5$. Write a series of expressions that calculate the *area of a trapezoid* by given *sides* *`a`*, *`b`* and *height* *`h`*."
   ]
  },
  {
   "cell_type": "markdown",
   "metadata": {},
   "source": [
    "> $from:\\,\\,\\,\\,\\,\\,\\,$ [Math.net](https://www.math.net/area-of-a-trapezoid) \n",
    ">\n",
    "> The *area of a trapezoid* is the space contained within its perimeter.  \n",
    ">    \n",
    "> The **grey space** is the **area of the trapezoid**:    \n",
    "> \n",
    "> <center>\n",
    "> \n",
    "> ![youfukkeduup](https://www.math.net/img/a/geometry/area-and-perimeter/area-of-a-trapezoid/area-of-a-trapezoid.png)\n",
    "> \n",
    "> </center>\n",
    "> \n",
    "> $\\textit{As Such}$,\n",
    ">\n",
    "> The *area*, *A*, of a trapezoid is:\n",
    "> \n",
    "> $$A = \\frac{1}{2}h(b_1 + b_2)$$\n",
    "> \n",
    "> $\\small{\\text{where } h\\text{ is the height and }b_1 \\text{ and } b_2 \\text{ are the base lengths.}}$\n",
    "> \n",
    "> <center>\n",
    "> \n",
    "> ![youfukkedup](https://www.math.net/img/a/geometry/area-and-perimeter/area-of-a-trapezoid/trapezoid-area.png)\n",
    "> \n",
    "> </center>"
   ]
  },
  {
   "cell_type": "markdown",
   "metadata": {},
   "source": [
    "> $Consequently$,  \n",
    "> The following is a series of expressions which calculate the **area of a trapezoid**."
   ]
  },
  {
   "cell_type": "code",
   "execution_count": null,
   "metadata": {
    "dotnet_interactive": {
     "language": "csharp"
    }
   },
   "outputs": [
    {
     "name": "stdout",
     "output_type": "stream",
     "text": [
      "The area of a trapezoid with   h = 10,  a = 3,  and  b = 7  is  50.\r\n"
     ]
    }
   ],
   "source": [
    "// Generate random integer values for h, a , and b\n",
    "\n",
    "Random rand = new Random();\n",
    "\n",
    "int h = rand.Next(1, 11);\n",
    "int a = rand.Next(1, 12);\n",
    "int b = rand.Next(1, 13);\n",
    "\n",
    "\n",
    "\n",
    "// Calculate and print the area of the trapezoid having these random dimensions\n",
    "\n",
    "double area_of_a_trapezoid =  ( h * (a + b) ) / 2;\n",
    "\n",
    "Console.WriteLine(\n",
    "    $\"The area of a trapezoid with   h = {h},  a = {a},  and  b = {b}  is  {area_of_a_trapezoid}.\"\n",
    ");"
   ]
  },
  {
   "cell_type": "markdown",
   "metadata": {},
   "source": [
    "---"
   ]
  },
  {
   "cell_type": "markdown",
   "metadata": {},
   "source": [
    "#### $6$. Write a series of expressions that calculate the *area* and *perimeter* of a rectangle by given *sides* *`l`* and *`w`*."
   ]
  },
  {
   "cell_type": "markdown",
   "metadata": {},
   "source": [
    "<style>\n",
    "    td{\n",
    "        border: none !important;\n",
    "    }\n",
    "</style>\n",
    "\n",
    "<table>\n",
    "<tbody>\n",
    "<tr>\n",
    "<td>\n",
    "\n",
    "> $from:\\,\\,\\,\\,\\,\\,\\,$ [Math.net](https://www.math.net/perimeter-of-a-rectangle) \n",
    ">\n",
    "> The *perimeter* of a rectangle is the *sum of the lengths* of all of its *sides*:\n",
    ">\n",
    "> <center>\n",
    "> \n",
    "> ![youfukkeduup](https://www.math.net/img/a/geometry/area-and-perimeter/perimeter-of-a-rectangle/perimeter-of-a-rectangle.png)\n",
    "> \n",
    "> </center>\n",
    "> \n",
    "> $\\textit{As Such}$,\n",
    ">\n",
    "> The *perimeter* of a rectangle may be calculated as follows:\n",
    "> \n",
    "> $$P = 2l + 2w$$\n",
    "</td>\n",
    "<td>\n",
    "\n",
    "> $from:\\,\\,\\,\\,\\,\\,\\,$ [Math.net](https://www.math.net/area-of-a-rectangle) \n",
    ">\n",
    "> The *area of a rectangle* is the space contained within its perimeter.  \n",
    ">    \n",
    "> The **grey space** is the **area of the rectangle**:    \n",
    "> \n",
    "> <center>\n",
    "> \n",
    "> ![youfukkeduup](https://www.math.net/img/a/geometry/area-and-perimeter/area-of-a-rectangle/area-of-a-rectangle.png)\n",
    "> \n",
    "> </center>\n",
    "> \n",
    "> $\\textit{As Such}$,\n",
    ">\n",
    "> The *area*, *A*, of a rectangle is the *product of its length, `l`, and width, `w`*:\n",
    "> \n",
    "> $$A = l \\times w$$\n",
    "> \n",
    "> <center>\n",
    "> \n",
    "> ![youfukkedup](https://www.math.net/img/a/geometry/area-and-perimeter/area-of-a-rectangle/area-formula.png)\n",
    "> \n",
    "> </center>\n",
    "</td>\n",
    "</tr>\n",
    "</tbody>\n",
    "</table>"
   ]
  },
  {
   "cell_type": "markdown",
   "metadata": {},
   "source": [
    "> $Consequently$,  \n",
    "> The following is a series of expressions which calculate the **area** and the **perimeter** of a *rectangle*."
   ]
  },
  {
   "cell_type": "code",
   "execution_count": null,
   "metadata": {
    "dotnet_interactive": {
     "language": "csharp"
    }
   },
   "outputs": [
    {
     "name": "stdout",
     "output_type": "stream",
     "text": [
      "The area of a rectangle with  l = 22  and  w = 8  is  176.\n",
      "The perimeter of a rectangle with  l = 22  and  w = 8  is  60.\r\n"
     ]
    }
   ],
   "source": [
    "// Generate random integer values for l and w\n",
    "\n",
    "Random rand = new Random();\n",
    "\n",
    "int l = rand.Next(1, 25);\n",
    "int w = rand.Next(1, 25);\n",
    "\n",
    "\n",
    "\n",
    "// Calculate and print the area and perimeter of a rectangle having these random dimensions\n",
    "\n",
    "double area_of_a_rectangle      =  l * w,\n",
    "       perimeter_of_a_rectangle =  (2*l) + (2*w);\n",
    "\n",
    "Console.WriteLine(\n",
    "    $\"The area of a rectangle with  l = {l}  and  w = {w}  is  {area_of_a_rectangle}.\\n\" +\n",
    "    $\"The perimeter of a rectangle with  l = {l}  and  w = {w}  is  {perimeter_of_a_rectangle}.\" \n",
    ")"
   ]
  },
  {
   "cell_type": "markdown",
   "metadata": {},
   "source": [
    "---"
   ]
  },
  {
   "cell_type": "markdown",
   "metadata": {},
   "source": [
    "#### $7$. The gravitational field of the Moon is approximately $17\\%$ of that on the Earth.   \n",
    "#### Write a program that calculates the weight of a *man on the moon* by a given *weight on the Earth*."
   ]
  },
  {
   "cell_type": "markdown",
   "metadata": {},
   "source": [
    "> Since, on the the Moon, one's wieght is 17% of what it would be on Earth, we have:\n",
    "> \n",
    "> $$Weight_{Moon} = 0.17 \\times Weight_{Earth}$$"
   ]
  },
  {
   "cell_type": "markdown",
   "metadata": {
    "dotnet_interactive": {
     "language": "csharp"
    }
   },
   "source": [
    "> $\\textit{As Such}$,   \n",
    "> the weight of a *man on the moon*, by a given *weight on the Earth*, may be calculated as follows:"
   ]
  },
  {
   "cell_type": "code",
   "execution_count": null,
   "metadata": {
    "dotnet_interactive": {
     "language": "csharp"
    }
   },
   "outputs": [
    {
     "name": "stdout",
     "output_type": "stream",
     "text": [
      "Earth Weight: 133 lbs\n",
      "Moon Weight: 22.61 lbs\r\n"
     ]
    }
   ],
   "source": [
    "// Generate random Earth weight value\n",
    "\n",
    "Random rand = new Random();\n",
    "\n",
    "float earth_weight = rand.Next(90, 250);\n",
    "\n",
    "\n",
    "// Calculate and print Moon weight based on Earth weight \n",
    "\n",
    "\n",
    "float moon_weight =  0.17f * earth_weight;\n",
    "\n",
    "Console.WriteLine(\n",
    "    $\"Earth Weight: {earth_weight} lbs\\nMoon Weight: {moon_weight} lbs\"\n",
    ");"
   ]
  },
  {
   "cell_type": "markdown",
   "metadata": {},
   "source": [
    "---"
   ]
  },
  {
   "cell_type": "markdown",
   "metadata": {},
   "source": [
    "#### $8$. Write an expression that checks for a given point `{x, y}` if it is *within the **circle*** `K({0, 0}`, `R=5)`.   \n",
    "   \n",
    "#### Explanation: the *point* `{0, 0}` is the *center* of the circle and 5 is the *radius*."
   ]
  },
  {
   "cell_type": "markdown",
   "metadata": {},
   "source": [
    "---"
   ]
  },
  {
   "cell_type": "markdown",
   "metadata": {},
   "source": [
    "#### $9$. Write an expression that checks for a given point `{x, y}` if it is *within the **circle*** `K({0, 0}`, `R=5)` and *out of the rectangle* `[{-1, 1}, {5, 5}]`.   \n",
    "   \n",
    "##### Explanation: the *point* `{0, 0}` is the *center* of the circle and 5 is the *radius*.   \n",
    "##### Clarification: for the rectangle the lower left and the upper right corners are given.\n"
   ]
  },
  {
   "cell_type": "markdown",
   "metadata": {},
   "source": [
    "---"
   ]
  },
  {
   "cell_type": "markdown",
   "metadata": {},
   "source": [
    "#### $10$. Write a program that takes as *input* a *four-digit number* in format abcd (e.g. 2011) and performs the following actions:\n",
    "<h4>\n",
    "\n",
    "1. Calculates the sum of the digits (in our example 2+0+1+1 = 4). \n",
    "2. Prints on the console the number in reversed order: dcba (in our example 1102).\n",
    "3. Puts the last digit in the first position: dabc (in our example 1201). \n",
    "4. Exchanges the second and the third digits: acbd (in our example 2101).\n",
    "\n",
    "</h4>"
   ]
  },
  {
   "cell_type": "markdown",
   "metadata": {},
   "source": [
    "##### See [Exercise10.cs (Visual Studio)](./Exercises/UserInputRequired/Exercise10.cs) for solution."
   ]
  },
  {
   "cell_type": "markdown",
   "metadata": {},
   "source": [
    "---"
   ]
  },
  {
   "cell_type": "markdown",
   "metadata": {},
   "source": [
    "#### $11$. We are given a *number `n`* and a *position `p`*.     \n",
    "\n",
    "#### Write a sequence of operations that prints the value of the **bit** on the *position `p`* in the number (`0` or `1`).\n",
    "##### Example: `n`=`35`, `p`=`5` $\\rightarrow$ `1`.    \n",
    "##### Another example: `n`=`35`, `p`=`6` $\\rightarrow$ `0`."
   ]
  },
  {
   "cell_type": "markdown",
   "metadata": {},
   "source": [
    "> $\\textit{Recall from}:\\,\\,\\,\\,$ [Bitwise Operators](../Operators/Bitwise%20Operators.ipynb)   \n",
    ">    \n",
    "> A *number `n`* may be converted to a *`string` type binary representation*  using the following syntax:\n",
    "> ```c#\n",
    "> Convert.ToString(\n",
    ">     int.Parse($\"{n}\"),\n",
    ">     2\n",
    "> );\n",
    "> ```\n",
    "\n",
    "> $Additionally$,  \n",
    "Since no explicit definition of the input conventions are provided, we may assume that *possible input values for *position `p`* start at 0* and that the position grews in value from *left* ( *Most Significant Bit* ) to the *right* ( *Least Significant Bit* ) ."
   ]
  },
  {
   "cell_type": "markdown",
   "metadata": {},
   "source": [
    "> $\\textit{As Such}$,  \n",
    "> We may derive the **binary value** at a *random position `p`* of a *random number `n`* as follows:"
   ]
  },
  {
   "cell_type": "code",
   "execution_count": null,
   "metadata": {
    "dotnet_interactive": {
     "language": "csharp"
    }
   },
   "outputs": [
    {
     "name": "stdout",
     "output_type": "stream",
     "text": [
      "n=8,p=2 -> 0\n",
      "1000\r\n"
     ]
    }
   ],
   "source": [
    "// Generate random integer value for n\n",
    "\n",
    "Random rand = new Random();\n",
    "\n",
    "int n = rand.Next(1, 45);\n",
    "\n",
    "\n",
    "// Convert n to a string type binary representation\n",
    "\n",
    "string binary_representation = Convert.ToString(\n",
    "    int.Parse($\"{n}\"),\n",
    "    2\n",
    ");\n",
    "\n",
    "\n",
    "// Generate a random integer value for p \n",
    "// no larger than the length of binary digits representing n,\n",
    "\n",
    "int p = rand.Next(0, binary_representation.Length - 1);\n",
    "\n",
    "\n",
    "// print the binary digit at position p\n",
    "\n",
    "Console.WriteLine(\n",
    "    $\"n={n},p={p} -> {binary_representation[ p ]}\\n{binary_representation}\"\n",
    ");"
   ]
  },
  {
   "cell_type": "markdown",
   "metadata": {},
   "source": [
    "---"
   ]
  },
  {
   "cell_type": "markdown",
   "metadata": {},
   "source": [
    "#### $12$. Write a `bool` that checks if the **bit** on *position `p`* in the *integer `v`* has the value `1`.   \n",
    "#### Example `v`=`5`, `p`=`1` -> `false`."
   ]
  },
  {
   "cell_type": "markdown",
   "metadata": {},
   "source": [
    "> $\\textit{Recall from}:\\,\\,\\,\\,$ [Bitwise Operators](../Operators/Bitwise%20Operators.ipynb)   \n",
    ">    \n",
    "> A *number `n`* may be converted to a *`string` type binary representation*  using the following syntax:\n",
    "> ```c#\n",
    "> Convert.ToString(\n",
    ">     int.Parse($\"{n}\"),\n",
    ">     2\n",
    "> );\n",
    "> ```\n",
    "\n",
    "> $Additionally$,  \n",
    "Since no explicit definition of the input conventions are provided, we may assume that *possible input values for *position `p`* start at 0*, and that the position grews in value from *left* ( *Most Significant Bit* ) to the *right* ( *Least Significant Bit* ) ."
   ]
  },
  {
   "cell_type": "markdown",
   "metadata": {},
   "source": [
    "> $\\textit{As Such}$,  \n",
    "> We may derive whether the **bit** at a *random position `p`* of a *random integer `v`* has a value of `1` as follows:"
   ]
  },
  {
   "cell_type": "code",
   "execution_count": null,
   "metadata": {
    "dotnet_interactive": {
     "language": "csharp"
    }
   },
   "outputs": [
    {
     "name": "stdout",
     "output_type": "stream",
     "text": [
      "Decimal: 3\n",
      "Binary: 11\n",
      "Digit at position 0 is 1?: True.\r\n"
     ]
    }
   ],
   "source": [
    "// Generate random integer value for v\n",
    "\n",
    "Random rand = new Random();\n",
    "\n",
    "int v = rand.Next(1, 45);\n",
    "\n",
    "\n",
    "// Convert v to a string type binary representation\n",
    "\n",
    "string binary_representation = Convert.ToString(\n",
    "    int.Parse($\"{v}\"),\n",
    "    2\n",
    ");\n",
    "\n",
    "\n",
    "// Generate a random integer value for p \n",
    "// no larger than the length of binary digits representing v,\n",
    "\n",
    "int p = rand.Next(0, binary_representation.Length - 1);\n",
    "\n",
    "\n",
    "// print the binary digit at position p\n",
    "\n",
    "Console.WriteLine(\n",
    "    $\"Decimal: {v}\\n\" +\n",
    "    $\"Binary: {binary_representation}\\n\" +\n",
    "    $\"Digit at position {p} is 1?: {binary_representation[p] == '1'}.\"\n",
    ");"
   ]
  },
  {
   "cell_type": "markdown",
   "metadata": {},
   "source": [
    "---"
   ]
  },
  {
   "cell_type": "markdown",
   "metadata": {},
   "source": [
    "#### $13$. We are given the *number `n`*, the *value v* (v = `0` or `1`) and the *position `p`*.   \n",
    "#### Write a sequence of operations that *changes the value of `n`*, so the **bit** on the *position `p`* has the *value of `v`*.   \n",
    "#### Example: `n`=`35`, `p`=`5,` v=`0 ->` `n`=`3.`   \n",
    "#### Another example: `n`=`35`, `p`=`2,` v=`1 ->` `n`=`39`."
   ]
  },
  {
   "cell_type": "code",
   "execution_count": null,
   "metadata": {
    "dotnet_interactive": {
     "language": "csharp"
    }
   },
   "outputs": [
    {
     "name": "stdout",
     "output_type": "stream",
     "text": [
      "mask:     16  --> binary:  00010000\n",
      "n:        196 --> binary:  11000100\n",
      "\n",
      "00010000\n",
      "11000100\n",
      "    ^\n",
      "    ^\n",
      "position:  4\n",
      "is the value at  position 4  equal to  0 ?   False\r\n"
     ]
    }
   ],
   "source": [
    "\n",
    "// Generate random integer value for n and v\n",
    "\n",
    "Random rand = new Random();\n",
    "\n",
    "int n = rand.Next(1, 255);\n",
    "int v = rand.Next(0, 1);\n",
    "\n",
    "\n",
    "// Convert n to a string type binary representation\n",
    "\n",
    "string binary_representation = Convert.ToString(\n",
    "    int.Parse($\"{n}\"),\n",
    "    2\n",
    ");\n",
    "    \n",
    "    \n",
    "// Generate a random integer value for p \n",
    "// no larger than the length of binary digits representing n,\n",
    "    \n",
    "int p = rand.Next(0, binary_representation.Length - 1);\n",
    "\n",
    "\n",
    "// what number do we get when we\n",
    "// move the 1st bit, 00000001, p positions to the left?\n",
    "int mask = 1 << p;\n",
    "\n",
    "string mask_representation = Convert.ToString(\n",
    "    int.Parse($\"{mask}\"),\n",
    "    2\n",
    ");\n",
    "\n",
    "string spaces = new string('\\u0020', 8 - p ),\n",
    "       paddedBinary = binary_representation.PadLeft(8,'0'),\n",
    "       paddedMask = mask_representation.PadLeft(8,'0');\n",
    "\n",
    "\n",
    "Console.WriteLine(\n",
    "    $\"mask:     {mask}  --> \" +  $\"binary:  {paddedMask}\\n\" + \n",
    "    $\"n:        {n} --> \" +  $\"binary:  {paddedBinary}\\n\\n\" + \n",
    "    $\"{paddedMask}\\n\" +\n",
    "    $\"{paddedBinary}\\n\" +\n",
    "    $\"{spaces}{'^'}\\n\" +\n",
    "    $\"{spaces}{'^'}\\n\" +\n",
    "    $\"position:  {p}\\n\" + \n",
    "    $\"is the value at  position {p}  equal to  {v} ?   {((n & mask) != 0 ? true : false)}\"\n",
    ");"
   ]
  }
 ],
 "metadata": {
  "kernelspec": {
   "display_name": ".NET (C#)",
   "language": "C#",
   "name": ".net-csharp"
  },
  "language_info": {
   "file_extension": ".cs",
   "mimetype": "text/x-csharp",
   "name": "C#",
   "pygments_lexer": "csharp",
   "version": "9.0"
  },
  "orig_nbformat": 4
 },
 "nbformat": 4,
 "nbformat_minor": 2
}
