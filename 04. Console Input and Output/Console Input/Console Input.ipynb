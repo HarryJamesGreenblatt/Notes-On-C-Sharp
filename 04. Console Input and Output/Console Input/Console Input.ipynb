{
 "cells": [
  {
   "cell_type": "markdown",
   "metadata": {},
   "source": [
    "# 4. Console Input and Output"
   ]
  },
  {
   "cell_type": "markdown",
   "metadata": {},
   "source": [
    "## Console Input\n",
    "---"
   ]
  },
  {
   "cell_type": "markdown",
   "metadata": {
    "dotnet_interactive": {
     "language": "csharp"
    }
   },
   "source": [
    "Each programming language has a mechanism for reading and writing to the console.   \n",
    "   \n",
    "The object that controls the *standard input* stream in C#, is `Console.In`.\n",
    "   \n",
    "From the console we can *read different data*: \n",
    "- *text*\n",
    "- *other types* after parsing the text\n",
    "      \n",
    "The class `Console` provides *three methods*: \n",
    "1. `Console.Read(...)` \n",
    "2. `Console.ReadLine(...)`\n",
    "3. `Console.ReadKey(...)`"
   ]
  },
  {
   "cell_type": "markdown",
   "metadata": {},
   "source": [
    "<br>"
   ]
  },
  {
   "cell_type": "markdown",
   "metadata": {},
   "source": [
    "#### **`Console.Read()`**"
   ]
  },
  {
   "cell_type": "markdown",
   "metadata": {},
   "source": [
    "$from\\,\\,$ [Microsoft Docs | Console.Read Method](https://docs.microsoft.com/en-us/dotnet/api/system.console.read?view=net-6.0#definition):   \n",
    "\n",
    "\n",
    "Reads the next *character* from the standard input stream.\n",
    "\n",
    "   \n",
    "- *Returns*:  $\\,\\,$ `Int32`    \n",
    "  \n",
    "  The next character from the input stream,    \n",
    "  or negative one (`-1`) if there are currently no more characters to be read."
   ]
  },
  {
   "cell_type": "markdown",
   "metadata": {},
   "source": [
    "<center>\n",
    "\n",
    "*See* $\\,\\,$ [userInput.cs](./userInputRequired/userInput.cs) $\\,\\,$ *and it's subclass*, $\\,\\,$ [username_parsed_with_Read.cs ](./userInputRequired/username_parsed_with_Read.cs),$\\,\\,$   \n",
    "*for a more detailed example*\n",
    "</center>"
   ]
  },
  {
   "cell_type": "markdown",
   "metadata": {},
   "source": [
    "<br>"
   ]
  },
  {
   "cell_type": "markdown",
   "metadata": {},
   "source": [
    "#### **`Console.ReadLine()`**"
   ]
  },
  {
   "cell_type": "markdown",
   "metadata": {},
   "source": [
    "$from\\,\\,$ [Microsoft Docs | Console.ReadLine Method](https://docs.microsoft.com/en-us/dotnet/api/system.console.readline?view=net-6.0#definition):   \n",
    "\n",
    "Reads the next *line of characters* from the standard input stream.\n",
    "   \n",
    "- *Returns*:  $\\,\\,$ `string`    \n",
    "  \n",
    "  The next line of characters from the input stream,    \n",
    "  or `null` if no more lines are available."
   ]
  },
  {
   "cell_type": "markdown",
   "metadata": {},
   "source": [
    "<center>\n",
    "\n",
    "*See* $\\,\\,$ [userInput.cs](./userInputRequired/userInput.cs) $\\,\\,$ *and it's subclass*, $\\,\\,$ [username_retrieved_with_ReadLine.cs ](./userInputRequired/username_retrieved_with_ReadLine.cs),$\\,\\,$   \n",
    "*for a more detailed example*\n",
    "</center>"
   ]
  },
  {
   "cell_type": "markdown",
   "metadata": {},
   "source": [
    "<br>"
   ]
  },
  {
   "cell_type": "markdown",
   "metadata": {},
   "source": [
    "#### **`Console.ReadKey()`**"
   ]
  },
  {
   "cell_type": "markdown",
   "metadata": {},
   "source": [
    "$from\\,\\,$ [Microsoft Docs | Console.ReadKey Method](https://docs.microsoft.com/en-us/dotnet/api/system.console.readkey?view=net-6.0):   \n",
    "\n",
    "Obtains the next *character* or *function key* pressed by the user.<br>The pressed key is displayed in the console window."
   ]
  },
  {
   "cell_type": "markdown",
   "metadata": {},
   "source": [
    "|Overload|\n",
    "|:--:|\n",
    "|[ReadKey()](https://docs.microsoft.com/en-us/dotnet/api/system.console.readkey?view=net-6.0#system-console-readkey)|\n",
    "|[ReadKey( Boolean )](https://docs.microsoft.com/en-us/dotnet/api/system.console.readkey?view=net-6.0#system-console-readkey(system-boolean))|"
   ]
  },
  {
   "cell_type": "markdown",
   "metadata": {},
   "source": [
    "*Returns*   \n",
    "[ConsoleKeyInfo](https://docs.microsoft.com/en-us/dotnet/api/system.consolekeyinfo?view=net-6.0)\n",
    "\n",
    "An object that describes the [ConsoleKey](https://docs.microsoft.com/en-us/dotnet/api/system.consolekey?view=net-6.0) constant and Unicode character, if any, that correspond to the pressed console key.   \n",
    "   \n",
    "The `ConsoleKeyInfo` object also describes, in a bitwise combination of [ConsoleModifiers](https://docs.microsoft.com/en-us/dotnet/api/system.consolemodifiers?view=net-6.0) values,   \n",
    "whether one or more `Shift`, `Alt`, or `Ctrl` modifier keys was pressed simultaneously with the console key."
   ]
  },
  {
   "cell_type": "markdown",
   "metadata": {},
   "source": [
    "<center>\n",
    "\n",
    "*See* $\\,\\,$ [userInput.cs](./userInputRequired/userInput.cs) $\\,\\,$ *and it's subclass*, $\\,\\,$ [key_input_retrieved_from_user.cs](./userInputRequired/key_input_retrieved_from_user.cs),$\\,\\,$   \n",
    "*for a more detailed example*\n",
    "</center>"
   ]
  },
  {
   "cell_type": "markdown",
   "metadata": {},
   "source": [
    "<br>"
   ]
  },
  {
   "cell_type": "markdown",
   "metadata": {},
   "source": [
    "#### **Reading  Numbers**\n"
   ]
  },
  {
   "cell_type": "markdown",
   "metadata": {},
   "source": [
    "Reading numbers from the console in C# **is not done directly**.   \n",
    "   \n",
    "In order to read a number, we should have previously *read the input as a* `string` *(using `ReadLine()`)*,   \n",
    "and then *convert this* `string` *to a number*. "
   ]
  },
  {
   "cell_type": "markdown",
   "metadata": {},
   "source": [
    "<center>\n",
    "\n",
    "*See* $\\,\\,$ [userInput.cs](./userInputRequired/userInput.cs) $\\,\\,$ and it's subclass, $\\,\\,$ [numeric_inputs_retrieved_from_user.cs ](./userInputRequired/numeric_inputs_retrieved_from_user.cs),$\\,\\,$   \n",
    "*for a more detailed example*\n",
    "</center>"
   ]
  },
  {
   "cell_type": "markdown",
   "metadata": {},
   "source": [
    "The operation of *converting* a `string` into *another type* is called **parsing**.  \n",
    "*All primitive types* have methods for **parsing**."
   ]
  },
  {
   "cell_type": "code",
   "execution_count": null,
   "metadata": {
    "dotnet_interactive": {
     "language": "csharp"
    },
    "vscode": {
     "languageId": "dotnet-interactive.csharp"
    }
   },
   "outputs": [
    {
     "data": {
      "text/html": [
       "<span><a href=\"https://docs.microsoft.com/dotnet/api/system.int32?view=net-5.0\">System.Int32</a></span>"
      ]
     },
     "metadata": {},
     "output_type": "display_data"
    }
   ],
   "source": [
    "// parse the string \"5\" as a number\n",
    "\n",
    "Int32.Parse(\"5\").GetType()"
   ]
  },
  {
   "cell_type": "code",
   "execution_count": null,
   "metadata": {
    "dotnet_interactive": {
     "language": "csharp"
    },
    "vscode": {
     "languageId": "dotnet-interactive.csharp"
    }
   },
   "outputs": [
    {
     "data": {
      "text/html": [
       "<span><a href=\"https://docs.microsoft.com/dotnet/api/system.int32?view=net-5.0\">System.Int32</a></span>"
      ]
     },
     "metadata": {},
     "output_type": "display_data"
    }
   ],
   "source": [
    "// another method of doing the same thing\n",
    "\n",
    "Convert.ToInt32(\"5\").GetType()"
   ]
  },
  {
   "cell_type": "markdown",
   "metadata": {},
   "source": [
    "Note that if a `string` input is determined to be *invalid*, a `System.FormatException` will be thrown:"
   ]
  },
  {
   "cell_type": "code",
   "execution_count": null,
   "metadata": {
    "dotnet_interactive": {
     "language": "csharp"
    },
    "vscode": {
     "languageId": "dotnet-interactive.csharp"
    }
   },
   "outputs": [
    {
     "ename": "Error",
     "evalue": "System.FormatException: Input string was not in a correct format.\r\n   at System.Number.ThrowOverflowOrFormatException(ParsingStatus status, TypeCode type)\r\n   at System.Int32.Parse(String s)\r\n   at Submission#7.<<Initialize>>d__0.MoveNext()\r\n--- End of stack trace from previous location ---\r\n   at Microsoft.CodeAnalysis.Scripting.ScriptExecutionState.RunSubmissionsAsync[TResult](ImmutableArray`1 precedingExecutors, Func`2 currentExecutor, StrongBox`1 exceptionHolderOpt, Func`2 catchExceptionOpt, CancellationToken cancellationToken)",
     "output_type": "error",
     "traceback": [
      "System.FormatException: Input string was not in a correct format.\r\n",
      "   at System.Number.ThrowOverflowOrFormatException(ParsingStatus status, TypeCode type)\r\n",
      "   at System.Int32.Parse(String s)\r\n",
      "   at Submission#7.<<Initialize>>d__0.MoveNext()\r\n",
      "--- End of stack trace from previous location ---\r\n",
      "   at Microsoft.CodeAnalysis.Scripting.ScriptExecutionState.RunSubmissionsAsync[TResult](ImmutableArray`1 precedingExecutors, Func`2 currentExecutor, StrongBox`1 exceptionHolderOpt, Func`2 catchExceptionOpt, CancellationToken cancellationToken)"
     ]
    }
   ],
   "source": [
    "Int32.Parse(\"mango salsa\")"
   ]
  },
  {
   "cell_type": "markdown",
   "metadata": {},
   "source": [
    "##### **Parsing Numbers Conditionally**"
   ]
  },
  {
   "cell_type": "markdown",
   "metadata": {},
   "source": [
    "Sometimes it is necessary to **catch the failed parsing** and to **print an error message**, or to **ask the user to enter in a new value**.   \n",
    "   \n",
    "The method `Int32.TryParse(…)` accepts *two parameters*: \n",
    "- *a parsing `string`*\n",
    "- *a variable to record the result of parsing.* \n",
    "   \n",
    "If the parsing is successful, the method returns value `true`. \n"
   ]
  },
  {
   "cell_type": "code",
   "execution_count": null,
   "metadata": {
    "dotnet_interactive": {
     "language": "csharp"
    },
    "vscode": {
     "languageId": "dotnet-interactive.csharp"
    }
   },
   "outputs": [
    {
     "name": "stdout",
     "output_type": "stream",
     "text": [
      "The square of the 5 is 25.\n",
      "\"Bacon Lettuce Tomato\" is an invalid number!\n",
      "\r\n"
     ]
    }
   ],
   "source": [
    "string five     = \"5\",\n",
    "       sandwich = \"Bacon Lettuce Tomato\";\n",
    "       \n",
    "int intValueFive,\n",
    "    intValueSandwich;\n",
    "\n",
    "bool parseSuccessFive     = Int32.TryParse(five,     out intValueFive);\n",
    "bool parseSuccessSandwich = Int32.TryParse(sandwich, out intValueSandwich);\n",
    "\n",
    "Console.WriteLine(\n",
    "    (\n",
    "        parseSuccessFive \n",
    "        ?\n",
    "        $\"The square of the {five} is \" + intValueFive * intValueFive + \".\\n\" \n",
    "        : \n",
    "        $\"\\\"{five}\\\" is an invalid number!\\n\"\n",
    "    )\n",
    "\n",
    "    +\n",
    "\n",
    "    (\n",
    "        parseSuccessSandwich \n",
    "        ?\n",
    "        $\"The square of the {sandwich} is \" + intValueSandwich * intValueSandwich + \".\\n\" \n",
    "        : \n",
    "        $\"\\\"{sandwich}\\\" is an invalid number!\\n\"\n",
    "    )\n",
    ");"
   ]
  }
 ],
 "metadata": {
  "kernelspec": {
   "display_name": ".NET (C#)",
   "language": "C#",
   "name": ".net-csharp"
  },
  "language_info": {
   "file_extension": ".cs",
   "mimetype": "text/x-csharp",
   "name": "C#",
   "pygments_lexer": "csharp",
   "version": "9.0"
  },
  "orig_nbformat": 4
 },
 "nbformat": 4,
 "nbformat_minor": 2
}
