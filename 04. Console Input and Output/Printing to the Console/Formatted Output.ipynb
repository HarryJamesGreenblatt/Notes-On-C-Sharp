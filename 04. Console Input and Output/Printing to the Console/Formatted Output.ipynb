{
 "cells": [
  {
   "cell_type": "markdown",
   "metadata": {},
   "source": [
    "# 4. Console Input and Output   \n"
   ]
  },
  {
   "cell_type": "markdown",
   "metadata": {},
   "source": [
    "## Printing to the Console:  \n",
    "## *Formatted Output*\n",
    "The methods for formatted output of the `Console` class use the so-called **composite formatting** feature.    \n",
    "- used for *console printing*, as well as in certain *operations with strings*.\n",
    "- The composite formatting uses two things: \n",
    "  - ***composite formatting string***\n",
    "  - *a **series of arguments** placed within designated parts of the string*\n",
    "---"
   ]
  },
  {
   "cell_type": "markdown",
   "metadata": {},
   "source": [
    "### Composite Formatting Strings"
   ]
  },
  {
   "cell_type": "markdown",
   "metadata": {},
   "source": [
    "The ***composite formatting string*** is a *mixture of **normal text** and **formatting items:***\n",
    "<center>\n",
    "\n",
    "```c#\n",
    "Console.Write( \"A mixture of normal text and {0}\", formatting_item );\n",
    "```    \n",
    "</center>\n",
    "   \n",
    "In *formatting*, **formatting items** **`{arg #}`**, are **replaced** by the values of the *respective arguments* and are printed according to certain *rules*.    \n",
    "   \n",
    "These *rules* are specified using the *general syntax of **formatting items***:\n",
    "\n",
    "$$\\left\\{\\,\\,index\\,\\left[,alignment\\right]\\,\\left[:formatString\\right]\\,\\,\\right\\}$$\n"
   ]
  },
  {
   "cell_type": "markdown",
   "metadata": {},
   "source": [
    "#### *Index Component*"
   ]
  },
  {
   "cell_type": "markdown",
   "metadata": {},
   "source": [
    "The *index component* is an ***integer*** and *indicates the **position of the argument** from the argument list*.   \n",
    "   \n",
    "The *first argument* is indicated by `{0}`, the *second* by `{1}`, etc.   \n",
    "   \n",
    "The ***composite formatting string*** allows having *multiple **formatting items*** that relate to one and the same argument. \n",
    "      \n",
    "- In this case index component of these items is one and the same number. \n",
    "   \n",
    "- There is *no restriction on the sequence of arguments*’ calling.   \n",
    "For example, we could use the following **formatting string**:"
   ]
  },
  {
   "cell_type": "code",
   "execution_count": null,
   "metadata": {
    "dotnet_interactive": {
     "language": "csharp"
    },
    "vscode": {
     "languageId": "dotnet-interactive.csharp"
    }
   },
   "outputs": [
    {
     "name": "stdout",
     "output_type": "stream",
     "text": [
      "The Egg came before the Chicken!\n",
      "....Or was it the Chicken that came before the Egg???"
     ]
    }
   ],
   "source": [
    "Console.Write(\n",
    "\n",
    "    \"The {1} came before the {0}!\\n\" +\n",
    "    \"....Or was it the {0} that came before the {1}???\",\n",
    "     \n",
    "    \"Chicken\", \n",
    "    \"Egg\"\n",
    "\n",
    ");"
   ]
  },
  {
   "cell_type": "markdown",
   "metadata": {},
   "source": [
    "In cases where some of the *arguments are not referenced* by any of the **formatting items**, those *arguments are simply ignored* and do not play a role:"
   ]
  },
  {
   "cell_type": "code",
   "execution_count": null,
   "metadata": {
    "dotnet_interactive": {
     "language": "csharp"
    },
    "vscode": {
     "languageId": "dotnet-interactive.csharp"
    }
   },
   "outputs": [
    {
     "name": "stdout",
     "output_type": "stream",
     "text": [
      "Arg #0\n",
      "Arg #1\n",
      "\r\n"
     ]
    }
   ],
   "source": [
    "Console.WriteLine(\n",
    "    \"Arg #{0}\\n\" + \"Arg #{1}\\n\" ,\n",
    "    0,\n",
    "    1,\n",
    "    2\n",
    ");"
   ]
  },
  {
   "cell_type": "markdown",
   "metadata": {},
   "source": [
    "In the opposite case, when a **formatting item** refers to an *argument that does not exist* in the list of arguments, an *`exception` is thrown*:"
   ]
  },
  {
   "cell_type": "code",
   "execution_count": null,
   "metadata": {
    "dotnet_interactive": {
     "language": "csharp"
    },
    "vscode": {
     "languageId": "dotnet-interactive.csharp"
    }
   },
   "outputs": [
    {
     "ename": "Error",
     "evalue": "System.FormatException: Index (zero based) must be greater than or equal to zero and less than the size of the argument list.\r\n   at System.Text.ValueStringBuilder.AppendFormatHelper(IFormatProvider provider, String format, ParamsArray args)\r\n   at System.String.FormatHelper(IFormatProvider provider, String format, ParamsArray args)\r\n   at System.IO.TextWriter.WriteLine(String format, Object arg0, Object arg1)\r\n   at Microsoft.DotNet.Interactive.Utility.ObservableStringWriter.<>n__36(String format, Object arg0, Object arg1)\r\n   at Microsoft.DotNet.Interactive.Utility.ObservableStringWriter.<>c__DisplayClass46_0.<WriteLine>b__0() in D:\\a\\_work\\1\\s\\src\\Microsoft.DotNet.Interactive\\Utility\\ObservableStringWriter.cs:line 290\r\n   at Microsoft.DotNet.Interactive.Utility.ObservableStringWriter.TrackWriteOperation(Action action) in D:\\a\\_work\\1\\s\\src\\Microsoft.DotNet.Interactive\\Utility\\ObservableStringWriter.cs:line 79\r\n   at Microsoft.DotNet.Interactive.Utility.ObservableStringWriter.WriteLine(String format, Object arg0, Object arg1) in D:\\a\\_work\\1\\s\\src\\Microsoft.DotNet.Interactive\\Utility\\ObservableStringWriter.cs:line 290\r\n   at Microsoft.DotNet.Interactive.Utility.MultiplexingTextWriter.WriteLine(String format, Object arg0, Object arg1) in D:\\a\\_work\\1\\s\\src\\Microsoft.DotNet.Interactive\\Utility\\MultiplexingTextWriter.cs:line 276\r\n   at System.IO.TextWriter.SyncTextWriter.WriteLine(String format, Object arg0, Object arg1)\r\n   at System.Console.WriteLine(String format, Object arg0, Object arg1)\r\n   at Submission#13.<<Initialize>>d__0.MoveNext()\r\n--- End of stack trace from previous location ---\r\n   at Microsoft.CodeAnalysis.Scripting.ScriptExecutionState.RunSubmissionsAsync[TResult](ImmutableArray`1 precedingExecutors, Func`2 currentExecutor, StrongBox`1 exceptionHolderOpt, Func`2 catchExceptionOpt, CancellationToken cancellationToken)",
     "output_type": "error",
     "traceback": [
      "System.FormatException: Index (zero based) must be greater than or equal to zero and less than the size of the argument list.\r\n",
      "   at System.Text.ValueStringBuilder.AppendFormatHelper(IFormatProvider provider, String format, ParamsArray args)\r\n",
      "   at System.String.FormatHelper(IFormatProvider provider, String format, ParamsArray args)\r\n",
      "   at System.IO.TextWriter.WriteLine(String format, Object arg0, Object arg1)\r\n",
      "   at Microsoft.DotNet.Interactive.Utility.ObservableStringWriter.<>n__36(String format, Object arg0, Object arg1)\r\n",
      "   at Microsoft.DotNet.Interactive.Utility.ObservableStringWriter.<>c__DisplayClass46_0.<WriteLine>b__0() in D:\\a\\_work\\1\\s\\src\\Microsoft.DotNet.Interactive\\Utility\\ObservableStringWriter.cs:line 290\r\n",
      "   at Microsoft.DotNet.Interactive.Utility.ObservableStringWriter.TrackWriteOperation(Action action) in D:\\a\\_work\\1\\s\\src\\Microsoft.DotNet.Interactive\\Utility\\ObservableStringWriter.cs:line 79\r\n",
      "   at Microsoft.DotNet.Interactive.Utility.ObservableStringWriter.WriteLine(String format, Object arg0, Object arg1) in D:\\a\\_work\\1\\s\\src\\Microsoft.DotNet.Interactive\\Utility\\ObservableStringWriter.cs:line 290\r\n",
      "   at Microsoft.DotNet.Interactive.Utility.MultiplexingTextWriter.WriteLine(String format, Object arg0, Object arg1) in D:\\a\\_work\\1\\s\\src\\Microsoft.DotNet.Interactive\\Utility\\MultiplexingTextWriter.cs:line 276\r\n",
      "   at System.IO.TextWriter.SyncTextWriter.WriteLine(String format, Object arg0, Object arg1)\r\n",
      "   at System.Console.WriteLine(String format, Object arg0, Object arg1)\r\n",
      "   at Submission#13.<<Initialize>>d__0.MoveNext()\r\n",
      "--- End of stack trace from previous location ---\r\n",
      "   at Microsoft.CodeAnalysis.Scripting.ScriptExecutionState.RunSubmissionsAsync[TResult](ImmutableArray`1 precedingExecutors, Func`2 currentExecutor, StrongBox`1 exceptionHolderOpt, Func`2 catchExceptionOpt, CancellationToken cancellationToken)"
     ]
    }
   ],
   "source": [
    "Console.WriteLine(\n",
    "    \"Arg #{0}\\n\" + \"Arg #{1}\\n\" + \"Arg #{2}\\n\",\n",
    "    0,\n",
    "    1\n",
    ");"
   ]
  },
  {
   "cell_type": "markdown",
   "metadata": {},
   "source": [
    "<br>"
   ]
  },
  {
   "cell_type": "markdown",
   "metadata": {},
   "source": [
    "#### *Alignment Component*"
   ]
  },
  {
   "cell_type": "markdown",
   "metadata": {},
   "source": [
    "The *alignment component* is optional and indicates the string alignment.   \n",
    "   \n",
    "It is a **positive** or **negative** *integer* and the **positive values** indicate ***alignment to the right*** and the **negative** – ***alignment to the left***. \n",
    "   \n",
    "The *value of the number* indicates the *number of positions* in which to align the number.    \n",
    "   \n",
    "If the `string` we want to represent has a *length* that is *greater than or equal to* the *value* of the number, then this number is *ignored*.   \n",
    "\n",
    "If it is *less*, however, the *unfilled positions are filled in with **spaces***."
   ]
  },
  {
   "cell_type": "code",
   "execution_count": null,
   "metadata": {
    "dotnet_interactive": {
     "language": "csharp"
    },
    "vscode": {
     "languageId": "dotnet-interactive.csharp"
    }
   },
   "outputs": [
    {
     "name": "stdout",
     "output_type": "stream",
     "text": [
      "     1\r\n"
     ]
    }
   ],
   "source": [
    "// Pad 5 spaces to the left of 1 (align right):\n",
    "//    _ _ _ _ _ 1\n",
    "\n",
    "Console.WriteLine( \n",
    "    \"{0,6}\",\n",
    "    1 \n",
    ");"
   ]
  },
  {
   "cell_type": "code",
   "execution_count": null,
   "metadata": {
    "dotnet_interactive": {
     "language": "csharp"
    },
    "vscode": {
     "languageId": "dotnet-interactive.csharp"
    }
   },
   "outputs": [
    {
     "name": "stdout",
     "output_type": "stream",
     "text": [
      "12    |end of line"
     ]
    }
   ],
   "source": [
    "// Pad 4 spaces to the right of  12 (align left):\n",
    "//    12 _ _ _ _ end of line\n",
    "\n",
    "Console.Write( \n",
    "    \"{0,-6}\",\n",
    "    12\n",
    ");\n",
    "\n",
    "Console.Write(\"|end of line\");"
   ]
  },
  {
   "cell_type": "markdown",
   "metadata": {},
   "source": [
    "<br>"
   ]
  },
  {
   "cell_type": "markdown",
   "metadata": {},
   "source": [
    "#### *The \"formatString\" Component*"
   ]
  },
  {
   "cell_type": "markdown",
   "metadata": {},
   "source": [
    "There are *three main types* of ***formatString Components***:    \n",
    "- for ***numerical*** types of arguments \n",
    "- for arguments of type ***date*** (`DateTime`) \n",
    "- for arguments of type ***enumeration*** (listed types)"
   ]
  },
  {
   "cell_type": "markdown",
   "metadata": {},
   "source": [
    "##### *formatString* *Components* for **numbers**"
   ]
  },
  {
   "cell_type": "markdown",
   "metadata": {},
   "source": [
    "Has *two sub-types*: \n",
    "1. ***standard**-defined formats* \n",
    "2. *user-defined formats* (***custom*** format strings)."
   ]
  },
  {
   "cell_type": "markdown",
   "metadata": {},
   "source": [
    "######  *Standard Formats for Numbers*\n",
    "<style>\n",
    "*{\n",
    "    margin: 0;\n",
    "    padding: 0;\n",
    "}\n",
    "h6{\n",
    "    font-size: 18px;\n",
    "    padding-top: 30px;\n",
    "}\n",
    "</style>"
   ]
  },
  {
   "cell_type": "markdown",
   "metadata": {},
   "source": [
    "The following table describes **specifiers** and their *precision meaning*:\n",
    "   \n",
    "|Specifier|Description|\n",
    "|----|----|\n",
    "|\"`C`\" or \"`c`\"|Indicates the **currency** and the result will be displayed along with the currency sign for the current *“culture”* (for example, *English*). The *precision* indicates the *number of decimal places* after the decimal point.|\n",
    "|\"`D`\" or \"`d`\"|An **integer number**. The *precision* indicates the *minimum number of characters* for representing the string and, if necessary, *zeroes are supplemented in the beginning*.|\n",
    "|\"`E`\" or \"`e`\"|**Exponential** notation. The *precision* indicates the *number of places after the decimal point*.|\n",
    "|\"`F`\" or \"`f`\"|**Integer or decimal number**. The *precision* indicates the *number of signs after the decimal point*.|\n",
    "|\"`N`\" or \"`n`\"|**Equivalent to \"`F`\"** but represents also the **corresponding separator** for *thousands*, *millions*, etc. (for example, in the *English* language often the number \"*1000*\" is represented as \"*1,000*\" – with comma between the number 1 and the zeroes).|\n",
    "|\"`P`\" or \"`p`\"|**Percentage**: it will *multiply the number by 100* and will display the *percent character* upfront. The *precision* indicates the n*umber of signs after the decimal point*.|\n",
    "|\"`X`\" or \"`x`\"|Displays the number in **hexadecimal** numeral system. It works *only for integer numbers*. The *precision* indicates *minimum numbers of signs to display the string* as the missing ones are *supplemented with zeroes at the beginning*.|"
   ]
  },
  {
   "cell_type": "markdown",
   "metadata": {},
   "source": [
    "Part of the formatting is determined by the current **“culture” settings**, which are taken by *default* from the *regional settings of the operating system*. \n",
    "   \n",
    "The \"**cultures**\" are *set of rules* that are valid for a given *language* or a given *country* that indicate *which character is to be used as **decimal separator***, how the *currency* is displayed, etc."
   ]
  },
  {
   "cell_type": "code",
   "execution_count": null,
   "metadata": {
    "dotnet_interactive": {
     "language": "csharp"
    },
    "vscode": {
     "languageId": "dotnet-interactive.csharp"
    }
   },
   "outputs": [
    {
     "name": "stdout",
     "output_type": "stream",
     "text": [
      "$5.00"
     ]
    }
   ],
   "source": [
    "// 5 dollars in US Currency with 2 decimal places of precision\n",
    "\n",
    "Console.Write(\n",
    "    \"{0:C2}\",\n",
    "    5\n",
    ");"
   ]
  },
  {
   "cell_type": "code",
   "execution_count": null,
   "metadata": {
    "dotnet_interactive": {
     "language": "csharp"
    },
    "vscode": {
     "languageId": "dotnet-interactive.csharp"
    }
   },
   "outputs": [
    {
     "name": "stdout",
     "output_type": "stream",
     "text": [
      "0001234"
     ]
    }
   ],
   "source": [
    "// pad with leading zeros until a specified width is reached\n",
    "\n",
    "Console.Write(\n",
    "    \"{0:D7}\",\n",
    "    1234\n",
    ");"
   ]
  },
  {
   "cell_type": "code",
   "execution_count": null,
   "metadata": {
    "dotnet_interactive": {
     "language": "csharp"
    },
    "vscode": {
     "languageId": "dotnet-interactive.csharp"
    }
   },
   "outputs": [
    {
     "name": "stdout",
     "output_type": "stream",
     "text": [
      "1.23E+002"
     ]
    }
   ],
   "source": [
    "// convert to exponential form\n",
    "\n",
    "Console.Write(\n",
    "    \"{0:E2}\",\n",
    "    123\n",
    ");"
   ]
  },
  {
   "cell_type": "code",
   "execution_count": null,
   "metadata": {
    "dotnet_interactive": {
     "language": "csharp"
    },
    "vscode": {
     "languageId": "dotnet-interactive.csharp"
    }
   },
   "outputs": [
    {
     "name": "stdout",
     "output_type": "stream",
     "text": [
      "123.457"
     ]
    }
   ],
   "source": [
    "// floating point representation with 3 points of precision\n",
    "\n",
    "Console.Write(\n",
    "    \"{0:F3}\",\n",
    "    123.4567\n",
    ");"
   ]
  },
  {
   "cell_type": "code",
   "execution_count": null,
   "metadata": {
    "dotnet_interactive": {
     "language": "csharp"
    },
    "vscode": {
     "languageId": "dotnet-interactive.csharp"
    }
   },
   "outputs": [
    {
     "name": "stdout",
     "output_type": "stream",
     "text": [
      "1,000,000.05"
     ]
    }
   ],
   "source": [
    "// One million dollars and 5 cents in US currency, \n",
    "// with the seperator included and  with 2 points of precision\n",
    "\n",
    "Console.Write(\n",
    "    \"{0:N2}\",\n",
    "    1_000_000.05\n",
    ");"
   ]
  },
  {
   "cell_type": "code",
   "execution_count": null,
   "metadata": {
    "dotnet_interactive": {
     "language": "csharp"
    },
    "vscode": {
     "languageId": "dotnet-interactive.csharp"
    }
   },
   "outputs": [
    {
     "name": "stdout",
     "output_type": "stream",
     "text": [
      "41.1279%"
     ]
    }
   ],
   "source": [
    "// Percentage with 4 digits of precision\n",
    "\n",
    "Console.Write(\n",
    "    \"{0:P4}\",\n",
    "    0.41127855\n",
    ");\n"
   ]
  },
  {
   "cell_type": "code",
   "execution_count": null,
   "metadata": {
    "dotnet_interactive": {
     "language": "csharp"
    },
    "vscode": {
     "languageId": "dotnet-interactive.csharp"
    }
   },
   "outputs": [
    {
     "name": "stdout",
     "output_type": "stream",
     "text": [
      "FF"
     ]
    }
   ],
   "source": [
    "// Convert to hexadecimal\n",
    "\n",
    "Console.Write(\n",
    "    \"{0:X}\",\n",
    "    255\n",
    ");"
   ]
  },
  {
   "cell_type": "markdown",
   "metadata": {},
   "source": [
    "###### *Custom Formats for Numbers*\n",
    "<style>\n",
    "*{\n",
    "    margin: 0;\n",
    "    padding: 0;\n",
    "}\n",
    "h6{\n",
    "    font-size: 18px;\n",
    "    padding-top: 30px;\n",
    "}\n",
    "</style>"
   ]
  },
  {
   "cell_type": "markdown",
   "metadata": {},
   "source": [
    "The following table describes **specifiers** and their *precision meaning*:\n",
    "   \n",
    "|Specifier|Description|\n",
    "|----|----|\n",
    "|`0`|Indicates a **digit**. If at this position of the result a *digit is missing*, a *zero is written* instead.|\n",
    "|`#`|Indicates a **digit**. *Does not print anything* if at this position in the result a *digit is missing*.|\n",
    "|`.`|**Decimal separator** for the respective “culture”.|\n",
    "|`,`|**Thousands separator** for the respective “culture”.|\n",
    "|`%`|*Multiplies the result by 100* and prints the *character for **percent***.|\n",
    "|`E0` or `E+0` or `E-0`|Indicates an **exponential notation**. The *number of zeroes* indicates the *number of signs of the exponent*. The sign \"`+`\" means that we *always want to represent also the number’s sign*, while *minus* \"`-`\" means to display the sign *only if the value is negative*.|\n"
   ]
  },
  {
   "cell_type": "code",
   "execution_count": null,
   "metadata": {
    "dotnet_interactive": {
     "language": "csharp"
    },
    "vscode": {
     "languageId": "dotnet-interactive.csharp"
    }
   },
   "outputs": [
    {
     "name": "stdout",
     "output_type": "stream",
     "text": [
      "1.000"
     ]
    }
   ],
   "source": [
    "// Placeholders for digits which will be substituted with 0 if missing\n",
    "\n",
    "Console.Write(\n",
    "    \"{0:0.000}\",\n",
    "    1\n",
    ");"
   ]
  },
  {
   "cell_type": "code",
   "execution_count": null,
   "metadata": {
    "dotnet_interactive": {
     "language": "csharp"
    },
    "vscode": {
     "languageId": "dotnet-interactive.csharp"
    }
   },
   "outputs": [
    {
     "name": "stdout",
     "output_type": "stream",
     "text": [
      "1"
     ]
    }
   ],
   "source": [
    "// Placeholders for digits which won't be substituted with 0 if missing\n",
    "\n",
    "Console.Write(\n",
    "    \"{0:#.###}\",\n",
    "    1\n",
    ");"
   ]
  },
  {
   "cell_type": "code",
   "execution_count": null,
   "metadata": {
    "dotnet_interactive": {
     "language": "csharp"
    },
    "vscode": {
     "languageId": "dotnet-interactive.csharp"
    }
   },
   "outputs": [
    {
     "name": "stdout",
     "output_type": "stream",
     "text": [
      "1235"
     ]
    }
   ],
   "source": [
    "// Observe that the format specifiers override the input value\n",
    "\n",
    "Console.Write(\n",
    "    \"{0:0000}\",\n",
    "    1234.567\n",
    ");"
   ]
  },
  {
   "cell_type": "code",
   "execution_count": null,
   "metadata": {
    "dotnet_interactive": {
     "language": "csharp"
    },
    "vscode": {
     "languageId": "dotnet-interactive.csharp"
    }
   },
   "outputs": [
    {
     "name": "stdout",
     "output_type": "stream",
     "text": [
      "(555) 867-5309"
     ]
    }
   ],
   "source": [
    "// Reformat strings into other common patterns\n",
    "\n",
    "Console.Write(\n",
    "    \"{0:(###) ###-####}\",\n",
    "    5558675309\n",
    ");"
   ]
  },
  {
   "cell_type": "code",
   "execution_count": null,
   "metadata": {
    "dotnet_interactive": {
     "language": "csharp"
    },
    "vscode": {
     "languageId": "dotnet-interactive.csharp"
    }
   },
   "outputs": [
    {
     "name": "stdout",
     "output_type": "stream",
     "text": [
      "%99.500"
     ]
    }
   ],
   "source": [
    "// Convert to percent with custom sign placement\n",
    "// with 3 digits precision\n",
    "\n",
    "Console.Write(\n",
    "    \"{0:%##.000}\",\n",
    "    0.995\n",
    ");"
   ]
  },
  {
   "cell_type": "markdown",
   "metadata": {},
   "source": [
    "<br>"
   ]
  },
  {
   "cell_type": "markdown",
   "metadata": {},
   "source": [
    "##### *formatString Components* for **dates**"
   ]
  },
  {
   "cell_type": "code",
   "execution_count": null,
   "metadata": {
    "dotnet_interactive": {
     "language": "csharp"
    },
    "vscode": {
     "languageId": "dotnet-interactive.csharp"
    }
   },
   "outputs": [
    {
     "data": {
      "text/html": [
       "<span>2019-02-22 02:31:31Z</span>"
      ]
     },
     "metadata": {},
     "output_type": "display_data"
    }
   ],
   "source": [
    "// Assume we have some random Date and Time\n",
    "\n",
    "Random random = new Random();\n",
    "\n",
    "int year     =  random.Next( 2015, 2022 ),\n",
    "    month    =  random.Next( 1, 12 ),\n",
    "    day      =  random.Next( 1, 28 ),\n",
    "    hour     =  random.Next( 00, 11 ),\n",
    "    minute   =  random.Next( 00, 59 ),\n",
    "    seconds  =  random.Next( 00, 59 );\n",
    "           \n",
    "public DateTime dateTime = new DateTime (\n",
    "    year,\n",
    "    month,\n",
    "    day,\n",
    "    hour,\n",
    "    minute,\n",
    "    seconds\n",
    ");\n",
    "\n",
    "dateTime"
   ]
  },
  {
   "cell_type": "markdown",
   "metadata": {},
   "source": [
    "Has *two sub-types*: \n",
    "1. ***standard**-defined formats* \n",
    "2. *user-defined formats* (***custom*** format strings)."
   ]
  },
  {
   "cell_type": "markdown",
   "metadata": {},
   "source": [
    "######  *Standard Formats for Dates*\n",
    "<style>\n",
    "*{\n",
    "    margin: 0;\n",
    "    padding: 0;\n",
    "}\n",
    "h6{\n",
    "    font-size: 17px;\n",
    "    padding-top: 30px;\n",
    "}\n",
    "</style>"
   ]
  },
  {
   "cell_type": "markdown",
   "metadata": {},
   "source": [
    "From [Microsoft Docs | Standard date and time format strings](https://docs.microsoft.com/en-us/dotnet/standard/base-types/standard-date-and-time-format-strings#table-of-format-specifiers), the following table describes the ***standard** date and time format specifiers*:\n",
    "   \n",
    "<table aria-label=\"Table of format specifiers\" class=\"table table-sm\">\n",
    "<thead>\n",
    "<tr>\n",
    "<th>Format specifier</th>\n",
    "<th>Description</th>\n",
    "<th>Examples</th>\n",
    "</tr>\n",
    "</thead>\n",
    "<tbody>\n",
    "<tr>\n",
    "<td><code>d</code></td>\n",
    "<td>Short date pattern.<br><br> More information:<a href=\"#ShortDate\" data-linktype=\"self-bookmark\">The short date (<code>d</code>) format specifier</a>.</td>\n",
    "<td>2009-06-15T13:45:30 -&gt; 6/15/2009 (en-US)<br><br> 2009-06-15T13:45:30 -&gt; 15/06/2009 (fr-FR)<br><br> 2009-06-15T13:45:30 -&gt; 2009/06/15 (ja-JP)</td>\n",
    "</tr>\n",
    "<tr>\n",
    "<td><code>D</code></td>\n",
    "<td>Long date pattern.<br><br> More information:<a href=\"#LongDate\" data-linktype=\"self-bookmark\">The long date (<code>D</code>) format specifier</a>.</td>\n",
    "<td>2009-06-15T13:45:30 -&gt; Monday, June 15, 2009 (en-US)<br><br> 2009-06-15T13:45:30 -&gt; 15 июня 2009 г. (ru-RU)<br><br> 2009-06-15T13:45:30 -&gt; Montag, 15. Juni 2009 (de-DE)</td>\n",
    "</tr>\n",
    "<tr>\n",
    "<td><code>f</code></td>\n",
    "<td>Full date/time pattern (short time).<br><br> More information: <a href=\"#FullDateShortTime\" data-linktype=\"self-bookmark\">The full date short time (<code>f</code>) format specifier</a>.</td>\n",
    "<td>2009-06-15T13:45:30 -&gt; Monday, June 15, 2009 1:45 PM (en-US)<br><br> 2009-06-15T13:45:30 -&gt; den 15 juni 2009 13:45 (sv-SE)<br><br> 2009-06-15T13:45:30 -&gt; Δευτέρα, 15 Ιουνίου 2009 1:45 μμ (el-GR)</td>\n",
    "</tr>\n",
    "<tr>\n",
    "<td><code>F</code></td>\n",
    "<td>Full date/time pattern (long time).<br><br> More information: <a href=\"#FullDateLongTime\" data-linktype=\"self-bookmark\">The full date long time (<code>F</code>) format specifier</a>.</td>\n",
    "<td>2009-06-15T13:45:30 -&gt; Monday, June 15, 2009 1:45:30 PM (en-US)<br><br> 2009-06-15T13:45:30 -&gt; den 15 juni 2009 13:45:30 (sv-SE)<br><br> 2009-06-15T13:45:30 -&gt; Δευτέρα, 15 Ιουνίου 2009 1:45:30 μμ (el-GR)</td>\n",
    "</tr>\n",
    "<tr>\n",
    "<td><code>g</code></td>\n",
    "<td>General date/time pattern (short time).<br><br> More information: <a href=\"#GeneralDateShortTime\" data-linktype=\"self-bookmark\">The general date short time (<code>g</code>) format specifier</a>.</td>\n",
    "<td>2009-06-15T13:45:30 -&gt; 6/15/2009 1:45 PM (en-US)<br><br> 2009-06-15T13:45:30 -&gt; 15/06/2009 13:45 (es-ES)<br><br> 2009-06-15T13:45:30 -&gt; 2009/6/15 13:45 (zh-CN)</td>\n",
    "</tr>\n",
    "<tr>\n",
    "<td><code>G</code></td>\n",
    "<td>General date/time pattern (long time).<br><br> More information: <a href=\"#GeneralDateLongTime\" data-linktype=\"self-bookmark\">The general date long time (<code>G</code>) format specifier</a>.</td>\n",
    "<td>2009-06-15T13:45:30 -&gt; 6/15/2009 1:45:30 PM (en-US)<br><br> 2009-06-15T13:45:30 -&gt; 15/06/2009 13:45:30 (es-ES)<br><br> 2009-06-15T13:45:30 -&gt; 2009/6/15 13:45:30 (zh-CN)</td>\n",
    "</tr>\n",
    "<tr>\n",
    "<td><code>M</code>, <code>m</code></td>\n",
    "<td>Month/day pattern.<br><br> More information: <a href=\"#MonthDay\" data-linktype=\"self-bookmark\">The month (<code>M</code>, <code>m</code>) format specifier</a>.</td>\n",
    "<td>2009-06-15T13:45:30 -&gt; June 15 (en-US)<br><br> 2009-06-15T13:45:30 -&gt; 15. juni (da-DK)<br><br> 2009-06-15T13:45:30 -&gt; 15 Juni (id-ID)</td>\n",
    "</tr>\n",
    "<tr>\n",
    "<td><code>O</code>, <code>o</code></td>\n",
    "<td>round-trip date/time pattern.<br><br> More information: <a href=\"#Roundtrip\" data-linktype=\"self-bookmark\">The round-trip (<code>O</code>, <code>o</code>) format specifier</a>.</td>\n",
    "<td><a href=\"/en-us/dotnet/api/system.datetime\" class=\"no-loc\" data-linktype=\"absolute-path\">DateTime</a> values:<br><br> 2009-06-15T13:45:30 (DateTimeKind.Local) --&gt; 2009-06-15T13:45:30.0000000-07:00<br><br> 2009-06-15T13:45:30 (DateTimeKind.Utc) --&gt; 2009-06-15T13:45:30.0000000Z<br><br> 2009-06-15T13:45:30 (DateTimeKind.Unspecified) --&gt; 2009-06-15T13:45:30.0000000<br><br> <a href=\"/en-us/dotnet/api/system.datetimeoffset\" class=\"no-loc\" data-linktype=\"absolute-path\">DateTimeOffset</a> values:<br><br> 2009-06-15T13:45:30-07:00 --&gt; 2009-06-15T13:45:30.0000000-07:00</td>\n",
    "</tr>\n",
    "<tr>\n",
    "<td><code>R</code>, <code>r</code></td>\n",
    "<td>RFC1123 pattern.<br><br> More information: <a href=\"#RFC1123\" data-linktype=\"self-bookmark\">The RFC1123 (<code>R</code>, <code>r</code>) format specifier</a>.</td>\n",
    "<td>2009-06-15T13:45:30 -&gt; Mon, 15 Jun 2009 20:45:30 GMT</td>\n",
    "</tr>\n",
    "<tr>\n",
    "<td><code>s</code></td>\n",
    "<td>Sortable date/time pattern.<br><br> More information: <a href=\"#Sortable\" data-linktype=\"self-bookmark\">The sortable (<code>s</code>) format specifier</a>.</td>\n",
    "<td>2009-06-15T13:45:30 (DateTimeKind.Local) -&gt; 2009-06-15T13:45:30<br><br> 2009-06-15T13:45:30 (DateTimeKind.Utc) -&gt; 2009-06-15T13:45:30</td>\n",
    "</tr>\n",
    "<tr>\n",
    "<td><code>t</code></td>\n",
    "<td>Short time pattern.<br><br> More information: <a href=\"#ShortTime\" data-linktype=\"self-bookmark\">The short time (<code>t</code>) format specifier</a>.</td>\n",
    "<td>2009-06-15T13:45:30 -&gt; 1:45 PM (en-US)<br><br> 2009-06-15T13:45:30 -&gt; 13:45 (hr-HR)<br><br> 2009-06-15T13:45:30 -&gt; 01:45 م (ar-EG)</td>\n",
    "</tr>\n",
    "<tr>\n",
    "<td><code>T</code></td>\n",
    "<td>Long time pattern.<br><br> More information: <a href=\"#LongTime\" data-linktype=\"self-bookmark\">The long time (<code>T</code>) format specifier</a>.</td>\n",
    "<td>2009-06-15T13:45:30 -&gt; 1:45:30 PM (en-US)<br><br> 2009-06-15T13:45:30 -&gt; 13:45:30 (hr-HR)<br><br> 2009-06-15T13:45:30 -&gt; 01:45:30 م (ar-EG)</td>\n",
    "</tr>\n",
    "<tr>\n",
    "<td><code>u</code></td>\n",
    "<td>Universal sortable date/time pattern.<br><br> More information: <a href=\"#UniversalSortable\" data-linktype=\"self-bookmark\">The universal sortable (<code>u</code>) format specifier</a>.</td>\n",
    "<td>With a <a href=\"/en-us/dotnet/api/system.datetime\" class=\"no-loc\" data-linktype=\"absolute-path\">DateTime</a> value: 2009-06-15T13:45:30 -&gt; 2009-06-15 13:45:30Z<br><br> With a <a href=\"/en-us/dotnet/api/system.datetimeoffset\" class=\"no-loc\" data-linktype=\"absolute-path\">DateTimeOffset</a> value: 2009-06-15T13:45:30 -&gt; 2009-06-15 20:45:30Z</td>\n",
    "</tr>\n",
    "<tr>\n",
    "<td><code>U</code></td>\n",
    "<td>Universal full date/time pattern.<br><br> More information: <a href=\"#UniversalFull\" data-linktype=\"self-bookmark\">The universal full (<code>U</code>) format specifier</a>.</td>\n",
    "<td>2009-06-15T13:45:30 -&gt; Monday, June 15, 2009 8:45:30 PM (en-US)<br><br> 2009-06-15T13:45:30 -&gt; den 15 juni 2009 20:45:30 (sv-SE)<br><br> 2009-06-15T13:45:30 -&gt; Δευτέρα, 15 Ιουνίου 2009 8:45:30 μμ (el-GR)</td>\n",
    "</tr>\n",
    "<tr>\n",
    "<td><code>Y</code>, <code>y</code></td>\n",
    "<td>Year month pattern.<br><br> More information: <a href=\"#YearMonth\" data-linktype=\"self-bookmark\">The year month (<code>Y</code>) format specifier</a>.</td>\n",
    "<td>2009-06-15T13:45:30 -&gt; June 2009 (en-US)<br><br> 2009-06-15T13:45:30 -&gt; juni 2009 (da-DK)<br><br> 2009-06-15T13:45:30 -&gt; Juni 2009 (id-ID)</td>\n",
    "</tr>\n",
    "<tr>\n",
    "<td>Any other single character</td>\n",
    "<td>Unknown specifier.</td>\n",
    "<td>Throws a run-time <a href=\"/en-us/dotnet/api/system.formatexception\" class=\"no-loc\" data-linktype=\"absolute-path\">FormatException</a>.</td>\n",
    "</tr>\n",
    "</tbody>\n",
    "</table>"
   ]
  },
  {
   "cell_type": "code",
   "execution_count": null,
   "metadata": {
    "dotnet_interactive": {
     "language": "csharp"
    },
    "vscode": {
     "languageId": "dotnet-interactive.csharp"
    }
   },
   "outputs": [
    {
     "name": "stdout",
     "output_type": "stream",
     "text": [
      "Monday, October 25, 2021\r\n",
      "9:38:34 AM\r\n"
     ]
    }
   ],
   "source": [
    "// Using standard format specifiers\n",
    "\n",
    "Console.WriteLine(\"{0:D}\", dateTime); \n",
    "Console.WriteLine(\"{0:T}\", dateTime);"
   ]
  },
  {
   "cell_type": "markdown",
   "metadata": {},
   "source": [
    "######  *Custom Formats for Dates*\n",
    "<style>\n",
    "*{\n",
    "    margin: 0;\n",
    "    padding: 0;\n",
    "}\n",
    "h6{\n",
    "    font-size: 17px;\n",
    "    padding-top: 50px;\n",
    "}\n",
    "</style>"
   ]
  },
  {
   "cell_type": "markdown",
   "metadata": {},
   "source": [
    "From [Microsoft Docs | Custom date and time format strings](https://docs.microsoft.com/en-us/dotnet/standard/base-types/custom-date-and-time-format-strings), the following table describes the ***custom** date and time format specifiers*:"
   ]
  },
  {
   "cell_type": "markdown",
   "metadata": {},
   "source": [
    "<table aria-label=\"Table 1\" class=\"table table-sm\">\n",
    "<thead>\n",
    "<tr>\n",
    "<th>Format specifier</th>\n",
    "<th>Description</th>\n",
    "<th>Examples</th>\n",
    "</tr>\n",
    "</thead>\n",
    "<tbody>\n",
    "<tr>\n",
    "<td><code>d</code></td>\n",
    "<td>The day of the month, from 1 through 31.<br><br> More information: <a href=\"#dSpecifier\" data-linktype=\"self-bookmark\">The \"d\" Custom Format Specifier</a>.</td>\n",
    "<td>2009-06-01T13:45:30 -&gt; 1<br><br> 2009-06-15T13:45:30 -&gt; 15</td>\n",
    "</tr>\n",
    "<tr>\n",
    "<td><code>dd</code></td>\n",
    "<td>The day of the month, from 01 through 31.<br><br> More information: <a href=\"#ddSpecifier\" data-linktype=\"self-bookmark\">The \"dd\" Custom Format Specifier</a>.</td>\n",
    "<td>2009-06-01T13:45:30 -&gt; 01<br><br> 2009-06-15T13:45:30 -&gt; 15</td>\n",
    "</tr>\n",
    "<tr>\n",
    "<td><code>ddd</code></td>\n",
    "<td>The abbreviated name of the day of the week.<br><br> More information: <a href=\"#dddSpecifier\" data-linktype=\"self-bookmark\">The \"ddd\" Custom Format Specifier</a>.</td>\n",
    "<td>2009-06-15T13:45:30 -&gt; Mon (en-US)<br><br> 2009-06-15T13:45:30 -&gt; Пн (ru-RU)<br><br> 2009-06-15T13:45:30 -&gt; lun. (fr-FR)</td>\n",
    "</tr>\n",
    "<tr>\n",
    "<td><code>dddd</code></td>\n",
    "<td>The full name of the day of the week.<br><br> More information: <a href=\"#ddddSpecifier\" data-linktype=\"self-bookmark\">The \"dddd\" Custom Format Specifier</a>.</td>\n",
    "<td>2009-06-15T13:45:30 -&gt; Monday (en-US)<br><br> 2009-06-15T13:45:30 -&gt; понедельник (ru-RU)<br><br> 2009-06-15T13:45:30 -&gt; lundi (fr-FR)</td>\n",
    "</tr>\n",
    "<tr>\n",
    "<td><code>f</code></td>\n",
    "<td>The tenths of a second in a date and time value.<br><br> More information: <a href=\"#fSpecifier\" data-linktype=\"self-bookmark\">The \"f\" Custom Format Specifier</a>.</td>\n",
    "<td>2009-06-15T13:45:30.6170000 -&gt; 6<br><br> 2009-06-15T13:45:30.05 -&gt; 0</td>\n",
    "</tr>\n",
    "<tr>\n",
    "<td><code>ff</code></td>\n",
    "<td>The hundredths of a second in a date and time value.<br><br> More information: <a href=\"#ffSpecifier\" data-linktype=\"self-bookmark\">The \"ff\" Custom Format Specifier</a>.</td>\n",
    "<td>2009-06-15T13:45:30.6170000 -&gt; 61<br><br> 2009-06-15T13:45:30.0050000 -&gt; 00</td>\n",
    "</tr>\n",
    "<tr>\n",
    "<td><code>fff</code></td>\n",
    "<td>The milliseconds in a date and time value.<br><br> More information: <a href=\"#fffSpecifier\" data-linktype=\"self-bookmark\">The \"fff\" Custom Format Specifier</a>.</td>\n",
    "<td>6/15/2009 13:45:30.617 -&gt; 617<br><br> 6/15/2009 13:45:30.0005 -&gt; 000</td>\n",
    "</tr>\n",
    "<tr>\n",
    "<td><code>ffff</code></td>\n",
    "<td>The ten thousandths of a second in a date and time value.<br><br> More information: <a href=\"#ffffSpecifier\" data-linktype=\"self-bookmark\">The \"ffff\" Custom Format Specifier</a>.</td>\n",
    "<td>2009-06-15T13:45:30.6175000 -&gt; 6175<br><br> 2009-06-15T13:45:30.0000500  -&gt; 0000</td>\n",
    "</tr>\n",
    "<tr>\n",
    "<td><code>fffff</code></td>\n",
    "<td>The hundred thousandths of a second in a date and time value.<br><br> More information: <a href=\"#fffffSpecifier\" data-linktype=\"self-bookmark\">The \"fffff\" Custom Format Specifier</a>.</td>\n",
    "<td>2009-06-15T13:45:30.6175400 -&gt; 61754<br><br> 6/15/2009 13:45:30.000005 -&gt; 00000</td>\n",
    "</tr>\n",
    "<tr>\n",
    "<td><code>ffffff</code></td>\n",
    "<td>The millionths of a second in a date and time value.<br><br> More information: <a href=\"#ffffffSpecifier\" data-linktype=\"self-bookmark\">The \"ffffff\" Custom Format Specifier</a>.</td>\n",
    "<td>2009-06-15T13:45:30.6175420 -&gt; 617542<br><br> 2009-06-15T13:45:30.0000005 -&gt; 000000</td>\n",
    "</tr>\n",
    "<tr>\n",
    "<td><code>fffffff</code></td>\n",
    "<td>The ten millionths of a second in a date and time value.<br><br> More information: <a href=\"#fffffffSpecifier\" data-linktype=\"self-bookmark\">The \"fffffff\" Custom Format Specifier</a>.</td>\n",
    "<td>2009-06-15T13:45:30.6175425 -&gt; 6175425<br><br> 2009-06-15T13:45:30.0001150 -&gt; 0001150</td>\n",
    "</tr>\n",
    "<tr>\n",
    "<td><code>F</code></td>\n",
    "<td>If non-zero, the tenths of a second in a date and time value.<br><br> More information: <a href=\"#F_Specifier\" data-linktype=\"self-bookmark\">The \"F\" Custom Format Specifier</a>.</td>\n",
    "<td>2009-06-15T13:45:30.6170000 -&gt; 6<br><br> 2009-06-15T13:45:30.0500000 -&gt; (no output)</td>\n",
    "</tr>\n",
    "<tr>\n",
    "<td><code>FF</code></td>\n",
    "<td>If non-zero, the hundredths of a second in a date and time value.<br><br> More information: <a href=\"#FF_Specifier\" data-linktype=\"self-bookmark\">The \"FF\" Custom Format Specifier</a>.</td>\n",
    "<td>2009-06-15T13:45:30.6170000 -&gt; 61<br><br> 2009-06-15T13:45:30.0050000 -&gt; (no output)</td>\n",
    "</tr>\n",
    "<tr>\n",
    "<td><code>FFF</code></td>\n",
    "<td>If non-zero, the milliseconds in a date and time value.<br><br> More information: <a href=\"#FFF_Specifier\" data-linktype=\"self-bookmark\">The \"FFF\" Custom Format Specifier</a>.</td>\n",
    "<td>2009-06-15T13:45:30.6170000 -&gt; 617<br><br> 2009-06-15T13:45:30.0005000 -&gt; (no output)</td>\n",
    "</tr>\n",
    "<tr>\n",
    "<td><code>FFFF</code></td>\n",
    "<td>If non-zero, the ten thousandths of a second in a date and time value.<br><br> More information: <a href=\"#FFFF_Specifier\" data-linktype=\"self-bookmark\">The \"FFFF\" Custom Format Specifier</a>.</td>\n",
    "<td>2009-06-15T13:45:30.5275000 -&gt; 5275<br><br> 2009-06-15T13:45:30.0000500 -&gt; (no output)</td>\n",
    "</tr>\n",
    "<tr>\n",
    "<td><code>FFFFF</code></td>\n",
    "<td>If non-zero, the hundred thousandths of a second in a date and time value.<br><br> More information: <a href=\"#FFFFF_Specifier\" data-linktype=\"self-bookmark\">The \"FFFFF\" Custom Format Specifier</a>.</td>\n",
    "<td>2009-06-15T13:45:30.6175400 -&gt; 61754<br><br> 2009-06-15T13:45:30.0000050 -&gt; (no output)</td>\n",
    "</tr>\n",
    "<tr>\n",
    "<td><code>FFFFFF</code></td>\n",
    "<td>If non-zero, the millionths of a second in a date and time value.<br><br> More information: <a href=\"#FFFFFF_Specifier\" data-linktype=\"self-bookmark\">The \"FFFFFF\" Custom Format Specifier</a>.</td>\n",
    "<td>2009-06-15T13:45:30.6175420 -&gt; 617542<br><br> 2009-06-15T13:45:30.0000005 -&gt; (no output)</td>\n",
    "</tr>\n",
    "<tr>\n",
    "<td><code>FFFFFFF</code></td>\n",
    "<td>If non-zero, the ten millionths of a second in a date and time value.<br><br> More information: <a href=\"#FFFFFFF_Specifier\" data-linktype=\"self-bookmark\">The \"FFFFFFF\" Custom Format Specifier</a>.</td>\n",
    "<td>2009-06-15T13:45:30.6175425 -&gt; 6175425<br><br> 2009-06-15T13:45:30.0001150 -&gt; 000115</td>\n",
    "</tr>\n",
    "<tr>\n",
    "<td><code>g</code>, <code>gg</code></td>\n",
    "<td>The period or era.<br><br> More information: <a href=\"#gSpecifier\" data-linktype=\"self-bookmark\">The \"g\" or \"gg\" Custom Format Specifier</a>.</td>\n",
    "<td>2009-06-15T13:45:30.6170000 -&gt; A.D.</td>\n",
    "</tr>\n",
    "<tr>\n",
    "<td><code>h</code></td>\n",
    "<td>The hour, using a 12-hour clock from 1 to 12.<br><br> More information: <a href=\"#hSpecifier\" data-linktype=\"self-bookmark\">The \"h\" Custom Format Specifier</a>.</td>\n",
    "<td>2009-06-15T01:45:30 -&gt; 1<br><br> 2009-06-15T13:45:30 -&gt; 1</td>\n",
    "</tr>\n",
    "<tr>\n",
    "<td><code>hh</code></td>\n",
    "<td>The hour, using a 12-hour clock from 01 to 12.<br><br> More information: <a href=\"#hhSpecifier\" data-linktype=\"self-bookmark\">The \"hh\" Custom Format Specifier</a>.</td>\n",
    "<td>2009-06-15T01:45:30 -&gt; 01<br><br> 2009-06-15T13:45:30 -&gt; 01</td>\n",
    "</tr>\n",
    "<tr>\n",
    "<td><code>H</code></td>\n",
    "<td>The hour, using a 24-hour clock from 0 to 23.<br><br> More information: <a href=\"#H_Specifier\" data-linktype=\"self-bookmark\">The \"H\" Custom Format Specifier</a>.</td>\n",
    "<td>2009-06-15T01:45:30 -&gt; 1<br><br> 2009-06-15T13:45:30 -&gt; 13</td>\n",
    "</tr>\n",
    "<tr>\n",
    "<td><code>HH</code></td>\n",
    "<td>The hour, using a 24-hour clock from 00 to 23.<br><br> More information: <a href=\"#HH_Specifier\" data-linktype=\"self-bookmark\">The \"HH\" Custom Format Specifier</a>.</td>\n",
    "<td>2009-06-15T01:45:30 -&gt; 01<br><br> 2009-06-15T13:45:30 -&gt; 13</td>\n",
    "</tr>\n",
    "<tr>\n",
    "<td><code>K</code></td>\n",
    "<td>Time zone information.<br><br> More information: <a href=\"#KSpecifier\" data-linktype=\"self-bookmark\">The \"K\" Custom Format Specifier</a>.</td>\n",
    "<td>With <a href=\"/en-us/dotnet/api/system.datetime\" class=\"no-loc\" data-linktype=\"absolute-path\">DateTime</a> values:<br><br> 2009-06-15T13:45:30, Kind Unspecified -&gt;<br><br> 2009-06-15T13:45:30, Kind Utc -&gt; Z<br><br> 2009-06-15T13:45:30, Kind Local -&gt; -07:00 (depends on local computer settings)<br><br> With <a href=\"/en-us/dotnet/api/system.datetimeoffset\" class=\"no-loc\" data-linktype=\"absolute-path\">DateTimeOffset</a> values:<br><br> 2009-06-15T01:45:30-07:00 --&gt; -07:00<br><br> 2009-06-15T08:45:30+00:00 --&gt; +00:00</td>\n",
    "</tr>\n",
    "<tr>\n",
    "<td><code>m</code></td>\n",
    "<td>The minute, from 0 through 59.<br><br> More information: <a href=\"#mSpecifier\" data-linktype=\"self-bookmark\">The \"m\" Custom Format Specifier</a>.</td>\n",
    "<td>2009-06-15T01:09:30 -&gt; 9<br><br> 2009-06-15T13:29:30 -&gt; 29</td>\n",
    "</tr>\n",
    "<tr>\n",
    "<td><code>mm</code></td>\n",
    "<td>The minute, from 00 through 59.<br><br> More information: <a href=\"#mmSpecifier\" data-linktype=\"self-bookmark\">The \"mm\" Custom Format Specifier</a>.</td>\n",
    "<td>2009-06-15T01:09:30 -&gt; 09<br><br> 2009-06-15T01:45:30 -&gt; 45</td>\n",
    "</tr>\n",
    "<tr>\n",
    "<td><code>M</code></td>\n",
    "<td>The month, from 1 through 12.<br><br> More information: <a href=\"#M_Specifier\" data-linktype=\"self-bookmark\">The \"M\" Custom Format Specifier</a>.</td>\n",
    "<td>2009-06-15T13:45:30 -&gt; 6</td>\n",
    "</tr>\n",
    "<tr>\n",
    "<td><code>MM</code></td>\n",
    "<td>The month, from 01 through 12.<br><br> More information: <a href=\"#MM_Specifier\" data-linktype=\"self-bookmark\">The \"MM\" Custom Format Specifier</a>.</td>\n",
    "<td>2009-06-15T13:45:30 -&gt; 06</td>\n",
    "</tr>\n",
    "<tr>\n",
    "<td><code>MMM</code></td>\n",
    "<td>The abbreviated name of the month.<br><br> More information: <a href=\"#MMM_Specifier\" data-linktype=\"self-bookmark\">The \"MMM\" Custom Format Specifier</a>.</td>\n",
    "<td>2009-06-15T13:45:30 -&gt; Jun (en-US)<br><br> 2009-06-15T13:45:30 -&gt; juin (fr-FR)<br><br> 2009-06-15T13:45:30 -&gt; Jun (zu-ZA)</td>\n",
    "</tr>\n",
    "<tr>\n",
    "<td><code>MMMM</code></td>\n",
    "<td>The full name of the month.<br><br> More information: <a href=\"#MMMM_Specifier\" data-linktype=\"self-bookmark\">The \"MMMM\" Custom Format Specifier</a>.</td>\n",
    "<td>2009-06-15T13:45:30 -&gt; June (en-US)<br><br> 2009-06-15T13:45:30 -&gt; juni (da-DK)<br><br> 2009-06-15T13:45:30 -&gt; uJuni (zu-ZA)</td>\n",
    "</tr>\n",
    "<tr>\n",
    "<td><code>s</code></td>\n",
    "<td>The second, from 0 through 59.<br><br> More information: <a href=\"#sSpecifier\" data-linktype=\"self-bookmark\">The \"s\" Custom Format Specifier</a>.</td>\n",
    "<td>2009-06-15T13:45:09 -&gt; 9</td>\n",
    "</tr>\n",
    "<tr>\n",
    "<td><code>ss</code></td>\n",
    "<td>The second, from 00 through 59.<br><br> More information: <a href=\"#ssSpecifier\" data-linktype=\"self-bookmark\">The \"ss\" Custom Format Specifier</a>.</td>\n",
    "<td>2009-06-15T13:45:09 -&gt; 09</td>\n",
    "</tr>\n",
    "<tr>\n",
    "<td><code>t</code></td>\n",
    "<td>The first character of the AM/PM designator.<br><br> More information: <a href=\"#tSpecifier\" data-linktype=\"self-bookmark\">The \"t\" Custom Format Specifier</a>.</td>\n",
    "<td>2009-06-15T13:45:30 -&gt; P (en-US)<br><br> 2009-06-15T13:45:30 -&gt; 午 (ja-JP)<br><br> 2009-06-15T13:45:30 -&gt;  (fr-FR)</td>\n",
    "</tr>\n",
    "<tr>\n",
    "<td><code>tt</code></td>\n",
    "<td>The AM/PM designator.<br><br> More information: <a href=\"#ttSpecifier\" data-linktype=\"self-bookmark\">The \"tt\" Custom Format Specifier</a>.</td>\n",
    "<td>2009-06-15T13:45:30 -&gt; PM (en-US)<br><br> 2009-06-15T13:45:30 -&gt; 午後 (ja-JP)<br><br> 2009-06-15T13:45:30 -&gt;  (fr-FR)</td>\n",
    "</tr>\n",
    "<tr>\n",
    "<td><code>y</code></td>\n",
    "<td>The year, from 0 to 99.<br><br> More information: <a href=\"#ySpecifier\" data-linktype=\"self-bookmark\">The \"y\" Custom Format Specifier</a>.</td>\n",
    "<td>0001-01-01T00:00:00 -&gt; 1<br><br> 0900-01-01T00:00:00 -&gt; 0<br><br> 1900-01-01T00:00:00 -&gt; 0<br><br> 2009-06-15T13:45:30 -&gt; 9<br><br> 2019-06-15T13:45:30 -&gt; 19</td>\n",
    "</tr>\n",
    "<tr>\n",
    "<td><code>yy</code></td>\n",
    "<td>The year, from 00 to 99.<br><br> More information: <a href=\"#yySpecifier\" data-linktype=\"self-bookmark\">The \"yy\" Custom Format Specifier</a>.</td>\n",
    "<td>0001-01-01T00:00:00 -&gt; 01<br><br> 0900-01-01T00:00:00 -&gt; 00<br><br> 1900-01-01T00:00:00 -&gt; 00<br><br> 2019-06-15T13:45:30 -&gt; 19</td>\n",
    "</tr>\n",
    "<tr>\n",
    "<td><code>yyy</code></td>\n",
    "<td>The year, with a minimum of three digits.<br><br> More information: <a href=\"#yyySpecifier\" data-linktype=\"self-bookmark\">The \"yyy\" Custom Format Specifier</a>.</td>\n",
    "<td>0001-01-01T00:00:00 -&gt; 001<br><br> 0900-01-01T00:00:00 -&gt; 900<br><br> 1900-01-01T00:00:00 -&gt; 1900<br><br> 2009-06-15T13:45:30 -&gt; 2009</td>\n",
    "</tr>\n",
    "<tr>\n",
    "<td><code>yyyy</code></td>\n",
    "<td>The year as a four-digit number.<br><br> More information: <a href=\"#yyyySpecifier\" data-linktype=\"self-bookmark\">The \"yyyy\" Custom Format Specifier</a>.</td>\n",
    "<td>0001-01-01T00:00:00 -&gt; 0001<br><br> 0900-01-01T00:00:00 -&gt; 0900<br><br> 1900-01-01T00:00:00 -&gt; 1900<br><br> 2009-06-15T13:45:30 -&gt; 2009</td>\n",
    "</tr>\n",
    "<tr>\n",
    "<td><code>yyyyy</code></td>\n",
    "<td>The year as a five-digit number.<br><br> More information: <a href=\"#yyyyySpecifier\" data-linktype=\"self-bookmark\">The \"yyyyy\" Custom Format Specifier</a>.</td>\n",
    "<td>0001-01-01T00:00:00 -&gt; 00001<br><br> 2009-06-15T13:45:30 -&gt; 02009</td>\n",
    "</tr>\n",
    "<tr>\n",
    "<td><code>z</code></td>\n",
    "<td>Hours offset from UTC, with no leading zeros.<br><br> More information: <a href=\"#zSpecifier\" data-linktype=\"self-bookmark\">The \"z\" Custom Format Specifier</a>.</td>\n",
    "<td>2009-06-15T13:45:30-07:00 -&gt; -7</td>\n",
    "</tr>\n",
    "<tr>\n",
    "<td><code>zz</code></td>\n",
    "<td>Hours offset from UTC, with a leading zero for a single-digit value.<br><br> More information: <a href=\"#zzSpecifier\" data-linktype=\"self-bookmark\">The \"zz\" Custom Format Specifier</a>.</td>\n",
    "<td>2009-06-15T13:45:30-07:00 -&gt; -07</td>\n",
    "</tr>\n",
    "<tr>\n",
    "<td><code>zzz</code></td>\n",
    "<td>Hours and minutes offset from UTC.<br><br> More information: <a href=\"#zzzSpecifier\" data-linktype=\"self-bookmark\">The \"zzz\" Custom Format Specifier</a>.</td>\n",
    "<td>2009-06-15T13:45:30-07:00 -&gt; -07:00</td>\n",
    "</tr>\n",
    "<tr>\n",
    "<td><code>:</code></td>\n",
    "<td>The time separator.<br><br> More information: <a href=\"#timeSeparator\" data-linktype=\"self-bookmark\">The \":\" Custom Format Specifier</a>.</td>\n",
    "<td>2009-06-15T13:45:30 -&gt; : (en-US)<br><br> 2009-06-15T13:45:30 -&gt; . (it-IT)<br><br> 2009-06-15T13:45:30 -&gt; : (ja-JP)</td>\n",
    "</tr>\n",
    "<tr>\n",
    "<td><code>/</code></td>\n",
    "<td>The date separator.<br><br> More Information: <a href=\"#dateSeparator\" data-linktype=\"self-bookmark\">The \"/\" Custom Format Specifier</a>.</td>\n",
    "<td>2009-06-15T13:45:30 -&gt; / (en-US)<br><br> 2009-06-15T13:45:30 -&gt; - (ar-DZ)<br><br> 2009-06-15T13:45:30 -&gt; . (tr-TR)</td>\n",
    "</tr>\n",
    "<tr>\n",
    "<td><code>\"<em>string</em>\"<br><br> '<em>string</em>'</code></td>\n",
    "<td>Literal string delimiter.<br><br> More information: <a href=\"#Literals\" data-linktype=\"self-bookmark\">Character literals</a>.</td>\n",
    "<td>2009-06-15T13:45:30 (\"arr:\" h:m t) -&gt; arr: 1:45 P<br><br> 2009-06-15T13:45:30 ('arr:' h:m t) -&gt; arr: 1:45 P</td>\n",
    "</tr>\n",
    "<tr>\n",
    "<td><code>%</code></td>\n",
    "<td>Defines the following character as a custom format specifier.<br><br> More information:<a href=\"#UsingSingleSpecifiers\" data-linktype=\"self-bookmark\">Using Single Custom Format Specifiers</a>.</td>\n",
    "<td>2009-06-15T13:45:30 (%h) -&gt; 1</td>\n",
    "</tr>\n",
    "<tr>\n",
    "<td><code>\\</code></td>\n",
    "<td>The escape character.<br><br> More information: <a href=\"#Literals\" data-linktype=\"self-bookmark\">Character literals</a> and <a href=\"#escape\" data-linktype=\"self-bookmark\">Using the Escape Character</a>.</td>\n",
    "<td>2009-06-15T13:45:30 (h \\h) -&gt; 1 h</td>\n",
    "</tr>\n",
    "<tr>\n",
    "<td>Any other character</td>\n",
    "<td>The character is copied to the result string unchanged.<br><br> More information: <a href=\"#Literals\" data-linktype=\"self-bookmark\">Character literals</a>.</td>\n",
    "<td>2009-06-15T01:45:30 (arr hh:mm t) -&gt; arr 01:45 A</td>\n",
    "</tr>\n",
    "</tbody>\n",
    "</table>"
   ]
  },
  {
   "cell_type": "code",
   "execution_count": null,
   "metadata": {
    "dotnet_interactive": {
     "language": "csharp"
    },
    "vscode": {
     "languageId": "dotnet-interactive.csharp"
    }
   },
   "outputs": [
    {
     "name": "stdout",
     "output_type": "stream",
     "text": [
      "25/10/2021 09:38:34\r\n",
      "25.10.21\r\n"
     ]
    }
   ],
   "source": [
    "// Using custom formatting for dates\n",
    "\n",
    "Console.WriteLine(\"{0:dd/MM/yyyy HH:mm:ss}\", dateTime); \n",
    "Console.WriteLine(\"{0:d.MM.yy}\", dateTime);"
   ]
  },
  {
   "cell_type": "markdown",
   "metadata": {},
   "source": [
    "<br>"
   ]
  },
  {
   "cell_type": "markdown",
   "metadata": {},
   "source": [
    "##### *formatString Components* for **enumeration**"
   ]
  },
  {
   "cell_type": "markdown",
   "metadata": {},
   "source": [
    "**Enumerations** (listed types) are data types that can take as value one of *several predefined possible values* (e.g. the seven days of the week).   \n",
    "   \n",
    "In **enumerations** there is very little to be formatted.  \n",
    "   \n",
    "Four standard format specifiers are defined:\n",
    "\n",
    "|Specifier|Format|\n",
    "|---|---|\n",
    "|`G` or `g`|Represents enumeration as a **string**.|\n",
    "|`D` or `d`|Represents enumeration as a **number**.|\n",
    "|`X` or `x`|Represents enumeration as a number in **hexadecimal** numeral system and with *eight digits*.|\n"
   ]
  },
  {
   "cell_type": "code",
   "execution_count": null,
   "metadata": {
    "dotnet_interactive": {
     "language": "csharp"
    },
    "vscode": {
     "languageId": "dotnet-interactive.csharp"
    }
   },
   "outputs": [
    {
     "name": "stdout",
     "output_type": "stream",
     "text": [
      "Wednesday"
     ]
    }
   ],
   "source": [
    "// Represent enumeration as a string\n",
    "\n",
    "Console.Write(\n",
    "    \"{0:G}\",\n",
    "    DayOfWeek.Wednesday\n",
    ");"
   ]
  },
  {
   "cell_type": "code",
   "execution_count": null,
   "metadata": {
    "dotnet_interactive": {
     "language": "csharp"
    },
    "vscode": {
     "languageId": "dotnet-interactive.csharp"
    }
   },
   "outputs": [
    {
     "name": "stdout",
     "output_type": "stream",
     "text": [
      "3"
     ]
    }
   ],
   "source": [
    "// Represent enumeration as a number\n",
    "\n",
    "Console.Write(\n",
    "    \"{0:d}\",\n",
    "    DayOfWeek.Wednesday\n",
    ");"
   ]
  },
  {
   "cell_type": "code",
   "execution_count": null,
   "metadata": {
    "dotnet_interactive": {
     "language": "csharp"
    },
    "vscode": {
     "languageId": "dotnet-interactive.csharp"
    }
   },
   "outputs": [
    {
     "name": "stdout",
     "output_type": "stream",
     "text": [
      "00000003"
     ]
    }
   ],
   "source": [
    "// Represent enumeration as a hexidecimal value\n",
    "\n",
    "Console.Write(\n",
    "    \"{0:X}\",\n",
    "    DayOfWeek.Wednesday\n",
    ");"
   ]
  },
  {
   "cell_type": "markdown",
   "metadata": {},
   "source": [
    "<br>"
   ]
  },
  {
   "cell_type": "markdown",
   "metadata": {},
   "source": [
    "### Formatting Strings and Localization"
   ]
  },
  {
   "cell_type": "markdown",
   "metadata": {},
   "source": [
    "When using *format strings* it is possible for the *same program* to print *different values* depending on the ***localization settings** for the operating system*.  \n",
    "   \n",
    "**Localization** in .NET is also called \"**culture**\", and can be *changed manually* by the class `System.Globalization.CultureInfo`."
   ]
  },
  {
   "cell_type": "markdown",
   "metadata": {},
   "source": [
    "<center>\n",
    "\n",
    "*See* $\\,\\,$ [cultureChange.cs](./cultureChangeRequired/cultureChange.cs) $\\,\\,$ *for a detailed example.*\n",
    "\n",
    "</center>"
   ]
  },
  {
   "cell_type": "markdown",
   "metadata": {},
   "source": [
    "---"
   ]
  }
 ],
 "metadata": {
  "kernelspec": {
   "display_name": ".NET (C#)",
   "language": "C#",
   "name": ".net-csharp"
  },
  "language_info": {
   "file_extension": ".cs",
   "mimetype": "text/x-csharp",
   "name": "C#",
   "pygments_lexer": "csharp",
   "version": "9.0"
  },
  "orig_nbformat": 4
 },
 "nbformat": 4,
 "nbformat_minor": 2
}
