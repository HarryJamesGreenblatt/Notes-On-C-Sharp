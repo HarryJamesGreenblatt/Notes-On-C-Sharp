{
 "cells": [
  {
   "cell_type": "markdown",
   "metadata": {},
   "source": [
    "# 4. Console Input and Output   \n",
    "## Printing to the Console:   "
   ]
  },
  {
   "cell_type": "markdown",
   "metadata": {},
   "source": [
    "### **Standard Input and Standard Output**\n",
    "---"
   ]
  },
  {
   "cell_type": "markdown",
   "metadata": {},
   "source": [
    "The *operating system* is required to define standard **input-output** mechanisms for user interaction.   \n",
    "\n",
    "When starting a given console program, system code running at the *initialization* of the program is responsible for *opening (closing) of streams* to be allocated by the operating system's mechanisms for **input-output**.   \n",
    "   \n",
    "\n",
    "Once started, the application can automatically: \n",
    "- *Read the user input* from the ***standard input*** stream    \n",
    "  (in C# this is `Console.In`)\n",
    "   \n",
    "- *Print information* on the ***standard output*** stream  \n",
    "  (in C# this is `Console.Out`) \n",
    "  \n",
    "- *Signal for problem situations* in the ***standard error*** stream  \n",
    "  (in C# this is `Console.Error`)."
   ]
  },
  {
   "cell_type": "markdown",
   "metadata": {
    "dotnet_interactive": {
     "language": "csharp"
    }
   },
   "source": [
    "#### Devices for Console Input and Output"
   ]
  },
  {
   "cell_type": "markdown",
   "metadata": {
    "dotnet_interactive": {
     "language": "csharp"
    }
   },
   "source": [
    "Besides from the *keyboard*, an application's **input** can come from *many other places*, such as *file*, *microphone*, *barcode reader* and others.   \n",
    "   \n",
    "The **output** of a program may be on the *console* (on the *screen*), as well as in a *file* or another *output device*, such as a *printer*:   \n",
    "\n",
    "<center>\n",
    "\n",
    "![ufukkedup](../_img/console%20io.jpg)   \n",
    "   \n",
    "</center>\n",
    "\n",
    "If needed, we can *replace the default **input** / **output** / **error** streams* at runtime by using the following methods respectively:\n",
    "- `Console.SetIn(…)` \n",
    "- `Console.SetOut(…)`\n",
    "- `Console.SetError(…)`"
   ]
  },
  {
   "cell_type": "markdown",
   "metadata": {},
   "source": [
    "---"
   ]
  }
 ],
 "metadata": {
  "kernelspec": {
   "display_name": ".NET (C#)",
   "language": "C#",
   "name": ".net-csharp"
  },
  "language_info": {
   "file_extension": ".cs",
   "mimetype": "text/x-csharp",
   "name": "C#",
   "pygments_lexer": "csharp",
   "version": "9.0"
  },
  "orig_nbformat": 4
 },
 "nbformat": 4,
 "nbformat_minor": 2
}
