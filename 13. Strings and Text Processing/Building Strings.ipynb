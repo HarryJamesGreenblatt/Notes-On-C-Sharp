{
 "cells": [
  {
   "attachments": {},
   "cell_type": "markdown",
   "metadata": {
    "dotnet_interactive": {
     "language": "csharp"
    },
    "polyglot_notebook": {
     "kernelName": "csharp"
    }
   },
   "source": [
    "# 13. Strings and Text Processing"
   ]
  },
  {
   "attachments": {},
   "cell_type": "markdown",
   "metadata": {
    "dotnet_interactive": {
     "language": "csharp"
    },
    "polyglot_notebook": {
     "kernelName": "csharp"
    }
   },
   "source": [
    "## Building Strings\n",
    "---"
   ]
  },
  {
   "attachments": {},
   "cell_type": "markdown",
   "metadata": {
    "dotnet_interactive": {
     "language": "csharp"
    },
    "polyglot_notebook": {
     "kernelName": "csharp"
    }
   },
   "source": [
    "### Never Concatenate Strings in a Loop!"
   ]
  },
  {
   "attachments": {},
   "cell_type": "markdown",
   "metadata": {
    "dotnet_interactive": {
     "language": "csharp"
    },
    "polyglot_notebook": {
     "kernelName": "csharp"
    }
   },
   "source": [
    "Serious **performance problems** may be encountered when trying to **concatenate strings in a loop**.\n",
    "    \n",
    "Consider the example illustrated below:"
   ]
  },
  {
   "cell_type": "code",
   "execution_count": 1,
   "metadata": {
    "dotnet_interactive": {
     "language": "csharp"
    },
    "polyglot_notebook": {
     "kernelName": "csharp"
    },
    "vscode": {
     "languageId": "polyglot-notebook"
    }
   },
   "outputs": [],
   "source": [
    "// Initialize the empty string which will be iteratively concatenated \n",
    "string iterativelyConcatenated = \"\";\n",
    "\n",
    "\n",
    "// Iterating For every integer value from 1 to 10: \n",
    "for( int currentInteger = 1; currentInteger <= 10; currentInteger++ )\n",
    "{\n",
    "\n",
    "    // Iteratively concatenate the currentInteger to the string\n",
    "    iterativelyConcatenated += currentInteger;\n",
    "\n",
    "}"
   ]
  },
  {
   "attachments": {},
   "cell_type": "markdown",
   "metadata": {
    "dotnet_interactive": {
     "language": "csharp"
    },
    "polyglot_notebook": {
     "kernelName": "csharp"
    }
   },
   "source": [
    "The problem  with doing this is directly related to the `string` types's handling of dynamic memory, which is what is used to store them.    \n",
    "   \n",
    "To understand why we have **poor performance when concatenating strings in a loop**,     \n",
    "we must first consider what happens when using `+` operator for strings."
   ]
  },
  {
   "attachments": {},
   "cell_type": "markdown",
   "metadata": {
    "dotnet_interactive": {
     "language": "csharp"
    },
    "polyglot_notebook": {
     "kernelName": "csharp"
    }
   },
   "source": [
    "<br>"
   ]
  },
  {
   "attachments": {},
   "cell_type": "markdown",
   "metadata": {
    "dotnet_interactive": {
     "language": "csharp"
    },
    "polyglot_notebook": {
     "kernelName": "csharp"
    }
   },
   "source": [
    "#### How Does the String Concatenation Work?"
   ]
  },
  {
   "attachments": {},
   "cell_type": "markdown",
   "metadata": {
    "dotnet_interactive": {
     "language": "csharp"
    },
    "polyglot_notebook": {
     "kernelName": "csharp"
    }
   },
   "source": [
    "Let’s now examine **what happens in memory when concatenating strings**.    \n",
    "   \n",
    "Consider two `string` type variables, `str1` and `str2`,  which have values of $Super$ and $Star$: "
   ]
  },
  {
   "cell_type": "code",
   "execution_count": 2,
   "metadata": {
    "dotnet_interactive": {
     "language": "csharp"
    },
    "polyglot_notebook": {
     "kernelName": "csharp"
    },
    "vscode": {
     "languageId": "polyglot-notebook"
    }
   },
   "outputs": [],
   "source": [
    "string str1 = \"Super\",\n",
    "       str2 = \"Star\";"
   ]
  },
  {
   "attachments": {},
   "cell_type": "markdown",
   "metadata": {
    "dotnet_interactive": {
     "language": "csharp"
    },
    "polyglot_notebook": {
     "kernelName": "csharp"
    }
   },
   "source": [
    "<br>"
   ]
  },
  {
   "attachments": {},
   "cell_type": "markdown",
   "metadata": {
    "dotnet_interactive": {
     "language": "csharp"
    },
    "polyglot_notebook": {
     "kernelName": "csharp"
    }
   },
   "source": [
    "There are **two areas** in the **heap** (**dynamic memory**) in which the values are stored.    \n",
    "\n",
    "The task of `str1` and `str2` is to **keep a reference to the memory addresses** where our data is stored:"
   ]
  },
  {
   "attachments": {},
   "cell_type": "markdown",
   "metadata": {
    "dotnet_interactive": {
     "language": "csharp"
    },
    "polyglot_notebook": {
     "kernelName": "csharp"
    }
   },
   "source": [
    "<img src=\"_img/string_object_references6.jpg\" style=\"display: block; margin: auto;\"></img>"
   ]
  },
  {
   "attachments": {},
   "cell_type": "markdown",
   "metadata": {
    "dotnet_interactive": {
     "language": "csharp"
    },
    "polyglot_notebook": {
     "kernelName": "csharp"
    }
   },
   "source": [
    "<br>"
   ]
  },
  {
   "attachments": {},
   "cell_type": "markdown",
   "metadata": {
    "dotnet_interactive": {
     "language": "csharp"
    },
    "polyglot_notebook": {
     "kernelName": "csharp"
    }
   },
   "source": [
    "Now, let's consider the following **string concatenation** which stores the `result` in a **new string**:"
   ]
  },
  {
   "cell_type": "code",
   "execution_count": 3,
   "metadata": {
    "dotnet_interactive": {
     "language": "csharp"
    },
    "polyglot_notebook": {
     "kernelName": "csharp"
    },
    "vscode": {
     "languageId": "polyglot-notebook"
    }
   },
   "outputs": [],
   "source": [
    "string result = str1 + str2;"
   ]
  },
  {
   "cell_type": "code",
   "execution_count": 4,
   "metadata": {
    "dotnet_interactive": {
     "language": "csharp"
    },
    "polyglot_notebook": {
     "kernelName": "csharp"
    },
    "vscode": {
     "languageId": "polyglot-notebook"
    }
   },
   "outputs": [
    {
     "data": {
      "text/plain": [
       "SuperStar"
      ]
     },
     "metadata": {},
     "output_type": "display_data"
    }
   ],
   "source": [
    "result"
   ]
  },
  {
   "attachments": {},
   "cell_type": "markdown",
   "metadata": {
    "dotnet_interactive": {
     "language": "csharp"
    },
    "polyglot_notebook": {
     "kernelName": "csharp"
    }
   },
   "source": [
    "<br>"
   ]
  },
  {
   "attachments": {},
   "cell_type": "markdown",
   "metadata": {
    "dotnet_interactive": {
     "language": "csharp"
    },
    "polyglot_notebook": {
     "kernelName": "csharp"
    }
   },
   "source": [
    "What's happening with the memory?    \n",
    "\n",
    "Creating the variable `result` will **allocate a new area in dynamic memory**,    \n",
    "which will record the outcome of the `str1 + str2`, which is $SuperStar$.   \n",
    "Then, the variable itself will **keep the address of the allocated area**. \n",
    "   \n",
    "Consequently, we will have **three areas in memory** and **three references to them**:"
   ]
  },
  {
   "attachments": {},
   "cell_type": "markdown",
   "metadata": {
    "dotnet_interactive": {
     "language": "csharp"
    },
    "polyglot_notebook": {
     "kernelName": "csharp"
    }
   },
   "source": [
    "<img src=\"_img/string_object_references7.jpg\" style=\"display: block; margin: auto;\"></img>"
   ]
  },
  {
   "attachments": {},
   "cell_type": "markdown",
   "metadata": {
    "dotnet_interactive": {
     "language": "csharp"
    },
    "polyglot_notebook": {
     "kernelName": "csharp"
    }
   },
   "source": [
    "This is *convenient*, but we must consider the steps taken to acheive this result: \n",
    "1. allocating a new memory area \n",
    "2. recording a value \n",
    "3. creating a new variable\n",
    "4. referencing the variable's address in the memory \n",
    "\n",
    "Executing these steps is a **timeconsuming process** that would be **a problem if repeated many times**, typically inside a **loop**."
   ]
  },
  {
   "attachments": {},
   "cell_type": "markdown",
   "metadata": {
    "dotnet_interactive": {
     "language": "csharp"
    },
    "polyglot_notebook": {
     "kernelName": "csharp"
    }
   },
   "source": [
    "<br>"
   ]
  },
  {
   "attachments": {},
   "cell_type": "markdown",
   "metadata": {
    "dotnet_interactive": {
     "language": "csharp"
    },
    "polyglot_notebook": {
     "kernelName": "csharp"
    }
   },
   "source": [
    "#### Concatenating in Loop of 50,000 Iterations – the Inefficient Way"
   ]
  },
  {
   "attachments": {},
   "cell_type": "markdown",
   "metadata": {
    "dotnet_interactive": {
     "language": "csharp"
    },
    "polyglot_notebook": {
     "kernelName": "csharp"
    }
   },
   "source": [
    "Suppose we defned the following method, taking, as an argument, the endpoint of a `for` **loop** which will: \n",
    "- execute the inefficient iterative string concatenation\n",
    "- return the **amount of time it took to perform the concatenation**:"
   ]
  },
  {
   "cell_type": "code",
   "execution_count": 5,
   "metadata": {
    "dotnet_interactive": {
     "language": "csharp"
    },
    "polyglot_notebook": {
     "kernelName": "csharp"
    },
    "vscode": {
     "languageId": "polyglot-notebook"
    }
   },
   "outputs": [],
   "source": [
    "string InefficentIterativeConcatenation( int lastInteger )\n",
    "{\n",
    "\n",
    "    // Observe the time before the loop begins\n",
    "    DateTime timeBeforeLoop = DateTime.Now;\n",
    "\n",
    "\n",
    "    // Initialize a string to be iteratively concatenated \n",
    "    string iterativelyConcatenated = \"\";\n",
    "\n",
    "\n",
    "    // Iterating For every integer from 1 up until the last integer:\n",
    "    for( int currentInteger= 1; currentInteger <= lastInteger; currentInteger++ )\n",
    "    {\n",
    "\n",
    "        // Iteratively concatenate the current integer to the string\n",
    "        iterativelyConcatenated += currentInteger;\n",
    "\n",
    "    }\n",
    "\n",
    "\n",
    "    // return the amount of time it took to execute the loop\n",
    "    return(\n",
    "        $\"Time to iteratively concatenate the string inside the loop:\\t\"\n",
    "        +\n",
    "        $\"{ DateTime.Now - timeBeforeLoop }\\n\\n\"\n",
    "    );\n",
    "\n",
    "}"
   ]
  },
  {
   "attachments": {},
   "cell_type": "markdown",
   "metadata": {
    "dotnet_interactive": {
     "language": "csharp"
    },
    "polyglot_notebook": {
     "kernelName": "csharp"
    }
   },
   "source": [
    "<br>"
   ]
  },
  {
   "attachments": {},
   "cell_type": "markdown",
   "metadata": {
    "dotnet_interactive": {
     "language": "csharp"
    },
    "polyglot_notebook": {
     "kernelName": "csharp"
    }
   },
   "source": [
    "Below, you'll see it takes a **pretty long time** (~5-8 seconds) to execute a loop of $50,000$ iterations when performing string concatenation.  \n",
    "\n",
    "As the number of loop iterations increases, we can expect the performance to **decrease exponentially** in turn."
   ]
  },
  {
   "cell_type": "code",
   "execution_count": 6,
   "metadata": {
    "dotnet_interactive": {
     "language": "csharp"
    },
    "polyglot_notebook": {
     "kernelName": "csharp"
    },
    "vscode": {
     "languageId": "polyglot-notebook"
    }
   },
   "outputs": [
    {
     "data": {
      "text/plain": [
       "Time to iteratively concatenate the string inside the loop:\t00:00:06.0224977\n",
       "\n"
      ]
     },
     "metadata": {},
     "output_type": "display_data"
    }
   ],
   "source": [
    "InefficentIterativeConcatenation( 50000 )"
   ]
  },
  {
   "attachments": {},
   "cell_type": "markdown",
   "metadata": {
    "dotnet_interactive": {
     "language": "csharp"
    },
    "polyglot_notebook": {
     "kernelName": "csharp"
    }
   },
   "source": [
    "<br>"
   ]
  },
  {
   "attachments": {},
   "cell_type": "markdown",
   "metadata": {
    "dotnet_interactive": {
     "language": "csharp"
    },
    "polyglot_notebook": {
     "kernelName": "csharp"
    }
   },
   "source": [
    "##### Processing Concatenations in Memory is Expensive!"
   ]
  },
  {
   "attachments": {},
   "cell_type": "markdown",
   "metadata": {
    "dotnet_interactive": {
     "language": "csharp"
    },
    "polyglot_notebook": {
     "kernelName": "csharp"
    }
   },
   "source": [
    "The problem which makes processing iterative concatenations so time-consuming is related to the way strings work in memory.    \n",
    "   \n",
    "**Each iteration creates a new object in the heap** and **points a reference to it**.    \n",
    "This process requires a certain amount of physical time, each and every time.   \n",
    "\n",
    "Several things happen at each step: \n",
    "1. An area of memory is allocated for recording the next number concatenation result. This memory is used only temporarily while concatenating, and is called a buffer.\n",
    "2. The old string is moved into the new buffer. If the string is *long* (say $500 KB$, $5 MB$ or $50 MB$), it can be quite slow!\n",
    "3. Next number is concatenated to the buffer. \n",
    "4. The buffer is converted to a string.\n",
    "5. The old string and the temporary buffer become unused. Later they are destroyed by the garbage collector. This may also be a slow operation."
   ]
  },
  {
   "attachments": {},
   "cell_type": "markdown",
   "metadata": {
    "dotnet_interactive": {
     "language": "csharp"
    },
    "polyglot_notebook": {
     "kernelName": "csharp"
    }
   },
   "source": [
    "<br>"
   ]
  },
  {
   "attachments": {},
   "cell_type": "markdown",
   "metadata": {
    "dotnet_interactive": {
     "language": "csharp"
    },
    "polyglot_notebook": {
     "kernelName": "csharp"
    }
   },
   "source": [
    "### Building and Changing Strings with the `StringBuilder` Class"
   ]
  },
  {
   "attachments": {},
   "cell_type": "markdown",
   "metadata": {
    "dotnet_interactive": {
     "language": "csharp"
    },
    "polyglot_notebook": {
     "kernelName": "csharp"
    }
   },
   "source": [
    "`StringBuilder` is a class that serves to **build and change strings**.    \n",
    "   \n",
    "It **overcomes the performance problems** that arise when concatenating strings.    \n",
    "The class is built in the form of an **array of characters**, and what we need to know about it is that **the information in it can be freely modified** (hence, it is **mutable**).   \n",
    "   \n",
    "Changes that are required in the variables of type `StringBuilder` are carried out in the **same area of memory** (**buffer**), which saves time and resources.\n",
    "\n",
    "Changing the content **does not create a new object**, but simply *changes the current one* **in place**."
   ]
  },
  {
   "attachments": {},
   "cell_type": "markdown",
   "metadata": {
    "dotnet_interactive": {
     "language": "csharp"
    },
    "polyglot_notebook": {
     "kernelName": "csharp"
    }
   },
   "source": [
    "<br>"
   ]
  },
  {
   "attachments": {},
   "cell_type": "markdown",
   "metadata": {
    "dotnet_interactive": {
     "language": "csharp"
    },
    "polyglot_notebook": {
     "kernelName": "csharp"
    }
   },
   "source": [
    "#### How Does the `StringBuilder` Class Work?"
   ]
  },
  {
   "attachments": {},
   "cell_type": "markdown",
   "metadata": {
    "dotnet_interactive": {
     "language": "csharp"
    },
    "polyglot_notebook": {
     "kernelName": "csharp"
    }
   },
   "source": [
    "The `StringBuilder` class is an implementation of a string in $C\\#$, but *different* than the `string` class.   \n",
    "  \n",
    "Unlike `string` types, the objects of the `StringBuilder` class are **mutable**, and performing operations **do not require creating a new object in the memory**. \n",
    "   \n",
    "This reduces the unnecessary transfer of data in memory when performing basic operations such as string concatenation."
   ]
  },
  {
   "attachments": {},
   "cell_type": "markdown",
   "metadata": {
    "dotnet_interactive": {
     "language": "csharp"
    },
    "polyglot_notebook": {
     "kernelName": "csharp"
    }
   },
   "source": [
    "<br>"
   ]
  },
  {
   "attachments": {},
   "cell_type": "markdown",
   "metadata": {
    "dotnet_interactive": {
     "language": "csharp"
    },
    "polyglot_notebook": {
     "kernelName": "csharp"
    }
   },
   "source": [
    "`StringBuilder` keeps a **buffer** with a certain $Capacity$ (*16 characters* by default):   "
   ]
  },
  {
   "cell_type": "code",
   "execution_count": 7,
   "metadata": {
    "dotnet_interactive": {
     "language": "csharp"
    },
    "polyglot_notebook": {
     "kernelName": "csharp"
    },
    "vscode": {
     "languageId": "polyglot-notebook"
    }
   },
   "outputs": [
    {
     "data": {
      "text/html": [
       "<table><thead><tr><th>Capacity</th><th>MaxCapacity</th><th>Length</th></tr></thead><tbody><tr><td><div class=\"dni-plaintext\"><pre>16</pre></div></td><td><div class=\"dni-plaintext\"><pre>2147483647</pre></div></td><td><div class=\"dni-plaintext\"><pre>0</pre></div></td></tr></tbody></table>"
      ]
     },
     "metadata": {},
     "output_type": "display_data"
    }
   ],
   "source": [
    "new StringBuilder()"
   ]
  },
  {
   "attachments": {},
   "cell_type": "markdown",
   "metadata": {
    "dotnet_interactive": {
     "language": "csharp"
    },
    "polyglot_notebook": {
     "kernelName": "csharp"
    }
   },
   "source": [
    "The **buffer** is implemented as an **array of characters** that is provided to the developer by a user-friendly interface providing methods that quickly and easily **add** and **edit** the **elements** of the string.   \n",
    "   \n",
    "Once the internal **buffer** of the `StringBuilder` is full, **it automatically is doubled** (the internal **buffer** is resized to increase its *capacity* while its content is kept unchanged).    \n",
    "\n",
    "**Resizing is a slow operation**, but is happens rarely, so the total performance is good."
   ]
  },
  {
   "attachments": {},
   "cell_type": "markdown",
   "metadata": {
    "dotnet_interactive": {
     "language": "csharp"
    },
    "polyglot_notebook": {
     "kernelName": "csharp"
    }
   },
   "source": [
    "<br>"
   ]
  },
  {
   "attachments": {},
   "cell_type": "markdown",
   "metadata": {
    "dotnet_interactive": {
     "language": "csharp"
    },
    "polyglot_notebook": {
     "kernelName": "csharp"
    }
   },
   "source": [
    "#### Concatenating in Loop of 100,000 Iterations – The Right Way"
   ]
  },
  {
   "attachments": {},
   "cell_type": "markdown",
   "metadata": {
    "dotnet_interactive": {
     "language": "csharp"
    },
    "polyglot_notebook": {
     "kernelName": "csharp"
    }
   },
   "source": [
    "Suppose we defned the following method, taking, as an argument, the endpoint of a `for` **loop** which will: \n",
    "- execute efficient iterative string concatenation using the `StringBuilder` class\n",
    "- return the **amount of time it took to perform the concatenation**:"
   ]
  },
  {
   "cell_type": "code",
   "execution_count": 8,
   "metadata": {
    "dotnet_interactive": {
     "language": "csharp"
    },
    "polyglot_notebook": {
     "kernelName": "csharp"
    },
    "vscode": {
     "languageId": "polyglot-notebook"
    }
   },
   "outputs": [],
   "source": [
    "string EfficentIterativeConcatenation( int lastInteger )\n",
    "{\n",
    "\n",
    "    // Observe the time before the loop begins\n",
    "    DateTime timeBeforeLoop = DateTime.Now;\n",
    "\n",
    "\n",
    "    // Initialize a StringBuilder object with the empty string\n",
    "    // that will be to iteratively concatenated\n",
    "    StringBuilder sBuilder = new StringBuilder();\n",
    "\n",
    "\n",
    "    // Iterating For every integer from 1 up until the last integer:\n",
    "    for( int currentInteger= 1; currentInteger <= lastInteger; currentInteger++ )\n",
    "    {\n",
    "\n",
    "        // Iteratively append the current integer to the character array\n",
    "        sBuilder.Append( currentInteger );\n",
    "\n",
    "    }\n",
    "\n",
    "\n",
    "    // return the amount of time it took to execute the loop\n",
    "    return(\n",
    "        $\"Time to iteratively concatenate the string inside the loop:\\t\"\n",
    "        +\n",
    "        $\"{ DateTime.Now - timeBeforeLoop }\\n\\n\"\n",
    "    );\n",
    "\n",
    "}"
   ]
  },
  {
   "attachments": {},
   "cell_type": "markdown",
   "metadata": {
    "dotnet_interactive": {
     "language": "csharp"
    },
    "polyglot_notebook": {
     "kernelName": "csharp"
    }
   },
   "source": [
    "<br>"
   ]
  },
  {
   "attachments": {},
   "cell_type": "markdown",
   "metadata": {
    "dotnet_interactive": {
     "language": "csharp"
    },
    "polyglot_notebook": {
     "kernelName": "csharp"
    }
   },
   "source": [
    "Below, you'll see it takes a **waaaaay less time** (< 1 second) to execute a loop of $100,000$ iterations when performing string concatenation using the `StringBuilder` class then it did to use the `+` operator.  "
   ]
  },
  {
   "cell_type": "code",
   "execution_count": 9,
   "metadata": {
    "dotnet_interactive": {
     "language": "csharp"
    },
    "polyglot_notebook": {
     "kernelName": "csharp"
    },
    "vscode": {
     "languageId": "polyglot-notebook"
    }
   },
   "outputs": [
    {
     "data": {
      "text/plain": [
       "Time to iteratively concatenate the string inside the loop:\t00:00:00.0012853\n",
       "\n"
      ]
     },
     "metadata": {},
     "output_type": "display_data"
    }
   ],
   "source": [
    "EfficentIterativeConcatenation( 100000 )"
   ]
  },
  {
   "attachments": {},
   "cell_type": "markdown",
   "metadata": {
    "dotnet_interactive": {
     "language": "csharp"
    },
    "polyglot_notebook": {
     "kernelName": "csharp"
    }
   },
   "source": [
    "<br>"
   ]
  },
  {
   "attachments": {},
   "cell_type": "markdown",
   "metadata": {
    "dotnet_interactive": {
     "language": "csharp"
    },
    "polyglot_notebook": {
     "kernelName": "csharp"
    }
   },
   "source": [
    "#### The More Important `StringBuilder` Methods"
   ]
  },
  {
   "attachments": {},
   "cell_type": "markdown",
   "metadata": {
    "dotnet_interactive": {
     "language": "csharp"
    },
    "polyglot_notebook": {
     "kernelName": "csharp"
    }
   },
   "source": [
    "The `StringBuilder` class provides us with a set of **methods** that help us to easily and efficiently edit text data and construct text. The **most important** are:"
   ]
  },
  {
   "attachments": {},
   "cell_type": "markdown",
   "metadata": {
    "dotnet_interactive": {
     "language": "csharp"
    },
    "polyglot_notebook": {
     "kernelName": "csharp"
    }
   },
   "source": [
    "- `StringBuilder(int capacity)` <br> constructor with an initial capacity parameter. It may be used to set the buffer size in advance if we have estimates of the number of iterations and concatenations, which will be performed. This way we can save unnecessary dynamic memory allocations.\n",
    "- `Capacity` <br> returns the buffer size (total number of used and unused positions in the buffer).\n",
    "- `Length` <br> returns length of string saved in the variable (number of used positions in the buffer)\n",
    "- `Indexer [int index]` <br> return the character stored in given position.\n",
    "- `Append(…)` <br> appends string, number or other value after the last character in the buffer.\n",
    "- `Clear(…)` <br> removes all characters from the buffer (deletes it).\n",
    "- `Remove(int startIndex, int length)` <br> removes (deletes) string from the buffer with a given start position and length.\n",
    "- `Insert(int offset, string str)` <br> inserts a string in a given start position (offset).\n",
    "- `Replace(string oldValue, string newValue)` <br> replaces all occurrences of a given substring with another substring.\n",
    "- `ToString()` <br> returns the StringBuilder object content as a string object."
   ]
  },
  {
   "attachments": {},
   "cell_type": "markdown",
   "metadata": {
    "dotnet_interactive": {
     "language": "csharp"
    },
    "polyglot_notebook": {
     "kernelName": "csharp"
    }
   },
   "source": [
    "<br>"
   ]
  }
 ],
 "metadata": {
  "kernelspec": {
   "display_name": ".NET (C#)",
   "language": "C#",
   "name": ".net-csharp"
  },
  "polyglot_notebook": {
   "kernelInfo": {
    "defaultKernelName": "csharp",
    "items": [
     {
      "aliases": [],
      "name": "csharp"
     }
    ]
   }
  }
 },
 "nbformat": 4,
 "nbformat_minor": 2
}
