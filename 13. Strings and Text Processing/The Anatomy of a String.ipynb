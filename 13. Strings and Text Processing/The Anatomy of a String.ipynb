{
 "cells": [
  {
   "cell_type": "markdown",
   "metadata": {},
   "source": [
    "# 13. Strings and Text Processing"
   ]
  },
  {
   "attachments": {},
   "cell_type": "markdown",
   "metadata": {
    "dotnet_interactive": {
     "language": "csharp"
    },
    "polyglot_notebook": {
     "kernelName": "csharp"
    }
   },
   "source": [
    "## The Anatomy of a String\n",
    "---"
   ]
  },
  {
   "attachments": {},
   "cell_type": "markdown",
   "metadata": {
    "dotnet_interactive": {
     "language": "csharp"
    },
    "polyglot_notebook": {
     "kernelName": "csharp"
    }
   },
   "source": [
    "In $C\\#$, a **string** is a **sequence of characters** stored at a certain address in memory."
   ]
  },
  {
   "attachments": {},
   "cell_type": "markdown",
   "metadata": {
    "dotnet_interactive": {
     "language": "csharp"
    },
    "polyglot_notebook": {
     "kernelName": "csharp"
    }
   },
   "source": [
    "In $.NET\\,Framework$, each character is represented by a serial number from the $Unicode$ table. The $Unicode$ standard's predecessor, $ASCII$, is able to record only $128$ or $256$ characters (respective $ASCII$ standard with *7-bit* or *8-bit* table). Unfortunately, this often does not meet user needs – as we can only fit, within these $128$ characters, *digits*, *uppercase* and *lowercase* *Latin letters*, along with some other specific individual characters. When you have to work with text in Cyrillic or other specific language (e.g. Chinese or Arabian), $128$ or $256$ characters are extremely insufficient."
   ]
  },
  {
   "attachments": {},
   "cell_type": "markdown",
   "metadata": {
    "dotnet_interactive": {
     "language": "csharp"
    },
    "polyglot_notebook": {
     "kernelName": "csharp"
    }
   },
   "source": [
    "As such, $.NET$ uses a *16-bit* code table for the characters which store stores $2^{16} = 65,536$ characters.    \n",
    "\n",
    "What's more is that some characters are encoded in a specific way, such that it is possible to use **two** **characters** of the $Unicode$ table to create a new character – the resulting possibilities exceed 100,000."
   ]
  },
  {
   "cell_type": "markdown",
   "metadata": {
    "dotnet_interactive": {
     "language": "csharp"
    },
    "polyglot_notebook": {
     "kernelName": "csharp"
    }
   },
   "source": []
  }
 ],
 "metadata": {
  "kernelspec": {
   "display_name": ".NET (C#)",
   "language": "C#",
   "name": ".net-csharp"
  },
  "polyglot_notebook": {
   "kernelInfo": {
    "defaultKernelName": "csharp",
    "items": [
     {
      "aliases": [],
      "name": "csharp"
     },
     {
      "aliases": [],
      "languageName": null,
      "name": ".NET"
     },
     {
      "aliases": [
       "frontend"
      ],
      "languageName": null,
      "name": "vscode"
     }
    ]
   }
  }
 },
 "nbformat": 4,
 "nbformat_minor": 2
}
