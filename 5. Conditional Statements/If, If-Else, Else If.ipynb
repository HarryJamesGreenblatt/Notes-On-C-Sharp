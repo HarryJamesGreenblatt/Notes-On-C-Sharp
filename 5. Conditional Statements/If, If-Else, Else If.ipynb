{
 "cells": [
  {
   "cell_type": "markdown",
   "metadata": {},
   "source": [
    "# 5. Conditional Statements"
   ]
  },
  {
   "cell_type": "markdown",
   "metadata": {
    "dotnet_interactive": {
     "language": "csharp"
    }
   },
   "source": [
    "## `if`, $\\;$ `if-else`, $\\:$ `else if`"
   ]
  },
  {
   "cell_type": "markdown",
   "metadata": {},
   "source": [
    "---"
   ]
  },
  {
   "cell_type": "markdown",
   "metadata": {},
   "source": [
    "#### **Conditional Statement $\\;$ `if`**"
   ]
  },
  {
   "cell_type": "markdown",
   "metadata": {},
   "source": [
    "The general format of the *conditional `if` statement* is as follows:"
   ]
  },
  {
   "cell_type": "markdown",
   "metadata": {},
   "source": [
    "```c#\n",
    "if( some_boolean_expression_is_true )\n",
    "{\n",
    "    // Do stuff...\n",
    "}\n",
    "```"
   ]
  },
  {
   "cell_type": "markdown",
   "metadata": {},
   "source": [
    "If we have *only one expression in the body of the `if`-statement*,   \n",
    "the **curly brackets** denoting the body of the conditional statement **may be omitted**, as shown below:"
   ]
  },
  {
   "cell_type": "code",
   "execution_count": null,
   "metadata": {
    "dotnet_interactive": {
     "language": "csharp"
    },
    "vscode": {
     "languageId": "dotnet-interactive.csharp"
    }
   },
   "outputs": [
    {
     "name": "stdout",
     "output_type": "stream",
     "text": [
      "4 is less than 97\r\n"
     ]
    }
   ],
   "source": [
    "// Generate two random integer values for comparison.\n",
    "// along with a default string assuming an outcome which is greater.\n",
    "\n",
    "Random random   =  new Random();\n",
    "\n",
    "int    a        =  random.Next(0,100),\n",
    "       b        =  random.Next(0,100);\n",
    "\n",
    "string outcome  =  \"greater\";\n",
    "\n",
    "\n",
    "\n",
    "// Adjust the assumed outcome upon the conditon that a is, in fact, less than b \n",
    "\n",
    "if( a < b ) \n",
    "    outcome = \"less\";\n",
    "\n",
    "\n",
    "    \n",
    "// Print the outcome\n",
    "\n",
    "Console.WriteLine(\n",
    "    $\"{a} is {outcome} than {b}\"\n",
    ");"
   ]
  },
  {
   "cell_type": "markdown",
   "metadata": {},
   "source": [
    "<br>"
   ]
  },
  {
   "cell_type": "markdown",
   "metadata": {},
   "source": [
    "#### **Conditional Statement $\\;$ `if-else`**"
   ]
  },
  {
   "cell_type": "markdown",
   "metadata": {},
   "source": [
    "```c#\n",
    "if( some_boolean_expression_is_true )\n",
    "{\n",
    "    // Do this stuff...\n",
    "}\n",
    "else\n",
    "{\n",
    "    // Do that stuff instead...\n",
    "}\n",
    "```"
   ]
  },
  {
   "cell_type": "markdown",
   "metadata": {},
   "source": [
    "If the `bool` is calculated to `true`, the *body of the conditional statement is executed* and **the `else`-statement is omitted** and its operators ***do not execute***.    \n",
    "   \n",
    "*Otherwise*, if the `bool` is calculated to `false`, *the `else`-body is executed*, the **main body of the conditional statement is omitted** and the statements in it are *not executed*."
   ]
  },
  {
   "cell_type": "code",
   "execution_count": null,
   "metadata": {
    "dotnet_interactive": {
     "language": "csharp"
    },
    "vscode": {
     "languageId": "dotnet-interactive.csharp"
    }
   },
   "outputs": [
    {
     "name": "stdout",
     "output_type": "stream",
     "text": [
      "86 is greater than 29\r\n"
     ]
    }
   ],
   "source": [
    "// Generate two random integer values for comparison.\n",
    "// but we no longer need to presumptively Hard Code a default outcome \n",
    "\n",
    "Random random = new Random();\n",
    "\n",
    "int    a        =  random.Next(0,100),\n",
    "       b        =  random.Next(0,100);\n",
    "\n",
    "string outcome  =  null;\n",
    "\n",
    "\n",
    "\n",
    "// Using if-else, \n",
    "// we can fully evaluate the outcome as being one way or the other \n",
    "\n",
    "if( a < b ) \n",
    "    outcome = \"less\";\n",
    "\n",
    "else \n",
    "    outcome = \"greater\";\n",
    "\n",
    "\n",
    "    \n",
    "// Print the outcome\n",
    "\n",
    "Console.WriteLine(\n",
    "\n",
    "    $\"{a} is {outcome} than {b}\"\n",
    "    \n",
    ");"
   ]
  },
  {
   "cell_type": "markdown",
   "metadata": {},
   "source": [
    "##### An alternative approach to $\\;$`if-else`: $\\quad$ **Ternary Statements**"
   ]
  },
  {
   "cell_type": "markdown",
   "metadata": {},
   "source": [
    "> $\\textit{Recall from:}\\qquad$ [3. Operators and Expressions | Conditional Operator ?:](../3.%20Operators%20and%20Expressions/Operators/Conditional%20Operator.ipynb)\n",
    "\n",
    "> The **conditional operator** `?:` uses the *Boolean value* of an expression to determine *which of two other expressions must be returned as a result*. \n",
    "> \n",
    "> The operator works on **three operands** and that is why it is called a\n",
    "> **ternary** operator.   \n",
    ">   \n",
    "> The character `?` is placed *between the first and second operand*,   \n",
    "> and `:` is placed *between the second and third operand*.  \n",
    "> - The *first operand* (or expression) must be `bool` type, and the *next two operands* must be of the *same type*, such as numbers or strings.\n",
    "\n",
    "> The operator `?:` has the following syntax:\n",
    ">    \n",
    "> $$\\text{operand1 \\,?\\,\\, operand2 \\,:\\,\\, operand3}$$"
   ]
  },
  {
   "cell_type": "code",
   "execution_count": null,
   "metadata": {
    "dotnet_interactive": {
     "language": "csharp"
    },
    "vscode": {
     "languageId": "dotnet-interactive.csharp"
    }
   },
   "outputs": [
    {
     "name": "stdout",
     "output_type": "stream",
     "text": [
      "95 is greater than 17\r\n"
     ]
    }
   ],
   "source": [
    "// Generate two random integer values for comparison.\n",
    "\n",
    "Random random = new Random();\n",
    "\n",
    "int    a        =  random.Next(0,100),\n",
    "       b        =  random.Next(0,100);\n",
    "\n",
    "\n",
    "\n",
    "// Using the following string-interpolated Ternary Statement , \n",
    "// we can evaluate and print the outcome as being one way or the other \n",
    "\n",
    "Console.WriteLine(\n",
    "\n",
    "    $\"{a} is {( ( a < b ) ? \"less\" : \"greater\" )} than {b}\"\n",
    "    \n",
    ");"
   ]
  },
  {
   "cell_type": "markdown",
   "metadata": {},
   "source": [
    "<br>"
   ]
  },
  {
   "cell_type": "markdown",
   "metadata": {},
   "source": [
    "#### **Conditional Statement $\\;$ `else if`**"
   ]
  },
  {
   "cell_type": "markdown",
   "metadata": {},
   "source": [
    "Sometimes we need to use a *sequence of `if` structures*, where the `else` clause is a *new `if` structure*. "
   ]
  },
  {
   "cell_type": "code",
   "execution_count": null,
   "metadata": {
    "dotnet_interactive": {
     "language": "csharp"
    },
    "vscode": {
     "languageId": "dotnet-interactive.csharp"
    }
   },
   "outputs": [
    {
     "name": "stdout",
     "output_type": "stream",
     "text": [
      "69 is divisible by 3 and greater than 4\r\n"
     ]
    }
   ],
   "source": [
    "// Generate two random integer values for comparison.\n",
    "// but we no longer need to presumptively Hard Code a default outcome \n",
    "\n",
    "Random random = new Random();\n",
    "\n",
    "int    a        =  random.Next(0,100),\n",
    "       b        =  random.Next(0,100);\n",
    "\n",
    "string outcome  =  null;\n",
    "\n",
    "\n",
    "\n",
    "// Using if-else, else if, else, \n",
    "// we may further evaluate if one or more additional conditions apply \n",
    "\n",
    "if( a < b ) \n",
    "    outcome = \"less\";\n",
    "\n",
    "\n",
    "else if( (a  % 2 == 0) ){\n",
    "    outcome = \"divisible by 2 and greater\";\n",
    "}\n",
    "else if( (a  % 3 == 0) ){\n",
    "    outcome = \"divisible by 3 and greater\";\n",
    "}\n",
    "else if( (a  % 4 == 0) ){\n",
    "    outcome = \"divisible by 5 and greater\";\n",
    "}\n",
    "else if( (a  % 5 == 0) ){\n",
    "    outcome = \"divisible by 7 and greater\";\n",
    "}\n",
    "\n",
    "else \n",
    "    outcome = \"not divisible by 2, 3, 5, or 7, and greater\";\n",
    "\n",
    "\n",
    "    \n",
    "// Print the outcome\n",
    "\n",
    "Console.WriteLine(\n",
    "\n",
    "    $\"{a} is {outcome} than {b}\"\n",
    "    \n",
    ");"
   ]
  },
  {
   "cell_type": "markdown",
   "metadata": {},
   "source": [
    "Observe that **only the *first statement* which satisfies the condition will be executed**... "
   ]
  },
  {
   "cell_type": "code",
   "execution_count": null,
   "metadata": {
    "dotnet_interactive": {
     "language": "csharp"
    },
    "vscode": {
     "languageId": "dotnet-interactive.csharp"
    }
   },
   "outputs": [
    {
     "name": "stdout",
     "output_type": "stream",
     "text": [
      "100 is divisible by ten\r\n"
     ]
    }
   ],
   "source": [
    "if( (100 % 10 == 0) ) \n",
    "    Console.WriteLine(\"100 is divisible by ten\");\n",
    "\n",
    "\n",
    "else if( (100 % 5 == 0) ){\n",
    "    Console.WriteLine(\"100 is divisible by five\");\n",
    "}\n",
    "else if( (100  % 2 == 0) ){\n",
    "    Console.WriteLine(\"100 is divisible by two\");\n",
    "}\n",
    "\n",
    "else \n",
    "    Console.WriteLine(\"Something is very wrong here...\");\n"
   ]
  },
  {
   "cell_type": "markdown",
   "metadata": {},
   "source": [
    "---"
   ]
  }
 ],
 "metadata": {
  "kernelspec": {
   "display_name": ".NET (C#)",
   "language": "C#",
   "name": ".net-csharp"
  },
  "language_info": {
   "file_extension": ".cs",
   "mimetype": "text/x-csharp",
   "name": "C#",
   "pygments_lexer": "csharp",
   "version": "9.0"
  },
  "orig_nbformat": 4
 },
 "nbformat": 4,
 "nbformat_minor": 2
}
