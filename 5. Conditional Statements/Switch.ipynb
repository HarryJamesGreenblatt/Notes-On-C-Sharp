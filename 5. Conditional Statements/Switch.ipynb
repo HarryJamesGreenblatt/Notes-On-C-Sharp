{
 "cells": [
  {
   "cell_type": "markdown",
   "metadata": {},
   "source": [
    "# 5. Conditional Statements"
   ]
  },
  {
   "cell_type": "markdown",
   "metadata": {
    "dotnet_interactive": {
     "language": "csharp"
    }
   },
   "source": [
    "## `switch`"
   ]
  },
  {
   "cell_type": "markdown",
   "metadata": {},
   "source": [
    "---"
   ]
  },
  {
   "cell_type": "markdown",
   "metadata": {
    "dotnet_interactive": {
     "language": "csharp"
    }
   },
   "source": [
    "The `switch` structure chooses which part of the programming code to execute *based on the calculated value of a certain **selector***."
   ]
  },
  {
   "cell_type": "markdown",
   "metadata": {},
   "source": [
    "```c#\n",
    "switch( selector )\n",
    "{\n",
    "\n",
    "    case selector_has_value_1:\n",
    "        // Do something\n",
    "        break;\n",
    "\n",
    "    case selector_has_value_2:\n",
    "        // Do something else\n",
    "        break;\n",
    "\n",
    "    //  ...\n",
    "    \n",
    "    case selector_has_value_n:\n",
    "        // Do something else\n",
    "        break;\n",
    "\n",
    "    default:\n",
    "        // Do this if no other case applies\n",
    "        break;\n",
    "        \n",
    "}\n",
    "```"
   ]
  },
  {
   "cell_type": "markdown",
   "metadata": {},
   "source": [
    "Within a `switch` statement, control *cannot fall through* from one switch section to the next.\n",
    "\n"
   ]
  },
  {
   "cell_type": "markdown",
   "metadata": {},
   "source": [
    "<br>"
   ]
  },
  {
   "cell_type": "markdown",
   "metadata": {},
   "source": [
    "#### **Patterns**"
   ]
  },
  {
   "cell_type": "markdown",
   "metadata": {},
   "source": [
    "The `switch` statement may also select a statement list to execute based on a ***pattern*** ***match*** with a **match expression**:"
   ]
  },
  {
   "cell_type": "code",
   "execution_count": null,
   "metadata": {
    "dotnet_interactive": {
     "language": "csharp"
    },
    "vscode": {
     "languageId": "dotnet-interactive.csharp"
    }
   },
   "outputs": [
    {
     "name": "stdout",
     "output_type": "stream",
     "text": [
      "Measured value is -42; too low.\r\n"
     ]
    }
   ],
   "source": [
    "Random random = new Random();\n",
    "double measurement =  random.Next(-50, 50);\n",
    "\n",
    "\n",
    "\n",
    "switch ( measurement )\n",
    "{\n",
    "    case ( < 0.0 ):\n",
    "        Console.WriteLine($\"Measured value is {measurement}; too low.\");\n",
    "        break;\n",
    "\n",
    "    case ( > 15.0 ):\n",
    "        Console.WriteLine($\"Measured value is {measurement}; too high.\");\n",
    "        break;\n",
    "\n",
    "    case double.NaN:\n",
    "        Console.WriteLine(\"Failed measurement.\");\n",
    "        break;\n",
    "\n",
    "    default:\n",
    "        Console.WriteLine($\"Measured value is {measurement}.\");\n",
    "        break;\n",
    "}"
   ]
  },
  {
   "cell_type": "markdown",
   "metadata": {},
   "source": [
    "C# uses the following **patterns**:\n",
    "\n",
    "- A [relational pattern](https://docs.microsoft.com/en-us/dotnet/csharp/language-reference/operators/patterns#relational-patterns) (available in *C# 9.0* and later): to ***compare** an expression result with a constant*.\n",
    "- A [constant pattern](https://docs.microsoft.com/en-us/dotnet/csharp/language-reference/operators/patterns#constant-pattern) (available in C# 7.0 and later): to *test if an expression result **equals** a constant*.\n",
    "- A [positional pattern](https://docs.microsoft.com/en-us/dotnet/csharp/language-reference/operators/patterns#positional-pattern) (available in C# 8.0 and later): to **deconstruct an expression result** and match the resulting values against the corresponding nested patterns.\n"
   ]
  },
  {
   "cell_type": "markdown",
   "metadata": {},
   "source": [
    "<br>"
   ]
  },
  {
   "cell_type": "markdown",
   "metadata": {},
   "source": [
    "#### **`default` $\\;$ case**"
   ]
  },
  {
   "cell_type": "markdown",
   "metadata": {},
   "source": [
    "The preceding example also demonstrated the `default` case. \n",
    "\n",
    "```\n",
    "default:\n",
    "    Console.WriteLine($\"Measured value is {measurement}.\");\n",
    "    break;\n",
    "```\n",
    "   \n",
    "The `default` case specifies statements to execute when a *match expression doesn't match any other case pattern*.   \n",
    "    \n",
    "If a match expression doesn't match any case pattern and there is no `default` case,  \n",
    "control *falls through* a `switch` statement."
   ]
  },
  {
   "cell_type": "markdown",
   "metadata": {},
   "source": [
    "<br>"
   ]
  },
  {
   "cell_type": "markdown",
   "metadata": {},
   "source": [
    "#### **Case Guards**"
   ]
  },
  {
   "cell_type": "markdown",
   "metadata": {},
   "source": [
    "A `case` pattern may be not expressive enough to specify the condition for the execution of the `switch` section.  \n",
    "\n",
    "In such a case, you can use a **case guard**.    \n",
    "That is an **additional condition that must be satisfied** together with a matched pattern.   \n",
    "   \n",
    "A case guard must be a *Boolean expression*.\n",
    "        \n",
    "You specify a case guard after the `when` keyword that follows a pattern:"
   ]
  },
  {
   "cell_type": "code",
   "execution_count": null,
   "metadata": {
    "dotnet_interactive": {
     "language": "csharp"
    },
    "vscode": {
     "languageId": "dotnet-interactive.csharp"
    }
   },
   "outputs": [
    {
     "name": "stdout",
     "output_type": "stream",
     "text": [
      "-9 is negative and either divisible by 2, or by 3.\r\n"
     ]
    }
   ],
   "source": [
    "Random random = new Random();\n",
    "double sample = random.Next( -50, 50 );\n",
    "\n",
    "\n",
    "\n",
    "switch ( sample )\n",
    "{\n",
    "    case ( > 0 ) when ( sample % 2 == 0 ):\n",
    "        Console.WriteLine( $\"{sample} is positive and divisible by 2.\" );\n",
    "        break;\n",
    "\n",
    "    case ( < 0 ) when ( sample % 2 == 0 ) || ( sample % 3 == 0 ):\n",
    "        Console.WriteLine ($\"{sample} is negative and either divisible by 2, or by 3.\" );\n",
    "        break;\n",
    "\n",
    "    default:\n",
    "        Console.WriteLine( \"Was I supposed to do something?\" );\n",
    "        break;\n",
    "}"
   ]
  },
  {
   "cell_type": "markdown",
   "metadata": {},
   "source": [
    "<br>"
   ]
  },
  {
   "cell_type": "markdown",
   "metadata": {},
   "source": [
    "#### **Using Multiple Labels**"
   ]
  },
  {
   "cell_type": "code",
   "execution_count": null,
   "metadata": {
    "dotnet_interactive": {
     "language": "csharp"
    },
    "vscode": {
     "languageId": "dotnet-interactive.csharp"
    }
   },
   "outputs": [
    {
     "name": "stdout",
     "output_type": "stream",
     "text": [
      "The number is not prime!\r\n"
     ]
    }
   ],
   "source": [
    "int number = 6; \n",
    "\n",
    "switch (number) {\n",
    "    case 1: \n",
    "    case 4: \n",
    "    case 6: \n",
    "    case 8: \n",
    "    case 10: \n",
    "        Console.WriteLine(\"The number is not prime!\"); \n",
    "        break;\n",
    "    case 2: \n",
    "    case 3: \n",
    "    case 5: \n",
    "    case 7: \n",
    "        Console.WriteLine(\"The number is prime!\"); \n",
    "        break;\n",
    "    default: \n",
    "        Console.WriteLine(\"Unknown number!\"); break;\n",
    "}"
   ]
  },
  {
   "cell_type": "markdown",
   "metadata": {},
   "source": [
    "---"
   ]
  }
 ],
 "metadata": {
  "kernelspec": {
   "display_name": ".NET (C#)",
   "language": "C#",
   "name": ".net-csharp"
  },
  "language_info": {
   "file_extension": ".cs",
   "mimetype": "text/x-csharp",
   "name": "C#",
   "pygments_lexer": "csharp",
   "version": "9.0"
  },
  "orig_nbformat": 4
 },
 "nbformat": 4,
 "nbformat_minor": 2
}
