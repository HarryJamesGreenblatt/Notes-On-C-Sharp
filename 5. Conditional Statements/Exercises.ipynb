{
 "cells": [
  {
   "cell_type": "markdown",
   "metadata": {},
   "source": [
    "# 5. Conditional Statements"
   ]
  },
  {
   "cell_type": "markdown",
   "metadata": {},
   "source": [
    "## Exercises\n",
    "\n",
    "---\n",
    "---"
   ]
  },
  {
   "cell_type": "markdown",
   "metadata": {},
   "source": [
    "##### $1)\\,\\,$ Write an **`if`-statement** that takes *two integer variables* and *exchanges their values* `if` the *first one* is **greater than** the *second one*."
   ]
  },
  {
   "cell_type": "code",
   "execution_count": null,
   "metadata": {
    "dotnet_interactive": {
     "language": "csharp"
    },
    "vscode": {
     "languageId": "dotnet-interactive.csharp"
    }
   },
   "outputs": [],
   "source": [
    "// Generate two randomized integer variables\n",
    "// between 0 and 100 \n",
    "\n",
    "Random rand = new Random();\n",
    "\n",
    "public int first_one  = rand.Next(0, 100);\n",
    "public int second_one = rand.Next(0, 100);"
   ]
  },
  {
   "cell_type": "code",
   "execution_count": null,
   "metadata": {
    "dotnet_interactive": {
     "language": "csharp"
    },
    "vscode": {
     "languageId": "dotnet-interactive.csharp"
    }
   },
   "outputs": [
    {
     "name": "stdout",
     "output_type": "stream",
     "text": [
      "first one: 78\n",
      "second one: 14\r\n"
     ]
    }
   ],
   "source": [
    "Console.WriteLine(\n",
    "    $\"first one: {first_one}\\nsecond one: {second_one}\"\n",
    ");"
   ]
  },
  {
   "cell_type": "code",
   "execution_count": null,
   "metadata": {
    "dotnet_interactive": {
     "language": "csharp"
    },
    "vscode": {
     "languageId": "dotnet-interactive.csharp"
    }
   },
   "outputs": [],
   "source": [
    "if (first_one > second_one)\n",
    "{\n",
    "    int temp   = second_one;\n",
    "    \n",
    "    second_one = first_one;\n",
    "    first_one  = temp;\n",
    "}\n"
   ]
  },
  {
   "cell_type": "code",
   "execution_count": null,
   "metadata": {
    "dotnet_interactive": {
     "language": "csharp"
    },
    "vscode": {
     "languageId": "dotnet-interactive.csharp"
    }
   },
   "outputs": [
    {
     "name": "stdout",
     "output_type": "stream",
     "text": [
      "first one: 53\n",
      "second one: 66\r\n"
     ]
    }
   ],
   "source": [
    "Console.WriteLine(\n",
    "    $\"first one: {first_one}\\nsecond one: {second_one}\"\n",
    ");"
   ]
  },
  {
   "cell_type": "markdown",
   "metadata": {},
   "source": [
    "---"
   ]
  },
  {
   "cell_type": "markdown",
   "metadata": {},
   "source": [
    "##### $2)\\,\\,$ Write a program that shows the **sign (`+` or `-`)** of the *product of three real numbers*, without calculating it."
   ]
  },
  {
   "cell_type": "code",
   "execution_count": null,
   "metadata": {
    "dotnet_interactive": {
     "language": "csharp"
    },
    "vscode": {
     "languageId": "dotnet-interactive.csharp"
    }
   },
   "outputs": [],
   "source": [
    "// Generate three randomized real-valued variables\n",
    "// between -50.0 and 255.0 \n",
    "\n",
    "Random rand = new Random();\n",
    "\n",
    "public float r1  = (float) rand.Next(-50, 255);\n",
    "public float r2  = (float) rand.Next(-50, 255);\n",
    "public float r3  = (float) rand.Next(-50, 255);"
   ]
  },
  {
   "cell_type": "code",
   "execution_count": null,
   "metadata": {
    "dotnet_interactive": {
     "language": "csharp"
    },
    "vscode": {
     "languageId": "dotnet-interactive.csharp"
    }
   },
   "outputs": [
    {
     "name": "stdout",
     "output_type": "stream",
     "text": [
      "Real Number One: -46.0\n",
      "Real Number Two: 233.0\n",
      "Real Number Three: 181.0\r\n"
     ]
    }
   ],
   "source": [
    "Console.WriteLine(\n",
    "    $\"Real Number One: {r1:f1}\\n\"\n",
    "    +\n",
    "    $\"Real Number Two: {r2:f1}\\n\"\n",
    "    +\n",
    "    $\"Real Number Three: {r3:f1}\"\n",
    ");"
   ]
  },
  {
   "cell_type": "code",
   "execution_count": null,
   "metadata": {
    "dotnet_interactive": {
     "language": "csharp"
    },
    "vscode": {
     "languageId": "dotnet-interactive.csharp"
    }
   },
   "outputs": [],
   "source": [
    "public bool one_of_the_real_numbers_is_negative =\n",
    "\n",
    "    Convert.ToString(r1).StartsWith('-')\n",
    "    ||\n",
    "    Convert.ToString(r2).StartsWith('-')\n",
    "    ||\n",
    "    Convert.ToString(r3).StartsWith('-')\n",
    "    \n",
    ";"
   ]
  },
  {
   "cell_type": "code",
   "execution_count": null,
   "metadata": {
    "dotnet_interactive": {
     "language": "csharp"
    },
    "vscode": {
     "languageId": "dotnet-interactive.csharp"
    }
   },
   "outputs": [
    {
     "name": "stdout",
     "output_type": "stream",
     "text": [
      "-\r\n"
     ]
    }
   ],
   "source": [
    "Console.WriteLine(\n",
    "\n",
    "    (one_of_the_real_numbers_is_negative) ? '-' : '+'\n",
    "    \n",
    ");"
   ]
  },
  {
   "cell_type": "markdown",
   "metadata": {},
   "source": [
    "---"
   ]
  },
  {
   "cell_type": "markdown",
   "metadata": {
    "dotnet_interactive": {
     "language": "csharp"
    }
   },
   "source": [
    "##### $2)\\,\\,$ Write a program that finds the **biggest** of *three integers*, using nested `if` statements."
   ]
  },
  {
   "cell_type": "code",
   "execution_count": null,
   "metadata": {
    "dotnet_interactive": {
     "language": "csharp"
    },
    "vscode": {
     "languageId": "dotnet-interactive.csharp"
    }
   },
   "outputs": [],
   "source": [
    "Random rand = new Random();\n",
    "\n",
    "public int i1  = rand.Next(-50, 255);\n",
    "public int i2  = rand.Next(-50, 255);\n",
    "public int i3  = rand.Next(-50, 255);"
   ]
  },
  {
   "cell_type": "code",
   "execution_count": null,
   "metadata": {
    "dotnet_interactive": {
     "language": "csharp"
    },
    "vscode": {
     "languageId": "dotnet-interactive.csharp"
    }
   },
   "outputs": [],
   "source": [
    "public int biggest_of_three(int i1, int i2, int i3)\n",
    "{    \n",
    "    if(i1 > i2 && i1 > i3)\n",
    "            return i1;\n",
    "    \n",
    "    if(i2 > i1 && i2 > i3) \n",
    "            return i2;  \n",
    "\n",
    "    return i3;     \n",
    "}\n"
   ]
  },
  {
   "cell_type": "code",
   "execution_count": null,
   "metadata": {
    "dotnet_interactive": {
     "language": "csharp"
    },
    "vscode": {
     "languageId": "dotnet-interactive.csharp"
    }
   },
   "outputs": [
    {
     "name": "stdout",
     "output_type": "stream",
     "text": [
      "i1 : 144\n",
      "i2 : 74\n",
      "i3 : 224\n",
      "\n",
      "The biggest of the three is:  224\r\n"
     ]
    }
   ],
   "source": [
    "Console.WriteLine(\n",
    "    $\"i1 : {i1}\\n\"\n",
    "    +\n",
    "    $\"i2 : {i2}\\n\"\n",
    "    +\n",
    "    $\"i3 : {i3}\\n\\n\"\n",
    "    +\n",
    "    $\"The biggest of the three is:  \"\n",
    "    +\n",
    "    biggest_of_three( i1, i2, i3 )\n",
    ");"
   ]
  }
 ],
 "metadata": {
  "kernelspec": {
   "display_name": ".NET (C#)",
   "language": "C#",
   "name": ".net-csharp"
  },
  "language_info": {
   "file_extension": ".cs",
   "mimetype": "text/x-csharp",
   "name": "C#",
   "pygments_lexer": "csharp",
   "version": "9.0"
  },
  "orig_nbformat": 4
 },
 "nbformat": 4,
 "nbformat_minor": 2
}
