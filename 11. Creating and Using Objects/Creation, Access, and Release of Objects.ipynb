{
 "cells": [
  {
   "attachments": {},
   "cell_type": "markdown",
   "metadata": {
    "dotnet_interactive": {
     "language": "csharp"
    },
    "polyglot_notebook": {
     "kernelName": "csharp"
    }
   },
   "source": [
    "# 11. Creating and Using Objects"
   ]
  },
  {
   "attachments": {},
   "cell_type": "markdown",
   "metadata": {
    "dotnet_interactive": {
     "language": "csharp"
    },
    "polyglot_notebook": {
     "kernelName": "csharp"
    }
   },
   "source": [
    "## Creation, Access, and Release of Objects\n",
    "---"
   ]
  },
  {
   "attachments": {},
   "cell_type": "markdown",
   "metadata": {
    "dotnet_interactive": {
     "language": "csharp"
    },
    "polyglot_notebook": {
     "kernelName": "csharp"
    }
   },
   "source": [
    "Suppose we have defined the following `class` modeled after a $Cat$ "
   ]
  },
  {
   "cell_type": "code",
   "execution_count": 1,
   "metadata": {
    "dotnet_interactive": {
     "language": "csharp"
    },
    "polyglot_notebook": {
     "kernelName": "csharp"
    },
    "vscode": {
     "languageId": "polyglot-notebook"
    }
   },
   "outputs": [],
   "source": [
    "public class Cat\n",
    "{\n",
    "\n",
    "    // Fields /////////////////////////////////////////////////////////\n",
    "    private string name,\n",
    "                   fur_color;\n",
    "    ///////////////////////////////////////////////////////////////////\n",
    "\n",
    "\n",
    "    // Properties /////////////////////////////////////////////////////\n",
    "    public string Name\n",
    "    {\n",
    "        get\n",
    "        {\n",
    "            return this.name;\n",
    "        }\n",
    "\n",
    "        set\n",
    "        {\n",
    "            this.name = value;\n",
    "        }\n",
    "    }\n",
    "\n",
    "    public string FurColor\n",
    "    {\n",
    "        get\n",
    "        {\n",
    "            return this.fur_color;\n",
    "        }\n",
    "\n",
    "        set\n",
    "        {\n",
    "            this.fur_color = value;\n",
    "        }\n",
    "    }\n",
    "    ////////////////////////////////////////////////////////////////////\n",
    "\n",
    "\n",
    "    // Constructors ////////////////////////////////////////////////////\n",
    "    //                       Default                                  // \n",
    "    public Cat()\n",
    "    {\n",
    "        this.Name     = \"Stray\";\n",
    "        this.FurColor = \"Gray\";\n",
    "    }\n",
    "    //                     Parameterized                               // \n",
    "    public Cat( string name, string fur_color )\n",
    "    {\n",
    "        this.Name     = name;\n",
    "        this.FurColor = fur_color;\n",
    "    }\n",
    "    ////////////////////////////////////////////////////////////////////\n",
    "\n",
    "\n",
    "    // Methods /////////////////////////////////////////////////////////\n",
    "    //                      Public Access                             //\n",
    "    public void Meow()\n",
    "    {\n",
    "        Console.WriteLine($\"A Cat named {this.name} says: Meeeeoow!\");\n",
    "    }\n",
    "    //                      Private Access                            //\n",
    "    private void Purr()\n",
    "    {\n",
    "        Console.WriteLine($\"A Cat named {this.name} likes you alot.\");    \n",
    "    }\n",
    "    ////////////////////////////////////////////////////////////////////\n",
    "\n",
    "}"
   ]
  },
  {
   "attachments": {},
   "cell_type": "markdown",
   "metadata": {
    "dotnet_interactive": {
     "language": "csharp"
    },
    "polyglot_notebook": {
     "kernelName": "csharp"
    }
   },
   "source": [
    "The `Cat` `class`  defines the $Properties$ `Name` and `FurColor`, which keep their values in the *hidden* (*private*) $Fields$ *name* and *color*.    \n",
    "    \n",
    "Furthermore, **two** $Constructors$ are defined for creating instances of the `Cat` `class` , respectively *with* and *without* parameters, and a $Method$ to `Meow()`."
   ]
  },
  {
   "attachments": {},
   "cell_type": "markdown",
   "metadata": {
    "dotnet_interactive": {
     "language": "csharp"
    },
    "polyglot_notebook": {
     "kernelName": "csharp"
    }
   },
   "source": [
    "<br>"
   ]
  },
  {
   "attachments": {},
   "cell_type": "markdown",
   "metadata": {
    "dotnet_interactive": {
     "language": "csharp"
    },
    "polyglot_notebook": {
     "kernelName": "csharp"
    }
   },
   "source": [
    "### Creation of Objects With or Without Parameters"
   ]
  },
  {
   "attachments": {},
   "cell_type": "markdown",
   "metadata": {
    "dotnet_interactive": {
     "language": "csharp"
    },
    "polyglot_notebook": {
     "kernelName": "csharp"
    }
   },
   "source": [
    "The **creation of an object** from a pre-defined `class` during program execution is performed by the `new` operator. "
   ]
  },
  {
   "cell_type": "code",
   "execution_count": 2,
   "metadata": {
    "dotnet_interactive": {
     "language": "csharp"
    },
    "polyglot_notebook": {
     "kernelName": "csharp"
    },
    "vscode": {
     "languageId": "polyglot-notebook"
    }
   },
   "outputs": [
    {
     "data": {
      "text/html": [
       "<table><thead><tr><th>Name</th><th>FurColor</th></tr></thead><tbody><tr><td><div class=\"dni-plaintext\"><pre>Stray</pre></div></td><td><div class=\"dni-plaintext\"><pre>Gray</pre></div></td></tr></tbody></table>"
      ]
     },
     "metadata": {},
     "output_type": "display_data"
    }
   ],
   "source": [
    "new Cat()"
   ]
  },
  {
   "attachments": {},
   "cell_type": "markdown",
   "metadata": {
    "dotnet_interactive": {
     "language": "csharp"
    },
    "polyglot_notebook": {
     "kernelName": "csharp"
    }
   },
   "source": [
    "It's important to understand that, in this assignment, the **object**'s *value* is not *copied*, but rather a **reference** (**address in memory**) to the newly created **object** is passed directly into the variable."
   ]
  },
  {
   "attachments": {},
   "cell_type": "markdown",
   "metadata": {
    "dotnet_interactive": {
     "language": "csharp"
    },
    "polyglot_notebook": {
     "kernelName": "csharp"
    }
   },
   "source": [
    "<br>"
   ]
  },
  {
   "attachments": {},
   "cell_type": "markdown",
   "metadata": {
    "dotnet_interactive": {
     "language": "csharp"
    },
    "polyglot_notebook": {
     "kernelName": "csharp"
    }
   },
   "source": [
    "A newly created **object** is *usually* assigned to a variable of the same $type$ coinciding with the `class` of the **object**. "
   ]
  },
  {
   "cell_type": "code",
   "execution_count": 3,
   "metadata": {
    "dotnet_interactive": {
     "language": "csharp"
    },
    "polyglot_notebook": {
     "kernelName": "csharp"
    },
    "vscode": {
     "languageId": "polyglot-notebook"
    }
   },
   "outputs": [],
   "source": [
    "Cat Garfield = new Cat(\"Garfield\", \"Orange\");"
   ]
  },
  {
   "cell_type": "code",
   "execution_count": 4,
   "metadata": {
    "dotnet_interactive": {
     "language": "csharp"
    },
    "polyglot_notebook": {
     "kernelName": "csharp"
    },
    "vscode": {
     "languageId": "polyglot-notebook"
    }
   },
   "outputs": [
    {
     "data": {
      "text/html": [
       "<table><thead><tr><th>Name</th><th>FurColor</th></tr></thead><tbody><tr><td><div class=\"dni-plaintext\"><pre>Garfield</pre></div></td><td><div class=\"dni-plaintext\"><pre>Orange</pre></div></td></tr></tbody></table>"
      ]
     },
     "metadata": {},
     "output_type": "display_data"
    }
   ],
   "source": [
    "Garfield"
   ]
  },
  {
   "attachments": {},
   "cell_type": "markdown",
   "metadata": {
    "dotnet_interactive": {
     "language": "csharp"
    },
    "polyglot_notebook": {
     "kernelName": "csharp"
    }
   },
   "source": [
    "<br>"
   ]
  },
  {
   "attachments": {},
   "cell_type": "markdown",
   "metadata": {
    "dotnet_interactive": {
     "language": "csharp"
    },
    "polyglot_notebook": {
     "kernelName": "csharp"
    }
   },
   "source": [
    "### Accessing Objects"
   ]
  },
  {
   "attachments": {},
   "cell_type": "markdown",
   "metadata": {
    "dotnet_interactive": {
     "language": "csharp"
    },
    "polyglot_notebook": {
     "kernelName": "csharp"
    }
   },
   "source": [
    "#### Properties"
   ]
  },
  {
   "attachments": {},
   "cell_type": "markdown",
   "metadata": {
    "dotnet_interactive": {
     "language": "csharp"
    },
    "polyglot_notebook": {
     "kernelName": "csharp"
    }
   },
   "source": [
    "The access to the **Properties** of a given **object** is provided by the `.` (dot) operator placed between the **name of the object** and the **name of the Property (or the property)**, as generalized below:"
   ]
  },
  {
   "attachments": {},
   "cell_type": "markdown",
   "metadata": {
    "dotnet_interactive": {
     "language": "csharp"
    },
    "polyglot_notebook": {
     "kernelName": "csharp"
    }
   },
   "source": [
    "```c#\n",
    "ObjectName.PropertyName\n",
    "```"
   ]
  },
  {
   "attachments": {},
   "cell_type": "markdown",
   "metadata": {
    "dotnet_interactive": {
     "language": "csharp"
    },
    "polyglot_notebook": {
     "kernelName": "csharp"
    }
   },
   "source": [
    "We can **access** the **Properties** either to *extract data* from them, or to *assign new data*. These tasks are achieved, respectively,  by the keywords `get` and `set` within in the `class` definition."
   ]
  },
  {
   "attachments": {},
   "cell_type": "markdown",
   "metadata": {
    "dotnet_interactive": {
     "language": "csharp"
    },
    "polyglot_notebook": {
     "kernelName": "csharp"
    }
   },
   "source": [
    "   \n",
    "In the definition of the `Cat` `class` (given above) the **Properties** are defined as:\n",
    "- `Name`\n",
    "- `FurColor`"
   ]
  },
  {
   "attachments": {},
   "cell_type": "markdown",
   "metadata": {
    "dotnet_interactive": {
     "language": "csharp"
    },
    "polyglot_notebook": {
     "kernelName": "csharp"
    }
   },
   "source": [
    "<br>"
   ]
  },
  {
   "attachments": {},
   "cell_type": "markdown",
   "metadata": {
    "dotnet_interactive": {
     "language": "csharp"
    },
    "polyglot_notebook": {
     "kernelName": "csharp"
    }
   },
   "source": [
    "#### Methods"
   ]
  },
  {
   "attachments": {},
   "cell_type": "markdown",
   "metadata": {
    "dotnet_interactive": {
     "language": "csharp"
    },
    "polyglot_notebook": {
     "kernelName": "csharp"
    }
   },
   "source": [
    "Calling the **Methods** of a given object is done through the invocation operator () and with the help of the operator . (dot). The operator dot is not obligatory only in case the method is called in the body of another method of the same class. Calling a **Method** is performed by its name followed by `()` or `( [parameters] )` for the case when we pass it some *arguments*. \n",
    "   \n",
    "`class` **Methods** have **access modifiers** `public`, `private` or `protected` which leverage varing degrees of restrictions upon *where* the associated Method can be invoked from."
   ]
  },
  {
   "cell_type": "code",
   "execution_count": 5,
   "metadata": {
    "dotnet_interactive": {
     "language": "csharp"
    },
    "polyglot_notebook": {
     "kernelName": "csharp"
    },
    "vscode": {
     "languageId": "polyglot-notebook"
    }
   },
   "outputs": [
    {
     "name": "stdout",
     "output_type": "stream",
     "text": [
      "A Cat named Garfield says: Meeeeoow!\r\n"
     ]
    }
   ],
   "source": [
    "// a  public  access modifier   \n",
    "// means the method can be invoked from anywhere else\n",
    "Garfield.Meow();"
   ]
  },
  {
   "cell_type": "code",
   "execution_count": 7,
   "metadata": {
    "dotnet_interactive": {
     "language": "csharp"
    },
    "polyglot_notebook": {
     "kernelName": "csharp"
    },
    "vscode": {
     "languageId": "polyglot-notebook"
    }
   },
   "outputs": [
    {
     "ename": "Error",
     "evalue": "(3,10): error CS0122: 'Cat.Purr()' is inaccessible due to its protection level",
     "output_type": "error",
     "traceback": [
      "(3,10): error CS0122: 'Cat.Purr()' is inaccessible due to its protection level"
     ]
    }
   ],
   "source": [
    "// a  private  access modifier   \n",
    "// means the method can only be invoked from inside the parent class\n",
    "Garfield.Purr();"
   ]
  }
 ],
 "metadata": {
  "kernelspec": {
   "display_name": ".NET (C#)",
   "language": "C#",
   "name": ".net-csharp"
  },
  "polyglot_notebook": {
   "kernelInfo": {
    "defaultKernelName": "csharp",
    "items": [
     {
      "aliases": [],
      "name": "csharp"
     }
    ]
   }
  }
 },
 "nbformat": 4,
 "nbformat_minor": 2
}
