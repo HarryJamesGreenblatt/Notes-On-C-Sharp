{
 "cells": [
  {
   "attachments": {},
   "cell_type": "markdown",
   "metadata": {
    "dotnet_interactive": {
     "language": "csharp"
    },
    "polyglot_notebook": {
     "kernelName": "csharp"
    }
   },
   "source": [
    "# 11. Creating and Using Objects"
   ]
  },
  {
   "attachments": {},
   "cell_type": "markdown",
   "metadata": {
    "dotnet_interactive": {
     "language": "csharp"
    },
    "polyglot_notebook": {
     "kernelName": "csharp"
    }
   },
   "source": [
    "## Creation, Access, and Release of Objects\n",
    "---"
   ]
  },
  {
   "attachments": {},
   "cell_type": "markdown",
   "metadata": {
    "dotnet_interactive": {
     "language": "csharp"
    },
    "polyglot_notebook": {
     "kernelName": "csharp"
    }
   },
   "source": [
    "Suppose we have defined the following `class` modeled after a $Cat$ "
   ]
  },
  {
   "cell_type": "code",
   "execution_count": 1,
   "metadata": {
    "dotnet_interactive": {
     "language": "csharp"
    },
    "polyglot_notebook": {
     "kernelName": "csharp"
    },
    "vscode": {
     "languageId": "polyglot-notebook"
    }
   },
   "outputs": [],
   "source": [
    "public class Cat\n",
    "{\n",
    "\n",
    "    // Fields /////////////////////////////////////////////////////////\n",
    "    private string name,\n",
    "                   fur_color;\n",
    "    ///////////////////////////////////////////////////////////////////\n",
    "\n",
    "\n",
    "    // Properties /////////////////////////////////////////////////////\n",
    "    public string Name\n",
    "    {\n",
    "        get\n",
    "        {\n",
    "            return this.name;\n",
    "        }\n",
    "\n",
    "        set\n",
    "        {\n",
    "            this.name = value;\n",
    "        }\n",
    "    }\n",
    "\n",
    "    public string FurColor\n",
    "    {\n",
    "        get\n",
    "        {\n",
    "            return this.fur_color;\n",
    "        }\n",
    "\n",
    "        set\n",
    "        {\n",
    "            this.fur_color = value;\n",
    "        }\n",
    "    }\n",
    "    ////////////////////////////////////////////////////////////////////\n",
    "\n",
    "\n",
    "    // Constructors ////////////////////////////////////////////////////\n",
    "    //                       Default                                  // \n",
    "    public Cat()\n",
    "    {\n",
    "        this.Name     = \"Stray\";\n",
    "        this.FurColor = \"Gray\";\n",
    "    }\n",
    "    //                     Parameterized                               // \n",
    "    public Cat( string name, string fur_color )\n",
    "    {\n",
    "        this.Name     = name;\n",
    "        this.FurColor = fur_color;\n",
    "    }\n",
    "    ////////////////////////////////////////////////////////////////////\n",
    "\n",
    "\n",
    "    // Methods /////////////////////////////////////////////////////////\n",
    "    public void Meow()\n",
    "    {\n",
    "        Console.WriteLine($\"The Cat named {this.name} says: Meeeeoow!\");\n",
    "    }\n",
    "    ////////////////////////////////////////////////////////////////////\n",
    "\n",
    "}"
   ]
  },
  {
   "attachments": {},
   "cell_type": "markdown",
   "metadata": {
    "dotnet_interactive": {
     "language": "csharp"
    },
    "polyglot_notebook": {
     "kernelName": "csharp"
    }
   },
   "source": [
    "<br>"
   ]
  },
  {
   "attachments": {},
   "cell_type": "markdown",
   "metadata": {
    "dotnet_interactive": {
     "language": "csharp"
    },
    "polyglot_notebook": {
     "kernelName": "csharp"
    }
   },
   "source": [
    "### Creation of Objects With and Without Parameters"
   ]
  },
  {
   "attachments": {},
   "cell_type": "markdown",
   "metadata": {
    "dotnet_interactive": {
     "language": "csharp"
    },
    "polyglot_notebook": {
     "kernelName": "csharp"
    }
   },
   "source": [
    "The **creation of an object** from a pre-defined `class` during program execution is performed by the `new` operator. "
   ]
  },
  {
   "cell_type": "code",
   "execution_count": 7,
   "metadata": {
    "dotnet_interactive": {
     "language": "csharp"
    },
    "polyglot_notebook": {
     "kernelName": "csharp"
    },
    "vscode": {
     "languageId": "polyglot-notebook"
    }
   },
   "outputs": [
    {
     "data": {
      "text/html": [
       "<table><thead><tr><th>Name</th><th>FurColor</th></tr></thead><tbody><tr><td><div class=\"dni-plaintext\"><pre>Stray</pre></div></td><td><div class=\"dni-plaintext\"><pre>Gray</pre></div></td></tr></tbody></table>"
      ]
     },
     "metadata": {},
     "output_type": "display_data"
    }
   ],
   "source": [
    "new Cat()"
   ]
  },
  {
   "attachments": {},
   "cell_type": "markdown",
   "metadata": {
    "dotnet_interactive": {
     "language": "csharp"
    },
    "polyglot_notebook": {
     "kernelName": "csharp"
    }
   },
   "source": [
    "It's important to understand that, in this assignment, the **object**'s *value* is not *copied*, but rather a **reference** (**address in memory**) to the newly created **object** is passed directly into the variable."
   ]
  },
  {
   "attachments": {},
   "cell_type": "markdown",
   "metadata": {
    "dotnet_interactive": {
     "language": "csharp"
    },
    "polyglot_notebook": {
     "kernelName": "csharp"
    }
   },
   "source": [
    "The `Cat` `class`  defines the $Properties$ `Name` and `FurColor`, which keep their values in the *hidden* (*private*) $Fields$ *name* and *color*.    \n",
    "    \n",
    "Furthermore, two $Constructors$ are defined for creating instances of the `Cat` `class` , respectively *with* and *without* parameters, and a $Method$ to `Meow()`."
   ]
  },
  {
   "attachments": {},
   "cell_type": "markdown",
   "metadata": {
    "dotnet_interactive": {
     "language": "csharp"
    },
    "polyglot_notebook": {
     "kernelName": "csharp"
    }
   },
   "source": [
    "<br>"
   ]
  },
  {
   "attachments": {},
   "cell_type": "markdown",
   "metadata": {
    "dotnet_interactive": {
     "language": "csharp"
    },
    "polyglot_notebook": {
     "kernelName": "csharp"
    }
   },
   "source": [
    "A newly created **object** is *usually* assigned to a variable of the same $type$ coinciding with the `class` of the **object**. "
   ]
  },
  {
   "cell_type": "code",
   "execution_count": 8,
   "metadata": {
    "dotnet_interactive": {
     "language": "csharp"
    },
    "polyglot_notebook": {
     "kernelName": "csharp"
    },
    "vscode": {
     "languageId": "polyglot-notebook"
    }
   },
   "outputs": [],
   "source": [
    "Cat Garfield = new Cat(\"Garfield\", \"Orange, White\");"
   ]
  },
  {
   "cell_type": "code",
   "execution_count": 9,
   "metadata": {
    "dotnet_interactive": {
     "language": "csharp"
    },
    "polyglot_notebook": {
     "kernelName": "csharp"
    },
    "vscode": {
     "languageId": "polyglot-notebook"
    }
   },
   "outputs": [
    {
     "name": "stdout",
     "output_type": "stream",
     "text": [
      "The Cat named Garfield says: Meeeeoow!\r\n"
     ]
    }
   ],
   "source": [
    "Garfield.Meow();"
   ]
  },
  {
   "attachments": {},
   "cell_type": "markdown",
   "metadata": {
    "dotnet_interactive": {
     "language": "csharp"
    },
    "polyglot_notebook": {
     "kernelName": "csharp"
    }
   },
   "source": [
    "<br>"
   ]
  },
  {
   "cell_type": "markdown",
   "metadata": {
    "dotnet_interactive": {
     "language": "csharp"
    },
    "polyglot_notebook": {
     "kernelName": "csharp"
    }
   },
   "source": []
  },
  {
   "attachments": {},
   "cell_type": "markdown",
   "metadata": {
    "dotnet_interactive": {
     "language": "csharp"
    },
    "polyglot_notebook": {
     "kernelName": "csharp"
    }
   },
   "source": [
    "<br>"
   ]
  }
 ],
 "metadata": {
  "kernelspec": {
   "display_name": ".NET (C#)",
   "language": "C#",
   "name": ".net-csharp"
  },
  "polyglot_notebook": {
   "kernelInfo": {
    "defaultKernelName": "csharp",
    "items": [
     {
      "aliases": [
       "c#",
       "C#"
      ],
      "languageName": "C#",
      "name": "csharp"
     },
     {
      "aliases": [
       "frontend"
      ],
      "name": "vscode"
     },
     {
      "aliases": [],
      "name": ".NET"
     },
     {
      "aliases": [
       "f#",
       "F#"
      ],
      "languageName": "F#",
      "name": "fsharp"
     },
     {
      "aliases": [],
      "languageName": "HTML",
      "name": "html"
     },
     {
      "aliases": [
       "js"
      ],
      "languageName": "JavaScript",
      "name": "javascript"
     },
     {
      "aliases": [],
      "languageName": "KQL",
      "name": "kql"
     },
     {
      "aliases": [],
      "languageName": "Mermaid",
      "name": "mermaid"
     },
     {
      "aliases": [
       "powershell"
      ],
      "languageName": "PowerShell",
      "name": "pwsh"
     },
     {
      "aliases": [],
      "languageName": "SQL",
      "name": "sql"
     },
     {
      "aliases": [],
      "name": "value"
     },
     {
      "aliases": [],
      "name": "webview"
     }
    ]
   }
  }
 },
 "nbformat": 4,
 "nbformat_minor": 2
}
