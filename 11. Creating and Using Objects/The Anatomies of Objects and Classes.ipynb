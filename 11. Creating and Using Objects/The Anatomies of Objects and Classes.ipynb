{
 "cells": [
  {
   "attachments": {},
   "cell_type": "markdown",
   "metadata": {
    "dotnet_interactive": {
     "language": "csharp"
    },
    "polyglot_notebook": {
     "kernelName": "csharp"
    }
   },
   "source": [
    "# 11. Creating and Using Objects"
   ]
  },
  {
   "attachments": {},
   "cell_type": "markdown",
   "metadata": {
    "dotnet_interactive": {
     "language": "csharp"
    },
    "polyglot_notebook": {
     "kernelName": "csharp"
    }
   },
   "source": [
    "## The Anatomies of Objects and Classes\n",
    "---"
   ]
  },
  {
   "attachments": {},
   "cell_type": "markdown",
   "metadata": {
    "dotnet_interactive": {
     "language": "csharp"
    },
    "polyglot_notebook": {
     "kernelName": "csharp"
    }
   },
   "source": [
    "**Object-Oriented Programming (OOP)** is a programming paradigm which uses\n",
    "objects and their interactions for building computer programs.   \n",
    "    \n",
    "Thus, an easy to understand, simple model of the subject area is achieved, which gives an opportunity to the programmer to solve many of the problems which occur in the real world intuitively (by simple logic)."
   ]
  },
  {
   "attachments": {},
   "cell_type": "markdown",
   "metadata": {
    "dotnet_interactive": {
     "language": "csharp"
    },
    "polyglot_notebook": {
     "kernelName": "csharp"
    }
   },
   "source": [
    "Software **objects** model:\n",
    "\n",
    "<dl>\n",
    "<dt style=\"font-weight: bold; margin-left: 30px;\">real world objects</dt>\n",
    "  <dd style=\"font-style:italic; margin-left: 60px;\">people, cars, goods, purchases</dd>\n",
    "<br>\n",
    "<dt style=\"font-weight: bold; margin-left: 30px;\">abstract concepts</dt>\n",
    "  <dd style=\"font-style:italic; margin-left: 60px;\">stacks, queues, lists, trees</dd>\n",
    "</dl>"
   ]
  },
  {
   "attachments": {},
   "cell_type": "markdown",
   "metadata": {
    "dotnet_interactive": {
     "language": "csharp"
    },
    "polyglot_notebook": {
     "kernelName": "csharp"
    }
   },
   "source": [
    "<br>"
   ]
  },
  {
   "attachments": {},
   "cell_type": "markdown",
   "metadata": {
    "dotnet_interactive": {
     "language": "csharp"
    },
    "polyglot_notebook": {
     "kernelName": "csharp"
    }
   },
   "source": [
    "### What Is an Object?"
   ]
  },
  {
   "attachments": {},
   "cell_type": "markdown",
   "metadata": {
    "dotnet_interactive": {
     "language": "csharp"
    },
    "polyglot_notebook": {
     "kernelName": "csharp"
    }
   },
   "source": [
    "We can distinguish **objects** by the following two groups of **characteristics**:   \n",
    "1. **States** – The *characteristics* of the **object** which define or describe it when it is created or updated.\n",
    "2. **Behaviors** – The specific, distinctive *functions* which can be performed by the **object**."
   ]
  },
  {
   "attachments": {},
   "cell_type": "markdown",
   "metadata": {
    "dotnet_interactive": {
     "language": "csharp"
    },
    "polyglot_notebook": {
     "kernelName": "csharp"
    }
   },
   "source": [
    "<br>"
   ]
  },
  {
   "attachments": {},
   "cell_type": "markdown",
   "metadata": {
    "dotnet_interactive": {
     "language": "csharp"
    },
    "polyglot_notebook": {
     "kernelName": "csharp"
    }
   },
   "source": [
    "Let’s take for example an **real world** **object** modeled after a $Dog$ – `Lassie`:"
   ]
  },
  {
   "attachments": {},
   "cell_type": "markdown",
   "metadata": {
    "dotnet_interactive": {
     "language": "csharp"
    },
    "polyglot_notebook": {
     "kernelName": "csharp"
    }
   },
   "source": [
    "<style>\n",
    "  td, th{\n",
    "    text-align: center !important;\n",
    "  }\n",
    "\n",
    "  table{\n",
    "    margin-right: 25px;\n",
    "  }\n",
    "</style>\n",
    "\n",
    "<div class=\"flex-container\" style=\"display: flex\">\n",
    "  <img src=\"./_img/lassie.jpg\" style=\"width: 450px; margin-right: 25px;\"></img>\n",
    "  <table style=\"margin-right: 25px;\">\n",
    "    <thead>\n",
    "      <tr>\n",
    "        <th style=\"text-align: center;\">States</th>\n",
    "      </tr>\n",
    "    </thead>\n",
    "    <tbody>\n",
    "      <tr>\n",
    "        <td style=\"text-align: center;\">Lassie</td>\n",
    "      </tr>\n",
    "      <tr>\n",
    "        <td style=\"text-align: center;\">White, Red, Black</td>\n",
    "      </tr>\n",
    "      <tr>\n",
    "        <td style=\"text-align: center;\">Collie</td>\n",
    "      </tr>\n",
    "      <tr>\n",
    "        <td style=\"text-align: center;\">Female</td>\n",
    "      </tr>\n",
    "    </tbody>\n",
    "  </table>\n",
    "  <table>\n",
    "    <thead>\n",
    "      <tr>\n",
    "        <th style=\"text-align: center;\">Behaviors</th>\n",
    "      </tr>\n",
    "    </thead>\n",
    "    <tbody>\n",
    "      <tr>\n",
    "        <td style=\"text-align: center;\">\"Woof!\"</td>\n",
    "      </tr>\n",
    "      <tr>\n",
    "        <td style=\"text-align: center;\">*sits down*</td>\n",
    "      </tr>\n",
    "      <tr>\n",
    "        <td style=\"text-align: center;\">*plays dead*</td>\n",
    "      </tr>\n",
    "      <tr>\n",
    "        <td style=\"text-align: center;\">*rolls over*</td>\n",
    "      </tr>\n",
    "    </tbody>\n",
    "  </table>\n",
    "</div>"
   ]
  },
  {
   "attachments": {},
   "cell_type": "markdown",
   "metadata": {
    "dotnet_interactive": {
     "language": "csharp"
    },
    "polyglot_notebook": {
     "kernelName": "csharp"
    }
   },
   "source": [
    "**Objects** in OOP combine *data* and the *functions that act on it* in one.    \n",
    "    \n",
    "They correspond to **objects** in real world and contain *data* and *actions*: \n",
    "- **Data members** – embedded in **objects** as variables that describe it's state.\n",
    "- **Methods** – Procedural functions capable of performing operations which utilize it's *Data Members*."
   ]
  },
  {
   "attachments": {},
   "cell_type": "markdown",
   "metadata": {
    "dotnet_interactive": {
     "language": "csharp"
    },
    "polyglot_notebook": {
     "kernelName": "csharp"
    }
   },
   "source": [
    "<br>"
   ]
  },
  {
   "attachments": {},
   "cell_type": "markdown",
   "metadata": {
    "dotnet_interactive": {
     "language": "csharp"
    },
    "polyglot_notebook": {
     "kernelName": "csharp"
    }
   },
   "source": [
    "### What Is a Class?"
   ]
  },
  {
   "attachments": {},
   "cell_type": "markdown",
   "metadata": {
    "dotnet_interactive": {
     "language": "csharp"
    },
    "polyglot_notebook": {
     "kernelName": "csharp"
    }
   },
   "source": [
    "The **class** is what **defines the abstract characteristics of objects**. It provides a *structure* for **object**, or a pattern which we use to describe the nature of something.   \n",
    "**Classes** are building blocks of **OOP** and are inseparably related to the **objects**. Furthermore, each **object** is an **instance** of exactly one specific **class**.   "
   ]
  },
  {
   "attachments": {},
   "cell_type": "markdown",
   "metadata": {
    "dotnet_interactive": {
     "language": "csharp"
    },
    "polyglot_notebook": {
     "kernelName": "csharp"
    }
   },
   "source": [
    "Below, we are going to give an example of a **class** and the **object** which is an **instance** of it:"
   ]
  },
  {
   "attachments": {},
   "cell_type": "markdown",
   "metadata": {
    "dotnet_interactive": {
     "language": "csharp"
    },
    "polyglot_notebook": {
     "kernelName": "csharp"
    }
   },
   "source": [
    "<div class=\"flex-container\" style=\"display: flex\">\n",
    "  <img src=\"./_img/different_dogs.png\" style=\"width: 400px; margin-right: 25px;\"></img>\n",
    "  <p style=\"font-size: 75px; margin-right: 25px;\">&#10145</p>\n",
    "  <img src=\"./_img/lassie.jpg\" style=\"width: 400px;\"></img>\n",
    "</div>"
   ]
  },
  {
   "attachments": {},
   "cell_type": "markdown",
   "metadata": {
    "dotnet_interactive": {
     "language": "csharp"
    },
    "polyglot_notebook": {
     "kernelName": "csharp"
    }
   },
   "source": [
    "We have a **class** $Dog$ and an **object** $Lassie$, which is an **instance** of the **class** $Dog$ (we say it is an **object** of type $Dog$).   \n",
    "The **class** $Dog$ describes the characteristics of *all* $Dogs$ whereas $Lassie$ is a *certain* $Dog$."
   ]
  },
  {
   "attachments": {},
   "cell_type": "markdown",
   "metadata": {
    "dotnet_interactive": {
     "language": "csharp"
    },
    "polyglot_notebook": {
     "kernelName": "csharp"
    }
   },
   "source": [
    "<br>"
   ]
  },
  {
   "attachments": {},
   "cell_type": "markdown",
   "metadata": {
    "dotnet_interactive": {
     "language": "csharp"
    },
    "polyglot_notebook": {
     "kernelName": "csharp"
    }
   },
   "source": [
    "### Class Attributes and Methods"
   ]
  },
  {
   "attachments": {},
   "cell_type": "markdown",
   "metadata": {
    "dotnet_interactive": {
     "language": "csharp"
    },
    "polyglot_notebook": {
     "kernelName": "csharp"
    }
   },
   "source": [
    "The **class** defines the **characteristics of an object** (also called **attributes**), and its **behavior** (**actions that can be performed by the object**). \n",
    "   \n",
    "The **attributes** of the **class** are defined as its own variables within its own body (called **member variables**). \n",
    "   \n",
    "The **behavior** of objects is modeled by the definition of **methods** in **classes**."
   ]
  },
  {
   "attachments": {},
   "cell_type": "markdown",
   "metadata": {
    "dotnet_interactive": {
     "language": "csharp"
    },
    "polyglot_notebook": {
     "kernelName": "csharp"
    }
   },
   "source": [
    "<br>"
   ]
  },
  {
   "attachments": {},
   "cell_type": "markdown",
   "metadata": {
    "dotnet_interactive": {
     "language": "csharp"
    },
    "polyglot_notebook": {
     "kernelName": "csharp"
    }
   },
   "source": [
    "<div class=\"flex-container\" style=\"display: flex\">\n",
    "  <img src=\"./_img/different_dogs.png\" style=\"width: 450px; margin-right: 25px;\"></img>\n",
    "  <table style=\"margin-right: 25px;\">\n",
    "    <thead>\n",
    "      <tr>\n",
    "        <th style=\"text-align: center\">Attributes</th>\n",
    "      </tr>\n",
    "    </thead>\n",
    "    <tbody>\n",
    "      <tr>\n",
    "        <td style=\"text-align: center;\"><code>Name</code></td>\n",
    "      </tr>\n",
    "      <tr>\n",
    "        <td style=\"text-align: center;\"><code>FurColor</code></td>\n",
    "      </tr>\n",
    "      <tr>\n",
    "        <td style=\"text-align: center;\"><code>Breed</code></td>\n",
    "      </tr>\n",
    "      <tr>\n",
    "        <td style=\"text-align: center;\"><code>Gender</code></td>\n",
    "      </tr>\n",
    "    </tbody>\n",
    "  </table>\n",
    "  <table>\n",
    "    <thead>\n",
    "      <tr>\n",
    "        <th style=\"text-align: center\">Methods</th>\n",
    "      </tr>\n",
    "    </thead>\n",
    "    <tbody>\n",
    "      <tr>\n",
    "        <td style=\"text-align: center;\"><code>Bark()</code></td>\n",
    "      </tr>\n",
    "      <tr>\n",
    "        <td style=\"text-align: center;\"><code>Sit()</code></td>\n",
    "      </tr>\n",
    "      <tr>\n",
    "        <td style=\"text-align: center;\"><code>PlayDead()</code></td>\n",
    "      </tr>\n",
    "      <tr>\n",
    "        <td style=\"text-align: center;\"><code>RollOver()</code></td>\n",
    "      </tr>\n",
    "    </tbody>\n",
    "  </table>\n",
    "</div>"
   ]
  },
  {
   "attachments": {},
   "cell_type": "markdown",
   "metadata": {
    "dotnet_interactive": {
     "language": "csharp"
    },
    "polyglot_notebook": {
     "kernelName": "csharp"
    }
   },
   "source": [
    "Returning to the example described above, in order to have have created $Lassie$, we needed to have first defined a **Class** representing a $Dog$ that models the real object \"Dog\". \n",
    "   \n",
    "The **class** is going to include *characteristics* which are *common for all Dogs* (such as **breed** and **fur color**), as well as typical for the Dog *behavior* (**barking**, **sitting**, **playing dead**, and **rolling over**.). \n",
    "   \n",
    "In this case we are going to have **attributes** `Breed` and `FurColor`, and the *behavior* is going to be implemented by the **methods** `Bark()`, `Sit()`, `PlayDead()` and `RollOver()`."
   ]
  },
  {
   "attachments": {},
   "cell_type": "markdown",
   "metadata": {
    "dotnet_interactive": {
     "language": "csharp"
    },
    "polyglot_notebook": {
     "kernelName": "csharp"
    }
   },
   "source": [
    "<br>"
   ]
  },
  {
   "attachments": {},
   "cell_type": "markdown",
   "metadata": {
    "dotnet_interactive": {
     "language": "csharp"
    },
    "polyglot_notebook": {
     "kernelName": "csharp"
    }
   },
   "source": [
    "### Every Object is an Instance of a Class"
   ]
  },
  {
   "attachments": {},
   "cell_type": "markdown",
   "metadata": {
    "dotnet_interactive": {
     "language": "csharp"
    },
    "polyglot_notebook": {
     "kernelName": "csharp"
    }
   },
   "source": [
    "Each **object** is an **instance** of just *one* **class**, and is created according to a pattern designed within it.    \n",
    "\n",
    "Creating the **object** from a defined **class** is called **instantiation**. \n",
    "\n",
    "The **instance** is the **object** itself, which is created during runtime.   \n",
    "Each object is in **instance** of a specific **class**. This **instance** is characterized by *state* – set of values, associated with **class** *attributes*.   \n",
    "\n",
    "So, foundationally, the **object** consists of two things, each derived from the it's **class** definition: \n",
    "1. *Attributes* describing the current *State* \n",
    "2. *Methods* which perform specific functional *Behaviors*.    \n",
    "   \n",
    "The *state* is *specific* for the **instance** (the **object**), but the *behavior* is *common for all objects* which are **instances** of a given **class**."
   ]
  },
  {
   "attachments": {},
   "cell_type": "markdown",
   "metadata": {
    "dotnet_interactive": {
     "language": "csharp"
    },
    "polyglot_notebook": {
     "kernelName": "csharp"
    }
   },
   "source": [
    "<br>"
   ]
  },
  {
   "attachments": {},
   "cell_type": "markdown",
   "metadata": {
    "dotnet_interactive": {
     "language": "csharp"
    },
    "polyglot_notebook": {
     "kernelName": "csharp"
    }
   },
   "source": [
    "### What is a Class in $C\\#$?"
   ]
  },
  {
   "attachments": {},
   "cell_type": "markdown",
   "metadata": {
    "dotnet_interactive": {
     "language": "csharp"
    },
    "polyglot_notebook": {
     "kernelName": "csharp"
    }
   },
   "source": [
    "**Classes** in $C\\#$ are declared by an optional **access modifier**, followed by the keyword `class`, followed by an **identifier** (`class` **name**), along with a set of **data members** and **methods**, each of which are provided within a *code block*:"
   ]
  },
  {
   "attachments": {},
   "cell_type": "markdown",
   "metadata": {
    "dotnet_interactive": {
     "language": "csharp"
    },
    "polyglot_notebook": {
     "kernelName": "csharp"
    }
   },
   "source": [
    "```c#\n",
    "[access_modifier] class ClassName\n",
    "{ // Begin code block\n",
    "\n",
    "\n",
    "    // Some data members\n",
    "\n",
    "    // ...\n",
    "    \n",
    "    // Some methods\n",
    "\n",
    "\n",
    "} // End code block\n",
    "```"
   ]
  },
  {
   "attachments": {},
   "cell_type": "markdown",
   "metadata": {
    "dotnet_interactive": {
     "language": "csharp"
    },
    "polyglot_notebook": {
     "kernelName": "csharp"
    }
   },
   "source": [
    "`class`es in $C\\#$ can contain the following **Elements**:\n",
    "- **Fields** – member-variables from a certain type; \n",
    "- **Properties** – these are a special type of elements, which extend the functionality of the fields by giving the ability of extra data management functions when extracting and recording it within the `class`'s fields.\n",
    "- **Methods** – they implement the manipulation of the data."
   ]
  },
  {
   "attachments": {},
   "cell_type": "markdown",
   "metadata": {
    "dotnet_interactive": {
     "language": "csharp"
    },
    "polyglot_notebook": {
     "kernelName": "csharp"
    }
   },
   "source": [
    "<br>"
   ]
  },
  {
   "attachments": {},
   "cell_type": "markdown",
   "metadata": {
    "dotnet_interactive": {
     "language": "csharp"
    },
    "polyglot_notebook": {
     "kernelName": "csharp"
    }
   },
   "source": [
    "#### Implementing the $Dog$ `class` in $C\\#$"
   ]
  },
  {
   "cell_type": "code",
   "execution_count": 4,
   "metadata": {
    "dotnet_interactive": {
     "language": "csharp"
    },
    "polyglot_notebook": {
     "kernelName": "csharp"
    },
    "vscode": {
     "languageId": "polyglot-notebook"
    }
   },
   "outputs": [],
   "source": [
    "public class Dog\n",
    "{\n",
    "\n",
    "    // Fields\n",
    "    private string name,\n",
    "                   fur_color,\n",
    "                   breed,\n",
    "                   gender;\n",
    "\n",
    "\n",
    "    // Properties\n",
    "    public string Name\n",
    "    {\n",
    "        get\n",
    "        {\n",
    "            return this.name;\n",
    "        }\n",
    "\n",
    "        set\n",
    "        {\n",
    "            this.name = value;\n",
    "        }\n",
    "        \n",
    "    }\n",
    "\n",
    "    public string FurColor\n",
    "    {\n",
    "        get\n",
    "        {\n",
    "            return this.fur_color;\n",
    "        }\n",
    "\n",
    "        set\n",
    "        {\n",
    "            this.fur_color = value;\n",
    "        }\n",
    "\n",
    "    }\n",
    "\n",
    "    public string Breed\n",
    "    {\n",
    "        get\n",
    "        {\n",
    "            return this.breed;\n",
    "        }\n",
    "\n",
    "        set\n",
    "        {\n",
    "            this.breed = value;\n",
    "        }\n",
    "\n",
    "    }\n",
    "\n",
    "    public string Gender\n",
    "    {\n",
    "        get\n",
    "        {\n",
    "            return this.gender;\n",
    "        }\n",
    "\n",
    "        set\n",
    "        {\n",
    "            this.gender = value;\n",
    "        }\n",
    "\n",
    "    }\n",
    "\n",
    "\n",
    "    // Constructor\n",
    "    public Dog( string name, string fur_color, string breed, string gender )\n",
    "    {\n",
    "        this.Name     = name;\n",
    "        this.FurColor = fur_color;\n",
    "        this.Breed    = breed;\n",
    "        this.Gender   = gender;\n",
    "    }\n",
    "\n",
    "\n",
    "    // Methods\n",
    "    public void Bark()\n",
    "    {\n",
    "        Console.WriteLine(\"Woof!\");\n",
    "    }\n",
    "\n",
    "    public void Sit()\n",
    "    {\n",
    "        Console.WriteLine(\"*sits down*\");\n",
    "    }\n",
    "\n",
    "    public void PlayDead()\n",
    "    {\n",
    "        Console.WriteLine(\"*plays dead*\");\n",
    "    }\n",
    "\n",
    "    public void RollOver()\n",
    "    {\n",
    "        Console.WriteLine(\"*rolls over*\");\n",
    "    }\n",
    "\n",
    "}"
   ]
  },
  {
   "attachments": {},
   "cell_type": "markdown",
   "metadata": {
    "dotnet_interactive": {
     "language": "csharp"
    },
    "polyglot_notebook": {
     "kernelName": "csharp"
    }
   },
   "source": [
    "<br>"
   ]
  },
  {
   "attachments": {},
   "cell_type": "markdown",
   "metadata": {
    "dotnet_interactive": {
     "language": "csharp"
    },
    "polyglot_notebook": {
     "kernelName": "csharp"
    }
   },
   "source": [
    "Now, we may create an **instance** the $Dog$ `class` modeled after our beloved $Lassie$: "
   ]
  },
  {
   "attachments": {},
   "cell_type": "markdown",
   "metadata": {
    "dotnet_interactive": {
     "language": "csharp"
    },
    "polyglot_notebook": {
     "kernelName": "csharp"
    }
   },
   "source": [
    "<img src=\"./_img/lassie.jpg\" style=\"width: 450px;\"></img>"
   ]
  },
  {
   "cell_type": "code",
   "execution_count": 9,
   "metadata": {
    "dotnet_interactive": {
     "language": "csharp"
    },
    "polyglot_notebook": {
     "kernelName": "csharp"
    },
    "vscode": {
     "languageId": "polyglot-notebook"
    }
   },
   "outputs": [],
   "source": [
    "Lassie = new Dog( \"Lassie\", \"White, Red, Black\", \"Collie\", \"Female\" );"
   ]
  },
  {
   "attachments": {},
   "cell_type": "markdown",
   "metadata": {
    "dotnet_interactive": {
     "language": "csharp"
    },
    "polyglot_notebook": {
     "kernelName": "csharp"
    }
   },
   "source": [
    "<br>"
   ]
  },
  {
   "attachments": {},
   "cell_type": "markdown",
   "metadata": {
    "dotnet_interactive": {
     "language": "csharp"
    },
    "polyglot_notebook": {
     "kernelName": "csharp"
    }
   },
   "source": [
    "Observe that this **instance** (which is just another way of saying **Object**) enables us to access to it's **Properties** by referencing the **Object Name** and then a *dot* (`.`), and then **Property Name** as demonstrated below:"
   ]
  },
  {
   "cell_type": "code",
   "execution_count": 17,
   "metadata": {
    "dotnet_interactive": {
     "language": "csharp"
    },
    "polyglot_notebook": {
     "kernelName": "csharp"
    },
    "vscode": {
     "languageId": "polyglot-notebook"
    }
   },
   "outputs": [
    {
     "data": {
      "text/plain": [
       "Lassie"
      ]
     },
     "metadata": {},
     "output_type": "display_data"
    }
   ],
   "source": [
    "Lassie.Name"
   ]
  },
  {
   "cell_type": "code",
   "execution_count": 12,
   "metadata": {
    "dotnet_interactive": {
     "language": "csharp"
    },
    "polyglot_notebook": {
     "kernelName": "csharp"
    },
    "vscode": {
     "languageId": "polyglot-notebook"
    }
   },
   "outputs": [
    {
     "data": {
      "text/plain": [
       "White, Red, Black"
      ]
     },
     "metadata": {},
     "output_type": "display_data"
    }
   ],
   "source": [
    "Lassie.FurColor"
   ]
  },
  {
   "cell_type": "code",
   "execution_count": 13,
   "metadata": {
    "dotnet_interactive": {
     "language": "csharp"
    },
    "polyglot_notebook": {
     "kernelName": "csharp"
    },
    "vscode": {
     "languageId": "polyglot-notebook"
    }
   },
   "outputs": [
    {
     "data": {
      "text/plain": [
       "Collie"
      ]
     },
     "metadata": {},
     "output_type": "display_data"
    }
   ],
   "source": [
    "Lassie.Breed"
   ]
  },
  {
   "cell_type": "code",
   "execution_count": 14,
   "metadata": {
    "dotnet_interactive": {
     "language": "csharp"
    },
    "polyglot_notebook": {
     "kernelName": "csharp"
    },
    "vscode": {
     "languageId": "polyglot-notebook"
    }
   },
   "outputs": [
    {
     "data": {
      "text/plain": [
       "Female"
      ]
     },
     "metadata": {},
     "output_type": "display_data"
    }
   ],
   "source": [
    "Lassie.Gender"
   ]
  },
  {
   "attachments": {},
   "cell_type": "markdown",
   "metadata": {
    "dotnet_interactive": {
     "language": "csharp"
    },
    "polyglot_notebook": {
     "kernelName": "csharp"
    }
   },
   "source": [
    "<br>"
   ]
  },
  {
   "attachments": {},
   "cell_type": "markdown",
   "metadata": {
    "dotnet_interactive": {
     "language": "csharp"
    },
    "polyglot_notebook": {
     "kernelName": "csharp"
    }
   },
   "source": [
    "Additionally, we may also access the `class`'s **Methods** and use their values as we see fit. "
   ]
  },
  {
   "cell_type": "code",
   "execution_count": 15,
   "metadata": {
    "dotnet_interactive": {
     "language": "csharp"
    },
    "polyglot_notebook": {
     "kernelName": "csharp"
    },
    "vscode": {
     "languageId": "polyglot-notebook"
    }
   },
   "outputs": [
    {
     "name": "stdout",
     "output_type": "stream",
     "text": [
      "Woof!\r\n"
     ]
    }
   ],
   "source": [
    "Lassie.Bark();"
   ]
  },
  {
   "cell_type": "code",
   "execution_count": 18,
   "metadata": {
    "dotnet_interactive": {
     "language": "csharp"
    },
    "polyglot_notebook": {
     "kernelName": "csharp"
    },
    "vscode": {
     "languageId": "polyglot-notebook"
    }
   },
   "outputs": [
    {
     "name": "stdout",
     "output_type": "stream",
     "text": [
      "*sits down*\r\n"
     ]
    }
   ],
   "source": [
    "Lassie.Sit();"
   ]
  },
  {
   "cell_type": "code",
   "execution_count": 19,
   "metadata": {
    "dotnet_interactive": {
     "language": "csharp"
    },
    "polyglot_notebook": {
     "kernelName": "csharp"
    },
    "vscode": {
     "languageId": "polyglot-notebook"
    }
   },
   "outputs": [
    {
     "name": "stdout",
     "output_type": "stream",
     "text": [
      "*plays dead*\r\n"
     ]
    }
   ],
   "source": [
    "Lassie.PlayDead();"
   ]
  },
  {
   "cell_type": "code",
   "execution_count": 20,
   "metadata": {
    "dotnet_interactive": {
     "language": "csharp"
    },
    "polyglot_notebook": {
     "kernelName": "csharp"
    },
    "vscode": {
     "languageId": "polyglot-notebook"
    }
   },
   "outputs": [
    {
     "name": "stdout",
     "output_type": "stream",
     "text": [
      "*rolls over*\r\n"
     ]
    }
   ],
   "source": [
    "Lassie.RollOver();"
   ]
  }
 ],
 "metadata": {
  "kernelspec": {
   "display_name": ".NET (C#)",
   "language": "C#",
   "name": ".net-csharp"
  },
  "polyglot_notebook": {
   "kernelInfo": {
    "defaultKernelName": "csharp",
    "items": [
     {
      "aliases": [],
      "name": "csharp"
     }
    ]
   }
  }
 },
 "nbformat": 4,
 "nbformat_minor": 2
}
