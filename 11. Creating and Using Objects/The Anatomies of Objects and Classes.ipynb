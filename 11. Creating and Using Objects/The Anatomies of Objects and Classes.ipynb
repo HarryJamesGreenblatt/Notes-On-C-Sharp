{
 "cells": [
  {
   "attachments": {},
   "cell_type": "markdown",
   "metadata": {
    "dotnet_interactive": {
     "language": "csharp"
    },
    "polyglot_notebook": {
     "kernelName": "csharp"
    }
   },
   "source": [
    "# 11. Creating and Using Objects"
   ]
  },
  {
   "attachments": {},
   "cell_type": "markdown",
   "metadata": {
    "dotnet_interactive": {
     "language": "csharp"
    },
    "polyglot_notebook": {
     "kernelName": "csharp"
    }
   },
   "source": [
    "## The Anatomies of Objects and Classes\n",
    "---"
   ]
  },
  {
   "attachments": {},
   "cell_type": "markdown",
   "metadata": {
    "dotnet_interactive": {
     "language": "csharp"
    },
    "polyglot_notebook": {
     "kernelName": "csharp"
    }
   },
   "source": [
    "**Object-Oriented Programming (OOP)** is a programming paradigm which uses\n",
    "objects and their interactions for building computer programs.   \n",
    "    \n",
    "Thus, an easy to understand, simple model of the subject area is achieved, which gives an opportunity to the programmer to solve many of the problems which occur in the real world intuitively (by simple logic)."
   ]
  },
  {
   "attachments": {},
   "cell_type": "markdown",
   "metadata": {
    "dotnet_interactive": {
     "language": "csharp"
    },
    "polyglot_notebook": {
     "kernelName": "csharp"
    }
   },
   "source": [
    "Software **objects** model:\n",
    "\n",
    "<style>\n",
    "  dt{\n",
    "    font-weight: bold;\n",
    "    margin-left: 30px;\n",
    "  } \n",
    "  dd{\n",
    "    font-style:italic;\n",
    "    margin-left: 60px;\n",
    "  }\n",
    "</style>\n",
    "\n",
    "<dl>\n",
    "<dt>real world objects</dt>\n",
    "  <dd>people, cars, goods, purchases</dd>\n",
    "<br>\n",
    "<dt>abstract concepts</dt>\n",
    "  <dd>stacks, queues, lists, trees</dd>\n",
    "</dl>"
   ]
  },
  {
   "attachments": {},
   "cell_type": "markdown",
   "metadata": {
    "dotnet_interactive": {
     "language": "csharp"
    },
    "polyglot_notebook": {
     "kernelName": "csharp"
    }
   },
   "source": [
    "<br>"
   ]
  },
  {
   "attachments": {},
   "cell_type": "markdown",
   "metadata": {
    "dotnet_interactive": {
     "language": "csharp"
    },
    "polyglot_notebook": {
     "kernelName": "csharp"
    }
   },
   "source": [
    "### What Is an Object?"
   ]
  },
  {
   "attachments": {},
   "cell_type": "markdown",
   "metadata": {
    "dotnet_interactive": {
     "language": "csharp"
    },
    "polyglot_notebook": {
     "kernelName": "csharp"
    }
   },
   "source": [
    "In  we can distinguish **objects** by the following two groups of **characteristics**:   \n",
    "1. **States** – The characteristics of the **object** which define or describe it when it is created or updated.\n",
    "2. **Behavior** – The specific, distinctive actions which can be performed by the **object**."
   ]
  },
  {
   "attachments": {},
   "cell_type": "markdown",
   "metadata": {
    "dotnet_interactive": {
     "language": "csharp"
    },
    "polyglot_notebook": {
     "kernelName": "csharp"
    }
   },
   "source": [
    "<br>"
   ]
  },
  {
   "attachments": {},
   "cell_type": "markdown",
   "metadata": {
    "dotnet_interactive": {
     "language": "csharp"
    },
    "polyglot_notebook": {
     "kernelName": "csharp"
    }
   },
   "source": [
    "Let’s take for example an **real world** **object** modeled after a $dog$ – `Lassie`:"
   ]
  },
  {
   "attachments": {},
   "cell_type": "markdown",
   "metadata": {
    "dotnet_interactive": {
     "language": "csharp"
    },
    "polyglot_notebook": {
     "kernelName": "csharp"
    }
   },
   "source": [
    "<div class=\"flex-container\" style=\"display: flex\">\n",
    "  <img src=\"./_img/lassie.jpg\" style=\"width: 450px; margin-right: 25px;\"></img>\n",
    "  <table class=\"table is-fullwidth is-striped\">\n",
    "    <thead>\n",
    "      <tr>\n",
    "        <th>States</th>\n",
    "        <th>Behaviors</th>\n",
    "      </tr>\n",
    "    </thead>\n",
    "    <tbody>\n",
    "      <tr>\n",
    "        <td><code>Name</code></td>\n",
    "        <td><code>Bark()</code></td>\n",
    "      </tr>\n",
    "      <tr>\n",
    "        <td><code>FurColor</code></td>\n",
    "        <td><code>Sit()</code></td>\n",
    "      </tr>\n",
    "      <tr>\n",
    "        <td><code>Breed</code></td>\n",
    "        <td><code>LayDown()</code></td>\n",
    "      </tr>\n",
    "      <tr>\n",
    "        <td><code>Age</code></td>\n",
    "        <td><code>RollOver()</code></td>\n",
    "      </tr>\n",
    "    </tbody>\n",
    "  </table>\n",
    "</div>"
   ]
  },
  {
   "attachments": {},
   "cell_type": "markdown",
   "metadata": {
    "dotnet_interactive": {
     "language": "csharp"
    },
    "polyglot_notebook": {
     "kernelName": "csharp"
    }
   },
   "source": [
    "**Objects** in OOP combine *data* and the *functions that act on it* in one.    \n",
    "    \n",
    "They correspond to **objects** in real world and contain *data* and *actions*: \n",
    "- **Data members** – embedded in **objects** as variables that describe it's state.\n",
    "- **Methods** – Procedural functions capable of performing operations which utilize it's *Data Members*."
   ]
  },
  {
   "cell_type": "code",
   "execution_count": 1,
   "metadata": {
    "dotnet_interactive": {
     "language": "csharp"
    },
    "polyglot_notebook": {
     "kernelName": "csharp"
    },
    "vscode": {
     "languageId": "polyglot-notebook"
    }
   },
   "outputs": [],
   "source": []
  }
 ],
 "metadata": {
  "kernelspec": {
   "display_name": ".NET (C#)",
   "language": "C#",
   "name": ".net-csharp"
  },
  "polyglot_notebook": {
   "kernelInfo": {
    "defaultKernelName": "csharp",
    "items": [
     {
      "aliases": [],
      "name": "csharp"
     }
    ]
   }
  }
 },
 "nbformat": 4,
 "nbformat_minor": 2
}
