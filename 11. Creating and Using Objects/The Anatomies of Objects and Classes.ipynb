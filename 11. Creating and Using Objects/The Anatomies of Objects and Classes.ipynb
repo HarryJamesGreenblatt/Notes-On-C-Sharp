{
 "cells": [
  {
   "attachments": {},
   "cell_type": "markdown",
   "metadata": {
    "dotnet_interactive": {
     "language": "csharp"
    },
    "polyglot_notebook": {
     "kernelName": "csharp"
    }
   },
   "source": [
    "# 11. Creating and Using Objects"
   ]
  },
  {
   "attachments": {},
   "cell_type": "markdown",
   "metadata": {
    "dotnet_interactive": {
     "language": "csharp"
    },
    "polyglot_notebook": {
     "kernelName": "csharp"
    }
   },
   "source": [
    "## The Anatomies of Objects and Classes\n",
    "---"
   ]
  },
  {
   "attachments": {},
   "cell_type": "markdown",
   "metadata": {
    "dotnet_interactive": {
     "language": "csharp"
    },
    "polyglot_notebook": {
     "kernelName": "csharp"
    }
   },
   "source": [
    "**Object-Oriented Programming (OOP)** is a programming paradigm which uses\n",
    "objects and their interactions for building computer programs.   \n",
    "    \n",
    "Thus, an easy to understand, simple model of the subject area is achieved, which gives an opportunity to the programmer to solve many of the problems which occur in the real world intuitively (by simple logic)."
   ]
  },
  {
   "attachments": {},
   "cell_type": "markdown",
   "metadata": {
    "dotnet_interactive": {
     "language": "csharp"
    },
    "polyglot_notebook": {
     "kernelName": "csharp"
    }
   },
   "source": [
    "Software **objects** model:\n",
    "\n",
    "<dl>\n",
    "<dt style=\"font-weight: bold; margin-left: 30px;\">real world objects</dt>\n",
    "  <dd style=\"font-style:italic; margin-left: 60px;\">people, cars, goods, purchases</dd>\n",
    "<br>\n",
    "<dt style=\"font-weight: bold; margin-left: 30px;\">abstract concepts</dt>\n",
    "  <dd style=\"font-style:italic; margin-left: 60px;\">stacks, queues, lists, trees</dd>\n",
    "</dl>"
   ]
  },
  {
   "attachments": {},
   "cell_type": "markdown",
   "metadata": {
    "dotnet_interactive": {
     "language": "csharp"
    },
    "polyglot_notebook": {
     "kernelName": "csharp"
    }
   },
   "source": [
    "<br>"
   ]
  },
  {
   "attachments": {},
   "cell_type": "markdown",
   "metadata": {
    "dotnet_interactive": {
     "language": "csharp"
    },
    "polyglot_notebook": {
     "kernelName": "csharp"
    }
   },
   "source": [
    "### What Is an Object?"
   ]
  },
  {
   "attachments": {},
   "cell_type": "markdown",
   "metadata": {
    "dotnet_interactive": {
     "language": "csharp"
    },
    "polyglot_notebook": {
     "kernelName": "csharp"
    }
   },
   "source": [
    "In  we can distinguish **objects** by the following two groups of **characteristics**:   \n",
    "1. **States** – The *characteristics* of the **object** which define or describe it when it is created or updated.\n",
    "2. **Behaviors** – The specific, distinctive *functions* which can be performed by the **object**."
   ]
  },
  {
   "attachments": {},
   "cell_type": "markdown",
   "metadata": {
    "dotnet_interactive": {
     "language": "csharp"
    },
    "polyglot_notebook": {
     "kernelName": "csharp"
    }
   },
   "source": [
    "<br>"
   ]
  },
  {
   "attachments": {},
   "cell_type": "markdown",
   "metadata": {
    "dotnet_interactive": {
     "language": "csharp"
    },
    "polyglot_notebook": {
     "kernelName": "csharp"
    }
   },
   "source": [
    "Let’s take for example an **real world** **object** modeled after a $dog$ – `Lassie`:"
   ]
  },
  {
   "attachments": {},
   "cell_type": "markdown",
   "metadata": {
    "dotnet_interactive": {
     "language": "csharp"
    },
    "polyglot_notebook": {
     "kernelName": "csharp"
    }
   },
   "source": [
    "<style>\n",
    "  td, th{\n",
    "    text-align: center !important;\n",
    "  }\n",
    "\n",
    "  table{\n",
    "    margin-right: 25px;\n",
    "  }\n",
    "</style>\n",
    "\n",
    "<div class=\"flex-container\" style=\"display: flex\">\n",
    "  <img src=\"./_img/lassie.jpg\" style=\"width: 450px; margin-right: 25px;\"></img>\n",
    "  <table style=\"margin-right: 25px;\">\n",
    "    <thead>\n",
    "      <tr>\n",
    "        <th style=\"text-align: center;\">States</th>\n",
    "      </tr>\n",
    "    </thead>\n",
    "    <tbody>\n",
    "      <tr>\n",
    "        <td style=\"text-align: center;\">Lassie</td>\n",
    "      </tr>\n",
    "      <tr>\n",
    "        <td style=\"text-align: center;\">White, Red, Black</td>\n",
    "      </tr>\n",
    "      <tr>\n",
    "        <td style=\"text-align: center;\">Collie</td>\n",
    "      </tr>\n",
    "      <tr>\n",
    "        <td style=\"text-align: center;\">Female</td>\n",
    "      </tr>\n",
    "    </tbody>\n",
    "  </table>\n",
    "  <table>\n",
    "    <thead>\n",
    "      <tr>\n",
    "        <th style=\"text-align: center;\">Behaviors</th>\n",
    "      </tr>\n",
    "    </thead>\n",
    "    <tbody>\n",
    "      <tr>\n",
    "        <td style=\"text-align: center;\">\"Woof!\"</td>\n",
    "      </tr>\n",
    "      <tr>\n",
    "        <td style=\"text-align: center;\">*sits down*</td>\n",
    "      </tr>\n",
    "      <tr>\n",
    "        <td style=\"text-align: center;\">*plays dead*</td>\n",
    "      </tr>\n",
    "      <tr>\n",
    "        <td style=\"text-align: center;\">*rescues little boy from the bottom of the well*</td>\n",
    "      </tr>\n",
    "    </tbody>\n",
    "  </table>\n",
    "</div>"
   ]
  },
  {
   "attachments": {},
   "cell_type": "markdown",
   "metadata": {
    "dotnet_interactive": {
     "language": "csharp"
    },
    "polyglot_notebook": {
     "kernelName": "csharp"
    }
   },
   "source": [
    "**Objects** in OOP combine *data* and the *functions that act on it* in one.    \n",
    "    \n",
    "They correspond to **objects** in real world and contain *data* and *actions*: \n",
    "- **Data members** – embedded in **objects** as variables that describe it's state.\n",
    "- **Methods** – Procedural functions capable of performing operations which utilize it's *Data Members*."
   ]
  },
  {
   "attachments": {},
   "cell_type": "markdown",
   "metadata": {
    "dotnet_interactive": {
     "language": "csharp"
    },
    "polyglot_notebook": {
     "kernelName": "csharp"
    }
   },
   "source": [
    "<br>"
   ]
  },
  {
   "attachments": {},
   "cell_type": "markdown",
   "metadata": {
    "dotnet_interactive": {
     "language": "csharp"
    },
    "polyglot_notebook": {
     "kernelName": "csharp"
    }
   },
   "source": [
    "### What Is a Class?"
   ]
  },
  {
   "attachments": {},
   "cell_type": "markdown",
   "metadata": {
    "dotnet_interactive": {
     "language": "csharp"
    },
    "polyglot_notebook": {
     "kernelName": "csharp"
    }
   },
   "source": [
    "The **class** is what **defines the abstract characteristics of objects**. \n",
    "   \n",
    "It provides a *structure* for **object**, or a pattern which we use to describe the nature of something. **class**es are building blocks of **OOP** and are inseparably related to the **object**s. \n",
    "   \n",
    "Furthermore, each **object** is an **instance** of exactly one specific **class**.   \n",
    "   \n",
    "We are going to give as an example a **class** and an **object**, which is its **instance**. "
   ]
  },
  {
   "attachments": {},
   "cell_type": "markdown",
   "metadata": {
    "dotnet_interactive": {
     "language": "csharp"
    },
    "polyglot_notebook": {
     "kernelName": "csharp"
    }
   },
   "source": [
    "<br>"
   ]
  },
  {
   "attachments": {},
   "cell_type": "markdown",
   "metadata": {
    "dotnet_interactive": {
     "language": "csharp"
    },
    "polyglot_notebook": {
     "kernelName": "csharp"
    }
   },
   "source": [
    "<div class=\"flex-container\" style=\"display: flex\">\n",
    "  <img src=\"./_img/different_dogs.png\" style=\"width: 400px; margin-right: 25px;\"></img>\n",
    "  <p style=\"font-size: 75px; margin-right: 25px;\">&#10145</p>\n",
    "  <img src=\"./_img/lassie.jpg\" style=\"width: 400px;\"></img>\n",
    "</div>"
   ]
  },
  {
   "attachments": {},
   "cell_type": "markdown",
   "metadata": {
    "dotnet_interactive": {
     "language": "csharp"
    },
    "polyglot_notebook": {
     "kernelName": "csharp"
    }
   },
   "source": [
    "We have a **class** $dog$ and an **object** $Lassie$, which is an **instance** of the **class** $dog$ (we say it is an **object** of type $dog$).   \n",
    "The **class** $dog$ describes the characteristics of *all* $dogs$ whereas $Lassie$ is a *certain* $dog$."
   ]
  },
  {
   "attachments": {},
   "cell_type": "markdown",
   "metadata": {
    "dotnet_interactive": {
     "language": "csharp"
    },
    "polyglot_notebook": {
     "kernelName": "csharp"
    }
   },
   "source": [
    "<br>"
   ]
  },
  {
   "attachments": {},
   "cell_type": "markdown",
   "metadata": {
    "dotnet_interactive": {
     "language": "csharp"
    },
    "polyglot_notebook": {
     "kernelName": "csharp"
    }
   },
   "source": [
    "### Class Attributes and Methods"
   ]
  },
  {
   "attachments": {},
   "cell_type": "markdown",
   "metadata": {
    "dotnet_interactive": {
     "language": "csharp"
    },
    "polyglot_notebook": {
     "kernelName": "csharp"
    }
   },
   "source": [
    "The **class** defines the **characteristics of an object** (also called **attributes**), and its **behavior** (**actions that can be performed by the object**). \n",
    "   \n",
    "The **attributes** of the **class** are defined as its own variables within its own body (called **member variables**). \n",
    "   \n",
    "The **behavior** of objects is modeled by the definition of **methods** in **classes**."
   ]
  },
  {
   "attachments": {},
   "cell_type": "markdown",
   "metadata": {
    "dotnet_interactive": {
     "language": "csharp"
    },
    "polyglot_notebook": {
     "kernelName": "csharp"
    }
   },
   "source": [
    "<br>"
   ]
  },
  {
   "attachments": {},
   "cell_type": "markdown",
   "metadata": {
    "dotnet_interactive": {
     "language": "csharp"
    },
    "polyglot_notebook": {
     "kernelName": "csharp"
    }
   },
   "source": [
    "<div class=\"flex-container\" style=\"display: flex\">\n",
    "  <img src=\"./_img/different_dogs.png\" style=\"width: 450px; margin-right: 25px;\"></img>\n",
    "  <table style=\"margin-right: 25px;\">\n",
    "    <thead>\n",
    "      <tr>\n",
    "        <th style=\"text-align: center\">Attributes</th>\n",
    "      </tr>\n",
    "    </thead>\n",
    "    <tbody>\n",
    "      <tr>\n",
    "        <td style=\"text-align: center;\"><code>Name</code></td>\n",
    "      </tr>\n",
    "      <tr>\n",
    "        <td style=\"text-align: center;\"><code>FurColor</code></td>\n",
    "      </tr>\n",
    "      <tr>\n",
    "        <td style=\"text-align: center;\"><code>Breed</code></td>\n",
    "      </tr>\n",
    "      <tr>\n",
    "        <td style=\"text-align: center;\"><code>Gender</code></td>\n",
    "      </tr>\n",
    "    </tbody>\n",
    "  </table>\n",
    "  <table>\n",
    "    <thead>\n",
    "      <tr>\n",
    "        <th style=\"text-align: center\">Methods</th>\n",
    "      </tr>\n",
    "    </thead>\n",
    "    <tbody>\n",
    "      <tr>\n",
    "        <td style=\"text-align: center;\"><code>Bark()</code></td>\n",
    "      </tr>\n",
    "      <tr>\n",
    "        <td style=\"text-align: center;\"><code>Sit()</code></td>\n",
    "      </tr>\n",
    "      <tr>\n",
    "        <td style=\"text-align: center;\"><code>PlayDead()</code></td>\n",
    "      </tr>\n",
    "      <tr>\n",
    "        <td style=\"text-align: center;\"><code>RescueBoyFromWell()</code></td>\n",
    "      </tr>\n",
    "    </tbody>\n",
    "  </table>\n",
    "</div>"
   ]
  },
  {
   "attachments": {},
   "cell_type": "markdown",
   "metadata": {
    "dotnet_interactive": {
     "language": "csharp"
    },
    "polyglot_notebook": {
     "kernelName": "csharp"
    }
   },
   "source": [
    "Returning to the example described above, in order to have have created $Lassie$, we needed to have first defined a **Class** representing a $dog$ that models the real object \"dog\". \n",
    "   \n",
    "The **class** is going to include *characteristics* which are *common for all dogs* (such as **breed** and **fur color**), as well as typical for the dog *behavior* (**barking**, **sitting**, **playing dead**, etc.). \n",
    "   \n",
    "In this case we are going to have **attributes** `Breed` and `FurColor`, and the *behavior* is going to be implemented by the **methods** `Bark()`, `Sit()`, `PlayDead()` and `RescueBoyFromWell()`."
   ]
  },
  {
   "attachments": {},
   "cell_type": "markdown",
   "metadata": {
    "dotnet_interactive": {
     "language": "csharp"
    },
    "polyglot_notebook": {
     "kernelName": "csharp"
    }
   },
   "source": [
    "<br>"
   ]
  },
  {
   "attachments": {},
   "cell_type": "markdown",
   "metadata": {
    "dotnet_interactive": {
     "language": "csharp"
    },
    "polyglot_notebook": {
     "kernelName": "csharp"
    }
   },
   "source": [
    "### Every Object is an Instance of a Class"
   ]
  },
  {
   "attachments": {},
   "cell_type": "markdown",
   "metadata": {
    "dotnet_interactive": {
     "language": "csharp"
    },
    "polyglot_notebook": {
     "kernelName": "csharp"
    }
   },
   "source": [
    "Each **object** is an **instance** of just *one* **class**, and is created according to a pattern designed within it.    \n",
    "\n",
    "Creating the **object** from a defined **class** is called **instantiation**. \n",
    "\n",
    "The **instance** is the **object** itself, which is created during runtime.   \n",
    "Each object is in **instance** of a specific **class**. This **instance** is characterized by *state* – set of values, associated with **class** *attributes*.   \n",
    "\n",
    "So, foundationally, the **object** consists of two things, each derived from the it's **class** definition: \n",
    "1. *Attributes* describing the current *State* \n",
    "2. *Methods* which perform specific functional *Behaviors*.    \n",
    "   \n",
    "The *state* is *specific* for the **instance** (the **object**), but the *behavior* is *common for all objects* which are **instances** of a given **class**."
   ]
  }
 ],
 "metadata": {
  "kernelspec": {
   "display_name": ".NET (C#)",
   "language": "C#",
   "name": ".net-csharp"
  },
  "polyglot_notebook": {
   "kernelInfo": {
    "defaultKernelName": "csharp",
    "items": [
     {
      "aliases": [
       "c#",
       "C#"
      ],
      "languageName": "C#",
      "name": "csharp"
     },
     {
      "aliases": [
       "frontend"
      ],
      "name": "vscode"
     },
     {
      "aliases": [],
      "name": ".NET"
     },
     {
      "aliases": [
       "f#",
       "F#"
      ],
      "languageName": "F#",
      "name": "fsharp"
     },
     {
      "aliases": [],
      "languageName": "HTML",
      "name": "html"
     },
     {
      "aliases": [
       "js"
      ],
      "languageName": "JavaScript",
      "name": "javascript"
     },
     {
      "aliases": [],
      "languageName": "KQL",
      "name": "kql"
     },
     {
      "aliases": [],
      "languageName": "Mermaid",
      "name": "mermaid"
     },
     {
      "aliases": [
       "powershell"
      ],
      "languageName": "PowerShell",
      "name": "pwsh"
     },
     {
      "aliases": [],
      "languageName": "SQL",
      "name": "sql"
     },
     {
      "aliases": [],
      "name": "value"
     },
     {
      "aliases": [],
      "name": "webview"
     }
    ]
   }
  }
 },
 "nbformat": 4,
 "nbformat_minor": 2
}
