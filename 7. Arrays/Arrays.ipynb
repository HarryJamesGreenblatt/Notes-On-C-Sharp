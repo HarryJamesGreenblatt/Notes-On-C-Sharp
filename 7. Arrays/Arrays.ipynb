{
 "cells": [
  {
   "cell_type": "markdown",
   "metadata": {},
   "source": [
    "# 7. Arrays"
   ]
  },
  {
   "cell_type": "markdown",
   "metadata": {},
   "source": [
    "##### Arrays are vital for most programming languages.<br>They are *collections* of *variables* which are commonly reffered to as *elements*:\n",
    "----"
   ]
  },
  {
   "cell_type": "markdown",
   "metadata": {
    "dotnet_interactive": {
     "language": "csharp"
    }
   },
   "source": [
    "#### The Anatomy of an `Array`"
   ]
  },
  {
   "cell_type": "markdown",
   "metadata": {},
   "source": [
    "<center>\n",
    "\n",
    "![array anotomy](./_img/array_anotomy.jpg)\n",
    "\n",
    "</center>\n"
   ]
  },
  {
   "cell_type": "markdown",
   "metadata": {},
   "source": [
    "An array’s elements in C# are numbered with `0`, `1`, `2`, … `N-1`. Those numbers are called **indices**.   \n",
    "   \n",
    "The *total number of elements* in a given array we call `Length` of an array.   \n",
    "All elements of a given array are of the *same type*, no matter whether they are primitive or reference types. This allows us to represent a group of similar elements as an *ordered sequence* and work on them as a whole.   \n",
    "   \n",
    "Arrays can be in different *dimensions*, but the most used are the *one-dimensional* and the *two-dimensional* arrays. \n",
    "- One-dimensional arrays are also called *vectors* \n",
    "- Two-dimensional are also known as *matrices*."
   ]
  },
  {
   "cell_type": "markdown",
   "metadata": {},
   "source": [
    "<br>"
   ]
  },
  {
   "cell_type": "markdown",
   "metadata": {},
   "source": [
    "#### Declaration and Allocation of Memory for `Array`s"
   ]
  },
  {
   "cell_type": "markdown",
   "metadata": {},
   "source": [
    "In C# the arrays have **fixed** `Length`, which is set at the time of their instantiation and determines the total number of elements."
   ]
  },
  {
   "cell_type": "markdown",
   "metadata": {},
   "source": [
    "##### Creating an `Array` *initialized with default values* using the `new` Operator"
   ]
  },
  {
   "cell_type": "code",
   "execution_count": 1,
   "metadata": {
    "dotnet_interactive": {
     "language": "csharp"
    },
    "vscode": {
     "languageId": "dotnet-interactive.csharp"
    }
   },
   "outputs": [],
   "source": [
    "// Instantiate a new Integer Array \n",
    "// whose Length is fixed to store 6 elements\n",
    "// from index 0 through index 5\n",
    "// each initialized with default values\n",
    "int[] SixElementIntegerArray = new int[ 6 ]; "
   ]
  },
  {
   "cell_type": "markdown",
   "metadata": {},
   "source": [
    "<center>\n",
    "\n",
    "![initialized1](./_img/initialized1.jpg)\n",
    "\n",
    "</center>"
   ]
  },
  {
   "cell_type": "code",
   "execution_count": 2,
   "metadata": {
    "dotnet_interactive": {
     "language": "csharp"
    },
    "vscode": {
     "languageId": "dotnet-interactive.csharp"
    }
   },
   "outputs": [
    {
     "data": {
      "text/html": [
       "<table><thead><tr><th><i>index</i></th><th>value</th></tr></thead><tbody><tr><td>0</td><td><div class=\"dni-plaintext\">0</div></td></tr><tr><td>1</td><td><div class=\"dni-plaintext\">0</div></td></tr><tr><td>2</td><td><div class=\"dni-plaintext\">0</div></td></tr><tr><td>3</td><td><div class=\"dni-plaintext\">0</div></td></tr><tr><td>4</td><td><div class=\"dni-plaintext\">0</div></td></tr><tr><td>5</td><td><div class=\"dni-plaintext\">0</div></td></tr></tbody></table>"
      ]
     },
     "metadata": {},
     "output_type": "display_data"
    }
   ],
   "source": [
    "SixElementIntegerArray"
   ]
  },
  {
   "cell_type": "markdown",
   "metadata": {},
   "source": [
    "##### Creating an `Array` *initialized with explicit values* using `{}` syntax"
   ]
  },
  {
   "cell_type": "code",
   "execution_count": 5,
   "metadata": {
    "dotnet_interactive": {
     "language": "csharp"
    },
    "vscode": {
     "languageId": "dotnet-interactive.csharp"
    }
   },
   "outputs": [],
   "source": [
    "// Instantiate a new Integer Array \n",
    "// whose Length is fixed to store 6 elements\n",
    "// from index 0 through index 5\n",
    "// initialized with the values {1,2,3,4,5,6}\n",
    "int[] SixElementIntegerArray = {1,2,3,4,5,6}; "
   ]
  },
  {
   "cell_type": "markdown",
   "metadata": {},
   "source": [
    "<center>\n",
    "\n",
    "![initialized1](./_img/initialized2.jpg)\n",
    "\n",
    "</center>"
   ]
  },
  {
   "cell_type": "code",
   "execution_count": 6,
   "metadata": {
    "dotnet_interactive": {
     "language": "csharp"
    },
    "vscode": {
     "languageId": "dotnet-interactive.csharp"
    }
   },
   "outputs": [
    {
     "data": {
      "text/html": [
       "<table><thead><tr><th><i>index</i></th><th>value</th></tr></thead><tbody><tr><td>0</td><td><div class=\"dni-plaintext\">1</div></td></tr><tr><td>1</td><td><div class=\"dni-plaintext\">2</div></td></tr><tr><td>2</td><td><div class=\"dni-plaintext\">3</div></td></tr><tr><td>3</td><td><div class=\"dni-plaintext\">4</div></td></tr><tr><td>4</td><td><div class=\"dni-plaintext\">5</div></td></tr><tr><td>5</td><td><div class=\"dni-plaintext\">6</div></td></tr></tbody></table>"
      ]
     },
     "metadata": {},
     "output_type": "display_data"
    }
   ],
   "source": [
    "SixElementIntegerArray"
   ]
  },
  {
   "cell_type": "markdown",
   "metadata": {},
   "source": [
    "Observe, however, that once the `Length` of an `Array` is set, we *cannot* expand it anymore."
   ]
  },
  {
   "cell_type": "code",
   "execution_count": 3,
   "metadata": {
    "dotnet_interactive": {
     "language": "csharp"
    },
    "vscode": {
     "languageId": "dotnet-interactive.csharp"
    }
   },
   "outputs": [
    {
     "ename": "Error",
     "evalue": "System.IndexOutOfRangeException: Index was outside the bounds of the array.\r\n   at Submission#4.<<Initialize>>d__0.MoveNext()\r\n--- End of stack trace from previous location ---\r\n   at Microsoft.CodeAnalysis.Scripting.ScriptExecutionState.RunSubmissionsAsync[TResult](ImmutableArray`1 precedingExecutors, Func`2 currentExecutor, StrongBox`1 exceptionHolderOpt, Func`2 catchExceptionOpt, CancellationToken cancellationToken)",
     "output_type": "error",
     "traceback": [
      "System.IndexOutOfRangeException: Index was outside the bounds of the array.\r\n",
      "   at Submission#4.<<Initialize>>d__0.MoveNext()\r\n",
      "--- End of stack trace from previous location ---\r\n",
      "   at Microsoft.CodeAnalysis.Scripting.ScriptExecutionState.RunSubmissionsAsync[TResult](ImmutableArray`1 precedingExecutors, Func`2 currentExecutor, StrongBox`1 exceptionHolderOpt, Func`2 catchExceptionOpt, CancellationToken cancellationToken)"
     ]
    }
   ],
   "source": [
    "// The valid indices are index 0 through index 5\n",
    "SixElementIntegerArray[ 6 ] = 0;"
   ]
  },
  {
   "cell_type": "markdown",
   "metadata": {},
   "source": [
    "<br>"
   ]
  },
  {
   "cell_type": "markdown",
   "metadata": {},
   "source": [
    "#### `for` **Loops**"
   ]
  },
  {
   "cell_type": "markdown",
   "metadata": {},
   "source": [
    "`for` loops are a slightly more complicated than `while` and `do-while` loops, but on the other hand they can solve more complicated tasks with less code."
   ]
  },
  {
   "cell_type": "markdown",
   "metadata": {},
   "source": [
    "```c#\n",
    "for (initialization; condition; update)\n",
    "{\n",
    "    // Loop Body; \n",
    "}\n",
    "```"
   ]
  },
  {
   "cell_type": "markdown",
   "metadata": {},
   "source": [
    "<center>\n",
    "\n",
    "![for loop img](./_img/for.jpg)\n",
    "\n",
    "</center>"
   ]
  },
  {
   "cell_type": "markdown",
   "metadata": {},
   "source": [
    "Since none of the *parameters* of `for` loops are mandatory, we can skip them all and we will get an **infinite loop**:"
   ]
  },
  {
   "cell_type": "markdown",
   "metadata": {
    "dotnet_interactive": {
     "language": "csharp"
    }
   },
   "source": [
    "```c#\n",
    "for( ; ; )\n",
    "{\n",
    "    // Infinite Loop\n",
    "}   \n",
    "```"
   ]
  },
  {
   "cell_type": "markdown",
   "metadata": {},
   "source": [
    "However, observe that the `for` loop typically contains the following **parameters**: \n",
    "- an **Initialization Block** (**A**)\n",
    "- a **Condition** (**B**)\n",
    "- **Updating Commands** for the loop variables (**C**)\n",
    "- a **Body** (**D**)"
   ]
  },
  {
   "cell_type": "markdown",
   "metadata": {},
   "source": [
    "##### Initialization Block"
   ]
  },
  {
   "cell_type": "markdown",
   "metadata": {},
   "source": [
    "It is executed only once, just *before* entering the loop. Usually the *initialization block* is used to declare the *counter-variable* (also called a *loop variable*) and to set its *initial value*."
   ]
  },
  {
   "cell_type": "markdown",
   "metadata": {},
   "source": [
    "```c#\n",
    "for( int counter = 0; ; )\n",
    "{\n",
    "    // counter is visible here and it can be used\n",
    "}   \n",
    "// Here counter can not be used\n",
    "```"
   ]
  },
  {
   "cell_type": "markdown",
   "metadata": {},
   "source": [
    "##### Condition"
   ]
  },
  {
   "cell_type": "markdown",
   "metadata": {},
   "source": [
    "The condition (loop condition) is evaluated once *before* each iteration of the loop, just like in the `while` loops. If the result is `true`, the loop’s body is executed. If `false` it is skipped and the loop ends (the program continues immediately after the last line of the loop’s body)."
   ]
  },
  {
   "cell_type": "markdown",
   "metadata": {},
   "source": [
    "```c#\n",
    "for( ; counter < 10; )\n",
    "{\n",
    "    // Execute Loop Body if the Counter is less than 10\n",
    "}  \n",
    "```"
   ]
  },
  {
   "cell_type": "markdown",
   "metadata": {},
   "source": [
    "##### Updating Commands"
   ]
  },
  {
   "cell_type": "markdown",
   "metadata": {},
   "source": [
    "This code is executed at each iteration, *after* the loop’s body has been executed. It is most commonly used to *update the value* of the counter variable."
   ]
  },
  {
   "cell_type": "markdown",
   "metadata": {},
   "source": [
    "```c#\n",
    "for( ; ; counter++ )\n",
    "{\n",
    "    // Execute Loop Body,\n",
    "    // then update the counter as specified \n",
    "}  \n",
    "```"
   ]
  },
  {
   "cell_type": "markdown",
   "metadata": {},
   "source": [
    "##### Body"
   ]
  },
  {
   "cell_type": "markdown",
   "metadata": {},
   "source": [
    "The body of the loop contains a block with source code.     \n",
    "The loop variables, declared in the initialization block of the loop are available in it."
   ]
  },
  {
   "cell_type": "markdown",
   "metadata": {},
   "source": [
    "```c#\n",
    "for( int counter = 0; counter < 10; counter++ )\n",
    "{\n",
    "    // Execute the instructions listed here\n",
    "}  \n",
    "```"
   ]
  },
  {
   "cell_type": "markdown",
   "metadata": {},
   "source": [
    "<br>"
   ]
  },
  {
   "cell_type": "markdown",
   "metadata": {},
   "source": [
    "#### `foreach` **Loops**"
   ]
  },
  {
   "cell_type": "markdown",
   "metadata": {},
   "source": [
    "This programming construct serves to iterate over *all elements* of an `Array`, `List` or other collection of elements (`IEnumerable`). It *passes through all the elements* of the specified *collection* even if the collection is not indexed."
   ]
  },
  {
   "cell_type": "markdown",
   "metadata": {},
   "source": [
    "```c#\n",
    "foreach ( type variable in collection ) \n",
    "{\n",
    "    // Loop Body; \n",
    "}\n",
    "\n",
    "```\n"
   ]
  },
  {
   "cell_type": "markdown",
   "metadata": {},
   "source": [
    "Compared to a `for` loop, a `foreach` loop has a tendency to be more readable.    \n",
    "   \n",
    "There is not as much overhead clutter inside of the parentheses. Also, in many cases the first thing you do a `for` loop is use the *index* to get the correct item out of the array. This is bypassed with a foreach loop.\n"
   ]
  },
  {
   "cell_type": "code",
   "execution_count": 4,
   "metadata": {
    "dotnet_interactive": {
     "language": "csharp"
    },
    "vscode": {
     "languageId": "dotnet-interactive.csharp"
    }
   },
   "outputs": [
    {
     "name": "stdout",
     "output_type": "stream",
     "text": [
      "January\r\n",
      "February\r\n",
      "March\r\n"
     ]
    }
   ],
   "source": [
    "// Given an array representing the First Three Months in the year\n",
    "string[] FirstThreeMonths = {\"January\", \"February\", \"March\"};\n",
    "\n",
    "\n",
    "// For Each Month in the FirstThreeMonths Array:\n",
    "foreach( string Month in FirstThreeMonths )\n",
    "{\n",
    "\n",
    "    // Print the current Month\n",
    "    Console.WriteLine( Month );\n",
    "\n",
    "}"
   ]
  },
  {
   "cell_type": "markdown",
   "metadata": {},
   "source": [
    "Note that `foreach` loops are somewhat *slower*, simply as a result of their internal mechanics. If you’re discovering that a particular `foreach` loop is taking way more time than you’d like, converting it to a `for` loop is an easy way to get a little extra speed out of it."
   ]
  }
 ],
 "metadata": {
  "kernelspec": {
   "display_name": ".NET (C#)",
   "language": "C#",
   "name": ".net-csharp"
  },
  "language_info": {
   "file_extension": ".cs",
   "mimetype": "text/x-csharp",
   "name": "C#",
   "pygments_lexer": "csharp",
   "version": "9.0"
  },
  "orig_nbformat": 4
 },
 "nbformat": 4,
 "nbformat_minor": 2
}
