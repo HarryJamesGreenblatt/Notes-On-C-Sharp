{
 "cells": [
  {
   "cell_type": "markdown",
   "metadata": {},
   "source": [
    "# 6. Loops"
   ]
  },
  {
   "cell_type": "markdown",
   "metadata": {},
   "source": [
    "##### Programming often requires repeated execution of a sequence of operations.<br><br>A **loop** is a basic programming construct that allows **repeated execution of a fragment of source code.**   \n",
    "##### Depending on the type of the loop, the code in it is repeated a fixed number of times or repeats until a given *condition* is `true` (exists).  \n",
    "----"
   ]
  },
  {
   "cell_type": "markdown",
   "metadata": {
    "dotnet_interactive": {
     "language": "csharp"
    }
   },
   "source": [
    "#### `while` **Loops**"
   ]
  },
  {
   "cell_type": "markdown",
   "metadata": {
    "dotnet_interactive": {
     "language": "csharp"
    }
   },
   "source": [
    "One of the simplest and most commonly used loops is `while`."
   ]
  },
  {
   "cell_type": "markdown",
   "metadata": {},
   "source": [
    "```c#\n",
    "while (condition) \n",
    "{\n",
    "\n",
    "    // Loop Body; \n",
    "\n",
    "}\n",
    "```"
   ]
  },
  {
   "cell_type": "markdown",
   "metadata": {},
   "source": [
    "<center>\n",
    "\n",
    "![while loop img](./_img/while.jpg)\n",
    "\n",
    "</center>\n"
   ]
  },
  {
   "cell_type": "markdown",
   "metadata": {},
   "source": [
    "Above, **condition** is any expression that returns a **Boolean** result – `true` or `false`.   \n",
    "    \n",
    "It determines how long the **loop body** will be repeated and is called the *loop condition*. \n",
    "    \n",
    "The loop body is the programming code executed at each iteration of the loop, i.e. whenever the input **condition** is `true`."
   ]
  },
  {
   "cell_type": "code",
   "execution_count": 1,
   "metadata": {
    "dotnet_interactive": {
     "language": "csharp"
    },
    "vscode": {
     "languageId": "dotnet-interactive.csharp"
    }
   },
   "outputs": [
    {
     "name": "stdout",
     "output_type": "stream",
     "text": [
      "Number: 0\r\n",
      "Number: 1\r\n",
      "Number: 2\r\n",
      "Number: 3\r\n",
      "Number: 4\r\n",
      "Number: 5\r\n",
      "Number: 6\r\n",
      "Number: 7\r\n",
      "Number: 8\r\n",
      "Number: 9\r\n"
     ]
    }
   ],
   "source": [
    "// Starting a number at 0\n",
    "int number = 0;\n",
    "\n",
    "\n",
    "// Iterating While this number is LESS THAN 10:\n",
    "while ( number < 10 )\n",
    "{\n",
    "\n",
    "    // Print the number, \n",
    "    // taking care to then increment it by one \n",
    "    Console.WriteLine( $\"Number: { number++ }\" );\n",
    "    \n",
    "}"
   ]
  },
  {
   "cell_type": "markdown",
   "metadata": {},
   "source": [
    "<br>"
   ]
  },
  {
   "cell_type": "markdown",
   "metadata": {},
   "source": [
    "#### `do-while` **Loops**"
   ]
  },
  {
   "cell_type": "markdown",
   "metadata": {},
   "source": [
    "The `do-while` loop is similar to the `while` loop, but it checks the condition *after* each execution of its loop body."
   ]
  },
  {
   "cell_type": "markdown",
   "metadata": {},
   "source": [
    "```c#\n",
    "do\n",
    "{\n",
    "\n",
    "    // Loop Body; \n",
    "\n",
    "}   while ( condition )\n",
    "```"
   ]
  },
  {
   "cell_type": "markdown",
   "metadata": {},
   "source": [
    "<center>\n",
    "\n",
    "![do while loop img](./_img/do-while.jpg)\n",
    "\n",
    "</center>"
   ]
  },
  {
   "cell_type": "markdown",
   "metadata": {},
   "source": [
    "Initially the **loop body** is executed. *Then* its condition is checked. If it is `true`, the loop’s body is repeated, otherwise the loop ends.   \n",
    "    \n",
    "This logic is repeated until the **condition** of the loop is broken.    \n",
    "   \n",
    "The body of the loop is *always executed at least once* If the loop’s **condition** is constantly `true`, the loop never ends."
   ]
  },
  {
   "cell_type": "code",
   "execution_count": 2,
   "metadata": {
    "dotnet_interactive": {
     "language": "csharp"
    },
    "vscode": {
     "languageId": "dotnet-interactive.csharp"
    }
   },
   "outputs": [
    {
     "name": "stdout",
     "output_type": "stream",
     "text": [
      "-1\r\n",
      "0\r\n",
      "1\r\n",
      "2\r\n",
      "3\r\n",
      "4\r\n"
     ]
    }
   ],
   "source": [
    "// Starting a number that is Initially Negative \n",
    "int initiallyNegativeNumber = -1;\n",
    "\n",
    "\n",
    "// Execute the following at least once,\n",
    "//     Iterating While the Initially Negative Number is both Positive AND less than 5:\n",
    "do\n",
    "{\n",
    "\n",
    "    // print the Initially Negative Number,\n",
    "    // taking care to then increment it by one\n",
    "    Console.WriteLine( $\"{ initiallyNegativeNumber++ }\" );\n",
    "\n",
    "}   while( initiallyNegativeNumber >= 0 && initiallyNegativeNumber < 5  );\n",
    "\n",
    "\n",
    "// -1 will be printed despite the loop condition stipulating otherwise."
   ]
  },
  {
   "cell_type": "markdown",
   "metadata": {},
   "source": [
    "<br>"
   ]
  },
  {
   "cell_type": "markdown",
   "metadata": {},
   "source": [
    "#### `for` **Loops**"
   ]
  },
  {
   "cell_type": "markdown",
   "metadata": {},
   "source": [
    "`for` loops are a slightly more complicated than `while` and `do-while` loops, but on the other hand they can solve more complicated tasks with less code."
   ]
  },
  {
   "cell_type": "markdown",
   "metadata": {},
   "source": [
    "```c#\n",
    "for (initialization; condition; update)\n",
    "{\n",
    "    // Loop Body; \n",
    "}\n",
    "```"
   ]
  },
  {
   "cell_type": "markdown",
   "metadata": {},
   "source": [
    "<center>\n",
    "\n",
    "![for loop img](./_img/for.jpg)\n",
    "\n",
    "</center>"
   ]
  },
  {
   "cell_type": "markdown",
   "metadata": {},
   "source": [
    "Since none of the *parameters* of `for` loops are mandatory, we can skip them all and we will get an **infinite loop**:"
   ]
  },
  {
   "cell_type": "markdown",
   "metadata": {
    "dotnet_interactive": {
     "language": "csharp"
    }
   },
   "source": [
    "```c#\n",
    "for( ; ; )\n",
    "{\n",
    "    // Infinite Loop\n",
    "}   \n",
    "```"
   ]
  },
  {
   "cell_type": "markdown",
   "metadata": {},
   "source": [
    "However, observe that the `for` loop typically contains the following **parameters**: \n",
    "- an **Initialization Block** (**A**)\n",
    "- a **Condition** (**B**)\n",
    "- **Updating Commands** for the loop variables (**C**)\n",
    "- a **Body** (**D**)"
   ]
  },
  {
   "cell_type": "markdown",
   "metadata": {},
   "source": [
    "##### Initialization Block"
   ]
  },
  {
   "cell_type": "markdown",
   "metadata": {},
   "source": [
    "It is executed only once, just *before* entering the loop. Usually the *initialization block* is used to declare the *counter-variable* (also called a *loop variable*) and to set its *initial value*."
   ]
  },
  {
   "cell_type": "markdown",
   "metadata": {},
   "source": [
    "```c#\n",
    "for( int counter = 0; ; )\n",
    "{\n",
    "    // counter is visible here and it can be used\n",
    "}   \n",
    "// Here counter can not be used\n",
    "```"
   ]
  },
  {
   "cell_type": "markdown",
   "metadata": {},
   "source": [
    "##### Condition"
   ]
  },
  {
   "cell_type": "markdown",
   "metadata": {},
   "source": [
    "The condition (loop condition) is evaluated once *before* each iteration of the loop, just like in the `while` loops. If the result is `true`, the loop’s body is executed. If `false` it is skipped and the loop ends (the program continues immediately after the last line of the loop’s body)."
   ]
  },
  {
   "cell_type": "markdown",
   "metadata": {},
   "source": [
    "```c#\n",
    "for( ; counter < 10; )\n",
    "{\n",
    "    // Execute Loop Body if the Counter is less than 10\n",
    "}  \n",
    "```"
   ]
  },
  {
   "cell_type": "markdown",
   "metadata": {},
   "source": [
    "##### Updating Commands"
   ]
  },
  {
   "cell_type": "markdown",
   "metadata": {},
   "source": [
    "This code is executed at each iteration, *after* the loop’s body has been executed. It is most commonly used to *update the value* of the counter variable."
   ]
  },
  {
   "cell_type": "markdown",
   "metadata": {},
   "source": [
    "```c#\n",
    "for( ; ; counter++ )\n",
    "{\n",
    "    // Execute Loop Body,\n",
    "    // then update the counter as specified \n",
    "}  \n",
    "```"
   ]
  },
  {
   "cell_type": "markdown",
   "metadata": {},
   "source": [
    "##### Body"
   ]
  },
  {
   "cell_type": "markdown",
   "metadata": {},
   "source": [
    "The body of the loop contains a block with source code.     \n",
    "The loop variables, declared in the initialization block of the loop are available in it."
   ]
  },
  {
   "cell_type": "markdown",
   "metadata": {},
   "source": [
    "```c#\n",
    "for( int counter = 0; counter < 10; counter++ )\n",
    "{\n",
    "    // Execute the instructions listed here\n",
    "}  \n",
    "```"
   ]
  },
  {
   "cell_type": "markdown",
   "metadata": {},
   "source": [
    "<br>"
   ]
  },
  {
   "cell_type": "markdown",
   "metadata": {},
   "source": [
    "#### `foreach` **Loops**"
   ]
  },
  {
   "cell_type": "markdown",
   "metadata": {},
   "source": [
    "This programming construct serves to iterate over *all elements* of an `Array`, `List` or other collection of elements (`IEnumerable`). It *passes through all the elements* of the specified *collection* even if the collection is not indexed."
   ]
  },
  {
   "cell_type": "markdown",
   "metadata": {},
   "source": [
    "```c#\n",
    "foreach ( type variable in collection ) \n",
    "{\n",
    "    // Loop Body; \n",
    "}\n",
    "\n",
    "```\n"
   ]
  },
  {
   "cell_type": "markdown",
   "metadata": {},
   "source": [
    "Compared to a `for` loop, a `foreach` loop has a tendency to be more readable.    \n",
    "   \n",
    "There is not as much overhead clutter inside of the parentheses. Also, in many cases the first thing you do a `for` loop is use the *index* to get the correct item out of the array. This is bypassed with a foreach loop.\n"
   ]
  },
  {
   "cell_type": "code",
   "execution_count": 2,
   "metadata": {
    "dotnet_interactive": {
     "language": "csharp"
    },
    "vscode": {
     "languageId": "dotnet-interactive.csharp"
    }
   },
   "outputs": [
    {
     "name": "stdout",
     "output_type": "stream",
     "text": [
      "January\r\n",
      "February\r\n",
      "March\r\n"
     ]
    }
   ],
   "source": [
    "// Given an array representing the First Three Months in the year\n",
    "string[] FirstThreeMonths = {\"January\", \"February\", \"March\"};\n",
    "\n",
    "\n",
    "// For Each Month in the FirstThreeMonths Array:\n",
    "foreach( string Month in FirstThreeMonths )\n",
    "{\n",
    "\n",
    "    // Print the current Month\n",
    "    Console.WriteLine( Month );\n",
    "\n",
    "}"
   ]
  },
  {
   "cell_type": "markdown",
   "metadata": {},
   "source": [
    "Note that `foreach` loops are somewhat *slower*, simply as a result of their internal mechanics. If you’re discovering that a particular `foreach` loop is taking way more time than you’d like, converting it to a `for` loop is an easy way to get a little extra speed out of it."
   ]
  }
 ],
 "metadata": {
  "kernelspec": {
   "display_name": ".NET (C#)",
   "language": "C#",
   "name": ".net-csharp"
  },
  "language_info": {
   "file_extension": ".cs",
   "mimetype": "text/x-csharp",
   "name": "C#",
   "pygments_lexer": "csharp",
   "version": "9.0"
  },
  "orig_nbformat": 4
 },
 "nbformat": 4,
 "nbformat_minor": 2
}
