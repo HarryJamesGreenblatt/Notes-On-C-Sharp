{
 "cells": [
  {
   "cell_type": "markdown",
   "metadata": {},
   "source": [
    "# 6. Loops"
   ]
  },
  {
   "cell_type": "markdown",
   "metadata": {},
   "source": [
    "## What Is a \"Loop\"?\n",
    "   \n",
    "##### In programming often requires repeated execution of a sequence of operations. A **loop** is a basic programming construct that allows **repeated execution of a fragment of source code.**   \n",
    "##### Depending on the type of the loop, the code in it is repeated a fixed number of times or repeats until a given *condition* is `true` (exists).  \n",
    "----"
   ]
  },
  {
   "cell_type": "markdown",
   "metadata": {
    "dotnet_interactive": {
     "language": "csharp"
    }
   },
   "source": [
    "#### `while` **Loops**"
   ]
  },
  {
   "cell_type": "markdown",
   "metadata": {
    "dotnet_interactive": {
     "language": "csharp"
    }
   },
   "source": [
    "One of the simplest and most commonly used loops is `while`."
   ]
  },
  {
   "cell_type": "markdown",
   "metadata": {},
   "source": [
    "```c#\n",
    "while (condition) \n",
    "{\n",
    "\n",
    "    // loop body; \n",
    "\n",
    "}\n",
    "```"
   ]
  },
  {
   "cell_type": "markdown",
   "metadata": {},
   "source": [
    "<center>\n",
    "\n",
    "![while loop img](./_img/while.jpg)\n",
    "\n",
    "</center>\n"
   ]
  },
  {
   "cell_type": "markdown",
   "metadata": {},
   "source": [
    "Above, **condition** is any expression that returns a **Boolean** result – `true` or `false`.   \n",
    "    \n",
    "It determines how long the **loop body** will be repeated and is called the *loop condition*. \n",
    "    \n",
    "The loop body is the programming code executed at each iteration of the loop, i.e. whenever the input **condition** is `true`."
   ]
  },
  {
   "cell_type": "code",
   "execution_count": 7,
   "metadata": {
    "dotnet_interactive": {
     "language": "csharp"
    },
    "vscode": {
     "languageId": "dotnet-interactive.csharp"
    }
   },
   "outputs": [
    {
     "name": "stdout",
     "output_type": "stream",
     "text": [
      "Number: 0\r\n",
      "Number: 1\r\n",
      "Number: 2\r\n",
      "Number: 3\r\n",
      "Number: 4\r\n",
      "Number: 5\r\n",
      "Number: 6\r\n",
      "Number: 7\r\n",
      "Number: 8\r\n",
      "Number: 9\r\n"
     ]
    }
   ],
   "source": [
    "// Starting a number at 0\n",
    "int number = 0;\n",
    "\n",
    "\n",
    "// Iterating While this number is LESS THAN 10:\n",
    "while ( number < 10 )\n",
    "{\n",
    "\n",
    "    // Print the number, \n",
    "    // taking care to then increment it by one \n",
    "    Console.WriteLine( $\"Number: { number++ }\" );\n",
    "    \n",
    "}"
   ]
  },
  {
   "cell_type": "markdown",
   "metadata": {},
   "source": [
    "<br>"
   ]
  },
  {
   "cell_type": "markdown",
   "metadata": {},
   "source": [
    "#### `do-while` **Loops**"
   ]
  },
  {
   "cell_type": "markdown",
   "metadata": {},
   "source": [
    "The `do-while` loop is similar to the `while` loop, but it checks the condition *after* each execution of its loop body."
   ]
  },
  {
   "cell_type": "markdown",
   "metadata": {},
   "source": [
    "```c#\n",
    "do\n",
    "{\n",
    "\n",
    "    // executable code; \n",
    "\n",
    "}   while ( condition )\n",
    "```"
   ]
  },
  {
   "cell_type": "markdown",
   "metadata": {},
   "source": [
    "<center>\n",
    "\n",
    "![do while loop img](./_img/do-while.jpg)\n",
    "\n",
    "</center>"
   ]
  },
  {
   "cell_type": "markdown",
   "metadata": {},
   "source": [
    "Initially the **loop body** is executed. *Then* its condition is checked. If it is `true`, the loop’s body is repeated, otherwise the loop ends.   \n",
    "    \n",
    "This logic is repeated until the **condition** of the loop is broken.    \n",
    "   \n",
    "The body of the loop is *always executed at least once* If the loop’s **condition** is constantly `true`, the loop never ends."
   ]
  },
  {
   "cell_type": "code",
   "execution_count": 8,
   "metadata": {
    "dotnet_interactive": {
     "language": "csharp"
    },
    "vscode": {
     "languageId": "dotnet-interactive.csharp"
    }
   },
   "outputs": [
    {
     "name": "stdout",
     "output_type": "stream",
     "text": [
      "-1\r\n",
      "0\r\n",
      "1\r\n",
      "2\r\n",
      "3\r\n",
      "4\r\n"
     ]
    }
   ],
   "source": [
    "// Starting a number that is Initially Negative \n",
    "int initiallyNegativeNumber = -1;\n",
    "\n",
    "\n",
    "// Execute the following at least once,\n",
    "//     Iterating While the Initially Negative Number is both Positive AND less than 5:\n",
    "do\n",
    "{\n",
    "\n",
    "    // print the Initially Negative Number\n",
    "    Console.WriteLine( $\"{ initiallyNegativeNumber++ }\" );\n",
    "\n",
    "}   while( initiallyNegativeNumber >= 0 && initiallyNegativeNumber < 5  );\n",
    "\n",
    "\n",
    "// -1 will be printed despite the loop condition stipulating otherwise."
   ]
  },
  {
   "cell_type": "markdown",
   "metadata": {},
   "source": [
    "<br>"
   ]
  },
  {
   "cell_type": "markdown",
   "metadata": {},
   "source": [
    "#### **Explicit Type Conversion**"
   ]
  },
  {
   "cell_type": "markdown",
   "metadata": {},
   "source": [
    "Used whenever there is a **possibility of data loss**.   \n",
    "\n",
    "When converting *floating point type* to *integer type*, there is *always a loss of data* coming from the elimination of the fractional part, so an **explicit conversion** is obligatory (e.g. `double` to `long`).  \n",
    "   \n",
    "To make such a conversion, it is necessary to use the **operator for data conversion** `(type)`.\n",
    "\n",
    "There may also be **data loss** when converting a type with a *wider range* to type with a *narrower one* (`double` to `float`, or `long` to `int`)."
   ]
  },
  {
   "cell_type": "markdown",
   "metadata": {},
   "source": [
    "##### Data Loss During Type Conversion"
   ]
  },
  {
   "cell_type": "code",
   "execution_count": 9,
   "metadata": {
    "dotnet_interactive": {
     "language": "csharp"
    },
    "vscode": {
     "languageId": "dotnet-interactive.csharp"
    }
   },
   "outputs": [],
   "source": [
    "public double dub = 5.2d;"
   ]
  },
  {
   "cell_type": "code",
   "execution_count": 10,
   "metadata": {
    "dotnet_interactive": {
     "language": "csharp"
    },
    "vscode": {
     "languageId": "dotnet-interactive.csharp"
    }
   },
   "outputs": [
    {
     "ename": "Error",
     "evalue": "(3,16): error CS0266: Cannot implicitly convert type 'double' to 'long'. An explicit conversion exists (are you missing a cast?)",
     "output_type": "error",
     "traceback": [
      "(3,16): error CS0266: Cannot implicitly convert type 'double' to 'long'. An explicit conversion exists (are you missing a cast?)"
     ]
    }
   ],
   "source": [
    "// without explicit type conversion\n",
    "\n",
    "long fromDub = dub;"
   ]
  },
  {
   "cell_type": "code",
   "execution_count": 11,
   "metadata": {
    "dotnet_interactive": {
     "language": "csharp"
    },
    "vscode": {
     "languageId": "dotnet-interactive.csharp"
    }
   },
   "outputs": [
    {
     "data": {
      "text/html": [
       "<div class=\"dni-plaintext\">5</div>"
      ]
     },
     "metadata": {},
     "output_type": "display_data"
    }
   ],
   "source": [
    "// with explicit type conversion to long, the fractional part will be lost\n",
    "\n",
    "public long LngFromDub = (long) dub;\n",
    "\n",
    "LngFromDub"
   ]
  },
  {
   "cell_type": "code",
   "execution_count": 12,
   "metadata": {
    "dotnet_interactive": {
     "language": "csharp"
    },
    "vscode": {
     "languageId": "dotnet-interactive.csharp"
    }
   },
   "outputs": [
    {
     "data": {
      "text/html": [
       "<div class=\"dni-plaintext\">5000000000</div>"
      ]
     },
     "metadata": {},
     "output_type": "display_data"
    }
   ],
   "source": [
    "// Assigning a massive value to the double type that wont fit in an int type\n",
    "\n",
    "dub = 5e9d;\n",
    "\n",
    "dub"
   ]
  },
  {
   "cell_type": "code",
   "execution_count": 13,
   "metadata": {
    "dotnet_interactive": {
     "language": "csharp"
    },
    "vscode": {
     "languageId": "dotnet-interactive.csharp"
    }
   },
   "outputs": [
    {
     "name": "stdout",
     "output_type": "stream",
     "text": [
      "The intFromDub value is now -2147483648\n",
      "Recall that the minimum int value is also -2147483648\r\n"
     ]
    }
   ],
   "source": [
    "// Observe that since the value is too large, the minimum int value is returned\n",
    "\n",
    "int intFromDub = (int) dub;\n",
    "\n",
    "Console.WriteLine(\n",
    "    $\"The intFromDub value is now {intFromDub}\\n\" +\n",
    "    $\"Recall that the minimum int value is also {int.MinValue}\"\n",
    ");"
   ]
  },
  {
   "cell_type": "markdown",
   "metadata": {},
   "source": [
    "\n",
    "Note that *it is not always possible to predict what the value of a variable will be after its scope overflows*!   \n",
    "   \n",
    "Therefore, use sufficiently large types and be careful when switching to a \"smaller\" type."
   ]
  },
  {
   "cell_type": "markdown",
   "metadata": {},
   "source": [
    "<br>"
   ]
  },
  {
   "cell_type": "markdown",
   "metadata": {},
   "source": [
    "##### Forcing Overflow Exceptions During Casting"
   ]
  },
  {
   "cell_type": "markdown",
   "metadata": {},
   "source": [
    "Sometimes it is convenient, instead of getting the wrong result, when a type **overflows** during switching from *larger* to *smaller* type, to get **notification** of the problem.   \n",
    "   \n",
    "This is done by the keyword `checked` which includes a *check for overflow in integer types*:"
   ]
  },
  {
   "cell_type": "code",
   "execution_count": 14,
   "metadata": {
    "dotnet_interactive": {
     "language": "csharp"
    },
    "vscode": {
     "languageId": "dotnet-interactive.csharp"
    }
   },
   "outputs": [
    {
     "ename": "Error",
     "evalue": "System.OverflowException: Arithmetic operation resulted in an overflow.\r\n   at Submission#15.<<Initialize>>d__0.MoveNext()\r\n--- End of stack trace from previous location ---\r\n   at Microsoft.CodeAnalysis.Scripting.ScriptExecutionState.RunSubmissionsAsync[TResult](ImmutableArray`1 precedingExecutors, Func`2 currentExecutor, StrongBox`1 exceptionHolderOpt, Func`2 catchExceptionOpt, CancellationToken cancellationToken)",
     "output_type": "error",
     "traceback": [
      "System.OverflowException: Arithmetic operation resulted in an overflow.\r\n",
      "   at Submission#15.<<Initialize>>d__0.MoveNext()\r\n",
      "--- End of stack trace from previous location ---\r\n",
      "   at Microsoft.CodeAnalysis.Scripting.ScriptExecutionState.RunSubmissionsAsync[TResult](ImmutableArray`1 precedingExecutors, Func`2 currentExecutor, StrongBox`1 exceptionHolderOpt, Func`2 catchExceptionOpt, CancellationToken cancellationToken)"
     ]
    }
   ],
   "source": [
    "// Here an exception (i.e.notification of an error) of type OverflowException is raised\n",
    "\n",
    "checked ( (int) dub ) "
   ]
  },
  {
   "cell_type": "markdown",
   "metadata": {},
   "source": [
    "##### Possible Explicit Conversions"
   ]
  },
  {
   "cell_type": "markdown",
   "metadata": {},
   "source": [
    "The **explicit conversions** between numeral types in C# are possible between any couple among the following types:\n",
    "\n",
    "- `sbyte`\n",
    "- `byte`\n",
    "- `short`\n",
    "- `ushort`\n",
    "- `char`\n",
    "- `int`\n",
    "- `uint`\n",
    "- `long`\n",
    "- `ulong`\n",
    "- `float`\n",
    "- `double`\n",
    "- `decimal`"
   ]
  },
  {
   "cell_type": "markdown",
   "metadata": {},
   "source": [
    "Note that in these conversions data *can be lost*, like data about the *number size* or information about its *precision*.   \n",
    "\n",
    "Notice that conversion *to or from `string`* is *not possible through **typecasting***."
   ]
  },
  {
   "cell_type": "markdown",
   "metadata": {},
   "source": [
    "<br>"
   ]
  },
  {
   "cell_type": "markdown",
   "metadata": {},
   "source": [
    "#### **Conversion to String**"
   ]
  },
  {
   "cell_type": "markdown",
   "metadata": {},
   "source": [
    "If it is necessary we can convert *any type of data*, including the value `null`, to `string`.   \n",
    "   \n",
    "The **conversion of strings** is done **automatically** whenever you use the **concatenation operator** (`+`) and one of the arguments is not of type string.    \n",
    "   \n",
    "- In this case the argument is *converted to a `string`*, and the operator *returns a new `string`* representing the **concatenation** of the two strings."
   ]
  },
  {
   "cell_type": "markdown",
   "metadata": {
    "dotnet_interactive": {
     "language": "csharp"
    }
   },
   "source": [
    "Another way to convert different objects to type `string` is to call the method `ToString()` of the variable or the value.   \n",
    "   \n",
    "It is valid for all data types in .NET Framework.   \n",
    "- Even calling `3.ToString()` is fully valid in C# and the result will return the `string` \"3\"."
   ]
  },
  {
   "cell_type": "code",
   "execution_count": 15,
   "metadata": {
    "dotnet_interactive": {
     "language": "csharp"
    },
    "vscode": {
     "languageId": "dotnet-interactive.csharp"
    }
   },
   "outputs": [
    {
     "data": {
      "text/html": [
       "<span><a href=\"https://docs.microsoft.com/dotnet/api/system.string?view=net-5.0\">System.String</a></span>"
      ]
     },
     "metadata": {},
     "output_type": "display_data"
    }
   ],
   "source": [
    "3.ToString().GetType()"
   ]
  },
  {
   "cell_type": "markdown",
   "metadata": {},
   "source": [
    "Note that the `+` for concatenating strings *can cause unpleasant effects on the addition of numbers*, because it **has equal priority with the operator `+` for mathematical addition**.   \n",
    "  \n",
    "Unless the priorities of the operations are changed by placing *brackets`()`*, they will *always be executed from left to right*."
   ]
  },
  {
   "cell_type": "code",
   "execution_count": 16,
   "metadata": {
    "dotnet_interactive": {
     "language": "csharp"
    },
    "vscode": {
     "languageId": "dotnet-interactive.csharp"
    }
   },
   "outputs": [
    {
     "name": "stdout",
     "output_type": "stream",
     "text": [
      "Sum = 36\n",
      "Sum = 1224\r\n"
     ]
    }
   ],
   "source": [
    "int a = 12, b = 24;\n",
    "\n",
    "string correctSumConvertedToString = \"Sum = \" + (a + b);\n",
    "string incorrectSumConvertedToString = \"Sum = \" + a + b;\n",
    "\n",
    "Console.WriteLine(\n",
    "    correctSumConvertedToString +    // actually sums a and b \n",
    "    '\\n' + \n",
    "    incorrectSumConvertedToString    // only concatenates a with b\n",
    ");\n"
   ]
  }
 ],
 "metadata": {
  "kernelspec": {
   "display_name": ".NET (C#)",
   "language": "C#",
   "name": ".net-csharp"
  },
  "language_info": {
   "file_extension": ".cs",
   "mimetype": "text/x-csharp",
   "name": "C#",
   "pygments_lexer": "csharp",
   "version": "9.0"
  },
  "orig_nbformat": 4
 },
 "nbformat": 4,
 "nbformat_minor": 2
}
