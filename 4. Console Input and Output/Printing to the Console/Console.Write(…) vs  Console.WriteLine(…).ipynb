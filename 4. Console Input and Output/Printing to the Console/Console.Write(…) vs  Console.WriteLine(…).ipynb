{
 "cells": [
  {
   "cell_type": "markdown",
   "metadata": {},
   "source": [
    "# 4. Console Input and Output   \n",
    "## Printing to the Console: "
   ]
  },
  {
   "cell_type": "markdown",
   "metadata": {},
   "source": [
    "### **`Console.Write(…)` v.s. `Console.WriteLine(…)`**\n",
    "---"
   ]
  },
  {
   "cell_type": "markdown",
   "metadata": {},
   "source": [
    "Suppose we have **two strings** , both invoked using *different methods*:"
   ]
  },
  {
   "cell_type": "code",
   "execution_count": null,
   "metadata": {
    "dotnet_interactive": {
     "language": "csharp"
    }
   },
   "outputs": [],
   "source": [
    "public string withWrite     = \"a string printed using Console.Write()\",\n",
    "              withWriteLine = \"a string printed using Console.WriteLine()\";"
   ]
  },
  {
   "cell_type": "markdown",
   "metadata": {},
   "source": [
    "<br>"
   ]
  },
  {
   "cell_type": "markdown",
   "metadata": {},
   "source": [
    "The *difference between `Write(…)` and `WriteLine(…)`* is that the *`Write(…)`* method prints to the console *only* what it is provided between the parentheses, and *nothing else*: "
   ]
  },
  {
   "cell_type": "code",
   "execution_count": null,
   "metadata": {
    "dotnet_interactive": {
     "language": "csharp"
    }
   },
   "outputs": [
    {
     "name": "stdout",
     "output_type": "stream",
     "text": [
      "a string printed using Console.Write()Something else"
     ]
    }
   ],
   "source": [
    "Console.Write( withWrite );\n",
    "Console.Write( \"Something else\" );"
   ]
  },
  {
   "cell_type": "markdown",
   "metadata": {},
   "source": [
    "<br>"
   ]
  },
  {
   "cell_type": "markdown",
   "metadata": {},
   "source": [
    "The  *`WriteLine(…)`* method quietly inserts a *“command”* for *moving the cursor to the position where the new line starts*.\n",
    "- this *command* consists of the character `\\r` followed by `\\n`"
   ]
  },
  {
   "cell_type": "code",
   "execution_count": null,
   "metadata": {
    "dotnet_interactive": {
     "language": "csharp"
    }
   },
   "outputs": [
    {
     "name": "stdout",
     "output_type": "stream",
     "text": [
      "a string printed using Console.WriteLine()\r\n",
      "Something Else\r\n"
     ]
    }
   ],
   "source": [
    "Console.WriteLine( withWriteLine );\n",
    "Console.WriteLine( \"Something Else\" );"
   ]
  },
  {
   "cell_type": "markdown",
   "metadata": {},
   "source": [
    "---"
   ]
  }
 ],
 "metadata": {
  "kernelspec": {
   "display_name": ".NET (C#)",
   "language": "C#",
   "name": ".net-csharp"
  },
  "language_info": {
   "file_extension": ".cs",
   "mimetype": "text/x-csharp",
   "name": "C#",
   "pygments_lexer": "csharp",
   "version": "9.0"
  },
  "orig_nbformat": 4
 },
 "nbformat": 4,
 "nbformat_minor": 2
}
