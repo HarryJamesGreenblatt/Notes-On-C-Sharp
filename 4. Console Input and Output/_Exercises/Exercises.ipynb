{
 "cells": [
  {
   "cell_type": "markdown",
   "metadata": {},
   "source": [
    "# 4. Console Input and Output"
   ]
  },
  {
   "cell_type": "markdown",
   "metadata": {},
   "source": [
    "## Exercises\n",
    "---\n",
    "---"
   ]
  },
  {
   "cell_type": "markdown",
   "metadata": {},
   "source": [
    "#### $1$. Write a program that *reads from the console* **three numbers** of type `int` and prints their **sum**."
   ]
  },
  {
   "cell_type": "markdown",
   "metadata": {},
   "source": [
    "> <center>\n",
    "> \n",
    "> *See* $\\,\\,$ [userInput.cs](./userInputRequired/userInput.cs) $\\,\\,$ *and it's subclass*, $\\,\\,$ [Exercise1.cs](./userInputRequired/Exercise1.cs),$\\,\\,$   \n",
    "> *for full solution*\n",
    "> </center>"
   ]
  },
  {
   "cell_type": "markdown",
   "metadata": {},
   "source": [
    "---"
   ]
  },
  {
   "cell_type": "markdown",
   "metadata": {},
   "source": [
    "####  $2$. Write a program that *reads from the console* the *radius* `r` *of a circle* and prints its **circumference** and **area**."
   ]
  },
  {
   "cell_type": "markdown",
   "metadata": {},
   "source": [
    "$$Observe,$$"
   ]
  },
  {
   "cell_type": "markdown",
   "metadata": {},
   "source": [
    "<style>\n",
    "    th{\n",
    "        border: none !important;\n",
    "    }\n",
    "</style>\n",
    "$from:\\,\\,\\,\\,\\,\\,\\,$ [Math.net | Area of a circle](https://www.math.net/area-of-a-circle) \n",
    "The *area of a [circle](https://www.math.net/circle)* is the *[plane](https://www.math.net/plane) region* bounded by the *circle's [circumference](https://www.math.net/circumference)*. \n",
    "   \n",
    "The **grey space** is the **area of the circle**:    \n",
    "\n",
    "<center>\n",
    "\n",
    "![youfukkeduup](https://www.math.net/img/a/geometry/circles/area-of-a-circle/area-of-a-circle.png)\n",
    "\n",
    "</center>\n",
    "   \n",
    "$\\textit{Consequently}$,    \n",
    "The *area*, *A*, of a circle is:\n",
    "\n",
    "\\begin{equation}\n",
    "A = \\pi{r}^2\n",
    "\\end{equation}\n",
    "\n",
    "$\\footnotesize{\\text{where } A\\text{ is area },r\\text{ is radius, and } \\pi \\text{ is approximately equal to }3.14159}$"
   ]
  },
  {
   "cell_type": "markdown",
   "metadata": {},
   "source": [
    "$$Moreover,$$  "
   ]
  },
  {
   "cell_type": "markdown",
   "metadata": {},
   "source": [
    "$from:\\,\\,\\,\\,\\,\\,\\,$ [Math.net | Circumference](https://www.math.net/circumference)   \n",
    "    \n",
    "The **circumference** is the **distance around the circle**.\n",
    "<center>\n",
    "\n",
    "|![youfukkeduup](https://www.math.net/img/a/geometry/circles/circumference/circumference.png)|![youfukkeduup](https://www.math.net/img/a/geometry/circles/circumference/circumference-formula.png)|\n",
    "|----|----|\n",
    "\n",
    "\n",
    "</center>  \n",
    "\n",
    "$\\textit{Subsequently,}$      \n",
    "The *circumference*, *C*, of a circle is:\n",
    "\n",
    "\\begin{equation}\n",
    "C = 2\\pi{r} \\tag{2}\n",
    "\\end{equation}\n",
    "\\begin{equation}\n",
    " \\,\\,\\,\\,\\,\\, = \\pi{d} \\tag{3}\n",
    "\\end{equation}\n",
    "\n",
    "$\\footnotesize{\\text{where }r\\text{ is the radius of the circle and }d\\text{ is the diameter}}$"
   ]
  },
  {
   "cell_type": "markdown",
   "metadata": {},
   "source": [
    "> <center>\n",
    "> \n",
    "> *See* $\\,\\,$ [userInput.cs](./userInputRequired/userInput.cs) $\\,\\,$ *and it's subclass*, $\\,\\,$ [Exercise2.cs](./userInputRequired/Exercise2.cs),$\\,\\,$   \n",
    "> *for full solution*.\n",
    "> </center>"
   ]
  },
  {
   "cell_type": "markdown",
   "metadata": {},
   "source": [
    "---"
   ]
  },
  {
   "cell_type": "markdown",
   "metadata": {},
   "source": [
    "#### $3$. A given **company** has a:\n",
    "\n",
    "<style>\n",
    "  table{margin-top: -20px; margin-left: 25px;}\n",
    "  td{font-weight:bold;}\n",
    "  #mgr{font-style:italic;}\n",
    "</style>\n",
    "\n",
    "<table>\n",
    "  <tbody>\n",
    "    <tr>\n",
    "      <td>\n",
    "        name\n",
    "      </td>\n",
    "    </tr> \n",
    "    <tr>\n",
    "      <td>\n",
    "        address\n",
    "      </td>\n",
    "    </tr> \n",
    "    <tr>\n",
    "      <td>\n",
    "        phone number\n",
    "      </td>\n",
    "    </tr> \n",
    "    <tr>\n",
    "      <td>\n",
    "        fax number\n",
    "      </td>\n",
    "    </tr> \n",
    "    <tr>\n",
    "      <td>\n",
    "        web site\n",
    "      </td>\n",
    "    </tr>\n",
    "    <tr id=\"mgr\">\n",
    "      <td>\n",
    "        manager\n",
    "      </td>\n",
    "    </tr> \n",
    "  </tbody>\n",
    "</table>\n",
    "\n",
    "<br>\n",
    "\n",
    "#### The ***manager*** has a: \n",
    "\n",
    "<table>\n",
    "  <tbody>\n",
    "    <tr id=\"mgr\">\n",
    "      <td>\n",
    "        name\n",
    "      </td>\n",
    "    </tr> \n",
    "    <tr id=\"mgr\">\n",
    "      <td>\n",
    "        surname\n",
    "      </td>\n",
    "    </tr> \n",
    "    <tr>\n",
    "      <td id=\"mgr\">\n",
    "        phone number\n",
    "      </td>\n",
    "    </tr> \n",
    "  </tbody>\n",
    "</table>\n",
    " \n",
    "<br>\n",
    "\n",
    "#### Write a program that *reads information* about the **company** and its ***manager*** and then prints it on the console."
   ]
  },
  {
   "cell_type": "markdown",
   "metadata": {},
   "source": [
    "> <center>\n",
    "> \n",
    "> *See* $\\,\\,$ [userInput.cs](./userInputRequired/userInput.cs) $\\,\\,$ *and it's subclass*, $\\,\\,$ [Exercise3.cs](./userInputRequired/Exercise3.cs),$\\,\\,$   \n",
    "> *for full solution*\n",
    "> </center>"
   ]
  },
  {
   "cell_type": "markdown",
   "metadata": {},
   "source": [
    "---"
   ]
  },
  {
   "cell_type": "markdown",
   "metadata": {},
   "source": [
    "#### $4$. Write a program that **prints three numbers in three virtual columns** on the console.  \n",
    "   \n",
    "#### Each **column** should have a *width* of *10 characters* and the numbers should be *left aligned*.   \n",
    "   \n",
    "- The first number should be an *integer* in **hexadecimal**; \n",
    "- the second should be **fractional positive**; \n",
    "- and the third – a **negative fraction**. \n",
    "\n",
    "#### The last two numbers have to be *rounded to the second decimal place*."
   ]
  },
  {
   "cell_type": "markdown",
   "metadata": {},
   "source": [
    "$$Observe,$$"
   ]
  },
  {
   "cell_type": "markdown",
   "metadata": {},
   "source": [
    "$\\textit{Recall from:\\qquad}$ [Printing to the Console | Formatted Output](../Printing%20to%20the%20Console/Formatted%20Output.ipynb)\n",
    "\n",
    "The ***composite formatting string*** is a *mixture of **normal text** and **formatting items:***\n",
    "<center>\n",
    "\n",
    "```c#\n",
    "Console.Write( \"A mixture of normal text and {0}\", formatting_item );\n",
    "```    \n",
    "</center>\n",
    "   \n",
    "In *formatting*, **formatting items** **`{arg #}`**, are **replaced** by the values of the *respective arguments* and are printed according to certain *rules*.    \n",
    "   \n",
    "These *rules* are specified using the *general syntax of **formatting items***:\n",
    "\n",
    "$$\\left\\{\\,\\,index\\,\\left[,alignment\\right]\\,\\left[:formatString\\right]\\,\\,\\right\\}$$"
   ]
  },
  {
   "cell_type": "markdown",
   "metadata": {},
   "source": [
    "The *alignment component* is optional and indicates the string alignment.   \n",
    "   \n",
    "It is a **positive** or **negative** *integer* and the **positive values** indicate ***alignment to the right*** and the **negative** – ***alignment to the left***. "
   ]
  },
  {
   "cell_type": "markdown",
   "metadata": {},
   "source": [
    "The following table describes numerical **format specifiers** and their *precision meaning*:\n",
    "   \n",
    "|Specifier|Description|\n",
    "|----|----|\n",
    "|\"`F`\" or \"`f`\"|**Integer or decimal number**. The *precision* indicates the *number of signs after the decimal point*.|\n",
    "|\"`N`\" or \"`n`\"|**Equivalent to \"`F`\"** but represents also the **corresponding separator** for *thousands*, *millions*, etc. (for example, in the *English* language often the number \"*1000*\" is represented as \"*1,000*\" – with comma between the number 1 and the zeroes).|\n",
    "|\"`X`\" or \"`x`\"|Displays the number in **hexadecimal** numeral system. It works *only for integer numbers*. The *precision* indicates *minimum numbers of signs to display the string* as the missing ones are *supplemented with zeroes at the beginning*.|"
   ]
  },
  {
   "cell_type": "markdown",
   "metadata": {},
   "source": [
    "$${\\textit{As Such},}$$"
   ]
  },
  {
   "cell_type": "markdown",
   "metadata": {},
   "source": [
    "Any **three numbers** may be ***formatted*** and ***printed in columns*** as folllows:"
   ]
  },
  {
   "cell_type": "code",
   "execution_count": 1,
   "metadata": {
    "dotnet_interactive": {
     "language": "csharp"
    },
    "vscode": {
     "languageId": "dotnet-interactive.csharp"
    }
   },
   "outputs": [
    {
     "name": "stdout",
     "output_type": "stream",
     "text": [
      "881       24.29     -0.94     \r\n"
     ]
    }
   ],
   "source": [
    "// Generate random values to represent the \n",
    "// integer, fractional positive, and negative fraction\n",
    "\n",
    "private Random random = new Random();\n",
    "\n",
    "\n",
    "public int  integer   =  random.Next(0 , 10000);\n",
    "\n",
    "\n",
    "public float fractional_positive =  \n",
    "    (float) random.Next(0, 10000) / (float) random.Next(0, 10000);\n",
    "\n",
    "\n",
    "public float negative_fraction   =  \n",
    "    (float) random.Next(-10000, 0) / (float) random.Next(0, 10000);\n",
    "\n",
    "\n",
    "\n",
    "// Print the numbers in three columns, formatted as required.\n",
    "\n",
    "Console.WriteLine(\n",
    "    \"{0,-10:X}{1,-10:F2}{2,-10:F2}\",\n",
    "    integer,\n",
    "    fractional_positive,\n",
    "    negative_fraction\n",
    ");"
   ]
  },
  {
   "cell_type": "markdown",
   "metadata": {},
   "source": [
    "---"
   ]
  },
  {
   "cell_type": "markdown",
   "metadata": {},
   "source": [
    "#### $5$. Write a program that *reads from the console* **two integer numbers** (`int`), and prints how many numbers *between them* exist, such that **the remainder of their division by 5 is 0**.<br><br>Example:<br>in the **range (`14`, `25`)**, there are *3 such numbers*: *`15`*, *`20`* and *`25`*."
   ]
  },
  {
   "cell_type": "markdown",
   "metadata": {},
   "source": [
    "$$Observe,$$"
   ]
  },
  {
   "cell_type": "markdown",
   "metadata": {},
   "source": [
    "$from:\\qquad$   [Microsoft Docs | Enumerable.Range(Int32, Int32) Method](https://docs.microsoft.com/en-us/dotnet/api/system.linq.enumerable.range?view=net-6.0)   \n",
    "    \n",
    "##### Definition\n",
    "`Enumerable.Range(Int32, Int32)`\n",
    "<br>\n",
    "*Generates a sequence of integral numbers within a specified range.*\n",
    "<br><br>   \n",
    "Namespace:$\\;\\;$[System.Linq](https://docs.microsoft.com/en-us/dotnet/api/system.linq?view=net-6.0)<br>\n",
    "Assembly:$\\;\\;$ System.Linq.dll \n",
    "\n",
    "##### Parameters \n",
    "`start` $\\;$ $\\footnotesize\\text{Int32}$\n",
    "<br>\n",
    "The value of the first integer in the sequence.\n",
    "<br><br>   \n",
    "`count` $\\;$ $\\footnotesize\\text{Int32}$\n",
    "<br>\n",
    "The number of sequential integers to generate.   \n",
    "\n",
    "##### Returns \n",
    "[IEnumerable\\<Int32>](https://docs.microsoft.com/en-us/dotnet/api/system.collections.generic.ienumerable-1?view=net-6.0) $\\;$\n",
    "<br>\n",
    "An `IEnumerable<Int32>` that contains a range of sequential integral numbers."
   ]
  },
  {
   "cell_type": "markdown",
   "metadata": {},
   "source": [
    "$$Additionally,$$"
   ]
  },
  {
   "cell_type": "markdown",
   "metadata": {},
   "source": [
    "$from:\\qquad$   [Microsoft Docs | Enumerable.Where Method](https://docs.microsoft.com/en-us/dotnet/api/system.linq.enumerable.where?view=net-6.0)   \n",
    "<style>h6{font-size: 17.5px; margin-bottom:-4px}</style>    \n",
    "\n",
    "##### Definition\n",
    "`Where<TSource>(IEnumerable<TSource>, Func<TSource,Boolean>)`\n",
    "<br>\n",
    "*Filters a sequence of values based on a predicate*.\n",
    "<br><br>\n",
    "`Where<TSource>(IEnumerable<TSource>, Func<TSource,Int32,Boolean>)`\n",
    "<br>\n",
    "*Filters a sequence of values based on a predicate. Each element's index is used in the logic of the predicate function.*\n",
    "<br><br>   \n",
    "Namespace:$\\;\\;$[System.Linq](https://docs.microsoft.com/en-us/dotnet/api/system.linq?view=net-6.0)<br>\n",
    "Assembly:$\\;\\;$ System.Linq.dll \n",
    "\n",
    "##### Type Parameters \n",
    "`TSource`\n",
    "<br>\n",
    "The type of the elements of `source`.\n",
    "\n",
    "##### Parameters \n",
    "`source` $\\;$ $\\footnotesize\\text{IEnumerable<TSource>}$\n",
    "<br>\n",
    "An IEnumerable<T> to filter.\n",
    "<br><br>   \n",
    "`predicate` $\\;$ $\\footnotesize\\text{Func<TSource,Boolean>}$\n",
    "<br>\n",
    "A function to test each element for a condition.\n",
    "\n",
    "##### Returns \n",
    "[IEnumerable\\<TSource>](https://docs.microsoft.com/en-us/dotnet/api/system.collections.generic.ienumerable-1?view=net-6.0) $\\;$\n",
    "<br>\n",
    "An `IEnumerable<T>` that contains elements from the input sequence that satisfy the condition."
   ]
  },
  {
   "cell_type": "markdown",
   "metadata": {},
   "source": [
    "$$Consequently,$$"
   ]
  },
  {
   "cell_type": "markdown",
   "metadata": {},
   "source": [
    "We may reproduce the results of the given example as follows:"
   ]
  },
  {
   "cell_type": "code",
   "execution_count": 2,
   "metadata": {
    "dotnet_interactive": {
     "language": "csharp"
    },
    "vscode": {
     "languageId": "dotnet-interactive.csharp"
    }
   },
   "outputs": [
    {
     "data": {
      "text/html": [
       "<table><thead><tr><th><i>index</i></th><th>value</th></tr></thead><tbody><tr><td>0</td><td><div class=\"dni-plaintext\">15</div></td></tr><tr><td>1</td><td><div class=\"dni-plaintext\">20</div></td></tr><tr><td>2</td><td><div class=\"dni-plaintext\">25</div></td></tr></tbody></table>"
      ]
     },
     "metadata": {},
     "output_type": "display_data"
    }
   ],
   "source": [
    "int starting_point = 14;\n",
    "\n",
    "\n",
    "\n",
    "// The number of consecutive range values which will extend from the starting point.\n",
    "// The difference between the max and min, plus 1 to adjust for 0 indexing\n",
    "\n",
    "int number_of_elements = (25 - 14) + 1;\n",
    "\n",
    "\n",
    "\n",
    "// usinng the Enumerable object's built-in Range() and Where() methods\n",
    "// to capture which values in the given range are divisible by 5 \n",
    "\n",
    "Enumerable.Range(\n",
    "\n",
    "    starting_point, \n",
    "    number_of_elements\n",
    "\n",
    ").Where( x => (x % 5 == 0) )"
   ]
  },
  {
   "cell_type": "markdown",
   "metadata": {},
   "source": [
    "> <center>\n",
    "> \n",
    "> *See* $\\,\\,$ [userInput.cs](./userInputRequired/userInput.cs) $\\,\\,$ *and it's subclass*, $\\,\\,$ [Exercise5.cs](./userInputRequired/Exercise5.cs),$\\,\\,$   \n",
    "> *for full solution*\n",
    "> </center>"
   ]
  },
  {
   "cell_type": "markdown",
   "metadata": {},
   "source": [
    "---"
   ]
  },
  {
   "cell_type": "markdown",
   "metadata": {},
   "source": [
    "#### $6$. Write a program that *reads two numbers from the console* and **prints the greater of them**.<br><br>Solve the problem *without using conditional statements*."
   ]
  },
  {
   "cell_type": "markdown",
   "metadata": {},
   "source": [
    "$$Observe,$$"
   ]
  },
  {
   "cell_type": "markdown",
   "metadata": {},
   "source": [
    "$from:\\qquad$   [Microsoft Docs | Enumerable.Max Method](https://docs.microsoft.com/en-us/dotnet/api/system.linq.enumerable.range?view=net-6.0)   \n",
    "    \n",
    "##### Definition\n",
    "`Max(IEnumerable<Int32>)`\n",
    "<br>\n",
    "*Returns the maximum value in a sequence of values.*\n",
    "<br><br>   \n",
    "Namespace:$\\;\\;$[System.Linq](https://docs.microsoft.com/en-us/dotnet/api/system.linq?view=net-6.0)<br>\n",
    "Assembly:$\\;\\;$ System.Linq.dll \n",
    "\n",
    "##### Parameters \n",
    "`source` $\\;$ $\\footnotesize\\text{IEnumerable<Int32>}$\n",
    "<br>\n",
    "A sequence of `Int32` values to determine the maximum value of.\n",
    "\n",
    "##### Returns \n",
    "[Int32](https://docs.microsoft.com/en-us/dotnet/api/system.collections.generic.ienumerable-1?view=net-6.0) $\\;$\n",
    "<br>\n",
    "The maximum value in the sequence."
   ]
  },
  {
   "cell_type": "markdown",
   "metadata": {},
   "source": [
    "$$Consequently,$$"
   ]
  },
  {
   "cell_type": "markdown",
   "metadata": {},
   "source": [
    "> We may also implement this method on an $\\;$*array of `Int32` values*$\\;$ in either of the following ways:"
   ]
  },
  {
   "cell_type": "code",
   "execution_count": 3,
   "metadata": {
    "dotnet_interactive": {
     "language": "csharp"
    },
    "vscode": {
     "languageId": "dotnet-interactive.csharp"
    }
   },
   "outputs": [],
   "source": [
    "public int[] sequence_of_integers = {1,2,3,4,5,6,7};"
   ]
  },
  {
   "cell_type": "code",
   "execution_count": 4,
   "metadata": {
    "dotnet_interactive": {
     "language": "csharp"
    },
    "vscode": {
     "languageId": "dotnet-interactive.csharp"
    }
   },
   "outputs": [
    {
     "data": {
      "text/html": [
       "<div class=\"dni-plaintext\">7</div>"
      ]
     },
     "metadata": {},
     "output_type": "display_data"
    }
   ],
   "source": [
    "Enumerable.Max( sequence_of_integers )"
   ]
  },
  {
   "cell_type": "code",
   "execution_count": 5,
   "metadata": {
    "dotnet_interactive": {
     "language": "csharp"
    },
    "vscode": {
     "languageId": "dotnet-interactive.csharp"
    }
   },
   "outputs": [
    {
     "data": {
      "text/html": [
       "<div class=\"dni-plaintext\">7</div>"
      ]
     },
     "metadata": {},
     "output_type": "display_data"
    }
   ],
   "source": [
    "sequence_of_integers.Max()"
   ]
  },
  {
   "cell_type": "markdown",
   "metadata": {},
   "source": [
    "> <center>\n",
    "> \n",
    "> *See* $\\,\\,$ [userInput.cs](./userInputRequired/userInput.cs) $\\,\\,$ *and it's subclass*, $\\,\\,$ [Exercise6.cs](./userInputRequired/Exercise6.cs),$\\,\\,$   \n",
    "> *for full solution.*\n",
    "> </center>"
   ]
  },
  {
   "cell_type": "markdown",
   "metadata": {},
   "source": [
    "---"
   ]
  },
  {
   "cell_type": "markdown",
   "metadata": {},
   "source": [
    "#### 7. Write a program that *reads five integer numbers* and prints their **sum**. <br>If an **invalid number is entered** the program **should prompt the user to enter another number.**"
   ]
  },
  {
   "cell_type": "markdown",
   "metadata": {},
   "source": [
    "> <center>\n",
    "> \n",
    "> *See* $\\,\\,$ [userInput.cs](./userInputRequired/userInput.cs) $\\,\\,$ *for full solution.*\n",
    "> </center>"
   ]
  },
  {
   "cell_type": "markdown",
   "metadata": {},
   "source": [
    "---"
   ]
  },
  {
   "cell_type": "markdown",
   "metadata": {},
   "source": [
    "#### 8. Write a program that *reads five numbers from the console* and **prints the greatest of them**."
   ]
  },
  {
   "cell_type": "markdown",
   "metadata": {},
   "source": [
    "> <center>\n",
    "> \n",
    "> *See* $\\,\\,$ [userInput.cs](./userInputRequired/userInput.cs) $\\,\\,$ *for full solution.*\n",
    "> </center>"
   ]
  },
  {
   "cell_type": "markdown",
   "metadata": {},
   "source": [
    "---"
   ]
  },
  {
   "cell_type": "markdown",
   "metadata": {},
   "source": [
    "#### 9. Write a program that *reads an integer number `n` from the console*. <br>After that *reads `n` numbers from the console* and prints their **sum**."
   ]
  },
  {
   "cell_type": "markdown",
   "metadata": {},
   "source": [
    "> <center>\n",
    "> \n",
    "> *See* $\\,\\,$ [userInput.cs](./userInputRequired/userInput.cs) $\\,\\,$ *for full solution.*\n",
    "> </center>"
   ]
  },
  {
   "cell_type": "markdown",
   "metadata": {},
   "source": [
    "---"
   ]
  },
  {
   "cell_type": "markdown",
   "metadata": {},
   "source": [
    "#### 10. Write a program that *reads an integer number `n` from the console* and **prints all numbers in the range `[1…n]`**, each on a separate line."
   ]
  },
  {
   "cell_type": "markdown",
   "metadata": {},
   "source": [
    "> <center>\n",
    "> \n",
    "> *See* $\\,\\,$ [userInput.cs](./userInputRequired/userInput.cs) $\\,\\,$ *and it's subclass*, $\\,\\,$ [Exercise10.cs](./userInputRequired/Exercise10.cs),$\\,\\,$   \n",
    "> *for full solution.*\n",
    "> </center>"
   ]
  },
  {
   "cell_type": "markdown",
   "metadata": {},
   "source": [
    "---"
   ]
  },
  {
   "cell_type": "markdown",
   "metadata": {},
   "source": [
    "#### 11. Write a program that prints on the console the **first 100 numbers in the Fibonacci sequence**: `0`, `1`, `1`, `2`, `3`, `5`, `8`, `13`, `21`, `34`, `55`, `89`, `144`, `233`, …"
   ]
  },
  {
   "cell_type": "markdown",
   "metadata": {},
   "source": [
    "$$Observe,$$"
   ]
  },
  {
   "cell_type": "markdown",
   "metadata": {},
   "source": [
    "$from:\\qquad$ [Wikipedia | Fibonacci number](https://en.wikipedia.org/wiki/Fibonacci_number#Definition)\n",
    "\n",
    "In mathematics, the ***Fibonacci numbers***, commonly denoted $\\:$ **`Fn`**,<br>form a *sequence* in which *each number* is the *sum of the two preceding ones*.  \n",
    "\n",
    "$Consequently,$   \n",
    "Each *Fibonacci number* is defined by the folowing **recurrence relation**:   \n",
    "\\begin{equation*} \n",
    "    F_n = \\left\\{\n",
    "        \\begin{array}{lc} \n",
    "            0 & \\textit{if \\; n = 0;} \\\\ \n",
    "            1 & \\textit{if \\; n = 1;} \\\\ \n",
    "            F_{n-1} + F_{n-2} & \\textit{if \\; n > 1.} \n",
    "        \\end{array} \\right.\n",
    "\\end{equation*}"
   ]
  },
  {
   "cell_type": "markdown",
   "metadata": {},
   "source": [
    "$$Additionally,$$"
   ]
  },
  {
   "cell_type": "markdown",
   "metadata": {},
   "source": [
    "> $from:\\qquad$ [WolframAlpha | \"Fibonacci(100)\"](https://www.wolframalpha.com/input?i=Fibonacci%28100%29)   \n",
    "\n",
    "<center>\n",
    "\n",
    "> ![ufukkedup](../_img/wolfram_exercise11.jpg)\n",
    "\n",
    "</center>\n",
    "\n",
    "> $Resultantly$,   \n",
    "> The *maximum size constraints* of many of C#'s primitive data types are **overmatched by the larger Fibonacci values**:   "
   ]
  },
  {
   "cell_type": "code",
   "execution_count": 6,
   "metadata": {
    "dotnet_interactive": {
     "language": "csharp"
    },
    "vscode": {
     "languageId": "dotnet-interactive.csharp"
    }
   },
   "outputs": [
    {
     "data": {
      "text/html": [
       "<div class=\"dni-plaintext\">21</div>"
      ]
     },
     "metadata": {},
     "output_type": "display_data"
    }
   ],
   "source": [
    "// how many digits are in F_100?\n",
    "\n",
    "\"354224848179261915075\".Length"
   ]
  },
  {
   "cell_type": "code",
   "execution_count": 7,
   "metadata": {
    "dotnet_interactive": {
     "language": "csharp"
    },
    "vscode": {
     "languageId": "dotnet-interactive.csharp"
    }
   },
   "outputs": [
    {
     "data": {
      "text/html": [
       "<div class=\"dni-plaintext\">20</div>"
      ]
     },
     "metadata": {},
     "output_type": "display_data"
    }
   ],
   "source": [
    "// how many digits are in a 64 bit unsigned integer's max value?\n",
    "\n",
    "UInt64.MaxValue.ToString().Length"
   ]
  },
  {
   "cell_type": "markdown",
   "metadata": {},
   "source": [
    "$$Subsequently,$$   \n"
   ]
  },
  {
   "cell_type": "markdown",
   "metadata": {},
   "source": [
    "$from:\\qquad$   [Microsoft Docs | BigInteger Struct](https://docs.microsoft.com/en-us/dotnet/api/system.numerics.biginteger?view=net-6.0)   \n",
    "    \n",
    "##### Definition\n",
    "`BigInteger(Int32)`\n",
    "<br>\n",
    "*Represents an arbitrarily large signed integer.<br>Initializes a new instance of the BigInteger structure using a 32-bit signed integer value.*\n",
    "<br><br>   \n",
    "Namespace:$\\;\\;$[System.Numerics](https://docs.microsoft.com/en-us/dotnet/api/system.numerics?view=net-6.0)<br>\n",
    "Assembly:$\\;\\;$     System.Runtime.Numerics.dll"
   ]
  },
  {
   "cell_type": "markdown",
   "metadata": {},
   "source": [
    "$$\\textit{As Such,}$$"
   ]
  },
  {
   "cell_type": "markdown",
   "metadata": {},
   "source": [
    "We may *iteratively* implement an algorithm **satisfying the fibonacci recurrence relationship**, while also **avoiding integer overflow concerns** associated with higher valued inputs, as follows:"
   ]
  },
  {
   "cell_type": "code",
   "execution_count": 8,
   "metadata": {
    "dotnet_interactive": {
     "language": "csharp"
    },
    "vscode": {
     "languageId": "dotnet-interactive.csharp"
    }
   },
   "outputs": [],
   "source": [
    "using System.Numerics;\n",
    "\n",
    "\n",
    "internal string fibonacci( int quantity )\n",
    "{\n",
    "\n",
    "    if( quantity == 0 ) \n",
    "    {\n",
    "        return \"0\";\n",
    "    } \n",
    "    \n",
    "\n",
    "    BigInteger[] f = new BigInteger[ quantity + 1 ];\n",
    "\n",
    "\n",
    "    f[0] = 1;\n",
    "    f[1] = 1;\n",
    "\n",
    "    for( int n = 2; n <= quantity; n++ )\n",
    "    {\n",
    "        f[n] = f[n-1] + f[n-2];\n",
    "    }   \n",
    "\n",
    "\n",
    "    return string.Join( \", \",  f );\n",
    "\n",
    "}"
   ]
  },
  {
   "cell_type": "code",
   "execution_count": 9,
   "metadata": {
    "dotnet_interactive": {
     "language": "csharp"
    },
    "vscode": {
     "languageId": "dotnet-interactive.csharp"
    }
   },
   "outputs": [
    {
     "data": {
      "text/plain": [
       "1, 1, 2, 3, 5, 8, 13, 21, 34, 55, 89, 144, 233, 377, 610, 987, 1597, 2584, 4181, 6765, 10946, 17711, 28657, 46368, 75025, 121393, 196418, 317811, 514229, 832040, 1346269, 2178309, 3524578, 5702887, 9227465, 14930352, 24157817, 39088169, 63245986, 102334155, 165580141, 267914296, 433494437, 701408733, 1134903170, 1836311903, 2971215073, 4807526976, 7778742049, 12586269025, 20365011074, 32951280099, 53316291173, 86267571272, 139583862445, 225851433717, 365435296162, 591286729879, 956722026041, 1548008755920, 2504730781961, 4052739537881, 6557470319842, 10610209857723, 17167680177565, 27777890035288, 44945570212853, 72723460248141, 117669030460994, 190392490709135, 308061521170129, 498454011879264, 806515533049393, 1304969544928657, 2111485077978050, 3416454622906707, 5527939700884757, 8944394323791464, 14472334024676221, 23416728348467685, 37889062373143906, 61305790721611591, 99194853094755497, 160500643816367088, 259695496911122585, 420196140727489673, 679891637638612258, 1100087778366101931, 1779979416004714189, 2880067194370816120, 4660046610375530309, 7540113804746346429, 12200160415121876738, 19740274219868223167, 31940434634990099905, 51680708854858323072, 83621143489848422977, 135301852344706746049, 218922995834555169026, 354224848179261915075, 573147844013817084101"
      ]
     },
     "metadata": {},
     "output_type": "display_data"
    }
   ],
   "source": [
    "fibonacci(100)"
   ]
  },
  {
   "cell_type": "markdown",
   "metadata": {},
   "source": [
    "---\n",
    "---"
   ]
  }
 ],
 "metadata": {
  "kernelspec": {
   "display_name": ".NET (C#)",
   "language": "C#",
   "name": ".net-csharp"
  },
  "language_info": {
   "file_extension": ".cs",
   "mimetype": "text/x-csharp",
   "name": "C#",
   "pygments_lexer": "csharp",
   "version": "9.0"
  },
  "orig_nbformat": 4
 },
 "nbformat": 4,
 "nbformat_minor": 2
}
