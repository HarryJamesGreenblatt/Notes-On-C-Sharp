{
 "cells": [
  {
   "cell_type": "markdown",
   "metadata": {},
   "source": [
    "# 2. Primative Types and Variables"
   ]
  },
  {
   "cell_type": "markdown",
   "metadata": {},
   "source": [
    "## Variables\n",
    "#### In programming, a **variable** is a **place in memory where you can store information**.  \n",
    "##### *(It’s like a little *box* or *bucket* to put stuff in)*.  \n",
    "---"
   ]
  },
  {
   "cell_type": "markdown",
   "metadata": {},
   "source": [
    "![you fucked up](../_img/CSharp_Variable.jpg)\n",
    "\n",
    "**Variables** are characterized by: \n",
    "- **name** (identifier)\n",
    "- **type** (of the information preserved in them)\n",
    "- **value** (stored information) "
   ]
  },
  {
   "cell_type": "markdown",
   "metadata": {},
   "source": [
    "A **variable** is a **named area of memory**, which stores a value from a particular data type, and that area of memory is accessible in the program by its name.  \n",
    "\n",
    "**Variable**s can be stored directly in the *operational memory* of the program (in the *stack*), or in the *dynamic (heap) memory* in which **reference types** are stored (such as  `string` and `Array` types)."
   ]
  },
  {
   "cell_type": "markdown",
   "metadata": {},
   "source": [
    "#### **Naming Variables – Rules**\n",
    "\n",
    "The name of the **variable** can be any of our choice but must follow certain rules defined in the C# language specification: \n",
    "- **Variable** names can contain the letters `a-z`, `A-Z`, the digits `0-9` as well as the character `'_'`.\n",
    "- **Variable** names *cannot start with a digit*. \n",
    "- **Variable** names cannot coincide with a `keyword` of the C# language.\n",
    "  - <table><tbody><tr><td><a id=\"keywords-list\" name=\"keywords-list\"></a><code>abstract</code></td>\n",
    "\t\t\t<td><code>as</code></td>\n",
    "\t\t\t<td><code>base</code></td>\n",
    "\t\t\t<td><code>bool</code></td>\n",
    "\t\t</tr><tr><td><code>break</code></td>\n",
    "\t\t\t<td><code>byte</code></td>\n",
    "\t\t\t<td><code>case</code></td>\n",
    "\t\t\t<td><code>catch</code></td>\n",
    "\t\t</tr><tr><td><code>char</code></td>\n",
    "\t\t\t<td><code>checked</code></td>\n",
    "\t\t\t<td><code>class</code></td>\n",
    "\t\t\t<td><code>const</code></td>\n",
    "\t\t</tr><tr><td><code>continue</code></td>\n",
    "\t\t\t<td><code>decimal</code></td>\n",
    "\t\t\t<td><code>default</code></td>\n",
    "\t\t\t<td><code>delegate</code></td>\n",
    "\t\t</tr><tr><td><code>do</code></td>\n",
    "\t\t\t<td><code>double</code></td>\n",
    "\t\t\t<td><code>else</code></td>\n",
    "\t\t\t<td><code>enum</code></td>\n",
    "\t\t</tr><tr><td><code>event</code></td>\n",
    "\t\t\t<td><code>explicit</code></td>\n",
    "\t\t\t<td><code>extern</code></td>\n",
    "\t\t\t<td><code>false</code></td>\n",
    "\t\t</tr><tr><td><code>finally</code></td>\n",
    "\t\t\t<td><code>fixed</code></td>\n",
    "\t\t\t<td><code>float</code></td>\n",
    "\t\t\t<td><code>for</code></td>\n",
    "\t\t</tr><tr><td><code>foreach</code></td>\n",
    "\t\t\t<td><code>goto</code></td>\n",
    "\t\t\t<td><code>if</code></td>\n",
    "\t\t\t<td><code>implicit</code></td>\n",
    "\t\t</tr><tr><td><code>in</code></td>\n",
    "\t\t\t<td></td>\n",
    "\t\t\t<td><code>int</code></td>\n",
    "\t\t\t<td><code>interface</code></td>\n",
    "\t\t</tr><tr><td><code>internal</code></td>\n",
    "\t\t\t<td><code>is</code></td>\n",
    "\t\t\t<td><code>lock</code></td>\n",
    "\t\t\t<td><code>long</code></td>\n",
    "\t\t</tr><tr><td><code>namespace</code></td>\n",
    "\t\t\t<td><code>new</code></td>\n",
    "\t\t\t<td><code>null</code></td>\n",
    "\t\t\t<td><code>object</code></td>\n",
    "\t\t</tr><tr><td><code>operator</code></td>\n",
    "\t\t\t<td><code>out</code></td>\n",
    "\t\t\t<td></td>\n",
    "\t\t\t<td><code>override</code></td>\n",
    "\t\t</tr><tr><td><code>params</code></td>\n",
    "\t\t\t<td><code>private</code></td>\n",
    "\t\t\t<td><code>protected</code></td>\n",
    "\t\t\t<td><code>public</code></td>\n",
    "\t\t</tr><tr><td><code>readonly</code></td>\n",
    "\t\t\t<td><code>ref</code></td>\n",
    "\t\t\t<td><code>return</code></td>\n",
    "\t\t\t<td><code>sbyte</code></td>\n",
    "\t\t</tr><tr><td><code>sealed</code></td>\n",
    "\t\t\t<td><code>short</code></td>\n",
    "\t\t\t<td><code>sizeof</code></td>\n",
    "\t\t\t<td><code>stackalloc</code></td>\n",
    "\t\t</tr><tr><td><code>static</code></td>\n",
    "\t\t\t<td><code>string</code></td>\n",
    "\t\t\t<td><code>struct</code></td>\n",
    "\t\t\t<td><code>switch</code></td>\n",
    "\t\t</tr><tr><td><code>this</code></td>\n",
    "\t\t\t<td><code>throw</code></td>\n",
    "\t\t\t<td><code>true</code></td>\n",
    "\t\t\t<td><code>try</code></td>\n",
    "\t\t</tr><tr><td><code>typeof</code></td>\n",
    "\t\t\t<td><code>uint</code></td>\n",
    "\t\t\t<td><code>ulong</code></td>\n",
    "\t\t\t<td><code>unchecked</code></td>\n",
    "\t\t</tr><tr><td><code>unsafe</code></td>\n",
    "\t\t\t<td><code>ushort</code></td>\n",
    "\t\t\t<td><code>using</code></td>\n",
    "\t\t\t<td><code>static</code></td>\n",
    "\t\t</tr><tr><td><code>virtual</code></td>\n",
    "\t\t\t<td><code>void</code></td>\n",
    "\t\t\t<td><code>volatile</code></td>\n",
    "\t\t\t<td><code>while</code></td>\n",
    "\t\t</tr></tbody></table>"
   ]
  },
  {
   "cell_type": "markdown",
   "metadata": {},
   "source": [
    "<br>"
   ]
  },
  {
   "cell_type": "markdown",
   "metadata": {},
   "source": [
    "#### **Declaring Variables**\n",
    "When you declare a **variable**, you perform the following steps: \n",
    "1. specify its **type**\n",
    "2. specify its **name**\n",
    "3. *optionally* specify **initial value**\n",
    "   \n",
    "The syntax for declaring **variable**s in C# is as follows:\n",
    "$$\\text{<data type> <identifier> [= <initialization>]}$$"
   ]
  },
  {
   "cell_type": "code",
   "execution_count": null,
   "metadata": {
    "dotnet_interactive": {
     "language": "csharp"
    }
   },
   "outputs": [
    {
     "data": {
      "text/html": [
       "<div class=\"dni-plaintext\">69</div>"
      ]
     },
     "metadata": {},
     "output_type": "display_data"
    }
   ],
   "source": [
    "// Example of declaring and initializing a 32 bit integer variable\n",
    "int initializedIntegerVariable = 69;"
   ]
  }
 ],
 "metadata": {
  "interpreter": {
   "hash": "aaab7146c439a11e2ca2ad4bd45d26d3b2eed0b89e5f62f3681e4861e5e8b9b5"
  },
  "kernelspec": {
   "display_name": ".NET (C#)",
   "language": "C#",
   "name": ".net-csharp"
  },
  "language_info": {
   "file_extension": ".cs",
   "mimetype": "text/x-csharp",
   "name": "C#",
   "pygments_lexer": "csharp",
   "version": "9.0"
  },
  "orig_nbformat": 4
 },
 "nbformat": 4,
 "nbformat_minor": 2
}
