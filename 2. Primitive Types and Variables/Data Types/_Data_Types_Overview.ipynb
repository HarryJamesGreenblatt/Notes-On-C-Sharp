{
 "cells": [
  {
   "cell_type": "markdown",
   "metadata": {},
   "source": [
    "# 2. Primative Types and Variables"
   ]
  },
  {
   "cell_type": "markdown",
   "metadata": {},
   "source": [
    "## Data Types Overview\n",
    "#### *Sets (ranges) of values that have **similar characteristics***.\n",
    "---\n",
    "Data types are characterized by:\n",
    "- *Name* \n",
    "- *Size*\n",
    "- *Default Value*  \n",
    "<br>\n",
    "\n",
    "The Basic data types of C# are known as **Primative (built-in) Types**:\n",
    "- ***Integer Types***\n",
    "  -  `sbyte`, `byte`, `short`, `ushort`, `int`, `uint`, `long`, `ulong`;  \n",
    "<br>\n",
    "\n",
    "- ***Real floating-point types***\n",
    "  - `float`, `double`;  \n",
    "<br>\n",
    "\n",
    "- ***Real type with decimal precision***\n",
    "  - `decimal`;  \n",
    "<br>  \n",
    "\n",
    "- ***Boolean***\n",
    "  - `bool`;  \n",
    "<br>\n",
    "\n",
    "- ***Character type***\n",
    "  - `char`;  \n",
    "<br>\n",
    "\n",
    "- **Object type**\n",
    "  - `object`;   \n",
    "<br>\n",
    "\n",
    "- **String type**\n",
    "  - `string`;   \n",
    "<br>  \n",
    "   \n",
    "The table below represents the above mentioned *data types*, their *range* and their *default values*:\n",
    "\n",
    "|Data Type|Default Value|Minimum Value|Maximum Value|\n",
    "|---------|-------------|-------------|-------------|\n",
    "|`sbyte`|0|-128|127|\n",
    "|`byte`|0|0|255|\n",
    "|`short`|0|-32768|32767|\n",
    "|`ushort`|0|0|65535|\n",
    "|`int`|0|-2147483648|2147483647|\n",
    "|`uint`|`0u`|0|4294967295|\n",
    "|`long`|`0L`|-9223372036854775808|9223372036854775807|\n",
    "|`ulong`|`0u`|0|18446744073709551615|\n",
    "|`float`|`0.0f`|$\\pm1.5\\times10^{-45}$|$\\pm3.4\\times10^{38}$|\n",
    "|`double`|`0.0d`|$\\pm5.0\\times10^{-324}$|$\\pm1.7\\times10^{308}$|\n",
    "|`decimal`|`0.0m`|$\\pm1.0\\times10^{-28}$|$\\pm7.9\\times10^{28}$|\n",
    "|`bool`|`false`|`false`|`true`|\n",
    "|`char`|`'\\u0000'`|`'\\u0000'`|`'\\uffff'`|\n",
    "|`object`|`null`|-|-|\n",
    "|`string`|`null`|-|-|\n"
   ]
  },
  {
   "cell_type": "markdown",
   "metadata": {},
   "source": [
    "<br>"
   ]
  },
  {
   "cell_type": "markdown",
   "metadata": {},
   "source": [
    "### Type Heirarchy\n",
    "\n",
    "![You Fucked Up...](../_img/CSharpDataTypes.jpg)"
   ]
  }
 ],
 "metadata": {
  "interpreter": {
   "hash": "aaab7146c439a11e2ca2ad4bd45d26d3b2eed0b89e5f62f3681e4861e5e8b9b5"
  },
  "kernelspec": {
   "display_name": ".NET (C#)",
   "language": "C#",
   "name": ".net-csharp"
  },
  "language_info": {
   "file_extension": ".cs",
   "mimetype": "text/x-csharp",
   "name": "C#",
   "pygments_lexer": "csharp",
   "version": "9.0"
  },
  "orig_nbformat": 4
 },
 "nbformat": 4,
 "nbformat_minor": 2
}
