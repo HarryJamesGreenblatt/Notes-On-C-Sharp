{
 "cells": [
  {
   "cell_type": "markdown",
   "metadata": {},
   "source": [
    "# 2. Primative Types and Variables"
   ]
  },
  {
   "cell_type": "markdown",
   "metadata": {},
   "source": [
    "## String Types\n",
    "A **sequence of** `char` **characters**.\n",
    "It is declared in C# with the keyword `string`.  \n",
    "   \n",
    "Their default value is `null`.  \n",
    "  \n",
    "Strings are enclosed in quotation marks `\"...\"`.\n",
    "![you fucked up](../_img/CSharp_StringTypes.jpg)\n",
    "\n",
    "---"
   ]
  },
  {
   "cell_type": "markdown",
   "metadata": {},
   "source": [
    "### `string`:\n",
    "One or more **Letters** or **Other Characters**, which are alltogether enclosed in **quotes** `\"...\"`.\n",
    "  "
   ]
  },
  {
   "cell_type": "code",
   "execution_count": null,
   "metadata": {
    "dotnet_interactive": {
     "language": "csharp"
    }
   },
   "outputs": [
    {
     "name": "stdout",
     "output_type": "stream",
     "text": [
      "a\r\n",
      " \r\n",
      "s\r\n",
      "t\r\n",
      "r\r\n",
      "i\r\n",
      "n\r\n",
      "g\r\n"
     ]
    }
   ],
   "source": [
    "string str = \"a string\";\n",
    "\n",
    "for(int i = 0; i < str.Length; i++) \n",
    "{\n",
    "\n",
    "    Console.WriteLine(\n",
    "       str[i]\n",
    "    );\n",
    "\n",
    "}"
   ]
  },
  {
   "cell_type": "code",
   "execution_count": null,
   "metadata": {
    "dotnet_interactive": {
     "language": "csharp"
    }
   },
   "outputs": [
    {
     "data": {
      "text/plain": [
       "Please allow me to interpolate this variable into a string."
      ]
     },
     "metadata": {},
     "output_type": "display_data"
    }
   ],
   "source": [
    "// String Interpolation\n",
    "\n",
    "string interpolateThisStr = \"interpolate this variable into a string.\";\n",
    "\n",
    "$\"Please allow me to {interpolateThisStr}\""
   ]
  }
 ],
 "metadata": {
  "kernelspec": {
   "display_name": ".NET (C#)",
   "language": "C#",
   "name": ".net-csharp"
  },
  "language_info": {
   "file_extension": ".cs",
   "mimetype": "text/x-csharp",
   "name": "C#",
   "pygments_lexer": "csharp",
   "version": "9.0"
  },
  "orig_nbformat": 4
 },
 "nbformat": 4,
 "nbformat_minor": 2
}
