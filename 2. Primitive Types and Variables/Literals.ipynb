{
 "cells": [
  {
   "cell_type": "markdown",
   "metadata": {
    "dotnet_interactive": {
     "language": "csharp"
    }
   },
   "source": [
    "# 2. Primative Types and Variables"
   ]
  },
  {
   "cell_type": "markdown",
   "metadata": {},
   "source": [
    "## Literals\n",
    "\n",
    "In C# language, there are several types of **literals**: \n",
    "- **Boolean** \n",
    "- **Integer** \n",
    "- **Real** \n",
    "- **Character** \n",
    "- **String** \n",
    "- Object literal `null`\n",
    "\n",
    "\n",
    "---\n"
   ]
  },
  {
   "cell_type": "markdown",
   "metadata": {},
   "source": [
    "#### **Boolean Literals**"
   ]
  },
  {
   "cell_type": "code",
   "execution_count": null,
   "metadata": {
    "dotnet_interactive": {
     "language": "csharp"
    },
    "vscode": {
     "languageId": "dotnet-interactive.csharp"
    }
   },
   "outputs": [
    {
     "data": {
      "text/html": [
       "<div class=\"dni-plaintext\">True</div>"
      ]
     },
     "metadata": {},
     "output_type": "display_data"
    }
   ],
   "source": [
    "true"
   ]
  },
  {
   "cell_type": "code",
   "execution_count": null,
   "metadata": {
    "dotnet_interactive": {
     "language": "csharp"
    },
    "vscode": {
     "languageId": "dotnet-interactive.csharp"
    }
   },
   "outputs": [
    {
     "data": {
      "text/html": [
       "<div class=\"dni-plaintext\">False</div>"
      ]
     },
     "metadata": {},
     "output_type": "display_data"
    }
   ],
   "source": [
    "false"
   ]
  },
  {
   "cell_type": "markdown",
   "metadata": {},
   "source": [
    "<br>"
   ]
  },
  {
   "cell_type": "markdown",
   "metadata": {},
   "source": [
    "#### **Integer Literals**"
   ]
  },
  {
   "cell_type": "code",
   "execution_count": null,
   "metadata": {
    "dotnet_interactive": {
     "language": "csharp"
    },
    "vscode": {
     "languageId": "dotnet-interactive.csharp"
    }
   },
   "outputs": [
    {
     "data": {
      "text/html": [
       "<div class=\"dni-plaintext\">-2200000000</div>"
      ]
     },
     "metadata": {},
     "output_type": "display_data"
    }
   ],
   "source": [
    "// l' and 'L' as suffix indicates long type data\n",
    "\n",
    "long negative_two_point_two_billion = -2_200_000_000L;\n",
    "\n",
    "negative_two_point_two_billion"
   ]
  },
  {
   "cell_type": "code",
   "execution_count": null,
   "metadata": {
    "dotnet_interactive": {
     "language": "csharp"
    },
    "vscode": {
     "languageId": "dotnet-interactive.csharp"
    }
   },
   "outputs": [
    {
     "data": {
      "text/html": [
       "<div class=\"dni-plaintext\">18400000000000000000</div>"
      ]
     },
     "metadata": {},
     "output_type": "display_data"
    }
   ],
   "source": [
    "// u' and 'U' as suffix indicates uint or ulong type data\n",
    "\n",
    "ulong just_a_freaking_huge_number = 18_400_000_000_000_000_000U;\n",
    "\n",
    "just_a_freaking_huge_number"
   ]
  },
  {
   "cell_type": "markdown",
   "metadata": {},
   "source": [
    "##### *Binary Literals*"
   ]
  },
  {
   "cell_type": "code",
   "execution_count": null,
   "metadata": {
    "dotnet_interactive": {
     "language": "csharp"
    },
    "vscode": {
     "languageId": "dotnet-interactive.csharp"
    }
   },
   "outputs": [
    {
     "data": {
      "text/html": [
       "<div class=\"dni-plaintext\">13</div>"
      ]
     },
     "metadata": {},
     "output_type": "display_data"
    }
   ],
   "source": [
    "// begin with 0b prefix\n",
    "\n",
    "int thirteen = 0b00001101;\n",
    "\n",
    "thirteen"
   ]
  },
  {
   "cell_type": "markdown",
   "metadata": {},
   "source": [
    "##### *Hexadecimal Literals*"
   ]
  },
  {
   "cell_type": "code",
   "execution_count": null,
   "metadata": {
    "dotnet_interactive": {
     "language": "csharp"
    },
    "vscode": {
     "languageId": "dotnet-interactive.csharp"
    }
   },
   "outputs": [],
   "source": [
    "// begin with 0x prefix\n",
    "\n",
    "int theColorMagenta = 0xFF00FF;"
   ]
  },
  {
   "cell_type": "markdown",
   "metadata": {},
   "source": [
    "##### *The Digit Seperator*"
   ]
  },
  {
   "cell_type": "code",
   "execution_count": null,
   "metadata": {
    "dotnet_interactive": {
     "language": "csharp"
    },
    "vscode": {
     "languageId": "dotnet-interactive.csharp"
    }
   },
   "outputs": [
    {
     "data": {
      "text/html": [
       "<div class=\"dni-plaintext\">10000000000</div>"
      ]
     },
     "metadata": {},
     "output_type": "display_data"
    }
   ],
   "source": [
    "// use underscores to group digits for better readability\n",
    "\n",
    "double ten_billion = 10_000_000_000;\n",
    "\n",
    "ten_billion"
   ]
  },
  {
   "cell_type": "markdown",
   "metadata": {},
   "source": [
    "<br>"
   ]
  },
  {
   "cell_type": "markdown",
   "metadata": {},
   "source": [
    "#### **Real Literals**"
   ]
  },
  {
   "cell_type": "markdown",
   "metadata": {},
   "source": [
    "##### *Real Floating-Point*"
   ]
  },
  {
   "cell_type": "code",
   "execution_count": null,
   "metadata": {
    "dotnet_interactive": {
     "language": "csharp"
    },
    "vscode": {
     "languageId": "dotnet-interactive.csharp"
    }
   },
   "outputs": [
    {
     "data": {
      "text/html": [
       "<div class=\"dni-plaintext\">0.12345678</div>"
      ]
     },
     "metadata": {},
     "output_type": "display_data"
    }
   ],
   "source": [
    "// \"single\" float -- 32 Bits / 4 Bytes\n",
    "// 7-8 digits of precision\n",
    "// ends with an 'f' modifier\n",
    "\n",
    "0.12345678f  \n"
   ]
  },
  {
   "cell_type": "code",
   "execution_count": null,
   "metadata": {
    "dotnet_interactive": {
     "language": "csharp"
    },
    "vscode": {
     "languageId": "dotnet-interactive.csharp"
    }
   },
   "outputs": [
    {
     "data": {
      "text/html": [
       "<div class=\"dni-plaintext\">0.1234567890123456</div>"
      ]
     },
     "metadata": {},
     "output_type": "display_data"
    }
   ],
   "source": [
    "// double  -- 64 Bits / 8 Bytes\n",
    "// 16 digits of precision\n",
    "// ends with an 'd' modifier\n",
    "\n",
    "0.1234567890123456d"
   ]
  },
  {
   "cell_type": "markdown",
   "metadata": {},
   "source": [
    "##### *Real Decimal* "
   ]
  },
  {
   "cell_type": "code",
   "execution_count": null,
   "metadata": {
    "dotnet_interactive": {
     "language": "csharp"
    },
    "vscode": {
     "languageId": "dotnet-interactive.csharp"
    }
   },
   "outputs": [
    {
     "data": {
      "text/html": [
       "<div class=\"dni-plaintext\">0.1234567890123456789012345678</div>"
      ]
     },
     "metadata": {},
     "output_type": "display_data"
    }
   ],
   "source": [
    "// decimal  -- 128 Bits / 16 Bytes\n",
    "// 28 digits of precision\n",
    "// ends with an 'm' modifier\n",
    "\n",
    "0.1234567890123456789012345678m"
   ]
  },
  {
   "cell_type": "markdown",
   "metadata": {
    "dotnet_interactive": {
     "language": "csharp"
    }
   },
   "source": [
    "##### *Scientific Notation or `e` Notation*"
   ]
  },
  {
   "cell_type": "code",
   "execution_count": null,
   "metadata": {
    "dotnet_interactive": {
     "language": "csharp"
    },
    "vscode": {
     "languageId": "dotnet-interactive.csharp"
    }
   },
   "outputs": [],
   "source": [
    "// should be   double type   unless var/object\n",
    "public double Mass_of_the_Earth_in_kg = 5.97e23; //5.97 x 10^23"
   ]
  },
  {
   "cell_type": "code",
   "execution_count": null,
   "metadata": {
    "dotnet_interactive": {
     "language": "csharp"
    },
    "vscode": {
     "languageId": "dotnet-interactive.csharp"
    }
   },
   "outputs": [],
   "source": [
    "using System;\n",
    "\n",
    "decimal conversion_to_standard_notation = decimal.Parse(\n",
    "    Mass_of_the_Earth_in_kg.ToString(), \n",
    "    System.Globalization.NumberStyles.Float\n",
    ");"
   ]
  },
  {
   "cell_type": "code",
   "execution_count": null,
   "metadata": {
    "dotnet_interactive": {
     "language": "csharp"
    },
    "vscode": {
     "languageId": "dotnet-interactive.csharp"
    }
   },
   "outputs": [
    {
     "data": {
      "text/html": [
       "<div class=\"dni-plaintext\">5.97E+23</div>"
      ]
     },
     "metadata": {},
     "output_type": "display_data"
    }
   ],
   "source": [
    "Mass_of_the_Earth_in_kg"
   ]
  },
  {
   "cell_type": "code",
   "execution_count": null,
   "metadata": {
    "dotnet_interactive": {
     "language": "csharp"
    },
    "vscode": {
     "languageId": "dotnet-interactive.csharp"
    }
   },
   "outputs": [
    {
     "data": {
      "text/html": [
       "<div class=\"dni-plaintext\">597000000000000000000000</div>"
      ]
     },
     "metadata": {},
     "output_type": "display_data"
    }
   ],
   "source": [
    "conversion_to_standard_notation"
   ]
  },
  {
   "cell_type": "markdown",
   "metadata": {},
   "source": [
    "<br>"
   ]
  },
  {
   "cell_type": "markdown",
   "metadata": {},
   "source": [
    "#### **Character Literals**"
   ]
  },
  {
   "cell_type": "code",
   "execution_count": null,
   "metadata": {
    "dotnet_interactive": {
     "language": "csharp"
    },
    "vscode": {
     "languageId": "dotnet-interactive.csharp"
    }
   },
   "outputs": [
    {
     "data": {
      "text/html": [
       "<div class=\"dni-plaintext\">a</div>"
      ]
     },
     "metadata": {},
     "output_type": "display_data"
    }
   ],
   "source": [
    "// place character literals within single quotes\n",
    "\n",
    "char theLetterA = 'a';\n",
    "\n",
    "theLetterA"
   ]
  },
  {
   "cell_type": "markdown",
   "metadata": {},
   "source": [
    "##### *Escape Sequences*\n",
    "<table class=\"table\">\n",
    "<tr>\n",
    "<th>Escape sequence</th>\n",
    "<th>Character name</th>\n",
    "<th>Unicode encoding</th>\n",
    "</tr>\n",
    "</thead>\n",
    "<tbody>\n",
    "<tr>\n",
    "<td><code>\\'</td></code>\n",
    "<td>Single quote</td>\n",
    "<td>0x0027</td>\n",
    "</tr>\n",
    "<tr>\n",
    "<td><code>\\\"</td></code>\n",
    "<td>Double quote</td>\n",
    "<td>0x0022</td>\n",
    "</tr>\n",
    "<tr>\n",
    "<td><code>\\\\</td></code>\n",
    "<td>Backslash</td>\n",
    "<td>0x005C</td>\n",
    "</tr>\n",
    "<tr>\n",
    "<td><code>\\0</code></td>\n",
    "<td>Null</td>\n",
    "<td>0x0000</td>\n",
    "</tr>\n",
    "<tr>\n",
    "<td><code>\\a</code></td>\n",
    "<td>Alert</td>\n",
    "<td>0x0007</td>\n",
    "</tr>\n",
    "<tr>\n",
    "<td><code>\\b</code></td>\n",
    "<td>Backspace</td>\n",
    "<td>0x0008</td>\n",
    "</tr>\n",
    "<tr>\n",
    "<td><code>\\f</code></td>\n",
    "<td>Form feed</td>\n",
    "<td>0x000C</td>\n",
    "</tr>\n",
    "<tr>\n",
    "<td><code>\\n</code></td>\n",
    "<td>New line</td>\n",
    "<td>0x000A</td>\n",
    "</tr>\n",
    "<tr>\n",
    "<td><code>\\r</code></td>\n",
    "<td>Carriage return</td>\n",
    "<td>0x000D</td>\n",
    "</tr>\n",
    "<tr>\n",
    "<td><code>\\t</code></td>\n",
    "<td>Horizontal tab</td>\n",
    "<td>0x0009</td>\n",
    "</tr>\n",
    "<tr>\n",
    "<td><code>\\v</code></td>\n",
    "<td>Vertical tab</td>\n",
    "<td>0x000B</td>\n",
    "</tr>\n",
    "<tr>\n",
    "<td><code>\\u</code></td>\n",
    "<td>Unicode escape sequence (UTF-16)</td>\n",
    "<td><code><code>\\uHHHH</code></code><br> (range: 0000 - FFFF;<br> example: <code>\\u00E7</code> = \"ç\")</td>\n",
    "</tr>\n",
    "<tr>\n",
    "<td><code>\\U</code></td>\n",
    "<td>Unicode escape sequence (UTF-32)</td>\n",
    "<td><code>\\U00HHHHHH</code><br> (range: 000000 - 10FFFF;<br> example: <code>\\U0001F47D</code> = \"👽\")</td>\n",
    "</tr>\n",
    "<tr>\n",
    "<td><code>\\x</code></td>\n",
    "<td>Unicode escape sequence similar to \"\\u\" except with variable length</td>\n",
    "<td><code>\\xH[H][H][H]<br> </code> (range: 0 - FFFF;<br> example: <code>\\x00E7</code> or <code>\\x0E7</code> or <code>\\xE7</code> = \"ç\")</td>\n",
    "</tr>\n",
    "</tbody>\n",
    "</table>"
   ]
  },
  {
   "cell_type": "markdown",
   "metadata": {},
   "source": [
    "<br>"
   ]
  },
  {
   "cell_type": "markdown",
   "metadata": {},
   "source": [
    "#### **String Literals**"
   ]
  },
  {
   "cell_type": "markdown",
   "metadata": {},
   "source": [
    "A sequence of characters enclosed in double quotation marks `\"...\"`.   \n",
    "\n",
    "- All the escaping rules for the `char` type discussed above are *also valid for string literals*.   "
   ]
  },
  {
   "cell_type": "code",
   "execution_count": null,
   "metadata": {
    "dotnet_interactive": {
     "language": "csharp"
    },
    "vscode": {
     "languageId": "dotnet-interactive.csharp"
    }
   },
   "outputs": [
    {
     "data": {
      "text/plain": [
       "A String\n",
       "\t...Literally"
      ]
     },
     "metadata": {},
     "output_type": "display_data"
    }
   ],
   "source": [
    "\"A String\\n\\t...Literally\""
   ]
  },
  {
   "cell_type": "markdown",
   "metadata": {},
   "source": [
    " Strings can be preceded by the `@` character that specifies a **quoted string** (**verbatim string**).\n",
    "- In **quoted strings** the rules for escaping are **not valid**, i.e. the character `\\` literally means `\\`.  \n",
    "   \n",
    "- *Only the character `\"` (double-quotes) needs to be escaped* in the **quoted strings**,  and it is escaped in the following way: \n",
    "  - `\"\"` (*double* double-quotes).   \n",
    "<br>\n",
    "\n",
    "- All other characters are treated *literally*, even the new line. **Quoted strings** are often used for the file system paths naming."
   ]
  },
  {
   "cell_type": "code",
   "execution_count": null,
   "metadata": {
    "dotnet_interactive": {
     "language": "csharp"
    },
    "vscode": {
     "languageId": "dotnet-interactive.csharp"
    }
   },
   "outputs": [
    {
     "data": {
      "text/plain": [
       "\r\n",
       "Verbatim strings allow \r\n",
       "\r\n",
       "string \"inputs\" \r\n",
       "\r\n",
       "whitout needing to use escape sequences\r\n"
      ]
     },
     "metadata": {},
     "output_type": "display_data"
    }
   ],
   "source": [
    "@\"\n",
    "Verbatim strings allow \n",
    "\n",
    "string \"\"inputs\"\" \n",
    "\n",
    "whitout needing to use escape sequences\n",
    "\""
   ]
  }
 ],
 "metadata": {
  "kernelspec": {
   "display_name": ".NET (C#)",
   "language": "C#",
   "name": ".net-csharp"
  },
  "language_info": {
   "file_extension": ".cs",
   "mimetype": "text/x-csharp",
   "name": "C#",
   "pygments_lexer": "csharp",
   "version": "9.0"
  },
  "orig_nbformat": 4
 },
 "nbformat": 4,
 "nbformat_minor": 2
}
