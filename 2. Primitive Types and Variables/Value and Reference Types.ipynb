{
 "cells": [
  {
   "cell_type": "markdown",
   "metadata": {},
   "source": [
    "# 2. Primative Types and Variables"
   ]
  },
  {
   "cell_type": "markdown",
   "metadata": {},
   "source": [
    "## Value and Reference Types\n",
    "##### Data types in C# come in *two broad types*: \n",
    "\n",
    "|<span style=\"color: brown;\">Value</span>|<span style=\"color: green;\">Reference</span>|\n",
    "|   ---   |     ---     |\n",
    "|![you fucked up](./_img/CSharpValueTypes.jpg)| ![you fucked up](./_img/CSharpReferenceTypes.jpg)|  |\n",
    "\n",
    "---"
   ]
  },
  {
   "cell_type": "markdown",
   "metadata": {},
   "source": [
    "#### **<span style=\"color: brown;\">Value</span> and <span style=\"color: green;\">Reference</span> Types in Memory**"
   ]
  },
  {
   "cell_type": "markdown",
   "metadata": {},
   "source": [
    "To illustrate how <span style=\"color: brown;\">**Value**</span> and <span style=\"color: green;\">**Reference**</span> types are represented in memory, consider the execution of the following programming code:"
   ]
  },
  {
   "cell_type": "markdown",
   "metadata": {},
   "source": [
    "![you fukked up](../_img/Val_Ref_Types_1.jpg)"
   ]
  },
  {
   "cell_type": "code",
   "execution_count": null,
   "metadata": {
    "dotnet_interactive": {
     "language": "csharp"
    },
    "vscode": {
     "languageId": "dotnet-interactive.csharp"
    }
   },
   "outputs": [],
   "source": [
    "// Once the variables below are declared,\n",
    "\n",
    "int    i       =  42;\n",
    "char   ch      =  'A';\n",
    "bool   result  =  true;\n",
    "object obj     =  42;\n",
    "string str     =  \"Hello\";\n",
    "byte[] bytes   =  { 1, 2, 3 };\n",
    "\n",
    "// they are located in the memory in a manner similar to the above image \n",
    "\n",
    "\n",
    "///////////////////////////////////////////////////////////////////////////\n",
    "///////////////////////////////////////////////////////////////////////////\n",
    "\n",
    "\n",
    "// After executing the code below, which modifies the values of the variables, \n",
    "\n",
    "i = 0;\n",
    "ch = 'B';\n",
    "result = false;\n",
    "obj = null;\n",
    "str = \"Bye\";\n",
    "bytes[1] = 0;\n",
    "\n",
    "// The value and reference type changes are reflected in the image below:"
   ]
  },
  {
   "cell_type": "markdown",
   "metadata": {},
   "source": [
    "![you fukked up](./_img/Val_Ref_Types_2.jpg)"
   ]
  },
  {
   "cell_type": "markdown",
   "metadata": {},
   "source": [
    ">Note:  \n",
    "<span style=\"color: brown;\">**Value**</span> types *cannot* be assigned a value of `null`."
   ]
  },
  {
   "cell_type": "markdown",
   "metadata": {},
   "source": [
    "<br>"
   ]
  },
  {
   "cell_type": "markdown",
   "metadata": {},
   "source": [
    "#### **<span style=\"color: brown;\">Value</span> and <span style=\"color: green;\">Reference</span> Semantics**"
   ]
  },
  {
   "cell_type": "markdown",
   "metadata": {},
   "source": [
    "<span style=\"color: green;\">**Reference**</span> types have what’s called <span style=\"color: green;\">**Reference semantics**</span>,   \n",
    "and <span style=\"color: brown;\">**Value**</span>  types have <span style=\"color: brown;\">**Value semantics**</span> or **<span style=\"color: brown;\">Copy semantics</span>**.  \n",
    "<br>\n",
    "<br>\n",
    "Let’s compare these two with examples,  \n",
    "using the `int` type (a <span style=\"color: brown;\">**Value**</span> type), and an `Array` of `int` (the `Array` is a <span style=\"color: green;\">**Reference**</span> type, even though it contains things that are <span style=\"color: brown;\">**Value**</span> types).  \n",
    "<br>\n",
    "<br>\n",
    "Let’s say you have the following code:"
   ]
  },
  {
   "cell_type": "code",
   "execution_count": null,
   "metadata": {
    "dotnet_interactive": {
     "language": "csharp"
    },
    "vscode": {
     "languageId": "dotnet-interactive.csharp"
    }
   },
   "outputs": [
    {
     "name": "stdout",
     "output_type": "stream",
     "text": [
      "a = 3 \n",
      "b = 4\r\n"
     ]
    }
   ],
   "source": [
    "// using Value/Copy semantics ensures the value of a is distinct from b\n",
    "int a = 3;\n",
    "int b = a;\n",
    "\n",
    "b++;\n",
    "\n",
    "Console.WriteLine(\n",
    "    $\"a = {a} \\nb = {b}\"\n",
    ")"
   ]
  },
  {
   "cell_type": "code",
   "execution_count": null,
   "metadata": {
    "dotnet_interactive": {
     "language": "csharp"
    },
    "vscode": {
     "languageId": "dotnet-interactive.csharp"
    }
   },
   "outputs": [
    {
     "name": "stdout",
     "output_type": "stream",
     "text": [
      "Before\n",
      "a = 123\n",
      "b = 123\n",
      "\r\n",
      "After\n",
      "a = 1723\n",
      "b = 1723\n",
      "\r\n"
     ]
    }
   ],
   "source": [
    "int[] a = new int[] {1,2,3};\n",
    "int[] b = a;\n",
    "\n",
    "Console.WriteLine(\n",
    "    $\"Before\\na = {a[0]}{a[1]}{a[2]}\\nb = {b[0]}{b[1]}{b[2]}\\n\"\n",
    "    );\n",
    "    \n",
    "// when using Reference semantics, a and b point at the same address in memory,\n",
    "// effectively changing each other's values if modified.\n",
    "b[0] = 17;   \n",
    "\n",
    "Console.WriteLine(\n",
    "    $\"After\\na = {a[0]}{a[1]}{a[2]}\\nb = {b[0]}{b[1]}{b[2]}\\n\"\n",
    ");"
   ]
  }
 ],
 "metadata": {
  "kernelspec": {
   "display_name": ".NET (C#)",
   "language": "C#",
   "name": ".net-csharp"
  },
  "language_info": {
   "file_extension": ".cs",
   "mimetype": "text/x-csharp",
   "name": "C#",
   "pygments_lexer": "csharp",
   "version": "9.0"
  },
  "orig_nbformat": 4
 },
 "nbformat": 4,
 "nbformat_minor": 2
}
