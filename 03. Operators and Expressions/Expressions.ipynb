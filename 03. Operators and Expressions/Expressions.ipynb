{
 "cells": [
  {
   "cell_type": "markdown",
   "metadata": {},
   "source": [
    "# 3. Operators and Expressions"
   ]
  },
  {
   "cell_type": "markdown",
   "metadata": {
    "dotnet_interactive": {
     "language": "csharp"
    }
   },
   "source": [
    "## Expressions\n",
    "---"
   ]
  },
  {
   "cell_type": "markdown",
   "metadata": {},
   "source": [
    "Much of the program’s work is the calculation of **expressions**.   \n",
    "\n",
    "**Expressions** are **sequences of operators, literals and variables** that are calculated to a value of some type (`int`, `string`, `object` or other type):"
   ]
  },
  {
   "cell_type": "code",
   "execution_count": null,
   "metadata": {
    "dotnet_interactive": {
     "language": "csharp"
    },
    "vscode": {
     "languageId": "dotnet-interactive.csharp"
    }
   },
   "outputs": [
    {
     "name": "stdout",
     "output_type": "stream",
     "text": [
      "70\r\n",
      "15393.804002589986\r\n",
      "439.822971502571\r\n"
     ]
    }
   ],
   "source": [
    "int r = (150-20) / 2 + 5;\n",
    "\n",
    "// Expression for calculating the surface of the circle\n",
    "double surface = Math.PI * r * r;\n",
    "\n",
    "// Expression for calculating the perimeter of the circle\n",
    "double perimeter = 2 * Math.PI * r;\n",
    "\n",
    "Console.WriteLine(r);\n",
    "Console.WriteLine(surface);\n",
    "Console.WriteLine(perimeter);"
   ]
  },
  {
   "cell_type": "markdown",
   "metadata": {},
   "source": [
    "##### **Side Effects of Expressions**"
   ]
  },
  {
   "cell_type": "markdown",
   "metadata": {},
   "source": [
    "The calculation of the expression can have **side effects**, because the expression can contain embedded *assignment operators*, can cause *increasing* or *decreasing* of the value and calling methods."
   ]
  },
  {
   "cell_type": "code",
   "execution_count": null,
   "metadata": {
    "dotnet_interactive": {
     "language": "csharp"
    },
    "vscode": {
     "languageId": "dotnet-interactive.csharp"
    }
   },
   "outputs": [
    {
     "name": "stdout",
     "output_type": "stream",
     "text": [
      "6\r\n",
      "6\r\n"
     ]
    }
   ],
   "source": [
    "int a = 5;\n",
    "int b = ++a;\n",
    "\n",
    "Console.WriteLine(a); // 6\n",
    "Console.WriteLine(b); // 6"
   ]
  },
  {
   "cell_type": "markdown",
   "metadata": {},
   "source": [
    "##### **Expressions, Data Types and Operator Priorities**"
   ]
  },
  {
   "cell_type": "markdown",
   "metadata": {},
   "source": [
    "When writing expressions, the **data types** and the **behavior of the  operators** should be considered.  \n",
    "   \n",
    "Ignoring this can lead to *unexpected results*:"
   ]
  },
  {
   "cell_type": "code",
   "execution_count": null,
   "metadata": {
    "dotnet_interactive": {
     "language": "csharp"
    },
    "vscode": {
     "languageId": "dotnet-interactive.csharp"
    }
   },
   "outputs": [
    {
     "name": "stdout",
     "output_type": "stream",
     "text": [
      "0\r\n",
      "0.5\r\n"
     ]
    }
   ],
   "source": [
    "double dbl = 1 / 2;\n",
    "\n",
    "Console.WriteLine(dbl); // 0, not 0.5 \n",
    "\n",
    "Console.WriteLine(      // correct result\n",
    "    (double) 1 / 2\n",
    "); "
   ]
  },
  {
   "cell_type": "markdown",
   "metadata": {},
   "source": [
    "##### **Division by Zero**"
   ]
  },
  {
   "cell_type": "markdown",
   "metadata": {},
   "source": [
    "Most programmers think that **division by 0** is an invalid operation and causes an error at runtime (exception) but this is actually *true only for **integer** division by 0*.    \n",
    "   \n",
    "Here is an example, which shows that *fractional division by 0* is `Infinity` or `NaN`:"
   ]
  },
  {
   "cell_type": "code",
   "execution_count": null,
   "metadata": {
    "dotnet_interactive": {
     "language": "csharp"
    },
    "vscode": {
     "languageId": "dotnet-interactive.csharp"
    }
   },
   "outputs": [
    {
     "ename": "Error",
     "evalue": "(3,1): error CS0020: Division by constant zero",
     "output_type": "error",
     "traceback": [
      "(3,1): error CS0020: Division by constant zero"
     ]
    }
   ],
   "source": [
    "// integer division is invalid\n",
    "\n",
    "1 / 0"
   ]
  },
  {
   "cell_type": "code",
   "execution_count": null,
   "metadata": {
    "dotnet_interactive": {
     "language": "csharp"
    },
    "vscode": {
     "languageId": "dotnet-interactive.csharp"
    }
   },
   "outputs": [
    {
     "name": "stdout",
     "output_type": "stream",
     "text": [
      "1.0 / 0.0 = ∞\n",
      "0.0 / 0.0 = NaN\n",
      "\r\n"
     ]
    }
   ],
   "source": [
    "// fractional division\n",
    "\n",
    "Console.WriteLine(\n",
    "    $\"1.0 / 0.0 = {(float) 1 / 0}\\n\" +\n",
    "    $\"0.0 / 0.0 = {(float) 0 / 0}\\n\" \n",
    ");"
   ]
  }
 ],
 "metadata": {
  "kernelspec": {
   "display_name": ".NET (C#)",
   "language": "C#",
   "name": ".net-csharp"
  },
  "language_info": {
   "file_extension": ".cs",
   "mimetype": "text/x-csharp",
   "name": "C#",
   "pygments_lexer": "csharp",
   "version": "9.0"
  },
  "orig_nbformat": 4
 },
 "nbformat": 4,
 "nbformat_minor": 2
}
