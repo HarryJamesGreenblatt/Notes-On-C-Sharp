{
 "cells": [
  {
   "cell_type": "markdown",
   "metadata": {},
   "source": [
    "# 3. Operators and Expressions"
   ]
  },
  {
   "cell_type": "markdown",
   "metadata": {},
   "source": [
    "## Type Conversion and Casting   \n",
    "   \n",
    "##### Generally, *operators* work over arguments with the *same data type*. However, C# has a wide variety of data types from which we can choose the most appropriate for a particular purpose.   \n",
    "   \n",
    "#### To perform an operation on variables of *two different data types* we need to **convert** both to the *same data type*.   \n",
    "#### **Type conversion** (**typecasting**) can be *explicit* and *implicit*.\n",
    "----"
   ]
  },
  {
   "cell_type": "markdown",
   "metadata": {
    "dotnet_interactive": {
     "language": "csharp"
    }
   },
   "source": [
    "#### **Implicit Type Conversion**"
   ]
  },
  {
   "cell_type": "markdown",
   "metadata": {},
   "source": [
    "**Implicit** (**hidden**) **type conversion** is possible only when there is no risk of data loss during the conversion: \n",
    "$$\\text{i.e. when converting from a }\\textit{lower range }\\text{type}\\text{ to a }\\textit{larger range}$$\n",
    "\n",
    "$$(\\text{e.g. converting from }\\textit{int} \\text{ to  } \\textit{long})$$"
   ]
  },
  {
   "cell_type": "markdown",
   "metadata": {},
   "source": [
    "To make an **implicit** conversion, it is *not necessary to use any operator*.   \n",
    "  \n",
    "The **implicit** conversion is *done automatically by the compiler* when you assign a *value with lower range* to a variable with *larger range*.  "
   ]
  },
  {
   "cell_type": "code",
   "execution_count": null,
   "metadata": {
    "dotnet_interactive": {
     "language": "csharp"
    },
    "vscode": {
     "languageId": "dotnet-interactive.csharp"
    }
   },
   "outputs": [
    {
     "data": {
      "text/html": [
       "<div class=\"dni-plaintext\">2.6666667461395264</div>"
      ]
     },
     "metadata": {},
     "output_type": "display_data"
    }
   ],
   "source": [
    "double eight_over_three = (float) 8 / 3;\n",
    "\n",
    "eight_over_three"
   ]
  },
  {
   "cell_type": "markdown",
   "metadata": {},
   "source": [
    "If the expression has *several types* with *different ranges*,  \n",
    "the conversion is executed into the type with the *highest range*."
   ]
  },
  {
   "cell_type": "code",
   "execution_count": null,
   "metadata": {
    "dotnet_interactive": {
     "language": "csharp"
    },
    "vscode": {
     "languageId": "dotnet-interactive.csharp"
    }
   },
   "outputs": [
    {
     "name": "stdout",
     "output_type": "stream",
     "text": [
      "5 (long) + 5 (int) = 10\n",
      "5 (long) + 5 (int) = (long type result) ? \t True\r\n"
     ]
    }
   ],
   "source": [
    "int five_as_smaller_sized_int = 5;\n",
    "\n",
    "long five_as_larger_sized_long = 5;\n",
    "\n",
    "Console.WriteLine(\n",
    "    $\"5 (long) + 5 (int) = {five_as_larger_sized_long + five_as_smaller_sized_int}\"+\n",
    "    '\\n'+\n",
    "    $\"5 (long) + 5 (int) = (long type result) ? \\t {five_as_larger_sized_long + five_as_smaller_sized_int is long}\"\n",
    ");\n"
   ]
  },
  {
   "cell_type": "markdown",
   "metadata": {},
   "source": [
    "##### Possible Implicit Conversions"
   ]
  },
  {
   "cell_type": "markdown",
   "metadata": {},
   "source": [
    "- `sbyte` $\\longrightarrow$ `short`, `int`, `long`, `float`, `double`, `decimal`\n",
    "- `byte` $\\longrightarrow$ `short`, `ushort`, `int`, `uint`, `long`, `ulong`, `float`, `double`, `decimal`\n",
    "- `short` $\\longrightarrow$ `int`, `long`, `float`, `double`, `decimal`\n",
    "- `ushort` $\\longrightarrow$ `int`, `uint`, `long`, `ulong`, `float`, `double`, `decimal`\n",
    "- `char` $\\longrightarrow$ `ushort`, `int`, `uint`, `long`, `ulong`, `float`, `double`, `decimal`\n",
    "    - (although `char` is a *character type* in some cases it may be regarded as a *number* and have a numeric type of behavior, it can even participate in numeric expressions)\n",
    "- `uint` $\\longrightarrow$ `long`, `ulong`, `float`, `double`, `decimal`\n",
    "- `int` $\\longrightarrow$ `long`, `float`, `double`, `decimal`\n",
    "- `long` $\\longrightarrow$ `float`, `double`, `decimal`\n",
    "- `ulong` $\\longrightarrow$ `float`, `double`, `decimal`\n",
    "- `float` $\\longrightarrow$ `double`"
   ]
  },
  {
   "cell_type": "markdown",
   "metadata": {},
   "source": [
    "*Generally*, there is **no data loss when converting types of smaller range to types\n",
    "with a larger range**.  \n",
    "*In most cases*, the numerical value *remains the same after conversion*.  \n",
    "   \n",
    "There are, however, *a few exceptions*:    \n",
    "   \n",
    "- When you convert type `int` to type `float` (*32-bit* values)the difference is that `int` *uses all bits for a whole number*, whereas `float` has a *part of bits used for representation of a fractional part*.   \n",
    "   \n",
    "    -  Hence, **loss of precision is possible** because of rounding when conversion from `int` to `float` is made.\n",
    "<br>\n",
    "<br>\n",
    " \n",
    "- The same applies for the conversion of *64-bit* `long` to *64-bit* `double`."
   ]
  },
  {
   "cell_type": "markdown",
   "metadata": {},
   "source": [
    "<br>"
   ]
  },
  {
   "cell_type": "markdown",
   "metadata": {},
   "source": [
    "#### **Explicit Type Conversion**"
   ]
  },
  {
   "cell_type": "markdown",
   "metadata": {},
   "source": [
    "Used whenever there is a **possibility of data loss**.   \n",
    "\n",
    "When converting *floating point type* to *integer type*, there is *always a loss of data* coming from the elimination of the fractional part, so an **explicit conversion** is obligatory (e.g. `double` to `long`).  \n",
    "   \n",
    "To make such a conversion, it is necessary to use the **operator for data conversion** `(type)`.\n",
    "\n",
    "There may also be **data loss** when converting a type with a *wider range* to type with a *narrower one* (`double` to `float`, or `long` to `int`)."
   ]
  },
  {
   "cell_type": "markdown",
   "metadata": {},
   "source": [
    "##### Data Loss During Type Conversion"
   ]
  },
  {
   "cell_type": "code",
   "execution_count": null,
   "metadata": {
    "dotnet_interactive": {
     "language": "csharp"
    },
    "vscode": {
     "languageId": "dotnet-interactive.csharp"
    }
   },
   "outputs": [],
   "source": [
    "public double dub = 5.2d;"
   ]
  },
  {
   "cell_type": "code",
   "execution_count": null,
   "metadata": {
    "dotnet_interactive": {
     "language": "csharp"
    },
    "vscode": {
     "languageId": "dotnet-interactive.csharp"
    }
   },
   "outputs": [
    {
     "ename": "Error",
     "evalue": "(3,16): error CS0266: Cannot implicitly convert type 'double' to 'long'. An explicit conversion exists (are you missing a cast?)",
     "output_type": "error",
     "traceback": [
      "(3,16): error CS0266: Cannot implicitly convert type 'double' to 'long'. An explicit conversion exists (are you missing a cast?)"
     ]
    }
   ],
   "source": [
    "// without explicit type conversion\n",
    "\n",
    "long fromDub = dub;"
   ]
  },
  {
   "cell_type": "code",
   "execution_count": null,
   "metadata": {
    "dotnet_interactive": {
     "language": "csharp"
    },
    "vscode": {
     "languageId": "dotnet-interactive.csharp"
    }
   },
   "outputs": [
    {
     "data": {
      "text/html": [
       "<div class=\"dni-plaintext\">5</div>"
      ]
     },
     "metadata": {},
     "output_type": "display_data"
    }
   ],
   "source": [
    "// with explicit type conversion to long, the fractional part will be lost\n",
    "\n",
    "public long LngFromDub = (long) dub;\n",
    "\n",
    "LngFromDub"
   ]
  },
  {
   "cell_type": "code",
   "execution_count": null,
   "metadata": {
    "dotnet_interactive": {
     "language": "csharp"
    },
    "vscode": {
     "languageId": "dotnet-interactive.csharp"
    }
   },
   "outputs": [
    {
     "data": {
      "text/html": [
       "<div class=\"dni-plaintext\">5000000000</div>"
      ]
     },
     "metadata": {},
     "output_type": "display_data"
    }
   ],
   "source": [
    "// Assigning a massive value to the double type that wont fit in an int type\n",
    "\n",
    "dub = 5e9d;\n",
    "\n",
    "dub"
   ]
  },
  {
   "cell_type": "code",
   "execution_count": null,
   "metadata": {
    "dotnet_interactive": {
     "language": "csharp"
    },
    "vscode": {
     "languageId": "dotnet-interactive.csharp"
    }
   },
   "outputs": [
    {
     "name": "stdout",
     "output_type": "stream",
     "text": [
      "The intFromDub value is now -2147483648\n",
      "Recall that the minimum int value is also -2147483648\r\n"
     ]
    }
   ],
   "source": [
    "// Observe that since the value is too large, the minimum int value is returned\n",
    "\n",
    "int intFromDub = (int) dub;\n",
    "\n",
    "Console.WriteLine(\n",
    "    $\"The intFromDub value is now {intFromDub}\\n\" +\n",
    "    $\"Recall that the minimum int value is also {int.MinValue}\"\n",
    ");"
   ]
  },
  {
   "cell_type": "markdown",
   "metadata": {},
   "source": [
    "\n",
    "Note that *it is not always possible to predict what the value of a variable will be after its scope overflows*!   \n",
    "   \n",
    "Therefore, use sufficiently large types and be careful when switching to a \"smaller\" type."
   ]
  },
  {
   "cell_type": "markdown",
   "metadata": {},
   "source": [
    "<br>"
   ]
  },
  {
   "cell_type": "markdown",
   "metadata": {},
   "source": [
    "##### Forcing Overflow Exceptions During Casting"
   ]
  },
  {
   "cell_type": "markdown",
   "metadata": {},
   "source": [
    "Sometimes it is convenient, instead of getting the wrong result, when a type **overflows** during switching from *larger* to *smaller* type, to get **notification** of the problem.   \n",
    "   \n",
    "This is done by the keyword `checked` which includes a *check for overflow in integer types*:"
   ]
  },
  {
   "cell_type": "code",
   "execution_count": null,
   "metadata": {
    "dotnet_interactive": {
     "language": "csharp"
    },
    "vscode": {
     "languageId": "dotnet-interactive.csharp"
    }
   },
   "outputs": [
    {
     "ename": "Error",
     "evalue": "System.OverflowException: Arithmetic operation resulted in an overflow.\r\n   at Submission#29.<<Initialize>>d__0.MoveNext()\r\n--- End of stack trace from previous location ---\r\n   at Microsoft.CodeAnalysis.Scripting.ScriptExecutionState.RunSubmissionsAsync[TResult](ImmutableArray`1 precedingExecutors, Func`2 currentExecutor, StrongBox`1 exceptionHolderOpt, Func`2 catchExceptionOpt, CancellationToken cancellationToken)",
     "output_type": "error",
     "traceback": [
      "System.OverflowException: Arithmetic operation resulted in an overflow.\r\n",
      "   at Submission#29.<<Initialize>>d__0.MoveNext()\r\n",
      "--- End of stack trace from previous location ---\r\n",
      "   at Microsoft.CodeAnalysis.Scripting.ScriptExecutionState.RunSubmissionsAsync[TResult](ImmutableArray`1 precedingExecutors, Func`2 currentExecutor, StrongBox`1 exceptionHolderOpt, Func`2 catchExceptionOpt, CancellationToken cancellationToken)"
     ]
    }
   ],
   "source": [
    "// Here an exception (i.e.notification of an error) of type OverflowException is raised\n",
    "\n",
    "checked ( (int) dub ) "
   ]
  },
  {
   "cell_type": "markdown",
   "metadata": {},
   "source": [
    "##### Possible Explicit Conversions"
   ]
  },
  {
   "cell_type": "markdown",
   "metadata": {},
   "source": [
    "The **explicit conversions** between numeral types in C# are possible between any couple among the following types:\n",
    "\n",
    "- `sbyte`\n",
    "- `byte`\n",
    "- `short`\n",
    "- `ushort`\n",
    "- `char`\n",
    "- `int`\n",
    "- `uint`\n",
    "- `long`\n",
    "- `ulong`\n",
    "- `float`\n",
    "- `double`\n",
    "- `decimal`"
   ]
  },
  {
   "cell_type": "markdown",
   "metadata": {},
   "source": [
    "Note that in these conversions data *can be lost*, like data about the *number size* or information about its *precision*.   \n",
    "\n",
    "Notice that conversion *to or from `string`* is *not possible through **typecasting***."
   ]
  },
  {
   "cell_type": "markdown",
   "metadata": {},
   "source": [
    "<br>"
   ]
  },
  {
   "cell_type": "markdown",
   "metadata": {},
   "source": [
    "#### **Conversion to String**"
   ]
  },
  {
   "cell_type": "markdown",
   "metadata": {},
   "source": [
    "If it is necessary we can convert *any type of data*, including the value `null`, to `string`.   \n",
    "   \n",
    "The **conversion of strings** is done **automatically** whenever you use the **concatenation operator** (`+`) and one of the arguments is not of type string.    \n",
    "   \n",
    "- In this case the argument is *converted to a `string`*, and the operator *returns a new `string`* representing the **concatenation** of the two strings."
   ]
  },
  {
   "cell_type": "markdown",
   "metadata": {
    "dotnet_interactive": {
     "language": "csharp"
    }
   },
   "source": [
    "Another way to convert different objects to type `string` is to call the method `ToString()` of the variable or the value.   \n",
    "   \n",
    "It is valid for all data types in .NET Framework.   \n",
    "- Even calling `3.ToString()` is fully valid in C# and the result will return the `string` \"3\"."
   ]
  },
  {
   "cell_type": "code",
   "execution_count": null,
   "metadata": {
    "dotnet_interactive": {
     "language": "csharp"
    },
    "vscode": {
     "languageId": "dotnet-interactive.csharp"
    }
   },
   "outputs": [
    {
     "data": {
      "text/html": [
       "<span><a href=\"https://docs.microsoft.com/dotnet/api/system.string?view=net-5.0\">System.String</a></span>"
      ]
     },
     "metadata": {},
     "output_type": "display_data"
    }
   ],
   "source": [
    "3.ToString().GetType()"
   ]
  },
  {
   "cell_type": "markdown",
   "metadata": {},
   "source": [
    "Note that the `+` for concatenating strings *can cause unpleasant effects on the addition of numbers*, because it **has equal priority with the operator `+` for mathematical addition**.   \n",
    "  \n",
    "Unless the priorities of the operations are changed by placing *brackets`()`*, they will *always be executed from left to right*."
   ]
  },
  {
   "cell_type": "code",
   "execution_count": null,
   "metadata": {
    "dotnet_interactive": {
     "language": "csharp"
    },
    "vscode": {
     "languageId": "dotnet-interactive.csharp"
    }
   },
   "outputs": [
    {
     "name": "stdout",
     "output_type": "stream",
     "text": [
      "Sum = 36\n",
      "Sum = 1224\r\n"
     ]
    }
   ],
   "source": [
    "int a = 12, b = 24;\n",
    "\n",
    "string correctSumConvertedToString = \"Sum = \" + (a + b);\n",
    "string incorrectSumConvertedToString = \"Sum = \" + a + b;\n",
    "\n",
    "Console.WriteLine(\n",
    "    correctSumConvertedToString +    // actually sums a and b \n",
    "    '\\n' + \n",
    "    incorrectSumConvertedToString    // only concatenates a with b\n",
    ");\n"
   ]
  }
 ],
 "metadata": {
  "kernelspec": {
   "display_name": ".NET (C#)",
   "language": "C#",
   "name": ".net-csharp"
  },
  "language_info": {
   "file_extension": ".cs",
   "mimetype": "text/x-csharp",
   "name": "C#",
   "pygments_lexer": "csharp",
   "version": "9.0"
  },
  "orig_nbformat": 4
 },
 "nbformat": 4,
 "nbformat_minor": 2
}
