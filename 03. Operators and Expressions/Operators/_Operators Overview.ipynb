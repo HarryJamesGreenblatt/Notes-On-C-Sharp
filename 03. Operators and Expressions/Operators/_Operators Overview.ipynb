{
 "cells": [
  {
   "cell_type": "markdown",
   "metadata": {},
   "source": [
    "# 3. Operators and Expressions"
   ]
  },
  {
   "cell_type": "markdown",
   "metadata": {
    "dotnet_interactive": {
     "language": "csharp"
    }
   },
   "source": [
    "## Operators Overview\n",
    "#### Allow processing of *primitive data types* and *objects*. They take as an input *one or more **operands*** and return some *value* as a result.   \n",
    "#### **Operators** in C# are *special characters* (such as `+`, `.`, `^`, etc.), and they perform $\\text{transformations}$ on *one*, *two* or *three* ***operands***.  \n",
    "#### Examples of **operators** in C# are the signs for **adding**, **subtracting**, **multiplication** and **division** from math (`+`, `-`, `*`, `/`) and the operations they perform on the *integers* and the *real numbers*.   \n",
    "\n",
    "---"
   ]
  },
  {
   "cell_type": "markdown",
   "metadata": {},
   "source": [
    "##### **Operator Categories**"
   ]
  },
  {
   "cell_type": "markdown",
   "metadata": {},
   "source": [
    "<div>\n",
    "\n",
    "<style>\n",
    "    table{\n",
    "        margin-left: 50px;\n",
    "    }\n",
    "</style>\n",
    "\n",
    "\n",
    "|Category|Operators|Function|\n",
    "|   ---  |   ---   |   ---  |\n",
    "|arithmetic|`-`, `+`, `*`, `/`, `%`, `++`,`--` |they are used to perform simple mathematical operations|\n",
    "|assignment|`=`, `+=`, `-=`, `*=`, `/=`, `%=`, `&=`, `\\|=`, `^=`, `<<=`, `>>=`|allow assigning values to variables<br><br>*right-associative*,<br>(i.e. *the expressions are calculated from right to left*)|\n",
    "|comparison|`==,!=`, `>`, `<`, `>=`, `<=` |allow comparison of two literals and/or variables|\n",
    "|logical|`&&`, `\\|\\|`, `!`, `^` |operators that work with Boolean data types and Boolean expressions|\n",
    "|binary|`&`, `\\|`, `^`, `~`, `<<`, `>>` |used to perform operations on the binary representation of numerical data<br><br>*left-associative*,<br>(i.e. *the expressions are calculated from left to right*)|\n",
    "|type conversion|`(type)`, `as`, `is`, `typeof`, `sizeof` |allow conversion of data from one type to another|\n",
    "|string concatenation|`+`|combine independent strings together|\n",
    "|other|`.`, `new`, `()`, `[]`, `?:`, `??` |various|\n",
    "\n",
    "</div>"
   ]
  },
  {
   "cell_type": "markdown",
   "metadata": {},
   "source": [
    "<br>"
   ]
  },
  {
   "cell_type": "markdown",
   "metadata": {},
   "source": [
    "##### **Types of Operators by Number of Arguments**"
   ]
  },
  {
   "cell_type": "markdown",
   "metadata": {},
   "source": [
    "<div>\n",
    "\n",
    "<style>\n",
    "    table{\n",
    "        margin-left: 50px;\n",
    "    }\n",
    "</style>\n",
    "\n",
    "\n",
    "|Operator type|Number of arguments (operands)|\n",
    "|   ---  |   ---   |\n",
    "|   unary  |   takes *one* operand   |\n",
    "|   binary  |   takes *two* operands   |\n",
    "|   ternary  |   takes *thee* operands   |\n",
    "\n",
    "</div>"
   ]
  },
  {
   "cell_type": "markdown",
   "metadata": {},
   "source": [
    "<br>"
   ]
  },
  {
   "cell_type": "markdown",
   "metadata": {},
   "source": [
    "##### **Operator Precedence**"
   ]
  },
  {
   "cell_type": "markdown",
   "metadata": {},
   "source": [
    "<div>\n",
    "<style>\n",
    "    table{\n",
    "        margin-left: 50px;\n",
    "    }\n",
    "    .priority{\n",
    "        border-top: none !important;\n",
    "        border-bottom: none !important;\n",
    "    }\n",
    "    .lowest{\n",
    "        border-top: none !important;\n",
    "    }\n",
    "</style>\n",
    "    <table>\n",
    "        <thead>\n",
    "            <th>\n",
    "                Priority\n",
    "            </th>\n",
    "            <th>\n",
    "                Operators\n",
    "            </th>\n",
    "        </thead>\n",
    "        <tbody>\n",
    "            <tr>\n",
    "                <td class=\"priority\">Highest Priority</td>\n",
    "                <td><code>(</code>...<code>)</code></td>\n",
    "            </tr>\n",
    "            <tr>\n",
    "                <td class=\"priority\"></td>\n",
    "                <td><code>++</code>, <code>--</code> (as postfix), <code>new</code>, <code>(type)</code>, <code>typeof</code>, <code>sizeof</code></td>\n",
    "            </tr>\n",
    "            <tr>\n",
    "                <td class=\"priority\"></td>\n",
    "                <td><code>++</code>, <code>--</code> (as prefix), <code>+</code>, <code>-</code> (unary), <code>!</code>, <code>~</code></td>\n",
    "            </tr>\n",
    "            <tr>\n",
    "                <td class=\"priority\"></td>\n",
    "                <td><code><code>*</code>, <code>/</code>, <code>%</code></td>\n",
    "            </tr>\n",
    "            <tr>\n",
    "                <td class=\"priority\"></td>\n",
    "                <td><code><code>+</code> (string concatenation)</code></td>\n",
    "            </tr>\n",
    "            <tr>\n",
    "                <td class=\"priority\"></td>\n",
    "                <td><code><code>+</code>, <code>-</code></td>\n",
    "            </tr>\n",
    "            <tr>\n",
    "                <td class=\"priority\">...</td>\n",
    "                <td><code><<</code>, <code>>></code></td>\n",
    "            </tr>\n",
    "            <tr>\n",
    "                <td class=\"priority\"></td>\n",
    "                <td><code><</code>, <code>></code>, <code><=</code>, <code>>=</code>, <code>is</code>, <code>as</code></td>\n",
    "            </tr>\n",
    "            <tr>\n",
    "                <td class=\"priority\"></td>\n",
    "                <td><code>==</code>, <code>!=</code></td>\n",
    "            </tr>\n",
    "            <tr>\n",
    "                <td class=\"priority\"></td>\n",
    "                <td><code>&</code>, <code>^</code>, <code>|</code></td>\n",
    "            </tr>\n",
    "            <tr>\n",
    "                <td class=\"priority\"></td>\n",
    "                <td><code>&&</code></td>\n",
    "            </tr>\n",
    "            <tr>\n",
    "                <td class=\"priority\"></td>\n",
    "                <td><code>||</code></td>\n",
    "            </tr>\n",
    "            <tr>\n",
    "                <td class=\"priority\"></td>\n",
    "                <td><code>?:</code>, <code>??</code></td>\n",
    "            </tr>\n",
    "            <tr>\n",
    "                <td class=\"lowest\">Lowest Priority</td>\n",
    "                <td><code>=</code>, <code>*=</code>, <code>/=</code>, <code>%=</code>, <code>+=</code>, <code>-=</code>, <code><<=</code>, <code>>>=</code>, <code>&=</code>, <code>^=</code>, <code>|=</code></td>\n",
    "            </tr>\n",
    "        </tbody>\n",
    "    </table>\n",
    "</div>"
   ]
  }
 ],
 "metadata": {
  "kernelspec": {
   "display_name": ".NET (C#)",
   "language": "C#",
   "name": ".net-csharp"
  },
  "language_info": {
   "file_extension": ".cs",
   "mimetype": "text/x-csharp",
   "name": "C#",
   "pygments_lexer": "csharp",
   "version": "9.0"
  },
  "orig_nbformat": 4
 },
 "nbformat": 4,
 "nbformat_minor": 2
}
