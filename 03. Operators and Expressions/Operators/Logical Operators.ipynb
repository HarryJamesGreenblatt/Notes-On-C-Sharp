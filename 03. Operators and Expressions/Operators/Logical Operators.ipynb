{
 "cells": [
  {
   "cell_type": "markdown",
   "metadata": {},
   "source": [
    "# 3. Operators and Expressions"
   ]
  },
  {
   "cell_type": "markdown",
   "metadata": {},
   "source": [
    "## Logical Operators\n",
    "\n",
    "----\n"
   ]
  },
  {
   "cell_type": "markdown",
   "metadata": {},
   "source": [
    "#### **Overview**"
   ]
  },
  {
   "cell_type": "markdown",
   "metadata": {},
   "source": [
    "**Logical** (**Boolean**) operators take **Boolean** values and return a `bool` result\n",
    "(`true` or `false`).   "
   ]
  },
  {
   "cell_type": "markdown",
   "metadata": {},
   "source": [
    "The following tables contain the **logical operators** in C# and the operations that they perform:"
   ]
  },
  {
   "cell_type": "markdown",
   "metadata": {},
   "source": [
    "<style>td{background: #332;}</style>\n",
    "<center>\n",
    "\n",
    "|Operator|Action|\n",
    "|:---:|:---:|\n",
    "|`!`|logical negation|\n",
    "|`&&`|AND|\n",
    "|`\\|\\|`|OR|\n",
    "|`^`|eXclusive OR|\n",
    "\n",
    "</center>"
   ]
  },
  {
   "cell_type": "markdown",
   "metadata": {},
   "source": [
    "|$x$     |$y$    |$!x$   |$x\\,\\&\\&\\,y$  |$x\\,\\|\\,\\|\\,y$  |$x\\,^\\wedge{\\,y}$  |\n",
    "| :----:   | :----:  |:----:   | :----:  | :----:   | :----:   |\n",
    "|true  |true |`false`|`true`  |`true`  |`false`|\n",
    "|true  |false|`false`|`false` |`true`  |`true` |\n",
    "|false |true |`true` |`false` |`true`  |`true` |\n",
    "|false |false|`true` |`false` |`false` |`false`|"
   ]
  },
  {
   "cell_type": "markdown",
   "metadata": {},
   "source": [
    "<br>"
   ]
  },
  {
   "cell_type": "markdown",
   "metadata": {},
   "source": [
    "#### **Laws of De Morgan**"
   ]
  },
  {
   "cell_type": "markdown",
   "metadata": {
    "dotnet_interactive": {
     "language": "csharp"
    }
   },
   "source": [
    "**Logical operations** fall under the *laws of De Morgan* from the mathematical\n",
    "logic.  \n",
    "   \n",
    "- The *first law* states that *the negation of the conjunction (logical AND) of two\n",
    "propositions is equal to the disjunction (logical OR) of their negations*.   \n",
    "\n",
    "- The *second law* states that *the negation of the disjunction of both statements\n",
    "is equivalent to the conjunction of their negations*."
   ]
  },
  {
   "cell_type": "code",
   "execution_count": null,
   "metadata": {
    "dotnet_interactive": {
     "language": "csharp"
    },
    "vscode": {
     "languageId": "dotnet-interactive.csharp"
    }
   },
   "outputs": [
    {
     "name": "stdout",
     "output_type": "stream",
     "text": [
      "!(a && b) == (!a || !b)?   True\r\n",
      "!(a || b) == (!a && !b)?   True\r\n"
     ]
    }
   ],
   "source": [
    "bool a = true,\n",
    "     b = false;\n",
    "\n",
    "\n",
    "Console.WriteLine(\n",
    "    $\"!(a && b) == (!a || !b)?   {!(a && b) == (!a || !b)}\"\n",
    ");\n",
    "\n",
    "Console.WriteLine(\n",
    "    $\"!(a || b) == (!a && !b)?   {!(a || b) == (!a && !b)}\"\n",
    ");"
   ]
  },
  {
   "cell_type": "markdown",
   "metadata": {},
   "source": [
    "<br>"
   ]
  },
  {
   "cell_type": "markdown",
   "metadata": {},
   "source": [
    "#### **Short-Circuit Logical Operatiors**"
   ]
  },
  {
   "cell_type": "markdown",
   "metadata": {},
   "source": [
    "The logical operators **`&&`** and **`||`** are also called **short-circuit**, because they *do not lose time in additional unnecessary calculations*.   "
   ]
  },
  {
   "cell_type": "code",
   "execution_count": null,
   "metadata": {
    "dotnet_interactive": {
     "language": "csharp"
    },
    "vscode": {
     "languageId": "dotnet-interactive.csharp"
    }
   },
   "outputs": [
    {
     "data": {
      "text/html": [
       "<div class=\"dni-plaintext\">False</div>"
      ]
     },
     "metadata": {},
     "output_type": "display_data"
    }
   ],
   "source": [
    "// right side never gets evaluated\n",
    "\n",
    "false && true"
   ]
  },
  {
   "cell_type": "code",
   "execution_count": null,
   "metadata": {
    "dotnet_interactive": {
     "language": "csharp"
    },
    "vscode": {
     "languageId": "dotnet-interactive.csharp"
    }
   },
   "outputs": [
    {
     "data": {
      "text/html": [
       "<div class=\"dni-plaintext\">True</div>"
      ]
     },
     "metadata": {},
     "output_type": "display_data"
    }
   ],
   "source": [
    "// right side never gets evaluated\n",
    "\n",
    "true || false"
   ]
  },
  {
   "cell_type": "markdown",
   "metadata": {},
   "source": [
    "<br>"
   ]
  },
  {
   "cell_type": "markdown",
   "metadata": {},
   "source": [
    "#### **Fuil-Circuit Logical Operatiors**"
   ]
  },
  {
   "cell_type": "markdown",
   "metadata": {},
   "source": [
    "The operators for comparison, **`&`** and **`|`** are different in that **both operands are calculated one after the other**, regardless of the initial outcome."
   ]
  },
  {
   "cell_type": "code",
   "execution_count": null,
   "metadata": {
    "dotnet_interactive": {
     "language": "csharp"
    },
    "vscode": {
     "languageId": "dotnet-interactive.csharp"
    }
   },
   "outputs": [
    {
     "data": {
      "text/html": [
       "<div class=\"dni-plaintext\">False</div>"
      ]
     },
     "metadata": {},
     "output_type": "display_data"
    }
   ],
   "source": [
    "// right side still gets evaluated\n",
    "\n",
    "false & true"
   ]
  },
  {
   "cell_type": "code",
   "execution_count": null,
   "metadata": {
    "dotnet_interactive": {
     "language": "csharp"
    },
    "vscode": {
     "languageId": "dotnet-interactive.csharp"
    }
   },
   "outputs": [
    {
     "data": {
      "text/html": [
       "<div class=\"dni-plaintext\">True</div>"
      ]
     },
     "metadata": {},
     "output_type": "display_data"
    }
   ],
   "source": [
    "// right side still gets evaluated\n",
    "\n",
    "true | false"
   ]
  },
  {
   "cell_type": "markdown",
   "metadata": {},
   "source": [
    "The **`^`** operator, also known as **exclusive OR (XOR)**, belongs to the fullcircuit operators, because *both operands are calculated one after the other*.    \n",
    "   \n",
    "The result of applying the operator is `true` if **exactly one** of the operands is true, but *not both simultaneously*. "
   ]
  },
  {
   "cell_type": "code",
   "execution_count": null,
   "metadata": {
    "dotnet_interactive": {
     "language": "csharp"
    },
    "vscode": {
     "languageId": "dotnet-interactive.csharp"
    }
   },
   "outputs": [
    {
     "data": {
      "text/html": [
       "<div class=\"dni-plaintext\">False</div>"
      ]
     },
     "metadata": {},
     "output_type": "display_data"
    }
   ],
   "source": [
    "// both sides evaluated\n",
    "\n",
    "true ^ true"
   ]
  },
  {
   "cell_type": "markdown",
   "metadata": {},
   "source": [
    "---"
   ]
  }
 ],
 "metadata": {
  "kernelspec": {
   "display_name": ".NET (C#)",
   "language": "C#",
   "name": ".net-csharp"
  },
  "language_info": {
   "file_extension": ".cs",
   "mimetype": "text/x-csharp",
   "name": "C#",
   "pygments_lexer": "csharp",
   "version": "9.0"
  },
  "orig_nbformat": 4
 },
 "nbformat": 4,
 "nbformat_minor": 2
}
