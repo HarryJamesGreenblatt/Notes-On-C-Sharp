{
 "cells": [
  {
   "cell_type": "markdown",
   "metadata": {},
   "source": [
    "# 3. Operators and Expressions"
   ]
  },
  {
   "cell_type": "markdown",
   "metadata": {},
   "source": [
    "## Comparison Operators\n",
    "\n",
    "---"
   ]
  },
  {
   "cell_type": "markdown",
   "metadata": {},
   "source": [
    "#### **Overview**"
   ]
  },
  {
   "cell_type": "markdown",
   "metadata": {},
   "source": [
    "*Comparison operators* in C# are used to *compare two or more operands*.   \n",
    "    \n",
    "C# supports the following *comparison operators*:\n",
    "\n",
    "<center>\n",
    "\n",
    "|Operator|Action|\n",
    "|:---:|:---:|\n",
    "|`>`|greater than|\n",
    "|`<`|less than|\n",
    "|`>=`|greater than or equal to|\n",
    "|`<=`|less than or equal to|\n",
    "|`==`|equality|\n",
    "|`!=`|not equal to|\n",
    "\n",
    "</center>"
   ]
  },
  {
   "cell_type": "code",
   "execution_count": null,
   "metadata": {
    "dotnet_interactive": {
     "language": "csharp"
    },
    "vscode": {
     "languageId": "dotnet-interactive.csharp"
    }
   },
   "outputs": [
    {
     "name": "stdout",
     "output_type": "stream",
     "text": [
      "1 > 2  :  False\r\n",
      "1 < 2  :  True\r\n",
      "1 >= 2 :  False\r\n",
      "1 <= 2 :  True\r\n",
      "1 == 2 :  False\r\n",
      "1 != 2 :  True\r\n"
     ]
    }
   ],
   "source": [
    "Console.WriteLine(\"1 > 2  :  \" + (1 > 2)); // True\n",
    "Console.WriteLine(\"1 < 2  :  \" + (1 < 2)); // False\n",
    "Console.WriteLine(\"1 >= 2 :  \" + (1 >= 2)); // True\n",
    "Console.WriteLine(\"1 <= 2 :  \" + (1 <= 2)); // False\n",
    "Console.WriteLine(\"1 == 2 :  \" + (1 == 2)); // False\n",
    "Console.WriteLine(\"1 != 2 :  \" + (1 != 2)); // True"
   ]
  },
  {
   "cell_type": "markdown",
   "metadata": {},
   "source": [
    "All **comparison operators** in C# are **binary** (take two operands) and the returned result is a *Boolean* value (`true` or `false`). \n",
    "\n",
    "Comparison operators have *lower priority than arithmetical operators*, but *higher than the assignment operators*. "
   ]
  },
  {
   "cell_type": "markdown",
   "metadata": {},
   "source": [
    "<br>"
   ]
  },
  {
   "cell_type": "markdown",
   "metadata": {},
   "source": [
    "#### **Types of Comparisons** "
   ]
  },
  {
   "cell_type": "markdown",
   "metadata": {},
   "source": [
    "There are several types of data that can be compared: \n",
    "- *Numbers* (`int`, `long`, `float`, `double`, `ushort`, `decimal`, …) \n",
    "- *Characters* (`char`) \n",
    "- *Booleans* (`bool`) \n",
    "- *References to objects*, also known as *object pointers* (`string`, `object`, `array` and others)"
   ]
  },
  {
   "cell_type": "markdown",
   "metadata": {},
   "source": [
    "While **it is allowed to compare expressions of different types**, like an `int` with a `float`, *not every pair of data types can be compared directly*.  \n",
    "   \n",
    "For example, we *cannot* compare a `string` with a number:"
   ]
  },
  {
   "cell_type": "code",
   "execution_count": null,
   "metadata": {
    "dotnet_interactive": {
     "language": "csharp"
    },
    "vscode": {
     "languageId": "dotnet-interactive.csharp"
    }
   },
   "outputs": [
    {
     "ename": "Error",
     "evalue": "(1,1): error CS0019: Operator '==' cannot be applied to operands of type 'string' and 'int'",
     "output_type": "error",
     "traceback": [
      "(1,1): error CS0019: Operator '==' cannot be applied to operands of type 'string' and 'int'"
     ]
    }
   ],
   "source": [
    "\"zero\" == 0"
   ]
  },
  {
   "cell_type": "markdown",
   "metadata": {},
   "source": [
    "##### Comparison of Integers to Characters"
   ]
  },
  {
   "cell_type": "markdown",
   "metadata": {},
   "source": [
    "When comparing **integers** and **characters**, we directly *compare their binary representation in memory*:"
   ]
  },
  {
   "cell_type": "code",
   "execution_count": null,
   "metadata": {
    "dotnet_interactive": {
     "language": "csharp"
    },
    "vscode": {
     "languageId": "dotnet-interactive.csharp"
    }
   },
   "outputs": [
    {
     "data": {
      "text/html": [
       "<div class=\"dni-plaintext\">97</div>"
      ]
     },
     "metadata": {},
     "output_type": "display_data"
    }
   ],
   "source": [
    "Convert.ToInt32('a')"
   ]
  },
  {
   "cell_type": "code",
   "execution_count": null,
   "metadata": {
    "dotnet_interactive": {
     "language": "csharp"
    },
    "vscode": {
     "languageId": "dotnet-interactive.csharp"
    }
   },
   "outputs": [
    {
     "data": {
      "text/plain": [
       "1100001"
      ]
     },
     "metadata": {},
     "output_type": "display_data"
    }
   ],
   "source": [
    "// the binary representation of 'a'\n",
    "\n",
    "Convert.ToString(\n",
    "    Convert.ToInt32('a'),\n",
    "    2\n",
    ")"
   ]
  },
  {
   "cell_type": "code",
   "execution_count": null,
   "metadata": {
    "dotnet_interactive": {
     "language": "csharp"
    },
    "vscode": {
     "languageId": "dotnet-interactive.csharp"
    }
   },
   "outputs": [
    {
     "data": {
      "text/html": [
       "<div class=\"dni-plaintext\">True</div>"
      ]
     },
     "metadata": {},
     "output_type": "display_data"
    }
   ],
   "source": [
    "'a' == 97"
   ]
  },
  {
   "cell_type": "code",
   "execution_count": null,
   "metadata": {
    "dotnet_interactive": {
     "language": "csharp"
    },
    "vscode": {
     "languageId": "dotnet-interactive.csharp"
    }
   },
   "outputs": [
    {
     "data": {
      "text/html": [
       "<div class=\"dni-plaintext\">False</div>"
      ]
     },
     "metadata": {},
     "output_type": "display_data"
    }
   ],
   "source": [
    "'a' == 'b'"
   ]
  },
  {
   "cell_type": "markdown",
   "metadata": {},
   "source": [
    "##### Comparison of References to Objects"
   ]
  },
  {
   "cell_type": "markdown",
   "metadata": {},
   "source": [
    "When comparing **reference** type variables, we *compare the addresses they hold*, i.e. we check whether they *point to the same location in the memory*, i.e. to the *same `object`*.   \n",
    "   \n",
    "Two **object pointers** (**references**) can refer to the *same object* or to *different objects*, or one of them can point to *nowhere* (to have `null` value)."
   ]
  },
  {
   "cell_type": "code",
   "execution_count": null,
   "metadata": {
    "dotnet_interactive": {
     "language": "csharp"
    },
    "vscode": {
     "languageId": "dotnet-interactive.csharp"
    }
   },
   "outputs": [],
   "source": [
    "string our_reference_type = \"A reference type\";\n",
    "\n",
    "\n",
    "string another_pointing_at_same_place_in_memory = \n",
    "    our_reference_type;\n",
    "\n",
    "\n",
    "string yet_another_that_isnt_but_says_same_thing = \"A reference \";\n",
    "       yet_another_that_isnt_but_says_same_thing += \"type\";"
   ]
  },
  {
   "cell_type": "code",
   "execution_count": null,
   "metadata": {
    "dotnet_interactive": {
     "language": "csharp"
    },
    "vscode": {
     "languageId": "dotnet-interactive.csharp"
    }
   },
   "outputs": [
    {
     "name": "stdout",
     "output_type": "stream",
     "text": [
      "A reference type\n",
      "A reference type\n",
      "A reference type\r\n"
     ]
    }
   ],
   "source": [
    "Console.WriteLine(\n",
    "    our_reference_type + \n",
    "    \"\\n\" +\n",
    "    another_pointing_at_same_place_in_memory + \n",
    "    \"\\n\" +\n",
    "    yet_another_that_isnt_but_says_same_thing\n",
    ")"
   ]
  },
  {
   "cell_type": "markdown",
   "metadata": {},
   "source": [
    "Observe that, when compared directly as `string` types,   \n",
    "*only the **values**, not addresses, are considered*.\n"
   ]
  },
  {
   "cell_type": "code",
   "execution_count": null,
   "metadata": {
    "dotnet_interactive": {
     "language": "csharp"
    },
    "vscode": {
     "languageId": "dotnet-interactive.csharp"
    }
   },
   "outputs": [
    {
     "data": {
      "text/html": [
       "<div class=\"dni-plaintext\">True</div>"
      ]
     },
     "metadata": {},
     "output_type": "display_data"
    }
   ],
   "source": [
    "our_reference_type == another_pointing_at_same_place_in_memory "
   ]
  },
  {
   "cell_type": "code",
   "execution_count": null,
   "metadata": {
    "dotnet_interactive": {
     "language": "csharp"
    },
    "vscode": {
     "languageId": "dotnet-interactive.csharp"
    }
   },
   "outputs": [
    {
     "data": {
      "text/html": [
       "<div class=\"dni-plaintext\">True</div>"
      ]
     },
     "metadata": {},
     "output_type": "display_data"
    }
   ],
   "source": [
    "our_reference_type == yet_another_that_isnt_but_says_same_thing"
   ]
  },
  {
   "cell_type": "markdown",
   "metadata": {},
   "source": [
    "However, when compared as `object` types,    \n",
    "*only the **adddresses**, not the values, are considered*."
   ]
  },
  {
   "cell_type": "code",
   "execution_count": null,
   "metadata": {
    "dotnet_interactive": {
     "language": "csharp"
    },
    "vscode": {
     "languageId": "dotnet-interactive.csharp"
    }
   },
   "outputs": [
    {
     "data": {
      "text/html": [
       "<div class=\"dni-plaintext\">True</div>"
      ]
     },
     "metadata": {},
     "output_type": "display_data"
    }
   ],
   "source": [
    "((object)our_reference_type) == ((object)another_pointing_at_same_place_in_memory)"
   ]
  },
  {
   "cell_type": "code",
   "execution_count": null,
   "metadata": {
    "dotnet_interactive": {
     "language": "csharp"
    },
    "vscode": {
     "languageId": "dotnet-interactive.csharp"
    }
   },
   "outputs": [
    {
     "data": {
      "text/html": [
       "<div class=\"dni-plaintext\">False</div>"
      ]
     },
     "metadata": {},
     "output_type": "display_data"
    }
   ],
   "source": [
    "((object)our_reference_type) == ((object)yet_another_that_isnt_but_says_same_thing)"
   ]
  },
  {
   "cell_type": "markdown",
   "metadata": {},
   "source": [
    "----"
   ]
  }
 ],
 "metadata": {
  "kernelspec": {
   "display_name": ".NET (C#)",
   "language": "C#",
   "name": ".net-csharp"
  },
  "language_info": {
   "file_extension": ".cs",
   "mimetype": "text/x-csharp",
   "name": "C#",
   "pygments_lexer": "csharp",
   "version": "9.0"
  },
  "orig_nbformat": 4
 },
 "nbformat": 4,
 "nbformat_minor": 2
}
