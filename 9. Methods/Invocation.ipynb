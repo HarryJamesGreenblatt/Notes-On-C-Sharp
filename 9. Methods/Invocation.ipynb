{
 "cells": [
  {
   "attachments": {},
   "cell_type": "markdown",
   "metadata": {},
   "source": [
    "# 9. Methods"
   ]
  },
  {
   "attachments": {},
   "cell_type": "markdown",
   "metadata": {
    "dotnet_interactive": {
     "language": "csharp"
    },
    "polyglot_notebook": {
     "kernelName": "csharp"
    }
   },
   "source": [
    "## Invocation\n",
    "___"
   ]
  },
  {
   "attachments": {},
   "cell_type": "markdown",
   "metadata": {
    "dotnet_interactive": {
     "language": "csharp"
    },
    "polyglot_notebook": {
     "kernelName": "csharp"
    }
   },
   "source": [
    "**Invoking** or **calling** a Method is actually the process of simply executing the code contained in the Method’s body.  \n",
    "   \n",
    "It is very easy to **invoke** a Method.  \n",
    "The only thing that has to be done is to reference the Method’s *signature*:"
   ]
  },
  {
   "attachments": {},
   "cell_type": "markdown",
   "metadata": {
    "dotnet_interactive": {
     "language": "csharp"
    },
    "polyglot_notebook": {
     "kernelName": "csharp"
    }
   },
   "source": [
    "```c#\n",
    "method_name ( [ param_list ] );\n",
    "```"
   ]
  },
  {
   "attachments": {},
   "cell_type": "markdown",
   "metadata": {
    "dotnet_interactive": {
     "language": "csharp"
    },
    "polyglot_notebook": {
     "kernelName": "csharp"
    }
   },
   "source": [
    "To clarify how method **invocation** works,  \n",
    "the following example shows how Some Arbitrary Method might be **called**:"
   ]
  },
  {
   "cell_type": "code",
   "execution_count": 1,
   "metadata": {
    "dotnet_interactive": {
     "language": "csharp"
    },
    "polyglot_notebook": {
     "kernelName": "csharp"
    },
    "vscode": {
     "languageId": "polyglot-notebook"
    }
   },
   "outputs": [],
   "source": [
    "// DECLARATION of a locally-scoped, static Method.\n",
    "static void SomeArbitraryMethod()\n",
    "{\n",
    "\n",
    "    // IMPLEMENTATION of the Method\n",
    "    Console.WriteLine(\"Here's some arbitrary static Method\");\n",
    "    \n",
    "}"
   ]
  },
  {
   "cell_type": "code",
   "execution_count": 2,
   "metadata": {
    "dotnet_interactive": {
     "language": "csharp"
    },
    "polyglot_notebook": {
     "kernelName": "csharp"
    },
    "vscode": {
     "languageId": "polyglot-notebook"
    }
   },
   "outputs": [
    {
     "name": "stdout",
     "output_type": "stream",
     "text": [
      "Here's some arbitrary static Method\r\n"
     ]
    }
   ],
   "source": [
    "// INVOCATION of the Method\n",
    "\n",
    "SomeArbitraryMethod();"
   ]
  },
  {
   "attachments": {},
   "cell_type": "markdown",
   "metadata": {
    "dotnet_interactive": {
     "language": "csharp"
    },
    "polyglot_notebook": {
     "kernelName": "csharp"
    }
   },
   "source": [
    "<br>"
   ]
  },
  {
   "attachments": {},
   "cell_type": "markdown",
   "metadata": {
    "dotnet_interactive": {
     "language": "csharp"
    },
    "polyglot_notebook": {
     "kernelName": "csharp"
    }
   },
   "source": [
    "### Who Takes Control over the Program when We Invoke a Method?"
   ]
  },
  {
   "attachments": {},
   "cell_type": "markdown",
   "metadata": {
    "dotnet_interactive": {
     "language": "csharp"
    },
    "polyglot_notebook": {
     "kernelName": "csharp"
    }
   },
   "source": [
    "When a Method executes it takes control over the program.    \n",
    "   \n",
    "If, in the caller Method, however, we call another one, the caller will then give the control to the called Method. \n",
    "\n",
    "The called Method will return back the control to the caller."
   ]
  },
  {
   "cell_type": "code",
   "execution_count": 7,
   "metadata": {
    "dotnet_interactive": {
     "language": "csharp"
    },
    "polyglot_notebook": {
     "kernelName": "csharp"
    },
    "vscode": {
     "languageId": "polyglot-notebook"
    }
   },
   "outputs": [],
   "source": [
    "// define a MethodControlTest class to serve as an example\n",
    "class MethodControlTest\n",
    "{\n",
    "\n",
    "    // DECLARE a simple static Method that doesn't return anything\n",
    "    static void PrintLogo()\n",
    "    {\n",
    "        // IMPLEMENT a basic message on the console that prints \n",
    "        // Microsoft's name and website  \n",
    "        Console.WriteLine(\"Microsoft\");\n",
    "        Console.WriteLine(\"www.microsoft.com\");\n",
    "    }\n",
    "\n",
    "    public void Main()\n",
    "    {\n",
    "        // ... Some code here ...\n",
    "        \n",
    "        PrintLogo();\n",
    "    \n",
    "        // ... Some code here ...\n",
    "    }\n",
    "    \n",
    "}"
   ]
  },
  {
   "cell_type": "code",
   "execution_count": 9,
   "metadata": {
    "dotnet_interactive": {
     "language": "csharp"
    },
    "polyglot_notebook": {
     "kernelName": "csharp"
    },
    "vscode": {
     "languageId": "polyglot-notebook"
    }
   },
   "outputs": [
    {
     "name": "stdout",
     "output_type": "stream",
     "text": [
      "Microsoft\n",
      "www.microsoft.com\n"
     ]
    }
   ],
   "source": [
    "// Upon instantiating the parent class and INVOKING the Method,\n",
    "// we acheive the following output\n",
    "\n",
    "new MethodControlTest().Main()"
   ]
  },
  {
   "attachments": {},
   "cell_type": "markdown",
   "metadata": {
    "dotnet_interactive": {
     "language": "csharp"
    },
    "polyglot_notebook": {
     "kernelName": "csharp"
    }
   },
   "source": [
    "<br>"
   ]
  },
  {
   "attachments": {},
   "cell_type": "markdown",
   "metadata": {
    "dotnet_interactive": {
     "language": "csharp"
    },
    "polyglot_notebook": {
     "kernelName": "csharp"
    }
   },
   "source": [
    "But what is the *order of control* between the `Main()` and `PrintLogo()` Methods?"
   ]
  },
  {
   "attachments": {},
   "cell_type": "markdown",
   "metadata": {
    "dotnet_interactive": {
     "language": "csharp"
    },
    "polyglot_notebook": {
     "kernelName": "csharp"
    }
   },
   "source": [
    "![ufukkedup](../_img/Invocation%20Control%20Order.jpg)"
   ]
  },
  {
   "attachments": {},
   "cell_type": "markdown",
   "metadata": {
    "dotnet_interactive": {
     "language": "csharp"
    },
    "polyglot_notebook": {
     "kernelName": "csharp"
    }
   },
   "source": [
    "- First the code of method `Main()`, that is marked with ($1$) will be executed,\n",
    "- Then the control of the program will be given to the method `PrintLogo()` – the dotted arrow ($2$). \n",
    "- This will cause the execution of the code in method `PrintLogo()`, numbered with ($3$).\n",
    "-  When the method `PrintLogo()` work is done, the control over the program is returned back to the method `Main()` – dotted arrow ($4$). \n",
    "-  Execution of `Main()` will continue from the line after `PrintLogo()` call – marked with ($5$)."
   ]
  }
 ],
 "metadata": {
  "kernelspec": {
   "display_name": ".NET (C#)",
   "language": "C#",
   "name": ".net-csharp"
  },
  "polyglot_notebook": {
   "kernelInfo": {
    "defaultKernelName": "csharp",
    "items": [
     {
      "aliases": [],
      "name": "csharp"
     },
     {
      "aliases": [],
      "languageName": null,
      "name": ".NET"
     },
     {
      "aliases": [
       "frontend"
      ],
      "languageName": null,
      "name": "vscode"
     }
    ]
   }
  }
 },
 "nbformat": 4,
 "nbformat_minor": 2
}
