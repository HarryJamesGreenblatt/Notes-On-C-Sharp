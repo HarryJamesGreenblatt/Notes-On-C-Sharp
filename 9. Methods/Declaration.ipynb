{
 "cells": [
  {
   "attachments": {},
   "cell_type": "markdown",
   "metadata": {
    "dotnet_interactive": {
     "language": "csharp"
    },
    "polyglot_notebook": {
     "kernelName": "csharp"
    }
   },
   "source": [
    "# 9. Methods"
   ]
  },
  {
   "attachments": {},
   "cell_type": "markdown",
   "metadata": {
    "dotnet_interactive": {
     "language": "csharp"
    },
    "polyglot_notebook": {
     "kernelName": "csharp"
    }
   },
   "source": [
    "## Declaration\n",
    "___"
   ]
  },
  {
   "attachments": {},
   "cell_type": "markdown",
   "metadata": {
    "dotnet_interactive": {
     "language": "csharp"
    },
    "polyglot_notebook": {
     "kernelName": "csharp"
    }
   },
   "source": [
    "To *declare* a **Method** means to register the method in our program.    \n",
    "The following is a generalization of **Method** *declaration*:"
   ]
  },
  {
   "attachments": {},
   "cell_type": "markdown",
   "metadata": {
    "dotnet_interactive": {
     "language": "csharp"
    },
    "polyglot_notebook": {
     "kernelName": "csharp"
    }
   },
   "source": [
    "```c#\n",
    "[access_modifier] return_type method_name ( [param_list] )\n",
    "```"
   ]
  },
  {
   "attachments": {},
   "cell_type": "markdown",
   "metadata": {
    "dotnet_interactive": {
     "language": "csharp"
    },
    "polyglot_notebook": {
     "kernelName": "csharp"
    }
   },
   "source": [
    "There are some **mandatory** elements to include when *declaring* a method: \n",
    "- **Type** of the result, returned by the method -– `return_type`. \n",
    "- Method’s **name** -– `method_name`. \n",
    "- List of **parameters** to the method –- `param_list` \n",
    "  - it can be *empty list* or it can consist of a *sequence of parameters* declarations.\n",
    "  - The *round brackets* – `(` and `)`, are always placed after the method’s **name**, no matter whether  it has any **parameters** or not."
   ]
  },
  {
   "attachments": {},
   "cell_type": "markdown",
   "metadata": {
    "dotnet_interactive": {
     "language": "csharp"
    },
    "polyglot_notebook": {
     "kernelName": "csharp"
    }
   },
   "source": [
    "<br>"
   ]
  },
  {
   "attachments": {},
   "cell_type": "markdown",
   "metadata": {
    "dotnet_interactive": {
     "language": "csharp"
    },
    "polyglot_notebook": {
     "kernelName": "csharp"
    }
   },
   "source": [
    "### Method Signature"
   ]
  },
  {
   "attachments": {},
   "cell_type": "markdown",
   "metadata": {
    "dotnet_interactive": {
     "language": "csharp"
    },
    "polyglot_notebook": {
     "kernelName": "csharp"
    }
   },
   "source": [
    "In object-oriented programming, a **Method** is *identified* by a **pair of elements** specified within its declaration: \n",
    "- **name** of the Method, \n",
    "- a list of **parameters** passed into the Method.   \n",
    "   \n",
    "These two elements define the so-called Method **specification** (often can be found as a **Method** *signature*).   \n",
    "The following is a generalization of **Method** *signature*:"
   ]
  },
  {
   "attachments": {},
   "cell_type": "markdown",
   "metadata": {
    "dotnet_interactive": {
     "language": "csharp"
    },
    "polyglot_notebook": {
     "kernelName": "csharp"
    }
   },
   "source": [
    "```c#\n",
    "method_name ( [param_list] )\n",
    "```"
   ]
  },
  {
   "attachments": {},
   "cell_type": "markdown",
   "metadata": {
    "dotnet_interactive": {
     "language": "csharp"
    },
    "polyglot_notebook": {
     "kernelName": "csharp"
    }
   },
   "source": [
    "Here we must note that the **Type** of returned value of a method is only part of its *declaration*, not of its *signature*. Hence, the `<return_type>` is *not* part of the Method *signature*. The reason is that if two methods differ only by their return value types, for the program, it is not clear enough which of them must be called."
   ]
  },
  {
   "attachments": {},
   "cell_type": "markdown",
   "metadata": {
    "dotnet_interactive": {
     "language": "csharp"
    },
    "polyglot_notebook": {
     "kernelName": "csharp"
    }
   },
   "source": [
    "<br>"
   ]
  },
  {
   "attachments": {},
   "cell_type": "markdown",
   "metadata": {
    "dotnet_interactive": {
     "language": "csharp"
    },
    "polyglot_notebook": {
     "kernelName": "csharp"
    }
   },
   "source": [
    "### Method Naming Conventions"
   ]
  },
  {
   "attachments": {},
   "cell_type": "markdown",
   "metadata": {
    "dotnet_interactive": {
     "language": "csharp"
    },
    "polyglot_notebook": {
     "kernelName": "csharp"
    }
   },
   "source": [
    "It is recommended, when declaring a method, to follow the rules for method naming suggested by Microsoft:   \n",
    "- The **name** of a method must start with capital letter. \n",
    "- The *PascalCase* rule must be applied, i.e. each new word, that concatenates so to form the method name, must start with *capital letter*.\n",
    "- It is recommended that the method name must consist of *verb*, or *verb* *and* *noun*."
   ]
  },
  {
   "attachments": {},
   "cell_type": "markdown",
   "metadata": {
    "dotnet_interactive": {
     "language": "csharp"
    },
    "polyglot_notebook": {
     "kernelName": "csharp"
    }
   },
   "source": [
    "Here some examples of well named methods: \n",
    "```\n",
    "Print \n",
    "GetName\n",
    "PlayMusic \n",
    "SetUserName\n",
    "```"
   ]
  },
  {
   "attachments": {},
   "cell_type": "markdown",
   "metadata": {
    "dotnet_interactive": {
     "language": "csharp"
    },
    "polyglot_notebook": {
     "kernelName": "csharp"
    }
   },
   "source": [
    "Here some examples of poorly named methods: \n",
    "```\n",
    "Abc11 \n",
    "Yellow___Black \n",
    "foo \n",
    "_Bar\n",
    "```"
   ]
  },
  {
   "attachments": {},
   "cell_type": "markdown",
   "metadata": {
    "dotnet_interactive": {
     "language": "csharp"
    },
    "polyglot_notebook": {
     "kernelName": "csharp"
    }
   },
   "source": [
    "<br>"
   ]
  },
  {
   "attachments": {},
   "cell_type": "markdown",
   "metadata": {
    "dotnet_interactive": {
     "language": "csharp"
    },
    "polyglot_notebook": {
     "kernelName": "csharp"
    }
   },
   "source": [
    "### Introducing Modifiers"
   ]
  },
  {
   "cell_type": "code",
   "execution_count": 21,
   "metadata": {
    "dotnet_interactive": {
     "language": "csharp"
    },
    "polyglot_notebook": {
     "kernelName": "csharp"
    },
    "vscode": {
     "languageId": "polyglot-notebook"
    }
   },
   "outputs": [],
   "source": [
    "public class AccessModifierExample\n",
    "{\n",
    "\n",
    "    // DECLARE a Method which is publicly accessible beyond the scope of the class\n",
    "    public void PrintPublic()\n",
    "    {\n",
    "        // IMPLEMENT a simple program which prints a message.\n",
    "        Console.WriteLine(\"If you can see this, then you obvisously have access.\");\n",
    "\n",
    "    }\n",
    "\n",
    "\n",
    "    // DECLARE a Method which is NOT accessible beyond the scope of the class\n",
    "    private void PrintPrivate()\n",
    "    {\n",
    "        // IMPLEMENT a simple program which prints a message.\n",
    "        Console.WriteLine(\"If you can see this, then I suck at security.\");\n",
    "\n",
    "    }\n",
    "\n",
    "}"
   ]
  },
  {
   "attachments": {},
   "cell_type": "markdown",
   "metadata": {
    "dotnet_interactive": {
     "language": "csharp"
    },
    "polyglot_notebook": {
     "kernelName": "csharp"
    }
   },
   "source": [
    "<br>"
   ]
  },
  {
   "attachments": {},
   "cell_type": "markdown",
   "metadata": {
    "dotnet_interactive": {
     "language": "csharp"
    },
    "polyglot_notebook": {
     "kernelName": "csharp"
    }
   },
   "source": [
    "In the example above, we define a **public** method by the modifier `public`.    \n",
    "It is a special type modifier, also called  an *access modifier*, used permit the Method to be called by any C# class, no matter where.     \n",
    "   \n",
    "**Public** access modifiers do *not* impose restrictions in the meaning of “who” can call them."
   ]
  },
  {
   "cell_type": "code",
   "execution_count": 22,
   "metadata": {
    "dotnet_interactive": {
     "language": "csharp"
    },
    "polyglot_notebook": {
     "kernelName": "csharp"
    },
    "vscode": {
     "languageId": "polyglot-notebook"
    }
   },
   "outputs": [
    {
     "name": "stdout",
     "output_type": "stream",
     "text": [
      "If you can see this, then you obvisously have access.\r\n"
     ]
    }
   ],
   "source": [
    "// Instantiate the class \n",
    "// and INVOKE the Method\n",
    "\n",
    "new AccessModifierExample().PrintPublic()"
   ]
  },
  {
   "attachments": {},
   "cell_type": "markdown",
   "metadata": {
    "dotnet_interactive": {
     "language": "csharp"
    },
    "polyglot_notebook": {
     "kernelName": "csharp"
    }
   },
   "source": [
    "<br>"
   ]
  },
  {
   "attachments": {},
   "cell_type": "markdown",
   "metadata": {
    "dotnet_interactive": {
     "language": "csharp"
    },
    "polyglot_notebook": {
     "kernelName": "csharp"
    }
   },
   "source": [
    "Conversely, another access modifier that we can use is the modifier `private`.   \n",
    "    \n",
    "Its function is *opposite* to that of the `public`, i.e. if a method is declared by access modifier `private`, it *cannot* be called from anywhere, except *from the class in which it is declared*."
   ]
  },
  {
   "cell_type": "code",
   "execution_count": 23,
   "metadata": {
    "dotnet_interactive": {
     "language": "csharp"
    },
    "polyglot_notebook": {
     "kernelName": "csharp"
    },
    "vscode": {
     "languageId": "polyglot-notebook"
    }
   },
   "outputs": [
    {
     "ename": "Error",
     "evalue": "(5,29): error CS0122: 'AccessModifierExample.PrintPrivate()' is inaccessible due to its protection level",
     "output_type": "error",
     "traceback": [
      "(5,29): error CS0122: 'AccessModifierExample.PrintPrivate()' is inaccessible due to its protection level"
     ]
    }
   ],
   "source": [
    "// Instantiate the class \n",
    "// and INVOKE the Method, \n",
    "// resulting in an error due to access restrictions\n",
    "\n",
    "new AccessModifierExample().PrintPrivate()"
   ]
  }
 ],
 "metadata": {
  "kernelspec": {
   "display_name": ".NET (C#)",
   "language": "C#",
   "name": ".net-csharp"
  },
  "polyglot_notebook": {
   "kernelInfo": {
    "defaultKernelName": "csharp",
    "items": [
     {
      "aliases": [
       "c#",
       "C#"
      ],
      "languageName": "C#",
      "name": "csharp"
     },
     {
      "aliases": [
       "frontend"
      ],
      "languageName": null,
      "name": "vscode"
     }
    ]
   }
  }
 },
 "nbformat": 4,
 "nbformat_minor": 2
}
