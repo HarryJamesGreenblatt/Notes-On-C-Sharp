{
 "cells": [
  {
   "attachments": {},
   "cell_type": "markdown",
   "metadata": {
    "dotnet_interactive": {
     "language": "csharp"
    },
    "polyglot_notebook": {
     "kernelName": "csharp"
    }
   },
   "source": [
    "# 9. Methods"
   ]
  },
  {
   "attachments": {},
   "cell_type": "markdown",
   "metadata": {
    "dotnet_interactive": {
     "language": "csharp"
    },
    "polyglot_notebook": {
     "kernelName": "csharp"
    }
   },
   "source": [
    "## Invocation\n",
    "### Arguments\n",
    "___"
   ]
  },
  {
   "attachments": {},
   "cell_type": "markdown",
   "metadata": {
    "dotnet_interactive": {
     "language": "csharp"
    },
    "polyglot_notebook": {
     "kernelName": "csharp"
    }
   },
   "source": [
    "### Difference between Parameters and Arguments of a Method"
   ]
  },
  {
   "attachments": {},
   "cell_type": "markdown",
   "metadata": {
    "dotnet_interactive": {
     "language": "csharp"
    },
    "polyglot_notebook": {
     "kernelName": "csharp"
    }
   },
   "source": [
    "It is imperative to distinguish between *parameters* named in the `parameters_list` amidst the Method's *declaration*, and the **values that we pass** when **invoking** a Method.    \n",
    "       \n",
    "To clarify, when we *declare* a Method, any of the elements from the `parameters_list` we will call *parameters*."
   ]
  },
  {
   "cell_type": "code",
   "execution_count": 81,
   "metadata": {
    "dotnet_interactive": {
     "language": "csharp"
    },
    "polyglot_notebook": {
     "kernelName": "csharp"
    },
    "vscode": {
     "languageId": "polyglot-notebook"
    }
   },
   "outputs": [],
   "source": [
    "// Import the System.LINQ module, which provides the Enumerable type \n",
    "using System.Linq;\n",
    "\n",
    "\n",
    "// Declare of a simple static Method taking multiple PARAMETERS of different types\n",
    "static void PrintSomethingRepitiously( string ThingToPrint, int TimesToRepeat )\n",
    "{\n",
    "\n",
    "    //Implement a printed message\n",
    "    Console.WriteLine(\n",
    "\n",
    "        // from the primitive string class, \n",
    "        // invoke the built-in Method for String Concatenation\n",
    "        string.Concat(\n",
    "\n",
    "            // from the LINQ module's Enumerable class, \n",
    "            // invoke the built-in Method for String Repitition,\n",
    "            // using our given PARAMETERS \n",
    "            // in order to define what to, and how many times to, Repeat \n",
    "            Enumerable.Repeat(\n",
    "                ThingToPrint,     \n",
    "                TimesToRepeat\n",
    "            )\n",
    "\n",
    "        )\n",
    "\n",
    "    );\n",
    "    \n",
    "}"
   ]
  },
  {
   "attachments": {},
   "cell_type": "markdown",
   "metadata": {
    "dotnet_interactive": {
     "language": "csharp"
    },
    "polyglot_notebook": {
     "kernelName": "csharp"
    }
   },
   "source": [
    "<br>"
   ]
  },
  {
   "attachments": {},
   "cell_type": "markdown",
   "metadata": {
    "dotnet_interactive": {
     "language": "csharp"
    },
    "polyglot_notebook": {
     "kernelName": "csharp"
    }
   },
   "source": [
    "After the Method has already been *declared*, and it is now time to **invoke** such a Method, we do so by passing in **arguments** which meet the specification of the `parameters_list` given within in the *declaration* "
   ]
  },
  {
   "cell_type": "code",
   "execution_count": 82,
   "metadata": {
    "dotnet_interactive": {
     "language": "csharp"
    },
    "polyglot_notebook": {
     "kernelName": "csharp"
    },
    "vscode": {
     "languageId": "polyglot-notebook"
    }
   },
   "outputs": [
    {
     "name": "stdout",
     "output_type": "stream",
     "text": [
      "Bet you can't say THIS 5 times fast...Bet you can't say THIS 5 times fast...Bet you can't say THIS 5 times fast...Bet you can't say THIS 5 times fast...Bet you can't say THIS 5 times fast...\r\n"
     ]
    }
   ],
   "source": [
    "// INVOCATION of the Method \n",
    "PrintSomethingRepitiously( \n",
    "\n",
    "    // ARGUMENT for the  string ThingToPrint  parameter,\n",
    "    \"Bet you can't say THIS 5 times fast...\",\n",
    "    \n",
    "    \n",
    "    // ARGUMENT for the  int TimesToRepeat  parameter   \n",
    "    5                                          \n",
    "\n",
    ");"
   ]
  },
  {
   "attachments": {},
   "cell_type": "markdown",
   "metadata": {
    "dotnet_interactive": {
     "language": "csharp"
    },
    "polyglot_notebook": {
     "kernelName": "csharp"
    }
   },
   "source": [
    "<br>"
   ]
  },
  {
   "attachments": {},
   "cell_type": "markdown",
   "metadata": {
    "dotnet_interactive": {
     "language": "csharp"
    },
    "polyglot_notebook": {
     "kernelName": "csharp"
    }
   },
   "source": [
    "### Passing Arguments of a Primitive Type"
   ]
  },
  {
   "attachments": {},
   "cell_type": "markdown",
   "metadata": {
    "dotnet_interactive": {
     "language": "csharp"
    },
    "polyglot_notebook": {
     "kernelName": "csharp"
    }
   },
   "source": [
    "Let's say we have declared the following Method which increments a given Integer Parameter by 1, and then Prints the result:"
   ]
  },
  {
   "cell_type": "code",
   "execution_count": 83,
   "metadata": {
    "dotnet_interactive": {
     "language": "csharp"
    },
    "polyglot_notebook": {
     "kernelName": "csharp"
    },
    "vscode": {
     "languageId": "polyglot-notebook"
    }
   },
   "outputs": [],
   "source": [
    "static void AddOne( int IntegerParameter )\n",
    "{ \n",
    "    Console.WriteLine( \n",
    "        $\"After adding 1 to { IntegerParameter }, we have:  { ++IntegerParameter }\" \n",
    "    );\n",
    "}"
   ]
  },
  {
   "cell_type": "code",
   "execution_count": 84,
   "metadata": {
    "dotnet_interactive": {
     "language": "csharp"
    },
    "polyglot_notebook": {
     "kernelName": "csharp"
    },
    "vscode": {
     "languageId": "polyglot-notebook"
    }
   },
   "outputs": [
    {
     "name": "stdout",
     "output_type": "stream",
     "text": [
      "After adding 1 to 5, we have:  6\r\n"
     ]
    }
   ],
   "source": [
    "AddOne( 5 );"
   ]
  },
  {
   "attachments": {},
   "cell_type": "markdown",
   "metadata": {
    "dotnet_interactive": {
     "language": "csharp"
    },
    "polyglot_notebook": {
     "kernelName": "csharp"
    }
   },
   "source": [
    "<br>"
   ]
  },
  {
   "attachments": {},
   "cell_type": "markdown",
   "metadata": {
    "dotnet_interactive": {
     "language": "csharp"
    },
    "polyglot_notebook": {
     "kernelName": "csharp"
    }
   },
   "source": [
    "Now let's say that we have the following **Integer Argument** declared at the top-level:"
   ]
  },
  {
   "cell_type": "code",
   "execution_count": 85,
   "metadata": {
    "dotnet_interactive": {
     "language": "csharp"
    },
    "polyglot_notebook": {
     "kernelName": "csharp"
    },
    "vscode": {
     "languageId": "polyglot-notebook"
    }
   },
   "outputs": [],
   "source": [
    "int IntegerArgument = 1;"
   ]
  },
  {
   "cell_type": "code",
   "execution_count": 86,
   "metadata": {
    "dotnet_interactive": {
     "language": "csharp"
    },
    "polyglot_notebook": {
     "kernelName": "csharp"
    },
    "vscode": {
     "languageId": "polyglot-notebook"
    }
   },
   "outputs": [
    {
     "data": {
      "text/html": [
       "<div class=\"dni-plaintext\"><pre>1</pre></div><style>\r\n",
       ".dni-code-hint {\r\n",
       "    font-style: italic;\r\n",
       "    overflow: hidden;\r\n",
       "    white-space: nowrap;\r\n",
       "}\r\n",
       ".dni-treeview {\r\n",
       "    white-space: nowrap;\r\n",
       "}\r\n",
       ".dni-treeview td {\r\n",
       "    vertical-align: top;\r\n",
       "    text-align: start;\r\n",
       "}\r\n",
       "details.dni-treeview {\r\n",
       "    padding-left: 1em;\r\n",
       "}\r\n",
       "table td {\r\n",
       "    text-align: start;\r\n",
       "}\r\n",
       "table tr { \r\n",
       "    vertical-align: top; \r\n",
       "    margin: 0em 0px;\r\n",
       "}\r\n",
       "table tr td pre \r\n",
       "{ \r\n",
       "    vertical-align: top !important; \r\n",
       "    margin: 0em 0px !important;\r\n",
       "} \r\n",
       "table th {\r\n",
       "    text-align: start;\r\n",
       "}\r\n",
       "</style>"
      ]
     },
     "metadata": {},
     "output_type": "display_data"
    }
   ],
   "source": [
    "IntegerArgument"
   ]
  },
  {
   "attachments": {},
   "cell_type": "markdown",
   "metadata": {
    "dotnet_interactive": {
     "language": "csharp"
    },
    "polyglot_notebook": {
     "kernelName": "csharp"
    }
   },
   "source": [
    "<br>"
   ]
  },
  {
   "attachments": {},
   "cell_type": "markdown",
   "metadata": {
    "dotnet_interactive": {
     "language": "csharp"
    },
    "polyglot_notebook": {
     "kernelName": "csharp"
    }
   },
   "source": [
    "When a **Primitive Type** variable is passed as a Method **Argument**, its **value** is *copied* into the **parameter** listed as part of the Method's declaration.   \n",
    "   \n",
    "After that, only the *copy* will be used within the Method's implementation:"
   ]
  },
  {
   "cell_type": "code",
   "execution_count": 87,
   "metadata": {
    "dotnet_interactive": {
     "language": "csharp"
    },
    "polyglot_notebook": {
     "kernelName": "csharp"
    },
    "vscode": {
     "languageId": "polyglot-notebook"
    }
   },
   "outputs": [
    {
     "name": "stdout",
     "output_type": "stream",
     "text": [
      "After adding 1 to 1, we have:  2\r\n"
     ]
    }
   ],
   "source": [
    "AddOne( IntegerArgument );"
   ]
  },
  {
   "attachments": {},
   "cell_type": "markdown",
   "metadata": {
    "dotnet_interactive": {
     "language": "csharp"
    },
    "polyglot_notebook": {
     "kernelName": "csharp"
    }
   },
   "source": [
    "<br>"
   ]
  },
  {
   "attachments": {},
   "cell_type": "markdown",
   "metadata": {
    "dotnet_interactive": {
     "language": "csharp"
    },
    "polyglot_notebook": {
     "kernelName": "csharp"
    }
   },
   "source": [
    "Outside of the Method call, however, the original **Integer Argument** still remains the same:"
   ]
  },
  {
   "cell_type": "code",
   "execution_count": 88,
   "metadata": {
    "dotnet_interactive": {
     "language": "csharp"
    },
    "polyglot_notebook": {
     "kernelName": "csharp"
    },
    "vscode": {
     "languageId": "polyglot-notebook"
    }
   },
   "outputs": [
    {
     "data": {
      "text/html": [
       "<div class=\"dni-plaintext\"><pre>1</pre></div><style>\r\n",
       ".dni-code-hint {\r\n",
       "    font-style: italic;\r\n",
       "    overflow: hidden;\r\n",
       "    white-space: nowrap;\r\n",
       "}\r\n",
       ".dni-treeview {\r\n",
       "    white-space: nowrap;\r\n",
       "}\r\n",
       ".dni-treeview td {\r\n",
       "    vertical-align: top;\r\n",
       "    text-align: start;\r\n",
       "}\r\n",
       "details.dni-treeview {\r\n",
       "    padding-left: 1em;\r\n",
       "}\r\n",
       "table td {\r\n",
       "    text-align: start;\r\n",
       "}\r\n",
       "table tr { \r\n",
       "    vertical-align: top; \r\n",
       "    margin: 0em 0px;\r\n",
       "}\r\n",
       "table tr td pre \r\n",
       "{ \r\n",
       "    vertical-align: top !important; \r\n",
       "    margin: 0em 0px !important;\r\n",
       "} \r\n",
       "table th {\r\n",
       "    text-align: start;\r\n",
       "}\r\n",
       "</style>"
      ]
     },
     "metadata": {},
     "output_type": "display_data"
    }
   ],
   "source": [
    "IntegerArgument"
   ]
  },
  {
   "attachments": {},
   "cell_type": "markdown",
   "metadata": {
    "dotnet_interactive": {
     "language": "csharp"
    },
    "polyglot_notebook": {
     "kernelName": "csharp"
    }
   },
   "source": [
    "<br>"
   ]
  },
  {
   "attachments": {},
   "cell_type": "markdown",
   "metadata": {
    "dotnet_interactive": {
     "language": "csharp"
    },
    "polyglot_notebook": {
     "kernelName": "csharp"
    }
   },
   "source": [
    "### Passing Arguments of Reference Type"
   ]
  },
  {
   "attachments": {},
   "cell_type": "markdown",
   "metadata": {
    "dotnet_interactive": {
     "language": "csharp"
    },
    "polyglot_notebook": {
     "kernelName": "csharp"
    }
   },
   "source": [
    "Let's say we wanted to declare a Method which, for each element present in an Array of Integer Values given as Parameter, Adds 1 to each element's value and then Prints the final result:"
   ]
  },
  {
   "attachments": {},
   "cell_type": "markdown",
   "metadata": {
    "dotnet_interactive": {
     "language": "csharp"
    },
    "polyglot_notebook": {
     "kernelName": "csharp"
    }
   },
   "source": [
    "<br>"
   ]
  },
  {
   "attachments": {},
   "cell_type": "markdown",
   "metadata": {
    "dotnet_interactive": {
     "language": "csharp"
    },
    "polyglot_notebook": {
     "kernelName": "csharp"
    }
   },
   "source": [
    "We can first declare the following Method to help with the part requiring us to Print the final result:  "
   ]
  },
  {
   "cell_type": "code",
   "execution_count": 89,
   "metadata": {
    "dotnet_interactive": {
     "language": "csharp"
    },
    "polyglot_notebook": {
     "kernelName": "csharp"
    },
    "vscode": {
     "languageId": "polyglot-notebook"
    }
   },
   "outputs": [],
   "source": [
    "// Declare a Method to assist with Printing the Array using inline representation\n",
    "static void PrintIntegerArray( int[] IntegerArrayParameter )\n",
    "{\n",
    "\n",
    "    // Observe the First and Last Indices of the array\n",
    "    int FirstIndex = 0,\n",
    "        LastIndex  = IntegerArrayParameter.Length - 1;\n",
    "    \n",
    "\n",
    "    // Print the openning bracket of the array\n",
    "    Console.Write('[');\n",
    "\n",
    "\n",
    "    // Iterating For each Index within the Integer Array given as a Parameter,\n",
    "    for(int CurrrentIndex = FirstIndex; CurrrentIndex <= LastIndex; CurrrentIndex++)\n",
    "    {\n",
    "\n",
    "        // Always Print the Value at the Current Index,\n",
    "        // but also print a comma to delimit for the next Value,\n",
    "        // provided that the Current Index is NOT the Last.\n",
    "        Console.Write(\n",
    "            $\"{ IntegerArrayParameter[ CurrrentIndex ] }\"\n",
    "            +\n",
    "            $\"{ ( (CurrrentIndex != LastIndex) ? \",\" : \"\" ) }\"\n",
    "        );\n",
    "\n",
    "    }\n",
    "\n",
    "    // After all that,\n",
    "    // since it is now reasonable to assume that we have printed each Integer in Array,\n",
    "    // print the closing bracket of the array\n",
    "    Console.Write(']');\n",
    "\n",
    "}  "
   ]
  },
  {
   "cell_type": "code",
   "execution_count": 90,
   "metadata": {
    "dotnet_interactive": {
     "language": "csharp"
    },
    "polyglot_notebook": {
     "kernelName": "csharp"
    },
    "vscode": {
     "languageId": "polyglot-notebook"
    }
   },
   "outputs": [
    {
     "name": "stdout",
     "output_type": "stream",
     "text": [
      "[1,2,3]"
     ]
    }
   ],
   "source": [
    "PrintIntegerArray( new int[]{ 1, 2, 3 } );"
   ]
  },
  {
   "attachments": {},
   "cell_type": "markdown",
   "metadata": {
    "dotnet_interactive": {
     "language": "csharp"
    },
    "polyglot_notebook": {
     "kernelName": "csharp"
    }
   },
   "source": [
    "<br>"
   ]
  },
  {
   "attachments": {},
   "cell_type": "markdown",
   "metadata": {
    "dotnet_interactive": {
     "language": "csharp"
    },
    "polyglot_notebook": {
     "kernelName": "csharp"
    }
   },
   "source": [
    "Then, we can declare another Method designated to iterate through the given Integer Array Parameter, incrementing each Element by 1. "
   ]
  },
  {
   "cell_type": "code",
   "execution_count": 91,
   "metadata": {
    "dotnet_interactive": {
     "language": "csharp"
    },
    "polyglot_notebook": {
     "kernelName": "csharp"
    },
    "vscode": {
     "languageId": "polyglot-notebook"
    }
   },
   "outputs": [],
   "source": [
    "static void AddOneToEachArrayElement( int[] IntegerArrayParameter )\n",
    "{\n",
    "\n",
    "    // Observe the First and Last Indices of the array,\n",
    "    int FirstIndex = 0,\n",
    "        LastIndex  = IntegerArrayParameter.Length - 1;\n",
    "    \n",
    "\n",
    "    // Set up a Current Index initialized at the First Index\n",
    "    int CurrentIndex = FirstIndex;\n",
    "\n",
    "\n",
    "    // Iterating While the Current Index within the Integer Array given as a Parameter \n",
    "    // is still within bound of the Array,\n",
    "    while( CurrentIndex <= LastIndex )\n",
    "    {\n",
    "\n",
    "        // Increment the Value of the Element at the Current Index by 1,\n",
    "        // taking care to simultaneously increment the Current Index\n",
    "        IntegerArrayParameter[ CurrentIndex++ ] += 1;\n",
    "\n",
    "    }\n",
    "\n",
    "\n",
    "    // After all that,\n",
    "    // Print the final state of the Integer Array  \n",
    "    PrintIntegerArray( IntegerArrayParameter );\n",
    "    \n",
    "}"
   ]
  },
  {
   "attachments": {},
   "cell_type": "markdown",
   "metadata": {
    "dotnet_interactive": {
     "language": "csharp"
    },
    "polyglot_notebook": {
     "kernelName": "csharp"
    }
   },
   "source": [
    "<br>"
   ]
  },
  {
   "attachments": {},
   "cell_type": "markdown",
   "metadata": {
    "dotnet_interactive": {
     "language": "csharp"
    },
    "polyglot_notebook": {
     "kernelName": "csharp"
    }
   },
   "source": [
    "So now let's suppose we have some **Integer Array Argument** that we have declared at the top-level:"
   ]
  },
  {
   "cell_type": "code",
   "execution_count": 92,
   "metadata": {
    "dotnet_interactive": {
     "language": "csharp"
    },
    "polyglot_notebook": {
     "kernelName": "csharp"
    },
    "vscode": {
     "languageId": "polyglot-notebook"
    }
   },
   "outputs": [],
   "source": [
    "int[] IntegerArrayArgument = new int[]{ 1, 2, 3 };"
   ]
  },
  {
   "cell_type": "code",
   "execution_count": 93,
   "metadata": {
    "dotnet_interactive": {
     "language": "csharp"
    },
    "polyglot_notebook": {
     "kernelName": "csharp"
    },
    "vscode": {
     "languageId": "polyglot-notebook"
    }
   },
   "outputs": [
    {
     "data": {
      "text/html": [
       "<table><thead><tr><th><i>index</i></th><th>value</th></tr></thead><tbody><tr><td>0</td><td><div class=\"dni-plaintext\"><pre>1</pre></div></td></tr><tr><td>1</td><td><div class=\"dni-plaintext\"><pre>2</pre></div></td></tr><tr><td>2</td><td><div class=\"dni-plaintext\"><pre>3</pre></div></td></tr></tbody></table><style>\r\n",
       ".dni-code-hint {\r\n",
       "    font-style: italic;\r\n",
       "    overflow: hidden;\r\n",
       "    white-space: nowrap;\r\n",
       "}\r\n",
       ".dni-treeview {\r\n",
       "    white-space: nowrap;\r\n",
       "}\r\n",
       ".dni-treeview td {\r\n",
       "    vertical-align: top;\r\n",
       "    text-align: start;\r\n",
       "}\r\n",
       "details.dni-treeview {\r\n",
       "    padding-left: 1em;\r\n",
       "}\r\n",
       "table td {\r\n",
       "    text-align: start;\r\n",
       "}\r\n",
       "table tr { \r\n",
       "    vertical-align: top; \r\n",
       "    margin: 0em 0px;\r\n",
       "}\r\n",
       "table tr td pre \r\n",
       "{ \r\n",
       "    vertical-align: top !important; \r\n",
       "    margin: 0em 0px !important;\r\n",
       "} \r\n",
       "table th {\r\n",
       "    text-align: start;\r\n",
       "}\r\n",
       "</style>"
      ]
     },
     "metadata": {},
     "output_type": "display_data"
    }
   ],
   "source": [
    "IntegerArrayArgument"
   ]
  },
  {
   "attachments": {},
   "cell_type": "markdown",
   "metadata": {
    "dotnet_interactive": {
     "language": "csharp"
    },
    "polyglot_notebook": {
     "kernelName": "csharp"
    }
   },
   "source": [
    "<br>"
   ]
  },
  {
   "attachments": {},
   "cell_type": "markdown",
   "metadata": {
    "dotnet_interactive": {
     "language": "csharp"
    },
    "polyglot_notebook": {
     "kernelName": "csharp"
    }
   },
   "source": [
    "When a **Reference Type** variable is passed as a Method **Argument**, the **address** of *where the object actually exists in memory* copied into the **parameter** listed as part of the Method's declaration.   \n",
    "   \n",
    "After that, although what is being used within the Method's implementation is a copy,   \n",
    "It's a copy of an **address** which is *pointing to the same place* as the original:"
   ]
  },
  {
   "cell_type": "code",
   "execution_count": 94,
   "metadata": {
    "dotnet_interactive": {
     "language": "csharp"
    },
    "polyglot_notebook": {
     "kernelName": "csharp"
    },
    "vscode": {
     "languageId": "polyglot-notebook"
    }
   },
   "outputs": [
    {
     "name": "stdout",
     "output_type": "stream",
     "text": [
      "[2,3,4]"
     ]
    }
   ],
   "source": [
    "AddOneToEachArrayElement( IntegerArrayArgument )"
   ]
  },
  {
   "attachments": {},
   "cell_type": "markdown",
   "metadata": {
    "dotnet_interactive": {
     "language": "csharp"
    },
    "polyglot_notebook": {
     "kernelName": "csharp"
    }
   },
   "source": [
    "<br>"
   ]
  },
  {
   "attachments": {},
   "cell_type": "markdown",
   "metadata": {
    "dotnet_interactive": {
     "language": "csharp"
    },
    "polyglot_notebook": {
     "kernelName": "csharp"
    }
   },
   "source": [
    "As such, we must always take extreme caution, as anytime a **Reference Type** is used as an **Argument** to a Method, any modifications which occur within the Method *will also happen in the original*, as shown below:  "
   ]
  },
  {
   "cell_type": "code",
   "execution_count": 95,
   "metadata": {
    "dotnet_interactive": {
     "language": "csharp"
    },
    "polyglot_notebook": {
     "kernelName": "csharp"
    },
    "vscode": {
     "languageId": "polyglot-notebook"
    }
   },
   "outputs": [
    {
     "data": {
      "text/html": [
       "<table><thead><tr><th><i>index</i></th><th>value</th></tr></thead><tbody><tr><td>0</td><td><div class=\"dni-plaintext\"><pre>2</pre></div></td></tr><tr><td>1</td><td><div class=\"dni-plaintext\"><pre>3</pre></div></td></tr><tr><td>2</td><td><div class=\"dni-plaintext\"><pre>4</pre></div></td></tr></tbody></table><style>\r\n",
       ".dni-code-hint {\r\n",
       "    font-style: italic;\r\n",
       "    overflow: hidden;\r\n",
       "    white-space: nowrap;\r\n",
       "}\r\n",
       ".dni-treeview {\r\n",
       "    white-space: nowrap;\r\n",
       "}\r\n",
       ".dni-treeview td {\r\n",
       "    vertical-align: top;\r\n",
       "    text-align: start;\r\n",
       "}\r\n",
       "details.dni-treeview {\r\n",
       "    padding-left: 1em;\r\n",
       "}\r\n",
       "table td {\r\n",
       "    text-align: start;\r\n",
       "}\r\n",
       "table tr { \r\n",
       "    vertical-align: top; \r\n",
       "    margin: 0em 0px;\r\n",
       "}\r\n",
       "table tr td pre \r\n",
       "{ \r\n",
       "    vertical-align: top !important; \r\n",
       "    margin: 0em 0px !important;\r\n",
       "} \r\n",
       "table th {\r\n",
       "    text-align: start;\r\n",
       "}\r\n",
       "</style>"
      ]
     },
     "metadata": {},
     "output_type": "display_data"
    }
   ],
   "source": [
    "IntegerArrayArgument"
   ]
  },
  {
   "attachments": {},
   "cell_type": "markdown",
   "metadata": {
    "dotnet_interactive": {
     "language": "csharp"
    },
    "polyglot_notebook": {
     "kernelName": "csharp"
    }
   },
   "source": [
    "<br>"
   ]
  },
  {
   "attachments": {},
   "cell_type": "markdown",
   "metadata": {
    "dotnet_interactive": {
     "language": "csharp"
    },
    "polyglot_notebook": {
     "kernelName": "csharp"
    }
   },
   "source": [
    "### Passing of Expressions as Method Arguments"
   ]
  },
  {
   "attachments": {},
   "cell_type": "markdown",
   "metadata": {
    "dotnet_interactive": {
     "language": "csharp"
    },
    "polyglot_notebook": {
     "kernelName": "csharp"
    }
   },
   "source": [
    "When a method is invoked, we can pass a whole **expression** instead of arguments.   \n",
    "   \n",
    "By doing so, C# calculates the values for the **expression**, and by the time of code execution, replaces the **expression** with its result, when the method is invoked:"
   ]
  },
  {
   "cell_type": "code",
   "execution_count": 96,
   "metadata": {
    "dotnet_interactive": {
     "language": "csharp"
    },
    "polyglot_notebook": {
     "kernelName": "csharp"
    },
    "vscode": {
     "languageId": "polyglot-notebook"
    }
   },
   "outputs": [
    {
     "name": "stdout",
     "output_type": "stream",
     "text": [
      "After adding 1 to 9, we have:  10\r\n"
     ]
    }
   ],
   "source": [
    "AddOne(  \n",
    "\n",
    "    ( 45 * 2 ) / 10  // = 9\n",
    "\n",
    ");"
   ]
  },
  {
   "attachments": {},
   "cell_type": "markdown",
   "metadata": {
    "dotnet_interactive": {
     "language": "csharp"
    },
    "polyglot_notebook": {
     "kernelName": "csharp"
    }
   },
   "source": [
    "<br>"
   ]
  },
  {
   "attachments": {},
   "cell_type": "markdown",
   "metadata": {
    "dotnet_interactive": {
     "language": "csharp"
    },
    "polyglot_notebook": {
     "kernelName": "csharp"
    }
   },
   "source": [
    "### Passing of Arguments Compatible with the Parameter Type"
   ]
  },
  {
   "attachments": {},
   "cell_type": "markdown",
   "metadata": {
    "dotnet_interactive": {
     "language": "csharp"
    },
    "polyglot_notebook": {
     "kernelName": "csharp"
    }
   },
   "source": [
    "We must know that we can pass only arguments that are of a **compatible type** with the related parameter, declared in the method’s parameters list"
   ]
  },
  {
   "cell_type": "code",
   "execution_count": 97,
   "metadata": {
    "dotnet_interactive": {
     "language": "csharp"
    },
    "polyglot_notebook": {
     "kernelName": "csharp"
    },
    "vscode": {
     "languageId": "polyglot-notebook"
    }
   },
   "outputs": [
    {
     "ename": "Error",
     "evalue": "(1,9): error CS1503: Argument 1: cannot convert from 'string' to 'int'",
     "output_type": "error",
     "traceback": [
      "(1,9): error CS1503: Argument 1: cannot convert from 'string' to 'int'"
     ]
    }
   ],
   "source": [
    "AddOne( \"Seventy Seven\" );"
   ]
  },
  {
   "attachments": {},
   "cell_type": "markdown",
   "metadata": {
    "dotnet_interactive": {
     "language": "csharp"
    },
    "polyglot_notebook": {
     "kernelName": "csharp"
    }
   },
   "source": [
    "<br>"
   ]
  },
  {
   "attachments": {},
   "cell_type": "markdown",
   "metadata": {
    "dotnet_interactive": {
     "language": "csharp"
    },
    "polyglot_notebook": {
     "kernelName": "csharp"
    }
   },
   "source": [
    "### Declaration Sequence of the Arguments Types"
   ]
  },
  {
   "attachments": {},
   "cell_type": "markdown",
   "metadata": {
    "dotnet_interactive": {
     "language": "csharp"
    },
    "polyglot_notebook": {
     "kernelName": "csharp"
    }
   },
   "source": [
    "Arguments that are passed to the method in the time of its invocation must be in the same order as the parameters are declared in the parameters list:"
   ]
  },
  {
   "cell_type": "code",
   "execution_count": 98,
   "metadata": {
    "dotnet_interactive": {
     "language": "csharp"
    },
    "polyglot_notebook": {
     "kernelName": "csharp"
    },
    "vscode": {
     "languageId": "polyglot-notebook"
    }
   },
   "outputs": [
    {
     "ename": "Error",
     "evalue": "(4,5): error CS1503: Argument 1: cannot convert from 'int' to 'string'\r\n(5,5): error CS1503: Argument 2: cannot convert from 'string' to 'int'",
     "output_type": "error",
     "traceback": [
      "(4,5): error CS1503: Argument 1: cannot convert from 'int' to 'string'\r\n",
      "(5,5): error CS1503: Argument 2: cannot convert from 'string' to 'int'"
     ]
    }
   ],
   "source": [
    "// PrintSomethingRepitiously is supposed to take a string argument followed by an int argument,\n",
    "// but what is the result if those happen to get switched?\n",
    "PrintSomethingRepitiously( \n",
    "    10,\n",
    "    \"This Argument is in the int position, but is a string\" \n",
    ")"
   ]
  },
  {
   "attachments": {},
   "cell_type": "markdown",
   "metadata": {
    "dotnet_interactive": {
     "language": "csharp"
    },
    "polyglot_notebook": {
     "kernelName": "csharp"
    }
   },
   "source": [
    "<br>"
   ]
  },
  {
   "attachments": {},
   "cell_type": "markdown",
   "metadata": {
    "dotnet_interactive": {
     "language": "csharp"
    },
    "polyglot_notebook": {
     "kernelName": "csharp"
    }
   },
   "source": [
    "### Variable Number of Arguments (var-args)"
   ]
  },
  {
   "attachments": {},
   "cell_type": "markdown",
   "metadata": {
    "dotnet_interactive": {
     "language": "csharp"
    },
    "polyglot_notebook": {
     "kernelName": "csharp"
    }
   },
   "source": [
    "Now we will see how to declare Methods that allow the count of arguments to be different any time the method is invoked, so to meet the needs of the invoking code.    \n",
    "   \n",
    "Such Methods are often called Methods with a **variable number of arguments**.   \n",
    "\n",
    "<br>\n",
    "\n",
    "Recall our previous example Method, `PrintIntegerArray`, which took an **Integer Array** as a Parameter:"
   ]
  },
  {
   "cell_type": "code",
   "execution_count": 99,
   "metadata": {
    "dotnet_interactive": {
     "language": "csharp"
    },
    "polyglot_notebook": {
     "kernelName": "csharp"
    },
    "vscode": {
     "languageId": "polyglot-notebook"
    }
   },
   "outputs": [
    {
     "name": "stdout",
     "output_type": "stream",
     "text": [
      "[1,2,3,4,5]"
     ]
    }
   ],
   "source": [
    "// Print an inline representation of the Array given as an argument \n",
    "PrintIntegerArray( \n",
    "    new int[]{ 1, 2, 3, 4, 5 } \n",
    ");"
   ]
  },
  {
   "attachments": {},
   "cell_type": "markdown",
   "metadata": {
    "dotnet_interactive": {
     "language": "csharp"
    },
    "polyglot_notebook": {
     "kernelName": "csharp"
    }
   },
   "source": [
    "<br>"
   ]
  },
  {
   "attachments": {},
   "cell_type": "markdown",
   "metadata": {
    "dotnet_interactive": {
     "language": "csharp"
    },
    "polyglot_notebook": {
     "kernelName": "csharp"
    }
   },
   "source": [
    "We could alternatively invoke the Method with **var-args**.   \n",
    "The difference is that the `parameters_list` is declared with the keyword `params` in the way shown below:   \n",
    "   \n",
    "$parameters\\_list = [type_1\\,\\,name_1 [,\\,\\,type_i\\,\\,name_i]],\\,\\,\\bf{params}\\,\\,\\,\\,var\\_type[\\,\\,]$   \n",
    "$where\\,\\,i = 2, 3, \\dots$\n",
    "\n"
   ]
  },
  {
   "attachments": {},
   "cell_type": "markdown",
   "metadata": {
    "dotnet_interactive": {
     "language": "csharp"
    },
    "polyglot_notebook": {
     "kernelName": "csharp"
    }
   },
   "source": [
    "- **The last element from the list declaration** – `params`, is the one that allows passing of random count of arguments of type `var_type`, for each invocation of the method.  \n",
    "   \n",
    "- In the declaration of that element, before its type `var_type` we must add params: `params var_type[]`. \n",
    "   \n",
    "- The type `var_type` can be either **primitive** or by **reference**. \n",
    "   \n",
    "- Rules and special characteristics for the other elements from the method’s parameters list, that precede the **var-args** parameter `var_name`, are the same, as those we discussed in the section \"Method Parameters\"."
   ]
  },
  {
   "attachments": {},
   "cell_type": "markdown",
   "metadata": {
    "dotnet_interactive": {
     "language": "csharp"
    },
    "polyglot_notebook": {
     "kernelName": "csharp"
    }
   },
   "source": [
    "<br>"
   ]
  },
  {
   "attachments": {},
   "cell_type": "markdown",
   "metadata": {
    "dotnet_interactive": {
     "language": "csharp"
    },
    "polyglot_notebook": {
     "kernelName": "csharp"
    }
   },
   "source": [
    "Below, we convert the `AddOneToEachArrayElement()` Method we defined previously to accept a **variable number of arguments** using the `params` keyword:"
   ]
  },
  {
   "cell_type": "code",
   "execution_count": 100,
   "metadata": {
    "dotnet_interactive": {
     "language": "csharp"
    },
    "polyglot_notebook": {
     "kernelName": "csharp"
    },
    "vscode": {
     "languageId": "polyglot-notebook"
    }
   },
   "outputs": [],
   "source": [
    "static void AddOneToEachArrayElement(  params  int[] IntegerArrayParameter )\n",
    "{\n",
    "\n",
    "    // Observe the First and Last Indices of the array,\n",
    "    int FirstIndex = 0,\n",
    "        LastIndex  = IntegerArrayParameter.Length - 1;\n",
    "    \n",
    "\n",
    "    // Set up a Current Index initialized at the First Index\n",
    "    int CurrentIndex = FirstIndex;\n",
    "\n",
    "\n",
    "    // Iterating While the Current Index within the Integer Array given as a Parameter \n",
    "    // is still within bound of the Array,\n",
    "    while( CurrentIndex <= LastIndex )\n",
    "    {\n",
    "\n",
    "        // Increment the Value of the Element at the Current Index by 1,\n",
    "        // taking care to simultaneously increment the Current Index\n",
    "        IntegerArrayParameter[ CurrentIndex++ ] += 1;\n",
    "\n",
    "    }\n",
    "\n",
    "\n",
    "    // After all that,\n",
    "    // Print the final state of the Integer Array  \n",
    "    PrintIntegerArray( IntegerArrayParameter );\n",
    "    \n",
    "}"
   ]
  },
  {
   "cell_type": "code",
   "execution_count": 101,
   "metadata": {
    "dotnet_interactive": {
     "language": "csharp"
    },
    "polyglot_notebook": {
     "kernelName": "csharp"
    },
    "vscode": {
     "languageId": "polyglot-notebook"
    }
   },
   "outputs": [
    {
     "name": "stdout",
     "output_type": "stream",
     "text": [
      "[2,3,4,5,6]"
     ]
    }
   ],
   "source": [
    "// Having used the  params  keyword in the declaration \n",
    "// enabled us to be able to pass any number of literals in as argument values\n",
    "AddOneToEachArrayElement( 1, 2, 3, 4, 5 )"
   ]
  },
  {
   "attachments": {},
   "cell_type": "markdown",
   "metadata": {
    "dotnet_interactive": {
     "language": "csharp"
    },
    "polyglot_notebook": {
     "kernelName": "csharp"
    }
   },
   "source": [
    "<br>"
   ]
  },
  {
   "attachments": {},
   "cell_type": "markdown",
   "metadata": {
    "dotnet_interactive": {
     "language": "csharp"
    },
    "polyglot_notebook": {
     "kernelName": "csharp"
    }
   },
   "source": [
    "#### Position and Declaration of a Method with Variable Arguments"
   ]
  },
  {
   "attachments": {},
   "cell_type": "markdown",
   "metadata": {
    "dotnet_interactive": {
     "language": "csharp"
    },
    "polyglot_notebook": {
     "kernelName": "csharp"
    }
   },
   "source": [
    "A Method, that has a variable number of its arguments, can also have other parameters in its parameters list.   \n",
    "   \n",
    "The following code, for example, has as a first parameter an element of type `string`, and right after it there can be one or more parameters of type `int`:   \n",
    "\n",
    "```c#\n",
    "static void DoSomething(string strParam, params int[] x) \n",
    "{ \n",
    "    // do something...\n",
    "}\n",
    "```   \n",
    "\n",
    "The one thing that we must consider is that the element from the parameters list in the Method’s definition, that allows passing of a variable number of arguments, **must always be placed at the end of the parameters list**."
   ]
  },
  {
   "attachments": {},
   "cell_type": "markdown",
   "metadata": {
    "dotnet_interactive": {
     "language": "csharp"
    },
    "polyglot_notebook": {
     "kernelName": "csharp"
    }
   },
   "source": [
    "<br>"
   ]
  },
  {
   "attachments": {},
   "cell_type": "markdown",
   "metadata": {
    "dotnet_interactive": {
     "language": "csharp"
    },
    "polyglot_notebook": {
     "kernelName": "csharp"
    }
   },
   "source": [
    "##### Limitations on the Count for the Variable Arguments"
   ]
  },
  {
   "attachments": {},
   "cell_type": "markdown",
   "metadata": {
    "dotnet_interactive": {
     "language": "csharp"
    },
    "polyglot_notebook": {
     "kernelName": "csharp"
    }
   },
   "source": [
    "Another limitation for the Methods with **variable number of arguments**, is that the Method *cannot* have in its declaration more than one parameter that allows passing of variable numbers of arguments. "
   ]
  },
  {
   "cell_type": "code",
   "execution_count": 102,
   "metadata": {
    "dotnet_interactive": {
     "language": "csharp"
    },
    "polyglot_notebook": {
     "kernelName": "csharp"
    },
    "vscode": {
     "languageId": "polyglot-notebook"
    }
   },
   "outputs": [
    {
     "ename": "Error",
     "evalue": "(1,25): error CS0231: A params parameter must be the last parameter in a parameter list",
     "output_type": "error",
     "traceback": [
      "(1,25): error CS0231: A params parameter must be the last parameter in a parameter list"
     ]
    }
   ],
   "source": [
    "static void DoSomething(params int[] x, params string[] z) \n",
    "{ \n",
    "    // do something...\n",
    "}"
   ]
  },
  {
   "attachments": {},
   "cell_type": "markdown",
   "metadata": {
    "dotnet_interactive": {
     "language": "csharp"
    },
    "polyglot_notebook": {
     "kernelName": "csharp"
    }
   },
   "source": [
    "<br>"
   ]
  },
  {
   "attachments": {},
   "cell_type": "markdown",
   "metadata": {
    "dotnet_interactive": {
     "language": "csharp"
    },
    "polyglot_notebook": {
     "kernelName": "csharp"
    }
   },
   "source": [
    "### Named Arguments"
   ]
  },
  {
   "attachments": {},
   "cell_type": "markdown",
   "metadata": {
    "dotnet_interactive": {
     "language": "csharp"
    },
    "polyglot_notebook": {
     "kernelName": "csharp"
    }
   },
   "source": [
    "Supposed we have declared the following Method which takes Multiple Parameters of different types:"
   ]
  },
  {
   "cell_type": "code",
   "execution_count": 103,
   "metadata": {
    "dotnet_interactive": {
     "language": "csharp"
    },
    "polyglot_notebook": {
     "kernelName": "csharp"
    },
    "vscode": {
     "languageId": "polyglot-notebook"
    }
   },
   "outputs": [],
   "source": [
    "static void MethodWithNamedArguments( int IntegerArgument, string StringArgument )\n",
    "{\n",
    "\n",
    "    Console.WriteLine(\n",
    "        $\"The int paseed as the Integer Argument is {IntegerArgument}.\\n\"\n",
    "        +\n",
    "        $\"The string paseed as the String Argument is \\\"{StringArgument}\\\"\\n\"\n",
    "    );\n",
    "\n",
    "}"
   ]
  },
  {
   "attachments": {},
   "cell_type": "markdown",
   "metadata": {
    "dotnet_interactive": {
     "language": "csharp"
    },
    "polyglot_notebook": {
     "kernelName": "csharp"
    }
   },
   "source": [
    "<br>"
   ]
  },
  {
   "attachments": {},
   "cell_type": "markdown",
   "metadata": {
    "dotnet_interactive": {
     "language": "csharp"
    },
    "polyglot_notebook": {
     "kernelName": "csharp"
    }
   },
   "source": [
    "Generally, the *relative order* of parameters which are specified within the Method's declaration must be *preserved* when the Method is later invoked, as evidenced below:"
   ]
  },
  {
   "cell_type": "code",
   "execution_count": 104,
   "metadata": {
    "dotnet_interactive": {
     "language": "csharp"
    },
    "polyglot_notebook": {
     "kernelName": "csharp"
    },
    "vscode": {
     "languageId": "polyglot-notebook"
    }
   },
   "outputs": [
    {
     "ename": "Error",
     "evalue": "(1,27): error CS1503: Argument 1: cannot convert from 'string' to 'int'\r\n(1,69): error CS1503: Argument 2: cannot convert from 'int' to 'string'",
     "output_type": "error",
     "traceback": [
      "(1,27): error CS1503: Argument 1: cannot convert from 'string' to 'int'\r\n",
      "(1,69): error CS1503: Argument 2: cannot convert from 'int' to 'string'"
     ]
    }
   ],
   "source": [
    "MethodWithNamedArguments( \"Whoops! Should I have put an int here?\", 0 );"
   ]
  },
  {
   "attachments": {},
   "cell_type": "markdown",
   "metadata": {
    "dotnet_interactive": {
     "language": "csharp"
    },
    "polyglot_notebook": {
     "kernelName": "csharp"
    }
   },
   "source": [
    "<br>"
   ]
  },
  {
   "attachments": {},
   "cell_type": "markdown",
   "metadata": {
    "dotnet_interactive": {
     "language": "csharp"
    },
    "polyglot_notebook": {
     "kernelName": "csharp"
    }
   },
   "source": [
    "We can alternitively specify the *parameter name*, followed by a *colon*, `:`, and then *desdired value* of the parameter.   \n",
    "An example of using **named arguments** is shown below:"
   ]
  },
  {
   "cell_type": "code",
   "execution_count": 105,
   "metadata": {
    "dotnet_interactive": {
     "language": "csharp"
    },
    "polyglot_notebook": {
     "kernelName": "csharp"
    },
    "vscode": {
     "languageId": "polyglot-notebook"
    }
   },
   "outputs": [
    {
     "name": "stdout",
     "output_type": "stream",
     "text": [
      "The int paseed as the Integer Argument is 1.\n",
      "The string paseed as the String Argument is \"Any order is fine!\"\n",
      "\r\n"
     ]
    }
   ],
   "source": [
    "MethodWithNamedArguments(  StringArgument : \"Any order is fine!\",  IntegerArgument : 1  );"
   ]
  },
  {
   "attachments": {},
   "cell_type": "markdown",
   "metadata": {
    "dotnet_interactive": {
     "language": "csharp"
    },
    "polyglot_notebook": {
     "kernelName": "csharp"
    }
   },
   "source": [
    "<br>"
   ]
  }
 ],
 "metadata": {
  "kernelspec": {
   "display_name": ".NET (C#)",
   "language": "C#",
   "name": ".net-csharp"
  },
  "polyglot_notebook": {
   "kernelInfo": {
    "defaultKernelName": "csharp",
    "items": [
     {
      "aliases": [],
      "name": "csharp"
     }
    ]
   }
  }
 },
 "nbformat": 4,
 "nbformat_minor": 2
}
