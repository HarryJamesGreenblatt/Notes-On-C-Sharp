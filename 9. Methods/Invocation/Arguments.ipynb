{
 "cells": [
  {
   "attachments": {},
   "cell_type": "markdown",
   "metadata": {
    "dotnet_interactive": {
     "language": "csharp"
    },
    "polyglot_notebook": {
     "kernelName": "csharp"
    }
   },
   "source": [
    "# 9. Methods"
   ]
  },
  {
   "attachments": {},
   "cell_type": "markdown",
   "metadata": {
    "dotnet_interactive": {
     "language": "csharp"
    },
    "polyglot_notebook": {
     "kernelName": "csharp"
    }
   },
   "source": [
    "## Invocation\n",
    "### Arguments\n",
    "___"
   ]
  },
  {
   "attachments": {},
   "cell_type": "markdown",
   "metadata": {
    "dotnet_interactive": {
     "language": "csharp"
    },
    "polyglot_notebook": {
     "kernelName": "csharp"
    }
   },
   "source": [
    "### Difference between Parameters and Arguments of a Method"
   ]
  },
  {
   "attachments": {},
   "cell_type": "markdown",
   "metadata": {
    "dotnet_interactive": {
     "language": "csharp"
    },
    "polyglot_notebook": {
     "kernelName": "csharp"
    }
   },
   "source": [
    "It is imperative to distinguish between *parameters* named in the `parameters_list` amidst the Method's *declaration*, and the **values that we pass** when **invoking** a Method.     \n",
    "To clarify, when we *declare* a Method, any of the elements from the `parameters_list` we will call *parameters*."
   ]
  },
  {
   "cell_type": "code",
   "execution_count": 13,
   "metadata": {
    "dotnet_interactive": {
     "language": "csharp"
    },
    "polyglot_notebook": {
     "kernelName": "csharp"
    },
    "vscode": {
     "languageId": "polyglot-notebook"
    }
   },
   "outputs": [],
   "source": [
    "// Import the System.LINQ module, which provides the Enumerable type \n",
    "using System.Linq;\n",
    "\n",
    "\n",
    "// Declare of a simple static Method taking multiple PARAMETERS of different types\n",
    "static void PrintSomethingRepitiously( string ThingToPrint, int TimesToRepeat )\n",
    "{\n",
    "    //Implement a printed message\n",
    "    Console.WriteLine(\n",
    "\n",
    "        // from the primitive string class, \n",
    "        // invoke the built-in Method for String Concatenation\n",
    "        string.Concat(\n",
    "\n",
    "            // from the LINQ module's Enumerable class, \n",
    "            // invoke the built-in Method for String Repitition,\n",
    "            // using our given PARAMETERS \n",
    "            // in order to define what to, and how many times to, Repeat \n",
    "            Enumerable.Repeat(\n",
    "                ThingToPrint,     \n",
    "                TimesToRepeat\n",
    "            )\n",
    "\n",
    "        )\n",
    "\n",
    "    );\n",
    "}"
   ]
  },
  {
   "attachments": {},
   "cell_type": "markdown",
   "metadata": {
    "dotnet_interactive": {
     "language": "csharp"
    },
    "polyglot_notebook": {
     "kernelName": "csharp"
    }
   },
   "source": [
    "<br>"
   ]
  },
  {
   "attachments": {},
   "cell_type": "markdown",
   "metadata": {
    "dotnet_interactive": {
     "language": "csharp"
    },
    "polyglot_notebook": {
     "kernelName": "csharp"
    }
   },
   "source": [
    "After the Method has already been *declared*, and it is now time to **invoke** such a Method, we do so by passing in **arguments** which meet the specification of the `parameters_list` given within in the *declaration* "
   ]
  },
  {
   "cell_type": "code",
   "execution_count": 14,
   "metadata": {
    "dotnet_interactive": {
     "language": "csharp"
    },
    "polyglot_notebook": {
     "kernelName": "csharp"
    },
    "vscode": {
     "languageId": "polyglot-notebook"
    }
   },
   "outputs": [
    {
     "name": "stdout",
     "output_type": "stream",
     "text": [
      "Bet you can't say THIS 5 times fast...Bet you can't say THIS 5 times fast...Bet you can't say THIS 5 times fast...Bet you can't say THIS 5 times fast...Bet you can't say THIS 5 times fast...\r\n"
     ]
    }
   ],
   "source": [
    "// INVOCATION of the Method \n",
    "PrintSomethingRepitiously( \n",
    "\n",
    "    // ARGUMENT for the  string ThingToPrint  parameter,\n",
    "    \"Bet you can't say THIS 5 times fast...\",\n",
    "    \n",
    "    \n",
    "    // ARGUMENT for the  int TimesToRepeat  parameter,   \n",
    "    5                                          \n",
    "\n",
    ");"
   ]
  }
 ],
 "metadata": {
  "kernelspec": {
   "display_name": ".NET (C#)",
   "language": "C#",
   "name": ".net-csharp"
  },
  "polyglot_notebook": {
   "kernelInfo": {
    "defaultKernelName": "csharp",
    "items": [
     {
      "aliases": [
       "c#",
       "C#"
      ],
      "languageName": "C#",
      "name": "csharp"
     },
     {
      "aliases": [
       "frontend"
      ],
      "languageName": null,
      "name": "vscode"
     }
    ]
   }
  }
 },
 "nbformat": 4,
 "nbformat_minor": 2
}
