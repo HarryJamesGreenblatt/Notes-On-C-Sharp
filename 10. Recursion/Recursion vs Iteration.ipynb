{
 "cells": [
  {
   "attachments": {},
   "cell_type": "markdown",
   "metadata": {
    "dotnet_interactive": {
     "language": "csharp"
    },
    "polyglot_notebook": {
     "kernelName": "csharp"
    }
   },
   "source": [
    "# 10. Recursion"
   ]
  },
  {
   "attachments": {},
   "cell_type": "markdown",
   "metadata": {
    "dotnet_interactive": {
     "language": "csharp"
    },
    "polyglot_notebook": {
     "kernelName": "csharp"
    }
   },
   "source": [
    "## Recursion vs Iteration\n",
    "---"
   ]
  },
  {
   "attachments": {},
   "cell_type": "markdown",
   "metadata": {
    "dotnet_interactive": {
     "language": "csharp"
    },
    "polyglot_notebook": {
     "kernelName": "csharp"
    }
   },
   "source": [
    "Suppose we have a seemingly fundamental **recursive** implementation of **factorial**, such as defined below:"
   ]
  },
  {
   "cell_type": "code",
   "execution_count": 1,
   "metadata": {
    "dotnet_interactive": {
     "language": "csharp"
    },
    "polyglot_notebook": {
     "kernelName": "csharp"
    },
    "vscode": {
     "languageId": "polyglot-notebook"
    }
   },
   "outputs": [],
   "source": [
    "// A RECURSIVE Factorial implementation   \n",
    "static double RecursiveFactorial( int n )\n",
    "{\n",
    "\n",
    "    // Test for the base case that represents the bottom of the recursion\n",
    "    if( n == 0 )\n",
    "        return 1;\n",
    "\n",
    "\n",
    "    // Otherwise,\n",
    "    // If the base case is not satisfied, continue on to the next recursive \"subtask\"  \n",
    "    else return n * RecursiveFactorial( n - 1 );\n",
    "\n",
    "}"
   ]
  },
  {
   "attachments": {},
   "cell_type": "markdown",
   "metadata": {
    "dotnet_interactive": {
     "language": "csharp"
    },
    "polyglot_notebook": {
     "kernelName": "csharp"
    }
   },
   "source": [
    "The calculation of **factorial** is often given as an example when explaining the concept of **recursion**.    \n",
    "But, in many cases, **recursion is not the best approach**.\n",
    "   \n",
    "\n",
    "Very often, if we are given a **recurrent** definition of the problem, the **recurrent** solution, is often intuitive and thus leverages less conceptual difficulty, while an **iterative** (**consecutive**) solution often is significantly less obviuous. "
   ]
  },
  {
   "attachments": {},
   "cell_type": "markdown",
   "metadata": {
    "dotnet_interactive": {
     "language": "csharp"
    },
    "polyglot_notebook": {
     "kernelName": "csharp"
    }
   },
   "source": [
    "<br>"
   ]
  },
  {
   "attachments": {},
   "cell_type": "markdown",
   "metadata": {
    "dotnet_interactive": {
     "language": "csharp"
    },
    "polyglot_notebook": {
     "kernelName": "csharp"
    }
   },
   "source": [
    "In this particular case, the implementation of the **iterative solution** is just as short and simple, but **may** also be a bit more *efficient* as well:"
   ]
  },
  {
   "cell_type": "code",
   "execution_count": 2,
   "metadata": {
    "dotnet_interactive": {
     "language": "csharp"
    },
    "polyglot_notebook": {
     "kernelName": "csharp"
    },
    "vscode": {
     "languageId": "polyglot-notebook"
    }
   },
   "outputs": [],
   "source": [
    "// An ITERATIVE implementation\n",
    "static double IterativeFactorial( int n )\n",
    "{\n",
    "\n",
    "    // Allocate a Factorial Accumulator using the  double type, \n",
    "    // which can accomodate certain larger-valued inputs without throwing errors \n",
    "    double FactorialAccumulator = 1;\n",
    "\n",
    "\n",
    "    // Iterating For each Consecutive Integer value, starting from 1, up until n:\n",
    "    for(int ConsecutiveInteger = 1; ConsecutiveInteger <= n; ConsecutiveInteger++)\n",
    "    {\n",
    "    \n",
    "        // Multiply the  Factorial Accumulator by the current Consecutive Integer value\n",
    "        FactorialAccumulator *= ConsecutiveInteger;\n",
    "\n",
    "    }\n",
    "\n",
    "\n",
    "    // After all that,\n",
    "    // the Factorial Accumulator now holds the appropriate Factorial\n",
    "    // corresponding to the given Integer Argument, n.\n",
    "    return FactorialAccumulator; \n",
    "\n",
    "}"
   ]
  },
  {
   "attachments": {},
   "cell_type": "markdown",
   "metadata": {
    "dotnet_interactive": {
     "language": "csharp"
    },
    "polyglot_notebook": {
     "kernelName": "csharp"
    }
   },
   "source": [
    "<br>"
   ]
  },
  {
   "attachments": {},
   "cell_type": "markdown",
   "metadata": {
    "dotnet_interactive": {
     "language": "csharp"
    },
    "polyglot_notebook": {
     "kernelName": "csharp"
    }
   },
   "source": [
    "Below, we clearly see that, in accounting for the difference between timestamps before and after each approach, the **Iterative** solution is in fact a little more efficient in *this case*: "
   ]
  },
  {
   "cell_type": "code",
   "execution_count": 3,
   "metadata": {
    "dotnet_interactive": {
     "language": "csharp"
    },
    "polyglot_notebook": {
     "kernelName": "csharp"
    },
    "vscode": {
     "languageId": "polyglot-notebook"
    }
   },
   "outputs": [
    {
     "name": "stdout",
     "output_type": "stream",
     "text": [
      "Time to process IterativeFactorial( 100 ) = 9.33262154439441E+157:\n",
      "00:00:00.0001429\r\n"
     ]
    }
   ],
   "source": [
    "// Assess the amount of time it takes to run the Iterative solution \n",
    "\n",
    "DateTime BeforeFact = DateTime.Now;\n",
    "\n",
    "double Fact100 = IterativeFactorial( 100 );\n",
    "\n",
    "Console.WriteLine(\n",
    "    $\"Time to process IterativeFactorial( 100 ) = { Fact100 }:\\n{ DateTime.Now - BeforeFact }\"\n",
    ")"
   ]
  },
  {
   "attachments": {},
   "cell_type": "markdown",
   "metadata": {
    "dotnet_interactive": {
     "language": "csharp"
    },
    "polyglot_notebook": {
     "kernelName": "csharp"
    }
   },
   "source": [
    "<br>"
   ]
  },
  {
   "cell_type": "code",
   "execution_count": 4,
   "metadata": {
    "dotnet_interactive": {
     "language": "csharp"
    },
    "polyglot_notebook": {
     "kernelName": "csharp"
    },
    "vscode": {
     "languageId": "polyglot-notebook"
    }
   },
   "outputs": [
    {
     "name": "stdout",
     "output_type": "stream",
     "text": [
      "Time to process Recursivefactorial( 100 ) = 9.33262154439441E+157:\n",
      "00:00:00.0000869\r\n"
     ]
    }
   ],
   "source": [
    "// Assess the amount of time it takes to run the Recursive solution \n",
    "\n",
    "DateTime BeforeFact = DateTime.Now;\n",
    "\n",
    "double Fact100 = RecursiveFactorial( 100 );\n",
    "\n",
    "Console.WriteLine(\n",
    "    $\"Time to process Recursivefactorial( 100 ) = { Fact100 }:\\n{ DateTime.Now - BeforeFact }\"\n",
    ")"
   ]
  },
  {
   "attachments": {},
   "cell_type": "markdown",
   "metadata": {
    "dotnet_interactive": {
     "language": "csharp"
    },
    "polyglot_notebook": {
     "kernelName": "csharp"
    }
   },
   "source": [
    "<br>"
   ]
  },
  {
   "attachments": {},
   "cell_type": "markdown",
   "metadata": {
    "dotnet_interactive": {
     "language": "csharp"
    },
    "polyglot_notebook": {
     "kernelName": "csharp"
    }
   },
   "source": [
    "### Comparative Analysis: Fibonacci Numbers"
   ]
  },
  {
   "attachments": {},
   "cell_type": "markdown",
   "metadata": {
    "dotnet_interactive": {
     "language": "csharp"
    },
    "polyglot_notebook": {
     "kernelName": "csharp"
    }
   },
   "source": [
    "#### Inefficient Recursion"
   ]
  },
  {
   "attachments": {},
   "cell_type": "markdown",
   "metadata": {
    "dotnet_interactive": {
     "language": "csharp"
    },
    "polyglot_notebook": {
     "kernelName": "csharp"
    }
   },
   "source": [
    "Let’s go back to the example with finding the $n^{th}\\,\\,Fibonacci\\,\\,number$ and look more carefully at the naive **recursive** solution:"
   ]
  },
  {
   "cell_type": "code",
   "execution_count": 5,
   "metadata": {
    "dotnet_interactive": {
     "language": "csharp"
    },
    "polyglot_notebook": {
     "kernelName": "csharp"
    },
    "vscode": {
     "languageId": "polyglot-notebook"
    }
   },
   "outputs": [],
   "source": [
    "static long InefficientRecursiveFibonacci( int n )\n",
    "{\n",
    "    if( n <= 2 )\n",
    "        return 1;\n",
    "\n",
    "    else return InefficientRecursiveFibonacci( n - 1 ) + InefficientRecursiveFibonacci( n - 2 );\n",
    "}"
   ]
  },
  {
   "attachments": {},
   "cell_type": "markdown",
   "metadata": {
    "dotnet_interactive": {
     "language": "csharp"
    },
    "polyglot_notebook": {
     "kernelName": "csharp"
    }
   },
   "source": [
    "<br>"
   ]
  },
  {
   "attachments": {},
   "cell_type": "markdown",
   "metadata": {
    "dotnet_interactive": {
     "language": "csharp"
    },
    "polyglot_notebook": {
     "kernelName": "csharp"
    }
   },
   "source": [
    "The above solution is intuitive, short and easy to understand.   \n",
    "At first sight, it seems that this is a great example for applying recursion.    \n",
    "\n",
    "The truth, however, is that this is one of the classical examples of **inappropriate usage of recursion**."
   ]
  },
  {
   "cell_type": "code",
   "execution_count": 6,
   "metadata": {
    "dotnet_interactive": {
     "language": "csharp"
    },
    "polyglot_notebook": {
     "kernelName": "csharp"
    },
    "vscode": {
     "languageId": "polyglot-notebook"
    }
   },
   "outputs": [
    {
     "name": "stdout",
     "output_type": "stream",
     "text": [
      "Time taken to process RecursiveFibonacci( 45 ) = 1134903170:\t00:00:05.7995756\r\n"
     ]
    }
   ],
   "source": [
    "// Observe the current time Before the call to Fibonacci\n",
    "DateTime BeforeFib = DateTime.Now;\n",
    "\n",
    "\n",
    "// Not only does this size n take a reeeeally long time to compute (approx. 5 - 7 seconds), \n",
    "// each consecutive input larger than this will be exponentially slower!\n",
    "long Fib45 = InefficientRecursiveFibonacci( 45 );\n",
    "\n",
    "\n",
    "// Print how long it took to execute the Inefficient Recursive Fibonacci solution \n",
    "Console.WriteLine(\n",
    "    $\"Time taken to process RecursiveFibonacci( 45 ) = { Fib45 }:\\t{ DateTime.Now - BeforeFib }\"\n",
    ")"
   ]
  },
  {
   "attachments": {},
   "cell_type": "markdown",
   "metadata": {
    "dotnet_interactive": {
     "language": "csharp"
    },
    "polyglot_notebook": {
     "kernelName": "csharp"
    }
   },
   "source": [
    "<br>"
   ]
  },
  {
   "attachments": {},
   "cell_type": "markdown",
   "metadata": {
    "dotnet_interactive": {
     "language": "csharp"
    },
    "polyglot_notebook": {
     "kernelName": "csharp"
    }
   },
   "source": [
    "If we set the value of $n$ = `100`, the calculations would take so much time that no one would wait to see the result.\n",
    "      \n",
    "The reason is that each recursive call leads to *two more calls*, and each of *those* calls causes *two more calls*, and so on.\n",
    "That's why the tree of calls grows exponentially as shown on the figure below, where you can notice that `fib(2)` appears below **many** times on the Fibonacci tree:\n",
    "\n",
    "<img src=\"_img/RecursiveFibonacci.jpg\" style=\"display: block; margin: auto\"></img>\n",
    "\n",
    "The count of steps for computing of `fib(100)` is of the order of 1.6 *raised to the power 100* (this could be mathematically proven), whereas, if the solution is **linear**, the count of steps would be *only 100*.\n",
    "   \n",
    "The problem comes from the fact that there are a lot of *excessive calculations*."
   ]
  },
  {
   "attachments": {},
   "cell_type": "markdown",
   "metadata": {
    "dotnet_interactive": {
     "language": "csharp"
    },
    "polyglot_notebook": {
     "kernelName": "csharp"
    }
   },
   "source": [
    "<br>"
   ]
  },
  {
   "attachments": {},
   "cell_type": "markdown",
   "metadata": {
    "dotnet_interactive": {
     "language": "csharp"
    },
    "polyglot_notebook": {
     "kernelName": "csharp"
    }
   },
   "source": [
    "#### Efficient Recursion"
   ]
  },
  {
   "attachments": {},
   "cell_type": "markdown",
   "metadata": {
    "dotnet_interactive": {
     "language": "csharp"
    },
    "polyglot_notebook": {
     "kernelName": "csharp"
    }
   },
   "source": [
    "We can **optimize the recursive method** for calculating the **Fibonacci** numbers by *remembering* (*saving*) the already calculated numbers in an `Array`, and making **recursive** calls only if the number we are trying to calculate has not been calculated yet. \n",
    "   \n",
    "Thanks to this small **optimization technique**, also known in computer science and dynamic optimization as **memoization**, the **recursive** solution would work for *linear* count of steps:"
   ]
  },
  {
   "attachments": {},
   "cell_type": "markdown",
   "metadata": {
    "dotnet_interactive": {
     "language": "csharp"
    },
    "polyglot_notebook": {
     "kernelName": "csharp"
    }
   },
   "source": [
    "<br>"
   ]
  },
  {
   "attachments": {},
   "cell_type": "markdown",
   "metadata": {
    "dotnet_interactive": {
     "language": "csharp"
    },
    "polyglot_notebook": {
     "kernelName": "csharp"
    }
   },
   "source": [
    "Suppose we have the following static instance of some input, `n`, declared at top-level scope."
   ]
  },
  {
   "cell_type": "code",
   "execution_count": 7,
   "metadata": {
    "dotnet_interactive": {
     "language": "csharp"
    },
    "polyglot_notebook": {
     "kernelName": "csharp"
    },
    "vscode": {
     "languageId": "polyglot-notebook"
    }
   },
   "outputs": [],
   "source": [
    "static int n = 100;"
   ]
  },
  {
   "attachments": {},
   "cell_type": "markdown",
   "metadata": {
    "dotnet_interactive": {
     "language": "csharp"
    },
    "polyglot_notebook": {
     "kernelName": "csharp"
    }
   },
   "source": [
    "<br>"
   ]
  },
  {
   "attachments": {},
   "cell_type": "markdown",
   "metadata": {
    "dotnet_interactive": {
     "language": "csharp"
    },
    "polyglot_notebook": {
     "kernelName": "csharp"
    }
   },
   "source": [
    "To implement the **Memoization**, we should declare an `Array` which will store each Previously Visited **Fibonnaci** result.\n",
    "   \n",
    "However, take care to include additional space for 2 elements, a \"*dummy front*\" and a \"*dummy end*\",   \n",
    "which we will designate as **sentinel positions** to help signify the respective *beginning* and *end* of the **recursion**."
   ]
  },
  {
   "cell_type": "code",
   "execution_count": 8,
   "metadata": {
    "dotnet_interactive": {
     "language": "csharp"
    },
    "polyglot_notebook": {
     "kernelName": "csharp"
    },
    "vscode": {
     "languageId": "polyglot-notebook"
    }
   },
   "outputs": [],
   "source": [
    "static long[] PreviouslyVisited = new long[ n + 2 ];"
   ]
  },
  {
   "attachments": {},
   "cell_type": "markdown",
   "metadata": {
    "dotnet_interactive": {
     "language": "csharp"
    },
    "polyglot_notebook": {
     "kernelName": "csharp"
    }
   },
   "source": [
    "<br>"
   ]
  },
  {
   "attachments": {},
   "cell_type": "markdown",
   "metadata": {
    "dotnet_interactive": {
     "language": "csharp"
    },
    "polyglot_notebook": {
     "kernelName": "csharp"
    }
   },
   "source": [
    "By the **recursive** definition, that the **first two values** of the **Fibonacci** sequence are always `1` and `1`, consecutively."
   ]
  },
  {
   "cell_type": "code",
   "execution_count": 9,
   "metadata": {
    "dotnet_interactive": {
     "language": "csharp"
    },
    "polyglot_notebook": {
     "kernelName": "csharp"
    },
    "vscode": {
     "languageId": "polyglot-notebook"
    }
   },
   "outputs": [],
   "source": [
    "PreviouslyVisited[1] = 1;\n",
    "PreviouslyVisited[2] = 1;"
   ]
  },
  {
   "attachments": {},
   "cell_type": "markdown",
   "metadata": {
    "dotnet_interactive": {
     "language": "csharp"
    },
    "polyglot_notebook": {
     "kernelName": "csharp"
    }
   },
   "source": [
    "<br>"
   ]
  },
  {
   "attachments": {},
   "cell_type": "markdown",
   "metadata": {
    "dotnet_interactive": {
     "language": "csharp"
    },
    "polyglot_notebook": {
     "kernelName": "csharp"
    }
   },
   "source": [
    "Observe, finally, that the $0^{th}$ index is purposefully *skipped*, leaving it's value as `0` (given by default at initialization). \n",
    "      \n",
    "This `0` value denotes a **sentinel value** which herein indicates the **bottom of the recursion**. "
   ]
  },
  {
   "cell_type": "code",
   "execution_count": 10,
   "metadata": {
    "dotnet_interactive": {
     "language": "csharp"
    },
    "polyglot_notebook": {
     "kernelName": "csharp"
    },
    "vscode": {
     "languageId": "polyglot-notebook"
    }
   },
   "outputs": [
    {
     "data": {
      "text/html": [
       "<table><thead><tr><th><i>index</i></th><th>value</th></tr></thead><tbody><tr><td>0</td><td><div class=\"dni-plaintext\"><pre>0</pre></div></td></tr><tr><td>1</td><td><div class=\"dni-plaintext\"><pre>1</pre></div></td></tr><tr><td>2</td><td><div class=\"dni-plaintext\"><pre>1</pre></div></td></tr><tr><td>3</td><td><div class=\"dni-plaintext\"><pre>0</pre></div></td></tr><tr><td>4</td><td><div class=\"dni-plaintext\"><pre>0</pre></div></td></tr><tr><td>5</td><td><div class=\"dni-plaintext\"><pre>0</pre></div></td></tr><tr><td>6</td><td><div class=\"dni-plaintext\"><pre>0</pre></div></td></tr><tr><td>7</td><td><div class=\"dni-plaintext\"><pre>0</pre></div></td></tr><tr><td>8</td><td><div class=\"dni-plaintext\"><pre>0</pre></div></td></tr><tr><td>9</td><td><div class=\"dni-plaintext\"><pre>0</pre></div></td></tr><tr><td>10</td><td><div class=\"dni-plaintext\"><pre>0</pre></div></td></tr><tr><td>11</td><td><div class=\"dni-plaintext\"><pre>0</pre></div></td></tr><tr><td>12</td><td><div class=\"dni-plaintext\"><pre>0</pre></div></td></tr><tr><td>13</td><td><div class=\"dni-plaintext\"><pre>0</pre></div></td></tr><tr><td>14</td><td><div class=\"dni-plaintext\"><pre>0</pre></div></td></tr><tr><td>15</td><td><div class=\"dni-plaintext\"><pre>0</pre></div></td></tr><tr><td>16</td><td><div class=\"dni-plaintext\"><pre>0</pre></div></td></tr><tr><td>17</td><td><div class=\"dni-plaintext\"><pre>0</pre></div></td></tr><tr><td>18</td><td><div class=\"dni-plaintext\"><pre>0</pre></div></td></tr><tr><td>19</td><td><div class=\"dni-plaintext\"><pre>0</pre></div></td></tr><tr><td colspan=\"2\"><i>(82 more)</i></td></tr></tbody></table><style>\r\n",
       ".dni-code-hint {\r\n",
       "    font-style: italic;\r\n",
       "    overflow: hidden;\r\n",
       "    white-space: nowrap;\r\n",
       "}\r\n",
       ".dni-treeview {\r\n",
       "    white-space: nowrap;\r\n",
       "}\r\n",
       ".dni-treeview td {\r\n",
       "    vertical-align: top;\r\n",
       "    text-align: start;\r\n",
       "}\r\n",
       "details.dni-treeview {\r\n",
       "    padding-left: 1em;\r\n",
       "}\r\n",
       "table td {\r\n",
       "    text-align: start;\r\n",
       "}\r\n",
       "table tr { \r\n",
       "    vertical-align: top; \r\n",
       "    margin: 0em 0px;\r\n",
       "}\r\n",
       "table tr td pre \r\n",
       "{ \r\n",
       "    vertical-align: top !important; \r\n",
       "    margin: 0em 0px !important;\r\n",
       "} \r\n",
       "table th {\r\n",
       "    text-align: start;\r\n",
       "}\r\n",
       "</style>"
      ]
     },
     "metadata": {},
     "output_type": "display_data"
    }
   ],
   "source": [
    "PreviouslyVisited"
   ]
  },
  {
   "attachments": {},
   "cell_type": "markdown",
   "metadata": {
    "dotnet_interactive": {
     "language": "csharp"
    },
    "polyglot_notebook": {
     "kernelName": "csharp"
    }
   },
   "source": [
    "<br>"
   ]
  },
  {
   "attachments": {},
   "cell_type": "markdown",
   "metadata": {
    "dotnet_interactive": {
     "language": "csharp"
    },
    "polyglot_notebook": {
     "kernelName": "csharp"
    }
   },
   "source": [
    "Having completed these steps, we may now revise the Inefficient Recursive Fibbonaci implementation to process each **Factorial** input **recursively**, but in **linear time**, rather than exponential time."
   ]
  },
  {
   "cell_type": "code",
   "execution_count": 11,
   "metadata": {
    "dotnet_interactive": {
     "language": "csharp"
    },
    "polyglot_notebook": {
     "kernelName": "csharp"
    },
    "vscode": {
     "languageId": "polyglot-notebook"
    }
   },
   "outputs": [],
   "source": [
    "static long EfficientRecursiveFibonacci( int n )\n",
    "{\n",
    "\n",
    "    // If, recurring from the nth element of the Array of Previously Visited Fibonacci results,\n",
    "    // we find that this nth element has reached the sentinel value of the array,\n",
    "    // then we may presume that the result of this Fibonacci( n ) has NOT yet been added to the Array\n",
    "    if( PreviouslyVisited[ n ] == 0 )\n",
    "    {\n",
    "\n",
    "        // As such,\n",
    "        // let this nth index of the Array of Previously Visited Fibonacci results \n",
    "        // store the result of the recursive call to Fibonacci.\n",
    "        PreviouslyVisited[ n ] = \n",
    "            EfficientRecursiveFibonacci( n - 1 ) + EfficientRecursiveFibonacci( n - 2 );\n",
    "\n",
    "    }\n",
    "    \n",
    "    return PreviouslyVisited[ n ];\n",
    "\n",
    "}"
   ]
  },
  {
   "attachments": {},
   "cell_type": "markdown",
   "metadata": {
    "dotnet_interactive": {
     "language": "csharp"
    },
    "polyglot_notebook": {
     "kernelName": "csharp"
    }
   },
   "source": [
    "<br>"
   ]
  },
  {
   "attachments": {},
   "cell_type": "markdown",
   "metadata": {
    "dotnet_interactive": {
     "language": "csharp"
    },
    "polyglot_notebook": {
     "kernelName": "csharp"
    }
   },
   "source": [
    "Below, we see a staggering difference in the execution time after running the Efficient Recursive Fibonacci solution which clearly demonstrates a serious improvement."
   ]
  },
  {
   "cell_type": "code",
   "execution_count": 12,
   "metadata": {
    "dotnet_interactive": {
     "language": "csharp"
    },
    "polyglot_notebook": {
     "kernelName": "csharp"
    },
    "vscode": {
     "languageId": "polyglot-notebook"
    }
   },
   "outputs": [
    {
     "name": "stdout",
     "output_type": "stream",
     "text": [
      "Time taken to process RecursiveFibonacci( 100 ) = 3736710778780434371:\t00:00:00.0000891\r\n"
     ]
    }
   ],
   "source": [
    "// Observe the current time Before the call to Fibonacci\n",
    "DateTime BeforeFib = DateTime.Now;\n",
    "\n",
    "\n",
    "// This version is receiving n = 100, which is an input that's more than twice as high, \n",
    "// but still executes super blazing fast! \n",
    "long Fib100 = EfficientRecursiveFibonacci( n );\n",
    "\n",
    "\n",
    "// Print how long it took to execute the Efficient Recursive Fibonacci solution \n",
    "Console.WriteLine(\n",
    "    $\"Time taken to process RecursiveFibonacci( 100 ) = { Fib100 }:\\t{ DateTime.Now - BeforeFib }\"\n",
    ");"
   ]
  },
  {
   "attachments": {},
   "cell_type": "markdown",
   "metadata": {
    "dotnet_interactive": {
     "language": "csharp"
    },
    "polyglot_notebook": {
     "kernelName": "csharp"
    }
   },
   "source": [
    "<br>"
   ]
  },
  {
   "attachments": {},
   "cell_type": "markdown",
   "metadata": {
    "dotnet_interactive": {
     "language": "csharp"
    },
    "polyglot_notebook": {
     "kernelName": "csharp"
    }
   },
   "source": [
    "#### Iterative"
   ]
  },
  {
   "attachments": {},
   "cell_type": "markdown",
   "metadata": {
    "dotnet_interactive": {
     "language": "csharp"
    },
    "polyglot_notebook": {
     "kernelName": "csharp"
    }
   },
   "source": [
    "It is not hard to notice that we can solve the problem *without* using recursion, by calculating the **Fibonacci** numbers **consecutively**. \n",
    "   \n",
    "For this purpose we are going to keep only the last two calculated elements of the sequence and use them to get the next element. \n",
    "  \n",
    "Below you can see an implementation of the **Iterative** Fibonacci numbers calculation algorithm:"
   ]
  },
  {
   "cell_type": "code",
   "execution_count": 14,
   "metadata": {
    "dotnet_interactive": {
     "language": "csharp"
    },
    "polyglot_notebook": {
     "kernelName": "csharp"
    },
    "vscode": {
     "languageId": "polyglot-notebook"
    }
   },
   "outputs": [],
   "source": [
    "static long IterativeFibonacci( int n )\n",
    "{\n",
    "\n",
    "    // Declare a Fibonacci Accumulator\n",
    "    long FibonacciAccumulator = 0;\n",
    "\n",
    "\n",
    "    // Set up a couple of 'pointers'\n",
    "    // initialized at F(n - 1) = 1  and F(n - 2) = 1, respectively,\n",
    "    // consistent with the recursive definition\n",
    "    long Fibonacci_Of_N_Minus_1 = 1,\n",
    "         Fibonacci_Of_N_Minus_2 = 1;\n",
    "\n",
    "\n",
    "    // Iterating For every Consecutive Integer from 2, \n",
    "    // up until, but not including, n\n",
    "    for( int ConsecutiveInteger = 0; ConsecutiveInteger < n; ConsecutiveInteger++ )\n",
    "    {\n",
    "\n",
    "        // Derive the next sub-component of the Fibonacci Accumulator\n",
    "        // by adding the two previous values which came before,\n",
    "        // again, consistent with the recursive definition\n",
    "        FibonacciAccumulator = Fibonacci_Of_N_Minus_1 + Fibonacci_Of_N_Minus_2;\n",
    "\n",
    "\n",
    "        // Advance the Fibonacci_Of_N_Minus_2 pointer \n",
    "        // to where the Fibonacci_Of_N_Minus_1 pointer currently is\n",
    "        Fibonacci_Of_N_Minus_2 = Fibonacci_Of_N_Minus_1;\n",
    "\n",
    "\n",
    "        // Advance the Fibonacci_Of_N_Minus_1 pointer\n",
    "        // to where the Fibonacci Accumulator currently is\n",
    "        Fibonacci_Of_N_Minus_1 = FibonacciAccumulator;\n",
    "\n",
    "    }\n",
    "\n",
    "\n",
    "    // After all that, the Fibonacci Accumulator now stores\n",
    "    // the appropriate Fibonacci number corresponding to the \n",
    "    // given input, n\n",
    "    return FibonacciAccumulator; \n",
    "\n",
    "}"
   ]
  },
  {
   "attachments": {},
   "cell_type": "markdown",
   "metadata": {
    "dotnet_interactive": {
     "language": "csharp"
    },
    "polyglot_notebook": {
     "kernelName": "csharp"
    }
   },
   "source": [
    "<br>"
   ]
  },
  {
   "attachments": {},
   "cell_type": "markdown",
   "metadata": {
    "dotnet_interactive": {
     "language": "csharp"
    },
    "polyglot_notebook": {
     "kernelName": "csharp"
    }
   },
   "source": [
    "Once more, we see that the **Iterative Solution**, in *this case*, presents the fastest execution speed,  \n",
    "but provides only a marginal improvement over the *Efficient Recursive* solution:"
   ]
  },
  {
   "cell_type": "code",
   "execution_count": 15,
   "metadata": {
    "dotnet_interactive": {
     "language": "csharp"
    },
    "polyglot_notebook": {
     "kernelName": "csharp"
    },
    "vscode": {
     "languageId": "polyglot-notebook"
    }
   },
   "outputs": [
    {
     "name": "stdout",
     "output_type": "stream",
     "text": [
      "Time taken to process IterativeFibonacci( 100 ) = 5035488507601418376:\t00:00:00.0000711\r\n"
     ]
    }
   ],
   "source": [
    "// Observe the current time Before the call to Fibonacci\n",
    "DateTime BeforeFib = DateTime.Now;\n",
    "\n",
    "\n",
    "// This version is receiving n = 100, which is an input that's more than twice as high, \n",
    "// but still executes super blazing fast! \n",
    "long Fib100 = IterativeFibonacci( n );\n",
    "\n",
    "\n",
    "// Print how long it took to execute the Efficient Recursive Fibonacci solution \n",
    "Console.WriteLine(\n",
    "    $\"Time taken to process IterativeFibonacci( 100 ) = { Fib100 }:\\t{ DateTime.Now - BeforeFib }\"\n",
    ");"
   ]
  },
  {
   "attachments": {},
   "cell_type": "markdown",
   "metadata": {
    "dotnet_interactive": {
     "language": "csharp"
    },
    "polyglot_notebook": {
     "kernelName": "csharp"
    }
   },
   "source": [
    "<br>"
   ]
  },
  {
   "attachments": {},
   "cell_type": "markdown",
   "metadata": {
    "dotnet_interactive": {
     "language": "csharp"
    },
    "polyglot_notebook": {
     "kernelName": "csharp"
    }
   },
   "source": [
    "### Choosing a Recursive or Iterative Approach based on Problem Requirements"
   ]
  },
  {
   "attachments": {},
   "cell_type": "markdown",
   "metadata": {
    "dotnet_interactive": {
     "language": "csharp"
    },
    "polyglot_notebook": {
     "kernelName": "csharp"
    }
   },
   "source": [
    "#### Linear Computational Processes"
   ]
  },
  {
   "attachments": {},
   "cell_type": "markdown",
   "metadata": {
    "dotnet_interactive": {
     "language": "csharp"
    },
    "polyglot_notebook": {
     "kernelName": "csharp"
    }
   },
   "source": [
    "Generally, when we have a **linear computational process**, we *do not* have to use **recursion**,   \n",
    "because **iteration** can be constructed easily and leads to simple and efficient calculations.    \n",
    "   \n",
    "An example of **linear computational process** is the calculation of **factorial**.     \n",
    "In it, we calculate the elements of the sequence in which every *next element* depends only on the *previous ones*.   \n",
    "   \n",
    "What is distinctive about the **linear computational processes** is that on each step of the calculating recursion is called only *once*, only in *one direction*.   "
   ]
  },
  {
   "attachments": {},
   "cell_type": "markdown",
   "metadata": {
    "dotnet_interactive": {
     "language": "csharp"
    },
    "polyglot_notebook": {
     "kernelName": "csharp"
    }
   },
   "source": [
    "Schematically, a **linear computational process** we can describe as follows:"
   ]
  },
  {
   "attachments": {},
   "cell_type": "markdown",
   "metadata": {
    "dotnet_interactive": {
     "language": "csharp"
    },
    "polyglot_notebook": {
     "kernelName": "csharp"
    }
   },
   "source": [
    "```c#\n",
    "[access_modifier]  return_type  RecursiveMethodName( [parameters_list] )\n",
    "{\n",
    "    // do some stuff...\n",
    "    \n",
    "    RecursiveMethodName( SomeArgument );\n",
    "    \n",
    "    // do some other stuff...\n",
    "}\n",
    "```"
   ]
  },
  {
   "attachments": {},
   "cell_type": "markdown",
   "metadata": {
    "dotnet_interactive": {
     "language": "csharp"
    },
    "polyglot_notebook": {
     "kernelName": "csharp"
    }
   },
   "source": [
    "In such a process, when we have **only one recursive call** in the body of the Method, it is *not necessary* to use **recursion**, because the **iteration** is obvious."
   ]
  },
  {
   "attachments": {},
   "cell_type": "markdown",
   "metadata": {
    "dotnet_interactive": {
     "language": "csharp"
    },
    "polyglot_notebook": {
     "kernelName": "csharp"
    }
   },
   "source": [
    "<br>"
   ]
  },
  {
   "attachments": {},
   "cell_type": "markdown",
   "metadata": {
    "dotnet_interactive": {
     "language": "csharp"
    },
    "polyglot_notebook": {
     "kernelName": "csharp"
    }
   },
   "source": [
    "#### Tree-Like (Branched) Computational Processes"
   ]
  },
  {
   "attachments": {},
   "cell_type": "markdown",
   "metadata": {
    "dotnet_interactive": {
     "language": "csharp"
    },
    "polyglot_notebook": {
     "kernelName": "csharp"
    }
   },
   "source": [
    "In **tree-like (branched) computational processes** on each step of the **recursion**, *multiple* recursive calls are made, and the scheme of calculations, could be visualized as a *tree* (and not as a list like in linear calculations)."
   ]
  },
  {
   "attachments": {},
   "cell_type": "markdown",
   "metadata": {
    "dotnet_interactive": {
     "language": "csharp"
    },
    "polyglot_notebook": {
     "kernelName": "csharp"
    }
   },
   "source": [
    "Schematically, a **tree-like (branched) computational processes** we can describe as follows:"
   ]
  },
  {
   "attachments": {},
   "cell_type": "markdown",
   "metadata": {
    "dotnet_interactive": {
     "language": "csharp"
    },
    "polyglot_notebook": {
     "kernelName": "csharp"
    }
   },
   "source": [
    "```c#\n",
    "[access_modifier]  return_type  RecursiveMethodName( [parameters_list] )\n",
    "{  \n",
    "    if( SomeStuff )\n",
    "    {\n",
    "        return RecursiveMethodName( SomeArgument );\n",
    "    }\n",
    "     \n",
    "    else if( SomeOtherStuff )\n",
    "    {\n",
    "        return RecursiveMethodName( SomeOtherArgument );\n",
    "    }  \n",
    "}\n",
    "```"
   ]
  },
  {
   "attachments": {},
   "cell_type": "markdown",
   "metadata": {
    "dotnet_interactive": {
     "language": "csharp"
    },
    "polyglot_notebook": {
     "kernelName": "csharp"
    }
   },
   "source": [
    "<br>"
   ]
  },
  {
   "attachments": {},
   "cell_type": "markdown",
   "metadata": {
    "dotnet_interactive": {
     "language": "csharp"
    },
    "polyglot_notebook": {
     "kernelName": "csharp"
    }
   },
   "source": [
    "### Which is Better: Recursion or Iteration?"
   ]
  },
  {
   "attachments": {},
   "cell_type": "markdown",
   "metadata": {
    "dotnet_interactive": {
     "language": "csharp"
    },
    "polyglot_notebook": {
     "kernelName": "csharp"
    }
   },
   "source": [
    "#### The Basic Rule of Thumb\n",
    "\n",
    "- For **branched recursive calculations**, use **recursion** (and ensure each value is calculated only once). \n",
    "- For **linear recursive calculations** use **iteration**.\n"
   ]
  },
  {
   "attachments": {},
   "cell_type": "markdown",
   "metadata": {
    "dotnet_interactive": {
     "language": "csharp"
    },
    "polyglot_notebook": {
     "kernelName": "csharp"
    }
   },
   "source": [
    "<br>"
   ]
  },
  {
   "attachments": {},
   "cell_type": "markdown",
   "metadata": {
    "dotnet_interactive": {
     "language": "csharp"
    },
    "polyglot_notebook": {
     "kernelName": "csharp"
    }
   },
   "source": [
    "#### Important Considerations"
   ]
  },
  {
   "attachments": {},
   "cell_type": "markdown",
   "metadata": {
    "dotnet_interactive": {
     "language": "csharp"
    },
    "polyglot_notebook": {
     "kernelName": "csharp"
    }
   },
   "source": [
    "If the algorithm solving of the problem is **recursive**, the implementation of recursive solution can be much more *readable* and *elegant* than **iterative** solution to the same problem."
   ]
  },
  {
   "attachments": {},
   "cell_type": "markdown",
   "metadata": {
    "dotnet_interactive": {
     "language": "csharp"
    },
    "polyglot_notebook": {
     "kernelName": "csharp"
    }
   },
   "source": [
    "    \n",
    "While **recursion** is powerful programming technique, we have to think carefully before using it, because if used incorrectly, it can lead to inefficient and tough to understand and maintain solutions. \n",
    "   \n",
    "As such, If by using **recursion** we reach a simpler, shorter and easier for understanding solution, without causing inefficiency and other side effects, then we can prefer **recursive** solution.   \n",
    "\n",
    "Otherwise, it is better to consider the **iterative** approach."
   ]
  }
 ],
 "metadata": {
  "kernelspec": {
   "display_name": ".NET (C#)",
   "language": "C#",
   "name": ".net-csharp"
  },
  "polyglot_notebook": {
   "kernelInfo": {
    "defaultKernelName": "csharp",
    "items": [
     {
      "aliases": [
       "c#",
       "C#"
      ],
      "languageName": "C#",
      "name": "csharp"
     },
     {
      "aliases": [
       "js"
      ],
      "languageName": "JavaScript",
      "name": "javascript"
     },
     {
      "aliases": [],
      "name": "webview"
     },
     {
      "aliases": [],
      "languageName": null,
      "name": ".NET"
     },
     {
      "aliases": [
       "frontend"
      ],
      "languageName": null,
      "name": "vscode"
     },
     {
      "aliases": [
       "f#",
       "F#"
      ],
      "languageName": "F#",
      "name": "fsharp"
     },
     {
      "aliases": [],
      "languageName": "HTML",
      "name": "html"
     },
     {
      "aliases": [],
      "languageName": "KQL",
      "name": "kql"
     },
     {
      "aliases": [],
      "languageName": "Mermaid",
      "name": "mermaid"
     },
     {
      "aliases": [
       "powershell"
      ],
      "languageName": "PowerShell",
      "name": "pwsh"
     },
     {
      "aliases": [],
      "languageName": "SQL",
      "name": "sql"
     },
     {
      "aliases": [],
      "name": "value"
     }
    ]
   }
  }
 },
 "nbformat": 4,
 "nbformat_minor": 2
}
