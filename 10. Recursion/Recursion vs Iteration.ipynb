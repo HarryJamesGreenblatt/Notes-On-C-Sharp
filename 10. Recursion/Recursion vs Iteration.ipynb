{
 "cells": [
  {
   "attachments": {},
   "cell_type": "markdown",
   "metadata": {},
   "source": [
    "# 10. Recursion"
   ]
  },
  {
   "attachments": {},
   "cell_type": "markdown",
   "metadata": {
    "dotnet_interactive": {
     "language": "csharp"
    },
    "polyglot_notebook": {
     "kernelName": "csharp"
    }
   },
   "source": [
    "## Recursion vs Iteration\n",
    "---"
   ]
  },
  {
   "attachments": {},
   "cell_type": "markdown",
   "metadata": {
    "dotnet_interactive": {
     "language": "csharp"
    },
    "polyglot_notebook": {
     "kernelName": "csharp"
    }
   },
   "source": [
    "Suppose we have a seemingly fundamental **recursive** implementation of **factorial**, such as defined below:"
   ]
  },
  {
   "cell_type": "code",
   "execution_count": 3,
   "metadata": {
    "dotnet_interactive": {
     "language": "csharp"
    },
    "polyglot_notebook": {
     "kernelName": "csharp"
    },
    "vscode": {
     "languageId": "polyglot-notebook"
    }
   },
   "outputs": [],
   "source": [
    "// A RECURSIVE Factorial implementation   \n",
    "static decimal RecursiveFactorial( int n )\n",
    "{\n",
    "\n",
    "    // Test for the base case that represents the bottom of the recursion\n",
    "    if( n == 0 )\n",
    "        return 1;\n",
    "\n",
    "    // Otherwise,\n",
    "    // If the base case is not satisfied, continue on to the next recursive \"subtask\"  \n",
    "    else return n * RecursiveFactorial( n - 1 );\n",
    "\n",
    "}"
   ]
  },
  {
   "attachments": {},
   "cell_type": "markdown",
   "metadata": {
    "dotnet_interactive": {
     "language": "csharp"
    },
    "polyglot_notebook": {
     "kernelName": "csharp"
    }
   },
   "source": [
    "The calculation of **factorial** is often given as an example when explaining the concept of **recursion**, but in this case, as in many others, **recursion is not the best approach**.\n",
    "   \n",
    "\n",
    "Very often, if we are given a **recurrent** definition of the problem, the **recurrent** solution, is often intuitive and thus leverages less conceptual difficulty, while an **iterative** (**consecutive**) solution often is significantly less obviuous. "
   ]
  },
  {
   "attachments": {},
   "cell_type": "markdown",
   "metadata": {
    "dotnet_interactive": {
     "language": "csharp"
    },
    "polyglot_notebook": {
     "kernelName": "csharp"
    }
   },
   "source": [
    "<br>"
   ]
  },
  {
   "attachments": {},
   "cell_type": "markdown",
   "metadata": {
    "dotnet_interactive": {
     "language": "csharp"
    },
    "polyglot_notebook": {
     "kernelName": "csharp"
    }
   },
   "source": [
    "In this particular case, the implementation of the **iterative solution** is just as short and simple, but is also a bit more *efficient*:"
   ]
  },
  {
   "cell_type": "code",
   "execution_count": 2,
   "metadata": {
    "dotnet_interactive": {
     "language": "csharp"
    },
    "polyglot_notebook": {
     "kernelName": "csharp"
    },
    "vscode": {
     "languageId": "polyglot-notebook"
    }
   },
   "outputs": [],
   "source": [
    "// An ITERATIVE implementation\n",
    "static decimal IterativeFactorial( int n )\n",
    "{\n",
    "\n",
    "    // Allocate a decimal type Factorial Accumulator \n",
    "    // which can accomodate larger-valued inputs without throwing errors \n",
    "    decimal FactorialAccumulator = 1;\n",
    "\n",
    "\n",
    "    // Iterating For each Consecutive Integer value, starting from 1, up until n:\n",
    "    for(int ConsecutiveInteger = 1; ConsecutiveInteger <= n; ConsecutiveInteger++)\n",
    "    {\n",
    "    \n",
    "        // multiply the  Factorial Accumulator by the current Consecutive Integer value\n",
    "        FactorialAccumulator *= ConsecutiveInteger;\n",
    "\n",
    "    }\n",
    "\n",
    "    // After all that,\n",
    "    // the Factorial Accumulator now holds the appropriate Factorial\n",
    "    // corresponding to the given Integer Argument, n.\n",
    "    return FactorialAccumulator; \n",
    "\n",
    "}"
   ]
  }
 ],
 "metadata": {
  "kernelspec": {
   "display_name": ".NET (C#)",
   "language": "C#",
   "name": ".net-csharp"
  },
  "polyglot_notebook": {
   "kernelInfo": {
    "defaultKernelName": "csharp",
    "items": [
     {
      "aliases": [],
      "name": "csharp"
     }
    ]
   }
  }
 },
 "nbformat": 4,
 "nbformat_minor": 2
}
