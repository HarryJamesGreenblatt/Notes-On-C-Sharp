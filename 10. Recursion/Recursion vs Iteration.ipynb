{
 "cells": [
  {
   "attachments": {},
   "cell_type": "markdown",
   "metadata": {
    "dotnet_interactive": {
     "language": "csharp"
    },
    "polyglot_notebook": {
     "kernelName": "csharp"
    }
   },
   "source": [
    "# 10. Recursion"
   ]
  },
  {
   "attachments": {},
   "cell_type": "markdown",
   "metadata": {
    "dotnet_interactive": {
     "language": "csharp"
    },
    "polyglot_notebook": {
     "kernelName": "csharp"
    }
   },
   "source": [
    "## Recursion vs Iteration\n",
    "---"
   ]
  },
  {
   "attachments": {},
   "cell_type": "markdown",
   "metadata": {
    "dotnet_interactive": {
     "language": "csharp"
    },
    "polyglot_notebook": {
     "kernelName": "csharp"
    }
   },
   "source": [
    "Suppose we have a seemingly fundamental **recursive** implementation of **factorial**, such as defined below:"
   ]
  },
  {
   "cell_type": "code",
   "execution_count": 1,
   "metadata": {
    "dotnet_interactive": {
     "language": "csharp"
    },
    "polyglot_notebook": {
     "kernelName": "csharp"
    },
    "vscode": {
     "languageId": "polyglot-notebook"
    }
   },
   "outputs": [],
   "source": [
    "// A RECURSIVE Factorial implementation   \n",
    "static decimal RecursiveFactorial( int n )\n",
    "{\n",
    "\n",
    "    // Test for the base case that represents the bottom of the recursion\n",
    "    if( n == 0 )\n",
    "        return 1;\n",
    "\n",
    "\n",
    "    // Otherwise,\n",
    "    // If the base case is not satisfied, continue on to the next recursive \"subtask\"  \n",
    "    else return n * RecursiveFactorial( n - 1 );\n",
    "\n",
    "}"
   ]
  },
  {
   "attachments": {},
   "cell_type": "markdown",
   "metadata": {
    "dotnet_interactive": {
     "language": "csharp"
    },
    "polyglot_notebook": {
     "kernelName": "csharp"
    }
   },
   "source": [
    "The calculation of **factorial** is often given as an example when explaining the concept of **recursion**, but in this case, as in many others, **recursion is not the best approach**.\n",
    "   \n",
    "\n",
    "Very often, if we are given a **recurrent** definition of the problem, the **recurrent** solution, is often intuitive and thus leverages less conceptual difficulty, while an **iterative** (**consecutive**) solution often is significantly less obviuous. "
   ]
  },
  {
   "attachments": {},
   "cell_type": "markdown",
   "metadata": {
    "dotnet_interactive": {
     "language": "csharp"
    },
    "polyglot_notebook": {
     "kernelName": "csharp"
    }
   },
   "source": [
    "<br>"
   ]
  },
  {
   "attachments": {},
   "cell_type": "markdown",
   "metadata": {
    "dotnet_interactive": {
     "language": "csharp"
    },
    "polyglot_notebook": {
     "kernelName": "csharp"
    }
   },
   "source": [
    "In this particular case, the implementation of the **iterative solution** is just as short and simple, but **may** also be a bit more *efficient* as well:"
   ]
  },
  {
   "cell_type": "code",
   "execution_count": 2,
   "metadata": {
    "dotnet_interactive": {
     "language": "csharp"
    },
    "polyglot_notebook": {
     "kernelName": "csharp"
    },
    "vscode": {
     "languageId": "polyglot-notebook"
    }
   },
   "outputs": [],
   "source": [
    "// An ITERATIVE implementation\n",
    "static decimal IterativeFactorial( int n )\n",
    "{\n",
    "\n",
    "    // Allocate a Factorial Accumulator using the  decimal type, \n",
    "    // which can accomodate certain larger-valued inputs without throwing errors \n",
    "    decimal FactorialAccumulator = 1;\n",
    "\n",
    "\n",
    "    // Iterating For each Consecutive Integer value, starting from 1, up until n:\n",
    "    for(int ConsecutiveInteger = 1; ConsecutiveInteger <= n; ConsecutiveInteger++)\n",
    "    {\n",
    "    \n",
    "        // multiply the  Factorial Accumulator by the current Consecutive Integer value\n",
    "        FactorialAccumulator *= ConsecutiveInteger;\n",
    "\n",
    "    }\n",
    "\n",
    "\n",
    "    // After all that,\n",
    "    // the Factorial Accumulator now holds the appropriate Factorial\n",
    "    // corresponding to the given Integer Argument, n.\n",
    "    return FactorialAccumulator; \n",
    "\n",
    "}"
   ]
  },
  {
   "attachments": {},
   "cell_type": "markdown",
   "metadata": {
    "dotnet_interactive": {
     "language": "csharp"
    },
    "polyglot_notebook": {
     "kernelName": "csharp"
    }
   },
   "source": [
    "<br>"
   ]
  },
  {
   "attachments": {},
   "cell_type": "markdown",
   "metadata": {
    "dotnet_interactive": {
     "language": "csharp"
    },
    "polyglot_notebook": {
     "kernelName": "csharp"
    }
   },
   "source": [
    "Below, we clearly see that, in accounting for the difference between timestamps before and after each approach, the **Recursive** solution is actually a little more efficient in this case: "
   ]
  },
  {
   "cell_type": "code",
   "execution_count": 3,
   "metadata": {
    "dotnet_interactive": {
     "language": "csharp"
    },
    "polyglot_notebook": {
     "kernelName": "csharp"
    },
    "vscode": {
     "languageId": "polyglot-notebook"
    }
   },
   "outputs": [
    {
     "name": "stdout",
     "output_type": "stream",
     "text": [
      "Time to process IterativeFactorial( 25 ) = 15511210043330985984000000:\n",
      "00:00:00.0003432\r\n"
     ]
    }
   ],
   "source": [
    "// Assess the amount of time it takes to run the Iterative solution \n",
    "\n",
    "DateTime BeforeFact = DateTime.Now;\n",
    "\n",
    "decimal Fact25 = IterativeFactorial( 25 );\n",
    "\n",
    "Console.WriteLine(\n",
    "    $\"Time to process IterativeFactorial( 25 ) = { Fact25 }:\\n{ DateTime.Now - BeforeFact }\"\n",
    ")"
   ]
  },
  {
   "cell_type": "code",
   "execution_count": 4,
   "metadata": {
    "dotnet_interactive": {
     "language": "csharp"
    },
    "polyglot_notebook": {
     "kernelName": "csharp"
    },
    "vscode": {
     "languageId": "polyglot-notebook"
    }
   },
   "outputs": [
    {
     "name": "stdout",
     "output_type": "stream",
     "text": [
      "Time to process Recursivefactorial( 25 ) = 15511210043330985984000000:\n",
      "00:00:00.0002110\r\n"
     ]
    }
   ],
   "source": [
    "// Assess the amount of time it takes to run the Recursive solution \n",
    "\n",
    "DateTime BeforeFact = DateTime.Now;\n",
    "\n",
    "decimal Fact25 = RecursiveFactorial( 25 );\n",
    "\n",
    "Console.WriteLine(\n",
    "    $\"Time to process Recursivefactorial( 25 ) = { Fact25 }:\\n{ DateTime.Now - BeforeFact }\"\n",
    ")"
   ]
  },
  {
   "attachments": {},
   "cell_type": "markdown",
   "metadata": {
    "dotnet_interactive": {
     "language": "csharp"
    },
    "polyglot_notebook": {
     "kernelName": "csharp"
    }
   },
   "source": [
    "<br>"
   ]
  },
  {
   "attachments": {},
   "cell_type": "markdown",
   "metadata": {
    "dotnet_interactive": {
     "language": "csharp"
    },
    "polyglot_notebook": {
     "kernelName": "csharp"
    }
   },
   "source": [
    "### Which is Better: Recursion or Iteration?"
   ]
  },
  {
   "attachments": {},
   "cell_type": "markdown",
   "metadata": {
    "dotnet_interactive": {
     "language": "csharp"
    },
    "polyglot_notebook": {
     "kernelName": "csharp"
    }
   },
   "source": [
    "If the algorithm solving of the problem is **recursive**, the implementation of recursive solution can be much more *readable* and *elegant* than **iterative** solution to the same problem."
   ]
  },
  {
   "attachments": {},
   "cell_type": "markdown",
   "metadata": {
    "dotnet_interactive": {
     "language": "csharp"
    },
    "polyglot_notebook": {
     "kernelName": "csharp"
    }
   },
   "source": [
    "    \n",
    "While **recursion** is powerful programming technique, we have to think carefully before using it, because if used incorrectly, it can lead to inefficient and tough to understand and maintain solutions. \n",
    "   \n",
    "As such, If by using **recursion** we reach a simpler, shorter and easier for understanding solution, without causing inefficiency and other side effects, then we can prefer **recursive** solution. Otherwise, it is better to consider the **iterative** approach."
   ]
  }
 ],
 "metadata": {
  "kernelspec": {
   "display_name": ".NET (C#)",
   "language": "C#",
   "name": ".net-csharp"
  },
  "polyglot_notebook": {
   "kernelInfo": {
    "defaultKernelName": "csharp",
    "items": [
     {
      "aliases": [],
      "name": "csharp"
     }
    ]
   }
  }
 },
 "nbformat": 4,
 "nbformat_minor": 2
}
