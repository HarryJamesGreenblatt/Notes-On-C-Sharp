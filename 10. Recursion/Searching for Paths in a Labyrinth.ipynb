{
 "cells": [
  {
   "attachments": {},
   "cell_type": "markdown",
   "metadata": {
    "dotnet_interactive": {
     "language": "csharp"
    },
    "polyglot_notebook": {
     "kernelName": "csharp"
    }
   },
   "source": [
    "# 10. Recursion"
   ]
  },
  {
   "attachments": {},
   "cell_type": "markdown",
   "metadata": {
    "dotnet_interactive": {
     "language": "csharp"
    },
    "polyglot_notebook": {
     "kernelName": "csharp"
    }
   },
   "source": [
    "## Searching for Paths in a Labyrinth\n",
    "### Our $\\text{low-key}$ First Real Lesson in Game Design\n",
    "---"
   ]
  },
  {
   "attachments": {},
   "cell_type": "markdown",
   "metadata": {
    "dotnet_interactive": {
     "language": "csharp"
    },
    "polyglot_notebook": {
     "kernelName": "csharp"
    }
   },
   "source": [
    "Let's suppose we are given a **labyrinth** with a *rectangular* shape, consisting of $N \\times M$ \"squares\".    \n",
    "\n",
    "Each \"square\" is either *passable* or *impassable*.\n",
    "      \n",
    "An adventurer enters the labyrinth from its *top left corner* (the **start**) and has to **reach the bottom right corner** of the labyrinth (the **end**).    \n",
    "\n",
    "\n",
    "<img src=\"_img/LabryinthOverview.jpg\" style=\"display: block; margin: auto; width: 400px;\"></img>\n",
    "\n",
    "   \n",
    "At each turn, the adventurer can move $\\text{one position}$ $up$, $down$, $left$, or $right$, but may not go outside the boundaries of the labyrinth, or step on an impassable \"square\". \n",
    "   \n",
    "It is also **prohibited to revisit the same \"square\"**."
   ]
  },
  {
   "attachments": {},
   "cell_type": "markdown",
   "metadata": {
    "dotnet_interactive": {
     "language": "csharp"
    },
    "polyglot_notebook": {
     "kernelName": "csharp"
    }
   },
   "source": [
    "<br>"
   ]
  },
  {
   "attachments": {},
   "cell_type": "markdown",
   "metadata": {
    "dotnet_interactive": {
     "language": "csharp"
    },
    "polyglot_notebook": {
     "kernelName": "csharp"
    }
   },
   "source": [
    "To translate this concept into C# terms, we are going to use a **two-dimensional** `Array` of **characters**.    \n",
    "   \n",
    "In it we are going to mark the *passable* positions with the character `'_'` (**underscore**), the **end** of the labyrinth with the `e` character, and  the *impassable* positions with `*` character.  \n",
    "   \n",
    "The **starting position** is marked as *passable* position.    "
   ]
  },
  {
   "cell_type": "code",
   "execution_count": 1,
   "metadata": {
    "dotnet_interactive": {
     "language": "csharp"
    },
    "polyglot_notebook": {
     "kernelName": "csharp"
    },
    "vscode": {
     "languageId": "polyglot-notebook"
    }
   },
   "outputs": [],
   "source": [
    "// A Two Dimensional Character Array representation of the Labryinth defined above\n",
    "char[ , ] Labryinth =\n",
    "{\n",
    "    //       M Columns             BY\n",
    "    {'_','_','_','*','_','_','_'}, //\n",
    "    {'*','*','_','*','_','*','_'}, //\n",
    "    {'_','_','_','_','_','_','_'}, //      N Rows\n",
    "    {'_','*','*','*','*','*','_'}, //\n",
    "    {'_','_','_','_','_','_','e'}, //\n",
    "};"
   ]
  },
  {
   "attachments": {},
   "cell_type": "markdown",
   "metadata": {
    "dotnet_interactive": {
     "language": "csharp"
    },
    "polyglot_notebook": {
     "kernelName": "csharp"
    }
   },
   "source": [
    "<br>"
   ]
  },
  {
   "attachments": {},
   "cell_type": "markdown",
   "metadata": {
    "dotnet_interactive": {
     "language": "csharp"
    },
    "polyglot_notebook": {
     "kernelName": "csharp"
    }
   },
   "source": [
    "Further, in accordance with the the example above,   \n",
    "the $\\text{number of rows}$, corresponding to $N$, is accesible in C# by way of the built-in Multidimensional Array method `GetLength( 0 )`, while the $\\text{number of columns}$ corresponding to $M$, is subsequently accesible in C# by way of `GetLength( 1 )`. "
   ]
  },
  {
   "cell_type": "code",
   "execution_count": 2,
   "metadata": {
    "dotnet_interactive": {
     "language": "csharp"
    },
    "polyglot_notebook": {
     "kernelName": "csharp"
    },
    "vscode": {
     "languageId": "polyglot-notebook"
    }
   },
   "outputs": [],
   "source": [
    "int N = Labryinth.GetLength( 0 ),\n",
    "    M = Labryinth.GetLength( 1 );"
   ]
  },
  {
   "attachments": {},
   "cell_type": "markdown",
   "metadata": {
    "dotnet_interactive": {
     "language": "csharp"
    },
    "polyglot_notebook": {
     "kernelName": "csharp"
    }
   },
   "source": [
    "<br>"
   ]
  },
  {
   "attachments": {},
   "cell_type": "markdown",
   "metadata": {
    "dotnet_interactive": {
     "language": "csharp"
    },
    "polyglot_notebook": {
     "kernelName": "csharp"
    }
   },
   "source": [
    "To assist in visualizing our **two dimensional** `Labryinth`, we may define the following method for iteratively printing the full $M \\times N$ grid of \"squares\" which it is made up of:  "
   ]
  },
  {
   "cell_type": "code",
   "execution_count": 3,
   "metadata": {
    "dotnet_interactive": {
     "language": "csharp"
    },
    "polyglot_notebook": {
     "kernelName": "csharp"
    },
    "vscode": {
     "languageId": "polyglot-notebook"
    }
   },
   "outputs": [],
   "source": [
    "// A helper method which prints out the 2D char array representation\n",
    "// of the Labryinth\n",
    "void DisplayLabrynth( char[ , ] labryinth )\n",
    "{\n",
    "\n",
    "    // Observe the First Row and Last Row Indices of the labryinth,\n",
    "    // along with the First Column and Last Column Indices of the labryinth\n",
    "    int FirstRowIndex = 0,\n",
    "        FirstColIndex = 0,\n",
    "        LastRowIndex  = labryinth.GetLength( 0 ) - 1,\n",
    "        LastColIndex  = labryinth.GetLength( 1 ) - 1;\n",
    "\n",
    "\n",
    "    // Iterating For each of the elements from the First Row Index of the labryinth \n",
    "    // up until the Last Row Index:\n",
    "    for( int CurrentRowIndex = FirstRowIndex; CurrentRowIndex <= LastRowIndex; CurrentRowIndex++ )\n",
    "    {\n",
    "\n",
    "        // Iterating For each of the elements from the First Column Index of the labryinth \n",
    "        // up until the Last Column Index:\n",
    "        for( int CurrentColIndex = FirstColIndex; CurrentColIndex <= LastColIndex; CurrentColIndex++ )\n",
    "        {\n",
    "\n",
    "            // Print the Value at the Current Col Index\n",
    "            Console.Write(\n",
    "                \"{0,-3}\", \n",
    "                $\"{ labryinth[ CurrentRowIndex ,  CurrentColIndex ] } \"\n",
    "            );\n",
    "\n",
    "        }\n",
    "\n",
    "        // After all that,\n",
    "        // each of the Column Values of the Current Row have been printed,\n",
    "        // so we now move on, skipping the next two lines\n",
    "        Console.WriteLine();\n",
    "\n",
    "    }\n",
    "\n",
    "    // After All that,\n",
    "    // All Column Values have now been printed for every Row in the Array,\n",
    "    // as required.\n",
    "\n",
    "    // But skip an extra line though...\n",
    "    Console.WriteLine();\n",
    "    \n",
    "}"
   ]
  },
  {
   "cell_type": "code",
   "execution_count": 4,
   "metadata": {
    "dotnet_interactive": {
     "language": "csharp"
    },
    "polyglot_notebook": {
     "kernelName": "csharp"
    },
    "vscode": {
     "languageId": "polyglot-notebook"
    }
   },
   "outputs": [
    {
     "name": "stdout",
     "output_type": "stream",
     "text": [
      "_  _  _  *  _  _  _  \n",
      "*  *  _  *  _  *  _  \n",
      "_  _  _  _  _  _  _  \n",
      "_  *  *  *  *  *  _  \n",
      "_  _  _  _  _  _  e  \n",
      "\n"
     ]
    }
   ],
   "source": [
    "DisplayLabrynth( Labryinth );"
   ]
  },
  {
   "attachments": {},
   "cell_type": "markdown",
   "metadata": {
    "dotnet_interactive": {
     "language": "csharp"
    },
    "polyglot_notebook": {
     "kernelName": "csharp"
    }
   },
   "source": [
    "<br>"
   ]
  },
  {
   "attachments": {},
   "cell_type": "markdown",
   "metadata": {
    "dotnet_interactive": {
     "language": "csharp"
    },
    "polyglot_notebook": {
     "kernelName": "csharp"
    }
   },
   "source": [
    "### Objective"
   ]
  },
  {
   "attachments": {},
   "cell_type": "markdown",
   "metadata": {
    "dotnet_interactive": {
     "language": "csharp"
    },
    "polyglot_notebook": {
     "kernelName": "csharp"
    }
   },
   "source": [
    "> **Print all possible paths** from the **start** of the labyrinth, to the **end**."
   ]
  },
  {
   "attachments": {},
   "cell_type": "markdown",
   "metadata": {
    "dotnet_interactive": {
     "language": "csharp"
    },
    "polyglot_notebook": {
     "kernelName": "csharp"
    }
   },
   "source": [
    "<br>"
   ]
  },
  {
   "attachments": {},
   "cell_type": "markdown",
   "metadata": {
    "dotnet_interactive": {
     "language": "csharp"
    },
    "polyglot_notebook": {
     "kernelName": "csharp"
    }
   },
   "source": [
    "Below, you can see that there are **3 different paths** from the **starting** position to the **end** which meet the requirements of the task (movement only on *passable* squares and *not passing through any of the same squares*):\n",
    "\n",
    "<img src=\"_img/LabryinthSolution.jpg\" style=\"display: block; margin: auto\"></img>"
   ]
  },
  {
   "attachments": {},
   "cell_type": "markdown",
   "metadata": {
    "dotnet_interactive": {
     "language": "csharp"
    },
    "polyglot_notebook": {
     "kernelName": "csharp"
    }
   },
   "source": [
    "<br>"
   ]
  },
  {
   "attachments": {},
   "cell_type": "markdown",
   "metadata": {
    "dotnet_interactive": {
     "language": "csharp"
    },
    "polyglot_notebook": {
     "kernelName": "csharp"
    }
   },
   "source": [
    "### Intuition for a Recursive Algorithm"
   ]
  },
  {
   "attachments": {},
   "cell_type": "markdown",
   "metadata": {
    "dotnet_interactive": {
     "language": "csharp"
    },
    "polyglot_notebook": {
     "kernelName": "csharp"
    }
   },
   "source": [
    "We can consider searching *from* a given position in the labyrinth (including , but not limited to, the **start**), *to* the **end** of the labyrinth, as a **recursive** process: \n",
    "- Let the **current position** in the labyrinth be `(row, col)`.\n",
    "  - In the beginning we go from the **start** position `(0, 0)`.\n",
    "- If the **current position** is the **end** position, `(N-1, M-1)`, then we have found a path and we should print it.\n",
    "- If the **current position** is *impassable*, we go back (we have no right to step on it).\n",
    "- If the **current position** is *already visited*, we go back (we have no right to step on it twice).\n",
    "- Otherwise, we look for a path in **four possible directions**. We search **recursively** for a path to the **end** from the labyrinth by trying to go in **all possible directions**: \n",
    "  - We try $left: \\qquad \\,\\,\\,$  position `(row, col - 1)` \n",
    "  - We try $up: \\qquad\\,\\,\\,\\,\\,\\,\\,$    position `(row - 1, col)`\n",
    "  - We try $right: \\qquad$ position `(row, col + 1)`\n",
    "  - We try $down: \\qquad$  position `(row + 1, col)`"
   ]
  },
  {
   "attachments": {},
   "cell_type": "markdown",
   "metadata": {
    "dotnet_interactive": {
     "language": "csharp"
    },
    "polyglot_notebook": {
     "kernelName": "csharp"
    }
   },
   "source": [
    "<br>"
   ]
  },
  {
   "attachments": {},
   "cell_type": "markdown",
   "metadata": {
    "dotnet_interactive": {
     "language": "csharp"
    },
    "polyglot_notebook": {
     "kernelName": "csharp"
    }
   },
   "source": [
    "#### Saving the Paths"
   ]
  },
  {
   "attachments": {},
   "cell_type": "markdown",
   "metadata": {
    "dotnet_interactive": {
     "language": "csharp"
    },
    "polyglot_notebook": {
     "kernelName": "csharp"
    }
   },
   "source": [
    "In order to print the paths found by our recursive algorithm, we can use a **One-Dimensional** `Array` to store every step we take using the following **characters**: \n",
    "- `L` – left, \n",
    "- `U` – up, \n",
    "- `R` – right, \n",
    "- `D` – down\n",
    "    \n",
    "This `Array` will store each sequence of steps along the current path from the start of the labyrinth, up until to the current position.    \n",
    "   \n",
    "We are going to need an `Array` of type `char` and an *counter* to count the steps we have taken. \n",
    "   \n",
    "The counter will keep track of how many times we have moved to the next position recursively, i.e. the current **depth** of recursion. \n",
    "   \n",
    "In order to work correctly, our program has to *increment the counter* when entering recursion, and *store the direction* we have taken to get to the current position in the `Array`. \n",
    "   \n",
    "When returning from a recursion, the counter should be *reduced by 1*. \n",
    "   \n",
    "When an exit is found, the *path*, consisting of *all the characters* in the `Array` from 0 to the current position) should be printed. "
   ]
  },
  {
   "attachments": {},
   "cell_type": "markdown",
   "metadata": {
    "dotnet_interactive": {
     "language": "csharp"
    },
    "polyglot_notebook": {
     "kernelName": "csharp"
    }
   },
   "source": [
    "<br>"
   ]
  },
  {
   "attachments": {},
   "cell_type": "markdown",
   "metadata": {
    "dotnet_interactive": {
     "language": "csharp"
    },
    "polyglot_notebook": {
     "kernelName": "csharp"
    }
   },
   "source": [
    "   \n",
    "##### What should be the **size** of the **Path** `Array`?   \n",
    "    \n",
    "The answer to this question is easy; since we can enter each \"square\" at most once, then the path can never be longer than the *count of all squares*, which is equivalent to $N \\times M$.    \n",
    "\n",
    "In our case the **size** of the maze is $7 \\times 5$, i.e. the **size** of the `Array` has to be `35`:"
   ]
  },
  {
   "cell_type": "code",
   "execution_count": 5,
   "metadata": {
    "dotnet_interactive": {
     "language": "csharp"
    },
    "polyglot_notebook": {
     "kernelName": "csharp"
    },
    "vscode": {
     "languageId": "polyglot-notebook"
    }
   },
   "outputs": [
    {
     "data": {
      "text/html": [
       "<div class=\"dni-plaintext\"><pre>35</pre></div><style>\r\n",
       ".dni-code-hint {\r\n",
       "    font-style: italic;\r\n",
       "    overflow: hidden;\r\n",
       "    white-space: nowrap;\r\n",
       "}\r\n",
       ".dni-treeview {\r\n",
       "    white-space: nowrap;\r\n",
       "}\r\n",
       ".dni-treeview td {\r\n",
       "    vertical-align: top;\r\n",
       "    text-align: start;\r\n",
       "}\r\n",
       "details.dni-treeview {\r\n",
       "    padding-left: 1em;\r\n",
       "}\r\n",
       "table td {\r\n",
       "    text-align: start;\r\n",
       "}\r\n",
       "table tr { \r\n",
       "    vertical-align: top; \r\n",
       "    margin: 0em 0px;\r\n",
       "}\r\n",
       "table tr td pre \r\n",
       "{ \r\n",
       "    vertical-align: top !important; \r\n",
       "    margin: 0em 0px !important;\r\n",
       "} \r\n",
       "table th {\r\n",
       "    text-align: start;\r\n",
       "}\r\n",
       "</style>"
      ]
     },
     "metadata": {},
     "output_type": "display_data"
    }
   ],
   "source": [
    "N * M"
   ]
  },
  {
   "attachments": {},
   "cell_type": "markdown",
   "metadata": {
    "dotnet_interactive": {
     "language": "csharp"
    },
    "polyglot_notebook": {
     "kernelName": "csharp"
    }
   },
   "source": [
    "<br>"
   ]
  },
  {
   "attachments": {},
   "cell_type": "markdown",
   "metadata": {
    "dotnet_interactive": {
     "language": "csharp"
    },
    "polyglot_notebook": {
     "kernelName": "csharp"
    }
   },
   "source": [
    "As such, we may declare the following **one-dimensional** `Array` of type `char` which will store each respective Path to the **end**: "
   ]
  },
  {
   "cell_type": "code",
   "execution_count": 6,
   "metadata": {
    "dotnet_interactive": {
     "language": "csharp"
    },
    "polyglot_notebook": {
     "kernelName": "csharp"
    },
    "vscode": {
     "languageId": "polyglot-notebook"
    }
   },
   "outputs": [],
   "source": [
    "char[] Path =  new char[ N * M ];"
   ]
  },
  {
   "attachments": {},
   "cell_type": "markdown",
   "metadata": {
    "dotnet_interactive": {
     "language": "csharp"
    },
    "polyglot_notebook": {
     "kernelName": "csharp"
    }
   },
   "source": [
    "<br>"
   ]
  },
  {
   "attachments": {},
   "cell_type": "markdown",
   "metadata": {
    "dotnet_interactive": {
     "language": "csharp"
    },
    "polyglot_notebook": {
     "kernelName": "csharp"
    }
   },
   "source": [
    "We must also set up an **Path Index** to help iterate through the **Path** `Array` "
   ]
  },
  {
   "cell_type": "code",
   "execution_count": 7,
   "metadata": {
    "dotnet_interactive": {
     "language": "csharp"
    },
    "polyglot_notebook": {
     "kernelName": "csharp"
    },
    "vscode": {
     "languageId": "polyglot-notebook"
    }
   },
   "outputs": [],
   "source": [
    "int PathIndex = 0;"
   ]
  },
  {
   "attachments": {},
   "cell_type": "markdown",
   "metadata": {
    "dotnet_interactive": {
     "language": "csharp"
    },
    "polyglot_notebook": {
     "kernelName": "csharp"
    }
   },
   "source": [
    "<br>"
   ]
  },
  {
   "attachments": {},
   "cell_type": "markdown",
   "metadata": {
    "dotnet_interactive": {
     "language": "csharp"
    },
    "polyglot_notebook": {
     "kernelName": "csharp"
    }
   },
   "source": [
    "Further, we may declare the following method to assist in printing out the current `Array` of *directional steps* which copmrise the **Path** :"
   ]
  },
  {
   "cell_type": "code",
   "execution_count": 8,
   "metadata": {
    "dotnet_interactive": {
     "language": "csharp"
    },
    "polyglot_notebook": {
     "kernelName": "csharp"
    },
    "vscode": {
     "languageId": "polyglot-notebook"
    }
   },
   "outputs": [],
   "source": [
    "void PrintPath( char[] path, int start, int end )\n",
    "{\n",
    "    Console.WriteLine(\"Found a Path to the end: \");\n",
    "\n",
    "    // Iterating For every Current Index from the start, up until the end:\n",
    "    for( int CurrentIndex = start; CurrentIndex <= end; CurrentIndex++ )\n",
    "    {\n",
    "\n",
    "        // Print the directional step at the Current Index\n",
    "        Console.Write( path[ CurrentIndex ] );\n",
    "\n",
    "    }\n",
    "    \n",
    "    // After all that,\n",
    "    // We have printed each directional step from the start until the end.\n",
    "    // We now print a line break to provide seperation for the next output.\n",
    "    Console.WriteLine();\n",
    "\n",
    "}"
   ]
  },
  {
   "attachments": {},
   "cell_type": "markdown",
   "metadata": {
    "dotnet_interactive": {
     "language": "csharp"
    },
    "polyglot_notebook": {
     "kernelName": "csharp"
    }
   },
   "source": [
    "<br>"
   ]
  },
  {
   "attachments": {},
   "cell_type": "markdown",
   "metadata": {
    "dotnet_interactive": {
     "language": "csharp"
    },
    "polyglot_notebook": {
     "kernelName": "csharp"
    }
   },
   "source": [
    "### Recursive Algorithm Implementation"
   ]
  },
  {
   "attachments": {},
   "cell_type": "markdown",
   "metadata": {
    "dotnet_interactive": {
     "language": "csharp"
    },
    "polyglot_notebook": {
     "kernelName": "csharp"
    }
   },
   "source": [
    "Having performed the steps outlined above, we may now finally implement our recursive algorithm to **print all possible paths from the start of the labyrinth, to the end**. "
   ]
  },
  {
   "cell_type": "code",
   "execution_count": 9,
   "metadata": {
    "dotnet_interactive": {
     "language": "csharp"
    },
    "polyglot_notebook": {
     "kernelName": "csharp"
    },
    "vscode": {
     "languageId": "polyglot-notebook"
    }
   },
   "outputs": [],
   "source": [
    "void FindPath( int row, int column, char directional_step )\n",
    "{\n",
    "\n",
    "    // If EITHER the given row or column arguments\n",
    "    // are out of bounds of the Labryinth, which is an N X M character array:\n",
    "    if( (row < 0 || column < 0) || ( row >= N || column >= M) )\n",
    "    {\n",
    "\n",
    "        // We are out of the the Labryinth\n",
    "        return;\n",
    "\n",
    "    }\n",
    "\n",
    "\n",
    "    // Otherwise,\n",
    "    // Append the current directional step to the Path array\n",
    "    // taking care to simultaneously increment the Path Index\n",
    "    Path[ PathIndex++ ] = directional_step;\n",
    "\n",
    "\n",
    "    // If we have arrived at the end of the Labryinth:\n",
    "    if( Labryinth[ row, column ] == 'e')\n",
    "    {\n",
    "\n",
    "        // Print out the Path of directional steps leading\n",
    "        // to the end of the Labryinth\n",
    "        PrintPath( Path, 1,  PathIndex - 1);\n",
    "        DisplayLabrynth( Labryinth );\n",
    "\n",
    "    }\n",
    "\n",
    "\n",
    "    // If the Current \"square\" is passable:\n",
    "    if( Labryinth[ row, column ] == '_' )\n",
    "    {\n",
    "    \n",
    "        // Mark the Current \"square\" as being visited with a 'v'\n",
    "        Labryinth[ row, column ] = 'v';\n",
    "\n",
    "\n",
    "        // Recur in all directions relative to the current \"square\"\n",
    "        FindPath( row,     column - 1, 'L');  //  left      \n",
    "        FindPath( row - 1, column,     'U');  //  up      \n",
    "        FindPath( row,     column + 1, 'R');  //  right      \n",
    "        FindPath( row + 1, column,     'D');  //  down\n",
    "\n",
    "\n",
    "        // Reset the Current \"square\" as free\n",
    "        Labryinth[ row, column ] = '_';      \n",
    "\n",
    "    }\n",
    "\n",
    "\n",
    "    // Decrement the Path Index\n",
    "    // to avoid going out of bounds ot the Path array \n",
    "    PathIndex--;\n",
    "\n",
    "}"
   ]
  },
  {
   "attachments": {},
   "cell_type": "markdown",
   "metadata": {
    "dotnet_interactive": {
     "language": "csharp"
    },
    "polyglot_notebook": {
     "kernelName": "csharp"
    }
   },
   "source": [
    "<br>"
   ]
  },
  {
   "attachments": {},
   "cell_type": "markdown",
   "metadata": {
    "dotnet_interactive": {
     "language": "csharp"
    },
    "polyglot_notebook": {
     "kernelName": "csharp"
    }
   },
   "source": [
    "Now, all that remains to do is to simply invoke the recursive method which we have declared above, starting the first *visited* \"square\" at position `(0,0)`."
   ]
  },
  {
   "cell_type": "code",
   "execution_count": 10,
   "metadata": {
    "dotnet_interactive": {
     "language": "csharp"
    },
    "polyglot_notebook": {
     "kernelName": "csharp"
    },
    "vscode": {
     "languageId": "polyglot-notebook"
    }
   },
   "outputs": [
    {
     "name": "stdout",
     "output_type": "stream",
     "text": [
      "Found a Path to the end: \n",
      "RRDDLLDDRRRRRR\n",
      "v  v  v  *  _  _  _  \n",
      "*  *  v  *  _  *  _  \n",
      "v  v  v  _  _  _  _  \n",
      "v  *  *  *  *  *  _  \n",
      "v  v  v  v  v  v  e  \n",
      "\n",
      "Found a Path to the end: \n",
      "RRDDRRUURRDDDD\n",
      "v  v  v  *  v  v  v  \n",
      "*  *  v  *  v  *  v  \n",
      "_  _  v  v  v  _  v  \n",
      "_  *  *  *  *  *  v  \n",
      "_  _  _  _  _  _  e  \n",
      "\n",
      "Found a Path to the end: \n",
      "RRDDRRRRDD\n",
      "v  v  v  *  _  _  _  \n",
      "*  *  v  *  _  *  _  \n",
      "_  _  v  v  v  v  v  \n",
      "_  *  *  *  *  *  v  \n",
      "_  _  _  _  _  _  e  \n",
      "\n"
     ]
    }
   ],
   "source": [
    "FindPath( 0, 0, 'v' );"
   ]
  }
 ],
 "metadata": {
  "kernelspec": {
   "display_name": ".NET (C#)",
   "language": "C#",
   "name": ".net-csharp"
  },
  "polyglot_notebook": {
   "kernelInfo": {
    "defaultKernelName": "csharp",
    "items": [
     {
      "aliases": [
       "c#",
       "C#"
      ],
      "languageName": "C#",
      "name": "csharp"
     },
     {
      "aliases": [
       "frontend"
      ],
      "name": "vscode"
     },
     {
      "aliases": [],
      "name": ".NET"
     },
     {
      "aliases": [
       "f#",
       "F#"
      ],
      "languageName": "F#",
      "name": "fsharp"
     },
     {
      "aliases": [],
      "languageName": "HTML",
      "name": "html"
     },
     {
      "aliases": [],
      "languageName": "KQL",
      "name": "kql"
     },
     {
      "aliases": [],
      "languageName": "Mermaid",
      "name": "mermaid"
     },
     {
      "aliases": [
       "powershell"
      ],
      "languageName": "PowerShell",
      "name": "pwsh"
     },
     {
      "aliases": [],
      "languageName": "SQL",
      "name": "sql"
     },
     {
      "aliases": [],
      "name": "value"
     }
    ]
   }
  }
 },
 "nbformat": 4,
 "nbformat_minor": 2
}
