{
 "cells": [
  {
   "attachments": {},
   "cell_type": "markdown",
   "metadata": {
    "dotnet_interactive": {
     "language": "csharp"
    },
    "polyglot_notebook": {
     "kernelName": "csharp"
    }
   },
   "source": [
    "# 10. Recursion"
   ]
  },
  {
   "attachments": {},
   "cell_type": "markdown",
   "metadata": {
    "dotnet_interactive": {
     "language": "csharp"
    },
    "polyglot_notebook": {
     "kernelName": "csharp"
    }
   },
   "source": [
    "## Searching for Paths in a Labyrinth\n",
    "### Our $\\text{low-key}$ First Real Lesson in Game Design\n",
    "---"
   ]
  },
  {
   "attachments": {},
   "cell_type": "markdown",
   "metadata": {
    "dotnet_interactive": {
     "language": "csharp"
    },
    "polyglot_notebook": {
     "kernelName": "csharp"
    }
   },
   "source": [
    "Let's suppose we are given a **labyrinth** with a *rectangular* shape, consisting of $N \\times M$ \"squares\".    \n",
    "\n",
    "Each \"square\" is either *passable* or *impassable*.\n",
    "      \n",
    "An adventurer enters the labyrinth from its *top left corner* (the **start**) and has to **reach the bottom right corner** of the labyrinth (the **end**).    \n",
    "\n",
    "\n",
    "<img src=\"_img/LabryinthOverview.jpg\" style=\"display: block; margin: auto\"></img>\n",
    "\n",
    "   \n",
    "At each turn, the adventurer can move $\\text{one position}$ $up$, $down$, $left$, or $right$, but may not go outside the boundaries of the labyrinth, or step on an impassable \"square\". \n",
    "   \n",
    "It is also **prohibited to revisit the same \"square\"**."
   ]
  },
  {
   "attachments": {},
   "cell_type": "markdown",
   "metadata": {
    "dotnet_interactive": {
     "language": "csharp"
    },
    "polyglot_notebook": {
     "kernelName": "csharp"
    }
   },
   "source": [
    "To translate this concept into C# terms, we are going to use a **two-dimensional** `Array` of **characters**.    \n",
    "   \n",
    "In it we are going to mark with the character `'_'` (**underscore**) the *passable* positions, with `e` the **end** from the labyrinth and with `*` the *impassable* positions. \n",
    "   \n",
    "The **starting position** is marked as *passable* position.    \n",
    "The positions we have *already visited* we are going to mark with the character `v`. "
   ]
  },
  {
   "cell_type": "code",
   "execution_count": 1,
   "metadata": {
    "dotnet_interactive": {
     "language": "csharp"
    },
    "polyglot_notebook": {
     "kernelName": "csharp"
    },
    "vscode": {
     "languageId": "polyglot-notebook"
    }
   },
   "outputs": [],
   "source": [
    "public class SearchForPathsInALabrynth\n",
    "{\n",
    "\n",
    "    // A 2 Dimensional Character Array representation of the Labryinth defined above\n",
    "    public static char[ , ] Labryinth =\n",
    "    {\n",
    "        {'_','_','_','*','_','_','_'},\n",
    "        {'*','*','_','*','_','*','_'},\n",
    "        {'_','_','_','_','_','_','_'},\n",
    "        {'_','*','*','*','*','*','_'},\n",
    "        {'_','_','_','_','_','_','e'},\n",
    "    };\n",
    "\n",
    "\n",
    "    // A helper method which prints out the 2D char array representation\n",
    "    // of the Labryinth\n",
    "    public static void DisplayLabrynth()\n",
    "    {\n",
    "\n",
    "        // Observe the First Row and Last Row Indices of the Labryinth,\n",
    "        // along with the First Column and Last Column Indices of the Labryinth\n",
    "        int FirstRowIndex = 0,\n",
    "            FirstColIndex = 0,\n",
    "            LastRowIndex  = Labryinth.GetLength( 0 ) - 1,\n",
    "            LastColIndex  = Labryinth.GetLength( 1 ) - 1;\n",
    "\n",
    "\n",
    "        // Iterating For each of the elements from the First Row Index of the Labryinth \n",
    "        // up until the Last Row Index:\n",
    "        for( int CurrentRowIndex = FirstRowIndex; CurrentRowIndex <= LastRowIndex; CurrentRowIndex++ )\n",
    "        {\n",
    "\n",
    "            // Iterating For each of the elements from the First Column Index of the Labryinth \n",
    "            // up until the Last Column Index:\n",
    "            for( int CurrentColIndex = FirstColIndex; CurrentColIndex <= LastColIndex; CurrentColIndex++ )\n",
    "            {\n",
    "\n",
    "                // Print the Value at the Current Col Index\n",
    "                Console.Write(\n",
    "                    \"{0,-3}\", \n",
    "                    $\"{ Labryinth[ CurrentRowIndex ,  CurrentColIndex] } \"\n",
    "                );\n",
    "\n",
    "            }\n",
    "\n",
    "            // After all that,\n",
    "            // each of the Column Values of the Current Row have been printed,\n",
    "            // so we now move on to the next line\n",
    "            Console.WriteLine();\n",
    "\n",
    "        }\n",
    "\n",
    "        // After All that,\n",
    "        // All Column Values have now been printed for every Row in the Array,\n",
    "        // as required\n",
    "        \n",
    "    }\n",
    "\n",
    "}"
   ]
  },
  {
   "cell_type": "code",
   "execution_count": 2,
   "metadata": {
    "dotnet_interactive": {
     "language": "csharp"
    },
    "polyglot_notebook": {
     "kernelName": "csharp"
    },
    "vscode": {
     "languageId": "polyglot-notebook"
    }
   },
   "outputs": [
    {
     "name": "stdout",
     "output_type": "stream",
     "text": [
      "_  _  _  *  _  _  _  \n",
      "*  *  _  *  _  *  _  \n",
      "_  _  _  _  _  _  _  \n",
      "_  *  *  *  *  *  _  \n",
      "_  _  _  _  _  _  e  \n"
     ]
    }
   ],
   "source": [
    "SearchForPathsInALabrynth.DisplayLabrynth();"
   ]
  },
  {
   "attachments": {},
   "cell_type": "markdown",
   "metadata": {
    "dotnet_interactive": {
     "language": "csharp"
    },
    "polyglot_notebook": {
     "kernelName": "csharp"
    }
   },
   "source": [
    "<br>"
   ]
  },
  {
   "attachments": {},
   "cell_type": "markdown",
   "metadata": {
    "dotnet_interactive": {
     "language": "csharp"
    },
    "polyglot_notebook": {
     "kernelName": "csharp"
    }
   },
   "source": [
    "### Objective"
   ]
  },
  {
   "attachments": {},
   "cell_type": "markdown",
   "metadata": {
    "dotnet_interactive": {
     "language": "csharp"
    },
    "polyglot_notebook": {
     "kernelName": "csharp"
    }
   },
   "source": [
    "> **Print all possible paths** from the **start** of the labyrinth, to the **end**."
   ]
  },
  {
   "attachments": {},
   "cell_type": "markdown",
   "metadata": {
    "dotnet_interactive": {
     "language": "csharp"
    },
    "polyglot_notebook": {
     "kernelName": "csharp"
    }
   },
   "source": [
    "<br>"
   ]
  },
  {
   "attachments": {},
   "cell_type": "markdown",
   "metadata": {
    "dotnet_interactive": {
     "language": "csharp"
    },
    "polyglot_notebook": {
     "kernelName": "csharp"
    }
   },
   "source": [
    "Below, you can see that there are **3 different paths** from the **starting** position to the **end** which meet the requirements of the task (movement only on *passable* squares and *not passing through any of the same squares*):\n",
    "\n",
    "<img src=\"_img/LabryinthSolution.jpg\" style=\"display: block; margin: auto\"></img>"
   ]
  },
  {
   "attachments": {},
   "cell_type": "markdown",
   "metadata": {
    "dotnet_interactive": {
     "language": "csharp"
    },
    "polyglot_notebook": {
     "kernelName": "csharp"
    }
   },
   "source": [
    "<br>"
   ]
  },
  {
   "attachments": {},
   "cell_type": "markdown",
   "metadata": {
    "dotnet_interactive": {
     "language": "csharp"
    },
    "polyglot_notebook": {
     "kernelName": "csharp"
    }
   },
   "source": [
    "### Intuition for a Recursive Algorithm"
   ]
  },
  {
   "attachments": {},
   "cell_type": "markdown",
   "metadata": {
    "dotnet_interactive": {
     "language": "csharp"
    },
    "polyglot_notebook": {
     "kernelName": "csharp"
    }
   },
   "source": [
    "We can consider searching *from* a given position in the labyrinth (including , but not limited to, the **start**), *to* the **end** of the labyrinth, as a **recursive** process: \n",
    "- Let the **current position** in the labyrinth be `(row, col)`. In the beginning we go from the **start** position `(0, 0)`.\n",
    "- If the **current position** is the *searched position* `(N-1, M-1)`, then we have found a path and we should print it.\n",
    "- If the **current position** is *impassable*, we go back (we have no right to step on it).\n",
    "- If the **current position** is *already visited*, we go back (we have no right to step on it twice).\n",
    "- Otherwise, we look for a path in **four possible directions**. We search **recursively** for a path to the **end** from the labyrinth by trying to go in **all possible directions**: \n",
    "  - We try $left: \\qquad \\,\\,\\,$  position `(row, col - 1)` \n",
    "  - We try $up: \\qquad\\,\\,\\,\\,\\,\\,\\,$    position `(row - 1, col)`\n",
    "  - We try $right: \\qquad$ position `(row, col + 1)`\n",
    "  - We try $down: \\qquad$  position `(row + 1, col)`"
   ]
  },
  {
   "attachments": {},
   "cell_type": "markdown",
   "metadata": {
    "dotnet_interactive": {
     "language": "csharp"
    },
    "polyglot_notebook": {
     "kernelName": "csharp"
    }
   },
   "source": [
    "<br>"
   ]
  },
  {
   "attachments": {},
   "cell_type": "markdown",
   "metadata": {
    "dotnet_interactive": {
     "language": "csharp"
    },
    "polyglot_notebook": {
     "kernelName": "csharp"
    }
   },
   "source": [
    "#### Saving the Paths"
   ]
  },
  {
   "attachments": {},
   "cell_type": "markdown",
   "metadata": {
    "dotnet_interactive": {
     "language": "csharp"
    },
    "polyglot_notebook": {
     "kernelName": "csharp"
    }
   },
   "source": [
    "In order to print the paths found by our recursive algorithm, we can use an `Array` to store every step we take using the following **characters**: \n",
    "- `L` – left, \n",
    "- `U` – up, \n",
    "- `R` – right, \n",
    "- `D` – down\n",
    "    \n",
    "This `Array` will store each sequence of steps along the current path from the start of the labyrinth, up until to the current position.    \n",
    "   \n",
    "We are going to need an `Array` of type `char` and an *counter* to count the steps we have taken. \n",
    "   \n",
    "The counter will keep track of how many times we have moved to the next position recursively, i.e. the current **depth** of recursion. \n",
    "   \n",
    "In order to work correctly, our program has to *increment the counter* when entering recursion, and *store the direction* we have taken to get to the current position in the `Array`. \n",
    "   \n",
    "When returning from a recursion, the counter should be *reduced by 1*. \n",
    "   \n",
    "When an exit is found, the *path*, consisting of *all the characters* in the `Array` from 0 to the current position) should be printed. "
   ]
  },
  {
   "attachments": {},
   "cell_type": "markdown",
   "metadata": {
    "dotnet_interactive": {
     "language": "csharp"
    },
    "polyglot_notebook": {
     "kernelName": "csharp"
    }
   },
   "source": [
    "<br>"
   ]
  },
  {
   "attachments": {},
   "cell_type": "markdown",
   "metadata": {
    "dotnet_interactive": {
     "language": "csharp"
    },
    "polyglot_notebook": {
     "kernelName": "csharp"
    }
   },
   "source": [
    "   \n",
    "##### What should be the **size** of the `Array`?   \n",
    "    \n",
    "The answer to this question is easy; since we can enter each \"square\" at most once, then the path can never be longer than the *count of all squares* $N \\times M$.    \n",
    "\n",
    "In our case the **size** of the maze is $7 \\times 5$, i.e. the **size** of the `Array` has to be `35`."
   ]
  }
 ],
 "metadata": {
  "kernelspec": {
   "display_name": ".NET (C#)",
   "language": "C#",
   "name": ".net-csharp"
  },
  "polyglot_notebook": {
   "kernelInfo": {
    "defaultKernelName": "csharp",
    "items": [
     {
      "aliases": [],
      "name": "csharp"
     }
    ]
   }
  }
 },
 "nbformat": 4,
 "nbformat_minor": 2
}
