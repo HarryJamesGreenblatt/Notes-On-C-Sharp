{
 "cells": [
  {
   "cell_type": "markdown",
   "metadata": {
    "dotnet_interactive": {
     "language": "csharp"
    },
    "polyglot_notebook": {
     "kernelName": "csharp"
    }
   },
   "source": [
    "# 10. Recursion"
   ]
  },
  {
   "attachments": {},
   "cell_type": "markdown",
   "metadata": {
    "dotnet_interactive": {
     "language": "csharp"
    },
    "polyglot_notebook": {
     "kernelName": "csharp"
    }
   },
   "source": [
    "## The Anatomy of Recursion\n",
    "---"
   ]
  },
  {
   "attachments": {},
   "cell_type": "markdown",
   "metadata": {
    "dotnet_interactive": {
     "language": "csharp"
    },
    "polyglot_notebook": {
     "kernelName": "csharp"
    }
   },
   "source": [
    "We call an object **recursive** if it *contains itself*, or if it is *defined by itself*.  \n",
    "**Recursion** is a programming technique in which a Method makes a call to *itself* to solve a particular problem. \n",
    "   \n",
    "Such Methods are called **recursive**.   \n",
    "   \n",
    "**Recursion** is a programming technique whose correct usage leads to elegant solutions to certain problem.    \n",
    "Sometimes its usage could considerably simplify the programming code and its readability."
   ]
  },
  {
   "attachments": {},
   "cell_type": "markdown",
   "metadata": {
    "dotnet_interactive": {
     "language": "csharp"
    },
    "polyglot_notebook": {
     "kernelName": "csharp"
    }
   },
   "source": [
    "<br>"
   ]
  },
  {
   "attachments": {},
   "cell_type": "markdown",
   "metadata": {
    "dotnet_interactive": {
     "language": "csharp"
    },
    "polyglot_notebook": {
     "kernelName": "csharp"
    }
   },
   "source": [
    "Let’s consider the **Fibonacci** numbers.  \n",
    "These are the elements of the following sequence: `1`, `1`, `2`, `3`, `5`, `8`, `13`, `21`, `34`, `55`, `89`, `144`, `…`   \n",
    "Each element of the sequence is formed by the *sum* of the *previous two elements*. \n",
    "The first two elements are equal to `1`, and, by definition, the next two rules apply:\n",
    "   \n",
    "$F_1 = F_2 = 1$   \n",
    "$F_i = F_{i-1} + F_{i-2} \\qquad(\\text{for i > 2})$"
   ]
  },
  {
   "attachments": {},
   "cell_type": "markdown",
   "metadata": {
    "dotnet_interactive": {
     "language": "csharp"
    },
    "polyglot_notebook": {
     "kernelName": "csharp"
    }
   },
   "source": [
    "<br>"
   ]
  },
  {
   "attachments": {},
   "cell_type": "markdown",
   "metadata": {
    "dotnet_interactive": {
     "language": "csharp"
    },
    "polyglot_notebook": {
     "kernelName": "csharp"
    }
   },
   "source": [
    "Proceeding directly from the definition, we can implement the following **recursive** method for finding the $n^{th} \\text{ Fibonacci number}$:"
   ]
  },
  {
   "cell_type": "code",
   "execution_count": 1,
   "metadata": {
    "dotnet_interactive": {
     "language": "csharp"
    },
    "polyglot_notebook": {
     "kernelName": "csharp"
    },
    "vscode": {
     "languageId": "polyglot-notebook"
    }
   },
   "outputs": [],
   "source": [
    "static long Fibonacci( int n )\n",
    "{\n",
    "    if( n <= 2 )\n",
    "        return 1;\n",
    "\n",
    "    else return Fibonacci( n - 1 ) + Fibonacci( n - 2 );\n",
    "}"
   ]
  },
  {
   "cell_type": "code",
   "execution_count": 2,
   "metadata": {
    "dotnet_interactive": {
     "language": "csharp"
    },
    "polyglot_notebook": {
     "kernelName": "csharp"
    },
    "vscode": {
     "languageId": "polyglot-notebook"
    }
   },
   "outputs": [
    {
     "data": {
      "text/html": [
       "<div class=\"dni-plaintext\"><pre>55</pre></div><style>\r\n",
       ".dni-code-hint {\r\n",
       "    font-style: italic;\r\n",
       "    overflow: hidden;\r\n",
       "    white-space: nowrap;\r\n",
       "}\r\n",
       ".dni-treeview {\r\n",
       "    white-space: nowrap;\r\n",
       "}\r\n",
       ".dni-treeview td {\r\n",
       "    vertical-align: top;\r\n",
       "    text-align: start;\r\n",
       "}\r\n",
       "details.dni-treeview {\r\n",
       "    padding-left: 1em;\r\n",
       "}\r\n",
       "table td {\r\n",
       "    text-align: start;\r\n",
       "}\r\n",
       "table tr { \r\n",
       "    vertical-align: top; \r\n",
       "    margin: 0em 0px;\r\n",
       "}\r\n",
       "table tr td pre \r\n",
       "{ \r\n",
       "    vertical-align: top !important; \r\n",
       "    margin: 0em 0px !important;\r\n",
       "} \r\n",
       "table th {\r\n",
       "    text-align: start;\r\n",
       "}\r\n",
       "</style>"
      ]
     },
     "metadata": {},
     "output_type": "display_data"
    }
   ],
   "source": [
    "Fibonacci( 10 )"
   ]
  },
  {
   "attachments": {},
   "cell_type": "markdown",
   "metadata": {
    "dotnet_interactive": {
     "language": "csharp"
    },
    "polyglot_notebook": {
     "kernelName": "csharp"
    }
   },
   "source": [
    "<br>"
   ]
  },
  {
   "attachments": {},
   "cell_type": "markdown",
   "metadata": {
    "dotnet_interactive": {
     "language": "csharp"
    },
    "polyglot_notebook": {
     "kernelName": "csharp"
    }
   },
   "source": [
    "Although it is intuitive, the solution above is one of the classical examples when the usage of recursion is *highly inefficient* as there are many excessive calculations (of one and the same element of the sequence) due to the recursive calls."
   ]
  },
  {
   "cell_type": "code",
   "execution_count": 3,
   "metadata": {
    "dotnet_interactive": {
     "language": "csharp"
    },
    "polyglot_notebook": {
     "kernelName": "csharp"
    },
    "vscode": {
     "languageId": "polyglot-notebook"
    }
   },
   "outputs": [
    {
     "name": "stdout",
     "output_type": "stream",
     "text": [
      "Time taken to process Fibonacci(45) = 1134903170:\t00:00:05.9211833\r\n"
     ]
    }
   ],
   "source": [
    "DateTime BeforeFib = DateTime.Now;\n",
    "\n",
    "\n",
    "// Not only does this size n take a reeeeally long time to compute (approx. 5 - 7 seconds), \n",
    "// each consecutive input larger than this will be exponentially slower!\n",
    "long Fib45 = Fibonacci( 45 );\n",
    "\n",
    "\n",
    "Console.WriteLine(\n",
    "    $\"Time taken to process Fibonacci( 45 ) = { Fib45 }:\\t{ DateTime.Now - BeforeFib }\"\n",
    ")"
   ]
  },
  {
   "attachments": {},
   "cell_type": "markdown",
   "metadata": {
    "dotnet_interactive": {
     "language": "csharp"
    },
    "polyglot_notebook": {
     "kernelName": "csharp"
    }
   },
   "source": [
    "<br>"
   ]
  },
  {
   "attachments": {},
   "cell_type": "markdown",
   "metadata": {
    "dotnet_interactive": {
     "language": "csharp"
    },
    "polyglot_notebook": {
     "kernelName": "csharp"
    }
   },
   "source": [
    "### Direct and Indirect Recursion"
   ]
  },
  {
   "attachments": {},
   "cell_type": "markdown",
   "metadata": {
    "dotnet_interactive": {
     "language": "csharp"
    },
    "polyglot_notebook": {
     "kernelName": "csharp"
    }
   },
   "source": [
    "When, in the body of a Method, there is a call to the *same* Method,    \n",
    "we say that the Method is **directly** **recursive**.   \n",
    "   \n",
    "If `Method A` calls `Method B`, `Method B` calls `Method C`, and `Method C` calls `Method A`,    \n",
    "we call the `Methods A` , `B` and `C` **indirectly** **recursive** or **mutually** **recursive**.\n",
    "   \n",
    "Chains of calls in **indirect recursion** can contain multiple Methods, in addition to conditonal branches."
   ]
  },
  {
   "attachments": {},
   "cell_type": "markdown",
   "metadata": {
    "dotnet_interactive": {
     "language": "csharp"
    },
    "polyglot_notebook": {
     "kernelName": "csharp"
    }
   },
   "source": [
    "<br>"
   ]
  },
  {
   "attachments": {},
   "cell_type": "markdown",
   "metadata": {
    "dotnet_interactive": {
     "language": "csharp"
    },
    "polyglot_notebook": {
     "kernelName": "csharp"
    }
   },
   "source": [
    "### Creating Recursive Methods"
   ]
  },
  {
   "attachments": {},
   "cell_type": "markdown",
   "metadata": {
    "dotnet_interactive": {
     "language": "csharp"
    },
    "polyglot_notebook": {
     "kernelName": "csharp"
    }
   },
   "source": [
    "When we create **recursive** methods, it is necessary that we break the task we are trying to solve in **subtasks**, for the solution of which we can use the same algorithm (**recursively**). \n",
    "   \n",
    "The **combination of solutions** of **all subtasks** should lead to the solution of the *initial* problem.\n",
    "   \n",
    "In each **recursive** call, the problem area should be limited so that, at some point, the *bottom of the recursion* is reached."
   ]
  },
  {
   "attachments": {},
   "cell_type": "markdown",
   "metadata": {
    "dotnet_interactive": {
     "language": "csharp"
    },
    "polyglot_notebook": {
     "kernelName": "csharp"
    }
   },
   "source": [
    "<br>"
   ]
  },
  {
   "attachments": {},
   "cell_type": "markdown",
   "metadata": {
    "dotnet_interactive": {
     "language": "csharp"
    },
    "polyglot_notebook": {
     "kernelName": "csharp"
    }
   },
   "source": [
    "#### Bottom of Recursion"
   ]
  },
  {
   "attachments": {},
   "cell_type": "markdown",
   "metadata": {
    "dotnet_interactive": {
     "language": "csharp"
    },
    "polyglot_notebook": {
     "kernelName": "csharp"
    }
   },
   "source": [
    "When using **recursion**, we have to be totally sure that after a certain count of steps we get a concrete result.    \n",
    "   \n",
    "For this reason we should have one or more cases in which the solution could be found directly, without a **recursive** call. These cases are called **bottom of recursion**.\n",
    "\n",
    "In the example with Fibonacci numbers, the bottom of **recursion** is when `n` is less than or equal to `2`.    \n",
    "  \n",
    "In this **base case** we can directly return result without making **recursive** calls, because by definition the first two elements of the sequence of Fibonacci are equal to `1`.\n",
    "   \n",
    "If a **recursive** method has **no** **base case**, i.e. **bottom**, it will become *infinite* and the result will be a `StackOverflowException`."
   ]
  },
  {
   "attachments": {},
   "cell_type": "markdown",
   "metadata": {
    "dotnet_interactive": {
     "language": "csharp"
    },
    "polyglot_notebook": {
     "kernelName": "csharp"
    }
   },
   "source": [
    "<br>"
   ]
  },
  {
   "attachments": {},
   "cell_type": "markdown",
   "metadata": {
    "dotnet_interactive": {
     "language": "csharp"
    },
    "polyglot_notebook": {
     "kernelName": "csharp"
    }
   },
   "source": [
    "### Example: The Recursive Calculation of Factorial"
   ]
  },
  {
   "attachments": {},
   "cell_type": "markdown",
   "metadata": {
    "dotnet_interactive": {
     "language": "csharp"
    },
    "polyglot_notebook": {
     "kernelName": "csharp"
    }
   },
   "source": [
    "The usage of **recursion** we will illustrate with a classic example – recursive calculation of **factorial**.   \n",
    "**Factorial** of `n` (written `n!`) is the product of all integers between `1` and `n` inclusive.   \n",
    "   \n",
    "By definition, $0!$ = $1$.   \n",
    "   \n",
    "$n!$ = $1 \\times 2 \\times 3 \\times \\dots \\times n$"
   ]
  },
  {
   "attachments": {},
   "cell_type": "markdown",
   "metadata": {
    "dotnet_interactive": {
     "language": "csharp"
    },
    "polyglot_notebook": {
     "kernelName": "csharp"
    }
   },
   "source": [
    "<br>"
   ]
  },
  {
   "attachments": {},
   "cell_type": "markdown",
   "metadata": {
    "dotnet_interactive": {
     "language": "csharp"
    },
    "polyglot_notebook": {
     "kernelName": "csharp"
    }
   },
   "source": [
    "#### Defining the Recurrent Definition"
   ]
  },
  {
   "attachments": {},
   "cell_type": "markdown",
   "metadata": {
    "dotnet_interactive": {
     "language": "csharp"
    },
    "polyglot_notebook": {
     "kernelName": "csharp"
    }
   },
   "source": [
    "When creating our solution, it is much more convenient to use the corresponding **recurrent definition** of **factorial**:"
   ]
  },
  {
   "attachments": {},
   "cell_type": "markdown",
   "metadata": {
    "dotnet_interactive": {
     "language": "csharp"
    },
    "polyglot_notebook": {
     "kernelName": "csharp"
    }
   },
   "source": [
    "$n! = 1$, for $n = 0$   \n",
    "$n! = n \\times (n-1)!$, $\\qquad$ $\\text{for }n > 0$"
   ]
  },
  {
   "attachments": {},
   "cell_type": "markdown",
   "metadata": {
    "dotnet_interactive": {
     "language": "csharp"
    },
    "polyglot_notebook": {
     "kernelName": "csharp"
    }
   },
   "source": [
    "<br>"
   ]
  },
  {
   "attachments": {},
   "cell_type": "markdown",
   "metadata": {
    "dotnet_interactive": {
     "language": "csharp"
    },
    "polyglot_notebook": {
     "kernelName": "csharp"
    }
   },
   "source": [
    "##### Finding a Recurrent Dependence"
   ]
  },
  {
   "attachments": {},
   "cell_type": "markdown",
   "metadata": {
    "dotnet_interactive": {
     "language": "csharp"
    },
    "polyglot_notebook": {
     "kernelName": "csharp"
    }
   },
   "source": [
    "The presence of recurrent dependence is not always obvious. Sometimes we have to find it ourselves. \n",
    "   \n",
    "In our case we can do this by analyzing the problem and calculating the values of the **factorial** for the first few integers."
   ]
  },
  {
   "attachments": {},
   "cell_type": "markdown",
   "metadata": {
    "dotnet_interactive": {
     "language": "csharp"
    },
    "polyglot_notebook": {
     "kernelName": "csharp"
    }
   },
   "source": [
    "$0! = 1 $    \n",
    "$1! = 1 = 1 \\times 1 = 1 \\times 0! $   \n",
    "$2! = 2 \\times 1 = 2 \\times 1! $   \n",
    "$3! = 3 \\times 2 \\times 1 = 3 \\times 2! $   \n",
    "$4! = 4 \\times 3 \\times 2 \\times 1 = 4 \\times 3! $   \n",
    "$5! = 5 \\times 4 \\times 3 \\times 2 \\times 1 = 5 \\times 4!$"
   ]
  },
  {
   "attachments": {},
   "cell_type": "markdown",
   "metadata": {
    "dotnet_interactive": {
     "language": "csharp"
    },
    "polyglot_notebook": {
     "kernelName": "csharp"
    }
   },
   "source": [
    "<br>"
   ]
  },
  {
   "attachments": {},
   "cell_type": "markdown",
   "metadata": {
    "dotnet_interactive": {
     "language": "csharp"
    },
    "polyglot_notebook": {
     "kernelName": "csharp"
    }
   },
   "source": [
    "From here, you can easily see the **recurrent dependence**:"
   ]
  },
  {
   "attachments": {},
   "cell_type": "markdown",
   "metadata": {
    "dotnet_interactive": {
     "language": "csharp"
    },
    "polyglot_notebook": {
     "kernelName": "csharp"
    }
   },
   "source": [
    "$n! = n \\times (n-1)!$"
   ]
  },
  {
   "attachments": {},
   "cell_type": "markdown",
   "metadata": {
    "dotnet_interactive": {
     "language": "csharp"
    },
    "polyglot_notebook": {
     "kernelName": "csharp"
    }
   },
   "source": [
    "<br>"
   ]
  },
  {
   "attachments": {},
   "cell_type": "markdown",
   "metadata": {
    "dotnet_interactive": {
     "language": "csharp"
    },
    "polyglot_notebook": {
     "kernelName": "csharp"
    }
   },
   "source": [
    "#### Algorithm Implementation"
   ]
  },
  {
   "attachments": {},
   "cell_type": "markdown",
   "metadata": {
    "dotnet_interactive": {
     "language": "csharp"
    },
    "polyglot_notebook": {
     "kernelName": "csharp"
    }
   },
   "source": [
    "The **bottom** of our **recursion** is the simplest case `n = 0`, in which the value of the **factorial** is `1`.   \n",
    "   \n",
    "In the other cases we solve the problem for `n-1` and multiply the result by `n`.      \n",
    "Thus after a certain count of steps we are definitely going to reach the bottom of the **recursion**,    \n",
    "because between `0` and `n` there is a certain count of integer numbers.  \n",
    "\n",
    "Once we have these substantial conditions we can write a Method, which computes **factorial**:"
   ]
  },
  {
   "cell_type": "code",
   "execution_count": 4,
   "metadata": {
    "dotnet_interactive": {
     "language": "csharp"
    },
    "polyglot_notebook": {
     "kernelName": "csharp"
    },
    "vscode": {
     "languageId": "polyglot-notebook"
    }
   },
   "outputs": [],
   "source": [
    "static decimal Factorial( int n )\n",
    "{\n",
    "\n",
    "    // Specify the base case that represents the bottom of the recursion\n",
    "    if( n == 0 )\n",
    "        return 1;\n",
    "\n",
    "\n",
    "    // If the base case is not satisfied, continue on to the next recursive \"subtask\"  \n",
    "    else return n * Factorial( n - 1 );\n",
    "\n",
    "}"
   ]
  },
  {
   "cell_type": "code",
   "execution_count": 5,
   "metadata": {
    "dotnet_interactive": {
     "language": "csharp"
    },
    "polyglot_notebook": {
     "kernelName": "csharp"
    },
    "vscode": {
     "languageId": "polyglot-notebook"
    }
   },
   "outputs": [
    {
     "name": "stdout",
     "output_type": "stream",
     "text": [
      "n  = 5\n",
      "n! = 120\r\n"
     ]
    }
   ],
   "source": [
    "Console.WriteLine(\n",
    "    \"n  = 5\" \n",
    "    + \n",
    "    \"\\n\"\n",
    "    + \n",
    "    $\"n! = { Factorial( 5 ) }\"\n",
    ");"
   ]
  }
 ],
 "metadata": {
  "kernelspec": {
   "display_name": ".NET (C#)",
   "language": "C#",
   "name": ".net-csharp"
  },
  "polyglot_notebook": {
   "kernelInfo": {
    "defaultKernelName": "csharp",
    "items": [
     {
      "aliases": [],
      "name": "csharp"
     }
    ]
   }
  }
 },
 "nbformat": 4,
 "nbformat_minor": 2
}
