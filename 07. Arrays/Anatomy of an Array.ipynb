{
 "cells": [
  {
   "cell_type": "markdown",
   "metadata": {
    "dotnet_interactive": {
     "language": "csharp"
    }
   },
   "source": [
    "# 7. Arrays"
   ]
  },
  {
   "cell_type": "markdown",
   "metadata": {},
   "source": [
    "## The Anatomy of an `Array`   "
   ]
  },
  {
   "cell_type": "markdown",
   "metadata": {},
   "source": [
    "---"
   ]
  },
  {
   "cell_type": "markdown",
   "metadata": {},
   "source": [
    "Arrays are vital for most programming languages.<br>They are *collections* of *variables* which are commonly reffered to as *elements*:"
   ]
  },
  {
   "cell_type": "markdown",
   "metadata": {},
   "source": [
    "![array anotomy](./_img/array_anotomy.jpg)"
   ]
  },
  {
   "cell_type": "markdown",
   "metadata": {},
   "source": [
    "An array’s elements in C# are numbered with `0`, `1`, `2`, … `N-1`. Those numbers are called **indices**.   \n",
    "   \n",
    "The *total number of elements* in a given array we call `Length` of an array.   \n",
    "All elements of a given array are of the *same type*, no matter whether they are primitive or reference types. This allows us to represent a group of similar elements as an *ordered sequence* and work on them as a whole.   \n",
    "   \n",
    "Arrays can be in different *dimensions*, but the most used are the *one-dimensional* and the *two-dimensional* arrays. \n",
    "- **One-dimensional** arrays \n",
    "  - are also called *vectors* \n",
    "- **Multi-dimensional** arrays\n",
    "  - **Two-Dimensional** arrays, a subset of **Multi-dimensional** arrays, are also known as *matrices*."
   ]
  }
 ],
 "metadata": {
  "kernelspec": {
   "display_name": ".NET (C#)",
   "language": "C#",
   "name": ".net-csharp"
  },
  "language_info": {
   "file_extension": ".cs",
   "mimetype": "text/x-csharp",
   "name": "C#",
   "pygments_lexer": "csharp",
   "version": "9.0"
  },
  "orig_nbformat": 4,
  "vscode": {
   "interpreter": {
    "hash": "bade8211235ab644dd17f0cd83f594f159209fad98c582b972f18f95884606a8"
   }
  }
 },
 "nbformat": 4,
 "nbformat_minor": 2
}
