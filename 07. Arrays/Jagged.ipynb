{
 "cells": [
  {
   "cell_type": "markdown",
   "metadata": {
    "dotnet_interactive": {
     "language": "csharp"
    }
   },
   "source": [
    "# 7. Arrays"
   ]
  },
  {
   "cell_type": "markdown",
   "metadata": {
    "dotnet_interactive": {
     "language": "csharp"
    },
    "polyglot_notebook": {
     "kernelName": "csharp"
    }
   },
   "source": [
    "## Jagged"
   ]
  },
  {
   "cell_type": "markdown",
   "metadata": {
    "dotnet_interactive": {
     "language": "csharp"
    },
    "polyglot_notebook": {
     "kernelName": "csharp"
    }
   },
   "source": [
    "---"
   ]
  },
  {
   "cell_type": "markdown",
   "metadata": {
    "dotnet_interactive": {
     "language": "csharp"
    },
    "polyglot_notebook": {
     "kernelName": "csharp"
    }
   },
   "source": [
    "Jagged arrays are *arrays of arrays*,    \n",
    "or arrays in which each row contains an array of its own, where each array can have a `Length` different than those in the other rows."
   ]
  },
  {
   "cell_type": "markdown",
   "metadata": {
    "dotnet_interactive": {
     "language": "csharp"
    },
    "polyglot_notebook": {
     "kernelName": "csharp"
    }
   },
   "source": [
    "### Declaration and Allocation of Memory"
   ]
  },
  {
   "cell_type": "markdown",
   "metadata": {
    "dotnet_interactive": {
     "language": "csharp"
    },
    "polyglot_notebook": {
     "kernelName": "csharp"
    }
   },
   "source": [
    "#### Declaring a Jagged `Array` *initialized with default values* using the `new` Operator"
   ]
  },
  {
   "cell_type": "code",
   "execution_count": null,
   "metadata": {
    "dotnet_interactive": {
     "language": "csharp"
    },
    "vscode": {
     "languageId": "polyglot-notebook"
    }
   },
   "outputs": [],
   "source": [
    "// Declare a Jagged Integer Array\n",
    "// Containing 3 references to additional Arrays of different sizes \n",
    "// each initialized with default values  \n",
    "int[][] JaggedArray = new int[][]\n",
    "{\n",
    "    new int[4], \n",
    "    new int[3], \n",
    "    new int[2]\n",
    "};  "
   ]
  },
  {
   "cell_type": "markdown",
   "metadata": {
    "dotnet_interactive": {
     "language": "csharp"
    },
    "polyglot_notebook": {
     "kernelName": "csharp"
    }
   },
   "source": [
    "![Jagged_initialized1](./_img/Jagged_initialized1.jpg)"
   ]
  },
  {
   "cell_type": "code",
   "execution_count": null,
   "metadata": {
    "dotnet_interactive": {
     "language": "csharp"
    },
    "vscode": {
     "languageId": "polyglot-notebook"
    }
   },
   "outputs": [],
   "source": [
    "JaggedArray"
   ]
  },
  {
   "cell_type": "markdown",
   "metadata": {
    "dotnet_interactive": {
     "language": "csharp"
    },
    "polyglot_notebook": {
     "kernelName": "csharp"
    }
   },
   "source": [
    "#### Declaring a Jagged `Array` *initialized with explicit values* using `{{}}` syntax"
   ]
  },
  {
   "cell_type": "code",
   "execution_count": null,
   "metadata": {
    "dotnet_interactive": {
     "language": "csharp"
    },
    "vscode": {
     "languageId": "polyglot-notebook"
    }
   },
   "outputs": [],
   "source": [
    "// Declare a Jagged Integer Array\n",
    "// Containing 3 references to additional One Dimensional Arrays of different sizes \n",
    "// each initialized with explicit values  \n",
    "int[][] JaggedArray = \n",
    "{\n",
    "    new int[] { 1 ,  2 ,  3 ,  4 },\n",
    "    new int[] { 5 ,  6 ,  7 },\n",
    "    new int[] { 8 , 9 }\n",
    "};"
   ]
  },
  {
   "cell_type": "markdown",
   "metadata": {
    "dotnet_interactive": {
     "language": "csharp"
    },
    "polyglot_notebook": {
     "kernelName": "csharp"
    }
   },
   "source": [
    "![Jagged_initialized2](./_img/Jagged_initialized2.jpg)"
   ]
  },
  {
   "cell_type": "code",
   "execution_count": null,
   "metadata": {
    "dotnet_interactive": {
     "language": "csharp"
    },
    "vscode": {
     "languageId": "polyglot-notebook"
    }
   },
   "outputs": [],
   "source": [
    "JaggedArray"
   ]
  },
  {
   "cell_type": "markdown",
   "metadata": {
    "dotnet_interactive": {
     "language": "csharp"
    },
    "polyglot_notebook": {
     "kernelName": "csharp"
    }
   },
   "source": [
    "#### Combining Jagged and Multidimensional `Array`s "
   ]
  },
  {
   "cell_type": "markdown",
   "metadata": {
    "dotnet_interactive": {
     "language": "csharp"
    },
    "polyglot_notebook": {
     "kernelName": "csharp"
    }
   },
   "source": [
    "It's possible to mix **jagged** and **multidimensional** arrays.   \n",
    "   \n",
    "The following is a declaration and initialization of a *single-dimensional* **jagged array** that contains **3** Arrays of *different sizes* consisting themselves each of *two-dimensional* elements. "
   ]
  },
  {
   "cell_type": "code",
   "execution_count": null,
   "metadata": {
    "dotnet_interactive": {
     "language": "csharp"
    },
    "vscode": {
     "languageId": "polyglot-notebook"
    }
   },
   "outputs": [],
   "source": [
    "int[][,] JaggedArrayOf3TwoDimensionalArrays =\n",
    "{\n",
    "    new int[ , ] { { 1 , 2 } },\n",
    "    new int[ , ] { { 3 ,  4 } , { 5 , 6 } , { 7 , 8 } },\n",
    "    new int[ , ] { { 9 , 10 } , { 11 , 12 } }\n",
    "}; "
   ]
  },
  {
   "cell_type": "code",
   "execution_count": null,
   "metadata": {
    "dotnet_interactive": {
     "language": "csharp"
    },
    "vscode": {
     "languageId": "polyglot-notebook"
    }
   },
   "outputs": [],
   "source": [
    "JaggedArrayOf3TwoDimensionalArrays"
   ]
  },
  {
   "cell_type": "markdown",
   "metadata": {
    "dotnet_interactive": {
     "language": "csharp"
    },
    "polyglot_notebook": {
     "kernelName": "csharp"
    }
   },
   "source": [
    "<br>"
   ]
  },
  {
   "cell_type": "markdown",
   "metadata": {
    "dotnet_interactive": {
     "language": "csharp"
    },
    "polyglot_notebook": {
     "kernelName": "csharp"
    }
   },
   "source": [
    "### Accessing the Elements of a Jagged and Multidimensional `Array`"
   ]
  },
  {
   "cell_type": "markdown",
   "metadata": {
    "dotnet_interactive": {
     "language": "csharp"
    },
    "polyglot_notebook": {
     "kernelName": "csharp"
    }
   },
   "source": [
    "The array `JaggedArrayOf3TwoDimensionalArrays` has *12 elements*, stored in *3 rows* and *variably-sized columns*.    \n",
    "Each element can be accessed in the following way:"
   ]
  },
  {
   "cell_type": "markdown",
   "metadata": {
    "dotnet_interactive": {
     "language": "csharp"
    },
    "polyglot_notebook": {
     "kernelName": "csharp"
    }
   },
   "source": [
    "##### **Row 0**"
   ]
  },
  {
   "cell_type": "code",
   "execution_count": null,
   "metadata": {
    "dotnet_interactive": {
     "language": "csharp"
    },
    "vscode": {
     "languageId": "polyglot-notebook"
    }
   },
   "outputs": [],
   "source": [
    "JaggedArrayOf3TwoDimensionalArrays[ 0 ][ 0 , 0 ]"
   ]
  },
  {
   "cell_type": "code",
   "execution_count": null,
   "metadata": {
    "dotnet_interactive": {
     "language": "csharp"
    },
    "vscode": {
     "languageId": "polyglot-notebook"
    }
   },
   "outputs": [],
   "source": [
    "JaggedArrayOf3TwoDimensionalArrays[ 0 ][ 0 , 1 ]"
   ]
  },
  {
   "cell_type": "markdown",
   "metadata": {
    "dotnet_interactive": {
     "language": "csharp"
    },
    "polyglot_notebook": {
     "kernelName": "csharp"
    }
   },
   "source": [
    "##### **Row 1**"
   ]
  },
  {
   "cell_type": "code",
   "execution_count": null,
   "metadata": {
    "dotnet_interactive": {
     "language": "csharp"
    },
    "vscode": {
     "languageId": "polyglot-notebook"
    }
   },
   "outputs": [],
   "source": [
    "JaggedArrayOf3TwoDimensionalArrays[ 1 ][ 0 , 0 ]"
   ]
  },
  {
   "cell_type": "code",
   "execution_count": null,
   "metadata": {
    "dotnet_interactive": {
     "language": "csharp"
    },
    "vscode": {
     "languageId": "polyglot-notebook"
    }
   },
   "outputs": [],
   "source": [
    "JaggedArrayOf3TwoDimensionalArrays[ 1 ][ 0 , 1 ]"
   ]
  },
  {
   "cell_type": "code",
   "execution_count": null,
   "metadata": {
    "dotnet_interactive": {
     "language": "csharp"
    },
    "vscode": {
     "languageId": "polyglot-notebook"
    }
   },
   "outputs": [],
   "source": [
    "JaggedArrayOf3TwoDimensionalArrays[ 1 ][ 1 , 0 ]"
   ]
  },
  {
   "cell_type": "code",
   "execution_count": null,
   "metadata": {
    "dotnet_interactive": {
     "language": "csharp"
    },
    "vscode": {
     "languageId": "polyglot-notebook"
    }
   },
   "outputs": [],
   "source": [
    "JaggedArrayOf3TwoDimensionalArrays[ 1 ][ 1 , 1 ]"
   ]
  },
  {
   "cell_type": "code",
   "execution_count": null,
   "metadata": {
    "dotnet_interactive": {
     "language": "csharp"
    },
    "vscode": {
     "languageId": "polyglot-notebook"
    }
   },
   "outputs": [],
   "source": [
    "JaggedArrayOf3TwoDimensionalArrays[ 1 ][ 2 , 0 ]"
   ]
  },
  {
   "cell_type": "code",
   "execution_count": null,
   "metadata": {
    "dotnet_interactive": {
     "language": "csharp"
    },
    "vscode": {
     "languageId": "polyglot-notebook"
    }
   },
   "outputs": [],
   "source": [
    "JaggedArrayOf3TwoDimensionalArrays[ 1 ][ 2 , 1 ]"
   ]
  },
  {
   "cell_type": "markdown",
   "metadata": {
    "dotnet_interactive": {
     "language": "csharp"
    },
    "polyglot_notebook": {
     "kernelName": "csharp"
    }
   },
   "source": [
    "##### **Row 2**"
   ]
  },
  {
   "cell_type": "code",
   "execution_count": null,
   "metadata": {
    "dotnet_interactive": {
     "language": "csharp"
    },
    "vscode": {
     "languageId": "polyglot-notebook"
    }
   },
   "outputs": [],
   "source": [
    "JaggedArrayOf3TwoDimensionalArrays[ 2 ][ 0 , 0 ]"
   ]
  },
  {
   "cell_type": "code",
   "execution_count": null,
   "metadata": {
    "dotnet_interactive": {
     "language": "csharp"
    },
    "vscode": {
     "languageId": "polyglot-notebook"
    }
   },
   "outputs": [],
   "source": [
    "JaggedArrayOf3TwoDimensionalArrays[ 2 ][ 0 , 1 ]"
   ]
  },
  {
   "cell_type": "code",
   "execution_count": null,
   "metadata": {
    "dotnet_interactive": {
     "language": "csharp"
    },
    "vscode": {
     "languageId": "polyglot-notebook"
    }
   },
   "outputs": [],
   "source": [
    "JaggedArrayOf3TwoDimensionalArrays[ 2 ][ 1 , 0 ]"
   ]
  },
  {
   "cell_type": "code",
   "execution_count": null,
   "metadata": {
    "dotnet_interactive": {
     "language": "csharp"
    },
    "vscode": {
     "languageId": "polyglot-notebook"
    }
   },
   "outputs": [],
   "source": [
    "JaggedArrayOf3TwoDimensionalArrays[ 2 ][ 1 , 1 ]"
   ]
  },
  {
   "cell_type": "markdown",
   "metadata": {
    "dotnet_interactive": {
     "language": "csharp"
    },
    "polyglot_notebook": {
     "kernelName": "csharp"
    }
   },
   "source": [
    "<br>"
   ]
  },
  {
   "cell_type": "markdown",
   "metadata": {
    "dotnet_interactive": {
     "language": "csharp"
    },
    "polyglot_notebook": {
     "kernelName": "csharp"
    }
   },
   "source": [
    "### Length of a Jagged `Array`"
   ]
  },
  {
   "cell_type": "markdown",
   "metadata": {
    "dotnet_interactive": {
     "language": "csharp"
    },
    "polyglot_notebook": {
     "kernelName": "csharp"
    }
   },
   "source": [
    "The method `Length` returns the number of arrays contained in the jagged array. "
   ]
  },
  {
   "cell_type": "code",
   "execution_count": null,
   "metadata": {
    "dotnet_interactive": {
     "language": "csharp"
    },
    "vscode": {
     "languageId": "polyglot-notebook"
    }
   },
   "outputs": [],
   "source": [
    "JaggedArrayOf3TwoDimensionalArrays.Length"
   ]
  },
  {
   "cell_type": "markdown",
   "metadata": {
    "dotnet_interactive": {
     "language": "csharp"
    },
    "polyglot_notebook": {
     "kernelName": "csharp"
    }
   },
   "source": [
    "To get the lengths respective to each of the Jagged Array's elements, simply access those elements' `Length` properties."
   ]
  },
  {
   "cell_type": "code",
   "execution_count": null,
   "metadata": {
    "dotnet_interactive": {
     "language": "csharp"
    },
    "vscode": {
     "languageId": "polyglot-notebook"
    }
   },
   "outputs": [],
   "source": [
    "int JaggedArrayIndex = 0;\n",
    "\n",
    "foreach( int[ , ] TwoDimensionalArray in JaggedArrayOf3TwoDimensionalArrays )\n",
    "{\n",
    "    Console.WriteLine( \n",
    "        $\"The element at index { JaggedArrayIndex++ }'s Length is:\\t{ TwoDimensionalArray.Length }\" \n",
    "    );\n",
    "}"
   ]
  },
  {
   "cell_type": "markdown",
   "metadata": {
    "dotnet_interactive": {
     "language": "csharp"
    },
    "polyglot_notebook": {
     "kernelName": "csharp"
    }
   },
   "source": [
    "<br>"
   ]
  },
  {
   "cell_type": "markdown",
   "metadata": {
    "dotnet_interactive": {
     "language": "csharp"
    },
    "polyglot_notebook": {
     "kernelName": "csharp"
    }
   },
   "source": [
    "### Printing the Elements of a Jagged `Array`"
   ]
  },
  {
   "cell_type": "markdown",
   "metadata": {
    "dotnet_interactive": {
     "language": "csharp"
    },
    "polyglot_notebook": {
     "kernelName": "csharp"
    }
   },
   "source": [
    "#### Using Nested `while` Loops"
   ]
  },
  {
   "cell_type": "code",
   "execution_count": null,
   "metadata": {
    "dotnet_interactive": {
     "language": "csharp"
    },
    "vscode": {
     "languageId": "polyglot-notebook"
    }
   },
   "outputs": [],
   "source": [
    "// Observe the First Row and Last Row Indices of the array,\n",
    "// along with the First Column and Last Column Indices of the array\n",
    "int FirstRowIndex = 0,\n",
    "    FirstColIndex = 0,\n",
    "    LastRowIndex  = JaggedArray.Length - 1,\n",
    "    LastColIndex  = JaggedArray[ 0 ].Length - 1;\n",
    "\n",
    "\n",
    "// Start pointers to track the Current Row Index \n",
    "// along with the Current Column Index\n",
    "int CurrentRowIndex = FirstRowIndex,\n",
    "    CurrentColIndex = FirstColIndex;\n",
    "\n",
    "\n",
    "// Iterating While the Current Row Index has not yet exceeded the Last Row Index:\n",
    "while( CurrentRowIndex <= LastRowIndex )\n",
    "{\n",
    "\n",
    "    // Let the Current Column Index be reset back to the First Column Index\n",
    "    CurrentColIndex = FirstColIndex;\n",
    "\n",
    "\n",
    "    // Let the Last Column Index be set to reflect the Length\n",
    "    // of the element at the  Current Row Index\n",
    "    LastColIndex  = JaggedArray[ CurrentRowIndex ].Length - 1;\n",
    "\n",
    "\n",
    "    // Iterating While the Current Column Index has not yet exceeded the Last Column Index:\n",
    "    while( CurrentColIndex <= LastColIndex )\n",
    "    {\n",
    "        \n",
    "        // Print the Value at the Current Column Index,\n",
    "        // formatted to present a character width of 3 digits to the right of each element,\n",
    "        // taking care to simultaneously increment the Current Column Index\n",
    "        Console.Write(\"{0,-3}\", $\"{ JaggedArray[ CurrentRowIndex ][ CurrentColIndex++ ] } \");\n",
    "        \n",
    "    }\n",
    "    \n",
    "    \n",
    "    // After all that,\n",
    "    // each of the Column Values of the Current Row have been printed,\n",
    "    // so we now move on to the next line\n",
    "    Console.WriteLine();\n",
    "\n",
    "\n",
    "    // Increment the Current Row Index \n",
    "    CurrentRowIndex++;\n",
    "\n",
    "}\n",
    "\n",
    "// After All that,\n",
    "// All Column Values have now been printed for every Row in the Array,\n",
    "// as required"
   ]
  },
  {
   "cell_type": "markdown",
   "metadata": {
    "dotnet_interactive": {
     "language": "csharp"
    },
    "polyglot_notebook": {
     "kernelName": "csharp"
    }
   },
   "source": [
    "#### Using Nested `for` Loops"
   ]
  },
  {
   "cell_type": "code",
   "execution_count": null,
   "metadata": {
    "dotnet_interactive": {
     "language": "csharp"
    },
    "vscode": {
     "languageId": "polyglot-notebook"
    }
   },
   "outputs": [],
   "source": [
    "// Iterating For each of the elements from the First Row Index of the array \n",
    "// up until the Last Row Index:\n",
    "for( int CurrentRowIndex = FirstRowIndex; CurrentRowIndex <= LastRowIndex; CurrentRowIndex++ )\n",
    "{\n",
    "\n",
    "    // Let the Last Column Index be set to reflect the Length\n",
    "    // of the element at the  Current Row Index\n",
    "    LastColIndex  = JaggedArray[ CurrentRowIndex ].Length - 1;\n",
    "\n",
    "\n",
    "    // Iterating For each of the elements from the First Column Index of the array \n",
    "    // up until the Last Column Index:\n",
    "    for( int CurrentColIndex = FirstColIndex; CurrentColIndex <= LastColIndex; CurrentColIndex++ )\n",
    "    {\n",
    "\n",
    "        // Print the Value at the Current Column Index\n",
    "        Console.Write(\"{0,-3}\", $\"{ JaggedArray[ CurrentRowIndex ][ CurrentColIndex ] } \");\n",
    "\n",
    "    }\n",
    "\n",
    "    // After all that,\n",
    "    // each of the Column Values of the Current Row have been printed,\n",
    "    // so we now move on to the next line\n",
    "    Console.WriteLine();\n",
    "\n",
    "}\n",
    "\n",
    "// After All that,\n",
    "// All Column Values have now been printed for every Row in the Array,\n",
    "// as required"
   ]
  },
  {
   "cell_type": "markdown",
   "metadata": {
    "dotnet_interactive": {
     "language": "csharp"
    },
    "polyglot_notebook": {
     "kernelName": "csharp"
    }
   },
   "source": [
    "#### Using Nested `foreach` Loops"
   ]
  },
  {
   "cell_type": "code",
   "execution_count": null,
   "metadata": {
    "dotnet_interactive": {
     "language": "csharp"
    },
    "vscode": {
     "languageId": "polyglot-notebook"
    }
   },
   "outputs": [],
   "source": [
    "// For Each Row in the Jagged Array\n",
    "foreach( int[] Row in JaggedArray)\n",
    "{\n",
    "\n",
    "    // For each Column Value in this Row\n",
    "    foreach( int ColumnValue in Row  )\n",
    "    {\n",
    "\n",
    "        // Print that Column Value \n",
    "        Console.Write( $\"{ ColumnValue } \" );\n",
    "\n",
    "    }\n",
    "\n",
    "    // After all that,\n",
    "    // each of the Column Values of the Current Row have been printed,\n",
    "    // so we now move on to the next line\n",
    "    Console.WriteLine();\n",
    "\n",
    "}\n",
    "\n",
    "// After All that,\n",
    "// All Column Values have now been printed for every Row in the Array,\n",
    "// as required"
   ]
  }
 ],
 "metadata": {
  "kernelspec": {
   "display_name": ".NET (C#)",
   "language": "C#",
   "name": ".net-csharp"
  },
  "polyglot_notebook": {
   "kernelInfo": {
    "defaultKernelName": "csharp",
    "items": [
     {
      "aliases": [
       "c#",
       "C#"
      ],
      "languageName": "C#",
      "name": "csharp"
     },
     {
      "aliases": [],
      "name": ".NET"
     },
     {
      "aliases": [
       "f#",
       "F#"
      ],
      "languageName": "F#",
      "name": "fsharp"
     },
     {
      "aliases": [],
      "languageName": "HTML",
      "name": "html"
     },
     {
      "aliases": [
       "js"
      ],
      "languageName": "JavaScript",
      "name": "javascript"
     },
     {
      "aliases": [],
      "languageName": "KQL",
      "name": "kql"
     },
     {
      "aliases": [],
      "languageName": "Mermaid",
      "name": "mermaid"
     },
     {
      "aliases": [
       "powershell"
      ],
      "languageName": "PowerShell",
      "name": "pwsh"
     },
     {
      "aliases": [],
      "languageName": "SQL",
      "name": "sql"
     },
     {
      "aliases": [],
      "name": "value"
     },
     {
      "aliases": [
       "frontend"
      ],
      "name": "vscode"
     },
     {
      "aliases": [],
      "name": "webview"
     }
    ]
   }
  }
 },
 "nbformat": 4,
 "nbformat_minor": 2
}
