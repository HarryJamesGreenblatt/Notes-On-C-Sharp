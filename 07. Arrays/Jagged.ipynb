{
 "cells": [
  {
   "cell_type": "markdown",
   "metadata": {
    "dotnet_interactive": {
     "language": "csharp"
    }
   },
   "source": [
    "# 7. Arrays"
   ]
  },
  {
   "cell_type": "markdown",
   "metadata": {},
   "source": [
    "## Jagged"
   ]
  },
  {
   "cell_type": "markdown",
   "metadata": {},
   "source": [
    "---"
   ]
  },
  {
   "cell_type": "markdown",
   "metadata": {},
   "source": [
    "Jagged arrays are *arrays of arrays*,    \n",
    "or arrays in which each row contains an array of its own, where each array can have a `Length` different than those in the other rows."
   ]
  },
  {
   "cell_type": "markdown",
   "metadata": {},
   "source": [
    "### Declaration and Allocation of Memory"
   ]
  },
  {
   "cell_type": "markdown",
   "metadata": {},
   "source": [
    "#### Declaring a Jagged `Array` *initialized with default values* using the `new` Operator"
   ]
  },
  {
   "cell_type": "code",
   "execution_count": 36,
   "metadata": {
    "dotnet_interactive": {
     "language": "csharp"
    },
    "vscode": {
     "languageId": "dotnet-interactive.csharp"
    }
   },
   "outputs": [],
   "source": [
    "// Declare a Jagged Integer Array\n",
    "// Containing 3 references to additional Arrays of different sizes \n",
    "// each initialized with default values  \n",
    "int[][] JaggedArray = new int[][]\n",
    "{\n",
    "    new int[4], \n",
    "    new int[3], \n",
    "    new int[2]\n",
    "};  "
   ]
  },
  {
   "cell_type": "markdown",
   "metadata": {},
   "source": [
    "![Jagged_initialized1](./_img/Jagged_initialized1.jpg)"
   ]
  },
  {
   "cell_type": "code",
   "execution_count": 37,
   "metadata": {
    "dotnet_interactive": {
     "language": "csharp"
    },
    "vscode": {
     "languageId": "dotnet-interactive.csharp"
    }
   },
   "outputs": [
    {
     "data": {
      "text/html": [
       "<table><thead><tr><th><i>index</i></th><th>value</th></tr></thead><tbody><tr><td>0</td><td><div class=\"dni-plaintext\">[ 0, 0, 0, 0 ]</div></td></tr><tr><td>1</td><td><div class=\"dni-plaintext\">[ 0, 0, 0 ]</div></td></tr><tr><td>2</td><td><div class=\"dni-plaintext\">[ 0, 0 ]</div></td></tr></tbody></table>"
      ]
     },
     "metadata": {},
     "output_type": "display_data"
    }
   ],
   "source": [
    "JaggedArray"
   ]
  },
  {
   "cell_type": "markdown",
   "metadata": {},
   "source": [
    "#### Declaring a Jagged `Array` *initialized with explicit values* using `{{}}` syntax"
   ]
  },
  {
   "cell_type": "code",
   "execution_count": 38,
   "metadata": {
    "dotnet_interactive": {
     "language": "csharp"
    },
    "vscode": {
     "languageId": "dotnet-interactive.csharp"
    }
   },
   "outputs": [],
   "source": [
    "// Declare a Jagged Integer Array\n",
    "// Containing 3 references to additional One Dimensional Arrays of different sizes \n",
    "// each initialized with explicit values  \n",
    "int[][] JaggedArray = \n",
    "{\n",
    "    new int[] { 1 ,  2 ,  3 ,  4 },\n",
    "    new int[] { 5 ,  6 ,  7 },\n",
    "    new int[] { 8 , 9 }\n",
    "};"
   ]
  },
  {
   "cell_type": "markdown",
   "metadata": {},
   "source": [
    "![Jagged_initialized2](./_img/Jagged_initialized2.jpg)"
   ]
  },
  {
   "cell_type": "code",
   "execution_count": 39,
   "metadata": {
    "dotnet_interactive": {
     "language": "csharp"
    },
    "vscode": {
     "languageId": "dotnet-interactive.csharp"
    }
   },
   "outputs": [
    {
     "data": {
      "text/html": [
       "<table><thead><tr><th><i>index</i></th><th>value</th></tr></thead><tbody><tr><td>0</td><td><div class=\"dni-plaintext\">[ 1, 2, 3, 4 ]</div></td></tr><tr><td>1</td><td><div class=\"dni-plaintext\">[ 5, 6, 7 ]</div></td></tr><tr><td>2</td><td><div class=\"dni-plaintext\">[ 8, 9 ]</div></td></tr></tbody></table>"
      ]
     },
     "metadata": {},
     "output_type": "display_data"
    }
   ],
   "source": [
    "JaggedArray"
   ]
  },
  {
   "cell_type": "markdown",
   "metadata": {},
   "source": [
    "#### Combining Jagged and Multidimensional `Array`s "
   ]
  },
  {
   "cell_type": "markdown",
   "metadata": {},
   "source": [
    "It's possible to mix **jagged** and **multidimensional** arrays.   \n",
    "   \n",
    "The following is a declaration and initialization of a *single-dimensional* **jagged array** that contains **3** Arrays of *different sizes* consisting themselves each of *two-dimensional* elements. "
   ]
  },
  {
   "cell_type": "code",
   "execution_count": 40,
   "metadata": {
    "dotnet_interactive": {
     "language": "csharp"
    },
    "vscode": {
     "languageId": "dotnet-interactive.csharp"
    }
   },
   "outputs": [],
   "source": [
    "int[][,] JaggedArrayOf3TwoDimensionalArrays =\n",
    "{\n",
    "    new int[ , ] { { 1 , 2 } },\n",
    "    new int[ , ] { { 3 ,  4 } , { 5 , 6 } , { 7 , 8 } },\n",
    "    new int[ , ] { { 9 , 10 } , { 11 , 12 } }\n",
    "}; "
   ]
  },
  {
   "cell_type": "code",
   "execution_count": 41,
   "metadata": {
    "dotnet_interactive": {
     "language": "csharp"
    },
    "vscode": {
     "languageId": "dotnet-interactive.csharp"
    }
   },
   "outputs": [
    {
     "data": {
      "text/html": [
       "<table><thead><tr><th><i>index</i></th><th>value</th></tr></thead><tbody><tr><td>0</td><td><div class=\"dni-plaintext\">[ 1, 2 ]</div></td></tr><tr><td>1</td><td><div class=\"dni-plaintext\">[ 3, 4, 5, 6, 7, 8 ]</div></td></tr><tr><td>2</td><td><div class=\"dni-plaintext\">[ 9, 10, 11, 12 ]</div></td></tr></tbody></table>"
      ]
     },
     "metadata": {},
     "output_type": "display_data"
    }
   ],
   "source": [
    "JaggedArrayOf3TwoDimensionalArrays"
   ]
  },
  {
   "cell_type": "markdown",
   "metadata": {},
   "source": [
    "<br>"
   ]
  },
  {
   "cell_type": "markdown",
   "metadata": {},
   "source": [
    "### Accessing the Elements of a Jagged and Multidimensional `Array`"
   ]
  },
  {
   "cell_type": "markdown",
   "metadata": {},
   "source": [
    "The array `JaggedArrayOf3TwoDimensionalArrays` has *12 elements*, stored in *3 rows* and *variably-sized columns*.    \n",
    "Each element can be accessed in the following way:"
   ]
  },
  {
   "cell_type": "markdown",
   "metadata": {},
   "source": [
    "##### **Row 0**"
   ]
  },
  {
   "cell_type": "code",
   "execution_count": 42,
   "metadata": {
    "dotnet_interactive": {
     "language": "csharp"
    },
    "vscode": {
     "languageId": "dotnet-interactive.csharp"
    }
   },
   "outputs": [
    {
     "data": {
      "text/html": [
       "<div class=\"dni-plaintext\">1</div>"
      ]
     },
     "metadata": {},
     "output_type": "display_data"
    }
   ],
   "source": [
    "JaggedArrayOf3TwoDimensionalArrays[ 0 ][ 0 , 0 ]"
   ]
  },
  {
   "cell_type": "code",
   "execution_count": 43,
   "metadata": {
    "dotnet_interactive": {
     "language": "csharp"
    },
    "vscode": {
     "languageId": "dotnet-interactive.csharp"
    }
   },
   "outputs": [
    {
     "data": {
      "text/html": [
       "<div class=\"dni-plaintext\">2</div>"
      ]
     },
     "metadata": {},
     "output_type": "display_data"
    }
   ],
   "source": [
    "JaggedArrayOf3TwoDimensionalArrays[ 0 ][ 0 , 1 ]"
   ]
  },
  {
   "cell_type": "markdown",
   "metadata": {},
   "source": [
    "##### **Row 1**"
   ]
  },
  {
   "cell_type": "code",
   "execution_count": 44,
   "metadata": {
    "dotnet_interactive": {
     "language": "csharp"
    },
    "vscode": {
     "languageId": "dotnet-interactive.csharp"
    }
   },
   "outputs": [
    {
     "data": {
      "text/html": [
       "<div class=\"dni-plaintext\">3</div>"
      ]
     },
     "metadata": {},
     "output_type": "display_data"
    }
   ],
   "source": [
    "JaggedArrayOf3TwoDimensionalArrays[ 1 ][ 0 , 0 ]"
   ]
  },
  {
   "cell_type": "code",
   "execution_count": 45,
   "metadata": {
    "dotnet_interactive": {
     "language": "csharp"
    },
    "vscode": {
     "languageId": "dotnet-interactive.csharp"
    }
   },
   "outputs": [
    {
     "data": {
      "text/html": [
       "<div class=\"dni-plaintext\">4</div>"
      ]
     },
     "metadata": {},
     "output_type": "display_data"
    }
   ],
   "source": [
    "JaggedArrayOf3TwoDimensionalArrays[ 1 ][ 0 , 1 ]"
   ]
  },
  {
   "cell_type": "code",
   "execution_count": 46,
   "metadata": {
    "dotnet_interactive": {
     "language": "csharp"
    },
    "vscode": {
     "languageId": "dotnet-interactive.csharp"
    }
   },
   "outputs": [
    {
     "data": {
      "text/html": [
       "<div class=\"dni-plaintext\">5</div>"
      ]
     },
     "metadata": {},
     "output_type": "display_data"
    }
   ],
   "source": [
    "JaggedArrayOf3TwoDimensionalArrays[ 1 ][ 1 , 0 ]"
   ]
  },
  {
   "cell_type": "code",
   "execution_count": 47,
   "metadata": {
    "dotnet_interactive": {
     "language": "csharp"
    },
    "vscode": {
     "languageId": "dotnet-interactive.csharp"
    }
   },
   "outputs": [
    {
     "data": {
      "text/html": [
       "<div class=\"dni-plaintext\">6</div>"
      ]
     },
     "metadata": {},
     "output_type": "display_data"
    }
   ],
   "source": [
    "JaggedArrayOf3TwoDimensionalArrays[ 1 ][ 1 , 1 ]"
   ]
  },
  {
   "cell_type": "code",
   "execution_count": 48,
   "metadata": {
    "dotnet_interactive": {
     "language": "csharp"
    },
    "vscode": {
     "languageId": "dotnet-interactive.csharp"
    }
   },
   "outputs": [
    {
     "data": {
      "text/html": [
       "<div class=\"dni-plaintext\">7</div>"
      ]
     },
     "metadata": {},
     "output_type": "display_data"
    }
   ],
   "source": [
    "JaggedArrayOf3TwoDimensionalArrays[ 1 ][ 2 , 0 ]"
   ]
  },
  {
   "cell_type": "code",
   "execution_count": 49,
   "metadata": {
    "dotnet_interactive": {
     "language": "csharp"
    },
    "vscode": {
     "languageId": "dotnet-interactive.csharp"
    }
   },
   "outputs": [
    {
     "data": {
      "text/html": [
       "<div class=\"dni-plaintext\">8</div>"
      ]
     },
     "metadata": {},
     "output_type": "display_data"
    }
   ],
   "source": [
    "JaggedArrayOf3TwoDimensionalArrays[ 1 ][ 2 , 1 ]"
   ]
  },
  {
   "cell_type": "markdown",
   "metadata": {},
   "source": [
    "##### **Row 2**"
   ]
  },
  {
   "cell_type": "code",
   "execution_count": 50,
   "metadata": {
    "dotnet_interactive": {
     "language": "csharp"
    },
    "vscode": {
     "languageId": "dotnet-interactive.csharp"
    }
   },
   "outputs": [
    {
     "data": {
      "text/html": [
       "<div class=\"dni-plaintext\">9</div>"
      ]
     },
     "metadata": {},
     "output_type": "display_data"
    }
   ],
   "source": [
    "JaggedArrayOf3TwoDimensionalArrays[ 2 ][ 0 , 0 ]"
   ]
  },
  {
   "cell_type": "code",
   "execution_count": 51,
   "metadata": {
    "dotnet_interactive": {
     "language": "csharp"
    },
    "vscode": {
     "languageId": "dotnet-interactive.csharp"
    }
   },
   "outputs": [
    {
     "data": {
      "text/html": [
       "<div class=\"dni-plaintext\">10</div>"
      ]
     },
     "metadata": {},
     "output_type": "display_data"
    }
   ],
   "source": [
    "JaggedArrayOf3TwoDimensionalArrays[ 2 ][ 0 , 1 ]"
   ]
  },
  {
   "cell_type": "code",
   "execution_count": 56,
   "metadata": {
    "dotnet_interactive": {
     "language": "csharp"
    },
    "vscode": {
     "languageId": "dotnet-interactive.csharp"
    }
   },
   "outputs": [
    {
     "data": {
      "text/html": [
       "<div class=\"dni-plaintext\">11</div>"
      ]
     },
     "metadata": {},
     "output_type": "display_data"
    }
   ],
   "source": [
    "JaggedArrayOf3TwoDimensionalArrays[ 2 ][ 1 , 0 ]"
   ]
  },
  {
   "cell_type": "code",
   "execution_count": 57,
   "metadata": {
    "dotnet_interactive": {
     "language": "csharp"
    },
    "vscode": {
     "languageId": "dotnet-interactive.csharp"
    }
   },
   "outputs": [
    {
     "data": {
      "text/html": [
       "<div class=\"dni-plaintext\">12</div>"
      ]
     },
     "metadata": {},
     "output_type": "display_data"
    }
   ],
   "source": [
    "JaggedArrayOf3TwoDimensionalArrays[ 2 ][ 1 , 1 ]"
   ]
  },
  {
   "cell_type": "markdown",
   "metadata": {},
   "source": [
    "<br>"
   ]
  },
  {
   "cell_type": "markdown",
   "metadata": {},
   "source": [
    "### Length of a Jagged `Array`"
   ]
  },
  {
   "cell_type": "markdown",
   "metadata": {},
   "source": [
    "The method `Length` returns the number of arrays contained in the jagged array. "
   ]
  },
  {
   "cell_type": "code",
   "execution_count": 58,
   "metadata": {
    "dotnet_interactive": {
     "language": "csharp"
    },
    "vscode": {
     "languageId": "dotnet-interactive.csharp"
    }
   },
   "outputs": [
    {
     "data": {
      "text/html": [
       "<div class=\"dni-plaintext\">3</div>"
      ]
     },
     "metadata": {},
     "output_type": "display_data"
    }
   ],
   "source": [
    "JaggedArrayOf3TwoDimensionalArrays.Length"
   ]
  },
  {
   "cell_type": "markdown",
   "metadata": {},
   "source": [
    "To get the lengths respective to each of the Jagged Array's elements, simply access those elements' `Length` properties."
   ]
  },
  {
   "cell_type": "code",
   "execution_count": 75,
   "metadata": {
    "dotnet_interactive": {
     "language": "csharp"
    },
    "vscode": {
     "languageId": "dotnet-interactive.csharp"
    }
   },
   "outputs": [
    {
     "name": "stdout",
     "output_type": "stream",
     "text": [
      "The element at index 0's Length is:\t2\r\n",
      "The element at index 1's Length is:\t6\r\n",
      "The element at index 2's Length is:\t4\r\n"
     ]
    }
   ],
   "source": [
    "int JaggedArrayIndex = 0;\n",
    "\n",
    "foreach( int[ , ] TwoDimensionalArray in JaggedArrayOf3TwoDimensionalArrays )\n",
    "{\n",
    "    Console.WriteLine( \n",
    "        $\"The element at index { JaggedArrayIndex++ }'s Length is:\\t{ TwoDimensionalArray.Length }\" \n",
    "    );\n",
    "}"
   ]
  },
  {
   "cell_type": "markdown",
   "metadata": {},
   "source": [
    "<br>"
   ]
  },
  {
   "cell_type": "markdown",
   "metadata": {},
   "source": [
    "### Printing the Elements of a Jagged `Array`"
   ]
  },
  {
   "cell_type": "markdown",
   "metadata": {},
   "source": [
    "#### Using Nested `while` Loops"
   ]
  },
  {
   "cell_type": "code",
   "execution_count": 69,
   "metadata": {
    "dotnet_interactive": {
     "language": "csharp"
    },
    "vscode": {
     "languageId": "dotnet-interactive.csharp"
    }
   },
   "outputs": [
    {
     "name": "stdout",
     "output_type": "stream",
     "text": [
      "1  2  3  4  \r\n",
      "5  6  7  \r\n",
      "8  9  \r\n"
     ]
    }
   ],
   "source": [
    "// Observe the First Row and Last Row Indices of the array,\n",
    "// along with the First Column and Last Column Indices of the array\n",
    "int FirstRowIndex = 0,\n",
    "    FirstColIndex = 0,\n",
    "    LastRowIndex  = JaggedArray.Length - 1,\n",
    "    LastColIndex  = JaggedArray[ 0 ].Length - 1;\n",
    "\n",
    "\n",
    "// Start pointers to track the Current Row Index \n",
    "// along with the Current Column Index\n",
    "int CurrentRowIndex = FirstRowIndex,\n",
    "    CurrentColIndex = FirstColIndex;\n",
    "\n",
    "\n",
    "// Iterating While the Current Row Index has not yet exceeded the Last Row Index:\n",
    "while( CurrentRowIndex <= LastRowIndex )\n",
    "{\n",
    "\n",
    "    // Let the Current Column Index be reset back to the First Column Index\n",
    "    CurrentColIndex = FirstColIndex;\n",
    "\n",
    "\n",
    "    // Let the Last Column Index be set to reflect the Length\n",
    "    // of the element at the  Current Row Index\n",
    "    LastColIndex  = JaggedArray[ CurrentRowIndex ].Length - 1;\n",
    "\n",
    "\n",
    "    // Iterating While the Current Column Index has not yet exceeded the Last Column Index:\n",
    "    while( CurrentColIndex <= LastColIndex )\n",
    "    {\n",
    "        \n",
    "        // Print the Value at the Current Column Index,\n",
    "        // formatted to present a character width of 3 digits to the right of each element,\n",
    "        // taking care to simultaneously increment the Current Column Index\n",
    "        Console.Write(\"{0,-3}\", $\"{ JaggedArray[ CurrentRowIndex ][ CurrentColIndex++ ] } \");\n",
    "        \n",
    "    }\n",
    "    \n",
    "    \n",
    "    // After all that,\n",
    "    // each of the Column Values of the Current Row have been printed,\n",
    "    // so we now move on to the next line\n",
    "    Console.WriteLine();\n",
    "\n",
    "\n",
    "    // Increment the Current Row Index \n",
    "    CurrentRowIndex++;\n",
    "\n",
    "}\n",
    "\n",
    "// After All that,\n",
    "// All Column Values have now been printed for every Row in the Array,\n",
    "// as required"
   ]
  },
  {
   "cell_type": "markdown",
   "metadata": {},
   "source": [
    "#### Using Nested `for` Loops"
   ]
  },
  {
   "cell_type": "code",
   "execution_count": 71,
   "metadata": {
    "dotnet_interactive": {
     "language": "csharp"
    },
    "vscode": {
     "languageId": "dotnet-interactive.csharp"
    }
   },
   "outputs": [
    {
     "name": "stdout",
     "output_type": "stream",
     "text": [
      "1  2  3  4  \r\n",
      "5  6  7  \r\n",
      "8  9  \r\n"
     ]
    }
   ],
   "source": [
    "// Iterating For each of the elements from the First Row Index of the array \n",
    "// up until the Last Row Index:\n",
    "for( int CurrentRowIndex = FirstRowIndex; CurrentRowIndex <= LastRowIndex; CurrentRowIndex++ )\n",
    "{\n",
    "\n",
    "    // Let the Last Column Index be set to reflect the Length\n",
    "    // of the element at the  Current Row Index\n",
    "    LastColIndex  = JaggedArray[ CurrentRowIndex ].Length - 1;\n",
    "\n",
    "\n",
    "    // Iterating For each of the elements from the First Column Index of the array \n",
    "    // up until the Last Column Index:\n",
    "    for( int CurrentColIndex = FirstColIndex; CurrentColIndex <= LastColIndex; CurrentColIndex++ )\n",
    "    {\n",
    "\n",
    "        // Print the Value at the Current Column Index\n",
    "        Console.Write(\"{0,-3}\", $\"{ JaggedArray[ CurrentRowIndex ][ CurrentColIndex ] } \");\n",
    "\n",
    "    }\n",
    "\n",
    "    // After all that,\n",
    "    // each of the Column Values of the Current Row have been printed,\n",
    "    // so we now move on to the next line\n",
    "    Console.WriteLine();\n",
    "\n",
    "}\n",
    "\n",
    "// After All that,\n",
    "// All Column Values have now been printed for every Row in the Array,\n",
    "// as required"
   ]
  },
  {
   "cell_type": "markdown",
   "metadata": {},
   "source": [
    "#### Using Nested `foreach` Loops"
   ]
  },
  {
   "cell_type": "code",
   "execution_count": 74,
   "metadata": {
    "dotnet_interactive": {
     "language": "csharp"
    },
    "vscode": {
     "languageId": "dotnet-interactive.csharp"
    }
   },
   "outputs": [
    {
     "name": "stdout",
     "output_type": "stream",
     "text": [
      "1 2 3 4 \r\n",
      "5 6 7 \r\n",
      "8 9 \r\n"
     ]
    }
   ],
   "source": [
    "// For Each Row in the Jagged Array\n",
    "foreach( int[] Row in JaggedArray)\n",
    "{\n",
    "\n",
    "    // For each Column Value in this Row\n",
    "    foreach( int ColumnValue in Row  )\n",
    "    {\n",
    "\n",
    "        // Print that Column Value \n",
    "        Console.Write( $\"{ ColumnValue } \" );\n",
    "\n",
    "    }\n",
    "\n",
    "    // After all that,\n",
    "    // each of the Column Values of the Current Row have been printed,\n",
    "    // so we now move on to the next line\n",
    "    Console.WriteLine();\n",
    "\n",
    "}\n",
    "\n",
    "// After All that,\n",
    "// All Column Values have now been printed for every Row in the Array,\n",
    "// as required"
   ]
  }
 ],
 "metadata": {
  "kernelspec": {
   "display_name": ".NET (C#)",
   "language": "C#",
   "name": ".net-csharp"
  },
  "language_info": {
   "file_extension": ".cs",
   "mimetype": "text/x-csharp",
   "name": "C#",
   "pygments_lexer": "csharp",
   "version": "9.0"
  },
  "orig_nbformat": 4,
  "vscode": {
   "interpreter": {
    "hash": "bade8211235ab644dd17f0cd83f594f159209fad98c582b972f18f95884606a8"
   }
  }
 },
 "nbformat": 4,
 "nbformat_minor": 2
}
