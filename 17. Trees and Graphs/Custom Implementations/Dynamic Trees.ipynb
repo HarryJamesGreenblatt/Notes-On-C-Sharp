{
 "cells": [
  {
   "attachments": {},
   "cell_type": "markdown",
   "metadata": {},
   "source": [
    "# 17. Trees and Graphs"
   ]
  },
  {
   "attachments": {},
   "cell_type": "markdown",
   "metadata": {},
   "source": [
    "## Custom Implementations\n",
    "### Trees (Dynamic Implementation)\n",
    "---"
   ]
  },
  {
   "attachments": {},
   "cell_type": "markdown",
   "metadata": {},
   "source": [
    "> $Recall\\,from:$ [Dynamic (Linked) Lists](../../16.%20Linear%20Data%20Structures/Custom%20Implementations/Dynamic%20(Linked)%20Lists.ipynb)   \n",
    "> In a **dynamic**, rather than a *static* implementation, each element along the structure **retains information about their neighboring element**."
   ]
  },
  {
   "attachments": {},
   "cell_type": "markdown",
   "metadata": {},
   "source": [
    "This **Dynamic Tree** definition shall be a **recursively branching structure**, consisting of numbered **Tree Nodes**, each of which contains a `List<T>` of **zero or more children**, which are themselves **Tree Nodes** as well.   \n",
    "   \n",
    "The **Tree itself is a seperate class**, which can be empty or can have a root node, that implements basic operations over trees like *construction* and *traversal*."
   ]
  },
  {
   "attachments": {},
   "cell_type": "markdown",
   "metadata": {},
   "source": [
    "<br>"
   ]
  },
  {
   "attachments": {},
   "cell_type": "markdown",
   "metadata": {},
   "source": [
    "### The Dynamic Tree"
   ]
  },
  {
   "cell_type": "markdown",
   "metadata": {},
   "source": [
    "#### Class Definition"
   ]
  },
  {
   "attachments": {},
   "cell_type": "markdown",
   "metadata": {},
   "source": [
    "For this **Dynamic implementation of the Tree**, we will need to define a pait of classses following the pattern below: \n",
    "1. A `TreeNode<T>` class $-$ will store a single Node of the Tree along with a `List<T>` of it's Children Nodes."
   ]
  },
  {
   "cell_type": "code",
   "execution_count": null,
   "metadata": {
    "dotnet_interactive": {
     "language": "csharp"
    },
    "polyglot_notebook": {
     "kernelName": "csharp"
    },
    "vscode": {
     "languageId": "polyglot-notebook"
    }
   },
   "outputs": [],
   "source": [
    "public class TreeNode<T>\n",
    "{\n",
    "\n",
    "    // FIELD DEFINITIONS -------------------------------------------------------\n",
    "    private T value;                     \n",
    "    private bool hasParent;              \n",
    "    private List<TreeNode<T>> children;\n",
    "    // -------------------------------------------------------------------------\n",
    "\n",
    "\n",
    "\n",
    "    // PROPERTY DEFINITIONS ----------------------------------------------------\n",
    "    public T Value                                                     \n",
    "    {    \n",
    "        get{ return this.value; }       \n",
    "        set{ this.Value = value; }      \n",
    "    }\n",
    "    // -------------------------------------------------------------------------\n",
    "    public List<TreeNode<T>> Children\n",
    "    {\n",
    "        // read-only\n",
    "        get{ return this.children; }\n",
    "    }\n",
    "    // -------------------------------------------------------------------------\n",
    "\n",
    "\n",
    "\n",
    "    // CONSTRUCTOR -------------------------------------------------------------\n",
    "    public TreeNode( T value )\n",
    "    {\n",
    "\n",
    "        // We must ensure that each new Tree Node contains a value.\n",
    "        // If one is not provided, we should throw an exception\n",
    "        if( value == null )\n",
    "        {\n",
    "            throw new ArgumentNullException(\n",
    "                \"You must provide a value for the Tree Node.\"\n",
    "            );\n",
    "        }\n",
    "\n",
    "\n",
    "        // Allocate a new List of Child Nodes for this new Tree Node \n",
    "        this.children = new List<TreeNode<T>>();\n",
    "\n",
    "\n",
    "        // Provide a publicly accessible copy of this Node's value element  \n",
    "        this.Value = value;\n",
    "\n",
    "    }\n",
    "    // ------------------------------------------------------------------------\n",
    "\n",
    "\n",
    "\n",
    "    // METHODS -----------------------------------------------------------------\n",
    "    //------------------------- I N S E R T I O N ------------------------------\n",
    "    public void AddChild( TreeNode<T> childToBeAdded )\n",
    "    {\n",
    "\n",
    "        // We must ensure that each new Child contains a valid Node reference.\n",
    "        // If one is not provided, we should throw an exception\n",
    "        if( childToBeAdded == null )\n",
    "        {\n",
    "            throw new ArgumentException(\n",
    "                \"The child node to be added is invalid.\" \n",
    "            );\n",
    "        }\n",
    "\n",
    "\n",
    "        // We must also ensure that the child to be added doesn't have a parent.\n",
    "        // If so, we should throw an exception\n",
    "        if ( childToBeAdded.hasParent )\n",
    "        {\n",
    "            throw new ArgumentException(\n",
    "                \"The child node to be added already has a parent node.\"\n",
    "            );\n",
    "        }\n",
    "\n",
    "\n",
    "        // Indicate that the child to be added now has a parent\n",
    "        childToBeAdded.hasParent = true;\n",
    "\n",
    "\n",
    "        // Append the child to be added to the list of child nodes\n",
    "        this.children.Add( childToBeAdded );\n",
    "      \n",
    "    }\n",
    "    // -------------------------------------------------------------------------\n",
    "    //--------------------------- S E A R C H ----------------------------------\n",
    "    public TreeNode<T> GetChild( int index )\n",
    "    {\n",
    "        // return the child node at the specified index\n",
    "        return this.children[ index ] ;\n",
    "    }\n",
    "    // -------------------------------------------------------------------------\n",
    "\n",
    "} "
   ]
  },
  {
   "attachments": {},
   "cell_type": "markdown",
   "metadata": {},
   "source": [
    "<br>"
   ]
  },
  {
   "attachments": {},
   "cell_type": "markdown",
   "metadata": {},
   "source": [
    "2. A `Tree<T>` class $-$ will store a sequence of references to interior Tree Nodes, including, but not limited to, the **root** of the Tree, as well as define it's traversal algorhythm. "
   ]
  },
  {
   "cell_type": "code",
   "execution_count": null,
   "metadata": {
    "dotnet_interactive": {
     "language": "csharp"
    },
    "polyglot_notebook": {
     "kernelName": "csharp"
    },
    "vscode": {
     "languageId": "polyglot-notebook"
    }
   },
   "outputs": [],
   "source": []
  }
 ],
 "metadata": {
  "language_info": {
   "name": "python"
  },
  "orig_nbformat": 4
 },
 "nbformat": 4,
 "nbformat_minor": 2
}
