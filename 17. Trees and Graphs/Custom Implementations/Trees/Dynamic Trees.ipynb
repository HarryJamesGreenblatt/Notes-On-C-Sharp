{
 "cells": [
  {
   "attachments": {},
   "cell_type": "markdown",
   "metadata": {},
   "source": [
    "# 17. Trees and Graphs"
   ]
  },
  {
   "attachments": {},
   "cell_type": "markdown",
   "metadata": {},
   "source": [
    "## Custom Implementations\n",
    "### Trees (Dynamic Implementation)\n",
    "---"
   ]
  },
  {
   "attachments": {},
   "cell_type": "markdown",
   "metadata": {},
   "source": [
    "> $Recall\\,from:$ [Dynamic (Linked) Lists](../../16.%20Linear%20Data%20Structures/Custom%20Implementations/Dynamic%20(Linked)%20Lists.ipynb)   \n",
    "> In a **dynamic**, rather than a *static* implementation, each element along the structure **retains information about their neighboring element**."
   ]
  },
  {
   "attachments": {},
   "cell_type": "markdown",
   "metadata": {},
   "source": [
    "This **Dynamic Tree** definition shall be a **recursively branching structure**, consisting of numbered **Tree Nodes**, each of which contains a `List<T>` of **zero or more children**, which are themselves **Tree Nodes** as well.   \n",
    "   \n",
    "The **Tree itself is a seperate class**, which can be empty or can have a root node, that implements basic operations over trees like *construction* and *traversal*."
   ]
  },
  {
   "attachments": {},
   "cell_type": "markdown",
   "metadata": {},
   "source": [
    "<br>"
   ]
  },
  {
   "attachments": {},
   "cell_type": "markdown",
   "metadata": {},
   "source": [
    "### The Dynamic Tree"
   ]
  },
  {
   "cell_type": "markdown",
   "metadata": {},
   "source": [
    "#### Class Definition"
   ]
  },
  {
   "attachments": {},
   "cell_type": "markdown",
   "metadata": {},
   "source": [
    "For this **Dynamic implementation of the Tree**, we will need to define a pair of classses following the pattern below: \n",
    "1. A `TreeNode<T>` class $-$ will store a single Node of the Tree along with a `List<T>` of it's Children Nodes."
   ]
  },
  {
   "attachments": {},
   "cell_type": "markdown",
   "metadata": {},
   "source": [
    "<br>"
   ]
  },
  {
   "cell_type": "code",
   "execution_count": null,
   "metadata": {
    "dotnet_interactive": {
     "language": "csharp"
    },
    "polyglot_notebook": {
     "kernelName": "csharp"
    },
    "vscode": {
     "languageId": "polyglot-notebook"
    }
   },
   "outputs": [],
   "source": [
    "public class TreeNode<T>\n",
    "{\n",
    "\n",
    "    // FIELD DEFINITIONS -------------------------------------------------------\n",
    "    private T value;                     \n",
    "    private bool hasParent;              \n",
    "    private List< TreeNode<T> > children;\n",
    "    // -------------------------------------------------------------------------\n",
    "\n",
    "\n",
    "\n",
    "    // PROPERTY DEFINITIONS ----------------------------------------------------\n",
    "    public T Value                                                     \n",
    "    {    \n",
    "        get{ return this.value; }       \n",
    "        set{ this.value = value; }      \n",
    "    }\n",
    "    //--------------------------------------------------------------------------\n",
    "    public List< TreeNode<T> > Children\n",
    "    {\n",
    "        // read-only\n",
    "        get{ return this.children; }\n",
    "    }\n",
    "    //--------------------------------------------------------------------------\n",
    "\n",
    "\n",
    "\n",
    "    // CONSTRUCTOR -------------------------------------------------------------\n",
    "    public TreeNode( T value )\n",
    "    {\n",
    "\n",
    "        // We must ensure that each new Tree Node contains a value.\n",
    "        // If one is not provided, we should throw an exception\n",
    "        if( value == null )\n",
    "        {\n",
    "            throw new ArgumentNullException(\n",
    "                \"You must provide a value for the Tree Node.\"\n",
    "            );\n",
    "        }\n",
    "\n",
    "\n",
    "        // Allocate a new List of Child Nodes for this new Tree Node \n",
    "        this.children = new List< TreeNode<T> >();\n",
    "\n",
    "\n",
    "        // Provide a publicly accessible copy of this Node's value element  \n",
    "        this.Value = value;\n",
    "\n",
    "    }\n",
    "    //--------------------------------------------------------------------------\n",
    "\n",
    "\n",
    "\n",
    "    // METHODS -----------------------------------------------------------------\n",
    "    //------------------------- I N S E R T I O N ------------------------------\n",
    "    public void AddChild( TreeNode<T> childToBeAdded )\n",
    "    {\n",
    "\n",
    "        // We must ensure that each new Child contains a valid Node reference.\n",
    "        // If one is not provided, we should throw an exception\n",
    "        if( childToBeAdded == null )\n",
    "        {\n",
    "            throw new ArgumentException(\n",
    "                \"The child node to be added is invalid.\" \n",
    "            );\n",
    "        }\n",
    "\n",
    "\n",
    "        // We must also ensure that the child to be added doesn't have a parent.\n",
    "        // If so, we should throw an exception\n",
    "        if ( childToBeAdded.hasParent )\n",
    "        {\n",
    "            throw new ArgumentException(\n",
    "                \"The child node to be added already has a parent node.\"\n",
    "            );\n",
    "        }\n",
    "\n",
    "\n",
    "        // Indicate that the child to be added now has a parent\n",
    "        childToBeAdded.hasParent = true;\n",
    "\n",
    "\n",
    "        // Append the child to be added to the list of child nodes\n",
    "        this.children.Add( childToBeAdded );\n",
    "      \n",
    "    }\n",
    "    //--------------------------------------------------------------------------\n",
    "    //--------------------------- S E A R C H ----------------------------------\n",
    "    public TreeNode<T> GetChild( int index )\n",
    "    {\n",
    "        // return the child node at the specified index\n",
    "        return this.children[ index ] ;\n",
    "    }\n",
    "    //--------------------------------------------------------------------------\n",
    "\n",
    "} "
   ]
  },
  {
   "attachments": {},
   "cell_type": "markdown",
   "metadata": {},
   "source": [
    "<br>"
   ]
  },
  {
   "attachments": {},
   "cell_type": "markdown",
   "metadata": {},
   "source": [
    "2. A `Tree<T>` class $-$ will store a sequence of references to interior Tree Nodes, including, but not limited to, the **root** of the Tree, as well as define it's traversal algorhythm. "
   ]
  },
  {
   "cell_type": "code",
   "execution_count": null,
   "metadata": {
    "dotnet_interactive": {
     "language": "csharp"
    },
    "polyglot_notebook": {
     "kernelName": "csharp"
    },
    "vscode": {
     "languageId": "polyglot-notebook"
    }
   },
   "outputs": [],
   "source": [
    "public class Tree<T>\n",
    "{\n",
    "\n",
    "    // FIELD DEFINITION --------------------------------------------------------\n",
    "    private TreeNode<T> root;\n",
    "    //--------------------------------------------------------------------------\n",
    "\n",
    "\n",
    "\n",
    "    // PROPERTY DEFINITIONS ----------------------------------------------------\n",
    "    public TreeNode<T> Root\n",
    "    {\n",
    "        // Read-only\n",
    "        get{ return this.root; }\n",
    "    }\n",
    "    //--------------------------------------------------------------------------\n",
    "\n",
    "\n",
    "\n",
    "    // CONSTRUCTORS ------------------------------------------------------------\n",
    "    public Tree( T value )\n",
    "    {\n",
    "\n",
    "        // We must ensure that each new Tree's root node contains a value.\n",
    "        // If one is not provided, we should throw an exception\n",
    "        if( value == null )\n",
    "        {\n",
    "            throw new ArgumentNullException(\n",
    "                \"You must provide a value for the Tree's root node.\"\n",
    "            );\n",
    "        }\n",
    "\n",
    "        // We may then establish a root node for the new tree\n",
    "        // which carries the specified value. \n",
    "        this.root = new TreeNode<T>( value );\n",
    "        \n",
    "    }\n",
    "    //--------------------------------------------------------------------------\n",
    "    public Tree( T value, params Tree<T>[] children ) : this( value )\n",
    "    {\n",
    "\n",
    "        // Iterating For Each child specified in the Tree params:\n",
    "        foreach ( Tree<T> child in children )\n",
    "        {\n",
    "            \n",
    "            // Append the current child to the List of children\n",
    "            this.root.AddChild( child.root );\n",
    "\n",
    "        }\n",
    "\n",
    "    }\n",
    "    //--------------------------------------------------------------------------\n",
    "\n",
    "\n",
    "\n",
    "    // METHODS -----------------------------------------------------------------\n",
    "    //------------------------- T R A V E R S A L ------------------------------\n",
    "    public void PrintDFS( TreeNode<T> root, string spaces )\n",
    "    {\n",
    "\n",
    "        // If the specified Node is null, then it's a Node that has no parent. \n",
    "        // So it must therefore either be the root, or else an invalid Node.\n",
    "        // As such, we must exit the method accordingly \n",
    "        if( this.root == null )\n",
    "        {\n",
    "            return;\n",
    "        }\n",
    "\n",
    "\n",
    "        // Print the specified number of spaces, \n",
    "        // followed by the specified node value\n",
    "        Console.WriteLine( spaces + root.Value );\n",
    "\n",
    "\n",
    "        // Set up a pointer at the specified node's first child\n",
    "        TreeNode<T> child = null;\n",
    "\n",
    "\n",
    "        // Iterating For every child index in the List of child nodes:\n",
    "        for( int childIndex = 0; childIndex < root.Children.Count; childIndex++ )\n",
    "        {\n",
    "\n",
    "            // Point to the child at the current child index\n",
    "            child = root.GetChild( childIndex );\n",
    "\n",
    "\n",
    "            // Recursively call PrintDFS on the child under the pointer,\n",
    "            // taking care to also append some additional whitespace\n",
    "            PrintDFS( child, spaces + \"   \" );\n",
    "\n",
    "        }\n",
    "\n",
    "    }\n",
    "    //--------------------------------------------------------------------------\n",
    "    public void TraverseDFS()\n",
    "    {\n",
    "\n",
    "        // Begin the DFS traversal of the tree at the root,\n",
    "        // initially starting with no separating whitespace \n",
    "        this.PrintDFS( this.root, string.Empty );\n",
    "\n",
    "    }\n",
    "    //--------------------------------------------------------------------------\n",
    "  \n",
    "}"
   ]
  },
  {
   "attachments": {},
   "cell_type": "markdown",
   "metadata": {},
   "source": [
    "<br>"
   ]
  },
  {
   "attachments": {},
   "cell_type": "markdown",
   "metadata": {},
   "source": [
    "#### Instantiation and Example Usage"
   ]
  },
  {
   "attachments": {},
   "cell_type": "markdown",
   "metadata": {},
   "source": [
    "Consider the example tree below:\n",
    "   \n",
    "<img src=\"../_img/TreeTerminology.png\" style=\"display: block; margin: auto; width: 650px;\"></img>"
   ]
  },
  {
   "attachments": {},
   "cell_type": "markdown",
   "metadata": {},
   "source": [
    "<br>"
   ]
  },
  {
   "attachments": {},
   "cell_type": "markdown",
   "metadata": {},
   "source": [
    "We may create roughly the same structure by instatiating a new `Tree<int>` specified with following arguments:"
   ]
  },
  {
   "cell_type": "code",
   "execution_count": null,
   "metadata": {
    "dotnet_interactive": {
     "language": "csharp"
    },
    "polyglot_notebook": {
     "kernelName": "csharp"
    },
    "vscode": {
     "languageId": "polyglot-notebook"
    }
   },
   "outputs": [],
   "source": [
    "Tree<int> tree = new Tree<int>( \n",
    "    7, \n",
    "    new Tree<int>( 19, new Tree<int>(1), new Tree<int>(12), new Tree<int>(31) ), \n",
    "    new Tree<int>( 21 ), \n",
    "    new Tree<int>( 14, new Tree<int>(23), new Tree<int>(6) )\n",
    ");"
   ]
  },
  {
   "cell_type": "code",
   "execution_count": null,
   "metadata": {
    "dotnet_interactive": {
     "language": "csharp"
    },
    "polyglot_notebook": {
     "kernelName": "csharp"
    },
    "vscode": {
     "languageId": "polyglot-notebook"
    }
   },
   "outputs": [],
   "source": [
    "tree.TraverseDFS()"
   ]
  }
 ],
 "metadata": {
  "kernelspec": {
   "display_name": ".NET (C#)",
   "language": "C#",
   "name": ".net-csharp"
  },
  "language_info": {
   "file_extension": ".cs",
   "mimetype": "text/x-csharp",
   "name": "C#",
   "pygments_lexer": "csharp",
   "version": "8.0"
  },
  "orig_nbformat": 4,
  "polyglot_notebook": {
   "kernelInfo": {
    "defaultKernelName": "csharp",
    "items": [
     {
      "aliases": [],
      "name": "csharp"
     }
    ]
   }
  }
 },
 "nbformat": 4,
 "nbformat_minor": 2
}
