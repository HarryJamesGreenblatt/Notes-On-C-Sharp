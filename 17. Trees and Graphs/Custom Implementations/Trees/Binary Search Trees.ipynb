{
 "cells": [
  {
   "attachments": {},
   "cell_type": "markdown",
   "metadata": {},
   "source": [
    "# 17. Trees and Graphs"
   ]
  },
  {
   "attachments": {},
   "cell_type": "markdown",
   "metadata": {},
   "source": [
    "## Custom Implementations\n",
    "## *Binary Search Trees*\n",
    "---"
   ]
  },
  {
   "attachments": {},
   "cell_type": "markdown",
   "metadata": {
    "vscode": {
     "languageId": "csharp"
    }
   },
   "source": [
    "### Overview"
   ]
  },
  {
   "attachments": {},
   "cell_type": "markdown",
   "metadata": {},
   "source": [
    "A **Binary Search Tree (BST)** is a Binary Tree in which: \n",
    "- Every node has a unique value \n",
    "- All node values are *comparable* such that, for every two node values $a$ and $b$, one of the follwing *dependencies* holds true:\n",
    "  - $a \\lt b$ \n",
    "  - $a \\gt b$ \n",
    "- The Tree is organized in a way that, for every node, the following is satisfied: \n",
    "  - All values in the **left sub-tree** are **smaller** than its parent's value \n",
    "  - All values in the **right sub-tree** are **bigger** than its parent's value"
   ]
  },
  {
   "attachments": {},
   "cell_type": "markdown",
   "metadata": {},
   "source": [
    "Below, we observe an example of such a **Binary Search Tree**:"
   ]
  },
  {
   "attachments": {},
   "cell_type": "markdown",
   "metadata": {},
   "source": [
    "<img src=\"../../_img/BSTExample.jpg\" style=\"display: block; margin: auto; width: 700px;\"></img>"
   ]
  },
  {
   "attachments": {},
   "cell_type": "markdown",
   "metadata": {},
   "source": [
    "<br>"
   ]
  },
  {
   "attachments": {},
   "cell_type": "markdown",
   "metadata": {},
   "source": [
    "### The Binary Search Tree"
   ]
  },
  {
   "attachments": {},
   "cell_type": "markdown",
   "metadata": {},
   "source": [
    "#### Class Definition"
   ]
  },
  {
   "attachments": {},
   "cell_type": "markdown",
   "metadata": {},
   "source": [
    "1. `BinaryTreeNode<T>` - An internal class that describes a node’s structure and is visible only within the primary **Binary Search Tree** class. Implements the `IComparable` interface in order to support comparisons between node values and can uphold the rules for a BST."
   ]
  },
  {
   "cell_type": "code",
   "execution_count": null,
   "metadata": {
    "dotnet_interactive": {
     "language": "csharp"
    },
    "polyglot_notebook": {
     "kernelName": "csharp"
    },
    "vscode": {
     "languageId": "polyglot-notebook"
    }
   },
   "outputs": [],
   "source": [
    "public class BinarySearchTree<T> where T : IComparable<T>\n",
    "{\n",
    "\n",
    "    //|||||||||||||||||||||||||||||||||||||||||||||||||||||||||||||||||||||||||||||||||||\n",
    "    // An internal class that describes a node’s structure and is visible \n",
    "    // only within the primary Binary Search Tree class. \n",
    "    // Implements the IComparable interface in order to support comparisons \n",
    "    // between node values and can uphold the rules for a BST.\n",
    "    //|||||||||||||||||||||||||||||||||||||||||||||||||||||||||||||||||||||||||||||||||||\n",
    "    internal class BinarySearchTreeNode<T> : \n",
    "                   IComparable< BinarySearchTreeNode<T> > where T : IComparable<T>\n",
    "    {\n",
    "        \n",
    "        // FIELD DEFINITIONS ------------------------------------------------------------\n",
    "        internal T value;                             \n",
    "        internal BinarySearchTreeNode<T> parent,      \n",
    "                                        leftChild,   \n",
    "                                        rightChild;  \n",
    "        //-------------------------------------------------------------------------------\n",
    "\n",
    "\n",
    "\n",
    "        // CONSTRUCTOR ------------------------------------------------------------------\n",
    "        public BinarySearchTreeNode( T value )\n",
    "        {\n",
    "\n",
    "            // Perform a check to ensure the validity of a given node.\n",
    "            // If the node is invalid, throw an exception\n",
    "            if( value == null )\n",
    "                throw new ArgumentNullException( \"Cannot insert a null value.\" );\n",
    "            \n",
    "\n",
    "            this.value       =  value;\n",
    "            this.parent      =  null;\n",
    "            this.leftChild   =  null;\n",
    "            this.rightChild  =  null;\n",
    "\n",
    "        }\n",
    "        //-------------------------------------------------------------------------------\n",
    "\n",
    "\n",
    "\n",
    "        // METHODS ----------------------------------------------------------------------\n",
    "        //--------------------------- C O M P A R I S O N -------------------------------\n",
    "        // Compares node values in support of the associated IComparable interface\n",
    "        public int CompareTo( BinarySearchTreeNode<T> otherNode )\n",
    "        {\n",
    "            return this.value.CompareTo( otherNode.value );\n",
    "        }\n",
    "        //-------------------------------------------------------------------------------\n",
    "        //--------------------------- O V E R R I D E S ---------------------------------\n",
    "        // Overrides the ToString method in order to print a specified node's value  \n",
    "        public override string ToString()\n",
    "        {\n",
    "            return this.value.ToString();\n",
    "        }\n",
    "        /////////////////////////////////////////////////////////////////////////////////\n",
    "        // Overrides the Equals method to ensure that when two node values are the \n",
    "        // same, they are both evalutated as being comparably equivalent \n",
    "        public override int GetHashCode()\n",
    "        {\n",
    "            return this.value.GetHashCode();\n",
    "        }\n",
    "        /////////////////////////////////////////////////////////////////////////////////\n",
    "        // Overrides the GetHashCode method to ensure that when two node values are the \n",
    "        // same, their Hash Code's are similarly equivalent.\n",
    "        public override bool Equals( object node )\n",
    "        {\n",
    "\n",
    "            // Initialize another Binary Search Tree Node\n",
    "            // which assumes the value of the specified node object,\n",
    "            // taking care to appropriately cast the object to a BST node\n",
    "            BinarySearchTreeNode<T> otherNode = (BinarySearchTreeNode<T>) node;\n",
    "\n",
    "\n",
    "            // return the result evaluating if the BST's CompareTo method \n",
    "            // evaluates to both nodes as having an equal value\n",
    "            return this.CompareTo( otherNode ) == 0;\n",
    "\n",
    "        }\n",
    "        //-------------------------------------------------------------------------------\n",
    "        //|||||||||||||||||||||||||||||||||||||||||||||||||||||||||||||||||||||||||||||||\n",
    "\n",
    "    }\n",
    "\n",
    "\n",
    "\n",
    "    // FIELD DEFINITIONS ----------------------------------------------------------------\n",
    "    private BinarySearchTreeNode<T> root; \n",
    "    //-----------------------------------------------------------------------------------\n",
    "\n",
    "\n",
    "\n",
    "    // CONSTRUCTOR ----------------------------------------------------------------------\n",
    "    public BinarySearchTree()\n",
    "    {\n",
    "        this.root = null;\n",
    "    }\n",
    "    //-----------------------------------------------------------------------------------\n",
    "\n",
    "\n",
    "\n",
    "    // METHODS --------------------------------------------------------------------------\n",
    "    //------------------------------- I N S E R T I O N ---------------------------------\n",
    "    // Inserts a new Binary Search Tree Node containing the specified value into the BST\n",
    "    private BinarySearchTreeNode<T> InsertNode( \n",
    "        T valueToInsert, \n",
    "        BinarySearchTreeNode<T> parentNode, \n",
    "        BinarySearchTreeNode<T> currentNode  )\n",
    "    {\n",
    "\n",
    "        // If the node we are currently visiting is null:\n",
    "        if( currentNode == null )\n",
    "        {\n",
    "\n",
    "            // We have reached the position within the BST\n",
    "            // at which we must place the node to insert,\n",
    "            // so clobber the reference to the current node \n",
    "            // with that of a new node containing the value to insert\n",
    "            currentNode = new BinarySearchTreeNode<T>( valueToInsert );\n",
    "\n",
    "\n",
    "            // set the specified parent node as the current node's parent\n",
    "            currentNode.parent = parentNode;\n",
    "\n",
    "        }\n",
    "\n",
    "\n",
    "        // Otherwise,\n",
    "        // the value of the node we are currently visiting \n",
    "        // needs to be comparitively assessed as being either larger or smaller\n",
    "        // than the value to insert\n",
    "        else\n",
    "        {\n",
    "\n",
    "            // Assess the result of a comparison \n",
    "            // between the current node's value and the value to be inserted\n",
    "            int comparisonResult = valueToInsert.CompareTo( currentNode.value );\n",
    "\n",
    "\n",
    "            // If the result of the comparison reveals that\n",
    "            // value to insert is less than the current node's value:\n",
    "            if( comparisonResult < 0 )\n",
    "            {\n",
    "\n",
    "                // Clobber the reference to the currents node's left child\n",
    "                // with the result of a recursive call to InsertNode\n",
    "                // which redesignates the current node as the parent\n",
    "                // and assigns the it's left child as the new current node\n",
    "                currentNode.leftChild = InsertNode( \n",
    "                    valueToInsert, \n",
    "                    currentNode, \n",
    "                    currentNode.leftChild\n",
    "                );\n",
    "\n",
    "            }\n",
    "\n",
    "\n",
    "            // Conversely,\n",
    "            // If the result of the comparison reveals that\n",
    "            // value to insert is greater than the current node's value:\n",
    "            if( comparisonResult > 0 )\n",
    "            {\n",
    "\n",
    "                // Clobber the reference to the currents node's left child\n",
    "                // with the result of a recursive call to InsertNode\n",
    "                // which redesignates the current node as the parent\n",
    "                // and assigns the it's left child as the new current node\n",
    "                currentNode.rightChild = InsertNode( \n",
    "                    valueToInsert, \n",
    "                    currentNode, \n",
    "                    currentNode.rightChild\n",
    "                );\n",
    "\n",
    "            }\n",
    "\n",
    "        }\n",
    "\n",
    "        // After all that,\n",
    "        // we successfully assigned a reference to the current node\n",
    "        // which represents a new node, containing the specified value,\n",
    "        // that has been appropriately inserted within the Binary Search Tree,\n",
    "        // as required\n",
    "        return currentNode;\n",
    "\n",
    "    }\n",
    "    //|||||||||||||||||||||||||||||||||||||||||||||||||||||||||||||||||||||||||||||||||||\n",
    "    // Inserts the specified value appropriately within the BST\n",
    "    public void Insert( T valueToInsert )\n",
    "    {\n",
    "\n",
    "        // Clobber the reference to the root with the result of  a call to InsertNode\n",
    "        // which specifies the given value as the value to insert, a root which is null,\n",
    "        // and the curernt root as the current node at which to initiate the recursion \n",
    "        this.root = InsertNode( valueToInsert, null, root );\n",
    "        \n",
    "    }\n",
    "    //-----------------------------------------------------------------------------------\n",
    "\n",
    "}   "
   ]
  }
 ],
 "metadata": {
  "kernelspec": {
   "display_name": ".NET (C#)",
   "language": "C#",
   "name": ".net-csharp"
  },
  "language_info": {
   "name": "C#"
  },
  "orig_nbformat": 4
 },
 "nbformat": 4,
 "nbformat_minor": 2
}
