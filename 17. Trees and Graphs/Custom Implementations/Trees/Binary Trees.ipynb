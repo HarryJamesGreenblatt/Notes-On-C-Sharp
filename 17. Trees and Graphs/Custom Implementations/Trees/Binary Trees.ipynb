{
 "cells": [
  {
   "cell_type": "markdown",
   "metadata": {},
   "source": [
    "# 17. Trees and Graphs"
   ]
  },
  {
   "attachments": {},
   "cell_type": "markdown",
   "metadata": {},
   "source": [
    "## Custom Implementations\n",
    "### Binary Trees\n",
    "---"
   ]
  },
  {
   "attachments": {},
   "cell_type": "markdown",
   "metadata": {},
   "source": [
    "A **Binary Tree** has nodes which all have a **degree equal or less than 2**. Because every node’s children are at most **2**, we call them **left child** and **right child**.They are the roots of the **left sub-tree** and the **right sub-tree** of their parent node.\n",
    "   \n",
    "Some nodes may have only left or only right child, but not both. Some nodes may have *no children* and are called **leaves**."
   ]
  },
  {
   "attachments": {},
   "cell_type": "markdown",
   "metadata": {},
   "source": [
    "<br>"
   ]
  },
  {
   "attachments": {},
   "cell_type": "markdown",
   "metadata": {},
   "source": [
    "### Binary Trees v.s. General Trees"
   ]
  },
  {
   "attachments": {},
   "cell_type": "markdown",
   "metadata": {},
   "source": [
    "There is one very big difference between the definition of binary tree from the definition of the classical tree – the order of the children of each node. The next example will illustrate that difference:"
   ]
  }
 ],
 "metadata": {
  "kernelspec": {
   "display_name": ".NET (C#)",
   "language": "C#",
   "name": ".net-csharp"
  },
  "language_info": {
   "name": "C#"
  },
  "orig_nbformat": 4
 },
 "nbformat": 4,
 "nbformat_minor": 2
}
