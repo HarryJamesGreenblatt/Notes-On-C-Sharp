{
 "cells": [
  {
   "cell_type": "markdown",
   "metadata": {},
   "source": [
    "# 17. Trees and Graphs"
   ]
  },
  {
   "attachments": {},
   "cell_type": "markdown",
   "metadata": {},
   "source": [
    "## Custom Implementations\n",
    "### Binary Trees\n",
    "---"
   ]
  },
  {
   "attachments": {},
   "cell_type": "markdown",
   "metadata": {},
   "source": [
    "### Overview"
   ]
  },
  {
   "attachments": {},
   "cell_type": "markdown",
   "metadata": {},
   "source": [
    "A **Binary Tree** has nodes which all have a **degree less than or equal to 2**. Because every node’s children are at most **2**, we call them **left child** and **right child**.They are the roots of the **left sub-tree** and the **right sub-tree** of their parent node.\n",
    "   \n",
    "Some nodes may have only a left or only a right child, but not both. Some nodes may have *no children* and are called **leaves**."
   ]
  },
  {
   "attachments": {},
   "cell_type": "markdown",
   "metadata": {},
   "source": [
    "Below, we have an example of a **Binary Tree** in which we can see: \n",
    "- A **root** node of `17`\n",
    "- A **left sub-tree**, consisting of nodes `9`, `6`, and `5` \n",
    "- A **right child**, `15`, which has:\n",
    "  - A subsequent **left-child** of `8` \n",
    "  - A subsequent **right child** of `10`"
   ]
  },
  {
   "attachments": {},
   "cell_type": "markdown",
   "metadata": {},
   "source": [
    "<img src=\"../../_img/BinaryTreeExample.jpg\" style=\"display: block; margin: auto; width: 700px;\"></img>"
   ]
  },
  {
   "attachments": {},
   "cell_type": "markdown",
   "metadata": {},
   "source": [
    "<br>"
   ]
  },
  {
   "attachments": {},
   "cell_type": "markdown",
   "metadata": {},
   "source": [
    "#### Binary Trees v.s. General Trees"
   ]
  },
  {
   "attachments": {},
   "cell_type": "markdown",
   "metadata": {},
   "source": [
    "There is one very big difference between the definition of Binary Tree from the definition of the <a href=\"./General Trees.ipynb\">General Tree</a> - *the order of the children for each node*."
   ]
  },
  {
   "attachments": {},
   "cell_type": "markdown",
   "metadata": {},
   "source": [
    "Below, we see an image of **2 distinct Binary Trees**: \n",
    "\n",
    "- the tree on the left has a **root**, `19`, and a single **left child**, `23`.\n",
    "- the tree on the right has a **root**, `19`, and a single **right child**, `23`."
   ]
  },
  {
   "attachments": {},
   "cell_type": "markdown",
   "metadata": {},
   "source": [
    "<img src=\"../../_img/TwoOneChildBinaryTrees.jpg\" style=\"display: block; margin: auto; width: 400px;\"></img>"
   ]
  },
  {
   "attachments": {},
   "cell_type": "markdown",
   "metadata": {},
   "source": [
    "$Conversely$,"
   ]
  },
  {
   "attachments": {},
   "cell_type": "markdown",
   "metadata": {},
   "source": [
    "A General Tree implementation of the same nodes *would not result in 2 distinctive trees*, but rather would be illustrated as follows:"
   ]
  },
  {
   "attachments": {},
   "cell_type": "markdown",
   "metadata": {},
   "source": [
    "<img src=\"../../_img/OneSingleChildGenericTree.jpg\" style=\"display: block; margin: auto; width: 400px;\"></img>"
   ]
  },
  {
   "attachments": {},
   "cell_type": "markdown",
   "metadata": {},
   "source": [
    "$Consequently$,"
   ]
  },
  {
   "attachments": {},
   "cell_type": "markdown",
   "metadata": {},
   "source": [
    "Although we take **Binary Trees** as a special case of a General Tree structure, it's important to remember that the particular order of their children nodes results in them being very different structures."
   ]
  },
  {
   "attachments": {},
   "cell_type": "markdown",
   "metadata": {},
   "source": [
    "<br>"
   ]
  },
  {
   "attachments": {},
   "cell_type": "markdown",
   "metadata": {},
   "source": [
    "#### Binary Tree Traversals"
   ]
  },
  {
   "attachments": {},
   "cell_type": "markdown",
   "metadata": {},
   "source": [
    "In <a href=\"../../DFS and BFS Traversal.ipynb\">DFS and BFS Traversal</a>, we determined that **Depth First Search** recursively utilizes the call-stack to traverse each node of a structure in such a way that each search step is *deepened* as much as possible before going to the next child node.  "
   ]
  },
  {
   "attachments": {},
   "cell_type": "markdown",
   "metadata": {},
   "source": [
    "$Consequently,$"
   ]
  },
  {
   "attachments": {},
   "cell_type": "markdown",
   "metadata": {},
   "source": [
    "To traverse **Binary Trees** with **DFS**, we may perform the following operations at each node:   \n",
    "\n",
    "1. If the current node is *empty* then *return*.\n",
    "2. Execute the following *three operations* in a certain order:\n",
    "   - $N$: Visit the *current node*.   \n",
    "   - $L$: Recursively traverse the current node's *left subtree*.   \n",
    "   - $R$: Recursively traverse the current node's *right subtree*."
   ]
  },
  {
   "attachments": {},
   "cell_type": "markdown",
   "metadata": {},
   "source": [
    "$Additionally,$"
   ]
  },
  {
   "attachments": {},
   "cell_type": "markdown",
   "metadata": {},
   "source": [
    "The traversal **trace** is a **list of each visited node**. This **trace** is defined by the certain order by which the operations described above are executed, and is also called the **sequentialisation** of the tree. There are **3 sequentialisation patterns**:"
   ]
  },
  {
   "attachments": {},
   "cell_type": "markdown",
   "metadata": {},
   "source": [
    "1. **Pre-Order** -- $NLR$\n",
    "   - Visit the *current node*.\n",
    "   - Recursively traverse the current node's *left subtree*.\n",
    "   - Recursively traverse the current node's *right subtree*.  "
   ]
  },
  {
   "attachments": {},
   "cell_type": "markdown",
   "metadata": {},
   "source": [
    "2. **In-Order** -- $LNR$\n",
    "   - Recursively traverse the current node's *left subtree*.\n",
    "   - Visit the *current node*.\n",
    "   - Recursively traverse the current node's *right subtree*."
   ]
  },
  {
   "attachments": {},
   "cell_type": "markdown",
   "metadata": {},
   "source": [
    "3. **Pre-Order** -- $LRN$\n",
    "   - Recursively traverse the current node's *left subtree*.\n",
    "   - Recursively traverse the current node's *right subtree*.\n",
    "   - Visit the *current node*."
   ]
  },
  {
   "attachments": {},
   "cell_type": "markdown",
   "metadata": {},
   "source": [
    "<br>"
   ]
  },
  {
   "attachments": {},
   "cell_type": "markdown",
   "metadata": {},
   "source": [
    "<br>"
   ]
  },
  {
   "attachments": {},
   "cell_type": "markdown",
   "metadata": {},
   "source": [
    "### The Binary Tree"
   ]
  },
  {
   "attachments": {},
   "cell_type": "markdown",
   "metadata": {},
   "source": [
    "#### Class Definition"
   ]
  },
  {
   "cell_type": "code",
   "execution_count": 1,
   "metadata": {
    "dotnet_interactive": {
     "language": "csharp"
    },
    "polyglot_notebook": {
     "kernelName": "csharp"
    },
    "vscode": {
     "languageId": "polyglot-notebook"
    }
   },
   "outputs": [],
   "source": [
    "public class BinaryTree<T>\n",
    "{\n",
    "\n",
    "    // FIELD DEFINITIONS -------------------------------------------------------------------------\n",
    "    private T value;\n",
    "    private BinaryTree<T> leftChild;\n",
    "    private BinaryTree<T> rightChild;\n",
    "    //--------------------------------------------------------------------------------------------\n",
    "    \n",
    "    \n",
    "\n",
    "    // PROPERTY DEFINITIONS ----------------------------------------------------------------------\n",
    "    public T Value\n",
    "    {\n",
    "        get{ return this.value; }\n",
    "        set{ this.value = value; }\n",
    "    }\n",
    "    //////////////////////////////////////////////////////////////////////////////////////////////\n",
    "    public BinaryTree<T> LeftChild\n",
    "    {\n",
    "        // read-only\n",
    "        get{ return this.leftChild; }\n",
    "    }\n",
    "    //////////////////////////////////////////////////////////////////////////////////////////////\n",
    "    public BinaryTree<T> RightChild\n",
    "    {\n",
    "        // read-only\n",
    "        get{ return this.rightChild; }\n",
    "    }\n",
    "    //--------------------------------------------------------------------------------------------\n",
    "\n",
    "\n",
    "\n",
    "    // CONSTRUCTORS ------------------------------------------------------------------------------\n",
    "    public BinaryTree( T value, BinaryTree<T> leftChild, BinaryTree<T> rightChild )\n",
    "    {\n",
    "        this.value      = value;\n",
    "        this.leftChild  = leftChild;\n",
    "        this.rightChild = rightChild;\n",
    "    }\n",
    "    //////////////////////////////////////////////////////////////////////////////////////////////\n",
    "    //    Leverages constructor chaining to instantiate a Binary Tree with No Children (Leaf)\n",
    "    public BinaryTree( T value ) : this( value, null, null )\n",
    "    {\n",
    "     } \n",
    "    //--------------------------------------------------------------------------------------------\n",
    "\n",
    "\n",
    "\n",
    "    // METHODS -----------------------------------------------------------------------------------\n",
    "    // ----------------------------------  T R A V E R S A L  ------------------------------------\n",
    "    public void PrintPreOrder()\n",
    "    {\n",
    "\n",
    "        // Visit and print the current node, \n",
    "        // taking care to append a buffer space to provide separation for susequent node values\n",
    "        Console.Write( this.Value + \" \" );\n",
    "\n",
    "\n",
    "        // If it can be determined that the current node has a Left Child:\n",
    "        //      visit the current node's Left Child\n",
    "        if( this.LeftChild != null )\n",
    "            this.LeftChild.PrintPreOrder();\n",
    "\n",
    "\n",
    "        // If it can be determined that the current node has a Right Child:\n",
    "        //      visit the current node's Right Child\n",
    "        if( this.RightChild != null )\n",
    "            this.RightChild.PrintPreOrder();\n",
    "    \n",
    "    }\n",
    "    //////////////////////////////////////////////////////////////////////////////////////////////\n",
    "    public void PrintInOrder()\n",
    "    {\n",
    "\n",
    "        // If it can be determined that the current node has a Left Child:\n",
    "        //      visit the current node's Left Child\n",
    "        if( this.LeftChild != null )\n",
    "            this.LeftChild.PrintInOrder();\n",
    "\n",
    "\n",
    "        // Visit and print the current node, \n",
    "        // taking care to append a buffer space to provide separation for susequent node values\n",
    "        Console.Write( this.Value + \" \" );\n",
    "\n",
    "\n",
    "        // If it can be determined that the current node has a Right Child:\n",
    "        //      visit the current node's Right Child\n",
    "        if( this.RightChild != null )\n",
    "            this.RightChild.PrintInOrder();\n",
    "\n",
    "    }\n",
    "    //////////////////////////////////////////////////////////////////////////////////////////////\n",
    "    public void PrintPostOrder()\n",
    "    {\n",
    "\n",
    "        // If it can be determined that the current node has a Left Child:\n",
    "        //      visit the current node's Left Child\n",
    "        if( this.LeftChild != null )\n",
    "            this.LeftChild.PrintPostOrder();\n",
    "\n",
    "\n",
    "        // If it can be determined that the current node has a Right Child:\n",
    "        //      visit the current node's Right Child\n",
    "        if( this.RightChild != null )\n",
    "            this.RightChild.PrintPostOrder();\n",
    "\n",
    "\n",
    "        // Visit and print the current node, \n",
    "        // taking care to append a buffer space to provide separation for susequent node values\n",
    "        Console.Write( this.Value + \" \" );\n",
    "\n",
    "    }\n",
    "    //--------------------------------------------------------------------------------------------\n",
    "    \n",
    "}"
   ]
  },
  {
   "attachments": {},
   "cell_type": "markdown",
   "metadata": {},
   "source": [
    "<br>"
   ]
  },
  {
   "attachments": {},
   "cell_type": "markdown",
   "metadata": {},
   "source": [
    "#### Instantiation and Example Usage"
   ]
  },
  {
   "attachments": {},
   "cell_type": "markdown",
   "metadata": {},
   "source": [
    "Let's use the `BinaryTree<T>` Class to reconstruct the example Binary Tree we perviously defined:"
   ]
  },
  {
   "attachments": {},
   "cell_type": "markdown",
   "metadata": {},
   "source": [
    "<img src=\"../../_img/BinaryTreeExample.jpg\" style=\"display: block; margin: auto; width: 700px;\"></img>"
   ]
  },
  {
   "cell_type": "code",
   "execution_count": 2,
   "metadata": {
    "dotnet_interactive": {
     "language": "csharp"
    },
    "polyglot_notebook": {
     "kernelName": "csharp"
    },
    "vscode": {
     "languageId": "polyglot-notebook"
    }
   },
   "outputs": [],
   "source": [
    "BinaryTree<int> binaryTree = new BinaryTree<int>(\n",
    "                                    /*The Root*/\n",
    "                                        17, \n",
    "    /*The Left Subtree*/\n",
    "    new BinaryTree<int>(\n",
    "        9, \n",
    "        new BinaryTree<int>( 6 ),\n",
    "        new BinaryTree<int>( 5 ) \n",
    "),                                              /*The Right Subtree*/   \n",
    "                                                new BinaryTree<int>(\n",
    "                                                    15,\n",
    "                                                    new BinaryTree<int>( 8 ),\n",
    "                                                    new BinaryTree<int>( 10 )\n",
    "                                                )\n",
    "\n",
    ");   "
   ]
  },
  {
   "attachments": {},
   "cell_type": "markdown",
   "metadata": {},
   "source": [
    "<br>"
   ]
  },
  {
   "attachments": {},
   "cell_type": "markdown",
   "metadata": {},
   "source": [
    "Let's now execute each of the `BinaryTree<T>` Class's traversal methods to derive the  **3 sequentialisation patterns** produced by the resultant Binary Tree:"
   ]
  },
  {
   "cell_type": "code",
   "execution_count": 3,
   "metadata": {
    "dotnet_interactive": {
     "language": "csharp"
    },
    "polyglot_notebook": {
     "kernelName": "csharp"
    },
    "vscode": {
     "languageId": "polyglot-notebook"
    }
   },
   "outputs": [
    {
     "name": "stdout",
     "output_type": "stream",
     "text": [
      "17 9 6 5 15 8 10 "
     ]
    }
   ],
   "source": [
    "// Print the Node, then visit the Left Child, then visit the Right Child\n",
    "binaryTree.PrintPreOrder()"
   ]
  },
  {
   "cell_type": "code",
   "execution_count": 4,
   "metadata": {
    "dotnet_interactive": {
     "language": "csharp"
    },
    "polyglot_notebook": {
     "kernelName": "csharp"
    },
    "vscode": {
     "languageId": "polyglot-notebook"
    }
   },
   "outputs": [
    {
     "name": "stdout",
     "output_type": "stream",
     "text": [
      "6 9 5 17 8 15 10 "
     ]
    }
   ],
   "source": [
    "// Visit the Left Child, then Print the Node, then visit the Right Child\n",
    "binaryTree.PrintInOrder()"
   ]
  },
  {
   "cell_type": "code",
   "execution_count": 5,
   "metadata": {
    "dotnet_interactive": {
     "language": "csharp"
    },
    "polyglot_notebook": {
     "kernelName": "csharp"
    },
    "vscode": {
     "languageId": "polyglot-notebook"
    }
   },
   "outputs": [
    {
     "name": "stdout",
     "output_type": "stream",
     "text": [
      "6 5 9 8 10 15 17 "
     ]
    }
   ],
   "source": [
    "// Visit the Left Child, then visit the Right Child, then Print the Node\n",
    "binaryTree.PrintPostOrder()"
   ]
  }
 ],
 "metadata": {
  "kernelspec": {
   "display_name": ".NET (C#)",
   "language": "C#",
   "name": ".net-csharp"
  },
  "language_info": {
   "name": "C#"
  },
  "orig_nbformat": 4,
  "polyglot_notebook": {
   "kernelInfo": {
    "defaultKernelName": "csharp",
    "items": [
     {
      "aliases": [],
      "name": "csharp"
     }
    ]
   }
  }
 },
 "nbformat": 4,
 "nbformat_minor": 2
}
