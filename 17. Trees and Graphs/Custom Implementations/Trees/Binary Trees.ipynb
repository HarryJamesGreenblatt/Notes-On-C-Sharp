{
 "cells": [
  {
   "cell_type": "markdown",
   "metadata": {},
   "source": [
    "# 17. Trees and Graphs"
   ]
  },
  {
   "attachments": {},
   "cell_type": "markdown",
   "metadata": {},
   "source": [
    "## Custom Implementations\n",
    "### Binary Trees\n",
    "---"
   ]
  },
  {
   "attachments": {},
   "cell_type": "markdown",
   "metadata": {},
   "source": [
    "A **Binary Tree** has nodes which all have a **degree equal or less than 2**. Because every node’s children are at most **2**, we call them **left child** and **right child**.They are the roots of the **left sub-tree** and the **right sub-tree** of their parent node.\n",
    "   \n",
    "Some nodes may have only left or only right child, but not both. Some nodes may have *no children* and are called **leaves**."
   ]
  },
  {
   "attachments": {},
   "cell_type": "markdown",
   "metadata": {},
   "source": [
    "<br>"
   ]
  },
  {
   "attachments": {},
   "cell_type": "markdown",
   "metadata": {},
   "source": [
    "### Binary Trees v.s. General Trees"
   ]
  },
  {
   "attachments": {},
   "cell_type": "markdown",
   "metadata": {},
   "source": [
    "There is one very big difference between the definition of Binary Tree from the definition of the <a href=\"./General Trees.ipynb\">General Tree</a> - *the order of the children for each node*."
   ]
  },
  {
   "attachments": {},
   "cell_type": "markdown",
   "metadata": {},
   "source": [
    "Below, we see an image of **2 distinct Binary Trees**: \n",
    "\n",
    "- the tree on the left has a **root**, `19`, and a single **left child**, `23`.\n",
    "- the tree on the right has a **root**, `19`, and a single **right child**, `23`."
   ]
  },
  {
   "attachments": {},
   "cell_type": "markdown",
   "metadata": {},
   "source": [
    "<img src=\"../../_img/TwoOneChildBinaryTrees.jpg\" style=\"display: block; margin: auto; width: 400px;\"></img>"
   ]
  },
  {
   "attachments": {},
   "cell_type": "markdown",
   "metadata": {},
   "source": [
    "$Conversely$,"
   ]
  },
  {
   "attachments": {},
   "cell_type": "markdown",
   "metadata": {},
   "source": [
    "A General Tree implementation of the same nodes *would not result in 2 distinctive trees*, but rather would be illustrated as follows:"
   ]
  },
  {
   "attachments": {},
   "cell_type": "markdown",
   "metadata": {},
   "source": [
    "<img src=\"../../_img/OneSingleChildGenericTree.jpg\" style=\"display: block; margin: auto; width: 400px;\"></img>"
   ]
  },
  {
   "attachments": {},
   "cell_type": "markdown",
   "metadata": {},
   "source": [
    "$Consequently$,"
   ]
  },
  {
   "attachments": {},
   "cell_type": "markdown",
   "metadata": {},
   "source": [
    "Although we take **Binary Trees** as a special case of a General Tree structure, it's important to remember that the particular order of their children nodes results in them being very different structures."
   ]
  }
 ],
 "metadata": {
  "kernelspec": {
   "display_name": ".NET (C#)",
   "language": "C#",
   "name": ".net-csharp"
  },
  "language_info": {
   "name": "C#"
  },
  "orig_nbformat": 4
 },
 "nbformat": 4,
 "nbformat_minor": 2
}
