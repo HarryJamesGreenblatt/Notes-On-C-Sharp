{
 "cells": [
  {
   "cell_type": "markdown",
   "metadata": {},
   "source": [
    "# 17. Trees and Graphs"
   ]
  },
  {
   "attachments": {},
   "cell_type": "markdown",
   "metadata": {},
   "source": [
    "## Custom Implementations\n",
    "### Binary Trees\n",
    "---"
   ]
  },
  {
   "attachments": {},
   "cell_type": "markdown",
   "metadata": {},
   "source": [
    "### Overview"
   ]
  },
  {
   "attachments": {},
   "cell_type": "markdown",
   "metadata": {},
   "source": [
    "A **Binary Tree** has nodes which all have a **degree equal or less than 2**. Because every node’s children are at most **2**, we call them **left child** and **right child**.They are the roots of the **left sub-tree** and the **right sub-tree** of their parent node.\n",
    "   \n",
    "Some nodes may have only left or only right child, but not both. Some nodes may have *no children* and are called **leaves**."
   ]
  },
  {
   "attachments": {},
   "cell_type": "markdown",
   "metadata": {},
   "source": [
    "Below, we have an example of a **Binary Tree** in which we can see: \n",
    "- A **root** node of `17`\n",
    "- A **left sub-tree**, consisting of nodes `9`, `6`, and `5` \n",
    "- A **right child**, `15`, which has:\n",
    "  - A subsequent **left-child** of `8` \n",
    "  - A subsequent **right child** of `10`"
   ]
  },
  {
   "attachments": {},
   "cell_type": "markdown",
   "metadata": {},
   "source": [
    "<img src=\"../../_img/BinaryTreeExample.jpg\" style=\"display: block; margin: auto; width: 700px;\"></img>"
   ]
  },
  {
   "attachments": {},
   "cell_type": "markdown",
   "metadata": {},
   "source": [
    "<br>"
   ]
  },
  {
   "attachments": {},
   "cell_type": "markdown",
   "metadata": {},
   "source": [
    "#### Binary Trees v.s. General Trees"
   ]
  },
  {
   "attachments": {},
   "cell_type": "markdown",
   "metadata": {},
   "source": [
    "There is one very big difference between the definition of Binary Tree from the definition of the <a href=\"./General Trees.ipynb\">General Tree</a> - *the order of the children for each node*."
   ]
  },
  {
   "attachments": {},
   "cell_type": "markdown",
   "metadata": {},
   "source": [
    "Below, we see an image of **2 distinct Binary Trees**: \n",
    "\n",
    "- the tree on the left has a **root**, `19`, and a single **left child**, `23`.\n",
    "- the tree on the right has a **root**, `19`, and a single **right child**, `23`."
   ]
  },
  {
   "attachments": {},
   "cell_type": "markdown",
   "metadata": {},
   "source": [
    "<img src=\"../../_img/TwoOneChildBinaryTrees.jpg\" style=\"display: block; margin: auto; width: 400px;\"></img>"
   ]
  },
  {
   "attachments": {},
   "cell_type": "markdown",
   "metadata": {},
   "source": [
    "$Conversely$,"
   ]
  },
  {
   "attachments": {},
   "cell_type": "markdown",
   "metadata": {},
   "source": [
    "A General Tree implementation of the same nodes *would not result in 2 distinctive trees*, but rather would be illustrated as follows:"
   ]
  },
  {
   "attachments": {},
   "cell_type": "markdown",
   "metadata": {},
   "source": [
    "<img src=\"../../_img/OneSingleChildGenericTree.jpg\" style=\"display: block; margin: auto; width: 400px;\"></img>"
   ]
  },
  {
   "attachments": {},
   "cell_type": "markdown",
   "metadata": {},
   "source": [
    "$Consequently$,"
   ]
  },
  {
   "attachments": {},
   "cell_type": "markdown",
   "metadata": {},
   "source": [
    "Although we take **Binary Trees** as a special case of a General Tree structure, it's important to remember that the particular order of their children nodes results in them being very different structures."
   ]
  },
  {
   "attachments": {},
   "cell_type": "markdown",
   "metadata": {},
   "source": [
    "<br>"
   ]
  },
  {
   "attachments": {},
   "cell_type": "markdown",
   "metadata": {},
   "source": [
    "#### Binary Tree Traversals"
   ]
  },
  {
   "attachments": {},
   "cell_type": "markdown",
   "metadata": {},
   "source": [
    "In <a href=\"../../DFS and BFS Traversal.ipynb\">DFS and BFS Traversal</a>, we determined that **Depth First Search** recursively utilizes the call-stack to traverse each node of a structure in such a way that each search step is *deepened* as much as possible before going to the next child node.  "
   ]
  },
  {
   "attachments": {},
   "cell_type": "markdown",
   "metadata": {},
   "source": [
    "$Consequently,$"
   ]
  },
  {
   "attachments": {},
   "cell_type": "markdown",
   "metadata": {},
   "source": [
    "To traverse **Binary Trees** with **DFS**, we may perform the following operations at each node:   \n",
    "\n",
    "1. If the current node is *empty* then *return*.\n",
    "2. Execute the following *three operations* in a certain order:\n",
    "   - $N$: Visit the *current node*.   \n",
    "   - $L$: Recursively traverse the current node's *left subtree*.   \n",
    "   - $R$: Recursively traverse the current node's *right subtree*."
   ]
  }
 ],
 "metadata": {
  "kernelspec": {
   "display_name": ".NET (C#)",
   "language": "C#",
   "name": ".net-csharp"
  },
  "language_info": {
   "name": "C#"
  },
  "orig_nbformat": 4
 },
 "nbformat": 4,
 "nbformat_minor": 2
}
