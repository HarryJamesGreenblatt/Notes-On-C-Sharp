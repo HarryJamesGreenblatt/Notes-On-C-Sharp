{
 "cells": [
  {
   "attachments": {},
   "cell_type": "markdown",
   "metadata": {
    "dotnet_interactive": {
     "language": "csharp"
    },
    "polyglot_notebook": {
     "kernelName": "csharp"
    }
   },
   "source": [
    "# 17. Trees and Graphs"
   ]
  },
  {
   "attachments": {},
   "cell_type": "markdown",
   "metadata": {
    "dotnet_interactive": {
     "language": "csharp"
    },
    "polyglot_notebook": {
     "kernelName": "csharp"
    }
   },
   "source": [
    "## The Anatomies of Trees and Graphs.\n",
    "---"
   ]
  },
  {
   "attachments": {},
   "cell_type": "markdown",
   "metadata": {
    "dotnet_interactive": {
     "language": "csharp"
    },
    "polyglot_notebook": {
     "kernelName": "csharp"
    }
   },
   "source": [
    "Very often we have to describe a group of real life objects, which have such relation to one another that we cannot use linear data structures for their description. \n",
    "   \n",
    "Instead, we find that we must use a **branched structure**.\n",
    "   \n",
    "A **tree-like** or **graph-like** data structure are **branched** data structures consisting of sets of elements, known as **nodes**, which can be **linked to other nodes**, sometimes *hierarchically*, sometimes *not*. \n",
    "**Trees** generally represent hierarchies, while **Graphs** represent more general relations such as the map of city."
   ]
  },
  {
   "attachments": {},
   "cell_type": "markdown",
   "metadata": {
    "dotnet_interactive": {
     "language": "csharp"
    },
    "polyglot_notebook": {
     "kernelName": "csharp"
    }
   },
   "source": [
    "<br>"
   ]
  },
  {
   "attachments": {},
   "cell_type": "markdown",
   "metadata": {
    "dotnet_interactive": {
     "language": "csharp"
    },
    "polyglot_notebook": {
     "kernelName": "csharp"
    }
   },
   "source": [
    "### Trees"
   ]
  },
  {
   "attachments": {},
   "cell_type": "markdown",
   "metadata": {
    "dotnet_interactive": {
     "language": "csharp"
    },
    "polyglot_notebook": {
     "kernelName": "csharp"
    }
   },
   "source": [
    "Let's begin with an example modeled after the **hierarchy of the participants in a project**. Consider the following hierarchal diagram illustrated as follows:"
   ]
  },
  {
   "attachments": {},
   "cell_type": "markdown",
   "metadata": {
    "dotnet_interactive": {
     "language": "csharp"
    },
    "polyglot_notebook": {
     "kernelName": "csharp"
    }
   },
   "source": [
    "<img src=\"_img/ProjectMemberHierarchy.jpg\" style=\"display: block; margin: auto; width: 500px;\"></img>"
   ]
  },
  {
   "attachments": {},
   "cell_type": "markdown",
   "metadata": {
    "dotnet_interactive": {
     "language": "csharp"
    },
    "polyglot_notebook": {
     "kernelName": "csharp"
    }
   },
   "source": [
    "What is the information we can get from this hierarchy?\n",
    "   \n",
    "- The direct boss of the developers is the **Team** **Leader**, but indirectly they are all subordinate to the **Project** **Manager**. \n",
    "- The **Team** **Leader** is subordinate only to the **Project** **Manager**. \n",
    "- On the other hand, **Developer** **1** has no subordinates. \n",
    "- The **Project** **Manager** is the highest in the hierarchy and has no manager.\n",
    "  \n",
    "Structured in this way, we see that even such a little figure gives us a great deal of useful information."
   ]
  },
  {
   "attachments": {},
   "cell_type": "markdown",
   "metadata": {
    "dotnet_interactive": {
     "language": "csharp"
    },
    "polyglot_notebook": {
     "kernelName": "csharp"
    }
   },
   "source": [
    "<br>"
   ]
  },
  {
   "attachments": {},
   "cell_type": "markdown",
   "metadata": {
    "dotnet_interactive": {
     "language": "csharp"
    },
    "polyglot_notebook": {
     "kernelName": "csharp"
    }
   },
   "source": [
    "#### Tree Terminologies"
   ]
  },
  {
   "attachments": {},
   "cell_type": "markdown",
   "metadata": {
    "dotnet_interactive": {
     "language": "csharp"
    },
    "polyglot_notebook": {
     "kernelName": "csharp"
    }
   },
   "source": [
    "Let's reinterperet the heirarchy above for a more general case, in which the **nodes** (**circles**), each containing unique numerical values such that may be easily specified, are themselves connected together by the same **edges** (**lines**) as the previous example."
   ]
  },
  {
   "attachments": {},
   "cell_type": "markdown",
   "metadata": {
    "dotnet_interactive": {
     "language": "csharp"
    },
    "polyglot_notebook": {
     "kernelName": "csharp"
    }
   },
   "source": [
    "<img src=\"_img/TreeTerminology.png\" style=\"display: block; margin: auto; width: 650px;\"></img>"
   ]
  },
  {
   "attachments": {},
   "cell_type": "markdown",
   "metadata": {
    "dotnet_interactive": {
     "language": "csharp"
    },
    "polyglot_notebook": {
     "kernelName": "csharp"
    }
   },
   "source": [
    "We may observe the following relational characteristics of the heirarchy illustrated above:"
   ]
  },
  {
   "attachments": {},
   "cell_type": "markdown",
   "metadata": {
    "dotnet_interactive": {
     "language": "csharp"
    },
    "polyglot_notebook": {
     "kernelName": "csharp"
    }
   },
   "source": [
    "- Nodes `19`, `21`, `14` are below node `7` and are directly connected to it. As such, these modes are **direct descendants (child nodes)** of node `7`, and node `7` is their **parent**.\n",
    "- Similarly, `1`, `12` and `31` are **children** of `19`, and `19` is their **parent**.\n",
    "- Intuitively we can say that `21` is **sibling** of `19`, because they are both **children** of `7` (the reverse is also true – `19` is sibling of `21`).\n",
    "- For `1`, `12`, `31`, `23` and `6`, since node `7` precedes them in the hierarchy, it is their **ancestor** (indirect parent), and they are, thereby, it's **descendants**."
   ]
  },
  {
   "attachments": {},
   "cell_type": "markdown",
   "metadata": {
    "dotnet_interactive": {
     "language": "csharp"
    },
    "polyglot_notebook": {
     "kernelName": "csharp"
    }
   },
   "source": [
    "Below, let's summarize some additional **terminologies** which apply to Tree-based heirarchies such as the one expressed in our example:"
   ]
  },
  {
   "attachments": {},
   "cell_type": "markdown",
   "metadata": {
    "dotnet_interactive": {
     "language": "csharp"
    },
    "polyglot_notebook": {
     "kernelName": "csharp"
    }
   },
   "source": [
    "##### Tree\n",
    "A **Tree** a **recursive** data structure, which **consists of nodes and is connected with edges**. The following statements are true for trees:\n",
    "- Each node can have **0 or more direct descendants** (**children**). \n",
    "- Each node has **at most one parent**. There is only one special node without parent – the **root** (if the tree is not empty).\n",
    "- All nodes are **reachable from the root** – there is a path from the root to each node in the tree."
   ]
  },
  {
   "attachments": {},
   "cell_type": "markdown",
   "metadata": {
    "dotnet_interactive": {
     "language": "csharp"
    },
    "polyglot_notebook": {
     "kernelName": "csharp"
    }
   },
   "source": [
    "##### Root\n",
    "The **Root** is the **node without a parent**. In our example this is node `7`."
   ]
  },
  {
   "attachments": {},
   "cell_type": "markdown",
   "metadata": {
    "dotnet_interactive": {
     "language": "csharp"
    },
    "polyglot_notebook": {
     "kernelName": "csharp"
    }
   },
   "source": [
    "##### Leaf\n",
    "A **Leaf** is a **node without child nodes**. In our example – `1`, `12`, `31`, `21`, `23` and `6`."
   ]
  },
  {
   "attachments": {},
   "cell_type": "markdown",
   "metadata": {
    "dotnet_interactive": {
     "language": "csharp"
    },
    "polyglot_notebook": {
     "kernelName": "csharp"
    }
   },
   "source": [
    "##### Internal Node\n",
    "**Internal nodes** are the nodes, which are **neither a leaf, nor a root** (all nodes, which have parent and at least one child). Such nodes are `19` and `14`."
   ]
  },
  {
   "attachments": {},
   "cell_type": "markdown",
   "metadata": {
    "dotnet_interactive": {
     "language": "csharp"
    },
    "polyglot_notebook": {
     "kernelName": "csharp"
    }
   },
   "source": [
    "##### Path\n",
    "**Path** is called a **sequence of nodes connected with edges**, in which there is **no repetition of nodes**. Example of path is the sequence `1` $\\rightarrow$ `19` $\\rightarrow$ `7` $\\rightarrow$ `21`. \n",
    "- The sequence `1` $\\rightarrow$ `19` $\\rightarrow$ `23` is *not* a path, because `19` and `23` are *not connected*.\n",
    "- **Path length** is the **number of edges connecting the sequence of nodes** in the path. It is equal to the **number of nodes in the path minus 1**. The length of our example for path (`1`, `19`, `7` and `21`) is **3**."
   ]
  },
  {
   "attachments": {},
   "cell_type": "markdown",
   "metadata": {
    "dotnet_interactive": {
     "language": "csharp"
    },
    "polyglot_notebook": {
     "kernelName": "csharp"
    }
   },
   "source": [
    "##### Depth\n",
    "The **Depth** of a node we refers to the **length of the path from the root to certain node**. In our example `7` as root has depth zero, `19` has depth one and `23` – depth two."
   ]
  },
  {
   "attachments": {},
   "cell_type": "markdown",
   "metadata": {
    "dotnet_interactive": {
     "language": "csharp"
    },
    "polyglot_notebook": {
     "kernelName": "csharp"
    }
   },
   "source": [
    "##### Height\n",
    "The **Height** of tree is the **maximum depth** of all its nodes. In our example the tree height is **2**"
   ]
  },
  {
   "attachments": {},
   "cell_type": "markdown",
   "metadata": {
    "dotnet_interactive": {
     "language": "csharp"
    },
    "polyglot_notebook": {
     "kernelName": "csharp"
    }
   },
   "source": [
    "##### Degree\n",
    "The **Degree** of node is the **number of direct children** of the given node. The degree of `19` and `7` is **three**, but the degree of `14` is **two**. The leaves have degree **zero**."
   ]
  },
  {
   "attachments": {},
   "cell_type": "markdown",
   "metadata": {
    "dotnet_interactive": {
     "language": "csharp"
    },
    "polyglot_notebook": {
     "kernelName": "csharp"
    }
   },
   "source": [
    "##### Branching Factor\n",
    "**Branching factor** is the **maximum of the degrees of all nodes** in the tree. In our example the **maximum degree** of the nodes is **3**, so the **branching factor** is **3**."
   ]
  }
 ],
 "metadata": {
  "kernelspec": {
   "display_name": ".NET (C#)",
   "language": "C#",
   "name": ".net-csharp"
  },
  "polyglot_notebook": {
   "kernelInfo": {
    "defaultKernelName": "csharp",
    "items": [
     {
      "aliases": [
       "c#",
       "C#"
      ],
      "languageName": "C#",
      "name": "csharp"
     },
     {
      "aliases": [
       "frontend"
      ],
      "languageName": null,
      "name": "vscode"
     },
     {
      "aliases": [],
      "name": ".NET"
     },
     {
      "aliases": [
       "f#",
       "F#"
      ],
      "languageName": "F#",
      "name": "fsharp"
     },
     {
      "aliases": [],
      "languageName": "HTML",
      "name": "html"
     },
     {
      "aliases": [],
      "languageName": "KQL",
      "name": "kql"
     },
     {
      "aliases": [],
      "languageName": "Mermaid",
      "name": "mermaid"
     },
     {
      "aliases": [
       "powershell"
      ],
      "languageName": "PowerShell",
      "name": "pwsh"
     },
     {
      "aliases": [],
      "languageName": "SQL",
      "name": "sql"
     },
     {
      "aliases": [],
      "name": "value"
     },
     {
      "aliases": [
       "js"
      ],
      "languageName": "JavaScript",
      "name": "javascript"
     },
     {
      "aliases": [],
      "name": "webview"
     }
    ]
   }
  }
 },
 "nbformat": 4,
 "nbformat_minor": 2
}
