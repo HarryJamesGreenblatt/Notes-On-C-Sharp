{
 "cells": [
  {
   "attachments": {},
   "cell_type": "markdown",
   "metadata": {
    "dotnet_interactive": {
     "language": "csharp"
    },
    "polyglot_notebook": {
     "kernelName": "csharp"
    }
   },
   "source": [
    "# 17. Trees and Graphs"
   ]
  },
  {
   "attachments": {},
   "cell_type": "markdown",
   "metadata": {
    "dotnet_interactive": {
     "language": "csharp"
    },
    "polyglot_notebook": {
     "kernelName": "csharp"
    }
   },
   "source": [
    "## The Anatomies of Trees and Graphs.\n",
    "---"
   ]
  },
  {
   "attachments": {},
   "cell_type": "markdown",
   "metadata": {
    "dotnet_interactive": {
     "language": "csharp"
    },
    "polyglot_notebook": {
     "kernelName": "csharp"
    }
   },
   "source": [
    "Very often we have to describe a group of real life objects, which have such relation to one another that we cannot use linear data structures for their description. \n",
    "   \n",
    "Instead, we find that we must use a **branched structure**.\n",
    "   \n",
    "A **tree-like** or **graph-like** data structure are **branched** data structures consisting of sets of elements, known as **nodes**, which can be **linked to other nodes**, sometimes *hierarchically*, sometimes *not*. \n",
    "**Trees** generally represent hierarchies, while **Graphs** represent more general relations such as the map of city."
   ]
  },
  {
   "attachments": {},
   "cell_type": "markdown",
   "metadata": {
    "dotnet_interactive": {
     "language": "csharp"
    },
    "polyglot_notebook": {
     "kernelName": "csharp"
    }
   },
   "source": [
    "<br>"
   ]
  },
  {
   "attachments": {},
   "cell_type": "markdown",
   "metadata": {
    "dotnet_interactive": {
     "language": "csharp"
    },
    "polyglot_notebook": {
     "kernelName": "csharp"
    }
   },
   "source": [
    "### Trees"
   ]
  },
  {
   "attachments": {},
   "cell_type": "markdown",
   "metadata": {
    "dotnet_interactive": {
     "language": "csharp"
    },
    "polyglot_notebook": {
     "kernelName": "csharp"
    }
   },
   "source": [
    "Let's begin with an example modeled after the **hierarchy of the participants in a project**. Consider the following hierarchal diagram illustrated as follows:"
   ]
  },
  {
   "attachments": {},
   "cell_type": "markdown",
   "metadata": {
    "dotnet_interactive": {
     "language": "csharp"
    },
    "polyglot_notebook": {
     "kernelName": "csharp"
    }
   },
   "source": [
    "<img src=\"_img/ProjectMemberHierarchy.jpg\" style=\"display: block; margin: auto; width: 500px;\"></img>"
   ]
  },
  {
   "attachments": {},
   "cell_type": "markdown",
   "metadata": {
    "dotnet_interactive": {
     "language": "csharp"
    },
    "polyglot_notebook": {
     "kernelName": "csharp"
    }
   },
   "source": [
    "What is the information we can get from this hierarchy?\n",
    "   \n",
    "- The direct boss of the **Developers** is the **Team** **Leader**, but indirectly they are all subordinate to the **Project** **Manager**. \n",
    "- The **Team** **Leader** is subordinate only to the **Project** **Manager**. \n",
    "- On the other hand, **Developer** **1** has no subordinates. \n",
    "- The **Project** **Manager** is the highest in the hierarchy and has no manager.\n",
    "  \n",
    "Structured in this way, we see that even such a little figure gives us a great deal of useful information."
   ]
  },
  {
   "attachments": {},
   "cell_type": "markdown",
   "metadata": {
    "dotnet_interactive": {
     "language": "csharp"
    },
    "polyglot_notebook": {
     "kernelName": "csharp"
    }
   },
   "source": [
    "<br>"
   ]
  },
  {
   "attachments": {},
   "cell_type": "markdown",
   "metadata": {
    "dotnet_interactive": {
     "language": "csharp"
    },
    "polyglot_notebook": {
     "kernelName": "csharp"
    }
   },
   "source": [
    "#### Tree Terminologies"
   ]
  },
  {
   "attachments": {},
   "cell_type": "markdown",
   "metadata": {
    "dotnet_interactive": {
     "language": "csharp"
    },
    "polyglot_notebook": {
     "kernelName": "csharp"
    }
   },
   "source": [
    "Let's reinterperet the heirarchy above for a more general case, in which the **nodes** (**circles**), each containing unique numerical values such that may be easily specified, are themselves connected together by the same **edges** (**lines**) as the previous example."
   ]
  },
  {
   "attachments": {},
   "cell_type": "markdown",
   "metadata": {
    "dotnet_interactive": {
     "language": "csharp"
    },
    "polyglot_notebook": {
     "kernelName": "csharp"
    }
   },
   "source": [
    "<img src=\"_img/TreeTerminology.png\" style=\"display: block; margin: auto; width: 650px;\"></img>"
   ]
  },
  {
   "attachments": {},
   "cell_type": "markdown",
   "metadata": {
    "dotnet_interactive": {
     "language": "csharp"
    },
    "polyglot_notebook": {
     "kernelName": "csharp"
    }
   },
   "source": [
    "We may observe the following relational characteristics of the heirarchy illustrated above:"
   ]
  },
  {
   "attachments": {},
   "cell_type": "markdown",
   "metadata": {
    "dotnet_interactive": {
     "language": "csharp"
    },
    "polyglot_notebook": {
     "kernelName": "csharp"
    }
   },
   "source": [
    "- Nodes `19`, `21`, `14` are below node `7` and are directly connected to it. As such, these modes are **direct descendants (child nodes)** of node `7`, and node `7` is their **parent**.\n",
    "- Similarly, `1`, `12` and `31` are **children** of `19`, and `19` is their **parent**.\n",
    "- Intuitively we can say that `21` is **sibling** of `19`, because they are both **children** of `7` (the reverse is also true – `19` is sibling of `21`).\n",
    "- For `1`, `12`, `31`, `23` and `6`, since node `7` precedes them in the hierarchy, it is their **ancestor** (indirect parent), and they are, thereby, it's **descendants**."
   ]
  },
  {
   "attachments": {},
   "cell_type": "markdown",
   "metadata": {
    "dotnet_interactive": {
     "language": "csharp"
    },
    "polyglot_notebook": {
     "kernelName": "csharp"
    }
   },
   "source": [
    "Below, let's summarize some additional **terminologies** which apply to Tree-based heirarchies such as the one expressed in our example:"
   ]
  },
  {
   "attachments": {},
   "cell_type": "markdown",
   "metadata": {
    "dotnet_interactive": {
     "language": "csharp"
    },
    "polyglot_notebook": {
     "kernelName": "csharp"
    }
   },
   "source": [
    "|Terminology|Description|\n",
    "|:---|:---|\n",
    "|Tree|A **Tree** a **recursive** data structure, which **consists of nodes and is connected with edges**. The following statements are true for trees:<br><br>Each node can have **0 or more direct descendants** (**children**).<br><br>Each node has **at most one parent**. There is only one special node without parent – the **root** (if the tree is not empty).<br><br>All nodes are **reachable from the root** – there is a path from the root to each node in the tree.|\n",
    "|Root|The **Root** is the **node without a parent**. In our example this is node `7`.|\n",
    "|Leaf|A **Leaf** is a **node without child nodes**. In our example – `1`, `12`, `31`, `21`, `23` and `6`.|\n",
    "|Internal Node|**Internal nodes** are the nodes, which are **neither a leaf, nor a root** (all nodes, which have parent and at least one child). Such nodes are `19` and `14`.|\n",
    "|Path|**Path** is called a **sequence of nodes connected with edges**, in which there is **no repetition of nodes**.<br><br>Example of path is the sequence `1` $\\rightarrow$ `19` $\\rightarrow$ `7` $\\rightarrow$ `21`.<br><br>The sequence `1` $\\rightarrow$ `19` $\\rightarrow$ `23` is *not* a path, because `19` and `23` are *not connected*.|\n",
    "|Depth|The **Depth** of a node we refers to the **length of the path from the root to certain node**. In our example `7` as root has depth zero, `19` has depth one and `23` – depth two.|\n",
    "|Degree|The **Height** of tree is the **maximum depth** of all its nodes. In our example the tree height is **2**.|\n",
    "|Branching Factor|**Branching factor** is the **maximum of the degrees of all nodes** in the tree. In our example the **maximum degree** of the nodes is **3**, so the **branching factor** is **3**.|"
   ]
  },
  {
   "attachments": {},
   "cell_type": "markdown",
   "metadata": {
    "dotnet_interactive": {
     "language": "csharp"
    },
    "polyglot_notebook": {
     "kernelName": "csharp"
    }
   },
   "source": [
    "<br>"
   ]
  },
  {
   "cell_type": "markdown",
   "metadata": {
    "dotnet_interactive": {
     "language": "csharp"
    },
    "polyglot_notebook": {
     "kernelName": "csharp"
    }
   },
   "source": [
    "<br>"
   ]
  },
  {
   "attachments": {},
   "cell_type": "markdown",
   "metadata": {
    "dotnet_interactive": {
     "language": "csharp"
    },
    "polyglot_notebook": {
     "kernelName": "csharp"
    }
   },
   "source": [
    "### Graphs"
   ]
  },
  {
   "attachments": {},
   "cell_type": "markdown",
   "metadata": {
    "dotnet_interactive": {
     "language": "csharp"
    },
    "polyglot_notebook": {
     "kernelName": "csharp"
    }
   },
   "source": [
    "**Graphs** are very useful and fairly common data structures. They are used to describe a wide variety of **relationships between objects** and, in practice, can be related to almost everything. \n",
    "\n",
    "**Trees are a subset of the graphs**. Additionally, since **Lists** are also special cases of trees, **Lists are therfore graphs**. As such, **graphs** represent a generalized structure that allows modeling of very large set of real-world situations.\n",
    "   \n",
    "Frequent use of **graphs** in practice has led to extensive research in \"graph theory\", in which there is a large number of known problems for **graphs** and for most of them there are well-known solutions."
   ]
  },
  {
   "attachments": {},
   "cell_type": "markdown",
   "metadata": {
    "dotnet_interactive": {
     "language": "csharp"
    },
    "polyglot_notebook": {
     "kernelName": "csharp"
    }
   },
   "source": [
    "<br>"
   ]
  },
  {
   "attachments": {},
   "cell_type": "markdown",
   "metadata": {
    "dotnet_interactive": {
     "language": "csharp"
    },
    "polyglot_notebook": {
     "kernelName": "csharp"
    }
   },
   "source": [
    "#### Directed vs. Undirected Graphs"
   ]
  },
  {
   "attachments": {},
   "cell_type": "markdown",
   "metadata": {
    "dotnet_interactive": {
     "language": "csharp"
    },
    "polyglot_notebook": {
     "kernelName": "csharp"
    }
   },
   "source": [
    "A **Finite directed graph** is called the couple $(V, E)$, in which $V$ is a **finite set of vertices** and $E$ is a **finite set of directed edges**. Each *edge* $e$ that belongs to $E$ is **an ordered couple of vertices** $u$ and $v$, meaning that $e = (u, v)$."
   ]
  },
  {
   "attachments": {},
   "cell_type": "markdown",
   "metadata": {
    "dotnet_interactive": {
     "language": "csharp"
    },
    "polyglot_notebook": {
     "kernelName": "csharp"
    }
   },
   "source": [
    "Let’s consider the following sample graph which is both **finite** and **directed**. "
   ]
  },
  {
   "attachments": {},
   "cell_type": "markdown",
   "metadata": {
    "dotnet_interactive": {
     "language": "csharp"
    },
    "polyglot_notebook": {
     "kernelName": "csharp"
    }
   },
   "source": [
    "<img src=\"_img/DirectedGraphExample.jpg\" style=\"display: block; margin: auto; width: 550px;\"></img>"
   ]
  },
  {
   "attachments": {},
   "cell_type": "markdown",
   "metadata": {
    "dotnet_interactive": {
     "language": "csharp"
    },
    "polyglot_notebook": {
     "kernelName": "csharp"
    }
   },
   "source": [
    "Observe that, similar to our previous Tree hierarchy example, we have numbered the graph in such a way that it is easier to refer to any of it's nodes uniquely."
   ]
  },
  {
   "attachments": {},
   "cell_type": "markdown",
   "metadata": {
    "dotnet_interactive": {
     "language": "csharp"
    },
    "polyglot_notebook": {
     "kernelName": "csharp"
    }
   },
   "source": [
    "We may also observe the following relational characteristics of the **finite directed graph** illustrated above:"
   ]
  },
  {
   "attachments": {},
   "cell_type": "markdown",
   "metadata": {
    "dotnet_interactive": {
     "language": "csharp"
    },
    "polyglot_notebook": {
     "kernelName": "csharp"
    }
   },
   "source": [
    "- The circles of this scheme are known as **vertices** (**nodes**) and the arrows connecting them are known as **directed edges**.\n",
    "- The vertex representing the **source of where the arrow comes out** is called the **predecessor** of the vertex to which the arrow points. In our example, `19` is a **predecessor** of `1`. \n",
    "  - Conversely, `1` is a **successor** of `19`. \n",
    "- Unlike the tree structure, **each vertex can have more than one predecessor**. In our example, `21` has three predecessors – `19`, `1` and `7`, respectively. \n",
    "- If **two vertices are connected with an edge**, then we say these two vertices are **adjacent** through this edge."
   ]
  },
  {
   "attachments": {},
   "cell_type": "markdown",
   "metadata": {
    "dotnet_interactive": {
     "language": "csharp"
    },
    "polyglot_notebook": {
     "kernelName": "csharp"
    }
   },
   "source": [
    "Further, observe that a **weight function** can be assigned that **associates each edge to a real number**. These numbers are called **weights** **(costs)**. \n",
    "   \n",
    "For examples of the weights we can specify are: \n",
    "- some *distance* between neighboring cities\n",
    "- the *length of the directed connections* between two neighboring waystations \n",
    "- the *crossing function* of a pipe\n",
    "\n",
    "A graph that has weights on the edges is called **weighted**.     \n",
    "Below, we reinterperet our example of a finite directed graph as a **weighted graph**:"
   ]
  },
  {
   "attachments": {},
   "cell_type": "markdown",
   "metadata": {
    "dotnet_interactive": {
     "language": "csharp"
    },
    "polyglot_notebook": {
     "kernelName": "csharp"
    }
   },
   "source": [
    "<img src=\"_img/WeightedDirectedGraph.jpg\" style=\"display: block; margin: auto; width: 550px;\"></img>"
   ]
  },
  {
   "attachments": {},
   "cell_type": "markdown",
   "metadata": {
    "dotnet_interactive": {
     "language": "csharp"
    },
    "polyglot_notebook": {
     "kernelName": "csharp"
    }
   },
   "source": [
    "<br>"
   ]
  },
  {
   "attachments": {},
   "cell_type": "markdown",
   "metadata": {
    "dotnet_interactive": {
     "language": "csharp"
    },
    "polyglot_notebook": {
     "kernelName": "csharp"
    }
   },
   "source": [
    "If, instead of arrows, the vertices are connected with **segments**, then the **segments** will be called **undirected edges**, and the graph thereby be reffered to as **undirected**. \n",
    "    \n",
    "Practically, we can imagine that an **undirected edge** from **vertex A** to **vertex B** is a **two-way edge** and equivalent to *two opposite directed edges* between the same two vertices:"
   ]
  },
  {
   "attachments": {},
   "cell_type": "markdown",
   "metadata": {
    "dotnet_interactive": {
     "language": "csharp"
    },
    "polyglot_notebook": {
     "kernelName": "csharp"
    }
   },
   "source": [
    "<img src=\"_img/UndirectedEdge.jpg\" style=\"display: block; margin: auto; width: 350px;\"></img>"
   ]
  },
  {
   "attachments": {},
   "cell_type": "markdown",
   "metadata": {
    "dotnet_interactive": {
     "language": "csharp"
    },
    "polyglot_notebook": {
     "kernelName": "csharp"
    }
   },
   "source": [
    "A **connected** undirected graph is an undirected graph in which there is a path from each node to each other. For example, the following graph is *not* **connected** because there is no path from `1` to `7`."
   ]
  },
  {
   "attachments": {},
   "cell_type": "markdown",
   "metadata": {
    "dotnet_interactive": {
     "language": "csharp"
    },
    "polyglot_notebook": {
     "kernelName": "csharp"
    }
   },
   "source": [
    "<img src=\"_img/UndirectedGraph.jpg\" style=\"display: block; margin: auto; width: 350px;\"></img>"
   ]
  },
  {
   "attachments": {},
   "cell_type": "markdown",
   "metadata": {
    "dotnet_interactive": {
     "language": "csharp"
    },
    "polyglot_notebook": {
     "kernelName": "csharp"
    }
   },
   "source": [
    "<br>"
   ]
  },
  {
   "attachments": {},
   "cell_type": "markdown",
   "metadata": {
    "dotnet_interactive": {
     "language": "csharp"
    },
    "polyglot_notebook": {
     "kernelName": "csharp"
    }
   },
   "source": [
    "#### Graph Terminologies"
   ]
  },
  {
   "attachments": {},
   "cell_type": "markdown",
   "metadata": {
    "dotnet_interactive": {
     "language": "csharp"
    },
    "polyglot_notebook": {
     "kernelName": "csharp"
    }
   },
   "source": [
    "|Terminology|Description|\n",
    "|:---|:---|\n",
    "|Path|**Path in a graph** is a sequence of vertices $v1$, $v2$, $\\dots$, $v_n$,, such as there is an edge from $v_i$ to $v_{i+1}$ for every $i$ from $1$ to $n-1$.<br><br> In our example, **path** is the sequence `1`, `12`, `19`, `21`.<br><br>`7`, `21`, and `1` is *not* a **path** because there is no edge starting from `21` and ending in `1`.|\n",
    "|Path Length|**Length of path** is the number of edges connecting vertices in the sequence of the vertices in the path. This number is equal to the **number of vertices in the path minus one**.<br><br>The **length** of our example for path `1`, `12`, `19`, `21` is **three**.|\n",
    "|Cost|The **Cost of path**, in a **weighted graph**, is the **sum of the weights (costs) of the edges involved in the path**. In real life the road from Sofia to Madrid, for example, is equal to the length of the road from Sofia to Paris plus the length of the road from Madrid to Paris.<br><br>In our example, the length of the path `1`, `12`, `19` and `21` is equal to $3 + 16 + 2 = 21$.|\n",
    "|Loop|A **Loop** is a path in which the **initial and the final vertex of the path are the same**.<br><br> An Example of vertices forming a **loop** are `1`, `12` and `19`.<br>Conversely, `1`, `7` and `21` *do not* form a **loop**.|\n",
    "|Looping Edge|A **looping edge** is an **edge which starts and ends in the same vertex**.<br><br> In our example, the vertex `14` is looped.|\n",
    "|Tree|When expressed as a graph, a **tree** is an **undirected, connected graph without loops.**|"
   ]
  }
 ],
 "metadata": {
  "kernelspec": {
   "display_name": ".NET (C#)",
   "language": "C#",
   "name": ".net-csharp"
  },
  "polyglot_notebook": {
   "kernelInfo": {
    "defaultKernelName": "csharp",
    "items": [
     {
      "aliases": [
       "c#",
       "C#"
      ],
      "languageName": "C#",
      "name": "csharp"
     },
     {
      "aliases": [
       "frontend"
      ],
      "languageName": null,
      "name": "vscode"
     },
     {
      "aliases": [],
      "languageName": null,
      "name": ".NET"
     },
     {
      "aliases": [
       "f#",
       "F#"
      ],
      "languageName": "F#",
      "name": "fsharp"
     },
     {
      "aliases": [],
      "languageName": "HTML",
      "name": "html"
     },
     {
      "aliases": [],
      "languageName": "KQL",
      "name": "kql"
     },
     {
      "aliases": [],
      "languageName": "Mermaid",
      "name": "mermaid"
     },
     {
      "aliases": [
       "powershell"
      ],
      "languageName": "PowerShell",
      "name": "pwsh"
     },
     {
      "aliases": [],
      "languageName": "SQL",
      "name": "sql"
     },
     {
      "aliases": [],
      "languageName": null,
      "name": "value"
     },
     {
      "aliases": [
       "js"
      ],
      "languageName": "JavaScript",
      "name": "javascript"
     },
     {
      "aliases": [],
      "name": "webview"
     }
    ]
   }
  }
 },
 "nbformat": 4,
 "nbformat_minor": 2
}
