{
 "cells": [
  {
   "attachments": {},
   "cell_type": "markdown",
   "metadata": {},
   "source": [
    "# 17. Trees and Graphs"
   ]
  },
  {
   "attachments": {},
   "cell_type": "markdown",
   "metadata": {},
   "source": [
    "## DFS and BFS Traversal\n",
    "---"
   ]
  },
  {
   "attachments": {},
   "cell_type": "markdown",
   "metadata": {},
   "source": [
    "### Depth First Search"
   ]
  },
  {
   "attachments": {},
   "cell_type": "markdown",
   "metadata": {},
   "source": [
    "We preveiously defined a [Dynamic Tree Class](./Custom%20Implementations/Dynamic%20Trees.ipynb) which implemented a **Depth-First-Search (DFS)** algorhythm. We'll now discuss how this works in greater detail."
   ]
  },
  {
   "attachments": {},
   "cell_type": "markdown",
   "metadata": {},
   "source": [
    "The **DFS** algorithm starts from a given node and goes as deep in the hierarchy as it can. When it reaches a node which has no children to visit, it returns to the previous node. We can describe the Depth-First Search algorithm by the following simple steps:\n",
    "1. Traverse the current node (e.g. print it on the console or process it in some way).\n",
    "2. Recursively traverse each of the current nodes’ child nodes. This can be done by a recursive call to the same method for each child node."
   ]
  },
  {
   "attachments": {},
   "cell_type": "markdown",
   "metadata": {},
   "source": [
    "<br>"
   ]
  },
  {
   "attachments": {},
   "cell_type": "markdown",
   "metadata": {},
   "source": [
    "#### Example: Traversing Storage Directories Using DFS"
   ]
  },
  {
   "attachments": {},
   "cell_type": "markdown",
   "metadata": {},
   "source": [
    "The directories on your hard drive are actually a hierarchical structure, which is a tree. We have folders (tree nodes) which may have child folders and files (which both are also tree nodes)."
   ]
  },
  {
   "attachments": {},
   "cell_type": "markdown",
   "metadata": {},
   "source": [
    "For instance, consider the parent folder for this section:"
   ]
  },
  {
   "attachments": {},
   "cell_type": "markdown",
   "metadata": {},
   "source": [
    "<img src=\"_img/DirectoryStructure.jpg\" style=\"display: block; margin: auto; width: 300px;\"></img>"
   ]
  },
  {
   "attachments": {},
   "cell_type": "markdown",
   "metadata": {},
   "source": [
    "In $.NET$, The directory tree of the file system is accessible through the [System.IO.DirectoryInfo](https://learn.microsoft.com/en-us/dotnet/api/system.io.directoryinfo?view=net-8.0) class, so we can therefore traverse a file system tree by using a standard tree traversal algorithm, such as **Depth-First Search (DFS)**."
   ]
  },
  {
   "attachments": {},
   "cell_type": "markdown",
   "metadata": {},
   "source": [
    "<br>"
   ]
  },
  {
   "attachments": {},
   "cell_type": "markdown",
   "metadata": {},
   "source": [
    "Using the `System.IO` namespace gives us access to the `DirectoryInfo` class\n"
   ]
  },
  {
   "cell_type": "code",
   "execution_count": 1,
   "metadata": {
    "dotnet_interactive": {
     "language": "csharp"
    },
    "polyglot_notebook": {
     "kernelName": "csharp"
    },
    "vscode": {
     "languageId": "polyglot-notebook"
    }
   },
   "outputs": [],
   "source": [
    "using System.IO;"
   ]
  },
  {
   "attachments": {},
   "cell_type": "markdown",
   "metadata": {},
   "source": [
    "<br>"
   ]
  },
  {
   "attachments": {},
   "cell_type": "markdown",
   "metadata": {},
   "source": [
    "Below, we define a custom `TraverseDirectoryUsingDFS` method which recursively traverses a file directory by implementing a **Depth First Search** traversal of a specified `DirectoryInfo` object:"
   ]
  },
  {
   "cell_type": "code",
   "execution_count": 2,
   "metadata": {
    "dotnet_interactive": {
     "language": "csharp"
    },
    "polyglot_notebook": {
     "kernelName": "csharp"
    },
    "vscode": {
     "languageId": "polyglot-notebook"
    }
   },
   "outputs": [],
   "source": [
    "public static void TraverseDirectoryUsingDFS( DirectoryInfo dir, string spaces )\n",
    "{\n",
    "    \n",
    "    // Print the current number of spaces representing  \n",
    "    // the current level of depth within the DFS traversal,\n",
    "    // immeadiately followed by the Full Name of the currently specified directory\n",
    "    Console.WriteLine( spaces + dir.FullName );\n",
    "\n",
    "\n",
    "    // Invoke the GetDirectories method \n",
    "    // to store an array of a specified directory's children \n",
    "    DirectoryInfo[] children = dir.GetDirectories();\n",
    "\n",
    "\n",
    "    // Iterating For Each child in the array of children:\n",
    "    foreach( DirectoryInfo child in children )\n",
    "    {\n",
    "        \n",
    "        // Perform a recursion in the current child,\n",
    "        // Taking care to append an additional space to the current number of spaces\n",
    "        TraverseDirectoryUsingDFS( child, spaces +  \"  \" );\n",
    "\n",
    "    }\n",
    "\n",
    "}"
   ]
  },
  {
   "attachments": {},
   "cell_type": "markdown",
   "metadata": {},
   "source": [
    "<br>"
   ]
  },
  {
   "attachments": {},
   "cell_type": "markdown",
   "metadata": {},
   "source": [
    "Let's now provide an overload for the `TraverseDirectoryUsingDFS` method that takes a `directoryPath` string with which it may initiate the **DFS** traversal:"
   ]
  },
  {
   "cell_type": "code",
   "execution_count": 3,
   "metadata": {
    "dotnet_interactive": {
     "language": "csharp"
    },
    "polyglot_notebook": {
     "kernelName": "csharp"
    },
    "vscode": {
     "languageId": "polyglot-notebook"
    }
   },
   "outputs": [],
   "source": [
    "public static void TraverseDirectoryUsingDFS( string directoryPath )\n",
    "{\n",
    "\n",
    "    // Call TraverseDirectoryUsingDFS using arguments represented by \n",
    "    // a new DirectoryInfo object initialized to the specified Directory Path,\n",
    "    // along with an Empty String to bypass any spacing at the base level\n",
    "    TraverseDirectoryUsingDFS( new DirectoryInfo( directoryPath ), String.Empty );\n",
    "    \n",
    "}"
   ]
  },
  {
   "attachments": {},
   "cell_type": "markdown",
   "metadata": {},
   "source": [
    "<br>"
   ]
  },
  {
   "attachments": {},
   "cell_type": "markdown",
   "metadata": {},
   "source": [
    "Now, beginning at the *current directory level* (`./`), let's **Traverse the Directory Using DFS**:\n"
   ]
  },
  {
   "cell_type": "code",
   "execution_count": 4,
   "metadata": {
    "dotnet_interactive": {
     "language": "csharp"
    },
    "polyglot_notebook": {
     "kernelName": "csharp"
    },
    "vscode": {
     "languageId": "polyglot-notebook"
    }
   },
   "outputs": [
    {
     "name": "stdout",
     "output_type": "stream",
     "text": [
      "c:\\Users\\harry\\Dev\\projects\\Notes On C-Sharp\\17. Trees and Graphs\\\n",
      "  c:\\Users\\harry\\Dev\\projects\\Notes On C-Sharp\\17. Trees and Graphs\\Custom Implementations\n",
      "  c:\\Users\\harry\\Dev\\projects\\Notes On C-Sharp\\17. Trees and Graphs\\_img\n"
     ]
    }
   ],
   "source": [
    "TraverseDirectoryUsingDFS( @\"./\" );"
   ]
  },
  {
   "attachments": {},
   "cell_type": "markdown",
   "metadata": {},
   "source": [
    "<br>"
   ]
  },
  {
   "attachments": {},
   "cell_type": "markdown",
   "metadata": {},
   "source": [
    "<br>"
   ]
  },
  {
   "attachments": {},
   "cell_type": "markdown",
   "metadata": {},
   "source": [
    "### Breadth First Search"
   ]
  },
  {
   "attachments": {},
   "cell_type": "markdown",
   "metadata": {},
   "source": [
    "**Breadth-First Search (BFS)** is another algorithm for traversing branched data structures (like trees and graphs). The **BFS** algorithm first traverses the start node, then all its direct children, then their direct children, and so on. \n",
    "   \n",
    "This approach is also known as the **wavefront traversal**, because it looks like the waves caused by a stone thrown into a lake.  \n",
    "   \n",
    "The **BFS** algorithm is a very simple implementation of a `Queue` data structure which always first traverses the nodes that are closest to the start node, and then the more distant, and so on, until it reaches the farthest. The **BFS** algorithm is very widely used in problem solving, (e.g. for *finding the shortest path* in a labyrinth)."
   ]
  },
  {
   "attachments": {},
   "cell_type": "markdown",
   "metadata": {},
   "source": [
    "<br>"
   ]
  },
  {
   "attachments": {},
   "cell_type": "markdown",
   "metadata": {},
   "source": [
    "#### The Breadth First Search Algorithm (Implemented using a `Queue`)"
   ]
  },
  {
   "attachments": {},
   "cell_type": "markdown",
   "metadata": {},
   "source": [
    "1. $Enqueue$ the starting node in the Queue. \n",
    "2. While the Queue is not empty, repeat the following two steps: \n",
    "   - $Dequeue$ the next node from the Queue and then print it\n",
    "   - Add all children belonging to that next node in the Queue."
   ]
  },
  {
   "attachments": {},
   "cell_type": "markdown",
   "metadata": {},
   "source": [
    "<br>"
   ]
  },
  {
   "attachments": {},
   "cell_type": "markdown",
   "metadata": {},
   "source": [
    "#### Example: Traversing Storage Directories Using BFS"
   ]
  },
  {
   "attachments": {},
   "cell_type": "markdown",
   "metadata": {},
   "source": [
    "Let's define a method similar to the one defined above which can do roughly the same task using **Breadth First Search** traversal instead. "
   ]
  },
  {
   "attachments": {},
   "cell_type": "markdown",
   "metadata": {},
   "source": [
    "<br>"
   ]
  },
  {
   "attachments": {},
   "cell_type": "markdown",
   "metadata": {},
   "source": [
    "Below, we define a custom `TraverseDirectoryUsingBFS` method which iteratively traverses a file directory by implementing a **Breadth First Search** traversal of children associated with a `DirectoryInfo` object that is initialized using a specified `directoryPath` string:"
   ]
  },
  {
   "cell_type": "code",
   "execution_count": 5,
   "metadata": {
    "dotnet_interactive": {
     "language": "csharp"
    },
    "polyglot_notebook": {
     "kernelName": "csharp"
    },
    "vscode": {
     "languageId": "polyglot-notebook"
    }
   },
   "outputs": [],
   "source": [
    "public static void TraverseDirectoryUsingBFS( string directoryPath )\n",
    "{\n",
    "\n",
    "    // Allocate a new Directory Info Queue to store the Visited Directories\n",
    "    Queue<DirectoryInfo> visitedDirectories = new Queue<DirectoryInfo>();\n",
    "\n",
    "\n",
    "    // Enqueue the start node in the Queue\n",
    "    visitedDirectories.Enqueue( new DirectoryInfo( directoryPath) );\n",
    "\n",
    "\n",
    "    // While the Queue is not empty:\n",
    "    while( visitedDirectories.Count > 0 )\n",
    "    {\n",
    "        \n",
    "        // Dequeue the next node from the Queue\n",
    "        DirectoryInfo currentDirectory = visitedDirectories.Dequeue();\n",
    "\n",
    "\n",
    "        // Print it\n",
    "        Console.WriteLine( currentDirectory.FullName );\n",
    "\n",
    "        \n",
    "        // Add all children belonging to that next node in the Queue:\n",
    "        \n",
    "        //    Invoke the GetDirectories method \n",
    "        //    to store an array of the current directory's children\n",
    "        DirectoryInfo[] children = currentDirectory.GetDirectories();   \n",
    "\n",
    "        //   Iterating For Each child in the array of children\n",
    "        foreach( DirectoryInfo child in children )\n",
    "        {\n",
    "\n",
    "            // Enqueue the current child to the Queue\n",
    "            visitedDirectories.Enqueue( child );\n",
    "\n",
    "        }\n",
    "\n",
    "    }\n",
    "\n",
    "}"
   ]
  },
  {
   "attachments": {},
   "cell_type": "markdown",
   "metadata": {},
   "source": [
    "<br>"
   ]
  },
  {
   "attachments": {},
   "cell_type": "markdown",
   "metadata": {},
   "source": [
    "Observe that, since this implementation is iterative, rather than recursive, our output results as a *flat representation* which is not indented with leading spaces that suggest the current depth, as was the case with the **DFS** implementation. "
   ]
  },
  {
   "cell_type": "code",
   "execution_count": 6,
   "metadata": {
    "dotnet_interactive": {
     "language": "csharp"
    },
    "polyglot_notebook": {
     "kernelName": "csharp"
    },
    "vscode": {
     "languageId": "polyglot-notebook"
    }
   },
   "outputs": [
    {
     "name": "stdout",
     "output_type": "stream",
     "text": [
      "c:\\Users\\harry\\Dev\\projects\\Notes On C-Sharp\\17. Trees and Graphs\\\n",
      "c:\\Users\\harry\\Dev\\projects\\Notes On C-Sharp\\17. Trees and Graphs\\Custom Implementations\n",
      "c:\\Users\\harry\\Dev\\projects\\Notes On C-Sharp\\17. Trees and Graphs\\_img\n"
     ]
    }
   ],
   "source": [
    "TraverseDirectoryUsingBFS(@\"./\")"
   ]
  }
 ],
 "metadata": {
  "kernelspec": {
   "display_name": ".NET (C#)",
   "language": "C#",
   "name": ".net-csharp"
  },
  "language_info": {
   "file_extension": ".cs",
   "mimetype": "text/x-csharp",
   "name": "C#",
   "pygments_lexer": "csharp",
   "version": "8.0"
  },
  "orig_nbformat": 4,
  "polyglot_notebook": {
   "kernelInfo": {
    "defaultKernelName": "csharp",
    "items": [
     {
      "aliases": [],
      "name": "csharp"
     }
    ]
   }
  }
 },
 "nbformat": 4,
 "nbformat_minor": 2
}
